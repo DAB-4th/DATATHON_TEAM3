{
 "cells": [
  {
   "cell_type": "code",
   "execution_count": 1,
   "id": "714f09fd-567d-4148-ae0f-72e9a4f70225",
   "metadata": {},
   "outputs": [],
   "source": [
    "import pandas as pd\n",
    "import requests\n",
    "import time\n",
    "from datetime import datetime"
   ]
  },
  {
   "cell_type": "code",
   "execution_count": 2,
   "id": "ef9396c2-a778-4ecb-abf8-02c747b11d5a",
   "metadata": {},
   "outputs": [],
   "source": [
    "df = pd.read_csv(\"character_level_2024-10-17.csv\", encoding='utf-8') "
   ]
  },
  {
   "cell_type": "code",
   "execution_count": 4,
   "id": "d99b0627-1620-4172-9a22-c976465f43be",
   "metadata": {},
   "outputs": [
    {
     "name": "stdout",
     "output_type": "stream",
     "text": [
      "ocid                                0\n",
      "ranking                             0\n",
      "character_name                      0\n",
      "world_name                          0\n",
      "character_gender                34978\n",
      "character_class                 34978\n",
      "character_class_level           34978\n",
      "character_level                 34978\n",
      "character_exp                   34978\n",
      "character_exp_rate              34978\n",
      "character_guild_name           171482\n",
      "character_date_create           97955\n",
      "access_flag                     34978\n",
      "liberation_quest_clear_flag     34978\n",
      "popularity                      34978\n",
      "arcane_sum                          0\n",
      "authentic_sum                       0\n",
      "set_absorlab_count                  0\n",
      "set_lubatiss_count                  0\n",
      "set_arcane_count                    0\n",
      "set_eternal_count                   0\n",
      "dojang_best_floor               34979\n",
      "union_level                     35013\n",
      "union_artifact_level            48686\n",
      "union_artifact_exp              48686\n",
      "union_artifact_point            48686\n",
      "dtype: int64\n"
     ]
    }
   ],
   "source": [
    "print(df.isnull().sum())"
   ]
  },
  {
   "cell_type": "code",
   "execution_count": 5,
   "id": "23c08300-4e5c-4abc-b591-31389c881027",
   "metadata": {
    "scrolled": true
   },
   "outputs": [
    {
     "name": "stdout",
     "output_type": "stream",
     "text": [
      "character_guild_name           0.292291\n",
      "character_date_create          0.166964\n",
      "union_artifact_point           0.082985\n",
      "union_artifact_exp             0.082985\n",
      "union_artifact_level           0.082985\n",
      "union_level                    0.059680\n",
      "dojang_best_floor              0.059622\n",
      "popularity                     0.059620\n",
      "access_flag                    0.059620\n",
      "liberation_quest_clear_flag    0.059620\n",
      "character_exp_rate             0.059620\n",
      "character_exp                  0.059620\n",
      "character_level                0.059620\n",
      "character_class_level          0.059620\n",
      "character_class                0.059620\n",
      "character_gender               0.059620\n",
      "ranking                        0.000000\n",
      "arcane_sum                     0.000000\n",
      "authentic_sum                  0.000000\n",
      "set_absorlab_count             0.000000\n",
      "set_lubatiss_count             0.000000\n",
      "set_arcane_count               0.000000\n",
      "set_eternal_count              0.000000\n",
      "world_name                     0.000000\n",
      "character_name                 0.000000\n",
      "ocid                           0.000000\n",
      "dtype: float64\n"
     ]
    }
   ],
   "source": [
    "print(df.isnull().mean().sort_values(ascending=False))"
   ]
  },
  {
   "cell_type": "code",
   "execution_count": 6,
   "id": "6ba0b25d-3648-4f3b-aa6c-681175aa44e7",
   "metadata": {},
   "outputs": [
    {
     "name": "stdout",
     "output_type": "stream",
     "text": [
      "전체 행 수: 586682\n"
     ]
    }
   ],
   "source": [
    "print(f\"전체 행 수: {len(df)}\")"
   ]
  },
  {
   "cell_type": "code",
   "execution_count": 3,
   "id": "10cfd767-1efd-4e20-9209-9e23e1da2969",
   "metadata": {},
   "outputs": [
    {
     "name": "stdout",
     "output_type": "stream",
     "text": [
      "남은 행 수: 311211\n"
     ]
    },
    {
     "data": {
      "text/html": [
       "<div>\n",
       "<style scoped>\n",
       "    .dataframe tbody tr th:only-of-type {\n",
       "        vertical-align: middle;\n",
       "    }\n",
       "\n",
       "    .dataframe tbody tr th {\n",
       "        vertical-align: top;\n",
       "    }\n",
       "\n",
       "    .dataframe thead th {\n",
       "        text-align: right;\n",
       "    }\n",
       "</style>\n",
       "<table border=\"1\" class=\"dataframe\">\n",
       "  <thead>\n",
       "    <tr style=\"text-align: right;\">\n",
       "      <th></th>\n",
       "      <th>ocid</th>\n",
       "      <th>ranking</th>\n",
       "      <th>character_name</th>\n",
       "      <th>world_name</th>\n",
       "      <th>character_gender</th>\n",
       "      <th>character_class</th>\n",
       "      <th>character_class_level</th>\n",
       "      <th>character_level</th>\n",
       "      <th>character_exp</th>\n",
       "      <th>character_exp_rate</th>\n",
       "      <th>...</th>\n",
       "      <th>authentic_sum</th>\n",
       "      <th>set_absorlab_count</th>\n",
       "      <th>set_lubatiss_count</th>\n",
       "      <th>set_arcane_count</th>\n",
       "      <th>set_eternal_count</th>\n",
       "      <th>dojang_best_floor</th>\n",
       "      <th>union_level</th>\n",
       "      <th>union_artifact_level</th>\n",
       "      <th>union_artifact_exp</th>\n",
       "      <th>union_artifact_point</th>\n",
       "    </tr>\n",
       "  </thead>\n",
       "  <tbody>\n",
       "    <tr>\n",
       "      <th>0</th>\n",
       "      <td>4909d2b63165a45a284d0dae4478885d</td>\n",
       "      <td>3543</td>\n",
       "      <td>꾸망</td>\n",
       "      <td>스카니아</td>\n",
       "      <td>여</td>\n",
       "      <td>아크메이지(썬,콜)</td>\n",
       "      <td>6.0</td>\n",
       "      <td>290.0</td>\n",
       "      <td>1.196775e+14</td>\n",
       "      <td>40.664</td>\n",
       "      <td>...</td>\n",
       "      <td>70</td>\n",
       "      <td>0</td>\n",
       "      <td>0</td>\n",
       "      <td>5</td>\n",
       "      <td>4</td>\n",
       "      <td>82.0</td>\n",
       "      <td>8974.0</td>\n",
       "      <td>52.0</td>\n",
       "      <td>9237.0</td>\n",
       "      <td>16580.0</td>\n",
       "    </tr>\n",
       "    <tr>\n",
       "      <th>1</th>\n",
       "      <td>356360924b8c044e58eaaf862766c8daefe8d04e6d233b...</td>\n",
       "      <td>8190</td>\n",
       "      <td>아란마하콤보</td>\n",
       "      <td>엘리시움</td>\n",
       "      <td>남</td>\n",
       "      <td>아란</td>\n",
       "      <td>6.0</td>\n",
       "      <td>289.0</td>\n",
       "      <td>1.157394e+13</td>\n",
       "      <td>7.944</td>\n",
       "      <td>...</td>\n",
       "      <td>66</td>\n",
       "      <td>5</td>\n",
       "      <td>2</td>\n",
       "      <td>1</td>\n",
       "      <td>0</td>\n",
       "      <td>60.0</td>\n",
       "      <td>9745.0</td>\n",
       "      <td>47.0</td>\n",
       "      <td>25735.0</td>\n",
       "      <td>16400.0</td>\n",
       "    </tr>\n",
       "    <tr>\n",
       "      <th>2</th>\n",
       "      <td>f7aaaa3ae22c47720c70cac37d7574e0</td>\n",
       "      <td>6406</td>\n",
       "      <td>에피파니</td>\n",
       "      <td>스카니아</td>\n",
       "      <td>남</td>\n",
       "      <td>듀얼블레이더</td>\n",
       "      <td>6.0</td>\n",
       "      <td>289.0</td>\n",
       "      <td>1.084834e+14</td>\n",
       "      <td>74.459</td>\n",
       "      <td>...</td>\n",
       "      <td>63</td>\n",
       "      <td>0</td>\n",
       "      <td>0</td>\n",
       "      <td>0</td>\n",
       "      <td>1</td>\n",
       "      <td>63.0</td>\n",
       "      <td>8987.0</td>\n",
       "      <td>49.0</td>\n",
       "      <td>13650.0</td>\n",
       "      <td>16800.0</td>\n",
       "    </tr>\n",
       "    <tr>\n",
       "      <th>3</th>\n",
       "      <td>987bfae423b5a6d217bc75116042200c</td>\n",
       "      <td>1144</td>\n",
       "      <td>날개</td>\n",
       "      <td>크로아</td>\n",
       "      <td>남</td>\n",
       "      <td>나이트로드</td>\n",
       "      <td>6.0</td>\n",
       "      <td>291.0</td>\n",
       "      <td>1.757344e+14</td>\n",
       "      <td>54.283</td>\n",
       "      <td>...</td>\n",
       "      <td>58</td>\n",
       "      <td>0</td>\n",
       "      <td>4</td>\n",
       "      <td>5</td>\n",
       "      <td>1</td>\n",
       "      <td>68.0</td>\n",
       "      <td>9243.0</td>\n",
       "      <td>49.0</td>\n",
       "      <td>11385.0</td>\n",
       "      <td>16800.0</td>\n",
       "    </tr>\n",
       "    <tr>\n",
       "      <th>4</th>\n",
       "      <td>dc3038c85c41146a9537a3f7c11369a7</td>\n",
       "      <td>6192</td>\n",
       "      <td>사클</td>\n",
       "      <td>스카니아</td>\n",
       "      <td>여</td>\n",
       "      <td>윈드브레이커</td>\n",
       "      <td>6.0</td>\n",
       "      <td>289.0</td>\n",
       "      <td>1.232270e+14</td>\n",
       "      <td>84.578</td>\n",
       "      <td>...</td>\n",
       "      <td>66</td>\n",
       "      <td>0</td>\n",
       "      <td>4</td>\n",
       "      <td>5</td>\n",
       "      <td>1</td>\n",
       "      <td>89.0</td>\n",
       "      <td>9164.0</td>\n",
       "      <td>51.0</td>\n",
       "      <td>39552.0</td>\n",
       "      <td>17300.0</td>\n",
       "    </tr>\n",
       "  </tbody>\n",
       "</table>\n",
       "<p>5 rows × 26 columns</p>\n",
       "</div>"
      ],
      "text/plain": [
       "                                                ocid  ranking character_name  \\\n",
       "0                   4909d2b63165a45a284d0dae4478885d     3543             꾸망   \n",
       "1  356360924b8c044e58eaaf862766c8daefe8d04e6d233b...     8190         아란마하콤보   \n",
       "2                   f7aaaa3ae22c47720c70cac37d7574e0     6406           에피파니   \n",
       "3                   987bfae423b5a6d217bc75116042200c     1144             날개   \n",
       "4                   dc3038c85c41146a9537a3f7c11369a7     6192             사클   \n",
       "\n",
       "  world_name character_gender character_class  character_class_level  \\\n",
       "0       스카니아                여      아크메이지(썬,콜)                    6.0   \n",
       "1       엘리시움                남              아란                    6.0   \n",
       "2       스카니아                남          듀얼블레이더                    6.0   \n",
       "3        크로아                남           나이트로드                    6.0   \n",
       "4       스카니아                여          윈드브레이커                    6.0   \n",
       "\n",
       "   character_level  character_exp  character_exp_rate  ... authentic_sum  \\\n",
       "0            290.0   1.196775e+14              40.664  ...            70   \n",
       "1            289.0   1.157394e+13               7.944  ...            66   \n",
       "2            289.0   1.084834e+14              74.459  ...            63   \n",
       "3            291.0   1.757344e+14              54.283  ...            58   \n",
       "4            289.0   1.232270e+14              84.578  ...            66   \n",
       "\n",
       "  set_absorlab_count set_lubatiss_count set_arcane_count  set_eternal_count  \\\n",
       "0                  0                  0                5                  4   \n",
       "1                  5                  2                1                  0   \n",
       "2                  0                  0                0                  1   \n",
       "3                  0                  4                5                  1   \n",
       "4                  0                  4                5                  1   \n",
       "\n",
       "   dojang_best_floor  union_level  union_artifact_level  union_artifact_exp  \\\n",
       "0               82.0       8974.0                  52.0              9237.0   \n",
       "1               60.0       9745.0                  47.0             25735.0   \n",
       "2               63.0       8987.0                  49.0             13650.0   \n",
       "3               68.0       9243.0                  49.0             11385.0   \n",
       "4               89.0       9164.0                  51.0             39552.0   \n",
       "\n",
       "   union_artifact_point  \n",
       "0               16580.0  \n",
       "1               16400.0  \n",
       "2               16800.0  \n",
       "3               16800.0  \n",
       "4               17300.0  \n",
       "\n",
       "[5 rows x 26 columns]"
      ]
     },
     "execution_count": 3,
     "metadata": {},
     "output_type": "execute_result"
    }
   ],
   "source": [
    "# character_level이 270인 행만 남기기\n",
    "df_270 = df[df['character_level'] >= 270]\n",
    "# 결과 확인\n",
    "print(f\"남은 행 수: {len(df_270)}\")\n",
    "df_270.head()\n"
   ]
  },
  {
   "cell_type": "code",
   "execution_count": 7,
   "id": "13682e42-241c-4198-b73e-0b9841290f23",
   "metadata": {},
   "outputs": [
    {
     "name": "stdout",
     "output_type": "stream",
     "text": [
      "ocid                               0\n",
      "ranking                            0\n",
      "character_name                     0\n",
      "world_name                         0\n",
      "character_gender                   0\n",
      "character_class                    0\n",
      "character_class_level              0\n",
      "character_level                    0\n",
      "character_exp                      0\n",
      "character_exp_rate                 0\n",
      "character_guild_name           49553\n",
      "character_date_create          23545\n",
      "access_flag                        0\n",
      "liberation_quest_clear_flag        0\n",
      "popularity                         0\n",
      "arcane_sum                         0\n",
      "authentic_sum                      0\n",
      "set_absorlab_count                 0\n",
      "set_lubatiss_count                 0\n",
      "set_arcane_count                   0\n",
      "set_eternal_count                  0\n",
      "dojang_best_floor                  1\n",
      "union_level                        3\n",
      "union_artifact_level            3948\n",
      "union_artifact_exp              3948\n",
      "union_artifact_point            3948\n",
      "dtype: int64\n"
     ]
    }
   ],
   "source": [
    "print(df_270.isnull().sum())"
   ]
  },
  {
   "cell_type": "code",
   "execution_count": 10,
   "id": "f5c5bbf0-5dfb-4ba4-abaf-c717676de624",
   "metadata": {},
   "outputs": [
    {
     "name": "stdout",
     "output_type": "stream",
     "text": [
      "🔍 10/17 이후 완전히 사라진 유저 수: 267\n"
     ]
    }
   ],
   "source": [
    "import pandas as pd\n",
    "\n",
    "# 날짜 리스트\n",
    "date_list = [\n",
    "    \"2024-10-17\", \"2024-10-24\", \"2024-10-31\",\n",
    "    \"2024-11-07\", \"2024-11-14\", \"2024-11-21\",\n",
    "    \"2024-11-28\", \"2024-12-05\", \"2024-12-12\", \"2024-12-19\"\n",
    "]\n",
    "\n",
    "# 1. 기준일 ocid 확보\n",
    "df_base = pd.read_csv(\"character_level_2024-10-17.csv\")\n",
    "ocid_1017 = set(df_base[\"ocid\"])\n",
    "df_merged = None\n",
    "\n",
    "# 2. 주차별 파일 병합\n",
    "for date in date_list:\n",
    "    tag = date[-5:].replace(\"-\", \"\")  # 예: 1017\n",
    "    file_path = f\"character_level_{date}.csv\"\n",
    "    df = pd.read_csv(file_path)\n",
    "\n",
    "    df = df[[\"ocid\", \"access_flag\", \"character_exp\"]].copy()\n",
    "    df.rename(columns={\n",
    "        \"access_flag\": f\"access_{tag}\",\n",
    "        \"character_exp\": f\"exp_{tag}\"\n",
    "    }, inplace=True)\n",
    "\n",
    "    if df_merged is None:\n",
    "        df_merged = df\n",
    "    else:\n",
    "        df_merged = pd.merge(df_merged, df, on=\"ocid\", how=\"outer\")\n",
    "\n",
    "# 3. 기준 ocid만 필터링\n",
    "df_merged = df_merged[df_merged[\"ocid\"].isin(ocid_1017)].copy()\n",
    "\n",
    "# 4. event 계산 함수\n",
    "def define_event(row):\n",
    "    access_cols = [f\"access_{d[-5:].replace('-', '')}\" for d in date_list]\n",
    "    exp_cols = [f\"exp_{d[-5:].replace('-', '')}\" for d in date_list]\n",
    "\n",
    "    access_vals = row[access_cols].tolist()\n",
    "    exp_vals = row[exp_cols].tolist()\n",
    "\n",
    "    for i in range(len(access_vals) - 1):\n",
    "        if access_vals[i] == False and access_vals[i+1] == False:\n",
    "            if all(v is False for v in access_vals[i+2:]):\n",
    "                return 1\n",
    "\n",
    "    if all(x == exp_vals[0] for x in exp_vals):\n",
    "        return 1\n",
    "\n",
    "    return 0\n",
    "\n",
    "# 5. duration 계산 함수\n",
    "def calculate_duration(row):\n",
    "    exp_cols = [f\"exp_{d[-5:].replace('-', '')}\" for d in date_list]\n",
    "    exps = row[exp_cols].tolist()\n",
    "\n",
    "    duration = 1\n",
    "    for i in range(1, len(exps)):\n",
    "        if exps[i] != exps[i-1]:\n",
    "            duration += 1\n",
    "        else:\n",
    "            break\n",
    "    return duration\n",
    "\n",
    "# 6. 적용\n",
    "df_merged[\"event\"] = df_merged.apply(define_event, axis=1)\n",
    "df_merged[\"duration\"] = df_merged.apply(calculate_duration, axis=1)\n",
    "\n",
    "# 7. 결과 저장\n",
    "result_df = df_merged[[\"ocid\", \"event\", \"duration\"]]\n",
    "result_df.to_csv(\"survival_result.csv\", index=False)\n",
    "\n",
    "# 🔍 추가: 10/17 이후 단 한 번도 등장하지 않은 유저 찾기\n",
    "ocid_later = set()\n",
    "for date in date_list[1:]:  # 10/24~12/19\n",
    "    df = pd.read_csv(f\"character_level_{date}.csv\")\n",
    "    ocid_later.update(df[\"ocid\"].unique())\n",
    "\n",
    "only_1017_ocids = ocid_1017 - ocid_later\n",
    "print(f\"🔍 10/17 이후 완전히 사라진 유저 수: {len(only_1017_ocids)}\")\n",
    "\n",
    "# 선택적으로 따로 저장\n",
    "pd.DataFrame({\"ocid\": list(only_1017_ocids)}).to_csv(\"only_1017_ocids.csv\", index=False)\n"
   ]
  },
  {
   "cell_type": "code",
   "execution_count": 8,
   "id": "2aaf57eb-97b3-44a1-a526-fc40a0487b4c",
   "metadata": {},
   "outputs": [],
   "source": [
    "df_270.to_csv(\"character_level_2024-10-17.csv\", index=False)"
   ]
  },
  {
   "cell_type": "code",
   "execution_count": 11,
   "id": "6e83fe97-6396-437d-b009-58b1fe0d4e20",
   "metadata": {},
   "outputs": [
    {
     "name": "stdout",
     "output_type": "stream",
     "text": [
      "🔍 OCID 11a0476903f4c67e798b027c683beb5b 존재 여부 추적:\n",
      "  2024-10-24: ❌ 없음\n",
      "  2024-10-31: ❌ 없음\n",
      "  2024-11-07: ❌ 없음\n",
      "  2024-11-14: ❌ 없음\n",
      "  2024-11-21: ❌ 없음\n",
      "  2024-11-28: ❌ 없음\n",
      "  2024-12-05: ❌ 없음\n",
      "  2024-12-12: ❌ 없음\n",
      "  2024-12-19: ❌ 없음\n",
      "🔍 OCID 0a8b7ed01025d8898e3a96447b0b1bc9 존재 여부 추적:\n",
      "  2024-10-24: ❌ 없음\n",
      "  2024-10-31: ❌ 없음\n",
      "  2024-11-07: ❌ 없음\n",
      "  2024-11-14: ❌ 없음\n",
      "  2024-11-21: ❌ 없음\n",
      "  2024-11-28: ❌ 없음\n",
      "  2024-12-05: ❌ 없음\n",
      "  2024-12-12: ❌ 없음\n",
      "  2024-12-19: ❌ 없음\n",
      "🔍 OCID d48f17257465d68f51bf25bd301ea393 존재 여부 추적:\n",
      "  2024-10-24: ❌ 없음\n",
      "  2024-10-31: ❌ 없음\n",
      "  2024-11-07: ❌ 없음\n",
      "  2024-11-14: ❌ 없음\n",
      "  2024-11-21: ❌ 없음\n",
      "  2024-11-28: ❌ 없음\n",
      "  2024-12-05: ❌ 없음\n",
      "  2024-12-12: ❌ 없음\n",
      "  2024-12-19: ❌ 없음\n",
      "🔍 OCID 09fe715758f3f0a4298876d30db06a78 존재 여부 추적:\n",
      "  2024-10-24: ❌ 없음\n",
      "  2024-10-31: ❌ 없음\n",
      "  2024-11-07: ❌ 없음\n",
      "  2024-11-14: ❌ 없음\n",
      "  2024-11-21: ❌ 없음\n",
      "  2024-11-28: ❌ 없음\n",
      "  2024-12-05: ❌ 없음\n",
      "  2024-12-12: ❌ 없음\n",
      "  2024-12-19: ❌ 없음\n",
      "🔍 OCID ac4857b3f0caf5a20cab1ead94a9c651efe8d04e6d233bd35cf2fabdeb93fb0d 존재 여부 추적:\n",
      "  2024-10-24: ❌ 없음\n",
      "  2024-10-31: ❌ 없음\n",
      "  2024-11-07: ❌ 없음\n",
      "  2024-11-14: ❌ 없음\n",
      "  2024-11-21: ❌ 없음\n",
      "  2024-11-28: ❌ 없음\n",
      "  2024-12-05: ❌ 없음\n",
      "  2024-12-12: ❌ 없음\n",
      "  2024-12-19: ❌ 없음\n"
     ]
    }
   ],
   "source": [
    "# 10/17에 있었는데 이후 파일 전부에서 안 나오는 OCID 목록 보기\n",
    "for ocid in list(only_1017_ocids)[:5]:  # 예시로 5개만\n",
    "    print(f\"🔍 OCID {ocid} 존재 여부 추적:\")\n",
    "    for date in date_list[1:]:\n",
    "        df_temp = pd.read_csv(f\"character_level_{date}.csv\")\n",
    "        exists = ocid in df_temp[\"ocid\"].values\n",
    "        print(f\"  {date}: {'✅ 있음' if exists else '❌ 없음'}\")\n"
   ]
  },
  {
   "cell_type": "code",
   "execution_count": 12,
   "id": "e656987a-69b3-488f-848a-44f4c15a2614",
   "metadata": {},
   "outputs": [],
   "source": [
    "import pandas as pd\n",
    "\n",
    "# 1. 파일 불러오기\n",
    "df_original = pd.read_csv(\"character_level_2024-10-17.csv\")\n",
    "df_survival = pd.read_csv(\"survival_result.csv\")\n",
    "\n",
    "# 2. ocid 기준으로 병합 (원본 기준 유지)\n",
    "df_combined = pd.merge(df_original, df_survival, on=\"ocid\", how=\"left\")\n",
    "\n",
    "# 3. 결과 저장\n",
    "df_combined.to_csv(\"character_level_2024-10-17_with_survival.csv\", index=False)\n"
   ]
  },
  {
   "cell_type": "code",
   "execution_count": 13,
   "id": "b6819c25-123c-4cf5-a294-1e1bc5051373",
   "metadata": {},
   "outputs": [],
   "source": [
    "df=pd.read_csv(\"character_level_2024-10-17_with_survival.csv\", encoding='utf-8') "
   ]
  },
  {
   "cell_type": "code",
   "execution_count": 14,
   "id": "a809d23e-f581-4063-a622-2bbaad983baf",
   "metadata": {},
   "outputs": [
    {
     "name": "stdout",
     "output_type": "stream",
     "text": [
      "ocid                               0\n",
      "ranking                            0\n",
      "character_name                     0\n",
      "world_name                         0\n",
      "character_gender                   0\n",
      "character_class                    0\n",
      "character_class_level              0\n",
      "character_level                    0\n",
      "character_exp                      0\n",
      "character_exp_rate                 0\n",
      "character_guild_name           49553\n",
      "character_date_create          23545\n",
      "access_flag                        0\n",
      "liberation_quest_clear_flag        0\n",
      "popularity                         0\n",
      "arcane_sum                         0\n",
      "authentic_sum                      0\n",
      "set_absorlab_count                 0\n",
      "set_lubatiss_count                 0\n",
      "set_arcane_count                   0\n",
      "set_eternal_count                  0\n",
      "dojang_best_floor                  1\n",
      "union_level                        3\n",
      "union_artifact_level            3948\n",
      "union_artifact_exp              3948\n",
      "union_artifact_point            3948\n",
      "event                              0\n",
      "duration                           0\n",
      "dtype: int64\n"
     ]
    }
   ],
   "source": [
    "print(df.isnull().sum())"
   ]
  },
  {
   "cell_type": "code",
   "execution_count": 15,
   "id": "db2ccd1a-ebeb-4230-9145-21c113a7119b",
   "metadata": {},
   "outputs": [],
   "source": [
    "# 10/17 이후 완전히 사라진 ocid 목록\n",
    "df_survival = pd.read_csv(\"character_level_2024-10-17_with_survival.csv\")\n",
    "only_1017 = pd.read_csv(\"only_1017_ocids.csv\")\n",
    "\n",
    "# 제외 대상 플래그 지정\n",
    "df_survival[\"drop_flag\"] = df_survival[\"ocid\"].isin(only_1017[\"ocid\"])\n",
    "\n",
    "# 제외하고 새로운 분석용 데이터셋 생성\n",
    "df_survival_clean = df_survival[~df_survival[\"drop_flag\"]].copy()\n",
    "df_survival_clean.drop(columns=[\"drop_flag\"], inplace=True)\n",
    "\n",
    "# 저장\n",
    "df_survival_clean.to_csv(\"survival_result_cleaned.csv\", index=False)"
   ]
  },
  {
   "cell_type": "code",
   "execution_count": 16,
   "id": "db4ec233-f908-4999-9dc6-f9778746de00",
   "metadata": {},
   "outputs": [],
   "source": [
    "df2=pd.read_csv(\"survival_result_cleaned.csv\", encoding='utf-8') "
   ]
  },
  {
   "cell_type": "code",
   "execution_count": 28,
   "id": "780d1ede-dc15-483b-9e7f-fdaa763a4fd5",
   "metadata": {},
   "outputs": [
    {
     "name": "stdout",
     "output_type": "stream",
     "text": [
      "ocid                               0\n",
      "ranking                            0\n",
      "character_name                     0\n",
      "world_name                         0\n",
      "character_gender                   0\n",
      "character_class                    0\n",
      "character_class_level              0\n",
      "character_level                    0\n",
      "character_exp                      0\n",
      "character_exp_rate                 0\n",
      "character_guild_name           49510\n",
      "character_date_create          23541\n",
      "access_flag                        0\n",
      "liberation_quest_clear_flag        0\n",
      "popularity                         0\n",
      "arcane_sum                         0\n",
      "authentic_sum                      0\n",
      "set_absorlab_count                 0\n",
      "set_lubatiss_count                 0\n",
      "set_arcane_count                   0\n",
      "set_eternal_count                  0\n",
      "dojang_best_floor                  1\n",
      "union_level                        3\n",
      "union_artifact_level            3947\n",
      "union_artifact_exp              3947\n",
      "union_artifact_point            3947\n",
      "event                              0\n",
      "duration                           0\n",
      "exp_1017                           0\n",
      "access_1017                        0\n",
      "exp_1024                         119\n",
      "access_1024                      113\n",
      "exp_1031                         158\n",
      "access_1031                      150\n",
      "exp_1107                         166\n",
      "access_1107                      166\n",
      "exp_1114                         203\n",
      "access_1114                      203\n",
      "exp_1121                         413\n",
      "access_1121                      413\n",
      "exp_1128                         491\n",
      "access_1128                      491\n",
      "exp_1205                         360\n",
      "access_1205                      359\n",
      "exp_1212                         402\n",
      "access_1212                      400\n",
      "exp_1219                         389\n",
      "access_1219                      381\n",
      "dtype: int64\n"
     ]
    }
   ],
   "source": [
    "print(df3.isnull().sum())"
   ]
  },
  {
   "cell_type": "code",
   "execution_count": 25,
   "id": "0153d8aa-c3f9-408f-b059-310aaeb4290a",
   "metadata": {},
   "outputs": [
    {
     "name": "stdout",
     "output_type": "stream",
     "text": [
      "전체 행 수: 313257\n",
      "전체 행 수: 312990\n",
      "전체 행 수: 312990\n"
     ]
    }
   ],
   "source": [
    "print(f\"전체 행 수: {len(df)}\")\n",
    "print(f\"전체 행 수: {len(df2)}\")\n",
    "print(f\"전체 행 수: {len(df3)}\")"
   ]
  },
  {
   "cell_type": "code",
   "execution_count": 23,
   "id": "5baad8d6-5f0e-4536-b279-1cf5e75e0cc2",
   "metadata": {},
   "outputs": [],
   "source": [
    "import pandas as pd\n",
    "import os\n",
    "\n",
    "# 날짜 리스트\n",
    "date_list = [\n",
    "    \"2024-10-17\", \"2024-10-24\", \"2024-10-31\",\n",
    "    \"2024-11-07\", \"2024-11-14\", \"2024-11-21\",\n",
    "    \"2024-11-28\", \"2024-12-05\", \"2024-12-12\", \"2024-12-19\"\n",
    "]\n",
    "\n",
    "# 기본 베이스: survival_result_cleaned\n",
    "df_base = pd.read_csv(\"survival_result_cleaned.csv\")\n",
    "\n",
    "# 날짜별 경험치, access_flag 붙이기\n",
    "for date in date_list:\n",
    "    tag = date[-5:].replace(\"-\", \"\")  # 예: \"10-17\" → \"1017\"\n",
    "    file_path = f\"character_level_{date}.csv\"\n",
    "\n",
    "    if os.path.exists(file_path):\n",
    "        df_temp = pd.read_csv(file_path, usecols=[\"ocid\", \"character_exp\", \"access_flag\"])\n",
    "        \n",
    "        # 🔧 ocid 기준 중복 제거 (첫 번째 행만 사용)\n",
    "        df_temp = df_temp.drop_duplicates(subset=\"ocid\")\n",
    "\n",
    "        # 컬럼 이름 변경\n",
    "        df_temp.rename(columns={\n",
    "            \"character_exp\": f\"exp_{tag}\",\n",
    "            \"access_flag\": f\"access_{tag}\"\n",
    "        }, inplace=True)\n",
    "\n",
    "        # 병합\n",
    "        df_base = pd.merge(df_base, df_temp, on=\"ocid\", how=\"left\")\n",
    "    else:\n",
    "        # 파일 없으면 빈 칼럼 추가\n",
    "        df_base[f\"exp_{tag}\"] = None\n",
    "        df_base[f\"access_{tag}\"] = None\n",
    "\n",
    "# 저장\n",
    "df_base.to_csv(\"survival_result_with_exp_access.csv\", index=False)\n"
   ]
  },
  {
   "cell_type": "code",
   "execution_count": 27,
   "id": "2d031f0f-bcd3-4db5-8225-a9f7b7d91a55",
   "metadata": {},
   "outputs": [],
   "source": [
    "df3=pd.read_csv(\"survival_result_with_exp_access.csv\", encoding='utf-8',low_memory=False) "
   ]
  },
  {
   "cell_type": "code",
   "execution_count": 26,
   "id": "d3688e33-4947-4313-9460-710dd420abf1",
   "metadata": {},
   "outputs": [
    {
     "name": "stdout",
     "output_type": "stream",
     "text": [
      "<class 'pandas.core.frame.DataFrame'>\n",
      "RangeIndex: 312990 entries, 0 to 312989\n",
      "Data columns (total 48 columns):\n",
      " #   Column                       Non-Null Count   Dtype  \n",
      "---  ------                       --------------   -----  \n",
      " 0   ocid                         312990 non-null  object \n",
      " 1   ranking                      312990 non-null  int64  \n",
      " 2   character_name               312990 non-null  object \n",
      " 3   world_name                   312990 non-null  object \n",
      " 4   character_gender             312990 non-null  object \n",
      " 5   character_class              312990 non-null  object \n",
      " 6   character_class_level        312990 non-null  float64\n",
      " 7   character_level              312990 non-null  float64\n",
      " 8   character_exp                312990 non-null  float64\n",
      " 9   character_exp_rate           312990 non-null  float64\n",
      " 10  character_guild_name         263480 non-null  object \n",
      " 11  character_date_create        289449 non-null  object \n",
      " 12  access_flag                  312990 non-null  bool   \n",
      " 13  liberation_quest_clear_flag  312990 non-null  bool   \n",
      " 14  popularity                   312990 non-null  float64\n",
      " 15  arcane_sum                   312990 non-null  int64  \n",
      " 16  authentic_sum                312990 non-null  int64  \n",
      " 17  set_absorlab_count           312990 non-null  int64  \n",
      " 18  set_lubatiss_count           312990 non-null  int64  \n",
      " 19  set_arcane_count             312990 non-null  int64  \n",
      " 20  set_eternal_count            312990 non-null  int64  \n",
      " 21  dojang_best_floor            312989 non-null  float64\n",
      " 22  union_level                  312987 non-null  float64\n",
      " 23  union_artifact_level         309043 non-null  float64\n",
      " 24  union_artifact_exp           309043 non-null  float64\n",
      " 25  union_artifact_point         309043 non-null  float64\n",
      " 26  event                        312990 non-null  int64  \n",
      " 27  duration                     312990 non-null  int64  \n",
      " 28  exp_1017                     312990 non-null  float64\n",
      " 29  access_1017                  312990 non-null  bool   \n",
      " 30  exp_1024                     312871 non-null  float64\n",
      " 31  access_1024                  312877 non-null  object \n",
      " 32  exp_1031                     312832 non-null  float64\n",
      " 33  access_1031                  312840 non-null  object \n",
      " 34  exp_1107                     312824 non-null  float64\n",
      " 35  access_1107                  312824 non-null  object \n",
      " 36  exp_1114                     312787 non-null  float64\n",
      " 37  access_1114                  312787 non-null  object \n",
      " 38  exp_1121                     312577 non-null  float64\n",
      " 39  access_1121                  312577 non-null  object \n",
      " 40  exp_1128                     312499 non-null  float64\n",
      " 41  access_1128                  312499 non-null  object \n",
      " 42  exp_1205                     312630 non-null  float64\n",
      " 43  access_1205                  312631 non-null  object \n",
      " 44  exp_1212                     312588 non-null  float64\n",
      " 45  access_1212                  312590 non-null  object \n",
      " 46  exp_1219                     312601 non-null  float64\n",
      " 47  access_1219                  312609 non-null  object \n",
      "dtypes: bool(3), float64(20), int64(9), object(16)\n",
      "memory usage: 108.4+ MB\n"
     ]
    }
   ],
   "source": [
    "df3.info()"
   ]
  },
  {
   "cell_type": "code",
   "execution_count": 34,
   "id": "9fd1ceb7-e753-4a4a-895d-4115734ee147",
   "metadata": {},
   "outputs": [],
   "source": [
    "# 경험치 중간에 하나라도 NaN이 있으면 제거\n",
    "\n",
    "exp_cols = [col for col in df.columns if col.startswith(\"exp_\")]\n",
    "\n",
    "# 3. 경험치 컬럼들 전부 float으로 변환 (숫자로 인식되지 않은 경우 대비)\n",
    "df[exp_cols] = df[exp_cols].apply(pd.to_numeric, errors='coerce')\n",
    "df_cleaned = df3.dropna(subset=exp_cols)"
   ]
  },
  {
   "cell_type": "code",
   "execution_count": 35,
   "id": "4d1aa232-7fe7-4c2f-bee4-63e845d6c6a8",
   "metadata": {},
   "outputs": [
    {
     "name": "stdout",
     "output_type": "stream",
     "text": [
      "ocid                               0\n",
      "ranking                            0\n",
      "character_name                     0\n",
      "world_name                         0\n",
      "character_gender                   0\n",
      "character_class                    0\n",
      "character_class_level              0\n",
      "character_level                    0\n",
      "character_exp                      0\n",
      "character_exp_rate                 0\n",
      "character_guild_name           49510\n",
      "character_date_create          23541\n",
      "access_flag                        0\n",
      "liberation_quest_clear_flag        0\n",
      "popularity                         0\n",
      "arcane_sum                         0\n",
      "authentic_sum                      0\n",
      "set_absorlab_count                 0\n",
      "set_lubatiss_count                 0\n",
      "set_arcane_count                   0\n",
      "set_eternal_count                  0\n",
      "dojang_best_floor                  1\n",
      "union_level                        3\n",
      "union_artifact_level            3947\n",
      "union_artifact_exp              3947\n",
      "union_artifact_point            3947\n",
      "event                              0\n",
      "duration                           0\n",
      "exp_1017                           0\n",
      "access_1017                        0\n",
      "exp_1024                         119\n",
      "access_1024                      113\n",
      "exp_1031                         158\n",
      "access_1031                      150\n",
      "exp_1107                         166\n",
      "access_1107                      166\n",
      "exp_1114                         203\n",
      "access_1114                      203\n",
      "exp_1121                         413\n",
      "access_1121                      413\n",
      "exp_1128                         491\n",
      "access_1128                      491\n",
      "exp_1205                         360\n",
      "access_1205                      359\n",
      "exp_1212                         402\n",
      "access_1212                      400\n",
      "exp_1219                         389\n",
      "access_1219                      381\n",
      "dtype: int64\n"
     ]
    }
   ],
   "source": [
    "print(df_cleaned.isnull().sum())"
   ]
  },
  {
   "cell_type": "code",
   "execution_count": 63,
   "id": "3427395c-1564-48bb-87a0-9780451054e8",
   "metadata": {},
   "outputs": [
    {
     "name": "stdout",
     "output_type": "stream",
     "text": [
      "최종 병합 완료! 총 행 수: 311210\n"
     ]
    }
   ],
   "source": [
    "import pandas as pd\n",
    "import os\n",
    "\n",
    "# 날짜 리스트\n",
    "date_list = [\n",
    "    \"2024-10-17\", \"2024-10-24\", \"2024-10-31\",\n",
    "    \"2024-11-07\", \"2024-11-14\", \"2024-11-21\",\n",
    "    \"2024-11-28\", \"2024-12-05\", \"2024-12-12\", \"2024-12-19\"\n",
    "]\n",
    "\n",
    "#  10월 17일 기준 데이터 불러오기\n",
    "df_base = pd.read_csv(\"character_level_2024-10-17.csv\")\n",
    "df_base = df_base.drop_duplicates(subset=\"ocid\")\n",
    "\n",
    "# 나머지 주차의 exp, access_flag 병합\n",
    "for date in date_list: \n",
    "    tag = date[-5:].replace(\"-\", \"\")  \n",
    "     # 파일명 설정 (10월 17일만 예외 처리)\n",
    "    if date == \"2024-10-17\":\n",
    "        file_name = f\"character_level_{date}.csv\"\n",
    "    else:\n",
    "        file_name = f\"character_level_{date}_merged.csv\"\n",
    "    \n",
    "    if os.path.exists(file_name):\n",
    "        df_temp = pd.read_csv(file_name, usecols=[\"ocid\", \"character_exp\", \"access_flag\"])\n",
    "        df_temp = df_temp.drop_duplicates(subset=\"ocid\")\n",
    "\n",
    "        df_temp.rename(columns={\n",
    "            \"character_exp\": f\"exp_{tag}\",\n",
    "            \"access_flag\": f\"access_{tag}\"\n",
    "        }, inplace=True)\n",
    "\n",
    "        df_base = pd.merge(df_base, df_temp, on=\"ocid\", how=\"left\")\n",
    "    else:\n",
    "        df_base[f\"exp_{tag}\"] = None\n",
    "        df_base[f\"access_{tag}\"] = None\n",
    "\n",
    "# 저장\n",
    "df_base.to_csv(\"merged_character_with_exp_access.csv\", index=False)\n",
    "\n",
    "# 확인용 출력\n",
    "print(f\"최종 병합 완료! 총 행 수: {len(df_base)}\")\n"
   ]
  },
  {
   "cell_type": "code",
   "execution_count": 64,
   "id": "5eab2c81-c59c-49b9-9816-1fcf270f5eb1",
   "metadata": {},
   "outputs": [],
   "source": [
    "df=pd.read_csv(\"merged_character_with_exp_access.csv\", encoding='utf-8',low_memory=False) "
   ]
  },
  {
   "cell_type": "code",
   "execution_count": 65,
   "id": "112cc09c-7746-48b5-8376-152f0a05b05a",
   "metadata": {},
   "outputs": [
    {
     "name": "stdout",
     "output_type": "stream",
     "text": [
      "ocid                               0\n",
      "ranking                            0\n",
      "character_name                     0\n",
      "world_name                         0\n",
      "character_gender                   0\n",
      "character_class                    0\n",
      "character_class_level              0\n",
      "character_level                    0\n",
      "character_exp                      0\n",
      "character_exp_rate                 0\n",
      "character_guild_name           49553\n",
      "character_date_create          23545\n",
      "access_flag                        0\n",
      "liberation_quest_clear_flag        0\n",
      "popularity                         0\n",
      "arcane_sum                         0\n",
      "authentic_sum                      0\n",
      "set_absorlab_count                 0\n",
      "set_lubatiss_count                 0\n",
      "set_arcane_count                   0\n",
      "set_eternal_count                  0\n",
      "dojang_best_floor                  1\n",
      "union_level                        3\n",
      "union_artifact_level            3948\n",
      "union_artifact_exp              3948\n",
      "union_artifact_point            3948\n",
      "exp_1017                           0\n",
      "access_1017                        0\n",
      "exp_1024                           1\n",
      "access_1024                        0\n",
      "exp_1031                           1\n",
      "access_1031                        0\n",
      "exp_1107                           1\n",
      "access_1107                        0\n",
      "exp_1114                           1\n",
      "access_1114                        0\n",
      "exp_1121                           2\n",
      "access_1121                        0\n",
      "exp_1128                           1\n",
      "access_1128                        0\n",
      "exp_1205                           1\n",
      "access_1205                        0\n",
      "exp_1212                           1\n",
      "access_1212                        0\n",
      "exp_1219                           1\n",
      "access_1219                        0\n",
      "dtype: int64\n"
     ]
    }
   ],
   "source": [
    "print(df.isnull().sum())"
   ]
  },
  {
   "cell_type": "code",
   "execution_count": 11,
   "id": "46a4d406-198d-429a-a09a-2e5882870bfc",
   "metadata": {},
   "outputs": [
    {
     "name": "stdout",
     "output_type": "stream",
     "text": [
      " 결측 제거 전: 311210명\n",
      " 결측 제거 후: 310033명 (완전한 주차별 exp/access 기록 보유)\n"
     ]
    }
   ],
   "source": [
    "# 경험치 및 접속여부 컬럼 추출\n",
    "exp_cols = [col for col in df.columns if col.startswith(\"exp_\")]\n",
    "access_cols = [col for col in df.columns if col.startswith(\"access_\")]\n",
    "\n",
    "# 결측치 제거 (exp 또는 access 중 하나라도 NaN이면 제거)\n",
    "df_cleaned = df.dropna(subset=exp_cols + access_cols)\n",
    "\n",
    "# 결과 저장\n",
    "df_cleaned.to_csv(\"merged_exp_access_no_nan.csv\", index=False)\n",
    "\n",
    "# 결과 요약 출력\n",
    "print(f\" 결측 제거 전: {len(df)}명\")\n",
    "print(f\" 결측 제거 후: {len(df_cleaned)}명 (완전한 주차별 exp/access 기록 보유)\")\n"
   ]
  },
  {
   "cell_type": "code",
   "execution_count": 12,
   "id": "828353b6-e2a6-46f4-a8e8-5bdeb00b4ac1",
   "metadata": {},
   "outputs": [
    {
     "name": "stdout",
     "output_type": "stream",
     "text": [
      "총 유저 수: 311210\n",
      "널값 있는 유저 수: 1177\n"
     ]
    }
   ],
   "source": [
    "# 제거된 유저만 추출 (즉, 널값이 하나라도 있었던 유저)\n",
    "df_dropped = df[~df[\"ocid\"].isin(df_cleaned[\"ocid\"])]\n",
    "\n",
    "# 확인용 출력\n",
    "print(f\"총 유저 수: {len(df)}\")\n",
    "print(f\"널값 있는 유저 수: {len(df_dropped)}\")\n",
    "\n",
    "# 파일로 저장\n",
    "df_dropped.to_csv(\"dropped_users_with_nan.csv\", index=False)\n"
   ]
  },
  {
   "cell_type": "code",
   "execution_count": 14,
   "id": "6d9b0076-0e7a-4a48-872f-467936b8b4cb",
   "metadata": {},
   "outputs": [
    {
     "data": {
      "text/plain": [
       "access_1128    758\n",
       "exp_1128       758\n",
       "access_1121    680\n",
       "exp_1121       680\n",
       "exp_1212       669\n",
       "access_1212    667\n",
       "exp_1219       656\n",
       "access_1219    648\n",
       "exp_1205       627\n",
       "access_1205    626\n",
       "access_1114    470\n",
       "exp_1114       470\n",
       "access_1107    433\n",
       "exp_1107       433\n",
       "exp_1031       425\n",
       "access_1031    417\n",
       "exp_1024       386\n",
       "access_1024    380\n",
       "access_flag      0\n",
       "access_1017      0\n",
       "dtype: int64"
      ]
     },
     "execution_count": 14,
     "metadata": {},
     "output_type": "execute_result"
    }
   ],
   "source": [
    "import pandas as pd\n",
    "\n",
    "# 파일 불러오기\n",
    "file_path = \"dropped_users_with_nan.csv\"\n",
    "df_dropped = pd.read_csv(file_path)\n",
    "\n",
    "# 컬럼별 결측치 개수 요약\n",
    "missing_summary = df_dropped.isnull().sum().sort_values(ascending=False)\n",
    "\n",
    "# 결측치가 있는 주차별 컬럼만 추출 (exp_ 또는 access_ 포함된 컬럼만)\n",
    "missing_exp_access = missing_summary[missing_summary.index.str.startswith((\"exp_\", \"access_\"))]\n",
    "\n",
    "# 상위 몇 개만 확인\n",
    "missing_exp_access.head(20)\n"
   ]
  },
  {
   "cell_type": "code",
   "execution_count": 15,
   "id": "6483c076-efd5-4f4c-85c2-ea5dada57a20",
   "metadata": {},
   "outputs": [
    {
     "ename": "KeyError",
     "evalue": "'missing_weeks'",
     "output_type": "error",
     "traceback": [
      "\u001b[1;31m---------------------------------------------------------------------------\u001b[0m",
      "\u001b[1;31mKeyError\u001b[0m                                  Traceback (most recent call last)",
      "File \u001b[1;32m~\\anaconda3\\Lib\\site-packages\\pandas\\core\\indexes\\base.py:3805\u001b[0m, in \u001b[0;36mIndex.get_loc\u001b[1;34m(self, key)\u001b[0m\n\u001b[0;32m   3804\u001b[0m \u001b[38;5;28;01mtry\u001b[39;00m:\n\u001b[1;32m-> 3805\u001b[0m     \u001b[38;5;28;01mreturn\u001b[39;00m \u001b[38;5;28mself\u001b[39m\u001b[38;5;241m.\u001b[39m_engine\u001b[38;5;241m.\u001b[39mget_loc(casted_key)\n\u001b[0;32m   3806\u001b[0m \u001b[38;5;28;01mexcept\u001b[39;00m \u001b[38;5;167;01mKeyError\u001b[39;00m \u001b[38;5;28;01mas\u001b[39;00m err:\n",
      "File \u001b[1;32mindex.pyx:167\u001b[0m, in \u001b[0;36mpandas._libs.index.IndexEngine.get_loc\u001b[1;34m()\u001b[0m\n",
      "File \u001b[1;32mindex.pyx:196\u001b[0m, in \u001b[0;36mpandas._libs.index.IndexEngine.get_loc\u001b[1;34m()\u001b[0m\n",
      "File \u001b[1;32mpandas\\\\_libs\\\\hashtable_class_helper.pxi:7081\u001b[0m, in \u001b[0;36mpandas._libs.hashtable.PyObjectHashTable.get_item\u001b[1;34m()\u001b[0m\n",
      "File \u001b[1;32mpandas\\\\_libs\\\\hashtable_class_helper.pxi:7089\u001b[0m, in \u001b[0;36mpandas._libs.hashtable.PyObjectHashTable.get_item\u001b[1;34m()\u001b[0m\n",
      "\u001b[1;31mKeyError\u001b[0m: 'missing_weeks'",
      "\nThe above exception was the direct cause of the following exception:\n",
      "\u001b[1;31mKeyError\u001b[0m                                  Traceback (most recent call last)",
      "Cell \u001b[1;32mIn[15], line 1\u001b[0m\n\u001b[1;32m----> 1\u001b[0m df_dropped[df_dropped[\u001b[38;5;124m\"\u001b[39m\u001b[38;5;124mmissing_weeks\u001b[39m\u001b[38;5;124m\"\u001b[39m] \u001b[38;5;241m==\u001b[39m \u001b[38;5;241m0\u001b[39m]\n",
      "File \u001b[1;32m~\\anaconda3\\Lib\\site-packages\\pandas\\core\\frame.py:4102\u001b[0m, in \u001b[0;36mDataFrame.__getitem__\u001b[1;34m(self, key)\u001b[0m\n\u001b[0;32m   4100\u001b[0m \u001b[38;5;28;01mif\u001b[39;00m \u001b[38;5;28mself\u001b[39m\u001b[38;5;241m.\u001b[39mcolumns\u001b[38;5;241m.\u001b[39mnlevels \u001b[38;5;241m>\u001b[39m \u001b[38;5;241m1\u001b[39m:\n\u001b[0;32m   4101\u001b[0m     \u001b[38;5;28;01mreturn\u001b[39;00m \u001b[38;5;28mself\u001b[39m\u001b[38;5;241m.\u001b[39m_getitem_multilevel(key)\n\u001b[1;32m-> 4102\u001b[0m indexer \u001b[38;5;241m=\u001b[39m \u001b[38;5;28mself\u001b[39m\u001b[38;5;241m.\u001b[39mcolumns\u001b[38;5;241m.\u001b[39mget_loc(key)\n\u001b[0;32m   4103\u001b[0m \u001b[38;5;28;01mif\u001b[39;00m is_integer(indexer):\n\u001b[0;32m   4104\u001b[0m     indexer \u001b[38;5;241m=\u001b[39m [indexer]\n",
      "File \u001b[1;32m~\\anaconda3\\Lib\\site-packages\\pandas\\core\\indexes\\base.py:3812\u001b[0m, in \u001b[0;36mIndex.get_loc\u001b[1;34m(self, key)\u001b[0m\n\u001b[0;32m   3807\u001b[0m     \u001b[38;5;28;01mif\u001b[39;00m \u001b[38;5;28misinstance\u001b[39m(casted_key, \u001b[38;5;28mslice\u001b[39m) \u001b[38;5;129;01mor\u001b[39;00m (\n\u001b[0;32m   3808\u001b[0m         \u001b[38;5;28misinstance\u001b[39m(casted_key, abc\u001b[38;5;241m.\u001b[39mIterable)\n\u001b[0;32m   3809\u001b[0m         \u001b[38;5;129;01mand\u001b[39;00m \u001b[38;5;28many\u001b[39m(\u001b[38;5;28misinstance\u001b[39m(x, \u001b[38;5;28mslice\u001b[39m) \u001b[38;5;28;01mfor\u001b[39;00m x \u001b[38;5;129;01min\u001b[39;00m casted_key)\n\u001b[0;32m   3810\u001b[0m     ):\n\u001b[0;32m   3811\u001b[0m         \u001b[38;5;28;01mraise\u001b[39;00m InvalidIndexError(key)\n\u001b[1;32m-> 3812\u001b[0m     \u001b[38;5;28;01mraise\u001b[39;00m \u001b[38;5;167;01mKeyError\u001b[39;00m(key) \u001b[38;5;28;01mfrom\u001b[39;00m \u001b[38;5;21;01merr\u001b[39;00m\n\u001b[0;32m   3813\u001b[0m \u001b[38;5;28;01mexcept\u001b[39;00m \u001b[38;5;167;01mTypeError\u001b[39;00m:\n\u001b[0;32m   3814\u001b[0m     \u001b[38;5;66;03m# If we have a listlike key, _check_indexing_error will raise\u001b[39;00m\n\u001b[0;32m   3815\u001b[0m     \u001b[38;5;66;03m#  InvalidIndexError. Otherwise we fall through and re-raise\u001b[39;00m\n\u001b[0;32m   3816\u001b[0m     \u001b[38;5;66;03m#  the TypeError.\u001b[39;00m\n\u001b[0;32m   3817\u001b[0m     \u001b[38;5;28mself\u001b[39m\u001b[38;5;241m.\u001b[39m_check_indexing_error(key)\n",
      "\u001b[1;31mKeyError\u001b[0m: 'missing_weeks'"
     ]
    }
   ],
   "source": [
    "df_dropped[df_dropped[\"missing_weeks\"] == 0]\n"
   ]
  },
  {
   "cell_type": "code",
   "execution_count": 44,
   "id": "aba204bb-eae5-4857-b7a0-d6f96474cbea",
   "metadata": {},
   "outputs": [],
   "source": [
    "df2=pd.read_csv(\"merged_exp_access_no_nan.csv\", encoding='utf-8',low_memory=False) "
   ]
  },
  {
   "cell_type": "code",
   "execution_count": 63,
   "id": "cf1b1f57-0196-47be-82b3-269129567ef0",
   "metadata": {},
   "outputs": [
    {
     "name": "stdout",
     "output_type": "stream",
     "text": [
      "ocid                               0\n",
      "ranking                            0\n",
      "character_name                     0\n",
      "world_name                         0\n",
      "character_gender                   0\n",
      "character_class                    0\n",
      "character_class_level              0\n",
      "character_level                    0\n",
      "character_exp                      0\n",
      "character_exp_rate                 0\n",
      "character_guild_name           49313\n",
      "character_date_create          23523\n",
      "access_flag                        0\n",
      "liberation_quest_clear_flag        0\n",
      "popularity                         0\n",
      "arcane_sum                         0\n",
      "authentic_sum                      0\n",
      "set_absorlab_count                 0\n",
      "set_lubatiss_count                 0\n",
      "set_arcane_count                   0\n",
      "set_eternal_count                  0\n",
      "dojang_best_floor                  1\n",
      "union_level                        3\n",
      "union_artifact_level            3945\n",
      "union_artifact_exp              3945\n",
      "union_artifact_point            3945\n",
      "exp_1017                           0\n",
      "access_1017                        0\n",
      "exp_1024                           0\n",
      "access_1024                        0\n",
      "exp_1031                           0\n",
      "access_1031                        0\n",
      "exp_1107                           0\n",
      "access_1107                        0\n",
      "exp_1114                           0\n",
      "access_1114                        0\n",
      "exp_1121                           0\n",
      "access_1121                        0\n",
      "exp_1128                           0\n",
      "access_1128                        0\n",
      "exp_1205                           0\n",
      "access_1205                        0\n",
      "exp_1212                           0\n",
      "access_1212                        0\n",
      "exp_1219                           0\n",
      "access_1219                        0\n",
      "dtype: int64\n"
     ]
    }
   ],
   "source": [
    "print(df2.isnull().sum())"
   ]
  },
  {
   "cell_type": "code",
   "execution_count": 4,
   "id": "c8a6f25d-5ab1-4f30-a417-d2546ad1c994",
   "metadata": {},
   "outputs": [
    {
     "name": "stdout",
     "output_type": "stream",
     "text": [
      " 10월 17일 기준 접속 유저 수: 222939\n"
     ]
    }
   ],
   "source": [
    "# access_1017이 True인 유저 수\n",
    "num_active_start = df[df[\"access_1017\"] == True].shape[0]\n",
    "print(f\" 10월 17일 기준 접속 유저 수: {num_active_start}\")\n"
   ]
  },
  {
   "cell_type": "code",
   "execution_count": 6,
   "id": "670eec26-f2b9-4e5b-8e2d-db64d78bf354",
   "metadata": {},
   "outputs": [],
   "source": [
    "df5=pd.read_csv(\"survival_dataset_alive_only2.csv\", encoding='utf-8',low_memory=False) "
   ]
  },
  {
   "cell_type": "code",
   "execution_count": 7,
   "id": "c9110646-8584-4d98-86e9-11719ef74271",
   "metadata": {},
   "outputs": [
    {
     "name": "stdout",
     "output_type": "stream",
     "text": [
      "ocid                               0\n",
      "ranking                            0\n",
      "character_name                     0\n",
      "world_name                         0\n",
      "character_gender                   0\n",
      "character_class                    0\n",
      "character_class_level              0\n",
      "character_level                    0\n",
      "character_exp                      0\n",
      "character_exp_rate                 0\n",
      "character_guild_name           16829\n",
      "character_date_create              0\n",
      "access_flag                        0\n",
      "liberation_quest_clear_flag        0\n",
      "popularity                         0\n",
      "arcane_sum                         0\n",
      "authentic_sum                      0\n",
      "set_absorlab_count                 0\n",
      "set_lubatiss_count                 0\n",
      "set_arcane_count                   0\n",
      "set_eternal_count                  0\n",
      "dojang_best_floor                  1\n",
      "union_level                        0\n",
      "union_artifact_level               0\n",
      "union_artifact_exp                 0\n",
      "union_artifact_point               0\n",
      "exp_1017                           0\n",
      "access_1017                        0\n",
      "exp_1024                         353\n",
      "access_1024                      347\n",
      "exp_1031                         385\n",
      "access_1031                      380\n",
      "exp_1107                         396\n",
      "access_1107                      396\n",
      "exp_1114                         432\n",
      "access_1114                      432\n",
      "exp_1121                         620\n",
      "access_1121                      620\n",
      "exp_1128                         668\n",
      "access_1128                      668\n",
      "exp_1205                         539\n",
      "access_1205                      538\n",
      "exp_1212                         575\n",
      "access_1212                      573\n",
      "exp_1219                         566\n",
      "access_1219                      559\n",
      "dtype: int64\n"
     ]
    }
   ],
   "source": [
    "# 경험치 및 접속여부 컬럼 추출\n",
    "exp_cols = [col for col in df.columns if col.startswith(\"exp_\")]\n",
    "access_cols = [col for col in df.columns if col.startswith(\"access_\")]\n",
    "\n",
    "# 결측치 제거 (exp 또는 access 중 하나라도 NaN이면 제거)\n",
    "df5_cleaned = df5.dropna(subset=exp_cols + access_cols)\n",
    "\n",
    "# 결과 저장\n",
    "df5_cleaned.to_csv(\"merged_exp_access_no_nan2.csv\", index=False)\n",
    "\n",
    "# 결과 요약 출력\n",
    "print(f\" 결측 제거 전: {len(df_merged)}명\")\n",
    "print(f\" 결측 제거 후: {len(df_cleaned)}명 (완전한 주차별 exp/access 기록 보유)\")\n",
    "# 제거된 유저만 추출 (즉, 널값이 하나라도 있었던 유저)\n",
    "df_dropped = df[~df[\"ocid\"].isin(df_cleaned[\"ocid\"])]\n",
    "\n",
    "# 확인용 출력\n",
    "print(f\"총 유저 수: {len(df)}\")\n",
    "print(f\"널값 있는 유저 수: {len(df_dropped)}\")\n",
    "\n",
    "# 파일로 저장\n",
    "df_dropped.to_csv(\"dropped_users_with_nan.csv\", index=False)\n"
   ]
  },
  {
   "cell_type": "code",
   "execution_count": 66,
   "id": "b9e5cc11-614b-4ecf-a94a-fdda5ff618ee",
   "metadata": {},
   "outputs": [
    {
     "name": "stdout",
     "output_type": "stream",
     "text": [
      " 생존분석 대상 저장 완료: 222939명\n",
      " 복귀/이탈 분석 대상 저장 완료: 88271명\n"
     ]
    }
   ],
   "source": [
    "# 생존분석 대상: access_1017 == True\n",
    "df_alive = df[df[\"access_1017\"] == True].copy()\n",
    "\n",
    "# 복귀/이탈 분석 대상: access_1017 == False\n",
    "df_dead_or_return = df[df[\"access_1017\"] == False].copy()\n",
    "\n",
    "# CSV 저장\n",
    "df_alive.to_csv(\"survival_dataset_alive_only.csv\", index=False)\n",
    "df_dead_or_return.to_csv(\"return_or_left_dataset.csv\", index=False)\n",
    "\n",
    "print(f\" 생존분석 대상 저장 완료: {len(df_alive)}명\")\n",
    "print(f\" 복귀/이탈 분석 대상 저장 완료: {len(df_dead_or_return)}명\")\n"
   ]
  },
  {
   "cell_type": "code",
   "execution_count": 70,
   "id": "3ce2e65a-7b84-416e-9e39-484790a808a7",
   "metadata": {},
   "outputs": [],
   "source": [
    "df2=pd.read_csv(\"survival_dataset_alive_only.csv\", encoding='utf-8',low_memory=False) "
   ]
  },
  {
   "cell_type": "code",
   "execution_count": 68,
   "id": "16fd2e1d-8b22-4a1b-b46d-69373ca46ce9",
   "metadata": {},
   "outputs": [
    {
     "name": "stdout",
     "output_type": "stream",
     "text": [
      "ocid                               0\n",
      "ranking                            0\n",
      "character_name                     0\n",
      "world_name                         0\n",
      "character_gender                   0\n",
      "character_class                    0\n",
      "character_class_level              0\n",
      "character_level                    0\n",
      "character_exp                      0\n",
      "character_exp_rate                 0\n",
      "character_guild_name           16829\n",
      "character_date_create              0\n",
      "access_flag                        0\n",
      "liberation_quest_clear_flag        0\n",
      "popularity                         0\n",
      "arcane_sum                         0\n",
      "authentic_sum                      0\n",
      "set_absorlab_count                 0\n",
      "set_lubatiss_count                 0\n",
      "set_arcane_count                   0\n",
      "set_eternal_count                  0\n",
      "dojang_best_floor                  1\n",
      "union_level                        0\n",
      "union_artifact_level               0\n",
      "union_artifact_exp                 0\n",
      "union_artifact_point               0\n",
      "exp_1017                           0\n",
      "access_1017                        0\n",
      "exp_1024                           1\n",
      "access_1024                        0\n",
      "exp_1031                           1\n",
      "access_1031                        0\n",
      "exp_1107                           1\n",
      "access_1107                        0\n",
      "exp_1114                           1\n",
      "access_1114                        0\n",
      "exp_1121                           2\n",
      "access_1121                        0\n",
      "exp_1128                           1\n",
      "access_1128                        0\n",
      "exp_1205                           1\n",
      "access_1205                        0\n",
      "exp_1212                           1\n",
      "access_1212                        0\n",
      "exp_1219                           1\n",
      "access_1219                        0\n",
      "dtype: int64\n"
     ]
    }
   ],
   "source": [
    "print(df2.isnull().sum())"
   ]
  },
  {
   "cell_type": "code",
   "execution_count": 72,
   "id": "9514425f-b096-4eb1-add3-95fe7307d967",
   "metadata": {},
   "outputs": [
    {
     "name": "stdout",
     "output_type": "stream",
     "text": [
      " 결측 제거 전: 222939명\n",
      " 결측 제거 후: 222937명 (완전한 주차별 exp/access 기록 보유)\n",
      "총 유저 수: 222939\n",
      "널값 있는 유저 수: 2\n"
     ]
    }
   ],
   "source": [
    "# 경험치 및 접속여부 컬럼 추출\n",
    "exp_cols = [col for col in df2.columns if col.startswith(\"exp_\")]\n",
    "access_cols = [col for col in df2.columns if col.startswith(\"access_\")]\n",
    "\n",
    "# 결측치 제거 (exp 또는 access 중 하나라도 NaN이면 제거)\n",
    "df2_cleaned = df2.dropna(subset=exp_cols + access_cols)\n",
    "\n",
    "# 결과 저장\n",
    "df2_cleaned.to_csv(\"final_data.csv\", index=False)\n",
    "\n",
    "# 결과 요약 출력\n",
    "print(f\" 결측 제거 전: {len(df2)}명\")\n",
    "print(f\" 결측 제거 후: {len(df2_cleaned)}명 (완전한 주차별 exp/access 기록 보유)\")\n",
    "# 제거된 유저만 추출 (즉, 널값이 하나라도 있었던 유저)\n",
    "df_dropped = df2[~df2[\"ocid\"].isin(df2_cleaned[\"ocid\"])]\n",
    "\n",
    "# 확인용 출력\n",
    "print(f\"총 유저 수: {len(df2)}\")\n",
    "print(f\"널값 있는 유저 수: {len(df_dropped)}\")\n",
    "\n",
    "# 파일로 저장\n",
    "df_dropped.to_csv(\"dropped_users_with_nan.csv\", index=False)\n"
   ]
  },
  {
   "cell_type": "code",
   "execution_count": 93,
   "id": "43ca9831-cd0a-4fb5-a5ad-82bc7abb27cc",
   "metadata": {},
   "outputs": [],
   "source": [
    "df = pd.read_csv(\"final_data_changed_only.csv\")"
   ]
  },
  {
   "cell_type": "code",
   "execution_count": 94,
   "id": "5b62e0fc-ca8c-4443-9858-ae720f4d496a",
   "metadata": {},
   "outputs": [
    {
     "name": "stdout",
     "output_type": "stream",
     "text": [
      "ocid                               0\n",
      "exp_1010                         651\n",
      "ranking                            0\n",
      "character_name                     0\n",
      "world_name                         0\n",
      "character_gender                   0\n",
      "character_class                    0\n",
      "character_class_level              0\n",
      "character_level                    0\n",
      "character_exp                      0\n",
      "character_exp_rate                 0\n",
      "character_guild_name           12803\n",
      "character_date_create              0\n",
      "access_flag                        0\n",
      "liberation_quest_clear_flag        0\n",
      "popularity                         0\n",
      "arcane_sum                         0\n",
      "authentic_sum                      0\n",
      "set_absorlab_count                 0\n",
      "set_lubatiss_count                 0\n",
      "set_arcane_count                   0\n",
      "set_eternal_count                  0\n",
      "dojang_best_floor                  1\n",
      "union_level                        0\n",
      "union_artifact_level               0\n",
      "union_artifact_exp                 0\n",
      "union_artifact_point               0\n",
      "exp_1017                           0\n",
      "access_1017                        0\n",
      "exp_1024                           0\n",
      "access_1024                        0\n",
      "exp_1031                           0\n",
      "access_1031                        0\n",
      "exp_1107                           0\n",
      "access_1107                        0\n",
      "exp_1114                           0\n",
      "access_1114                        0\n",
      "exp_1121                           0\n",
      "access_1121                        0\n",
      "exp_1128                           0\n",
      "access_1128                        0\n",
      "exp_1205                           0\n",
      "access_1205                        0\n",
      "exp_1212                           0\n",
      "access_1212                        0\n",
      "exp_1219                           0\n",
      "access_1219                        0\n",
      "dtype: int64\n"
     ]
    }
   ],
   "source": [
    "print(df.isnull().sum())"
   ]
  },
  {
   "cell_type": "code",
   "execution_count": 91,
   "id": "60330c12-cb9d-47ba-9ee5-7d5019e88f24",
   "metadata": {},
   "outputs": [
    {
     "name": "stdout",
     "output_type": "stream",
     "text": [
      " duration + event 계산 완료 및 저장됨: survival_dataset_final.csv\n"
     ]
    }
   ],
   "source": [
    "import pandas as pd\n",
    "\n",
    "# 1. exp 변화 여부로 생존 기간 계산\n",
    "def calculate_duration(row):\n",
    "    exp_cols = [col for col in row.index if col.startswith(\"exp_\")]\n",
    "    exp_vals = row[exp_cols].tolist()\n",
    "\n",
    "    last_change = 0\n",
    "    for i in reversed(range(1, len(exp_vals))):\n",
    "        if exp_vals[i] != exp_vals[i - 1]:\n",
    "            last_change = i\n",
    "            break\n",
    "    return last_change + 1  # 주차는 1부터 시작한다고 가정\n",
    "\n",
    "def define_event(row):\n",
    "    access_cols = [col for col in row.index if col.startswith(\"access_\")]\n",
    "    exp_cols = [col for col in row.index if col.startswith(\"exp_\")]\n",
    "\n",
    "    access_vals = [(v is True) if isinstance(v, bool) else str(v).lower() == 'true' for v in row[access_cols]]\n",
    "    exp_vals = row[exp_cols].tolist()\n",
    "\n",
    "    #  2주 연속 미접속 + 이후 전부 미접속 + 복귀 없음\n",
    "    for i in range(len(access_vals) - 2):\n",
    "        if not access_vals[i] and not access_vals[i + 1]:\n",
    "            after = access_vals[i + 2:]\n",
    "            if after and all(a is False for a in after):  # 복귀 없음\n",
    "                return 1\n",
    "\n",
    "    # 경험치가 한 번도 안 오른 경우 → 이탈\n",
    "    if all(x == exp_vals[0] for x in exp_vals):\n",
    "        return 1\n",
    "\n",
    "    # exp가 오르다 마지막까지 정체 + 마지막 주차 예외\n",
    "    last_change_idx = None\n",
    "    for i in reversed(range(1, len(exp_vals))):\n",
    "        if exp_vals[i] != exp_vals[i - 1]:\n",
    "            last_change_idx = i\n",
    "            break\n",
    "\n",
    "    if last_change_idx is None:\n",
    "        return 1  # 아예 변화 없음\n",
    "\n",
    "    # 마지막 2주차 내에 변화가 있었다면 생존\n",
    "    if last_change_idx >= len(exp_vals) - 2:\n",
    "        return 0\n",
    "\n",
    "    stagnant = exp_vals[last_change_idx:]\n",
    "    if all(x == stagnant[0] for x in stagnant):\n",
    "        return 1\n",
    "\n",
    "    return 0\n",
    "\n",
    "# 적용\n",
    "df[\"duration\"] = df.apply(calculate_duration, axis=1)\n",
    "df[\"event\"] = df.apply(define_event, axis=1)\n",
    "df.to_csv(\"survival_dataset_final.csv\", index=False)\n",
    "\n",
    "print(\" duration + event 계산 완료 및 저장됨: survival_dataset_final.csv\")\n"
   ]
  },
  {
   "cell_type": "code",
   "execution_count": 78,
   "id": "19b4cfe4-d93a-4412-b238-4a5286c8e081",
   "metadata": {},
   "outputs": [],
   "source": [
    "df=pd.read_csv(\"survival_dataset_final.csv\", encoding='utf-8',low_memory=False) "
   ]
  },
  {
   "cell_type": "code",
   "execution_count": 79,
   "id": "26b3d9eb-5610-4465-b6f5-75ba546de5cb",
   "metadata": {},
   "outputs": [
    {
     "name": "stdout",
     "output_type": "stream",
     "text": [
      "✅ 이탈율: 222937명\n"
     ]
    }
   ],
   "source": [
    "print(f\"✅ 이탈율: {len(df['event']==1)}명\")"
   ]
  },
  {
   "cell_type": "code",
   "execution_count": 80,
   "id": "a97ea9d0-4fec-4592-8f25-da81d004b5f2",
   "metadata": {},
   "outputs": [
    {
     "name": "stdout",
     "output_type": "stream",
     "text": [
      "ocid                               0\n",
      "ranking                            0\n",
      "character_name                     0\n",
      "world_name                         0\n",
      "character_gender                   0\n",
      "character_class                    0\n",
      "character_class_level              0\n",
      "character_level                    0\n",
      "character_exp                      0\n",
      "character_exp_rate                 0\n",
      "character_guild_name           16829\n",
      "character_date_create              0\n",
      "access_flag                        0\n",
      "liberation_quest_clear_flag        0\n",
      "popularity                         0\n",
      "arcane_sum                         0\n",
      "authentic_sum                      0\n",
      "set_absorlab_count                 0\n",
      "set_lubatiss_count                 0\n",
      "set_arcane_count                   0\n",
      "set_eternal_count                  0\n",
      "dojang_best_floor                  1\n",
      "union_level                        0\n",
      "union_artifact_level               0\n",
      "union_artifact_exp                 0\n",
      "union_artifact_point               0\n",
      "exp_1017                           0\n",
      "access_1017                        0\n",
      "exp_1024                           0\n",
      "access_1024                        0\n",
      "exp_1031                           0\n",
      "access_1031                        0\n",
      "exp_1107                           0\n",
      "access_1107                        0\n",
      "exp_1114                           0\n",
      "access_1114                        0\n",
      "exp_1121                           0\n",
      "access_1121                        0\n",
      "exp_1128                           0\n",
      "access_1128                        0\n",
      "exp_1205                           0\n",
      "access_1205                        0\n",
      "exp_1212                           0\n",
      "access_1212                        0\n",
      "exp_1219                           0\n",
      "access_1219                        0\n",
      "duration                           0\n",
      "event                              0\n",
      "dtype: int64\n"
     ]
    }
   ],
   "source": [
    "print(df.isnull().sum())"
   ]
  },
  {
   "cell_type": "code",
   "execution_count": 79,
   "id": "c8b4ab63-f7b1-4069-a3bb-e51bf0b7475d",
   "metadata": {},
   "outputs": [
    {
     "name": "stdout",
     "output_type": "stream",
     "text": [
      "\n",
      "🧾 OCID: 76d39661b8f54cb3c7f530f94be08daa\n",
      "Event: 0 | Duration: 10\n",
      "Exp 변화:\n",
      "exp_1017: 63708831960454.0\n",
      "exp_1024: 68149691812422.0\n",
      "exp_1031: 70482007661465.0\n",
      "exp_1107: 71969677557950.0\n",
      "exp_1114: 73543897944350.0\n",
      "exp_1121: 74546495595648.0\n",
      "exp_1128: 77446368141051.0\n",
      "exp_1205: 78224734102368.0\n",
      "exp_1212: 80798445473864.0\n",
      "exp_1219: 87487920846475.0\n",
      "Access Flag:\n",
      "access_flag: True\n",
      "access_1017: True\n",
      "access_1024: True\n",
      "access_1031: True\n",
      "access_1107: True\n",
      "access_1114: True\n",
      "access_1121: True\n",
      "access_1128: True\n",
      "access_1205: True\n",
      "access_1212: True\n",
      "access_1219: True\n",
      "\n",
      "🧾 OCID: b7c6b4e864a4987d06ce0299545250c0\n",
      "Event: 0 | Duration: 10\n",
      "Exp 변화:\n",
      "exp_1017: 4257867960215.0\n",
      "exp_1024: 4988683425917.0\n",
      "exp_1031: 5729701341076.0\n",
      "exp_1107: 6455959829196.0\n",
      "exp_1114: 7194588626089.0\n",
      "exp_1121: 7939309425124.0\n",
      "exp_1128: 8727675365034.0\n",
      "exp_1205: 9508010840391.0\n",
      "exp_1212: 10305249136549.0\n",
      "exp_1219: 11100423692652.0\n",
      "Access Flag:\n",
      "access_flag: True\n",
      "access_1017: True\n",
      "access_1024: True\n",
      "access_1031: True\n",
      "access_1107: True\n",
      "access_1114: True\n",
      "access_1121: True\n",
      "access_1128: True\n",
      "access_1205: True\n",
      "access_1212: True\n",
      "access_1219: True\n",
      "\n",
      "🧾 OCID: 7809da1503a9e57d21becf60eccfcbfb\n",
      "Event: 0 | Duration: 10\n",
      "Exp 변화:\n",
      "exp_1017: 18647056565638.0\n",
      "exp_1024: 20072002974596.0\n",
      "exp_1031: 20779666894982.0\n",
      "exp_1107: 24314929531733.0\n",
      "exp_1114: 28334477370278.0\n",
      "exp_1121: 422204440774.0\n",
      "exp_1128: 1010509809553.0\n",
      "exp_1205: 2183227692196.0\n",
      "exp_1212: 3310340438564.0\n",
      "exp_1219: 6886697704188.0\n",
      "Access Flag:\n",
      "access_flag: True\n",
      "access_1017: True\n",
      "access_1024: True\n",
      "access_1031: True\n",
      "access_1107: True\n",
      "access_1114: True\n",
      "access_1121: True\n",
      "access_1128: True\n",
      "access_1205: True\n",
      "access_1212: True\n",
      "access_1219: True\n",
      "\n",
      "🧾 OCID: e75cabf4de9a7c09a962ad3f23d161d1\n",
      "Event: 0 | Duration: 10\n",
      "Exp 변화:\n",
      "exp_1017: 18784465952843.0\n",
      "exp_1024: 22413513442251.0\n",
      "exp_1031: 26062576350610.0\n",
      "exp_1107: 29368574489034.0\n",
      "exp_1114: 34658021075066.0\n",
      "exp_1121: 10053778933811.0\n",
      "exp_1128: 12159685917873.0\n",
      "exp_1205: 19984904068933.0\n",
      "exp_1212: 32254305368693.0\n",
      "exp_1219: 38868276743065.0\n",
      "Access Flag:\n",
      "access_flag: True\n",
      "access_1017: True\n",
      "access_1024: True\n",
      "access_1031: True\n",
      "access_1107: True\n",
      "access_1114: True\n",
      "access_1121: True\n",
      "access_1128: True\n",
      "access_1205: True\n",
      "access_1212: True\n",
      "access_1219: True\n",
      "\n",
      "🧾 OCID: 6f64b2d72a5f2770f5c7afbaef1c298c\n",
      "Event: 0 | Duration: 10\n",
      "Exp 변화:\n",
      "exp_1017: 8611383707069.0\n",
      "exp_1024: 10492134835251.0\n",
      "exp_1031: 12109567444345.0\n",
      "exp_1107: 13993209360911.0\n",
      "exp_1114: 14196965446289.0\n",
      "exp_1121: 16275555058027.0\n",
      "exp_1128: 16607208533471.0\n",
      "exp_1205: 17034632991629.0\n",
      "exp_1212: 19167079435532.0\n",
      "exp_1219: 22486078727612.0\n",
      "Access Flag:\n",
      "access_flag: True\n",
      "access_1017: True\n",
      "access_1024: True\n",
      "access_1031: True\n",
      "access_1107: True\n",
      "access_1114: True\n",
      "access_1121: True\n",
      "access_1128: True\n",
      "access_1205: True\n",
      "access_1212: True\n",
      "access_1219: True\n"
     ]
    }
   ],
   "source": [
    "\n",
    "\n",
    "# 경험치 + access 컬럼 추출\n",
    "exp_cols = [col for col in df.columns if col.startswith(\"exp_\")]\n",
    "access_cols = [col for col in df.columns if col.startswith(\"access_\")]\n",
    "\n",
    "# ✅ 랜덤 샘플 추출\n",
    "sample_df = df.sample(n=5, random_state=42)\n",
    "\n",
    "# 각 샘플에 대해 exp + access + event + duration 출력\n",
    "for idx, row in sample_df.iterrows():\n",
    "    print(f\"\\n🧾 OCID: {row['ocid']}\")\n",
    "    print(f\"Event: {row['event']} | Duration: {row['duration']}\")\n",
    "    print(\"Exp 변화:\")\n",
    "    for col in exp_cols:\n",
    "        print(f\"{col}: {row[col]}\")\n",
    "    print(\"Access Flag:\")\n",
    "    for col in access_cols:\n",
    "        print(f\"{col}: {row[col]}\")\n"
   ]
  },
  {
   "cell_type": "code",
   "execution_count": 80,
   "id": "308f23d2-bf53-4f67-aa0f-298b46c356d8",
   "metadata": {},
   "outputs": [
    {
     "name": "stdout",
     "output_type": "stream",
     "text": [
      "🎯 이탈(1)과 생존(0) 각각 100개 추출 완료 및 저장됨!\n"
     ]
    }
   ],
   "source": [
    "\n",
    "\n",
    "# ✅ 이탈 유저 (event == 1) 샘플 100개\n",
    "df_event_1 = df[df[\"event\"] == 1].sample(n=100, random_state=42)\n",
    "\n",
    "# ✅ 생존 유저 (event == 0) 샘플 100개\n",
    "df_event_0 = df[df[\"event\"] == 0].sample(n=100, random_state=42)\n",
    "\n",
    "# ✅ 저장\n",
    "df_event_1.to_csv(\"sample_event1_100.csv\", index=False)\n",
    "df_event_0.to_csv(\"sample_event0_100.csv\", index=False)\n",
    "\n",
    "print(\"🎯 이탈(1)과 생존(0) 각각 100개 추출 완료 및 저장됨!\")\n"
   ]
  },
  {
   "cell_type": "code",
   "execution_count": 81,
   "id": "a508c52d-5f16-4b80-8ea7-092b57bf7db6",
   "metadata": {},
   "outputs": [],
   "source": [
    "df_sample = df.sample(n=5000, random_state=42)"
   ]
  },
  {
   "cell_type": "code",
   "execution_count": 82,
   "id": "cc97f041-6359-4e21-b4bb-317c0a4592a0",
   "metadata": {},
   "outputs": [],
   "source": [
    "df_sample.to_csv(\"df_sample.csv\", index=False)"
   ]
  },
  {
   "cell_type": "code",
   "execution_count": 84,
   "id": "8fa6ca4d-25a8-4ead-a090-5c752c2ed297",
   "metadata": {},
   "outputs": [
    {
     "name": "stdout",
     "output_type": "stream",
     "text": [
      "📊 카이제곱 독립성 검정 결과\n",
      "Chi-squared 통계량: 554.5036\n",
      "자유도 (df): 61\n",
      "p-value: 0.0000\n",
      "✔️ 직업과 이탈 여부 사이에 통계적으로 유의한 관계가 있습니다.\n"
     ]
    }
   ],
   "source": [
    "import pandas as pd\n",
    "from scipy.stats import chi2_contingency\n",
    "\n",
    "# 1. 범주형 변수 vs event (0/1) 교차표 만들기\n",
    "contingency_table = pd.crosstab(df[\"character_class\"], df[\"event\"])\n",
    "\n",
    "# 2. 카이제곱 검정 실행\n",
    "chi2, p, dof, expected = chi2_contingency(contingency_table)\n",
    "\n",
    "# 3. 결과 출력\n",
    "print(\"📊 카이제곱 독립성 검정 결과\")\n",
    "print(f\"Chi-squared 통계량: {chi2:.4f}\")\n",
    "print(f\"자유도 (df): {dof}\")\n",
    "print(f\"p-value: {p:.4f}\")\n",
    "\n",
    "if p < 0.05:\n",
    "    print(\"✔️ 직업과 이탈 여부 사이에 통계적으로 유의한 관계가 있습니다.\")\n",
    "else:\n",
    "    print(\"❌ 직업과 이탈 여부는 통계적으로 유의한 차이가 없습니다.\")\n"
   ]
  },
  {
   "cell_type": "code",
   "execution_count": 85,
   "id": "f98fea32-06a8-4d53-90af-e85895ff3941",
   "metadata": {},
   "outputs": [
    {
     "name": "stdout",
     "output_type": "stream",
     "text": [
      "Cramér's V: 0.0500\n"
     ]
    }
   ],
   "source": [
    "import numpy as np\n",
    "\n",
    "# N: 총 샘플 수, k: 더 작은 차원의 수 (min(rows, columns) - 1)\n",
    "N = contingency_table.values.sum()\n",
    "min_dim = min(contingency_table.shape) - 1\n",
    "cramers_v = np.sqrt(chi2 / (N * min_dim))\n",
    "print(f\"Cramér's V: {cramers_v:.4f}\")\n"
   ]
  },
  {
   "cell_type": "code",
   "execution_count": 87,
   "id": "e69ff318-d346-4b07-a478-fa5ffb6469c9",
   "metadata": {},
   "outputs": [
    {
     "name": "stdout",
     "output_type": "stream",
     "text": [
      "\n",
      "📊 이탈률 상위 10개 직업:\n",
      "  character_class  이탈률 (상위)\n",
      "0           나이트워커  0.170397\n",
      "1             바이퍼  0.146853\n",
      "2           소울마스터  0.145987\n",
      "3             섀도어  0.143202\n",
      "4          플레임위자드  0.142578\n",
      "5              라라  0.141769\n",
      "6            블래스터  0.137838\n",
      "7              은월  0.137709\n",
      "8      아크메이지(불,독)  0.135736\n",
      "9           배틀메이지  0.135219\n",
      "\n",
      "📉 이탈률 하위 10개 직업:\n",
      "  character_class  이탈률 (하위)\n",
      "0             초보자  0.056604\n",
      "1             카데나  0.089660\n",
      "2              제로  0.094285\n",
      "3           다크나이트  0.098668\n",
      "4              팬텀  0.103883\n",
      "5          듀얼블레이더  0.104270\n",
      "6              아크  0.105344\n",
      "7           데몬어벤져  0.106939\n",
      "8          데몬슬레이어  0.107004\n",
      "9              카인  0.107143\n"
     ]
    }
   ],
   "source": [
    "\n",
    "\n",
    "# 2. 등장 수가 적은 직업 제거 (예: 30개 이상)\n",
    "job_counts = df[\"character_class\"].value_counts()\n",
    "valid_jobs = job_counts[job_counts >= 30].index\n",
    "df_valid = df[df[\"character_class\"].isin(valid_jobs)]\n",
    "\n",
    "# 3. 직업별 이탈률 계산\n",
    "job_event_rate = df_valid.groupby(\"character_class\")[\"event\"].mean()\n",
    "\n",
    "# 4. 이탈률 상위 10\n",
    "top10_jobs = job_event_rate.sort_values(ascending=False).head(10).reset_index()\n",
    "top10_jobs.columns = [\"character_class\", \"이탈률 (상위)\"]\n",
    "print(\"\\n📊 이탈률 상위 10개 직업:\")\n",
    "print(top10_jobs)\n",
    "\n",
    "# 5. 이탈률 하위 10\n",
    "bottom10_jobs = job_event_rate.sort_values(ascending=True).head(10).reset_index()\n",
    "bottom10_jobs.columns = [\"character_class\", \"이탈률 (하위)\"]\n",
    "print(\"\\n📉 이탈률 하위 10개 직업:\")\n",
    "print(bottom10_jobs)\n",
    "\n",
    "# 6. 직업군 매핑 함수\n",
    "def get_class_group(cls):\n",
    "    if \"히어로\" in cls or \"팔라딘\" in cls or \"다크나이트\" in cls or \"소울마스터\" in cls:\n",
    "        return \"전사\"\n",
    "    elif \"아크메이지\" in cls or \"비숍\" in cls or \"플레임위자드\" in cls:\n",
    "        return \"마법사\"\n",
    "    elif \"나이트로드\" in cls or \"섀도어\" in cls or \"듀얼블레이더\" in cls or \"나이트워커\" in cls:\n",
    "        return \"도적\"\n",
    "    elif \"윈드브레이커\" in cls or \"보우마스터\" in cls or \"신궁\" in cls or \"패스파인더\" in cls:\n",
    "        return \"궁수\"\n"
   ]
  },
  {
   "cell_type": "code",
   "execution_count": 24,
   "id": "fe20ab09-5d96-4594-9b75-4a9373895834",
   "metadata": {},
   "outputs": [
    {
     "name": "stdout",
     "output_type": "stream",
     "text": [
      " 캐릭터 정보: {'date': '2024-10-24T00:00+09:00', 'character_name': '댜쨈', 'world_name': '스카니아', 'character_gender': '여', 'character_class': '아크메이지(불,독)', 'character_class_level': '6', 'character_level': 290, 'character_exp': 50150898506424, 'character_exp_rate': '17.040', 'character_guild_name': '미담', 'character_image': 'https://open.api.nexon.com/static/maplestory/character/look/PPPEIHDGKCCBHMJHODLCIFEOKDDENKEODIBGEGMLDANEJFPNLBHOEPICBKJNOAMDICJBFIKFCHJPFAJEOIBKGJKIIEGEPJGLNLJOBCJDFBECANGCEENMDCCDELOMPFKJNHEBAFCDLOCGCNMBDHNCDAFGNHHJDOICJNKPKJBDKLOJMJMFNKFNMEACPEECDAONFJJHGMFDGMEEBADIEPOIPFMOPGLHIBGAEBIOJPDIJNCGLLFHAJMHABOGDNIHMPOH', 'character_date_create': '2018-05-22T00:00+09:00', 'access_flag': 'true', 'liberation_quest_clear_flag': 'true'}\n"
     ]
    }
   ],
   "source": [
    "import requests\n",
    "\n",
    "API_KEY = \"live_6da477cce0d1ca918d4917fc55b8268d0849d7b5746a5e7acdace78398868480efe8d04e6d233bd35cf2fabdeb93fb0d\"\n",
    "ocid = \"315bde624cd11939bdbbabd4106fbe4f\"\n",
    "target_date = \"2024-10-24\"\n",
    "\n",
    "url = f\"https://open.api.nexon.com/maplestory/v1/character/basic?ocid={ocid}&date={target_date}\"\n",
    "headers = {\n",
    "    \"x-nxopen-api-key\": API_KEY\n",
    "}\n",
    "\n",
    "response = requests.get(url, headers=headers)\n",
    "\n",
    "if response.status_code == 200:\n",
    "    data = response.json()\n",
    "    print(\" 캐릭터 정보:\", data)\n",
    "else:\n",
    "    print(f\"❌ 호출 실패: 상태코드 {response.status_code}\")\n"
   ]
  },
  {
   "cell_type": "code",
   "execution_count": 25,
   "id": "a1106d03-ab75-4f0c-8b28-7450c27a2597",
   "metadata": {},
   "outputs": [
    {
     "name": "stdout",
     "output_type": "stream",
     "text": [
      " 랭킹 결과: {'ranking': [{'date': '2024-10-17', 'world_name': '스카니아', 'ranking': 5246, 'character_name': '댜빤', 'character_level': 290, 'character_exp': 31386070617907, 'class_name': '마법사', 'sub_class_name': '아크메이지(불,독)', 'character_popularity': 61, 'character_guildname': '미담'}]}\n"
     ]
    }
   ],
   "source": [
    "import requests\n",
    "\n",
    "API_KEY = \"live_6da477cce0d1ca918d4917fc55b8268d0849d7b5746a5e7acdace78398868480efe8d04e6d233bd35cf2fabdeb93fb0d\"\n",
    "ocid = \"315bde624cd11939bdbbabd4106fbe4f\"\n",
    "target_date = \"2024-10-17\"\n",
    "\n",
    "url = f\"https://open.api.nexon.com/maplestory/v1/ranking/overall\"\n",
    "params = {\n",
    "    \"date\": target_date,\n",
    "    \"ocid\": ocid  #  ocid 직접 검색 가능\n",
    "}\n",
    "\n",
    "headers = {\n",
    "    \"x-nxopen-api-key\": API_KEY\n",
    "}\n",
    "\n",
    "response = requests.get(url, headers=headers, params=params)\n",
    "\n",
    "if response.status_code == 200:\n",
    "    data = response.json()\n",
    "    print(\" 랭킹 결과:\", data)\n",
    "else:\n",
    "    print(f\"호출 실패: 상태코드 {response.status_code}\")\n"
   ]
  },
  {
   "cell_type": "code",
   "execution_count": 36,
   "id": "d07ea950-333d-45e9-aad5-cf38853515e4",
   "metadata": {},
   "outputs": [
    {
     "name": "stderr",
     "output_type": "stream",
     "text": [
      "100%|██████████| 5104/5104 [00:18<00:00, 283.02it/s]"
     ]
    },
    {
     "name": "stdout",
     "output_type": "stream",
     "text": [
      "✅ 저장 완료: ranking_detail_parallel.csv\n"
     ]
    },
    {
     "name": "stderr",
     "output_type": "stream",
     "text": [
      "\n"
     ]
    }
   ],
   "source": [
    "import pandas as pd\n",
    "import requests\n",
    "from concurrent.futures import ThreadPoolExecutor, as_completed\n",
    "from tqdm import tqdm\n",
    "import time\n",
    "\n",
    "# 🔐 넥슨 API 키\n",
    "API_KEY = \"live_6da477cce0d1ca918d4917fc55b8268d0849d7b5746a5e7acdace78398868480efe8d04e6d233bd35cf2fabdeb93fb0d\"\n",
    "headers = {\"x-nxopen-api-key\": API_KEY}\n",
    "\n",
    "# 📥 1. ocid + date 조합 불러오기\n",
    "df = pd.read_csv(\"df_missing_ocids_by_week.csv\")  # 너가 가진 파일 이름\n",
    "targets = df.to_dict(\"records\")\n",
    "def fetch_ranking_with_retry(row, max_retry=3, retry_delay=2.0):\n",
    "    ocid = row[\"ocid\"]\n",
    "    date = row[\"date\"]\n",
    "    url = \"https://open.api.nexon.com/maplestory/v1/ranking/overall\"\n",
    "    params = {\"date\": date, \"ocid\": ocid}\n",
    "\n",
    "    attempt = 0\n",
    "    while attempt < max_retry:\n",
    "        try:\n",
    "            res = requests.get(url, headers=headers, params=params, timeout=5)\n",
    "            status_code = res.status_code\n",
    "\n",
    "            # 429 감지되면 딜레이 후 재시도\n",
    "            if status_code == 429:\n",
    "                time.sleep(retry_delay)\n",
    "                attempt += 1\n",
    "                continue\n",
    "\n",
    "            # 정상 응답 시\n",
    "            data = res.json()\n",
    "\n",
    "            if status_code == 200 and isinstance(data.get(\"ranking\"), list) and len(data[\"ranking\"]) > 0:\n",
    "                entry = data[\"ranking\"][0]\n",
    "                return {\n",
    "                    \"ocid\": ocid,\n",
    "                    \"date\": date,\n",
    "                    \"ranking\": entry.get(\"ranking\"),\n",
    "                    \"character_name\": entry.get(\"character_name\"),\n",
    "                    \"world_name\": entry.get(\"world_name\"),\n",
    "                    \"character_gender\": entry.get(\"character_gender\"),\n",
    "                    \"character_class\": entry.get(\"class_name\"),\n",
    "                    \"sub_class_name\": entry.get(\"sub_class_name\"),\n",
    "                    \"character_class_level\": entry.get(\"character_class_level\"),\n",
    "                    \"character_level\": entry.get(\"character_level\"),\n",
    "                    \"character_exp\": entry.get(\"character_exp\"),\n",
    "                    \"character_popularity\": entry.get(\"character_popularity\"),\n",
    "                    \"character_guildname\": entry.get(\"character_guildname\"),\n",
    "                    \"exists_in_ranking\": True,\n",
    "                    \"status_code\": status_code,\n",
    "                    \"retry_count\": attempt\n",
    "                }\n",
    "            else:\n",
    "                return {\n",
    "                    \"ocid\": ocid,\n",
    "                    \"date\": date,\n",
    "                    \"exists_in_ranking\": False,\n",
    "                    \"status_code\": status_code,\n",
    "                    \"retry_count\": attempt\n",
    "                }\n",
    "\n",
    "        except Exception as e:\n",
    "            return {\n",
    "                \"ocid\": ocid,\n",
    "                \"date\": date,\n",
    "                \"exists_in_ranking\": False,\n",
    "                \"status_code\": None,\n",
    "                \"error\": str(e),\n",
    "                \"retry_count\": attempt\n",
    "            }\n",
    "\n",
    "    # 모든 시도 실패\n",
    "    return {\n",
    "        \"ocid\": ocid,\n",
    "        \"date\": date,\n",
    "        \"exists_in_ranking\": False,\n",
    "        \"status_code\": 429,\n",
    "        \"error\": \"Max retries exceeded\",\n",
    "        \"retry_count\": max_retry\n",
    "    }\n",
    "\n",
    "\n",
    "\n",
    "# 🚀 3. 병렬 실행 + tqdm 진행률 표시\n",
    "results = []\n",
    "with ThreadPoolExecutor(max_workers=10) as executor:\n",
    "    futures = [executor.submit(fetch_ranking, row) for row in targets]\n",
    "    for future in tqdm(as_completed(futures), total=len(futures)):\n",
    "        results.append(future.result())\n",
    "\n",
    "# 💾 4. 결과 저장\n",
    "df_result = pd.DataFrame(results)\n",
    "df_result.to_csv(\"ranking_detail_parallel.csv\", index=False)\n",
    "print(\"✅ 저장 완료: ranking_detail_parallel.csv\")\n"
   ]
  },
  {
   "cell_type": "code",
   "execution_count": 32,
   "id": "bf76def8-120f-4414-8268-e8ab17dfed7e",
   "metadata": {},
   "outputs": [
    {
     "name": "stdout",
     "output_type": "stream",
     "text": [
      "200\n",
      "{'ranking': [{'date': '2024-10-24', 'world_name': '스카니아', 'ranking': 5171, 'character_name': '댜쨈', 'character_level': 290, 'character_exp': 48008130199461, 'class_name': '마법사', 'sub_class_name': '아크메이지(불,독)', 'character_popularity': 64, 'character_guildname': '미담'}]}\n"
     ]
    }
   ],
   "source": [
    "# 예시로 1건만 호출해보기 (Colab에서 해봐!)\n",
    "import requests\n",
    "\n",
    "API_KEY = \"live_6da477cce0d1ca918d4917fc55b8268d0849d7b5746a5e7acdace78398868480efe8d04e6d233bd35cf2fabdeb93fb0d\"\n",
    "headers = {\"x-nxopen-api-key\": API_KEY}\n",
    "ocid = \"315bde624cd11939bdbbabd4106fbe4f\"  # 예시\n",
    "date = \"2024-10-24\"\n",
    "\n",
    "url = \"https://open.api.nexon.com/maplestory/v1/ranking/overall\"\n",
    "params = {\"date\": date, \"ocid\": ocid}\n",
    "\n",
    "res = requests.get(url, headers=headers, params=params)\n",
    "print(res.status_code)\n",
    "print(res.json())  # 진짜 응답 구조 출력!\n"
   ]
  },
  {
   "cell_type": "code",
   "execution_count": 46,
   "id": "3ebc4c4c-4e52-4909-b9e7-ed04c719ecbe",
   "metadata": {},
   "outputs": [
    {
     "name": "stderr",
     "output_type": "stream",
     "text": [
      "  0%|          | 11/5104 [00:00<02:50, 29.92it/s]"
     ]
    },
    {
     "name": "stdout",
     "output_type": "stream",
     "text": [
      "✅ 315bde624cd11939bdbbabd4106fbe4f (2024-10-24) - 상태코드: 200\n",
      "✅ 9e4feb1cf263a60b9df84e0bb9b3aee7 (2024-10-24) - 상태코드: 200\n",
      "✅ db0f1d9a578f1497f255d79c6d1abe48 (2024-10-24) - 상태코드: 200\n",
      "✅ 3327ccbd3400f6e634f96f2a8fcd162defe8d04e6d233bd35cf2fabdeb93fb0d (2024-10-24) - 상태코드: 200\n",
      "✅ 264d650994bf642095df232f7dc4102f (2024-10-24) - 상태코드: 200\n",
      "✅ 7405c8fde61d4e4851cd1aa898d8d5b8 (2024-10-24) - 상태코드: 200\n",
      "✅ a7e13030ee8c6e51786167354a2ce990 (2024-10-24) - 상태코드: 200\n",
      "✅ 991f8e71da1217400748eed40b8bdf23efe8d04e6d233bd35cf2fabdeb93fb0d (2024-10-24) - 상태코드: 200\n",
      "✅ 8839da22fb9364c6aabaa31bc982a7c3 (2024-10-24) - 상태코드: 200\n",
      "✅ 24cbbe59b7b772e1748abfa6a0ced4edefe8d04e6d233bd35cf2fabdeb93fb0d (2024-10-24) - 상태코드: 200\n",
      "✅ 48e293fc7543f05bc30bf6108b0eefdfefe8d04e6d233bd35cf2fabdeb93fb0d (2024-10-24) - 상태코드: 200\n",
      "✅ af7df64ff10600cd3f87ebf9f384b6d3efe8d04e6d233bd35cf2fabdeb93fb0d (2024-10-24) - 상태코드: 200\n",
      "✅ 3d9a94d775603949b0ae473c50a3f4b5a2186d8e7cf7a6ee152d97cc78f2ae8b (2024-10-24) - 상태코드: 200\n",
      "✅ 807feeccc912b2f985bb4f603a6090b4 (2024-10-24) - 상태코드: 200\n",
      "✅ 3b5e23900beda889be4f7aedeeb96c38 (2024-10-24) - 상태코드: 200\n",
      "✅ 0a703636d6ef26bf9635e788a1126201 (2024-10-24) - 상태코드: 200\n",
      "✅ ee8086306bb0e8977e8b5043c21f8aa3 (2024-10-24) - 상태코드: 200\n",
      "✅ 3b0a86781652eef43a99c874e8fcb53b (2024-10-24) - 상태코드: 200\n",
      "✅ 81d5504e53dc7b342acc44dde70ff116 (2024-10-24) - 상태코드: 200\n"
     ]
    },
    {
     "name": "stderr",
     "output_type": "stream",
     "text": [
      "  1%|          | 30/5104 [00:00<02:04, 40.69it/s]"
     ]
    },
    {
     "name": "stdout",
     "output_type": "stream",
     "text": [
      "✅ 3a7e08a69892768f972496b0079ac613 (2024-10-24) - 상태코드: 200\n",
      "✅ 08d4c15fef4abbb7fafdb0c8e32569cc (2024-10-24) - 상태코드: 200\n",
      "✅ f8bccbb2b8e11c398cd4def2a4d537e6efe8d04e6d233bd35cf2fabdeb93fb0d (2024-10-24) - 상태코드: 200\n",
      "✅ 410d83c87d0f64f36d085a2fd5683716 (2024-10-24) - 상태코드: 200\n",
      "✅ b41af48f5c8f99c0a72b347067009184 (2024-10-24) - 상태코드: 200\n",
      "✅ 7098187b25417dbd097d65d40b67a4f3efe8d04e6d233bd35cf2fabdeb93fb0d (2024-10-24) - 상태코드: 200\n",
      "✅ 4dfcb54e90ede3a5282be3d978d2cfe2 (2024-10-24) - 상태코드: 200\n",
      "✅ bdce92e7d77d572d4fdcc92144dff95c (2024-10-24) - 상태코드: 200\n",
      "✅ 04397613111392e7101191c8b2ec61b3 (2024-10-24) - 상태코드: 200\n",
      "✅ 40d94d313b4c225242e3e3bd800f012befe8d04e6d233bd35cf2fabdeb93fb0d (2024-10-24) - 상태코드: 200\n",
      "✅ 2b385ec791f74c59a2a7ac45a5956ff1efe8d04e6d233bd35cf2fabdeb93fb0d (2024-10-24) - 상태코드: 200\n"
     ]
    },
    {
     "name": "stderr",
     "output_type": "stream",
     "text": [
      "  1%|          | 40/5104 [00:01<01:53, 44.43it/s]"
     ]
    },
    {
     "name": "stdout",
     "output_type": "stream",
     "text": [
      "✅ b6306cb2e24c78a6d0f285a94abd91c5 (2024-10-24) - 상태코드: 200\n",
      "✅ 627e4e1ce47e680e1dd5d10230d2045a (2024-10-24) - 상태코드: 200\n",
      "✅ 81d26c0bf01616214f8dd84ead8410ea (2024-10-24) - 상태코드: 200\n",
      "✅ 19907f569272e742367e3fd4eac592a5efe8d04e6d233bd35cf2fabdeb93fb0d (2024-10-24) - 상태코드: 200\n",
      "✅ e0a5b9d981b953027ec125d53747956d (2024-10-24) - 상태코드: 200\n",
      "✅ b02057530bea0a149f2801f835e46f87efe8d04e6d233bd35cf2fabdeb93fb0d (2024-10-24) - 상태코드: 200\n",
      "✅ 00c5e829d4385f74d74db40f821dba4defe8d04e6d233bd35cf2fabdeb93fb0d (2024-10-24) - 상태코드: 200\n",
      "✅ 851cd8f0741c6538d3f95afd0faf970befe8d04e6d233bd35cf2fabdeb93fb0d (2024-10-24) - 상태코드: 200\n",
      "✅ bb35fb78fb9357fa916a6dcc99af6348efe8d04e6d233bd35cf2fabdeb93fb0d (2024-10-24) - 상태코드: 200\n",
      "✅ fca9e542e0173dc7d82126a16f3e0d05efe8d04e6d233bd35cf2fabdeb93fb0d (2024-10-24) - 상태코드: 200\n"
     ]
    },
    {
     "name": "stderr",
     "output_type": "stream",
     "text": [
      "  1%|          | 47/5104 [00:01<01:43, 48.72it/s]"
     ]
    },
    {
     "name": "stdout",
     "output_type": "stream",
     "text": [
      "✅ 94c1f873fe46a7c287e69dd24458d8fcefe8d04e6d233bd35cf2fabdeb93fb0d (2024-10-24) - 상태코드: 200\n",
      "✅ ad256bb0ec82c5501412f64725a736cc (2024-10-24) - 상태코드: 200\n",
      "✅ bc3afe427078a9dc2ef38e00cd52ddae (2024-10-24) - 상태코드: 200\n",
      "✅ 5b9fa0db1182f5540eae33601201abf1 (2024-10-24) - 상태코드: 200\n",
      "✅ bf84e99ac70f7663eaf5842e0a697b72 (2024-10-24) - 상태코드: 200\n",
      "✅ 530cf767f43dca203c7b412f6d3fd033 (2024-10-24) - 상태코드: 200\n",
      "✅ ef2e51dbadfc636179984e386b265f80 (2024-10-24) - 상태코드: 200\n",
      "✅ 2172f0fa63e98d078558490328da113defe8d04e6d233bd35cf2fabdeb93fb0d (2024-10-24) - 상태코드: 200\n",
      "✅ 00f0247829e58edec8641622bc418451 (2024-10-24) - 상태코드: 200\n",
      "✅ 7969110f097cbb90c94d186b0e152d2d (2024-10-24) - 상태코드: 200\n"
     ]
    },
    {
     "name": "stderr",
     "output_type": "stream",
     "text": [
      "  1%|          | 59/5104 [00:01<01:57, 43.11it/s]"
     ]
    },
    {
     "name": "stdout",
     "output_type": "stream",
     "text": [
      "✅ 69f5080323bbd70593f64349947d313f6fbb98200a15be5bcc73a64995849e9c (2024-10-24) - 상태코드: 200\n",
      "✅ adec6db8f6769d50dc21317084ca1832 (2024-10-24) - 상태코드: 200\n",
      "✅ ee5f641bc5d21be86fe2f326067b4dd2fd842dab14be2a956555625b37c97bff (2024-10-24) - 상태코드: 200\n",
      "✅ 754924d82f140e7f75f38b3a6861cbd5efe8d04e6d233bd35cf2fabdeb93fb0d (2024-10-24) - 상태코드: 200\n",
      "✅ 00ff9cf9e4e55f80c30c4036eec9a5b7 (2024-10-24) - 상태코드: 200\n",
      "✅ 2aa540cfc2b0e638404c9641cf5daddb (2024-10-24) - 상태코드: 200\n",
      "✅ c6747526cd4974f9b6eb571fcab03962 (2024-10-24) - 상태코드: 200\n",
      "✅ 7536dd5750cb17a6348d78f890df1434 (2024-10-24) - 상태코드: 200\n",
      "✅ 076b3d750585a58f310b851421e00963efe8d04e6d233bd35cf2fabdeb93fb0d (2024-10-24) - 상태코드: 200\n"
     ]
    },
    {
     "name": "stderr",
     "output_type": "stream",
     "text": [
      "  1%|▏         | 65/5104 [00:01<01:55, 43.47it/s]"
     ]
    },
    {
     "name": "stdout",
     "output_type": "stream",
     "text": [
      "✅ 2247638e6bf41f5e48183a67c38b318aefe8d04e6d233bd35cf2fabdeb93fb0d (2024-10-24) - 상태코드: 200✅ 5ab87c996862d7562a307001b4d61125 (2024-10-24) - 상태코드: 200\n",
      "\n",
      "✅ 5c3e904eaca03b316daf87c4c78d0c88 (2024-10-24) - 상태코드: 200\n",
      "✅ 9eed691a31409febf72f25664bddb99d (2024-10-24) - 상태코드: 200\n",
      "✅ d958730d11ec9bd6bcbb0bfe7f04b0f0 (2024-10-24) - 상태코드: 200\n",
      "✅ ff4eb2f8588bac475f3fe42871237794fd842dab14be2a956555625b37c97bff (2024-10-24) - 상태코드: 200\n",
      "✅ fa150f4f589523c6d1bf1e3407338a56 (2024-10-24) - 상태코드: 200\n",
      "✅ 6ae8fb0f5733ef971a3fbca9150ebbc8efe8d04e6d233bd35cf2fabdeb93fb0d (2024-10-24) - 상태코드: 200\n"
     ]
    },
    {
     "name": "stderr",
     "output_type": "stream",
     "text": [
      "  2%|▏         | 80/5104 [00:01<01:43, 48.39it/s]"
     ]
    },
    {
     "name": "stdout",
     "output_type": "stream",
     "text": [
      "✅ cd9c1a0e5fb457317a5ef2a017b8674d (2024-10-24) - 상태코드: 200\n",
      "✅ d742f62993190da82fa7f4671ebb1476 (2024-10-24) - 상태코드: 200\n",
      "✅ b25462bc97296d2fd9f68af551fcbeee (2024-10-24) - 상태코드: 200\n",
      "✅ 6ffc14ff1de7b5b0a3f208b593b1144e (2024-10-24) - 상태코드: 200\n",
      "✅ 496b4cd980bd283bff89823a280043dd (2024-10-24) - 상태코드: 200\n",
      "✅ 2911af63fbd902765a852e40a2d9488d (2024-10-24) - 상태코드: 200\n",
      "✅ 3aa9923eda02aa2bdc26247a537dbf47 (2024-10-24) - 상태코드: 200\n",
      "✅ 220f3f6430ef1e58043bf3a312720c1f (2024-10-24) - 상태코드: 200\n",
      "✅ 6ef7a179284f11d7546a25bf2025929e (2024-10-24) - 상태코드: 200\n",
      "✅ 7a4514b5f4926a606496c8fd07f52db3 (2024-10-24) - 상태코드: 200\n",
      "✅ 4884449afbaa73469596120426f819cb (2024-10-24) - 상태코드: 200\n",
      "✅ 98a45d21eb8221d564c9c1443bc5841a (2024-10-24) - 상태코드: 200\n",
      "✅ b2fb907f6fbf6a039f1cef6bdc4e8457 (2024-10-24) - 상태코드: 200\n"
     ]
    },
    {
     "name": "stderr",
     "output_type": "stream",
     "text": [
      "  2%|▏         | 86/5104 [00:02<01:52, 44.47it/s]"
     ]
    },
    {
     "name": "stdout",
     "output_type": "stream",
     "text": [
      "✅ 605c5b412201ef038f655c06b69256d8 (2024-10-24) - 상태코드: 200\n",
      "✅ c86d73029385cda466c249c59460456e (2024-10-24) - 상태코드: 200\n",
      "✅ 5695c6dc53f86e8110a6b37030d9247befe8d04e6d233bd35cf2fabdeb93fb0d (2024-10-24) - 상태코드: 200\n",
      "✅ 4d81036df6de4dd823224867e97a22b1efe8d04e6d233bd35cf2fabdeb93fb0d (2024-10-24) - 상태코드: 200\n",
      "✅ 9024e79c09fefe51fcc407bc2dd975b8 (2024-10-24) - 상태코드: 400\n",
      "✅ 7dbc7f73d47fea9e42ae93a4c62e0ed6 (2024-10-24) - 상태코드: 200\n",
      "✅ 2eaee8491645cd83b692755c6871e827 (2024-10-24) - 상태코드: 200\n",
      "✅ 09c019e289606a3b2a18f40609107b00efe8d04e6d233bd35cf2fabdeb93fb0d (2024-10-24) - 상태코드: 200\n"
     ]
    },
    {
     "name": "stderr",
     "output_type": "stream",
     "text": [
      "  2%|▏         | 97/5104 [00:02<01:54, 43.66it/s]"
     ]
    },
    {
     "name": "stdout",
     "output_type": "stream",
     "text": [
      "✅ b15e18d83c7d8c7f7c94804068d4b7cd (2024-10-24) - 상태코드: 200\n",
      "✅ 1bddcdc6fd36de3027e6160f50cddddb (2024-10-24) - 상태코드: 200\n",
      "✅ 6e4f367a8570a3917a021b17f3b93f40 (2024-10-24) - 상태코드: 200\n",
      "✅ 1ef452f60e1c495a0feea39efdaeca6defe8d04e6d233bd35cf2fabdeb93fb0d (2024-10-24) - 상태코드: 200\n",
      "✅ 00752eba8243c7bd7726f2cc049c98ec (2024-10-24) - 상태코드: 200\n",
      "✅ aec6a2730d4855e2ad977e689f62f035 (2024-10-24) - 상태코드: 200\n",
      "✅ 51845de1965d98fc6f98fbc9a23c1aa7 (2024-10-24) - 상태코드: 200\n",
      "✅ cb4ab50d21a1dc5cdd93baa0f5a1e733 (2024-10-24) - 상태코드: 200\n",
      "✅ 60e974628b1641b69fabbf09b0a3d9d0efe8d04e6d233bd35cf2fabdeb93fb0d (2024-10-24) - 상태코드: 200\n"
     ]
    },
    {
     "name": "stderr",
     "output_type": "stream",
     "text": [
      "  2%|▏         | 104/5104 [00:02<01:43, 48.24it/s]"
     ]
    },
    {
     "name": "stdout",
     "output_type": "stream",
     "text": [
      "✅ fcf680f9c825512ac48d975fcaa6b114 (2024-10-24) - 상태코드: 200\n",
      "✅ 708338f60a339c4874542898fdf0d95f (2024-10-24) - 상태코드: 200\n",
      "✅ be8dceaaf819ce55ad47281d2c3aca6a (2024-10-24) - 상태코드: 200\n",
      "✅ 40e64ade6d66696614500aaa8a99cfb7efe8d04e6d233bd35cf2fabdeb93fb0d (2024-10-24) - 상태코드: 200\n",
      "✅ a9883bdf4e25cec3f532cc1a55500132efe8d04e6d233bd35cf2fabdeb93fb0d (2024-10-24) - 상태코드: 200\n",
      "✅ a1333be07c304f5a7eb0f373a33d2d98 (2024-10-24) - 상태코드: 200\n",
      "✅ b18d9e1753f46bd3050aa6d6118310e5 (2024-10-24) - 상태코드: 200\n",
      "✅ dadfd46c8cc678054be9ed21d861b887 (2024-10-24) - 상태코드: 200\n",
      "✅ f4e3fec9b164dcb0a1289b10e79ef451efe8d04e6d233bd35cf2fabdeb93fb0d (2024-10-24) - 상태코드: 200\n"
     ]
    },
    {
     "name": "stderr",
     "output_type": "stream",
     "text": [
      "  2%|▏         | 116/5104 [00:02<01:45, 47.19it/s]"
     ]
    },
    {
     "name": "stdout",
     "output_type": "stream",
     "text": [
      "✅ 9bd1499b442d4062547c1adc7ece28f1efe8d04e6d233bd35cf2fabdeb93fb0d (2024-10-24) - 상태코드: 200\n",
      "✅ cca5fe91053ac3e862f700e605d60b13 (2024-10-24) - 상태코드: 200\n",
      "✅ 4308a2677e293579227539db8e10b4b0 (2024-10-24) - 상태코드: 200\n",
      "✅ fb3acbfc29d1ca6e6d9c7e0429d20d9c (2024-10-24) - 상태코드: 200\n",
      "✅ 4f7b6a34d6c6dcef7dc640080511eb88 (2024-10-24) - 상태코드: 200\n",
      "✅ 17450708b81f9f3359ae63a9a468a57defe8d04e6d233bd35cf2fabdeb93fb0d (2024-10-24) - 상태코드: 200\n",
      "✅ 9d4ad6c5a2848655113cc430c37c56defd842dab14be2a956555625b37c97bff (2024-10-24) - 상태코드: 200\n",
      "✅ ac4857b3f0caf5a20cab1ead94a9c651efe8d04e6d233bd35cf2fabdeb93fb0d (2024-10-24) - 상태코드: 200\n",
      "✅ de16e13a7eafd1f329168c7444e2eccc (2024-10-24) - 상태코드: 200\n",
      "✅ 49e4062e600859434b384a79cdb1e722 (2024-10-24) - 상태코드: 200\n"
     ]
    },
    {
     "name": "stderr",
     "output_type": "stream",
     "text": [
      "  2%|▏         | 126/5104 [00:02<01:47, 46.37it/s]"
     ]
    },
    {
     "name": "stdout",
     "output_type": "stream",
     "text": [
      "✅ f7d153f788bb31a48fac00d05ca5b8e2 (2024-10-24) - 상태코드: 200\n",
      "✅ 5d50176fa95c4c2777f8cfab25791e99 (2024-10-24) - 상태코드: 200\n",
      "✅ d8ec6412ba8d1aa3baf5978db66b0b7fefe8d04e6d233bd35cf2fabdeb93fb0d (2024-10-24) - 상태코드: 200\n",
      "✅ 1d205e20b3768b973ab739386bf45221 (2024-10-24) - 상태코드: 200\n",
      "✅ bb2a595185dc1df66fb5642d4cb6d8fe (2024-10-24) - 상태코드: 200\n",
      "✅ 4ef511aa921e2e3e6e057c7c190f671d (2024-10-24) - 상태코드: 200\n",
      "✅ b8f92200c8f90db7c81b555437190dc1 (2024-10-24) - 상태코드: 200\n",
      "✅ 13517ce3b03cf0d225cba188d339f89d (2024-10-24) - 상태코드: 200\n",
      "✅ a8f2459bf9923a1b9089fd10116aeca6efe8d04e6d233bd35cf2fabdeb93fb0d (2024-10-24) - 상태코드: 200\n",
      "✅ 2588c5b885c4e32438bf8f6b64b722d2 (2024-10-24) - 상태코드: 200\n",
      "✅ 086f27ce61e74d439eaf2d84ee835d22 (2024-10-24) - 상태코드: 200\n",
      "✅ 22cbe662f126130dcec290b4876c03a0 (2024-10-24) - 상태코드: 200\n"
     ]
    },
    {
     "name": "stderr",
     "output_type": "stream",
     "text": [
      "  3%|▎         | 136/5104 [00:03<01:49, 45.46it/s]"
     ]
    },
    {
     "name": "stdout",
     "output_type": "stream",
     "text": [
      "✅ 0bf63c31bc6693c1540a47e87e126f98 (2024-10-24) - 상태코드: 200\n",
      "✅ afe1ecee209a814d003e66f02aa90ba7 (2024-10-24) - 상태코드: 200\n",
      "✅ 807fc6aacd5bf09d9538833839060527efe8d04e6d233bd35cf2fabdeb93fb0d (2024-10-24) - 상태코드: 200\n",
      "✅ 700ceb61d6e2960336214a24f4d1db1f (2024-10-24) - 상태코드: 200\n",
      "✅ 42f82e26c2b4470c06e2b7c7e069cfa1efe8d04e6d233bd35cf2fabdeb93fb0d (2024-10-24) - 상태코드: 200\n",
      "✅ 3aaa00df5844bdc55cad1986624c3be7efe8d04e6d233bd35cf2fabdeb93fb0d (2024-10-24) - 상태코드: 200\n",
      "✅ beb183e075d75cdae0b97ffe4c3e02ceefe8d04e6d233bd35cf2fabdeb93fb0d (2024-10-24) - 상태코드: 200\n",
      "✅ 3de3fe2e9606b7bdb416739499e57563c47ea5ffea2564f587ca830a8f71acb2 (2024-10-24) - 상태코드: 200\n",
      "✅ 062f16456e427ad94943fdf121da3491 (2024-10-24) - 상태코드: 200\n",
      "✅ 33cf25def0b2f62779a9452b8dc605c8 (2024-10-24) - 상태코드: 200\n"
     ]
    },
    {
     "name": "stderr",
     "output_type": "stream",
     "text": [
      "  3%|▎         | 147/5104 [00:03<01:58, 41.73it/s]"
     ]
    },
    {
     "name": "stdout",
     "output_type": "stream",
     "text": [
      "✅ d61fa89d1074146d96916f1247cd347d (2024-10-24) - 상태코드: 200\n",
      "✅ ae50c7bc094edac9fc8259680d5a9c30e85e07f9d5d276f44440847eec04ba68 (2024-10-24) - 상태코드: 200\n",
      "✅ e140432e14534fe2cba19340c7346d79 (2024-10-24) - 상태코드: 200\n",
      "✅ 6f8dbc2f1ff23a2fd3616982e0e6c90eefe8d04e6d233bd35cf2fabdeb93fb0d (2024-10-24) - 상태코드: 200\n",
      "✅ f6fc240b0f3b41439bfd22a3413be412efe8d04e6d233bd35cf2fabdeb93fb0d (2024-10-24) - 상태코드: 200\n",
      "✅ d57a207f97a111ea7d7e09acc2481a1a (2024-10-24) - 상태코드: 200\n",
      "✅ cab50ec80162c1dcbeedfa1bad957da0efe8d04e6d233bd35cf2fabdeb93fb0d (2024-10-24) - 상태코드: 200\n",
      "✅ e9626a0c27a5300130a601ca83fabf3f (2024-10-24) - 상태코드: 200\n",
      "✅ 749fd7656fa0da1ec9eee05d129a24e9 (2024-10-24) - 상태코드: 200\n",
      "✅ 91dae7b1a84220b6478ece3a67eb65ac (2024-10-24) - 상태코드: 200\n",
      "✅ 4909250c0ad14d97246c828356d1f659 (2024-10-24) - 상태코드: 200\n",
      "✅ b651391ba94012d07f19648bcdc555cc (2024-10-24) - 상태코드: 200\n",
      "✅ a546125a6567f76bda355fb111ab1a29 (2024-10-24) - 상태코드: 200\n"
     ]
    },
    {
     "name": "stderr",
     "output_type": "stream",
     "text": [
      "  3%|▎         | 162/5104 [00:03<01:38, 50.22it/s]"
     ]
    },
    {
     "name": "stdout",
     "output_type": "stream",
     "text": [
      "✅ 086c7e98e760bdc20731251d90a40333efe8d04e6d233bd35cf2fabdeb93fb0d (2024-10-24) - 상태코드: 200\n",
      "✅ 05b7c656f8e0cb3e06fad02b9ec2d33e (2024-10-24) - 상태코드: 200\n",
      "✅ 01c21c1fab12f0ceda9ab04178eab3d0 (2024-10-24) - 상태코드: 200\n",
      "✅ b6facd19e1308eb1d66c009c3f3889ad (2024-10-24) - 상태코드: 200\n",
      "✅ 0155920a06c5a23dacf672a46c6e9c10 (2024-10-24) - 상태코드: 200\n",
      "✅ 73ecbf3269e394a3f722e97b53c72fb7 (2024-10-24) - 상태코드: 200\n",
      "✅ 949332668982d81498ae683612d78c00 (2024-10-24) - 상태코드: 200\n",
      "✅ 69a79ee5543c1d0fe29da4e169e0bcdc (2024-10-24) - 상태코드: 200\n",
      "✅ 9dd98c3333a69c3a6e17e6739840c2ebefe8d04e6d233bd35cf2fabdeb93fb0d (2024-10-24) - 상태코드: 200\n",
      "✅ 9db944cb648dbfa0bebd86e854c9ebeeefe8d04e6d233bd35cf2fabdeb93fb0d (2024-10-24) - 상태코드: 200\n",
      "✅ e232a5f985f59c4f8d13254992e165acefe8d04e6d233bd35cf2fabdeb93fb0d (2024-10-24) - 상태코드: 200\n"
     ]
    },
    {
     "name": "stderr",
     "output_type": "stream",
     "text": [
      "  3%|▎         | 173/5104 [00:03<01:54, 43.25it/s]"
     ]
    },
    {
     "name": "stdout",
     "output_type": "stream",
     "text": [
      "✅ 4fe0212aea0ada386b0eee96db13062befe8d04e6d233bd35cf2fabdeb93fb0d (2024-10-24) - 상태코드: 200\n",
      "✅ 9d1eb4e59abcf837a062b4a851360f0eefe8d04e6d233bd35cf2fabdeb93fb0d (2024-10-24) - 상태코드: 200\n",
      "✅ aa02f2c859c17c676c581f4256e69966 (2024-10-24) - 상태코드: 200\n",
      "✅ d6d5b0150d614b29d1881d93d1c01a9fc47ea5ffea2564f587ca830a8f71acb2 (2024-10-24) - 상태코드: 200\n",
      "✅ 5b56ff5b0c2c32e6f2c29b054e06bd0fefe8d04e6d233bd35cf2fabdeb93fb0d (2024-10-24) - 상태코드: 200\n",
      "✅ f7bf309b6fd22e629826ad726292aad4 (2024-10-24) - 상태코드: 200\n",
      "✅ 8a17735b943abcf8f612b8e4c3bceb41efe8d04e6d233bd35cf2fabdeb93fb0d (2024-10-24) - 상태코드: 200\n",
      "✅ 661c2af5b554a5b28cc0dc6cce4702ab (2024-10-24) - 상태코드: 200\n",
      "✅ 569063766792419f9fa7e66d599794f5efe8d04e6d233bd35cf2fabdeb93fb0d (2024-10-24) - 상태코드: 200\n",
      "✅ 2bc563e13e76d8e5504480756fe73516 (2024-10-24) - 상태코드: 200\n",
      "✅ fb12f318b0d9f4618f8604ffe0f888fb (2024-10-24) - 상태코드: 200\n"
     ]
    },
    {
     "name": "stderr",
     "output_type": "stream",
     "text": [
      "  4%|▎         | 180/5104 [00:04<01:41, 48.45it/s]"
     ]
    },
    {
     "name": "stdout",
     "output_type": "stream",
     "text": [
      "✅ 595e3f205099d0cc0b4f48a6311bba61efe8d04e6d233bd35cf2fabdeb93fb0d (2024-10-24) - 상태코드: 200\n",
      "✅ 3325202d40b4d8a66b3abb6a8328b75e6fbb98200a15be5bcc73a64995849e9c (2024-10-24) - 상태코드: 200\n",
      "✅ a95bb1dac3969c64eccd20f750163a2a (2024-10-24) - 상태코드: 200\n",
      "✅ fb9565b9cea4342e8166135956d989af (2024-10-24) - 상태코드: 200\n",
      "✅ 6c463e11735b91abe05eaf30a96c71ba (2024-10-24) - 상태코드: 200\n",
      "✅ 4f9627fd0dfbbe737d8aa8ca3c6bf8d7 (2024-10-24) - 상태코드: 200\n",
      "✅ 15bcdde646cb198573a7d351065bb9a4 (2024-10-24) - 상태코드: 200\n",
      "✅ 9b0bfe1bbaa8d8084fdace27568d420f (2024-10-24) - 상태코드: 200\n",
      "✅ 5a9caeb2090088491eff66ba27911c11 (2024-10-24) - 상태코드: 200\n",
      "✅ 71f0b98d89bc23c202c05265943c6bc5 (2024-10-24) - 상태코드: 200\n",
      "✅ cb6a1af44c29bed33d1668c9af14e964efe8d04e6d233bd35cf2fabdeb93fb0d (2024-10-24) - 상태코드: 200\n"
     ]
    },
    {
     "name": "stderr",
     "output_type": "stream",
     "text": [
      "  4%|▎         | 191/5104 [00:04<01:52, 43.72it/s]"
     ]
    },
    {
     "name": "stdout",
     "output_type": "stream",
     "text": [
      "✅ f8876c7e64d221313a716acd63c918a5 (2024-10-24) - 상태코드: 200\n",
      "✅ 3319030d2d683c47e357b7e11ded870e (2024-10-24) - 상태코드: 200\n",
      "✅ bb8599971672667eb989098fa4524c88efe8d04e6d233bd35cf2fabdeb93fb0d (2024-10-24) - 상태코드: 200\n",
      "✅ 09fe715758f3f0a4298876d30db06a78 (2024-10-24) - 상태코드: 200\n",
      "✅ ddf217188d89c174471891a6b6f59d99efe8d04e6d233bd35cf2fabdeb93fb0d (2024-10-24) - 상태코드: 200\n",
      "✅ 078a8d1a09e2ea6f370016dee51c52d0 (2024-10-24) - 상태코드: 200\n",
      "✅ 8f8cff703afe3336102c4a029a750416 (2024-10-24) - 상태코드: 200\n",
      "✅ 279067f16ee430c8455007ea5690d2dc (2024-10-24) - 상태코드: 200\n",
      "✅ a5a04b39e333907796194fca06402cafefe8d04e6d233bd35cf2fabdeb93fb0d (2024-10-24) - 상태코드: 200\n"
     ]
    },
    {
     "name": "stderr",
     "output_type": "stream",
     "text": [
      "  4%|▍         | 202/5104 [00:04<01:57, 41.70it/s]"
     ]
    },
    {
     "name": "stdout",
     "output_type": "stream",
     "text": [
      "✅ ca3fdcb2df3f9fdeb0c0118631640d58 (2024-10-24) - 상태코드: 200\n",
      "✅ 3d0eb3a674b7a1573e1461955e5a5ae5efe8d04e6d233bd35cf2fabdeb93fb0d (2024-10-24) - 상태코드: 200\n",
      "✅ d6078a0e72764a97b7c26be52905f53cefe8d04e6d233bd35cf2fabdeb93fb0d (2024-10-24) - 상태코드: 200\n",
      "✅ 0741328edd7b9990d605a751adecf551 (2024-10-24) - 상태코드: 200\n",
      "✅ 2e544470cd22f7ed241dfa0adcc7ce1b (2024-10-24) - 상태코드: 200\n",
      "✅ 0cb0698dd005ec642f6cc183508339d0 (2024-10-24) - 상태코드: 200\n",
      "✅ de11c2621c2c65803f88c55a413e82edefe8d04e6d233bd35cf2fabdeb93fb0d (2024-10-24) - 상태코드: 200\n",
      "✅ 21f28a9cfdc51081fb323f008e874e88 (2024-10-24) - 상태코드: 200\n",
      "✅ 9f08774afa676e2907ec2a4cce249576 (2024-10-24) - 상태코드: 200\n"
     ]
    },
    {
     "name": "stderr",
     "output_type": "stream",
     "text": [
      "  4%|▍         | 207/5104 [00:04<02:03, 39.63it/s]"
     ]
    },
    {
     "name": "stdout",
     "output_type": "stream",
     "text": [
      "✅ 3409df3f5f678bbf3076f251791af207efe8d04e6d233bd35cf2fabdeb93fb0d (2024-10-24) - 상태코드: 200\n",
      "✅ c1b6895b3b693f54062f25776424c8b7 (2024-10-24) - 상태코드: 200\n",
      "✅ 68eedfd0b23ea20eede902ab6f824213efe8d04e6d233bd35cf2fabdeb93fb0d (2024-10-24) - 상태코드: 200\n",
      "✅ 7e24b6ce24e58138322dbd0136e89666 (2024-10-24) - 상태코드: 200\n",
      "✅ a97f73b0c4501bb55db37c2f47b8a038 (2024-10-24) - 상태코드: 200\n",
      "✅ 22b60e52a31722eea52a03a2e22a3562efe8d04e6d233bd35cf2fabdeb93fb0d (2024-10-24) - 상태코드: 200\n",
      "✅ 11a0476903f4c67e798b027c683beb5b (2024-10-24) - 상태코드: 200\n",
      "✅ 1e5f72f23ced1cf58753a7576a8ab39cefe8d04e6d233bd35cf2fabdeb93fb0d (2024-10-24) - 상태코드: 200\n",
      "✅ 917faa7948e7ad9d15c872e760574f76 (2024-10-24) - 상태코드: 200\n",
      "✅ ca79866792d247003783b9bb3d5cc06d (2024-10-24) - 상태코드: 200\n"
     ]
    },
    {
     "name": "stderr",
     "output_type": "stream",
     "text": [
      "  4%|▍         | 218/5104 [00:04<01:59, 40.99it/s]"
     ]
    },
    {
     "name": "stdout",
     "output_type": "stream",
     "text": [
      "✅ 9aeef4ced3288f15f5db522b4183c3f9 (2024-10-24) - 상태코드: 200\n",
      "✅ 769e173a14c77fb1481869547dbd5b9defe8d04e6d233bd35cf2fabdeb93fb0d (2024-10-24) - 상태코드: 200\n",
      "✅ 922f72e1f844a47114dc7db73fa08d6a (2024-10-24) - 상태코드: 200\n",
      "✅ af56e2d5ff0c34b4fa11a322a0404514 (2024-10-24) - 상태코드: 200\n",
      "✅ f9cc4a44c68c926a091d7c9ab793fb9e (2024-10-24) - 상태코드: 200\n",
      "✅ a63955c13457331aa52bf6f60d3404bfe85e07f9d5d276f44440847eec04ba68 (2024-10-24) - 상태코드: 200\n",
      "✅ e687482501bdc080bafc05e81cb0bca0 (2024-10-24) - 상태코드: 200\n",
      "✅ 9a54921e11117eb71cec9e33572d00efefe8d04e6d233bd35cf2fabdeb93fb0d (2024-10-24) - 상태코드: 200\n",
      "✅ 0dae0e8b99af48a4b83b141d597d184e (2024-10-24) - 상태코드: 200\n"
     ]
    },
    {
     "name": "stderr",
     "output_type": "stream",
     "text": [
      "  4%|▍         | 229/5104 [00:05<02:01, 39.97it/s]"
     ]
    },
    {
     "name": "stdout",
     "output_type": "stream",
     "text": [
      "✅ 2e0cb71481f120daf870ef953d7e0dcdefe8d04e6d233bd35cf2fabdeb93fb0d (2024-10-24) - 상태코드: 200\n",
      "✅ 611ddd9239c26376a34e2ce13daf1117efe8d04e6d233bd35cf2fabdeb93fb0d (2024-10-24) - 상태코드: 200\n",
      "✅ a7f95350386a76412ec16bffe8b5086e (2024-10-24) - 상태코드: 200\n",
      "✅ 83e2d5de5d91e75cf347c534feedc677 (2024-10-24) - 상태코드: 200\n",
      "✅ ccb9c5420547136374300d49f970b25a4723574b05820acf03e7ec3162ff5bed (2024-10-24) - 상태코드: 200\n",
      "✅ 94161ac9ec0fad2ff11bcd08ce194c27efe8d04e6d233bd35cf2fabdeb93fb0d (2024-10-24) - 상태코드: 200\n",
      "✅ 8b05186d82f055390b31c151b13433b7efe8d04e6d233bd35cf2fabdeb93fb0d (2024-10-24) - 상태코드: 200\n",
      "✅ f9e6ee82909139cd54a5e4a5488d8ac2 (2024-10-24) - 상태코드: 200\n"
     ]
    },
    {
     "name": "stderr",
     "output_type": "stream",
     "text": [
      "  5%|▍         | 234/5104 [00:05<01:54, 42.37it/s]"
     ]
    },
    {
     "name": "stdout",
     "output_type": "stream",
     "text": [
      "✅ e8ba301f60ab98692d2236db5f62b5eb (2024-10-24) - 상태코드: 200\n",
      "✅ 5b27a98bde5442d387b3c9fef0e252e4 (2024-10-24) - 상태코드: 200\n",
      "✅ b2f1ecf671482b322448341a6f6a3636efe8d04e6d233bd35cf2fabdeb93fb0d (2024-10-24) - 상태코드: 200\n",
      "✅ c503e22a4c85e73306ccd152a782bb85 (2024-10-24) - 상태코드: 200\n",
      "✅ 36a0147210315b6a764ec6ba3d150203 (2024-10-24) - 상태코드: 200\n",
      "✅ 1e7f1b2681f8d24677d6f0d21e29d439 (2024-10-24) - 상태코드: 200\n",
      "✅ ac677e9ee50144b79b3941be6860e48defe8d04e6d233bd35cf2fabdeb93fb0d (2024-10-24) - 상태코드: 200\n",
      "✅ d128d33f9f9a239cd942837993c7be01 (2024-10-24) - 상태코드: 200\n",
      "✅ e8de19b68e571680c4e6a353296f98ec (2024-10-24) - 상태코드: 200\n"
     ]
    },
    {
     "name": "stderr",
     "output_type": "stream",
     "text": [
      "  5%|▍         | 244/5104 [00:05<02:08, 37.94it/s]"
     ]
    },
    {
     "name": "stdout",
     "output_type": "stream",
     "text": [
      "✅ 222c64ca4ba72e38f00b8a44500bf1e6 (2024-10-24) - 상태코드: 200\n",
      "✅ e226aa37a8a5648d68e8221fc90216d2 (2024-10-24) - 상태코드: 200\n",
      "✅ 1a6abcdc2af71fa5b8adde85c34092f6 (2024-10-24) - 상태코드: 200\n",
      "✅ 43ce488886d8c8b3eabfa1126e83b60e (2024-10-24) - 상태코드: 200\n",
      "✅ 606eed3e75dd3c2ea9e61356a8601f76 (2024-10-24) - 상태코드: 200\n",
      "✅ 4c010fb43dec6b26e7b0f51e687f5551 (2024-10-24) - 상태코드: 200\n",
      "✅ d64720833af0d462ab89f0b2d22bbdb2 (2024-10-24) - 상태코드: 200\n",
      "✅ 484d6ac3fa7d3ffe45f7cada776b4c8d (2024-10-24) - 상태코드: 200\n"
     ]
    },
    {
     "name": "stderr",
     "output_type": "stream",
     "text": [
      "  5%|▌         | 257/5104 [00:05<01:46, 45.71it/s]"
     ]
    },
    {
     "name": "stdout",
     "output_type": "stream",
     "text": [
      "✅ d50ebb0bdf1f5ae6456dc558d45fd500efe8d04e6d233bd35cf2fabdeb93fb0d (2024-10-24) - 상태코드: 200\n",
      "✅ 4c93f25bd172d882c34d4c012dc81f4f (2024-10-24) - 상태코드: 200\n",
      "✅ 1435f0c2418521498f3ab4d2fa6ab7e1 (2024-10-24) - 상태코드: 200\n",
      "✅ 1b28283c121f0efb54a4a1c0e52648de (2024-10-24) - 상태코드: 200\n",
      "✅ a39afaeeed982aab7461bf9e08044ff5 (2024-10-24) - 상태코드: 200\n",
      "✅ aec72053fa4a55515d450bc873634d4c (2024-10-24) - 상태코드: 200\n",
      "✅ 369dd4a3037748b67475dda468ffc0e4efe8d04e6d233bd35cf2fabdeb93fb0d (2024-10-24) - 상태코드: 200\n",
      "✅ ff6f554d7b0d7646a9573b6423466064efe8d04e6d233bd35cf2fabdeb93fb0d (2024-10-24) - 상태코드: 200\n",
      "✅ 1140b43e83968d4212d2c15b5d52f6ee (2024-10-24) - 상태코드: 200\n",
      "✅ 5cbc28e26aee0b5577de2f763ff061ebefe8d04e6d233bd35cf2fabdeb93fb0d (2024-10-24) - 상태코드: 200\n",
      "✅ 208cc01fd0425f29d2ff777fc349e53c (2024-10-24) - 상태코드: 200\n"
     ]
    },
    {
     "name": "stderr",
     "output_type": "stream",
     "text": [
      "  5%|▌         | 262/5104 [00:06<01:47, 45.13it/s]"
     ]
    },
    {
     "name": "stdout",
     "output_type": "stream",
     "text": [
      "✅ e60a3bf8f4230460bfe767a731bb4325 (2024-10-24) - 상태코드: 200\n",
      "✅ 84c7f2ea5754c00020294a24ddab1a8d (2024-10-24) - 상태코드: 200\n",
      "✅ b97082f9b444551617c3f8c03fa9f656efe8d04e6d233bd35cf2fabdeb93fb0d (2024-10-24) - 상태코드: 200\n",
      "✅ a3f4effaa0b4c0b34f98500914f4f7bd (2024-10-24) - 상태코드: 200\n",
      "✅ e10ad02dfa2e72c14867abccfc26c5c9 (2024-10-24) - 상태코드: 200\n",
      "✅ 842eb3d37af78783ad985cbed9262d7fefe8d04e6d233bd35cf2fabdeb93fb0d (2024-10-24) - 상태코드: 200\n",
      "✅ 29843ff80a0f243d9105dab8763d2868efe8d04e6d233bd35cf2fabdeb93fb0d (2024-10-24) - 상태코드: 200\n",
      "✅ aeb92bbc7a9e744b5d19546e1f7f6571 (2024-10-24) - 상태코드: 200\n",
      "✅ 583f5a7cc979911e7f7cd57c0f0c515f (2024-10-24) - 상태코드: 200\n"
     ]
    },
    {
     "name": "stderr",
     "output_type": "stream",
     "text": [
      "  5%|▌         | 276/5104 [00:06<01:41, 47.70it/s]"
     ]
    },
    {
     "name": "stdout",
     "output_type": "stream",
     "text": [
      "✅ 7953c80fd7237c3729ac8c3b6ef32113 (2024-10-24) - 상태코드: 200✅ 594d50bef178a32cd3a55c4b8c14ba12 (2024-10-24) - 상태코드: 200\n",
      "\n",
      "✅ dee87b47e6bb1b27829f5852e5d34f4aefe8d04e6d233bd35cf2fabdeb93fb0d (2024-10-24) - 상태코드: 200\n",
      "✅ 7dae4e3c7432cda35e92a37f7966b2c7 (2024-10-24) - 상태코드: 200\n",
      "✅ d4c900dbe429b7ba387abc475922b6a9 (2024-10-24) - 상태코드: 200\n",
      "✅ af576eafd68a41c83691e469abf436c5 (2024-10-24) - 상태코드: 200\n",
      "✅ cb9171942ee3ae0fb30f572470f1fb35 (2024-10-24) - 상태코드: 200\n",
      "✅ 1416ef4c00aca919e8c58c1c36511877fd842dab14be2a956555625b37c97bff (2024-10-24) - 상태코드: 200\n",
      "✅ 7b3f46040b1a1e68d0ca97fc231edb41efe8d04e6d233bd35cf2fabdeb93fb0d (2024-10-24) - 상태코드: 200\n",
      "✅ fcdbf19f67d660ecb92153133a7b2dc6efe8d04e6d233bd35cf2fabdeb93fb0d (2024-10-24) - 상태코드: 200\n"
     ]
    },
    {
     "name": "stderr",
     "output_type": "stream",
     "text": [
      "  6%|▌         | 282/5104 [00:06<01:52, 42.68it/s]"
     ]
    },
    {
     "name": "stdout",
     "output_type": "stream",
     "text": [
      "✅ b4bfd9886db9f78859a06730182a7aa7 (2024-10-24) - 상태코드: 200\n",
      "✅ 0dbdfe8aceacb95fc2142960b5a2dfc7 (2024-10-24) - 상태코드: 200\n",
      "✅ 7cc3e1413190d5b84ab7011cc17ede7defe8d04e6d233bd35cf2fabdeb93fb0d (2024-10-24) - 상태코드: 200\n",
      "✅ fdb2c25d78c9adb59db0c1299f3fa51c (2024-10-24) - 상태코드: 200\n",
      "✅ a9fc5302c43579c87308929aefb9831f (2024-10-24) - 상태코드: 200\n",
      "✅ 3106bb701f607729e94a6e314be81d42efe8d04e6d233bd35cf2fabdeb93fb0d (2024-10-24) - 상태코드: 200\n",
      "✅ cf090fdfadbe2417b3be75b579cdb2f5efe8d04e6d233bd35cf2fabdeb93fb0d (2024-10-24) - 상태코드: 200\n",
      "✅ 26a0e6a1a4a8a0a827929f06ef7f7161 (2024-10-24) - 상태코드: 200\n",
      "✅ 54293d468c7cdc28d8a52c2735987e3e (2024-10-24) - 상태코드: 200\n",
      "✅ d6fde33ffc1b86bd5fdef84d811d1f05efe8d04e6d233bd35cf2fabdeb93fb0d (2024-10-24) - 상태코드: 200\n"
     ]
    },
    {
     "name": "stderr",
     "output_type": "stream",
     "text": [
      "  6%|▌         | 293/5104 [00:06<01:52, 42.82it/s]"
     ]
    },
    {
     "name": "stdout",
     "output_type": "stream",
     "text": [
      "✅ ded605e9759ff64b0716a00c9b7364a8efe8d04e6d233bd35cf2fabdeb93fb0d (2024-10-24) - 상태코드: 200\n",
      "✅ fbed6b559f00085f80fbe0d6857aced8 (2024-10-24) - 상태코드: 200\n",
      "✅ 2c24f37729a63a11addb8335d21b1e77 (2024-10-24) - 상태코드: 200\n",
      "✅ eeecf7d337e7243d7eea7a3d02fb3179efe8d04e6d233bd35cf2fabdeb93fb0d (2024-10-24) - 상태코드: 200\n",
      "✅ cff16b17e5e22654dc8e6720cb104245efe8d04e6d233bd35cf2fabdeb93fb0d (2024-10-24) - 상태코드: 200\n",
      "✅ fe8d07d681e3de139829beddf6cea54a (2024-10-24) - 상태코드: 200\n",
      "✅ e42807c706271ca6ab3cee4e234aa014 (2024-10-24) - 상태코드: 200\n",
      "✅ 96b94f594f811df1a56f8906646ad1a0 (2024-10-24) - 상태코드: 200\n",
      "✅ 50264441579163a8d4ef74b8ffdad8c4 (2024-10-24) - 상태코드: 200\n",
      "✅ 04d062b0cf66f68b92b4e4866a2e010e (2024-10-24) - 상태코드: 200\n",
      "✅ 79b7bd0c37ceaa747ab77c16fd2d3affefe8d04e6d233bd35cf2fabdeb93fb0d (2024-10-24) - 상태코드: 200\n",
      "✅ c145c25549dc55e6142e4081b3d797ff (2024-10-24) - 상태코드: 200\n"
     ]
    },
    {
     "name": "stderr",
     "output_type": "stream",
     "text": [
      "  6%|▌         | 304/5104 [00:07<01:55, 41.65it/s]"
     ]
    },
    {
     "name": "stdout",
     "output_type": "stream",
     "text": [
      "✅ ccf5025e4395933cbd2b2505e4c2cd6befe8d04e6d233bd35cf2fabdeb93fb0d (2024-10-24) - 상태코드: 200\n",
      "✅ ef474c476ad2dcbd0ee328faf47e7818 (2024-10-24) - 상태코드: 200\n",
      "✅ d48f17257465d68f51bf25bd301ea393 (2024-10-24) - 상태코드: 200\n",
      "✅ f545d8469f27ddd218bde6659f17f6f34723574b05820acf03e7ec3162ff5bed (2024-10-24) - 상태코드: 200\n",
      "✅ 0a8b7ed01025d8898e3a96447b0b1bc9 (2024-10-24) - 상태코드: 200\n",
      "✅ 2d30e1609663ceca7ca5703cbaba502a (2024-10-24) - 상태코드: 200\n",
      "✅ 29e7a7206766577ca10470e2863c6687efe8d04e6d233bd35cf2fabdeb93fb0d (2024-10-24) - 상태코드: 200\n",
      "✅ f6e29c019442ffc77a8c61b2763b3e31 (2024-10-24) - 상태코드: 200\n",
      "✅ 2e087944e865d7e1c53545a57c671573 (2024-10-24) - 상태코드: 200\n",
      "✅ 1f822bfed567418fe27fa86dabd9f725e85e07f9d5d276f44440847eec04ba68 (2024-10-24) - 상태코드: 200\n",
      "✅ 594851240918600483932901044e16acfd842dab14be2a956555625b37c97bff (2024-10-24) - 상태코드: 200\n"
     ]
    },
    {
     "name": "stderr",
     "output_type": "stream",
     "text": [
      "  6%|▌         | 316/5104 [00:07<01:52, 42.69it/s]"
     ]
    },
    {
     "name": "stdout",
     "output_type": "stream",
     "text": [
      "✅ 54409a0836251f2274b71ee61ad619a5efe8d04e6d233bd35cf2fabdeb93fb0d (2024-10-24) - 상태코드: 200\n",
      "✅ c7fcb246de5c82fdfc266790bf7d9231 (2024-10-24) - 상태코드: 200\n",
      "✅ 0e8cb07ed5308313716a9d671ec1ae47 (2024-10-24) - 상태코드: 200\n",
      "✅ eb1f76ec8d0cf4a3ea16406f6fbbe8c3 (2024-10-24) - 상태코드: 200\n",
      "✅ 4f627a8fab0ab12a186d0007f66b2669 (2024-10-24) - 상태코드: 200\n",
      "✅ afc1ebd63f31e95898f1df395e06862b (2024-10-24) - 상태코드: 200\n",
      "✅ 62a76fdd3e735c27453a3bbca1d76a62 (2024-10-24) - 상태코드: 200\n"
     ]
    },
    {
     "name": "stderr",
     "output_type": "stream",
     "text": [
      "  6%|▋         | 322/5104 [00:07<01:49, 43.64it/s]"
     ]
    },
    {
     "name": "stdout",
     "output_type": "stream",
     "text": [
      "✅ d1b407deeae4faba86713249301620abefe8d04e6d233bd35cf2fabdeb93fb0d (2024-10-24) - 상태코드: 200\n",
      "✅ e11a80c37297dc8034628a2cba4741cbefe8d04e6d233bd35cf2fabdeb93fb0d (2024-10-24) - 상태코드: 200\n",
      "✅ 98b43ad4613e0d97f877e32b04b3da5c (2024-10-24) - 상태코드: 200\n",
      "✅ f12df71adf1cb8461e9ef6d7348fd221 (2024-10-24) - 상태코드: 200\n",
      "✅ cee4c7be90ffa4d71f086888e5272a98 (2024-10-24) - 상태코드: 200\n",
      "✅ a00068394e40534241fc8a14dd7721a2efe8d04e6d233bd35cf2fabdeb93fb0d (2024-10-24) - 상태코드: 200\n",
      "✅ ee23eedfac77641a0fc30ffcc0a3217a (2024-10-24) - 상태코드: 200\n"
     ]
    },
    {
     "name": "stderr",
     "output_type": "stream",
     "text": [
      "  7%|▋         | 333/5104 [00:07<01:46, 44.59it/s]"
     ]
    },
    {
     "name": "stdout",
     "output_type": "stream",
     "text": [
      "✅ 7f67fc46b1cd910a7ebf4d92867fde34 (2024-10-24) - 상태코드: 200\n",
      "✅ b3fd272ec373921a00dd95b479f03d53 (2024-10-24) - 상태코드: 200\n",
      "✅ a30a6c56faa5f49895e54b4bc04be058 (2024-10-24) - 상태코드: 200\n",
      "✅ 3ac82f2a0ca58d993d6d30d854dd546cefe8d04e6d233bd35cf2fabdeb93fb0d (2024-10-24) - 상태코드: 200\n",
      "✅ d0a50e8ead72d6468c872675afb495feefe8d04e6d233bd35cf2fabdeb93fb0d (2024-10-24) - 상태코드: 200\n",
      "✅ 2a46ff3a9ad98d3597d7ee195e585b43 (2024-10-24) - 상태코드: 200\n",
      "✅ 3b8ef4201afc050122c5ff04a58361b1 (2024-10-24) - 상태코드: 200\n",
      "✅ ce4c6a806604a42629b4f64f9b275b44 (2024-10-24) - 상태코드: 200\n",
      "✅ 3c112a85118a6fb6d1e44a7a60e308ad (2024-10-24) - 상태코드: 200\n",
      "✅ f875503553ae169cfa2ea8acc92c5506 (2024-10-24) - 상태코드: 200\n",
      "✅ bafef7d436fab2ffff18c9d86dc62e61 (2024-10-24) - 상태코드: 200\n"
     ]
    },
    {
     "name": "stderr",
     "output_type": "stream",
     "text": [
      "  7%|▋         | 343/5104 [00:07<01:58, 40.31it/s]"
     ]
    },
    {
     "name": "stdout",
     "output_type": "stream",
     "text": [
      "✅ 5aed587fbfa88a1d5c6a29c2ccf54df0efe8d04e6d233bd35cf2fabdeb93fb0d (2024-10-24) - 상태코드: 200\n",
      "✅ 611651e51c4dd1d8fd4a6d7893eff297 (2024-10-24) - 상태코드: 200\n",
      "✅ 1bc06b87204b6c886da411fbd081b183 (2024-10-24) - 상태코드: 200\n",
      "✅ 5b52a370824102a5bf911496f5139d41efe8d04e6d233bd35cf2fabdeb93fb0d (2024-10-24) - 상태코드: 200\n",
      "✅ f8ba66be9026f117dc9bb9c71cfb4417 (2024-10-24) - 상태코드: 200\n",
      "✅ 76675b691086b4b66898eeee8aefa3f9efe8d04e6d233bd35cf2fabdeb93fb0d (2024-10-24) - 상태코드: 200\n",
      "✅ 66584bff8c0cd94a5d5a837fbd63a0dc (2024-10-24) - 상태코드: 200\n",
      "✅ fc0e69178dc9b7f8a423ef2de211cd15 (2024-10-24) - 상태코드: 200\n",
      "✅ a3cd8105da757642c8f742a7fd302236 (2024-10-24) - 상태코드: 200\n"
     ]
    },
    {
     "name": "stderr",
     "output_type": "stream",
     "text": [
      "  7%|▋         | 348/5104 [00:08<01:56, 40.70it/s]"
     ]
    },
    {
     "name": "stdout",
     "output_type": "stream",
     "text": [
      "✅ 3979c56b335a3ba1a46aa03df9b1bfe6 (2024-10-24) - 상태코드: 200\n",
      "✅ 0df99bfd191c9ab4a3cb17ea0f396983 (2024-10-24) - 상태코드: 200\n",
      "✅ 6a4b463c72dce569b23d98afef8fcd05 (2024-10-24) - 상태코드: 200\n",
      "✅ ed54921f192cb4fdcd3d039093eec8cc (2024-10-24) - 상태코드: 200\n",
      "✅ 1eef0c75da54036322b76c61423a6affefe8d04e6d233bd35cf2fabdeb93fb0d (2024-10-24) - 상태코드: 200\n",
      "✅ 7f2f23268f62082a4e565a3e4f3c856b (2024-10-24) - 상태코드: 200\n",
      "✅ 2ae9d4052c807eece88cbc4c5ab09246 (2024-10-24) - 상태코드: 200\n"
     ]
    },
    {
     "name": "stderr",
     "output_type": "stream",
     "text": [
      "  7%|▋         | 359/5104 [00:08<01:59, 39.65it/s]"
     ]
    },
    {
     "name": "stdout",
     "output_type": "stream",
     "text": [
      "✅ 4cc6ce9926b50ab077005b3be7271171 (2024-10-24) - 상태코드: 200\n",
      "✅ d0856074ab180afe613f6036a7cb93d5efe8d04e6d233bd35cf2fabdeb93fb0d (2024-10-24) - 상태코드: 200\n",
      "✅ 6cc5c3c0e9e8b41beccdcda2c73f15ec (2024-10-24) - 상태코드: 200\n",
      "✅ 4cd4358a18174ade81a26c46af746d3f (2024-10-24) - 상태코드: 200\n",
      "✅ c534f454b2ad9432ef63747862021581efe8d04e6d233bd35cf2fabdeb93fb0d (2024-10-24) - 상태코드: 200\n",
      "✅ 9cf1bc49585464ced4d1117623407ef5 (2024-10-24) - 상태코드: 200\n",
      "✅ 78c8235b1a43e7796e556a0904ad9b09 (2024-10-24) - 상태코드: 200\n",
      "✅ 8e418ac840d290cdcff94d0c22b393f2 (2024-10-24) - 상태코드: 200\n",
      "✅ f83d731ab941bb8cb9309650bbca2556efe8d04e6d233bd35cf2fabdeb93fb0d (2024-10-24) - 상태코드: 200\n"
     ]
    },
    {
     "name": "stderr",
     "output_type": "stream",
     "text": [
      "  7%|▋         | 369/5104 [00:08<01:59, 39.62it/s]"
     ]
    },
    {
     "name": "stdout",
     "output_type": "stream",
     "text": [
      "✅ d5409537bfbd08b03e17dc3f52208257 (2024-10-24) - 상태코드: 200\n",
      "✅ 128b16a889934818ecad68443d33f8f0 (2024-10-24) - 상태코드: 200\n",
      "✅ 6677c3fe29666e1eb7fd630e17995186 (2024-10-24) - 상태코드: 200\n",
      "✅ 514cc55795d14102e6e06877cb5fef6a (2024-10-24) - 상태코드: 200\n",
      "✅ 9cfa542fcd5ce5b6f48034b1d63418a0 (2024-10-24) - 상태코드: 200\n",
      "✅ 2d9eafc741722263c64a25aa674f21c4 (2024-10-24) - 상태코드: 200\n",
      "✅ a65581762b5d6e34bac6c5bf505ab79c (2024-10-24) - 상태코드: 200\n",
      "✅ 10b358de5a7e17bc2c02f5c25432dc37efe8d04e6d233bd35cf2fabdeb93fb0d (2024-10-24) - 상태코드: 200\n",
      "✅ 5fae23b0a50206c30cbe3d15b462b589efe8d04e6d233bd35cf2fabdeb93fb0d (2024-10-24) - 상태코드: 200\n",
      "✅ 24dbdc91d6b2f63be430a40ebdfa1d2e (2024-10-24) - 상태코드: 200\n",
      "✅ d89293632bd02624ab8282e83d3dbe0b (2024-10-24) - 상태코드: 200\n",
      "✅ 330e83a2349a52c860524ad2a853648c (2024-10-24) - 상태코드: 200\n"
     ]
    },
    {
     "name": "stderr",
     "output_type": "stream",
     "text": [
      "  7%|▋         | 375/5104 [00:08<01:51, 42.55it/s]"
     ]
    },
    {
     "name": "stdout",
     "output_type": "stream",
     "text": [
      "✅ 51dabf2f8718e6b757c4dfae215cbbd2 (2024-10-24) - 상태코드: 200\n",
      "✅ 2d6bbb92c21e0ae183e7c969df0085a5 (2024-10-24) - 상태코드: 200\n",
      "✅ 96fdb3ef9d3e17227700c25a56e592b2 (2024-10-24) - 상태코드: 200\n",
      "✅ f02dbeb0b14c3143a5ba532ca30fc43fefe8d04e6d233bd35cf2fabdeb93fb0d (2024-10-24) - 상태코드: 200\n",
      "✅ 9a269c49588c1a45c5b382895206a293 (2024-10-24) - 상태코드: 200\n",
      "✅ af5deee5f0d367ba389960803ab52983 (2024-10-24) - 상태코드: 200\n",
      "✅ 728fa75237873734e013c5f128872a7b (2024-10-24) - 상태코드: 200\n"
     ]
    },
    {
     "name": "stderr",
     "output_type": "stream",
     "text": [
      "  8%|▊         | 386/5104 [00:09<01:52, 41.83it/s]"
     ]
    },
    {
     "name": "stdout",
     "output_type": "stream",
     "text": [
      "✅ 0f2934b74a1e901e3c4c3cb8338740ed (2024-10-24) - 상태코드: 200\n",
      "✅ 84d5cd478dd3c1e583d94a7bf63721b2efe8d04e6d233bd35cf2fabdeb93fb0d (2024-10-24) - 상태코드: 200\n",
      "✅ 90da96cdb2989da5837a1e2f0192eff4 (2024-10-24) - 상태코드: 200\n",
      "✅ 3b2166fca378cbd08edaf70c9b49b585 (2024-10-24) - 상태코드: 200\n",
      "✅ 3e856e0b915cb62838958909c60e59d5efe8d04e6d233bd35cf2fabdeb93fb0d (2024-10-24) - 상태코드: 200\n",
      "✅ d681a590b51294681b60695bde93e2dd (2024-10-24) - 상태코드: 200\n",
      "✅ db838d532b2e73be2dcd056e1bc8afd9 (2024-10-24) - 상태코드: 200\n",
      "✅ 023e363b5eb4997ade40e4f971cc72ad (2024-10-24) - 상태코드: 200\n",
      "✅ 315bde624cd11939bdbbabd4106fbe4f (2024-10-31) - 상태코드: 200\n",
      "✅ 991f8e71da1217400748eed40b8bdf23efe8d04e6d233bd35cf2fabdeb93fb0d (2024-10-31) - 상태코드: 200\n",
      "✅ 9e4feb1cf263a60b9df84e0bb9b3aee7 (2024-10-31) - 상태코드: 200\n",
      "✅ 1cb932bf646448a60b2bd65705b97d75 (2024-10-31) - 상태코드: 200\n",
      "✅ 3327ccbd3400f6e634f96f2a8fcd162defe8d04e6d233bd35cf2fabdeb93fb0d (2024-10-31) - 상태코드: 200\n"
     ]
    },
    {
     "name": "stderr",
     "output_type": "stream",
     "text": [
      "  8%|▊         | 400/5104 [00:09<01:41, 46.19it/s]"
     ]
    },
    {
     "name": "stdout",
     "output_type": "stream",
     "text": [
      "✅ 7405c8fde61d4e4851cd1aa898d8d5b8 (2024-10-31) - 상태코드: 200\n",
      "✅ 965dcefd0ad4b8a8cedc3b7f6933fa55 (2024-10-31) - 상태코드: 200\n",
      "✅ 24cbbe59b7b772e1748abfa6a0ced4edefe8d04e6d233bd35cf2fabdeb93fb0d (2024-10-31) - 상태코드: 200\n",
      "✅ 264d650994bf642095df232f7dc4102f (2024-10-31) - 상태코드: 200\n",
      "✅ db0f1d9a578f1497f255d79c6d1abe48 (2024-10-31) - 상태코드: 200\n",
      "✅ be5618a9953d6ab9b65213fcb34f030c (2024-10-31) - 상태코드: 200\n",
      "✅ df2dd14084d1e73ae143412b3628f0d5efe8d04e6d233bd35cf2fabdeb93fb0d (2024-10-31) - 상태코드: 200\n",
      "✅ a7e13030ee8c6e51786167354a2ce990 (2024-10-31) - 상태코드: 200\n",
      "✅ 2983e2f1fc4fab7a63626c525e7baf67 (2024-10-31) - 상태코드: 200\n"
     ]
    },
    {
     "name": "stderr",
     "output_type": "stream",
     "text": [
      "  8%|▊         | 405/5104 [00:09<01:48, 43.42it/s]"
     ]
    },
    {
     "name": "stdout",
     "output_type": "stream",
     "text": [
      "✅ 48e293fc7543f05bc30bf6108b0eefdfefe8d04e6d233bd35cf2fabdeb93fb0d (2024-10-31) - 상태코드: 200\n",
      "✅ 8839da22fb9364c6aabaa31bc982a7c3 (2024-10-31) - 상태코드: 200\n",
      "✅ af7df64ff10600cd3f87ebf9f384b6d3efe8d04e6d233bd35cf2fabdeb93fb0d (2024-10-31) - 상태코드: 200\n",
      "✅ 566ba43acc0f258e2b0ad7b531fd2fc3 (2024-10-31) - 상태코드: 200\n",
      "✅ 81d5504e53dc7b342acc44dde70ff116 (2024-10-31) - 상태코드: 200\n",
      "✅ 0a703636d6ef26bf9635e788a1126201 (2024-10-31) - 상태코드: 200\n",
      "✅ 807feeccc912b2f985bb4f603a6090b4 (2024-10-31) - 상태코드: 200\n",
      "✅ 4dfcb54e90ede3a5282be3d978d2cfe2 (2024-10-31) - 상태코드: 200\n",
      "✅ 3b5e23900beda889be4f7aedeeb96c38 (2024-10-31) - 상태코드: 200\n",
      "✅ bb24ede4453358417e0546aa21ee7649 (2024-10-31) - 상태코드: 200\n",
      "✅ 3b0a86781652eef43a99c874e8fcb53b (2024-10-31) - 상태코드: 200\n"
     ]
    },
    {
     "name": "stderr",
     "output_type": "stream",
     "text": [
      "  8%|▊         | 417/5104 [00:09<01:39, 47.08it/s]"
     ]
    },
    {
     "name": "stdout",
     "output_type": "stream",
     "text": [
      "✅ 3d9a94d775603949b0ae473c50a3f4b5a2186d8e7cf7a6ee152d97cc78f2ae8b (2024-10-31) - 상태코드: 200\n",
      "✅ ee8086306bb0e8977e8b5043c21f8aa3 (2024-10-31) - 상태코드: 200\n",
      "✅ 410d83c87d0f64f36d085a2fd5683716 (2024-10-31) - 상태코드: 200\n",
      "✅ 7098187b25417dbd097d65d40b67a4f3efe8d04e6d233bd35cf2fabdeb93fb0d (2024-10-31) - 상태코드: 200\n",
      "✅ 04397613111392e7101191c8b2ec61b3 (2024-10-31) - 상태코드: 200\n",
      "✅ 08d4c15fef4abbb7fafdb0c8e32569cc (2024-10-31) - 상태코드: 200\n",
      "✅ bdce92e7d77d572d4fdcc92144dff95c (2024-10-31) - 상태코드: 200\n",
      "✅ f8bccbb2b8e11c398cd4def2a4d537e6efe8d04e6d233bd35cf2fabdeb93fb0d (2024-10-31) - 상태코드: 200\n",
      "✅ 40d94d313b4c225242e3e3bd800f012befe8d04e6d233bd35cf2fabdeb93fb0d (2024-10-31) - 상태코드: 200\n"
     ]
    },
    {
     "name": "stderr",
     "output_type": "stream",
     "text": [
      "  8%|▊         | 428/5104 [00:09<01:40, 46.63it/s]"
     ]
    },
    {
     "name": "stdout",
     "output_type": "stream",
     "text": [
      "✅ 3a7e08a69892768f972496b0079ac613 (2024-10-31) - 상태코드: 200\n",
      "✅ b41af48f5c8f99c0a72b347067009184 (2024-10-31) - 상태코드: 200\n",
      "✅ 81d26c0bf01616214f8dd84ead8410ea (2024-10-31) - 상태코드: 200\n",
      "✅ 2b385ec791f74c59a2a7ac45a5956ff1efe8d04e6d233bd35cf2fabdeb93fb0d (2024-10-31) - 상태코드: 200\n",
      "✅ 19907f569272e742367e3fd4eac592a5efe8d04e6d233bd35cf2fabdeb93fb0d (2024-10-31) - 상태코드: 200\n",
      "✅ 4603246ec7d2da1036805c43ed7df55e (2024-10-31) - 상태코드: 200\n",
      "✅ b6306cb2e24c78a6d0f285a94abd91c5 (2024-10-31) - 상태코드: 200\n",
      "✅ 627e4e1ce47e680e1dd5d10230d2045a (2024-10-31) - 상태코드: 200\n",
      "✅ bb35fb78fb9357fa916a6dcc99af6348efe8d04e6d233bd35cf2fabdeb93fb0d (2024-10-31) - 상태코드: 200\n",
      "✅ e0a5b9d981b953027ec125d53747956d (2024-10-31) - 상태코드: 200\n",
      "✅ 00c5e829d4385f74d74db40f821dba4defe8d04e6d233bd35cf2fabdeb93fb0d (2024-10-31) - 상태코드: 200\n",
      "✅ 851cd8f0741c6538d3f95afd0faf970befe8d04e6d233bd35cf2fabdeb93fb0d (2024-10-31) - 상태코드: 200\n",
      "✅ 94c1f873fe46a7c287e69dd24458d8fcefe8d04e6d233bd35cf2fabdeb93fb0d (2024-10-31) - 상태코드: 200\n"
     ]
    },
    {
     "name": "stderr",
     "output_type": "stream",
     "text": [
      "  9%|▊         | 441/5104 [00:10<01:34, 49.46it/s]"
     ]
    },
    {
     "name": "stdout",
     "output_type": "stream",
     "text": [
      "✅ b02057530bea0a149f2801f835e46f87efe8d04e6d233bd35cf2fabdeb93fb0d (2024-10-31) - 상태코드: 200\n",
      "✅ fca9e542e0173dc7d82126a16f3e0d05efe8d04e6d233bd35cf2fabdeb93fb0d (2024-10-31) - 상태코드: 200\n",
      "✅ ad256bb0ec82c5501412f64725a736cc (2024-10-31) - 상태코드: 200\n",
      "✅ bf84e99ac70f7663eaf5842e0a697b72 (2024-10-31) - 상태코드: 200\n",
      "✅ bc3afe427078a9dc2ef38e00cd52ddae (2024-10-31) - 상태코드: 200\n",
      "✅ 7969110f097cbb90c94d186b0e152d2d (2024-10-31) - 상태코드: 200\n",
      "✅ 530cf767f43dca203c7b412f6d3fd033 (2024-10-31) - 상태코드: 200\n",
      "✅ 2172f0fa63e98d078558490328da113defe8d04e6d233bd35cf2fabdeb93fb0d (2024-10-31) - 상태코드: 200\n",
      "✅ 5b9fa0db1182f5540eae33601201abf1 (2024-10-31) - 상태코드: 200\n",
      "✅ ee5f641bc5d21be86fe2f326067b4dd2fd842dab14be2a956555625b37c97bff (2024-10-31) - 상태코드: 200\n",
      "✅ cf98e709f848d3cef643323df0c47fd9 (2024-10-31) - 상태코드: 200\n"
     ]
    },
    {
     "name": "stderr",
     "output_type": "stream",
     "text": [
      "  9%|▉         | 451/5104 [00:10<01:38, 47.35it/s]"
     ]
    },
    {
     "name": "stdout",
     "output_type": "stream",
     "text": [
      "✅ 69f5080323bbd70593f64349947d313f6fbb98200a15be5bcc73a64995849e9c (2024-10-31) - 상태코드: 200\n",
      "✅ 754924d82f140e7f75f38b3a6861cbd5efe8d04e6d233bd35cf2fabdeb93fb0d (2024-10-31) - 상태코드: 200\n",
      "✅ 68c698e7d765bb3c73e390760751e036efe8d04e6d233bd35cf2fabdeb93fb0d (2024-10-31) - 상태코드: 200\n",
      "✅ adec6db8f6769d50dc21317084ca1832 (2024-10-31) - 상태코드: 200\n",
      "✅ 3c486313548a8d5757c673d360cd7ea7efe8d04e6d233bd35cf2fabdeb93fb0d (2024-10-31) - 상태코드: 200\n",
      "✅ 00ff9cf9e4e55f80c30c4036eec9a5b7 (2024-10-31) - 상태코드: 200\n",
      "✅ c6747526cd4974f9b6eb571fcab03962 (2024-10-31) - 상태코드: 200\n",
      "✅ 2aa540cfc2b0e638404c9641cf5daddb (2024-10-31) - 상태코드: 200\n",
      "✅ 00f0247829e58edec8641622bc418451 (2024-10-31) - 상태코드: 200\n",
      "✅ bd1eedacee93cae2af43ad5c29f21a8c (2024-10-31) - 상태코드: 200\n",
      "✅ 076b3d750585a58f310b851421e00963efe8d04e6d233bd35cf2fabdeb93fb0d (2024-10-31) - 상태코드: 200\n",
      "✅ 105cd5a758c1a1552006f4f6ede2a80f (2024-10-31) - 상태코드: 200\n"
     ]
    },
    {
     "name": "stderr",
     "output_type": "stream",
     "text": [
      "  9%|▉         | 464/5104 [00:10<01:27, 53.00it/s]"
     ]
    },
    {
     "name": "stdout",
     "output_type": "stream",
     "text": [
      "✅ 5ab87c996862d7562a307001b4d61125 (2024-10-31) - 상태코드: 200\n",
      "✅ 879856003dd85578c7a9bafb52b7dfefefe8d04e6d233bd35cf2fabdeb93fb0d (2024-10-31) - 상태코드: 200\n",
      "✅ 7536dd5750cb17a6348d78f890df1434 (2024-10-31) - 상태코드: 200\n",
      "✅ 9eed691a31409febf72f25664bddb99d (2024-10-31) - 상태코드: 200\n",
      "✅ 5c3e904eaca03b316daf87c4c78d0c88 (2024-10-31) - 상태코드: 200\n",
      "✅ 223d064219eed12e0ec9d21460ede5f0efe8d04e6d233bd35cf2fabdeb93fb0d (2024-10-31) - 상태코드: 200\n",
      "✅ fd17b26beac5266a9ba69fc7e5eead74efe8d04e6d233bd35cf2fabdeb93fb0d (2024-10-31) - 상태코드: 200\n",
      "✅ d742f62993190da82fa7f4671ebb1476 (2024-10-31) - 상태코드: 200\n",
      "✅ e317d4813a69fb3361864089ed0d1757 (2024-10-31) - 상태코드: 200\n",
      "✅ cd9c1a0e5fb457317a5ef2a017b8674d (2024-10-31) - 상태코드: 200\n",
      "✅ feae7dbfd8920e3c33ba80042776976befe8d04e6d233bd35cf2fabdeb93fb0d (2024-10-31) - 상태코드: 200\n"
     ]
    },
    {
     "name": "stderr",
     "output_type": "stream",
     "text": [
      "  9%|▉         | 477/5104 [00:10<01:31, 50.69it/s]"
     ]
    },
    {
     "name": "stdout",
     "output_type": "stream",
     "text": [
      "✅ 6ffc14ff1de7b5b0a3f208b593b1144e (2024-10-31) - 상태코드: 200\n",
      "✅ 22319f7d3679c34e3b35eebb904ec905 (2024-10-31) - 상태코드: 200\n",
      "✅ 2911af63fbd902765a852e40a2d9488d (2024-10-31) - 상태코드: 200\n",
      "✅ 7cbed2cae759263a0f27278e38a51275 (2024-10-31) - 상태코드: 200\n",
      "✅ 6ae8fb0f5733ef971a3fbca9150ebbc8efe8d04e6d233bd35cf2fabdeb93fb0d (2024-10-31) - 상태코드: 200\n",
      "✅ 3aa9923eda02aa2bdc26247a537dbf47 (2024-10-31) - 상태코드: 200\n",
      "✅ 6ef7a179284f11d7546a25bf2025929e (2024-10-31) - 상태코드: 200\n",
      "✅ 220f3f6430ef1e58043bf3a312720c1f (2024-10-31) - 상태코드: 200\n",
      "✅ 4884449afbaa73469596120426f819cb (2024-10-31) - 상태코드: 200\n",
      "✅ 98a45d21eb8221d564c9c1443bc5841a (2024-10-31) - 상태코드: 200\n",
      "✅ c2fea2c2b84961db492869ffd745ee73 (2024-10-31) - 상태코드: 200\n"
     ]
    },
    {
     "name": "stderr",
     "output_type": "stream",
     "text": [
      "  9%|▉         | 483/5104 [00:11<01:36, 47.80it/s]"
     ]
    },
    {
     "name": "stdout",
     "output_type": "stream",
     "text": [
      "✅ 605c5b412201ef038f655c06b69256d8 (2024-10-31) - 상태코드: 200\n",
      "✅ 3421bfb89d6611558182e8d2af3d5d5a (2024-10-31) - 상태코드: 200\n",
      "✅ d1474099da49f484a7b782526aca1747 (2024-10-31) - 상태코드: 200\n",
      "✅ b2fb907f6fbf6a039f1cef6bdc4e8457 (2024-10-31) - 상태코드: 200\n",
      "✅ 5695c6dc53f86e8110a6b37030d9247befe8d04e6d233bd35cf2fabdeb93fb0d (2024-10-31) - 상태코드: 200\n",
      "✅ ba620abe2b9d65a281c2a47dd6b39b83 (2024-10-31) - 상태코드: 200\n",
      "✅ c86d73029385cda466c249c59460456e (2024-10-31) - 상태코드: 200\n",
      "✅ b7aeec76c859dd5152fa49f648189f55 (2024-10-31) - 상태코드: 200\n",
      "✅ 4d81036df6de4dd823224867e97a22b1efe8d04e6d233bd35cf2fabdeb93fb0d (2024-10-31) - 상태코드: 200\n"
     ]
    },
    {
     "name": "stderr",
     "output_type": "stream",
     "text": [
      " 10%|▉         | 493/5104 [00:11<01:36, 47.72it/s]"
     ]
    },
    {
     "name": "stdout",
     "output_type": "stream",
     "text": [
      "✅ 7dbc7f73d47fea9e42ae93a4c62e0ed6 (2024-10-31) - 상태코드: 200\n",
      "✅ f3aa4c38d90838b7872717888fa62ffb (2024-10-31) - 상태코드: 200\n",
      "✅ 9024e79c09fefe51fcc407bc2dd975b8 (2024-10-31) - 상태코드: 400\n",
      "✅ 09c019e289606a3b2a18f40609107b00efe8d04e6d233bd35cf2fabdeb93fb0d (2024-10-31) - 상태코드: 200\n",
      "✅ a8b718838ef44014ea19d1afba8d6b66 (2024-10-31) - 상태코드: 200\n",
      "✅ 2eaee8491645cd83b692755c6871e827 (2024-10-31) - 상태코드: 200\n",
      "✅ 9bf4b4267127550b5428fcd699202a2b (2024-10-31) - 상태코드: 200\n",
      "✅ f3d277009a97b27dcfd3d9fe0d29004cefe8d04e6d233bd35cf2fabdeb93fb0d (2024-10-31) - 상태코드: 200\n",
      "✅ 7e863dd6e15b2e8f90ec74f9e0c06169 (2024-10-31) - 상태코드: 200\n"
     ]
    },
    {
     "name": "stderr",
     "output_type": "stream",
     "text": [
      " 10%|▉         | 503/5104 [00:11<01:41, 45.14it/s]"
     ]
    },
    {
     "name": "stdout",
     "output_type": "stream",
     "text": [
      "✅ b15e18d83c7d8c7f7c94804068d4b7cd (2024-10-31) - 상태코드: 200\n",
      "✅ 51845de1965d98fc6f98fbc9a23c1aa7 (2024-10-31) - 상태코드: 200\n",
      "✅ 6e4f367a8570a3917a021b17f3b93f40 (2024-10-31) - 상태코드: 200\n",
      "✅ 1bddcdc6fd36de3027e6160f50cddddb (2024-10-31) - 상태코드: 200\n",
      "✅ 1ef452f60e1c495a0feea39efdaeca6defe8d04e6d233bd35cf2fabdeb93fb0d (2024-10-31) - 상태코드: 200\n",
      "✅ 3049fb56cc782a119096673b7eab786a (2024-10-31) - 상태코드: 200\n",
      "✅ e2f6a4a393bd180b040effcfd4ec2fc5efe8d04e6d233bd35cf2fabdeb93fb0d (2024-10-31) - 상태코드: 200\n",
      "✅ ac6ed463785c3aa7c13f138becc0f253 (2024-10-31) - 상태코드: 200\n",
      "✅ aec6a2730d4855e2ad977e689f62f035 (2024-10-31) - 상태코드: 200\n",
      "✅ cb4ab50d21a1dc5cdd93baa0f5a1e733 (2024-10-31) - 상태코드: 200\n",
      "✅ b18d9e1753f46bd3050aa6d6118310e5 (2024-10-31) - 상태코드: 200\n",
      "✅ 4f364b02152245d6001f8d81c78a0a01efe8d04e6d233bd35cf2fabdeb93fb0d (2024-10-31) - 상태코드: 200\n",
      "✅ 4a299934879212a57159707e5db5e35a (2024-10-31) - 상태코드: 200\n"
     ]
    },
    {
     "name": "stderr",
     "output_type": "stream",
     "text": [
      " 10%|█         | 514/5104 [00:11<01:45, 43.62it/s]"
     ]
    },
    {
     "name": "stdout",
     "output_type": "stream",
     "text": [
      "✅ 60e974628b1641b69fabbf09b0a3d9d0efe8d04e6d233bd35cf2fabdeb93fb0d (2024-10-31) - 상태코드: 200\n",
      "✅ fbbd0f354dcc8487d9580f4a34a629faa2186d8e7cf7a6ee152d97cc78f2ae8b (2024-10-31) - 상태코드: 200\n",
      "✅ a9883bdf4e25cec3f532cc1a55500132efe8d04e6d233bd35cf2fabdeb93fb0d (2024-10-31) - 상태코드: 200\n",
      "✅ fcf680f9c825512ac48d975fcaa6b114 (2024-10-31) - 상태코드: 200\n",
      "✅ 40e64ade6d66696614500aaa8a99cfb7efe8d04e6d233bd35cf2fabdeb93fb0d (2024-10-31) - 상태코드: 200\n",
      "✅ be8dceaaf819ce55ad47281d2c3aca6a (2024-10-31) - 상태코드: 200\n",
      "✅ a1333be07c304f5a7eb0f373a33d2d98 (2024-10-31) - 상태코드: 200\n",
      "✅ 708338f60a339c4874542898fdf0d95f (2024-10-31) - 상태코드: 200\n",
      "✅ dadfd46c8cc678054be9ed21d861b887 (2024-10-31) - 상태코드: 200\n",
      "✅ d5bb5072fbb657ae7532fd51fc9ead7eefe8d04e6d233bd35cf2fabdeb93fb0d (2024-10-31) - 상태코드: 200\n"
     ]
    },
    {
     "name": "stderr",
     "output_type": "stream",
     "text": [
      " 10%|█         | 527/5104 [00:11<01:33, 48.97it/s]"
     ]
    },
    {
     "name": "stdout",
     "output_type": "stream",
     "text": [
      "✅ 1040e841045fb697cb16ba38728badd9c47ea5ffea2564f587ca830a8f71acb2 (2024-10-31) - 상태코드: 200\n",
      "✅ f4e3fec9b164dcb0a1289b10e79ef451efe8d04e6d233bd35cf2fabdeb93fb0d (2024-10-31) - 상태코드: 200\n",
      "✅ de16e13a7eafd1f329168c7444e2eccc (2024-10-31) - 상태코드: 200\n",
      "✅ 4308a2677e293579227539db8e10b4b0 (2024-10-31) - 상태코드: 200\n",
      "✅ cca5fe91053ac3e862f700e605d60b13 (2024-10-31) - 상태코드: 200\n",
      "✅ 4f7b6a34d6c6dcef7dc640080511eb88 (2024-10-31) - 상태코드: 200\n",
      "✅ 47ac6db232a5c1683ee369c727548e67 (2024-10-31) - 상태코드: 200\n",
      "✅ 2c51cb13a92c359f9f5d05bfad0434ba (2024-10-31) - 상태코드: 200\n",
      "✅ 9bd1499b442d4062547c1adc7ece28f1efe8d04e6d233bd35cf2fabdeb93fb0d (2024-10-31) - 상태코드: 200\n",
      "✅ fb3acbfc29d1ca6e6d9c7e0429d20d9c (2024-10-31) - 상태코드: 200\n"
     ]
    },
    {
     "name": "stderr",
     "output_type": "stream",
     "text": [
      " 10%|█         | 533/5104 [00:12<01:44, 43.59it/s]"
     ]
    },
    {
     "name": "stdout",
     "output_type": "stream",
     "text": [
      "✅ 49e4062e600859434b384a79cdb1e722 (2024-10-31) - 상태코드: 200\n",
      "✅ 17450708b81f9f3359ae63a9a468a57defe8d04e6d233bd35cf2fabdeb93fb0d (2024-10-31) - 상태코드: 200\n",
      "✅ ac4857b3f0caf5a20cab1ead94a9c651efe8d04e6d233bd35cf2fabdeb93fb0d (2024-10-31) - 상태코드: 200\n",
      "✅ f7d153f788bb31a48fac00d05ca5b8e2 (2024-10-31) - 상태코드: 200\n",
      "✅ 9d4ad6c5a2848655113cc430c37c56defd842dab14be2a956555625b37c97bff (2024-10-31) - 상태코드: 200\n",
      "✅ 513f7d0e3ebc8e3a66131d79e11c04b1efe8d04e6d233bd35cf2fabdeb93fb0d (2024-10-31) - 상태코드: 200\n",
      "✅ e89c7c6babe2b4ab1b8884be9664c3fe (2024-10-31) - 상태코드: 200\n",
      "✅ f1d1516c36e71a807c38abbd84fe765eefe8d04e6d233bd35cf2fabdeb93fb0d (2024-10-31) - 상태코드: 200\n",
      "✅ ae712e78b873ab453c26ce880aed304aefe8d04e6d233bd35cf2fabdeb93fb0d (2024-10-31) - 상태코드: 200\n",
      "✅ d8ec6412ba8d1aa3baf5978db66b0b7fefe8d04e6d233bd35cf2fabdeb93fb0d (2024-10-31) - 상태코드: 200\n"
     ]
    },
    {
     "name": "stderr",
     "output_type": "stream",
     "text": [
      " 11%|█         | 545/5104 [00:12<01:38, 46.19it/s]"
     ]
    },
    {
     "name": "stdout",
     "output_type": "stream",
     "text": [
      "✅ a32135b332a78aa191ff53f3142d4256 (2024-10-31) - 상태코드: 200\n",
      "✅ bb2a595185dc1df66fb5642d4cb6d8fe (2024-10-31) - 상태코드: 200\n",
      "✅ ea10c7295abc7322f8dc464117e9a9c9efe8d04e6d233bd35cf2fabdeb93fb0d (2024-10-31) - 상태코드: 200\n",
      "✅ 8b7ed3bc6c8baffa12cdd6e5d0adbe9cefe8d04e6d233bd35cf2fabdeb93fb0d (2024-10-31) - 상태코드: 200\n",
      "✅ 5d50176fa95c4c2777f8cfab25791e99 (2024-10-31) - 상태코드: 200\n",
      "✅ 65bdf2bed8ec1ccf9e2662fd4d0f8395 (2024-10-31) - 상태코드: 200\n",
      "✅ cbc22128462d4dc04bee9ac58ce8f6b4efe8d04e6d233bd35cf2fabdeb93fb0d (2024-10-31) - 상태코드: 200\n",
      "✅ 1d205e20b3768b973ab739386bf45221 (2024-10-31) - 상태코드: 200\n",
      "✅ 4ef511aa921e2e3e6e057c7c190f671d (2024-10-31) - 상태코드: 200\n",
      "✅ b8f92200c8f90db7c81b555437190dc1 (2024-10-31) - 상태코드: 200\n"
     ]
    },
    {
     "name": "stderr",
     "output_type": "stream",
     "text": [
      " 11%|█         | 558/5104 [00:12<01:30, 50.35it/s]"
     ]
    },
    {
     "name": "stdout",
     "output_type": "stream",
     "text": [
      "✅ 2588c5b885c4e32438bf8f6b64b722d2 (2024-10-31) - 상태코드: 200\n",
      "✅ 22cbe662f126130dcec290b4876c03a0 (2024-10-31) - 상태코드: 200\n",
      "✅ 13517ce3b03cf0d225cba188d339f89d (2024-10-31) - 상태코드: 200\n",
      "✅ 086f27ce61e74d439eaf2d84ee835d22 (2024-10-31) - 상태코드: 200\n",
      "✅ a8f2459bf9923a1b9089fd10116aeca6efe8d04e6d233bd35cf2fabdeb93fb0d (2024-10-31) - 상태코드: 200\n",
      "✅ 0bf63c31bc6693c1540a47e87e126f98 (2024-10-31) - 상태코드: 200\n",
      "✅ afe1ecee209a814d003e66f02aa90ba7 (2024-10-31) - 상태코드: 200\n",
      "✅ 42f82e26c2b4470c06e2b7c7e069cfa1efe8d04e6d233bd35cf2fabdeb93fb0d (2024-10-31) - 상태코드: 200\n",
      "✅ db4041bf81cfa0f00e104a085cb61fa4 (2024-10-31) - 상태코드: 200\n",
      "✅ 084a5582fa4b497f546aa7694fb67ce4 (2024-10-31) - 상태코드: 200\n"
     ]
    },
    {
     "name": "stderr",
     "output_type": "stream",
     "text": [
      " 11%|█         | 569/5104 [00:12<01:43, 43.69it/s]"
     ]
    },
    {
     "name": "stdout",
     "output_type": "stream",
     "text": [
      "✅ 3aaa00df5844bdc55cad1986624c3be7efe8d04e6d233bd35cf2fabdeb93fb0d (2024-10-31) - 상태코드: 200\n",
      "✅ 1cb4798f1b4c7e48a39b0f71242d8776efe8d04e6d233bd35cf2fabdeb93fb0d (2024-10-31) - 상태코드: 200\n",
      "✅ 062f16456e427ad94943fdf121da3491 (2024-10-31) - 상태코드: 200\n",
      "✅ 89d16afabe5512a6d19d7faf4591a0db (2024-10-31) - 상태코드: 200\n",
      "✅ 3de3fe2e9606b7bdb416739499e57563c47ea5ffea2564f587ca830a8f71acb2 (2024-10-31) - 상태코드: 200\n",
      "✅ 33cf25def0b2f62779a9452b8dc605c8 (2024-10-31) - 상태코드: 200\n",
      "✅ 43c80a11fe24ec36c45d6c4141d96271 (2024-10-31) - 상태코드: 200\n",
      "✅ f6fc240b0f3b41439bfd22a3413be412efe8d04e6d233bd35cf2fabdeb93fb0d (2024-10-31) - 상태코드: 200\n",
      "✅ beb183e075d75cdae0b97ffe4c3e02ceefe8d04e6d233bd35cf2fabdeb93fb0d (2024-10-31) - 상태코드: 200\n",
      "✅ 6f8dbc2f1ff23a2fd3616982e0e6c90eefe8d04e6d233bd35cf2fabdeb93fb0d (2024-10-31) - 상태코드: 200\n"
     ]
    },
    {
     "name": "stderr",
     "output_type": "stream",
     "text": [
      " 11%|█▏        | 576/5104 [00:12<01:32, 48.92it/s]"
     ]
    },
    {
     "name": "stdout",
     "output_type": "stream",
     "text": [
      "✅ e140432e14534fe2cba19340c7346d79 (2024-10-31) - 상태코드: 200\n",
      "✅ dad21b1febfb0d34778da615d562f3e7efe8d04e6d233bd35cf2fabdeb93fb0d (2024-10-31) - 상태코드: 200\n",
      "✅ e9626a0c27a5300130a601ca83fabf3f (2024-10-31) - 상태코드: 200\n",
      "✅ d61fa89d1074146d96916f1247cd347d (2024-10-31) - 상태코드: 200\n",
      "✅ 749fd7656fa0da1ec9eee05d129a24e9 (2024-10-31) - 상태코드: 200\n",
      "✅ ed5ee13b468389ea6890c7fab08b566d (2024-10-31) - 상태코드: 200\n",
      "✅ d57a207f97a111ea7d7e09acc2481a1a (2024-10-31) - 상태코드: 200\n",
      "✅ 05b7c656f8e0cb3e06fad02b9ec2d33e (2024-10-31) - 상태코드: 200\n",
      "✅ 9b8f3b5db571f28eff79e8a600249aebefe8d04e6d233bd35cf2fabdeb93fb0d (2024-10-31) - 상태코드: 200\n",
      "✅ cab50ec80162c1dcbeedfa1bad957da0efe8d04e6d233bd35cf2fabdeb93fb0d (2024-10-31) - 상태코드: 200\n"
     ]
    },
    {
     "name": "stderr",
     "output_type": "stream",
     "text": [
      " 12%|█▏        | 589/5104 [00:13<01:29, 50.53it/s]"
     ]
    },
    {
     "name": "stdout",
     "output_type": "stream",
     "text": [
      "✅ 91dae7b1a84220b6478ece3a67eb65ac (2024-10-31) - 상태코드: 200\n",
      "✅ b651391ba94012d07f19648bcdc555cc (2024-10-31) - 상태코드: 200\n",
      "✅ 086c7e98e760bdc20731251d90a40333efe8d04e6d233bd35cf2fabdeb93fb0d (2024-10-31) - 상태코드: 200\n",
      "✅ b6facd19e1308eb1d66c009c3f3889ad (2024-10-31) - 상태코드: 200\n",
      "✅ 4909250c0ad14d97246c828356d1f659 (2024-10-31) - 상태코드: 200\n",
      "✅ 73ecbf3269e394a3f722e97b53c72fb7 (2024-10-31) - 상태코드: 200\n",
      "✅ 9dd98c3333a69c3a6e17e6739840c2ebefe8d04e6d233bd35cf2fabdeb93fb0d (2024-10-31) - 상태코드: 200\n",
      "✅ a546125a6567f76bda355fb111ab1a29 (2024-10-31) - 상태코드: 200\n",
      "✅ 949332668982d81498ae683612d78c00 (2024-10-31) - 상태코드: 200\n",
      "✅ 01c21c1fab12f0ceda9ab04178eab3d0 (2024-10-31) - 상태코드: 200\n",
      "✅ 69a79ee5543c1d0fe29da4e169e0bcdc (2024-10-31) - 상태코드: 200\n"
     ]
    },
    {
     "name": "stderr",
     "output_type": "stream",
     "text": [
      " 12%|█▏        | 600/5104 [00:13<01:36, 46.66it/s]"
     ]
    },
    {
     "name": "stdout",
     "output_type": "stream",
     "text": [
      "✅ 0155920a06c5a23dacf672a46c6e9c10 (2024-10-31) - 상태코드: 200\n",
      "✅ 4fe0212aea0ada386b0eee96db13062befe8d04e6d233bd35cf2fabdeb93fb0d (2024-10-31) - 상태코드: 200\n",
      "✅ 9d1eb4e59abcf837a062b4a851360f0eefe8d04e6d233bd35cf2fabdeb93fb0d (2024-10-31) - 상태코드: 200\n",
      "✅ f7bf309b6fd22e629826ad726292aad4 (2024-10-31) - 상태코드: 200\n",
      "✅ 569063766792419f9fa7e66d599794f5efe8d04e6d233bd35cf2fabdeb93fb0d (2024-10-31) - 상태코드: 200\n",
      "✅ d6d5b0150d614b29d1881d93d1c01a9fc47ea5ffea2564f587ca830a8f71acb2 (2024-10-31) - 상태코드: 200\n",
      "✅ 9db944cb648dbfa0bebd86e854c9ebeeefe8d04e6d233bd35cf2fabdeb93fb0d (2024-10-31) - 상태코드: 200\n",
      "✅ 2bc563e13e76d8e5504480756fe73516 (2024-10-31) - 상태코드: 200\n",
      "✅ 5b56ff5b0c2c32e6f2c29b054e06bd0fefe8d04e6d233bd35cf2fabdeb93fb0d (2024-10-31) - 상태코드: 200\n",
      "✅ e232a5f985f59c4f8d13254992e165acefe8d04e6d233bd35cf2fabdeb93fb0d (2024-10-31) - 상태코드: 200\n",
      "✅ aa02f2c859c17c676c581f4256e69966 (2024-10-31) - 상태코드: 200\n"
     ]
    },
    {
     "name": "stderr",
     "output_type": "stream",
     "text": [
      " 12%|█▏        | 606/5104 [00:13<01:49, 41.16it/s]"
     ]
    },
    {
     "name": "stdout",
     "output_type": "stream",
     "text": [
      "✅ 8a17735b943abcf8f612b8e4c3bceb41efe8d04e6d233bd35cf2fabdeb93fb0d (2024-10-31) - 상태코드: 200\n",
      "✅ 3325202d40b4d8a66b3abb6a8328b75e6fbb98200a15be5bcc73a64995849e9c (2024-10-31) - 상태코드: 200\n",
      "✅ fb12f318b0d9f4618f8604ffe0f888fb (2024-10-31) - 상태코드: 200\n",
      "✅ a95bb1dac3969c64eccd20f750163a2a (2024-10-31) - 상태코드: 200\n",
      "✅ 4f9627fd0dfbbe737d8aa8ca3c6bf8d7 (2024-10-31) - 상태코드: 200\n",
      "✅ 661c2af5b554a5b28cc0dc6cce4702ab (2024-10-31) - 상태코드: 200\n",
      "✅ 595e3f205099d0cc0b4f48a6311bba61efe8d04e6d233bd35cf2fabdeb93fb0d (2024-10-31) - 상태코드: 200\n",
      "✅ 6c463e11735b91abe05eaf30a96c71ba (2024-10-31) - 상태코드: 200\n",
      "✅ fb9565b9cea4342e8166135956d989af (2024-10-31) - 상태코드: 200\n",
      "✅ 71f0b98d89bc23c202c05265943c6bc5 (2024-10-31) - 상태코드: 200\n",
      "✅ 5a9caeb2090088491eff66ba27911c11 (2024-10-31) - 상태코드: 200\n"
     ]
    },
    {
     "name": "stderr",
     "output_type": "stream",
     "text": [
      " 12%|█▏        | 621/5104 [00:13<01:34, 47.58it/s]"
     ]
    },
    {
     "name": "stdout",
     "output_type": "stream",
     "text": [
      "✅ f8876c7e64d221313a716acd63c918a5 (2024-10-31) - 상태코드: 200\n",
      "✅ 9b0bfe1bbaa8d8084fdace27568d420f (2024-10-31) - 상태코드: 200\n",
      "✅ bb8599971672667eb989098fa4524c88efe8d04e6d233bd35cf2fabdeb93fb0d (2024-10-31) - 상태코드: 200\n",
      "✅ cb6a1af44c29bed33d1668c9af14e964efe8d04e6d233bd35cf2fabdeb93fb0d (2024-10-31) - 상태코드: 200\n",
      "✅ 279067f16ee430c8455007ea5690d2dc (2024-10-31) - 상태코드: 200\n",
      "✅ 078a8d1a09e2ea6f370016dee51c52d0 (2024-10-31) - 상태코드: 200\n",
      "✅ 3319030d2d683c47e357b7e11ded870e (2024-10-31) - 상태코드: 200\n",
      "✅ 09fe715758f3f0a4298876d30db06a78 (2024-10-31) - 상태코드: 200\n",
      "✅ 8f8cff703afe3336102c4a029a750416 (2024-10-31) - 상태코드: 200\n",
      "✅ ddf217188d89c174471891a6b6f59d99efe8d04e6d233bd35cf2fabdeb93fb0d (2024-10-31) - 상태코드: 200\n",
      "✅ 3d0eb3a674b7a1573e1461955e5a5ae5efe8d04e6d233bd35cf2fabdeb93fb0d (2024-10-31) - 상태코드: 200\n",
      "✅ ca3fdcb2df3f9fdeb0c0118631640d58 (2024-10-31) - 상태코드: 200\n",
      "✅ a5a04b39e333907796194fca06402cafefe8d04e6d233bd35cf2fabdeb93fb0d (2024-10-31) - 상태코드: 200\n"
     ]
    },
    {
     "name": "stderr",
     "output_type": "stream",
     "text": [
      " 12%|█▏        | 633/5104 [00:14<01:34, 47.44it/s]"
     ]
    },
    {
     "name": "stdout",
     "output_type": "stream",
     "text": [
      "✅ 21f28a9cfdc51081fb323f008e874e88 (2024-10-31) - 상태코드: 200\n",
      "✅ d6078a0e72764a97b7c26be52905f53cefe8d04e6d233bd35cf2fabdeb93fb0d (2024-10-31) - 상태코드: 200\n",
      "✅ 9f08774afa676e2907ec2a4cce249576 (2024-10-31) - 상태코드: 200\n",
      "✅ de11c2621c2c65803f88c55a413e82edefe8d04e6d233bd35cf2fabdeb93fb0d (2024-10-31) - 상태코드: 200\n",
      "✅ 0741328edd7b9990d605a751adecf551 (2024-10-31) - 상태코드: 200\n",
      "✅ 0cb0698dd005ec642f6cc183508339d0 (2024-10-31) - 상태코드: 200\n",
      "✅ 2e544470cd22f7ed241dfa0adcc7ce1b (2024-10-31) - 상태코드: 200\n",
      "✅ c1b6895b3b693f54062f25776424c8b7 (2024-10-31) - 상태코드: 200\n",
      "✅ 1e5f72f23ced1cf58753a7576a8ab39cefe8d04e6d233bd35cf2fabdeb93fb0d (2024-10-31) - 상태코드: 200\n",
      "✅ 7e24b6ce24e58138322dbd0136e89666 (2024-10-31) - 상태코드: 200\n",
      "✅ 22b60e52a31722eea52a03a2e22a3562efe8d04e6d233bd35cf2fabdeb93fb0d (2024-10-31) - 상태코드: 200\n",
      "✅ 3409df3f5f678bbf3076f251791af207efe8d04e6d233bd35cf2fabdeb93fb0d (2024-10-31) - 상태코드: 200\n"
     ]
    },
    {
     "name": "stderr",
     "output_type": "stream",
     "text": [
      " 13%|█▎        | 643/5104 [00:14<01:44, 42.74it/s]"
     ]
    },
    {
     "name": "stdout",
     "output_type": "stream",
     "text": [
      "✅ 68eedfd0b23ea20eede902ab6f824213efe8d04e6d233bd35cf2fabdeb93fb0d (2024-10-31) - 상태코드: 200\n",
      "✅ 917faa7948e7ad9d15c872e760574f76 (2024-10-31) - 상태코드: 200\n",
      "✅ 9aeef4ced3288f15f5db522b4183c3f9 (2024-10-31) - 상태코드: 200\n",
      "✅ 769e173a14c77fb1481869547dbd5b9defe8d04e6d233bd35cf2fabdeb93fb0d (2024-10-31) - 상태코드: 200\n",
      "✅ 11a0476903f4c67e798b027c683beb5b (2024-10-31) - 상태코드: 200\n",
      "✅ a7f95350386a76412ec16bffe8b5086e (2024-10-31) - 상태코드: 200\n",
      "✅ ca79866792d247003783b9bb3d5cc06d (2024-10-31) - 상태코드: 200\n",
      "✅ a97f73b0c4501bb55db37c2f47b8a038 (2024-10-31) - 상태코드: 200\n",
      "✅ f9cc4a44c68c926a091d7c9ab793fb9e (2024-10-31) - 상태코드: 200\n"
     ]
    },
    {
     "name": "stderr",
     "output_type": "stream",
     "text": [
      " 13%|█▎        | 651/5104 [00:14<01:26, 51.59it/s]"
     ]
    },
    {
     "name": "stdout",
     "output_type": "stream",
     "text": [
      "✅ 9a54921e11117eb71cec9e33572d00efefe8d04e6d233bd35cf2fabdeb93fb0d (2024-10-31) - 상태코드: 200\n",
      "✅ 922f72e1f844a47114dc7db73fa08d6a (2024-10-31) - 상태코드: 200\n",
      "✅ af56e2d5ff0c34b4fa11a322a0404514 (2024-10-31) - 상태코드: 200\n",
      "✅ 611ddd9239c26376a34e2ce13daf1117efe8d04e6d233bd35cf2fabdeb93fb0d (2024-10-31) - 상태코드: 200\n",
      "✅ e687482501bdc080bafc05e81cb0bca0 (2024-10-31) - 상태코드: 200\n",
      "✅ a63955c13457331aa52bf6f60d3404bfe85e07f9d5d276f44440847eec04ba68 (2024-10-31) - 상태코드: 200\n",
      "✅ 0dae0e8b99af48a4b83b141d597d184e (2024-10-31) - 상태코드: 200\n",
      "✅ 94161ac9ec0fad2ff11bcd08ce194c27efe8d04e6d233bd35cf2fabdeb93fb0d (2024-10-31) - 상태코드: 200\n"
     ]
    },
    {
     "name": "stderr",
     "output_type": "stream",
     "text": [
      " 13%|█▎        | 662/5104 [00:14<01:34, 47.01it/s]"
     ]
    },
    {
     "name": "stdout",
     "output_type": "stream",
     "text": [
      "✅ ccb9c5420547136374300d49f970b25a4723574b05820acf03e7ec3162ff5bed (2024-10-31) - 상태코드: 200\n",
      "✅ 5b27a98bde5442d387b3c9fef0e252e4 (2024-10-31) - 상태코드: 200\n",
      "✅ 8b05186d82f055390b31c151b13433b7efe8d04e6d233bd35cf2fabdeb93fb0d (2024-10-31) - 상태코드: 200\n",
      "✅ c503e22a4c85e73306ccd152a782bb85 (2024-10-31) - 상태코드: 200\n",
      "✅ f9e6ee82909139cd54a5e4a5488d8ac2 (2024-10-31) - 상태코드: 200\n",
      "✅ 2e0cb71481f120daf870ef953d7e0dcdefe8d04e6d233bd35cf2fabdeb93fb0d (2024-10-31) - 상태코드: 200\n",
      "✅ 83e2d5de5d91e75cf347c534feedc677 (2024-10-31) - 상태코드: 200\n",
      "✅ b2f1ecf671482b322448341a6f6a3636efe8d04e6d233bd35cf2fabdeb93fb0d (2024-10-31) - 상태코드: 200\n",
      "✅ e8ba301f60ab98692d2236db5f62b5eb (2024-10-31) - 상태코드: 200\n",
      "✅ 1e7f1b2681f8d24677d6f0d21e29d439 (2024-10-31) - 상태코드: 200\n",
      "✅ ac677e9ee50144b79b3941be6860e48defe8d04e6d233bd35cf2fabdeb93fb0d (2024-10-31) - 상태코드: 200\n",
      "✅ e8de19b68e571680c4e6a353296f98ec (2024-10-31) - 상태코드: 200\n"
     ]
    },
    {
     "name": "stderr",
     "output_type": "stream",
     "text": [
      " 13%|█▎        | 674/5104 [00:15<01:33, 47.52it/s]"
     ]
    },
    {
     "name": "stdout",
     "output_type": "stream",
     "text": [
      "✅ d128d33f9f9a239cd942837993c7be01 (2024-10-31) - 상태코드: 200\n",
      "✅ 606eed3e75dd3c2ea9e61356a8601f76 (2024-10-31) - 상태코드: 200\n",
      "✅ 36a0147210315b6a764ec6ba3d150203 (2024-10-31) - 상태코드: 200\n",
      "✅ 1a6abcdc2af71fa5b8adde85c34092f6 (2024-10-31) - 상태코드: 200\n",
      "✅ 222c64ca4ba72e38f00b8a44500bf1e6 (2024-10-31) - 상태코드: 200\n",
      "✅ 4c93f25bd172d882c34d4c012dc81f4f (2024-10-31) - 상태코드: 200\n",
      "✅ e226aa37a8a5648d68e8221fc90216d2 (2024-10-31) - 상태코드: 200\n",
      "✅ d64720833af0d462ab89f0b2d22bbdb2 (2024-10-31) - 상태코드: 200\n",
      "✅ 4c010fb43dec6b26e7b0f51e687f5551 (2024-10-31) - 상태코드: 200\n",
      "✅ 1435f0c2418521498f3ab4d2fa6ab7e1 (2024-10-31) - 상태코드: 200\n",
      "✅ d50ebb0bdf1f5ae6456dc558d45fd500efe8d04e6d233bd35cf2fabdeb93fb0d (2024-10-31) - 상태코드: 200\n",
      "✅ 1b28283c121f0efb54a4a1c0e52648de (2024-10-31) - 상태코드: 200\n",
      "✅ 369dd4a3037748b67475dda468ffc0e4efe8d04e6d233bd35cf2fabdeb93fb0d (2024-10-31) - 상태코드: 200\n"
     ]
    },
    {
     "name": "stderr",
     "output_type": "stream",
     "text": [
      " 14%|█▎        | 690/5104 [00:15<01:20, 54.65it/s]"
     ]
    },
    {
     "name": "stdout",
     "output_type": "stream",
     "text": [
      "✅ 484d6ac3fa7d3ffe45f7cada776b4c8d (2024-10-31) - 상태코드: 200\n",
      "✅ a39afaeeed982aab7461bf9e08044ff5 (2024-10-31) - 상태코드: 200\n",
      "✅ 5cbc28e26aee0b5577de2f763ff061ebefe8d04e6d233bd35cf2fabdeb93fb0d (2024-10-31) - 상태코드: 200\n",
      "✅ 1140b43e83968d4212d2c15b5d52f6ee (2024-10-31) - 상태코드: 200\n",
      "✅ aec72053fa4a55515d450bc873634d4c (2024-10-31) - 상태코드: 200\n",
      "✅ 84c7f2ea5754c00020294a24ddab1a8d (2024-10-31) - 상태코드: 200\n",
      "✅ 208cc01fd0425f29d2ff777fc349e53c (2024-10-31) - 상태코드: 200\n",
      "✅ a3f4effaa0b4c0b34f98500914f4f7bd (2024-10-31) - 상태코드: 200\n",
      "✅ e60a3bf8f4230460bfe767a731bb4325 (2024-10-31) - 상태코드: 200\n",
      "✅ 842eb3d37af78783ad985cbed9262d7fefe8d04e6d233bd35cf2fabdeb93fb0d (2024-10-31) - 상태코드: 200\n",
      "✅ b97082f9b444551617c3f8c03fa9f656efe8d04e6d233bd35cf2fabdeb93fb0d (2024-10-31) - 상태코드: 200\n"
     ]
    },
    {
     "name": "stderr",
     "output_type": "stream",
     "text": [
      " 14%|█▎        | 696/5104 [00:15<01:34, 46.77it/s]"
     ]
    },
    {
     "name": "stdout",
     "output_type": "stream",
     "text": [
      "✅ e10ad02dfa2e72c14867abccfc26c5c9 (2024-10-31) - 상태코드: 200\n",
      "✅ 7953c80fd7237c3729ac8c3b6ef32113 (2024-10-31) - 상태코드: 200\n",
      "✅ 29843ff80a0f243d9105dab8763d2868efe8d04e6d233bd35cf2fabdeb93fb0d (2024-10-31) - 상태코드: 200\n",
      "✅ aeb92bbc7a9e744b5d19546e1f7f6571 (2024-10-31) - 상태코드: 200\n",
      "✅ d4c900dbe429b7ba387abc475922b6a9 (2024-10-31) - 상태코드: 200\n",
      "✅ 594d50bef178a32cd3a55c4b8c14ba12 (2024-10-31) - 상태코드: 200\n",
      "✅ 7b3f46040b1a1e68d0ca97fc231edb41efe8d04e6d233bd35cf2fabdeb93fb0d (2024-10-31) - 상태코드: 200\n",
      "✅ dee87b47e6bb1b27829f5852e5d34f4aefe8d04e6d233bd35cf2fabdeb93fb0d (2024-10-31) - 상태코드: 200\n"
     ]
    },
    {
     "name": "stderr",
     "output_type": "stream",
     "text": [
      " 14%|█▍        | 707/5104 [00:15<01:37, 45.17it/s]"
     ]
    },
    {
     "name": "stdout",
     "output_type": "stream",
     "text": [
      "✅ fcdbf19f67d660ecb92153133a7b2dc6efe8d04e6d233bd35cf2fabdeb93fb0d (2024-10-31) - 상태코드: 200\n",
      "✅ cb9171942ee3ae0fb30f572470f1fb35 (2024-10-31) - 상태코드: 200\n",
      "✅ af576eafd68a41c83691e469abf436c5 (2024-10-31) - 상태코드: 200\n",
      "✅ b4bfd9886db9f78859a06730182a7aa7 (2024-10-31) - 상태코드: 200\n",
      "✅ 583f5a7cc979911e7f7cd57c0f0c515f (2024-10-31) - 상태코드: 200\n",
      "✅ 54293d468c7cdc28d8a52c2735987e3e (2024-10-31) - 상태코드: 200\n",
      "✅ 7cc3e1413190d5b84ab7011cc17ede7defe8d04e6d233bd35cf2fabdeb93fb0d (2024-10-31) - 상태코드: 200\n",
      "✅ a9fc5302c43579c87308929aefb9831f (2024-10-31) - 상태코드: 200\n",
      "✅ fdb2c25d78c9adb59db0c1299f3fa51c (2024-10-31) - 상태코드: 200\n",
      "✅ 3106bb701f607729e94a6e314be81d42efe8d04e6d233bd35cf2fabdeb93fb0d (2024-10-31) - 상태코드: 200\n"
     ]
    },
    {
     "name": "stderr",
     "output_type": "stream",
     "text": [
      " 14%|█▍        | 714/5104 [00:15<01:26, 50.87it/s]"
     ]
    },
    {
     "name": "stdout",
     "output_type": "stream",
     "text": [
      "✅ cf090fdfadbe2417b3be75b579cdb2f5efe8d04e6d233bd35cf2fabdeb93fb0d (2024-10-31) - 상태코드: 200\n",
      "✅ 7dae4e3c7432cda35e92a37f7966b2c7 (2024-10-31) - 상태코드: 200\n",
      "✅ 0dbdfe8aceacb95fc2142960b5a2dfc7 (2024-10-31) - 상태코드: 200\n",
      "✅ 26a0e6a1a4a8a0a827929f06ef7f7161 (2024-10-31) - 상태코드: 200\n",
      "✅ d6fde33ffc1b86bd5fdef84d811d1f05efe8d04e6d233bd35cf2fabdeb93fb0d (2024-10-31) - 상태코드: 200\n",
      "✅ 2c24f37729a63a11addb8335d21b1e77 (2024-10-31) - 상태코드: 200\n",
      "✅ ded605e9759ff64b0716a00c9b7364a8efe8d04e6d233bd35cf2fabdeb93fb0d (2024-10-31) - 상태코드: 200\n",
      "✅ fe8d07d681e3de139829beddf6cea54a (2024-10-31) - 상태코드: 200\n",
      "✅ fbed6b559f00085f80fbe0d6857aced8 (2024-10-31) - 상태코드: 200\n",
      "✅ 50264441579163a8d4ef74b8ffdad8c4 (2024-10-31) - 상태코드: 200\n",
      "✅ 96b94f594f811df1a56f8906646ad1a0 (2024-10-31) - 상태코드: 200\n"
     ]
    },
    {
     "name": "stderr",
     "output_type": "stream",
     "text": [
      " 14%|█▍        | 725/5104 [00:16<01:36, 45.19it/s]"
     ]
    },
    {
     "name": "stdout",
     "output_type": "stream",
     "text": [
      "✅ 79b7bd0c37ceaa747ab77c16fd2d3affefe8d04e6d233bd35cf2fabdeb93fb0d (2024-10-31) - 상태코드: 200\n",
      "✅ e42807c706271ca6ab3cee4e234aa014 (2024-10-31) - 상태코드: 200\n",
      "✅ ccf5025e4395933cbd2b2505e4c2cd6befe8d04e6d233bd35cf2fabdeb93fb0d (2024-10-31) - 상태코드: 200\n",
      "✅ 04d062b0cf66f68b92b4e4866a2e010e (2024-10-31) - 상태코드: 200\n",
      "✅ cff16b17e5e22654dc8e6720cb104245efe8d04e6d233bd35cf2fabdeb93fb0d (2024-10-31) - 상태코드: 200\n",
      "✅ ef474c476ad2dcbd0ee328faf47e7818 (2024-10-31) - 상태코드: 200\n",
      "✅ d48f17257465d68f51bf25bd301ea393 (2024-10-31) - 상태코드: 200\n",
      "✅ c145c25549dc55e6142e4081b3d797ff (2024-10-31) - 상태코드: 200\n",
      "✅ f545d8469f27ddd218bde6659f17f6f34723574b05820acf03e7ec3162ff5bed (2024-10-31) - 상태코드: 200\n",
      "✅ 29e7a7206766577ca10470e2863c6687efe8d04e6d233bd35cf2fabdeb93fb0d (2024-10-31) - 상태코드: 200\n",
      "✅ 2d30e1609663ceca7ca5703cbaba502a (2024-10-31) - 상태코드: 200\n"
     ]
    },
    {
     "name": "stderr",
     "output_type": "stream",
     "text": [
      " 14%|█▍        | 736/5104 [00:16<01:37, 44.98it/s]"
     ]
    },
    {
     "name": "stdout",
     "output_type": "stream",
     "text": [
      "✅ 0a8b7ed01025d8898e3a96447b0b1bc9 (2024-10-31) - 상태코드: 200\n",
      "✅ c7fcb246de5c82fdfc266790bf7d9231 (2024-10-31) - 상태코드: 200\n",
      "✅ f6e29c019442ffc77a8c61b2763b3e31 (2024-10-31) - 상태코드: 200\n",
      "✅ 594851240918600483932901044e16acfd842dab14be2a956555625b37c97bff (2024-10-31) - 상태코드: 200\n",
      "✅ 1f822bfed567418fe27fa86dabd9f725e85e07f9d5d276f44440847eec04ba68 (2024-10-31) - 상태코드: 200\n",
      "✅ 2e087944e865d7e1c53545a57c671573 (2024-10-31) - 상태코드: 200\n",
      "✅ eb1f76ec8d0cf4a3ea16406f6fbbe8c3 (2024-10-31) - 상태코드: 200\n",
      "✅ 0e8cb07ed5308313716a9d671ec1ae47 (2024-10-31) - 상태코드: 200\n"
     ]
    },
    {
     "name": "stderr",
     "output_type": "stream",
     "text": [
      " 15%|█▍        | 748/5104 [00:16<01:33, 46.53it/s]"
     ]
    },
    {
     "name": "stdout",
     "output_type": "stream",
     "text": [
      "✅ e11a80c37297dc8034628a2cba4741cbefe8d04e6d233bd35cf2fabdeb93fb0d (2024-10-31) - 상태코드: 200\n",
      "✅ 98b43ad4613e0d97f877e32b04b3da5c (2024-10-31) - 상태코드: 200\n",
      "✅ 54409a0836251f2274b71ee61ad619a5efe8d04e6d233bd35cf2fabdeb93fb0d (2024-10-31) - 상태코드: 200\n",
      "✅ 4f627a8fab0ab12a186d0007f66b2669 (2024-10-31) - 상태코드: 200\n",
      "✅ eeecf7d337e7243d7eea7a3d02fb3179efe8d04e6d233bd35cf2fabdeb93fb0d (2024-10-31) - 상태코드: 200\n",
      "✅ f12df71adf1cb8461e9ef6d7348fd221 (2024-10-31) - 상태코드: 200\n",
      "✅ afc1ebd63f31e95898f1df395e06862b (2024-10-31) - 상태코드: 200\n",
      "✅ d1b407deeae4faba86713249301620abefe8d04e6d233bd35cf2fabdeb93fb0d (2024-10-31) - 상태코드: 200\n",
      "✅ b3fd272ec373921a00dd95b479f03d53 (2024-10-31) - 상태코드: 200\n",
      "✅ cee4c7be90ffa4d71f086888e5272a98 (2024-10-31) - 상태코드: 200\n",
      "✅ d0a50e8ead72d6468c872675afb495feefe8d04e6d233bd35cf2fabdeb93fb0d (2024-10-31) - 상태코드: 200\n",
      "✅ ee23eedfac77641a0fc30ffcc0a3217a (2024-10-31) - 상태코드: 200\n"
     ]
    },
    {
     "name": "stderr",
     "output_type": "stream",
     "text": [
      " 15%|█▍        | 758/5104 [00:16<01:40, 43.32it/s]"
     ]
    },
    {
     "name": "stdout",
     "output_type": "stream",
     "text": [
      "✅ 2a46ff3a9ad98d3597d7ee195e585b43 (2024-10-31) - 상태코드: 200\n",
      "✅ a30a6c56faa5f49895e54b4bc04be058 (2024-10-31) - 상태코드: 200\n",
      "✅ 3b8ef4201afc050122c5ff04a58361b1 (2024-10-31) - 상태코드: 200\n",
      "✅ 3c112a85118a6fb6d1e44a7a60e308ad (2024-10-31) - 상태코드: 200\n",
      "✅ a00068394e40534241fc8a14dd7721a2efe8d04e6d233bd35cf2fabdeb93fb0d (2024-10-31) - 상태코드: 200\n",
      "✅ ce4c6a806604a42629b4f64f9b275b44 (2024-10-31) - 상태코드: 200\n",
      "✅ 5aed587fbfa88a1d5c6a29c2ccf54df0efe8d04e6d233bd35cf2fabdeb93fb0d (2024-10-31) - 상태코드: 200\n",
      "✅ f875503553ae169cfa2ea8acc92c5506 (2024-10-31) - 상태코드: 200\n",
      "✅ 5b52a370824102a5bf911496f5139d41efe8d04e6d233bd35cf2fabdeb93fb0d (2024-10-31) - 상태코드: 200\n",
      "✅ 3ac82f2a0ca58d993d6d30d854dd546cefe8d04e6d233bd35cf2fabdeb93fb0d (2024-10-31) - 상태코드: 200\n",
      "✅ bafef7d436fab2ffff18c9d86dc62e61 (2024-10-31) - 상태코드: 200\n"
     ]
    },
    {
     "name": "stderr",
     "output_type": "stream",
     "text": [
      " 15%|█▌        | 768/5104 [00:17<01:39, 43.58it/s]"
     ]
    },
    {
     "name": "stdout",
     "output_type": "stream",
     "text": [
      "✅ 66584bff8c0cd94a5d5a837fbd63a0dc (2024-10-31) - 상태코드: 200\n",
      "✅ f8ba66be9026f117dc9bb9c71cfb4417 (2024-10-31) - 상태코드: 200\n",
      "✅ 611651e51c4dd1d8fd4a6d7893eff297 (2024-10-31) - 상태코드: 200\n",
      "✅ fc0e69178dc9b7f8a423ef2de211cd15 (2024-10-31) - 상태코드: 200\n",
      "✅ 7f2f23268f62082a4e565a3e4f3c856b (2024-10-31) - 상태코드: 200\n",
      "✅ a3cd8105da757642c8f742a7fd302236 (2024-10-31) - 상태코드: 200\n",
      "✅ 1bc06b87204b6c886da411fbd081b183 (2024-10-31) - 상태코드: 200\n",
      "✅ 3979c56b335a3ba1a46aa03df9b1bfe6 (2024-10-31) - 상태코드: 200\n",
      "✅ ed54921f192cb4fdcd3d039093eec8cc (2024-10-31) - 상태코드: 200\n"
     ]
    },
    {
     "name": "stderr",
     "output_type": "stream",
     "text": [
      " 15%|█▌        | 779/5104 [00:17<01:45, 40.95it/s]"
     ]
    },
    {
     "name": "stdout",
     "output_type": "stream",
     "text": [
      "✅ 1eef0c75da54036322b76c61423a6affefe8d04e6d233bd35cf2fabdeb93fb0d (2024-10-31) - 상태코드: 200\n",
      "✅ 6a4b463c72dce569b23d98afef8fcd05 (2024-10-31) - 상태코드: 200\n",
      "✅ 76675b691086b4b66898eeee8aefa3f9efe8d04e6d233bd35cf2fabdeb93fb0d (2024-10-31) - 상태코드: 200\n",
      "✅ d0856074ab180afe613f6036a7cb93d5efe8d04e6d233bd35cf2fabdeb93fb0d (2024-10-31) - 상태코드: 200\n",
      "✅ 0df99bfd191c9ab4a3cb17ea0f396983 (2024-10-31) - 상태코드: 200\n",
      "✅ 2ae9d4052c807eece88cbc4c5ab09246 (2024-10-31) - 상태코드: 200\n",
      "✅ 6cc5c3c0e9e8b41beccdcda2c73f15ec (2024-10-31) - 상태코드: 200\n",
      "✅ c534f454b2ad9432ef63747862021581efe8d04e6d233bd35cf2fabdeb93fb0d (2024-10-31) - 상태코드: 200\n",
      "✅ 4cc6ce9926b50ab077005b3be7271171 (2024-10-31) - 상태코드: 200\n"
     ]
    },
    {
     "name": "stderr",
     "output_type": "stream",
     "text": [
      " 15%|█▌        | 785/5104 [00:17<01:50, 39.14it/s]"
     ]
    },
    {
     "name": "stdout",
     "output_type": "stream",
     "text": [
      "✅ 4cd4358a18174ade81a26c46af746d3f (2024-10-31) - 상태코드: 200\n",
      "✅ 9cf1bc49585464ced4d1117623407ef5 (2024-10-31) - 상태코드: 200\n",
      "✅ 78c8235b1a43e7796e556a0904ad9b09 (2024-10-31) - 상태코드: 200\n",
      "✅ 128b16a889934818ecad68443d33f8f0 (2024-10-31) - 상태코드: 200\n",
      "✅ 8e418ac840d290cdcff94d0c22b393f2 (2024-10-31) - 상태코드: 200\n",
      "✅ 9cfa542fcd5ce5b6f48034b1d63418a0 (2024-10-31) - 상태코드: 200\n",
      "✅ 6677c3fe29666e1eb7fd630e17995186 (2024-10-31) - 상태코드: 200\n",
      "✅ 7f67fc46b1cd910a7ebf4d92867fde34 (2024-10-31) - 상태코드: 200\n",
      "✅ 514cc55795d14102e6e06877cb5fef6a (2024-10-31) - 상태코드: 200\n"
     ]
    },
    {
     "name": "stderr",
     "output_type": "stream",
     "text": [
      " 16%|█▌        | 795/5104 [00:17<01:46, 40.52it/s]"
     ]
    },
    {
     "name": "stdout",
     "output_type": "stream",
     "text": [
      "✅ d5409537bfbd08b03e17dc3f52208257 (2024-10-31) - 상태코드: 200\n",
      "✅ a65581762b5d6e34bac6c5bf505ab79c (2024-10-31) - 상태코드: 200\n",
      "✅ f83d731ab941bb8cb9309650bbca2556efe8d04e6d233bd35cf2fabdeb93fb0d (2024-10-31) - 상태코드: 200\n",
      "✅ 24dbdc91d6b2f63be430a40ebdfa1d2e (2024-10-31) - 상태코드: 200\n",
      "✅ 2d9eafc741722263c64a25aa674f21c4 (2024-10-31) - 상태코드: 200\n",
      "✅ 5fae23b0a50206c30cbe3d15b462b589efe8d04e6d233bd35cf2fabdeb93fb0d (2024-10-31) - 상태코드: 200\n",
      "✅ d89293632bd02624ab8282e83d3dbe0b (2024-10-31) - 상태코드: 200\n"
     ]
    },
    {
     "name": "stderr",
     "output_type": "stream",
     "text": [
      " 16%|█▌        | 800/5104 [00:17<01:41, 42.30it/s]"
     ]
    },
    {
     "name": "stdout",
     "output_type": "stream",
     "text": [
      "✅ 51dabf2f8718e6b757c4dfae215cbbd2 (2024-10-31) - 상태코드: 200\n",
      "✅ 330e83a2349a52c860524ad2a853648c (2024-10-31) - 상태코드: 200\n",
      "✅ 10b358de5a7e17bc2c02f5c25432dc37efe8d04e6d233bd35cf2fabdeb93fb0d (2024-10-31) - 상태코드: 200\n",
      "✅ 9a269c49588c1a45c5b382895206a293 (2024-10-31) - 상태코드: 200\n",
      "✅ 96fdb3ef9d3e17227700c25a56e592b2 (2024-10-31) - 상태코드: 200\n",
      "✅ f02dbeb0b14c3143a5ba532ca30fc43fefe8d04e6d233bd35cf2fabdeb93fb0d (2024-10-31) - 상태코드: 200\n",
      "✅ 2d6bbb92c21e0ae183e7c969df0085a5 (2024-10-31) - 상태코드: 200\n",
      "✅ 84d5cd478dd3c1e583d94a7bf63721b2efe8d04e6d233bd35cf2fabdeb93fb0d (2024-10-31) - 상태코드: 200\n"
     ]
    },
    {
     "name": "stderr",
     "output_type": "stream",
     "text": [
      " 16%|█▌        | 809/5104 [00:18<02:12, 32.42it/s]"
     ]
    },
    {
     "name": "stdout",
     "output_type": "stream",
     "text": [
      "✅ 3e856e0b915cb62838958909c60e59d5efe8d04e6d233bd35cf2fabdeb93fb0d (2024-10-31) - 상태코드: 200\n",
      "✅ 728fa75237873734e013c5f128872a7b (2024-10-31) - 상태코드: 200\n",
      "✅ d681a590b51294681b60695bde93e2dd (2024-10-31) - 상태코드: 200\n",
      "✅ af5deee5f0d367ba389960803ab52983 (2024-10-31) - 상태코드: 200\n",
      "✅ 023e363b5eb4997ade40e4f971cc72ad (2024-10-31) - 상태코드: 200\n",
      "✅ 90da96cdb2989da5837a1e2f0192eff4 (2024-10-31) - 상태코드: 200\n",
      "✅ 8c6eb8a7b48145a6c9ab4085c37208ecefe8d04e6d233bd35cf2fabdeb93fb0d (2024-11-07) - 상태코드: 200\n"
     ]
    },
    {
     "name": "stderr",
     "output_type": "stream",
     "text": [
      " 16%|█▌        | 813/5104 [00:18<02:21, 30.35it/s]"
     ]
    },
    {
     "name": "stdout",
     "output_type": "stream",
     "text": [
      "✅ 315bde624cd11939bdbbabd4106fbe4f (2024-11-07) - 상태코드: 200\n",
      "✅ 6f5a4f3369f373da79ba7b39c207e834 (2024-11-07) - 상태코드: 200\n",
      "✅ 1cb932bf646448a60b2bd65705b97d75 (2024-11-07) - 상태코드: 200\n",
      "✅ 3b2166fca378cbd08edaf70c9b49b585 (2024-10-31) - 상태코드: 200\n",
      "✅ 4ddd426b005f214b9b2038fb67719f9b (2024-11-07) - 상태코드: 200\n"
     ]
    },
    {
     "name": "stderr",
     "output_type": "stream",
     "text": [
      " 16%|█▌        | 821/5104 [00:18<02:14, 31.75it/s]"
     ]
    },
    {
     "name": "stdout",
     "output_type": "stream",
     "text": [
      "✅ 3327ccbd3400f6e634f96f2a8fcd162defe8d04e6d233bd35cf2fabdeb93fb0d (2024-11-07) - 상태코드: 200\n",
      "✅ 4934a54c292d84ceb81d2c4b14bbac93efe8d04e6d233bd35cf2fabdeb93fb0d (2024-11-07) - 상태코드: 200\n",
      "✅ 991f8e71da1217400748eed40b8bdf23efe8d04e6d233bd35cf2fabdeb93fb0d (2024-11-07) - 상태코드: 200\n",
      "✅ 7405c8fde61d4e4851cd1aa898d8d5b8 (2024-11-07) - 상태코드: 200\n",
      "✅ ff63a4e67d00f86652ef3974008aed64 (2024-11-07) - 상태코드: 200\n",
      "✅ 24cbbe59b7b772e1748abfa6a0ced4edefe8d04e6d233bd35cf2fabdeb93fb0d (2024-11-07) - 상태코드: 200\n",
      "✅ be5618a9953d6ab9b65213fcb34f030c (2024-11-07) - 상태코드: 200\n"
     ]
    },
    {
     "name": "stderr",
     "output_type": "stream",
     "text": [
      " 16%|█▌        | 825/5104 [00:18<02:23, 29.78it/s]"
     ]
    },
    {
     "name": "stdout",
     "output_type": "stream",
     "text": [
      "✅ 0daec42fd1eeef67733b0f5690c2ec29 (2024-11-07) - 상태코드: 200\n",
      "✅ d613e90260501e2e4aea74603babc0fd (2024-11-07) - 상태코드: 200\n",
      "✅ ef81e21ae9917c9d71131baae2da79ef (2024-11-07) - 상태코드: 200\n",
      "✅ 2983e2f1fc4fab7a63626c525e7baf67 (2024-11-07) - 상태코드: 200\n",
      "✅ af7df64ff10600cd3f87ebf9f384b6d3efe8d04e6d233bd35cf2fabdeb93fb0d (2024-11-07) - 상태코드: 200\n",
      "✅ 566ba43acc0f258e2b0ad7b531fd2fc3 (2024-11-07) - 상태코드: 200\n"
     ]
    },
    {
     "name": "stderr",
     "output_type": "stream",
     "text": [
      " 16%|█▋        | 833/5104 [00:19<02:16, 31.22it/s]"
     ]
    },
    {
     "name": "stdout",
     "output_type": "stream",
     "text": [
      "✅ 3d9a94d775603949b0ae473c50a3f4b5a2186d8e7cf7a6ee152d97cc78f2ae8b (2024-11-07) - 상태코드: 200\n",
      "✅ 5e1d47e8c070dc3241501a36c1969220 (2024-11-07) - 상태코드: 200\n",
      "✅ df2dd14084d1e73ae143412b3628f0d5efe8d04e6d233bd35cf2fabdeb93fb0d (2024-11-07) - 상태코드: 200\n",
      "✅ 8ffe7968b03a12f9a6f0687473ac675e (2024-11-07) - 상태코드: 200\n",
      "✅ b5d8ca6ef53eeb3569e458d1d3cd6090 (2024-11-07) - 상태코드: 200\n",
      "✅ 3b5e23900beda889be4f7aedeeb96c38 (2024-11-07) - 상태코드: 200\n"
     ]
    },
    {
     "name": "stderr",
     "output_type": "stream",
     "text": [
      " 16%|█▋        | 841/5104 [00:19<02:17, 31.09it/s]"
     ]
    },
    {
     "name": "stdout",
     "output_type": "stream",
     "text": [
      "✅ 0a703636d6ef26bf9635e788a1126201 (2024-11-07) - 상태코드: 200\n",
      "✅ 38c8c639113b0787308c8bb80b5d804fefe8d04e6d233bd35cf2fabdeb93fb0d (2024-11-07) - 상태코드: 200\n",
      "✅ bb24ede4453358417e0546aa21ee7649 (2024-11-07) - 상태코드: 200\n",
      "✅ 40d94d313b4c225242e3e3bd800f012befe8d04e6d233bd35cf2fabdeb93fb0d (2024-11-07) - 상태코드: 200\n",
      "✅ 0f2934b74a1e901e3c4c3cb8338740ed (2024-10-31) - 상태코드: 200\n",
      "✅ efb85e81bacbebb593c3b6fde6812812 (2024-11-07) - 상태코드: 200\n",
      "✅ 19907f569272e742367e3fd4eac592a5efe8d04e6d233bd35cf2fabdeb93fb0d (2024-11-07) - 상태코드: 200\n"
     ]
    },
    {
     "name": "stderr",
     "output_type": "stream",
     "text": [
      " 17%|█▋        | 849/5104 [00:19<02:13, 31.78it/s]"
     ]
    },
    {
     "name": "stdout",
     "output_type": "stream",
     "text": [
      "✅ 3b0a86781652eef43a99c874e8fcb53b (2024-11-07) - 상태코드: 200\n",
      "✅ 7098187b25417dbd097d65d40b67a4f3efe8d04e6d233bd35cf2fabdeb93fb0d (2024-11-07) - 상태코드: 200\n",
      "✅ 3a7e08a69892768f972496b0079ac613 (2024-11-07) - 상태코드: 200\n",
      "✅ 7969110f097cbb90c94d186b0e152d2d (2024-11-07) - 상태코드: 200\n",
      "✅ 4603246ec7d2da1036805c43ed7df55e (2024-11-07) - 상태코드: 200\n",
      "✅ 2172f0fa63e98d078558490328da113defe8d04e6d233bd35cf2fabdeb93fb0d (2024-11-07) - 상태코드: 200\n",
      "✅ 472be15312a39e22c117fb310c881cfe (2024-11-07) - 상태코드: 200\n",
      "✅ c52e181fb169741019df14638f76a765 (2024-11-07) - 상태코드: 200\n",
      "✅ ee5f641bc5d21be86fe2f326067b4dd2fd842dab14be2a956555625b37c97bff (2024-11-07) - 상태코드: 200\n",
      "✅ bf84e99ac70f7663eaf5842e0a697b72 (2024-11-07) - 상태코드: 200\n"
     ]
    },
    {
     "name": "stderr",
     "output_type": "stream",
     "text": [
      " 17%|█▋        | 857/5104 [00:19<02:08, 33.00it/s]"
     ]
    },
    {
     "name": "stdout",
     "output_type": "stream",
     "text": [
      "✅ cf98e709f848d3cef643323df0c47fd9 (2024-11-07) - 상태코드: 200\n",
      "✅ 7f0ef9ea4b05d1d934eda4284aa578a9 (2024-11-07) - 상태코드: 200\n",
      "✅ 69f5080323bbd70593f64349947d313f6fbb98200a15be5bcc73a64995849e9c (2024-11-07) - 상태코드: 200\n",
      "✅ 68c698e7d765bb3c73e390760751e036efe8d04e6d233bd35cf2fabdeb93fb0d (2024-11-07) - 상태코드: 200\n",
      "✅ 754924d82f140e7f75f38b3a6861cbd5efe8d04e6d233bd35cf2fabdeb93fb0d (2024-11-07) - 상태코드: 200\n",
      "✅ adec6db8f6769d50dc21317084ca1832 (2024-11-07) - 상태코드: 200\n"
     ]
    },
    {
     "name": "stderr",
     "output_type": "stream",
     "text": [
      " 17%|█▋        | 861/5104 [00:19<02:02, 34.67it/s]"
     ]
    },
    {
     "name": "stdout",
     "output_type": "stream",
     "text": [
      "✅ ff3de06ab1c5959deeca1a5c854955e2efe8d04e6d233bd35cf2fabdeb93fb0d (2024-11-07) - 상태코드: 200\n",
      "✅ 00ff9cf9e4e55f80c30c4036eec9a5b7 (2024-11-07) - 상태코드: 200\n",
      "✅ 3c486313548a8d5757c673d360cd7ea7efe8d04e6d233bd35cf2fabdeb93fb0d (2024-11-07) - 상태코드: 200\n",
      "✅ 3566b66655df88f014a4baffb7588a18 (2024-11-07) - 상태코드: 200\n",
      "✅ d962c1fa2fa5cea46a84796cc7172dd4efe8d04e6d233bd35cf2fabdeb93fb0d (2024-11-07) - 상태코드: 200\n",
      "✅ 799295d692fa485e5b47ea74035bb8a8efe8d04e6d233bd35cf2fabdeb93fb0d (2024-11-07) - 상태코드: 200\n",
      "✅ 1d10326a79d397dad7b5d00faa23211b (2024-11-07) - 상태코드: 200\n",
      "✅ 2aa540cfc2b0e638404c9641cf5daddb (2024-11-07) - 상태코드: 200\n",
      "✅ 53104c124f779041e0f7116f8ce6e2b7 (2024-11-07) - 상태코드: 200\n"
     ]
    },
    {
     "name": "stderr",
     "output_type": "stream",
     "text": [
      " 17%|█▋        | 873/5104 [00:20<01:36, 43.85it/s]"
     ]
    },
    {
     "name": "stdout",
     "output_type": "stream",
     "text": [
      "✅ bd1eedacee93cae2af43ad5c29f21a8c (2024-11-07) - 상태코드: 200\n",
      "✅ 223d064219eed12e0ec9d21460ede5f0efe8d04e6d233bd35cf2fabdeb93fb0d (2024-11-07) - 상태코드: 200\n",
      "✅ 9eed691a31409febf72f25664bddb99d (2024-11-07) - 상태코드: 200\n",
      "✅ e317d4813a69fb3361864089ed0d1757 (2024-11-07) - 상태코드: 200\n",
      "✅ 5c3e904eaca03b316daf87c4c78d0c88 (2024-11-07) - 상태코드: 200\n",
      "✅ e9586b8a734f046ca1b89b8f20071f87efe8d04e6d233bd35cf2fabdeb93fb0d (2024-11-07) - 상태코드: 200\n",
      "✅ fd17b26beac5266a9ba69fc7e5eead74efe8d04e6d233bd35cf2fabdeb93fb0d (2024-11-07) - 상태코드: 200\n",
      "✅ 8f2d78f0714b7a49d0dcdbe1161ce84c (2024-11-07) - 상태코드: 200\n"
     ]
    },
    {
     "name": "stderr",
     "output_type": "stream",
     "text": [
      " 17%|█▋        | 883/5104 [00:20<01:53, 37.20it/s]"
     ]
    },
    {
     "name": "stdout",
     "output_type": "stream",
     "text": [
      "✅ e95324256cebb35acec9ddb51c91d497 (2024-11-07) - 상태코드: 200\n",
      "✅ d742f62993190da82fa7f4671ebb1476 (2024-11-07) - 상태코드: 200\n",
      "✅ cd9c1a0e5fb457317a5ef2a017b8674d (2024-11-07) - 상태코드: 200\n",
      "✅ 6ffc14ff1de7b5b0a3f208b593b1144e (2024-11-07) - 상태코드: 200\n",
      "✅ 22319f7d3679c34e3b35eebb904ec905 (2024-11-07) - 상태코드: 200\n",
      "✅ 5429e61ad4935e06613bdfc40f219476 (2024-11-07) - 상태코드: 200\n",
      "✅ feae7dbfd8920e3c33ba80042776976befe8d04e6d233bd35cf2fabdeb93fb0d (2024-11-07) - 상태코드: 200\n",
      "✅ 0be29d735786e3e0461b317a6e86832b (2024-11-07) - 상태코드: 200\n",
      "✅ 7cbed2cae759263a0f27278e38a51275 (2024-11-07) - 상태코드: 200\n"
     ]
    },
    {
     "name": "stderr",
     "output_type": "stream",
     "text": [
      " 17%|█▋        | 887/5104 [00:20<01:55, 36.64it/s]"
     ]
    },
    {
     "name": "stdout",
     "output_type": "stream",
     "text": [
      "✅ b24ba7b50dfdf479b1cc8d24cc65a06c (2024-11-07) - 상태코드: 200\n",
      "✅ 2911af63fbd902765a852e40a2d9488d (2024-11-07) - 상태코드: 200\n",
      "✅ 969c1b7668768ec67ce568e82eb3652a (2024-11-07) - 상태코드: 200\n",
      "✅ 3aa9923eda02aa2bdc26247a537dbf47 (2024-11-07) - 상태코드: 200\n",
      "✅ 6ef7a179284f11d7546a25bf2025929e (2024-11-07) - 상태코드: 200\n",
      "✅ 5e984f5fdbd26de9427843646077da9cefe8d04e6d233bd35cf2fabdeb93fb0d (2024-11-07) - 상태코드: 200\n",
      "✅ 220f3f6430ef1e58043bf3a312720c1f (2024-11-07) - 상태코드: 200\n",
      "✅ 6ca1ef9dab134c1d9cb726ada282754986e68d4012202d0434d05f81868f68e3 (2024-11-07) - 상태코드: 200\n"
     ]
    },
    {
     "name": "stderr",
     "output_type": "stream",
     "text": [
      " 18%|█▊        | 897/5104 [00:20<01:54, 36.75it/s]"
     ]
    },
    {
     "name": "stdout",
     "output_type": "stream",
     "text": [
      "✅ b1c62686fd8f823760298229180a28f5 (2024-11-07) - 상태코드: 200\n",
      "✅ 98a45d21eb8221d564c9c1443bc5841a (2024-11-07) - 상태코드: 200\n",
      "✅ ce3f06abad0d49dc14e4141b0a631c52 (2024-11-07) - 상태코드: 200\n",
      "✅ 3421bfb89d6611558182e8d2af3d5d5a (2024-11-07) - 상태코드: 200\n",
      "✅ 605c5b412201ef038f655c06b69256d8 (2024-11-07) - 상태코드: 200\n",
      "✅ 5695c6dc53f86e8110a6b37030d9247befe8d04e6d233bd35cf2fabdeb93fb0d (2024-11-07) - 상태코드: 200\n"
     ]
    },
    {
     "name": "stderr",
     "output_type": "stream",
     "text": [
      " 18%|█▊        | 907/5104 [00:21<01:45, 39.81it/s]"
     ]
    },
    {
     "name": "stdout",
     "output_type": "stream",
     "text": [
      "✅ b2fb907f6fbf6a039f1cef6bdc4e8457 (2024-11-07) - 상태코드: 200\n",
      "✅ bf893598bb415d20d3615ad9d8595fa4 (2024-11-07) - 상태코드: 200\n",
      "✅ 74406382ba6c7594ef73688e8d7bd12e (2024-11-07) - 상태코드: 200\n",
      "✅ 7dbc7f73d47fea9e42ae93a4c62e0ed6 (2024-11-07) - 상태코드: 200\n",
      "✅ 6985dd5e08d08e87428031e047d1a4eb4723574b05820acf03e7ec3162ff5bed (2024-11-07) - 상태코드: 200\n",
      "✅ 374faf954d1a3ce177c92668a2a4309d (2024-11-07) - 상태코드: 200\n",
      "✅ c86d73029385cda466c249c59460456e (2024-11-07) - 상태코드: 200\n",
      "✅ 2eaee8491645cd83b692755c6871e827 (2024-11-07) - 상태코드: 200\n",
      "✅ f3aa4c38d90838b7872717888fa62ffb (2024-11-07) - 상태코드: 200\n",
      "✅ 9024e79c09fefe51fcc407bc2dd975b8 (2024-11-07) - 상태코드: 400\n"
     ]
    },
    {
     "name": "stderr",
     "output_type": "stream",
     "text": [
      " 18%|█▊        | 912/5104 [00:21<01:41, 41.19it/s]"
     ]
    },
    {
     "name": "stdout",
     "output_type": "stream",
     "text": [
      "✅ 09c019e289606a3b2a18f40609107b00efe8d04e6d233bd35cf2fabdeb93fb0d (2024-11-07) - 상태코드: 200\n",
      "✅ 4181e8df10a85f5b559d5e770d5d2252 (2024-11-07) - 상태코드: 200\n",
      "✅ f3d277009a97b27dcfd3d9fe0d29004cefe8d04e6d233bd35cf2fabdeb93fb0d (2024-11-07) - 상태코드: 200\n",
      "✅ 51845de1965d98fc6f98fbc9a23c1aa7 (2024-11-07) - 상태코드: 200\n",
      "✅ b517a51af2326a04ec7a77d80695dfa3efe8d04e6d233bd35cf2fabdeb93fb0d (2024-11-07) - 상태코드: 200\n",
      "✅ f1ced214d9c6bf1aac73f7ffde8ae91a (2024-11-07) - 상태코드: 200\n",
      "✅ ff308d37a165572b45518551ff788634 (2024-11-07) - 상태코드: 200\n",
      "✅ 7e863dd6e15b2e8f90ec74f9e0c06169 (2024-11-07) - 상태코드: 200\n",
      "✅ 9bf4b4267127550b5428fcd699202a2b (2024-11-07) - 상태코드: 200\n",
      "✅ b15e18d83c7d8c7f7c94804068d4b7cd (2024-11-07) - 상태코드: 200\n"
     ]
    },
    {
     "name": "stderr",
     "output_type": "stream",
     "text": [
      " 18%|█▊        | 925/5104 [00:21<01:27, 47.86it/s]"
     ]
    },
    {
     "name": "stdout",
     "output_type": "stream",
     "text": [
      "✅ 1bddcdc6fd36de3027e6160f50cddddb (2024-11-07) - 상태코드: 200\n",
      "✅ d8c4cebfd7c479289da98965610185e1efe8d04e6d233bd35cf2fabdeb93fb0d (2024-11-07) - 상태코드: 200\n",
      "✅ 239a560a7f07402da908826821ae8e44 (2024-11-07) - 상태코드: 200\n",
      "✅ 3049fb56cc782a119096673b7eab786a (2024-11-07) - 상태코드: 200\n",
      "✅ 1ef452f60e1c495a0feea39efdaeca6defe8d04e6d233bd35cf2fabdeb93fb0d (2024-11-07) - 상태코드: 200\n",
      "✅ 6e4f367a8570a3917a021b17f3b93f40 (2024-11-07) - 상태코드: 200\n",
      "✅ f8cebf9b5441a5619a12889b87b74d79 (2024-11-07) - 상태코드: 200\n",
      "✅ 4f364b02152245d6001f8d81c78a0a01efe8d04e6d233bd35cf2fabdeb93fb0d (2024-11-07) - 상태코드: 200\n",
      "✅ e2f6a4a393bd180b040effcfd4ec2fc5efe8d04e6d233bd35cf2fabdeb93fb0d (2024-11-07) - 상태코드: 200\n",
      "✅ ac6ed463785c3aa7c13f138becc0f253 (2024-11-07) - 상태코드: 200\n",
      "✅ 4a299934879212a57159707e5db5e35a (2024-11-07) - 상태코드: 200\n"
     ]
    },
    {
     "name": "stderr",
     "output_type": "stream",
     "text": [
      " 18%|█▊        | 938/5104 [00:21<01:28, 47.34it/s]"
     ]
    },
    {
     "name": "stdout",
     "output_type": "stream",
     "text": [
      "✅ cb4ab50d21a1dc5cdd93baa0f5a1e733 (2024-11-07) - 상태코드: 200\n",
      "✅ a9883bdf4e25cec3f532cc1a55500132efe8d04e6d233bd35cf2fabdeb93fb0d (2024-11-07) - 상태코드: 200\n",
      "✅ 65e2397a413f6041d20ebc2545840aa1efe8d04e6d233bd35cf2fabdeb93fb0d (2024-11-07) - 상태코드: 200\n",
      "✅ fbbd0f354dcc8487d9580f4a34a629faa2186d8e7cf7a6ee152d97cc78f2ae8b (2024-11-07) - 상태코드: 200\n",
      "✅ b6a680a85ebabcafde8d271e64dc8dc3 (2024-11-07) - 상태코드: 200\n",
      "✅ 26f2841006d596cd78e36b6e0b137985 (2024-11-07) - 상태코드: 200\n",
      "✅ 50556b376a36ce49be1979999a0fa106 (2024-11-07) - 상태코드: 200\n",
      "✅ 708338f60a339c4874542898fdf0d95f (2024-11-07) - 상태코드: 200\n",
      "✅ fcf680f9c825512ac48d975fcaa6b114 (2024-11-07) - 상태코드: 200\n",
      "✅ 5e859d25c2d12325040cbb3bce0b42b2 (2024-11-07) - 상태코드: 200\n",
      "✅ d5bb5072fbb657ae7532fd51fc9ead7eefe8d04e6d233bd35cf2fabdeb93fb0d (2024-11-07) - 상태코드: 200\n",
      "✅ be8dceaaf819ce55ad47281d2c3aca6a (2024-11-07) - 상태코드: 200\n"
     ]
    },
    {
     "name": "stderr",
     "output_type": "stream",
     "text": [
      " 19%|█▊        | 949/5104 [00:22<01:24, 49.13it/s]"
     ]
    },
    {
     "name": "stdout",
     "output_type": "stream",
     "text": [
      "✅ dadfd46c8cc678054be9ed21d861b887 (2024-11-07) - 상태코드: 200\n",
      "✅ a1333be07c304f5a7eb0f373a33d2d98 (2024-11-07) - 상태코드: 200\n",
      "✅ f4e3fec9b164dcb0a1289b10e79ef451efe8d04e6d233bd35cf2fabdeb93fb0d (2024-11-07) - 상태코드: 200\n",
      "✅ 3b8782162f1a3de3176cefbd7628191befe8d04e6d233bd35cf2fabdeb93fb0d (2024-11-07) - 상태코드: 200\n",
      "✅ 279de3b7232b2b282f4340429322e694 (2024-11-07) - 상태코드: 200\n",
      "✅ 1040e841045fb697cb16ba38728badd9c47ea5ffea2564f587ca830a8f71acb2 (2024-11-07) - 상태코드: 200\n",
      "✅ 1896b6b1552a73ef2593f1a526645de8 (2024-11-07) - 상태코드: 200\n",
      "✅ fb3acbfc29d1ca6e6d9c7e0429d20d9c (2024-11-07) - 상태코드: 200\n",
      "✅ 2c51cb13a92c359f9f5d05bfad0434ba (2024-11-07) - 상태코드: 200\n",
      "✅ 47ac6db232a5c1683ee369c727548e67 (2024-11-07) - 상태코드: 200\n",
      "✅ 9d4ad6c5a2848655113cc430c37c56defd842dab14be2a956555625b37c97bff (2024-11-07) - 상태코드: 200\n",
      "✅ 17450708b81f9f3359ae63a9a468a57defe8d04e6d233bd35cf2fabdeb93fb0d (2024-11-07) - 상태코드: 200\n"
     ]
    },
    {
     "name": "stderr",
     "output_type": "stream",
     "text": [
      " 19%|█▉        | 959/5104 [00:22<01:29, 46.50it/s]"
     ]
    },
    {
     "name": "stdout",
     "output_type": "stream",
     "text": [
      "✅ cca5fe91053ac3e862f700e605d60b13 (2024-11-07) - 상태코드: 200\n",
      "✅ 13934ac9a8aa854bb025fdfefc1aedacefe8d04e6d233bd35cf2fabdeb93fb0d (2024-11-07) - 상태코드: 200\n",
      "✅ e89c7c6babe2b4ab1b8884be9664c3fe (2024-11-07) - 상태코드: 200\n",
      "✅ 628064f9636e913c0baa587591009ac6 (2024-11-07) - 상태코드: 200\n",
      "✅ ac4857b3f0caf5a20cab1ead94a9c651efe8d04e6d233bd35cf2fabdeb93fb0d (2024-11-07) - 상태코드: 200\n",
      "✅ f1d1516c36e71a807c38abbd84fe765eefe8d04e6d233bd35cf2fabdeb93fb0d (2024-11-07) - 상태코드: 200\n",
      "✅ 513f7d0e3ebc8e3a66131d79e11c04b1efe8d04e6d233bd35cf2fabdeb93fb0d (2024-11-07) - 상태코드: 200\n",
      "✅ f7d153f788bb31a48fac00d05ca5b8e2 (2024-11-07) - 상태코드: 200\n",
      "✅ a32135b332a78aa191ff53f3142d4256 (2024-11-07) - 상태코드: 200\n",
      "✅ bb2a595185dc1df66fb5642d4cb6d8fe (2024-11-07) - 상태코드: 200\n"
     ]
    },
    {
     "name": "stderr",
     "output_type": "stream",
     "text": [
      " 19%|█▉        | 972/5104 [00:22<01:23, 49.61it/s]"
     ]
    },
    {
     "name": "stdout",
     "output_type": "stream",
     "text": [
      "✅ a7ae30be9791800519216f303f4bc242 (2024-11-07) - 상태코드: 200\n",
      "✅ 8eabcdf676e4a85f6975d61127d4d610 (2024-11-07) - 상태코드: 200\n",
      "✅ 82d506065bfb21c5c18b290372fcbfddefe8d04e6d233bd35cf2fabdeb93fb0d (2024-11-07) - 상태코드: 200\n",
      "✅ d8ec6412ba8d1aa3baf5978db66b0b7fefe8d04e6d233bd35cf2fabdeb93fb0d (2024-11-07) - 상태코드: 200\n",
      "✅ 44e51c0508ef66eccfceaf91468dd78a (2024-11-07) - 상태코드: 200\n",
      "✅ 3c83e96851d68ec43de59f203823505fefe8d04e6d233bd35cf2fabdeb93fb0d (2024-11-07) - 상태코드: 200\n",
      "✅ 6eaf81660d02c0cec84abe413441185d (2024-11-07) - 상태코드: 200\n",
      "✅ bc4589d012261bbd6bd8589e50fcee93 (2024-11-07) - 상태코드: 200\n",
      "✅ ea10c7295abc7322f8dc464117e9a9c9efe8d04e6d233bd35cf2fabdeb93fb0d (2024-11-07) - 상태코드: 200\n",
      "✅ 65bdf2bed8ec1ccf9e2662fd4d0f8395 (2024-11-07) - 상태코드: 200\n",
      "✅ 1d205e20b3768b973ab739386bf45221 (2024-11-07) - 상태코드: 200\n",
      "✅ cbc22128462d4dc04bee9ac58ce8f6b4efe8d04e6d233bd35cf2fabdeb93fb0d (2024-11-07) - 상태코드: 200\n"
     ]
    },
    {
     "name": "stderr",
     "output_type": "stream",
     "text": [
      " 19%|█▉        | 978/5104 [00:22<01:23, 49.36it/s]"
     ]
    },
    {
     "name": "stdout",
     "output_type": "stream",
     "text": [
      "✅ 4ef511aa921e2e3e6e057c7c190f671d (2024-11-07) - 상태코드: 200\n",
      "✅ 5d50176fa95c4c2777f8cfab25791e99 (2024-11-07) - 상태코드: 200\n",
      "✅ b8f92200c8f90db7c81b555437190dc1 (2024-11-07) - 상태코드: 200\n",
      "✅ 044735ab378a6fb630d690f597e32680 (2024-11-07) - 상태코드: 200\n",
      "✅ 13517ce3b03cf0d225cba188d339f89d (2024-11-07) - 상태코드: 200\n",
      "✅ 7eab1d00a514fb33f5308c54dbd1984a (2024-11-07) - 상태코드: 200\n",
      "✅ 2588c5b885c4e32438bf8f6b64b722d2 (2024-11-07) - 상태코드: 200\n",
      "✅ 22cbe662f126130dcec290b4876c03a0 (2024-11-07) - 상태코드: 200\n",
      "✅ db4041bf81cfa0f00e104a085cb61fa4 (2024-11-07) - 상태코드: 200\n",
      "✅ d7b3e8296cfdb2efe1c3733608293944 (2024-11-07) - 상태코드: 200\n"
     ]
    },
    {
     "name": "stderr",
     "output_type": "stream",
     "text": [
      " 19%|█▉        | 991/5104 [00:22<01:23, 49.27it/s]"
     ]
    },
    {
     "name": "stdout",
     "output_type": "stream",
     "text": [
      "✅ 086f27ce61e74d439eaf2d84ee835d22 (2024-11-07) - 상태코드: 200✅ 084a5582fa4b497f546aa7694fb67ce4 (2024-11-07) - 상태코드: 200\n",
      "\n",
      "✅ afe1ecee209a814d003e66f02aa90ba7 (2024-11-07) - 상태코드: 200\n",
      "✅ 0bf63c31bc6693c1540a47e87e126f98 (2024-11-07) - 상태코드: 200\n",
      "✅ 9c62eb9679732b959d9dcf466d4d4d5d (2024-11-07) - 상태코드: 200\n",
      "✅ 3de3fe2e9606b7bdb416739499e57563c47ea5ffea2564f587ca830a8f71acb2 (2024-11-07) - 상태코드: 200\n",
      "✅ 1cb4798f1b4c7e48a39b0f71242d8776efe8d04e6d233bd35cf2fabdeb93fb0d (2024-11-07) - 상태코드: 200\n",
      "✅ a82272808f892ee4d7e8af0c85cd145a (2024-11-07) - 상태코드: 200\n",
      "✅ 89d16afabe5512a6d19d7faf4591a0db (2024-11-07) - 상태코드: 200\n",
      "✅ beb183e075d75cdae0b97ffe4c3e02ceefe8d04e6d233bd35cf2fabdeb93fb0d (2024-11-07) - 상태코드: 200\n",
      "✅ 42f82e26c2b4470c06e2b7c7e069cfa1efe8d04e6d233bd35cf2fabdeb93fb0d (2024-11-07) - 상태코드: 200\n"
     ]
    },
    {
     "name": "stderr",
     "output_type": "stream",
     "text": [
      " 20%|█▉        | 1001/5104 [00:23<01:38, 41.52it/s]"
     ]
    },
    {
     "name": "stdout",
     "output_type": "stream",
     "text": [
      "✅ 43c80a11fe24ec36c45d6c4141d96271 (2024-11-07) - 상태코드: 200\n",
      "✅ 3aaa00df5844bdc55cad1986624c3be7efe8d04e6d233bd35cf2fabdeb93fb0d (2024-11-07) - 상태코드: 200\n",
      "✅ 062f16456e427ad94943fdf121da3491 (2024-11-07) - 상태코드: 200\n",
      "✅ 33cf25def0b2f62779a9452b8dc605c8 (2024-11-07) - 상태코드: 200\n",
      "✅ f6fc240b0f3b41439bfd22a3413be412efe8d04e6d233bd35cf2fabdeb93fb0d (2024-11-07) - 상태코드: 200\n",
      "✅ 1b60eccbaa90d94a168030bb9ac62dd5 (2024-11-07) - 상태코드: 200\n",
      "✅ e352d9661cf6efce5665be3ac1daef8d (2024-11-07) - 상태코드: 200\n",
      "✅ dad21b1febfb0d34778da615d562f3e7efe8d04e6d233bd35cf2fabdeb93fb0d (2024-11-07) - 상태코드: 200\n",
      "✅ 9b8f3b5db571f28eff79e8a600249aebefe8d04e6d233bd35cf2fabdeb93fb0d (2024-11-07) - 상태코드: 200\n"
     ]
    },
    {
     "name": "stderr",
     "output_type": "stream",
     "text": [
      " 20%|█▉        | 1008/5104 [00:23<01:32, 44.41it/s]"
     ]
    },
    {
     "name": "stdout",
     "output_type": "stream",
     "text": [
      "✅ fd47a908a0c706ef862655a1fb7fe695a2186d8e7cf7a6ee152d97cc78f2ae8b (2024-11-07) - 상태코드: 200\n",
      "✅ e140432e14534fe2cba19340c7346d79 (2024-11-07) - 상태코드: 200\n",
      "✅ 6f8dbc2f1ff23a2fd3616982e0e6c90eefe8d04e6d233bd35cf2fabdeb93fb0d (2024-11-07) - 상태코드: 200\n",
      "✅ 000208be9ccea59917319c24391dc215 (2024-11-07) - 상태코드: 200\n",
      "✅ 749fd7656fa0da1ec9eee05d129a24e9 (2024-11-07) - 상태코드: 200\n",
      "✅ e9626a0c27a5300130a601ca83fabf3f (2024-11-07) - 상태코드: 200\n",
      "✅ cab50ec80162c1dcbeedfa1bad957da0efe8d04e6d233bd35cf2fabdeb93fb0d (2024-11-07) - 상태코드: 200\n",
      "✅ 4909250c0ad14d97246c828356d1f659 (2024-11-07) - 상태코드: 200\n"
     ]
    },
    {
     "name": "stderr",
     "output_type": "stream",
     "text": [
      " 20%|█▉        | 1018/5104 [00:23<01:42, 39.71it/s]"
     ]
    },
    {
     "name": "stdout",
     "output_type": "stream",
     "text": [
      "✅ 05b7c656f8e0cb3e06fad02b9ec2d33e (2024-11-07) - 상태코드: 200\n",
      "✅ 91dae7b1a84220b6478ece3a67eb65ac (2024-11-07) - 상태코드: 200\n",
      "✅ d61fa89d1074146d96916f1247cd347d (2024-11-07) - 상태코드: 200\n",
      "✅ a546125a6567f76bda355fb111ab1a29 (2024-11-07) - 상태코드: 200\n",
      "✅ d57a207f97a111ea7d7e09acc2481a1a (2024-11-07) - 상태코드: 200\n",
      "✅ 086c7e98e760bdc20731251d90a40333efe8d04e6d233bd35cf2fabdeb93fb0d (2024-11-07) - 상태코드: 200\n",
      "✅ b6facd19e1308eb1d66c009c3f3889ad (2024-11-07) - 상태코드: 200\n",
      "✅ b651391ba94012d07f19648bcdc555cc (2024-11-07) - 상태코드: 200\n",
      "✅ 73ecbf3269e394a3f722e97b53c72fb7 (2024-11-07) - 상태코드: 200\n"
     ]
    },
    {
     "name": "stderr",
     "output_type": "stream",
     "text": [
      " 20%|██        | 1028/5104 [00:23<01:42, 39.58it/s]"
     ]
    },
    {
     "name": "stdout",
     "output_type": "stream",
     "text": [
      "✅ 949332668982d81498ae683612d78c00 (2024-11-07) - 상태코드: 200\n",
      "✅ 0155920a06c5a23dacf672a46c6e9c10 (2024-11-07) - 상태코드: 200\n",
      "✅ 01c21c1fab12f0ceda9ab04178eab3d0 (2024-11-07) - 상태코드: 200\n",
      "✅ 9dd98c3333a69c3a6e17e6739840c2ebefe8d04e6d233bd35cf2fabdeb93fb0d (2024-11-07) - 상태코드: 200\n",
      "✅ e232a5f985f59c4f8d13254992e165acefe8d04e6d233bd35cf2fabdeb93fb0d (2024-11-07) - 상태코드: 200\n",
      "✅ 69a79ee5543c1d0fe29da4e169e0bcdc (2024-11-07) - 상태코드: 200\n",
      "✅ f7bf309b6fd22e629826ad726292aad4 (2024-11-07) - 상태코드: 200\n"
     ]
    },
    {
     "name": "stderr",
     "output_type": "stream",
     "text": [
      " 20%|██        | 1033/5104 [00:23<01:37, 41.87it/s]"
     ]
    },
    {
     "name": "stdout",
     "output_type": "stream",
     "text": [
      "✅ d6d5b0150d614b29d1881d93d1c01a9fc47ea5ffea2564f587ca830a8f71acb2 (2024-11-07) - 상태코드: 200\n",
      "✅ 9d1eb4e59abcf837a062b4a851360f0eefe8d04e6d233bd35cf2fabdeb93fb0d (2024-11-07) - 상태코드: 200\n",
      "✅ 9db944cb648dbfa0bebd86e854c9ebeeefe8d04e6d233bd35cf2fabdeb93fb0d (2024-11-07) - 상태코드: 200\n",
      "✅ ed5ee13b468389ea6890c7fab08b566d (2024-11-07) - 상태코드: 200\n",
      "✅ 2bc563e13e76d8e5504480756fe73516 (2024-11-07) - 상태코드: 200\n",
      "✅ 8a17735b943abcf8f612b8e4c3bceb41efe8d04e6d233bd35cf2fabdeb93fb0d (2024-11-07) - 상태코드: 200\n",
      "✅ aa02f2c859c17c676c581f4256e69966 (2024-11-07) - 상태코드: 200\n"
     ]
    },
    {
     "name": "stderr",
     "output_type": "stream",
     "text": [
      " 20%|██        | 1043/5104 [00:24<01:45, 38.51it/s]"
     ]
    },
    {
     "name": "stdout",
     "output_type": "stream",
     "text": [
      "✅ fb12f318b0d9f4618f8604ffe0f888fb (2024-11-07) - 상태코드: 200\n",
      "✅ 4fe0212aea0ada386b0eee96db13062befe8d04e6d233bd35cf2fabdeb93fb0d (2024-11-07) - 상태코드: 200\n",
      "✅ 5b56ff5b0c2c32e6f2c29b054e06bd0fefe8d04e6d233bd35cf2fabdeb93fb0d (2024-11-07) - 상태코드: 200\n",
      "✅ 661c2af5b554a5b28cc0dc6cce4702ab (2024-11-07) - 상태코드: 200\n",
      "✅ 569063766792419f9fa7e66d599794f5efe8d04e6d233bd35cf2fabdeb93fb0d (2024-11-07) - 상태코드: 200\n",
      "✅ 3325202d40b4d8a66b3abb6a8328b75e6fbb98200a15be5bcc73a64995849e9c (2024-11-07) - 상태코드: 200\n",
      "✅ 6c463e11735b91abe05eaf30a96c71ba (2024-11-07) - 상태코드: 200\n",
      "✅ fb9565b9cea4342e8166135956d989af (2024-11-07) - 상태코드: 200\n",
      "✅ 5a9caeb2090088491eff66ba27911c11 (2024-11-07) - 상태코드: 200\n"
     ]
    },
    {
     "name": "stderr",
     "output_type": "stream",
     "text": [
      " 21%|██        | 1049/5104 [00:24<01:46, 37.97it/s]"
     ]
    },
    {
     "name": "stdout",
     "output_type": "stream",
     "text": [
      "✅ 4f9627fd0dfbbe737d8aa8ca3c6bf8d7 (2024-11-07) - 상태코드: 200\n",
      "✅ 9b0bfe1bbaa8d8084fdace27568d420f (2024-11-07) - 상태코드: 200\n",
      "✅ a95bb1dac3969c64eccd20f750163a2a (2024-11-07) - 상태코드: 200\n",
      "✅ 71f0b98d89bc23c202c05265943c6bc5 (2024-11-07) - 상태코드: 200\n",
      "✅ 3319030d2d683c47e357b7e11ded870e (2024-11-07) - 상태코드: 200\n",
      "✅ cb6a1af44c29bed33d1668c9af14e964efe8d04e6d233bd35cf2fabdeb93fb0d (2024-11-07) - 상태코드: 200\n",
      "✅ bb8599971672667eb989098fa4524c88efe8d04e6d233bd35cf2fabdeb93fb0d (2024-11-07) - 상태코드: 200\n",
      "✅ f8876c7e64d221313a716acd63c918a5 (2024-11-07) - 상태코드: 200\n",
      "✅ 279067f16ee430c8455007ea5690d2dc (2024-11-07) - 상태코드: 200\n"
     ]
    },
    {
     "name": "stderr",
     "output_type": "stream",
     "text": [
      " 21%|██        | 1060/5104 [00:24<01:39, 40.69it/s]"
     ]
    },
    {
     "name": "stdout",
     "output_type": "stream",
     "text": [
      "✅ 078a8d1a09e2ea6f370016dee51c52d0 (2024-11-07) - 상태코드: 200\n",
      "✅ ddf217188d89c174471891a6b6f59d99efe8d04e6d233bd35cf2fabdeb93fb0d (2024-11-07) - 상태코드: 200\n",
      "✅ 8f8cff703afe3336102c4a029a750416 (2024-11-07) - 상태코드: 200\n",
      "✅ 09fe715758f3f0a4298876d30db06a78 (2024-11-07) - 상태코드: 200\n",
      "✅ a5a04b39e333907796194fca06402cafefe8d04e6d233bd35cf2fabdeb93fb0d (2024-11-07) - 상태코드: 200\n",
      "✅ 0741328edd7b9990d605a751adecf551 (2024-11-07) - 상태코드: 200\n",
      "✅ ca3fdcb2df3f9fdeb0c0118631640d58 (2024-11-07) - 상태코드: 200\n",
      "✅ 3d0eb3a674b7a1573e1461955e5a5ae5efe8d04e6d233bd35cf2fabdeb93fb0d (2024-11-07) - 상태코드: 200\n",
      "✅ d6078a0e72764a97b7c26be52905f53cefe8d04e6d233bd35cf2fabdeb93fb0d (2024-11-07) - 상태코드: 200\n",
      "✅ 2e544470cd22f7ed241dfa0adcc7ce1b (2024-11-07) - 상태코드: 200\n",
      "✅ 21f28a9cfdc51081fb323f008e874e88 (2024-11-07) - 상태코드: 200\n"
     ]
    },
    {
     "name": "stderr",
     "output_type": "stream",
     "text": [
      " 21%|██        | 1071/5104 [00:24<01:39, 40.55it/s]"
     ]
    },
    {
     "name": "stdout",
     "output_type": "stream",
     "text": [
      "✅ 0cb0698dd005ec642f6cc183508339d0 (2024-11-07) - 상태코드: 200\n",
      "✅ 9f08774afa676e2907ec2a4cce249576 (2024-11-07) - 상태코드: 200\n",
      "✅ 1e5f72f23ced1cf58753a7576a8ab39cefe8d04e6d233bd35cf2fabdeb93fb0d (2024-11-07) - 상태코드: 200\n",
      "✅ 3409df3f5f678bbf3076f251791af207efe8d04e6d233bd35cf2fabdeb93fb0d (2024-11-07) - 상태코드: 200\n",
      "✅ 7e24b6ce24e58138322dbd0136e89666 (2024-11-07) - 상태코드: 200\n",
      "✅ 68eedfd0b23ea20eede902ab6f824213efe8d04e6d233bd35cf2fabdeb93fb0d (2024-11-07) - 상태코드: 200\n",
      "✅ de11c2621c2c65803f88c55a413e82edefe8d04e6d233bd35cf2fabdeb93fb0d (2024-11-07) - 상태코드: 200\n"
     ]
    },
    {
     "name": "stderr",
     "output_type": "stream",
     "text": [
      " 21%|██        | 1076/5104 [00:25<01:45, 38.26it/s]"
     ]
    },
    {
     "name": "stdout",
     "output_type": "stream",
     "text": [
      "✅ 11a0476903f4c67e798b027c683beb5b (2024-11-07) - 상태코드: 200\n",
      "✅ 22b60e52a31722eea52a03a2e22a3562efe8d04e6d233bd35cf2fabdeb93fb0d (2024-11-07) - 상태코드: 200\n",
      "✅ 917faa7948e7ad9d15c872e760574f76 (2024-11-07) - 상태코드: 200\n",
      "✅ a97f73b0c4501bb55db37c2f47b8a038 (2024-11-07) - 상태코드: 200\n",
      "✅ 769e173a14c77fb1481869547dbd5b9defe8d04e6d233bd35cf2fabdeb93fb0d (2024-11-07) - 상태코드: 200\n",
      "✅ 9a54921e11117eb71cec9e33572d00efefe8d04e6d233bd35cf2fabdeb93fb0d (2024-11-07) - 상태코드: 200\n",
      "✅ 922f72e1f844a47114dc7db73fa08d6a (2024-11-07) - 상태코드: 200\n",
      "✅ f9cc4a44c68c926a091d7c9ab793fb9e (2024-11-07) - 상태코드: 200\n",
      "✅ 611ddd9239c26376a34e2ce13daf1117efe8d04e6d233bd35cf2fabdeb93fb0d (2024-11-07) - 상태코드: 200\n"
     ]
    },
    {
     "name": "stderr",
     "output_type": "stream",
     "text": [
      " 21%|██▏       | 1088/5104 [00:25<01:40, 39.85it/s]"
     ]
    },
    {
     "name": "stdout",
     "output_type": "stream",
     "text": [
      "✅ ca79866792d247003783b9bb3d5cc06d (2024-11-07) - 상태코드: 200\n",
      "✅ e687482501bdc080bafc05e81cb0bca0 (2024-11-07) - 상태코드: 200\n",
      "✅ af56e2d5ff0c34b4fa11a322a0404514 (2024-11-07) - 상태코드: 200\n",
      "✅ 9aeef4ced3288f15f5db522b4183c3f9 (2024-11-07) - 상태코드: 200\n",
      "✅ 0dae0e8b99af48a4b83b141d597d184e (2024-11-07) - 상태코드: 200\n",
      "✅ 83e2d5de5d91e75cf347c534feedc677 (2024-11-07) - 상태코드: 200\n",
      "✅ b2f1ecf671482b322448341a6f6a3636efe8d04e6d233bd35cf2fabdeb93fb0d (2024-11-07) - 상태코드: 200\n",
      "✅ ccb9c5420547136374300d49f970b25a4723574b05820acf03e7ec3162ff5bed (2024-11-07) - 상태코드: 200\n"
     ]
    },
    {
     "name": "stderr",
     "output_type": "stream",
     "text": [
      " 21%|██▏       | 1093/5104 [00:25<01:36, 41.37it/s]"
     ]
    },
    {
     "name": "stdout",
     "output_type": "stream",
     "text": [
      "✅ c503e22a4c85e73306ccd152a782bb85 (2024-11-07) - 상태코드: 200\n",
      "✅ a63955c13457331aa52bf6f60d3404bfe85e07f9d5d276f44440847eec04ba68 (2024-11-07) - 상태코드: 200\n",
      "✅ 2e0cb71481f120daf870ef953d7e0dcdefe8d04e6d233bd35cf2fabdeb93fb0d (2024-11-07) - 상태코드: 200\n",
      "✅ 5b27a98bde5442d387b3c9fef0e252e4 (2024-11-07) - 상태코드: 200\n",
      "✅ 94161ac9ec0fad2ff11bcd08ce194c27efe8d04e6d233bd35cf2fabdeb93fb0d (2024-11-07) - 상태코드: 200\n",
      "✅ f9e6ee82909139cd54a5e4a5488d8ac2 (2024-11-07) - 상태코드: 200\n",
      "✅ 8b05186d82f055390b31c151b13433b7efe8d04e6d233bd35cf2fabdeb93fb0d (2024-11-07) - 상태코드: 200\n",
      "✅ 36a0147210315b6a764ec6ba3d150203 (2024-11-07) - 상태코드: 200\n",
      "✅ e8ba301f60ab98692d2236db5f62b5eb (2024-11-07) - 상태코드: 200\n",
      "✅ e8de19b68e571680c4e6a353296f98ec (2024-11-07) - 상태코드: 200\n"
     ]
    },
    {
     "name": "stderr",
     "output_type": "stream",
     "text": [
      " 22%|██▏       | 1104/5104 [00:25<01:41, 39.24it/s]"
     ]
    },
    {
     "name": "stdout",
     "output_type": "stream",
     "text": [
      "✅ ac677e9ee50144b79b3941be6860e48defe8d04e6d233bd35cf2fabdeb93fb0d (2024-11-07) - 상태코드: 200\n",
      "✅ d128d33f9f9a239cd942837993c7be01 (2024-11-07) - 상태코드: 200\n",
      "✅ 222c64ca4ba72e38f00b8a44500bf1e6 (2024-11-07) - 상태코드: 200\n",
      "✅ 1e7f1b2681f8d24677d6f0d21e29d439 (2024-11-07) - 상태코드: 200\n",
      "✅ 4c93f25bd172d882c34d4c012dc81f4f (2024-11-07) - 상태코드: 200\n",
      "✅ 1a6abcdc2af71fa5b8adde85c34092f6 (2024-11-07) - 상태코드: 200\n",
      "✅ d64720833af0d462ab89f0b2d22bbdb2 (2024-11-07) - 상태코드: 200\n",
      "✅ e226aa37a8a5648d68e8221fc90216d2 (2024-11-07) - 상태코드: 200\n"
     ]
    },
    {
     "name": "stderr",
     "output_type": "stream",
     "text": [
      " 22%|██▏       | 1114/5104 [00:25<01:38, 40.59it/s]"
     ]
    },
    {
     "name": "stdout",
     "output_type": "stream",
     "text": [
      "✅ 4c010fb43dec6b26e7b0f51e687f5551 (2024-11-07) - 상태코드: 200\n",
      "✅ 606eed3e75dd3c2ea9e61356a8601f76 (2024-11-07) - 상태코드: 200\n",
      "✅ 484d6ac3fa7d3ffe45f7cada776b4c8d (2024-11-07) - 상태코드: 200\n",
      "✅ 1435f0c2418521498f3ab4d2fa6ab7e1 (2024-11-07) - 상태코드: 200\n",
      "✅ d50ebb0bdf1f5ae6456dc558d45fd500efe8d04e6d233bd35cf2fabdeb93fb0d (2024-11-07) - 상태코드: 200\n",
      "✅ 369dd4a3037748b67475dda468ffc0e4efe8d04e6d233bd35cf2fabdeb93fb0d (2024-11-07) - 상태코드: 200\n",
      "✅ 1b28283c121f0efb54a4a1c0e52648de (2024-11-07) - 상태코드: 200\n",
      "✅ aec72053fa4a55515d450bc873634d4c (2024-11-07) - 상태코드: 200\n",
      "✅ 5cbc28e26aee0b5577de2f763ff061ebefe8d04e6d233bd35cf2fabdeb93fb0d (2024-11-07) - 상태코드: 200\n",
      "✅ a39afaeeed982aab7461bf9e08044ff5 (2024-11-07) - 상태코드: 200\n",
      "✅ e60a3bf8f4230460bfe767a731bb4325 (2024-11-07) - 상태코드: 200\n"
     ]
    },
    {
     "name": "stderr",
     "output_type": "stream",
     "text": [
      " 22%|██▏       | 1126/5104 [00:26<01:27, 45.51it/s]"
     ]
    },
    {
     "name": "stdout",
     "output_type": "stream",
     "text": [
      "✅ 1140b43e83968d4212d2c15b5d52f6ee (2024-11-07) - 상태코드: 200\n",
      "✅ 84c7f2ea5754c00020294a24ddab1a8d (2024-11-07) - 상태코드: 200\n",
      "✅ 595e3f205099d0cc0b4f48a6311bba61efe8d04e6d233bd35cf2fabdeb93fb0d (2024-11-07) - 상태코드: 200\n",
      "✅ 208cc01fd0425f29d2ff777fc349e53c (2024-11-07) - 상태코드: 200\n",
      "✅ a3f4effaa0b4c0b34f98500914f4f7bd (2024-11-07) - 상태코드: 200\n",
      "✅ e10ad02dfa2e72c14867abccfc26c5c9 (2024-11-07) - 상태코드: 200\n",
      "✅ 842eb3d37af78783ad985cbed9262d7fefe8d04e6d233bd35cf2fabdeb93fb0d (2024-11-07) - 상태코드: 200\n",
      "✅ 29843ff80a0f243d9105dab8763d2868efe8d04e6d233bd35cf2fabdeb93fb0d (2024-11-07) - 상태코드: 200\n",
      "✅ b97082f9b444551617c3f8c03fa9f656efe8d04e6d233bd35cf2fabdeb93fb0d (2024-11-07) - 상태코드: 200\n",
      "✅ 7953c80fd7237c3729ac8c3b6ef32113 (2024-11-07) - 상태코드: 200\n"
     ]
    },
    {
     "name": "stderr",
     "output_type": "stream",
     "text": [
      " 22%|██▏       | 1136/5104 [00:26<01:30, 43.68it/s]"
     ]
    },
    {
     "name": "stdout",
     "output_type": "stream",
     "text": [
      "✅ aeb92bbc7a9e744b5d19546e1f7f6571 (2024-11-07) - 상태코드: 200\n",
      "✅ 7dae4e3c7432cda35e92a37f7966b2c7 (2024-11-07) - 상태코드: 200\n",
      "✅ af576eafd68a41c83691e469abf436c5 (2024-11-07) - 상태코드: 200\n",
      "✅ 594d50bef178a32cd3a55c4b8c14ba12 (2024-11-07) - 상태코드: 200\n",
      "✅ 7b3f46040b1a1e68d0ca97fc231edb41efe8d04e6d233bd35cf2fabdeb93fb0d (2024-11-07) - 상태코드: 200\n",
      "✅ dee87b47e6bb1b27829f5852e5d34f4aefe8d04e6d233bd35cf2fabdeb93fb0d (2024-11-07) - 상태코드: 200\n",
      "✅ 583f5a7cc979911e7f7cd57c0f0c515f (2024-11-07) - 상태코드: 200\n",
      "✅ fcdbf19f67d660ecb92153133a7b2dc6efe8d04e6d233bd35cf2fabdeb93fb0d (2024-11-07) - 상태코드: 200\n",
      "✅ cb9171942ee3ae0fb30f572470f1fb35 (2024-11-07) - 상태코드: 200\n"
     ]
    },
    {
     "name": "stderr",
     "output_type": "stream",
     "text": [
      " 22%|██▏       | 1141/5104 [00:26<01:33, 42.39it/s]"
     ]
    },
    {
     "name": "stdout",
     "output_type": "stream",
     "text": [
      "✅ d4c900dbe429b7ba387abc475922b6a9 (2024-11-07) - 상태코드: 200\n",
      "✅ 0dbdfe8aceacb95fc2142960b5a2dfc7 (2024-11-07) - 상태코드: 200\n",
      "✅ 54293d468c7cdc28d8a52c2735987e3e (2024-11-07) - 상태코드: 200\n",
      "✅ fdb2c25d78c9adb59db0c1299f3fa51c (2024-11-07) - 상태코드: 200\n",
      "✅ 7cc3e1413190d5b84ab7011cc17ede7defe8d04e6d233bd35cf2fabdeb93fb0d (2024-11-07) - 상태코드: 200\n",
      "✅ b4bfd9886db9f78859a06730182a7aa7 (2024-11-07) - 상태코드: 200\n",
      "✅ cf090fdfadbe2417b3be75b579cdb2f5efe8d04e6d233bd35cf2fabdeb93fb0d (2024-11-07) - 상태코드: 200\n",
      "✅ 3106bb701f607729e94a6e314be81d42efe8d04e6d233bd35cf2fabdeb93fb0d (2024-11-07) - 상태코드: 200\n",
      "✅ a9fc5302c43579c87308929aefb9831f (2024-11-07) - 상태코드: 200\n",
      "✅ d6fde33ffc1b86bd5fdef84d811d1f05efe8d04e6d233bd35cf2fabdeb93fb0d (2024-11-07) - 상태코드: 200\n",
      "✅ 2c24f37729a63a11addb8335d21b1e77 (2024-11-07) - 상태코드: 200\n"
     ]
    },
    {
     "name": "stderr",
     "output_type": "stream",
     "text": [
      " 23%|██▎       | 1154/5104 [00:26<01:25, 46.16it/s]"
     ]
    },
    {
     "name": "stdout",
     "output_type": "stream",
     "text": [
      "✅ 26a0e6a1a4a8a0a827929f06ef7f7161 (2024-11-07) - 상태코드: 200\n",
      "✅ fe8d07d681e3de139829beddf6cea54a (2024-11-07) - 상태코드: 200\n",
      "✅ 50264441579163a8d4ef74b8ffdad8c4 (2024-11-07) - 상태코드: 200\n",
      "✅ fbed6b559f00085f80fbe0d6857aced8 (2024-11-07) - 상태코드: 200\n",
      "✅ ded605e9759ff64b0716a00c9b7364a8efe8d04e6d233bd35cf2fabdeb93fb0d (2024-11-07) - 상태코드: 200\n",
      "✅ cff16b17e5e22654dc8e6720cb104245efe8d04e6d233bd35cf2fabdeb93fb0d (2024-11-07) - 상태코드: 200\n",
      "✅ eeecf7d337e7243d7eea7a3d02fb3179efe8d04e6d233bd35cf2fabdeb93fb0d (2024-11-07) - 상태코드: 200\n",
      "✅ e42807c706271ca6ab3cee4e234aa014 (2024-11-07) - 상태코드: 200\n",
      "✅ 79b7bd0c37ceaa747ab77c16fd2d3affefe8d04e6d233bd35cf2fabdeb93fb0d (2024-11-07) - 상태코드: 200\n",
      "✅ 96b94f594f811df1a56f8906646ad1a0 (2024-11-07) - 상태코드: 200\n",
      "✅ 04d062b0cf66f68b92b4e4866a2e010e (2024-11-07) - 상태코드: 200\n"
     ]
    },
    {
     "name": "stderr",
     "output_type": "stream",
     "text": [
      " 23%|██▎       | 1166/5104 [00:27<01:27, 45.07it/s]"
     ]
    },
    {
     "name": "stdout",
     "output_type": "stream",
     "text": [
      "✅ ccf5025e4395933cbd2b2505e4c2cd6befe8d04e6d233bd35cf2fabdeb93fb0d (2024-11-07) - 상태코드: 200\n",
      "✅ c145c25549dc55e6142e4081b3d797ff (2024-11-07) - 상태코드: 200\n",
      "✅ 29e7a7206766577ca10470e2863c6687efe8d04e6d233bd35cf2fabdeb93fb0d (2024-11-07) - 상태코드: 200\n",
      "✅ ef474c476ad2dcbd0ee328faf47e7818 (2024-11-07) - 상태코드: 200\n",
      "✅ d48f17257465d68f51bf25bd301ea393 (2024-11-07) - 상태코드: 200\n",
      "✅ 0a8b7ed01025d8898e3a96447b0b1bc9 (2024-11-07) - 상태코드: 200\n",
      "✅ f545d8469f27ddd218bde6659f17f6f34723574b05820acf03e7ec3162ff5bed (2024-11-07) - 상태코드: 200\n",
      "✅ f6e29c019442ffc77a8c61b2763b3e31 (2024-11-07) - 상태코드: 200\n",
      "✅ c7fcb246de5c82fdfc266790bf7d9231 (2024-11-07) - 상태코드: 200\n",
      "✅ 1f822bfed567418fe27fa86dabd9f725e85e07f9d5d276f44440847eec04ba68 (2024-11-07) - 상태코드: 200\n",
      "✅ 594851240918600483932901044e16acfd842dab14be2a956555625b37c97bff (2024-11-07) - 상태코드: 200\n"
     ]
    },
    {
     "name": "stderr",
     "output_type": "stream",
     "text": [
      " 23%|██▎       | 1175/5104 [00:27<01:12, 54.02it/s]"
     ]
    },
    {
     "name": "stdout",
     "output_type": "stream",
     "text": [
      "✅ 0e8cb07ed5308313716a9d671ec1ae47 (2024-11-07) - 상태코드: 200\n",
      "✅ 2e087944e865d7e1c53545a57c671573 (2024-11-07) - 상태코드: 200\n",
      "✅ 2d30e1609663ceca7ca5703cbaba502a (2024-11-07) - 상태코드: 200\n",
      "✅ 54409a0836251f2274b71ee61ad619a5efe8d04e6d233bd35cf2fabdeb93fb0d (2024-11-07) - 상태코드: 200\n",
      "✅ eb1f76ec8d0cf4a3ea16406f6fbbe8c3 (2024-11-07) - 상태코드: 200\n",
      "✅ 98b43ad4613e0d97f877e32b04b3da5c (2024-11-07) - 상태코드: 200\n",
      "✅ afc1ebd63f31e95898f1df395e06862b (2024-11-07) - 상태코드: 200\n",
      "✅ e11a80c37297dc8034628a2cba4741cbefe8d04e6d233bd35cf2fabdeb93fb0d (2024-11-07) - 상태코드: 200\n",
      "✅ cee4c7be90ffa4d71f086888e5272a98 (2024-11-07) - 상태코드: 200\n",
      "✅ d1b407deeae4faba86713249301620abefe8d04e6d233bd35cf2fabdeb93fb0d (2024-11-07) - 상태코드: 200\n"
     ]
    },
    {
     "name": "stderr",
     "output_type": "stream",
     "text": [
      " 23%|██▎       | 1187/5104 [00:27<01:27, 44.55it/s]"
     ]
    },
    {
     "name": "stdout",
     "output_type": "stream",
     "text": [
      "✅ 2a46ff3a9ad98d3597d7ee195e585b43 (2024-11-07) - 상태코드: 200\n",
      "✅ a00068394e40534241fc8a14dd7721a2efe8d04e6d233bd35cf2fabdeb93fb0d (2024-11-07) - 상태코드: 200\n",
      "✅ 4f627a8fab0ab12a186d0007f66b2669 (2024-11-07) - 상태코드: 200\n",
      "✅ 7f67fc46b1cd910a7ebf4d92867fde34 (2024-11-07) - 상태코드: 200\n",
      "✅ b3fd272ec373921a00dd95b479f03d53 (2024-11-07) - 상태코드: 200\n",
      "✅ d0a50e8ead72d6468c872675afb495feefe8d04e6d233bd35cf2fabdeb93fb0d (2024-11-07) - 상태코드: 200\n",
      "✅ a30a6c56faa5f49895e54b4bc04be058 (2024-11-07) - 상태코드: 200\n",
      "✅ 3ac82f2a0ca58d993d6d30d854dd546cefe8d04e6d233bd35cf2fabdeb93fb0d (2024-11-07) - 상태코드: 200\n",
      "✅ ee23eedfac77641a0fc30ffcc0a3217a (2024-11-07) - 상태코드: 200\n",
      "✅ 3b8ef4201afc050122c5ff04a58361b1 (2024-11-07) - 상태코드: 200\n",
      "✅ ce4c6a806604a42629b4f64f9b275b44 (2024-11-07) - 상태코드: 200\n"
     ]
    },
    {
     "name": "stderr",
     "output_type": "stream",
     "text": [
      " 24%|██▎       | 1200/5104 [00:27<01:17, 50.40it/s]"
     ]
    },
    {
     "name": "stdout",
     "output_type": "stream",
     "text": [
      "✅ f875503553ae169cfa2ea8acc92c5506 (2024-11-07) - 상태코드: 200\n",
      "✅ bafef7d436fab2ffff18c9d86dc62e61 (2024-11-07) - 상태코드: 200\n",
      "✅ 3c112a85118a6fb6d1e44a7a60e308ad (2024-11-07) - 상태코드: 200\n",
      "✅ 5b52a370824102a5bf911496f5139d41efe8d04e6d233bd35cf2fabdeb93fb0d (2024-11-07) - 상태코드: 200\n",
      "✅ 5aed587fbfa88a1d5c6a29c2ccf54df0efe8d04e6d233bd35cf2fabdeb93fb0d (2024-11-07) - 상태코드: 200\n",
      "✅ 611651e51c4dd1d8fd4a6d7893eff297 (2024-11-07) - 상태코드: 200\n",
      "✅ 1bc06b87204b6c886da411fbd081b183 (2024-11-07) - 상태코드: 200\n",
      "✅ fc0e69178dc9b7f8a423ef2de211cd15 (2024-11-07) - 상태코드: 200\n",
      "✅ 66584bff8c0cd94a5d5a837fbd63a0dc (2024-11-07) - 상태코드: 200\n",
      "✅ 76675b691086b4b66898eeee8aefa3f9efe8d04e6d233bd35cf2fabdeb93fb0d (2024-11-07) - 상태코드: 200\n"
     ]
    },
    {
     "name": "stderr",
     "output_type": "stream",
     "text": [
      " 24%|██▎       | 1206/5104 [00:27<01:29, 43.45it/s]"
     ]
    },
    {
     "name": "stdout",
     "output_type": "stream",
     "text": [
      "✅ 7f2f23268f62082a4e565a3e4f3c856b (2024-11-07) - 상태코드: 200\n",
      "✅ f8ba66be9026f117dc9bb9c71cfb4417 (2024-11-07) - 상태코드: 200\n",
      "✅ 0df99bfd191c9ab4a3cb17ea0f396983 (2024-11-07) - 상태코드: 200\n",
      "✅ 3979c56b335a3ba1a46aa03df9b1bfe6 (2024-11-07) - 상태코드: 200\n",
      "✅ d0856074ab180afe613f6036a7cb93d5efe8d04e6d233bd35cf2fabdeb93fb0d (2024-11-07) - 상태코드: 200\n",
      "✅ 1eef0c75da54036322b76c61423a6affefe8d04e6d233bd35cf2fabdeb93fb0d (2024-11-07) - 상태코드: 200\n",
      "✅ 2ae9d4052c807eece88cbc4c5ab09246 (2024-11-07) - 상태코드: 200\n",
      "✅ a3cd8105da757642c8f742a7fd302236 (2024-11-07) - 상태코드: 200\n"
     ]
    },
    {
     "name": "stderr",
     "output_type": "stream",
     "text": [
      " 24%|██▍       | 1214/5104 [00:28<01:16, 51.04it/s]"
     ]
    },
    {
     "name": "stdout",
     "output_type": "stream",
     "text": [
      "✅ 6a4b463c72dce569b23d98afef8fcd05 (2024-11-07) - 상태코드: 200\n",
      "✅ 4cc6ce9926b50ab077005b3be7271171 (2024-11-07) - 상태코드: 200\n",
      "✅ ed54921f192cb4fdcd3d039093eec8cc (2024-11-07) - 상태코드: 200\n",
      "✅ 6cc5c3c0e9e8b41beccdcda2c73f15ec (2024-11-07) - 상태코드: 200\n",
      "✅ c534f454b2ad9432ef63747862021581efe8d04e6d233bd35cf2fabdeb93fb0d (2024-11-07) - 상태코드: 200\n",
      "✅ 4cd4358a18174ade81a26c46af746d3f (2024-11-07) - 상태코드: 200\n",
      "✅ 78c8235b1a43e7796e556a0904ad9b09 (2024-11-07) - 상태코드: 200\n",
      "✅ 8e418ac840d290cdcff94d0c22b393f2 (2024-11-07) - 상태코드: 200\n",
      "✅ 128b16a889934818ecad68443d33f8f0 (2024-11-07) - 상태코드: 200\n",
      "✅ f83d731ab941bb8cb9309650bbca2556efe8d04e6d233bd35cf2fabdeb93fb0d (2024-11-07) - 상태코드: 200\n",
      "✅ 9cf1bc49585464ced4d1117623407ef5 (2024-11-07) - 상태코드: 200\n"
     ]
    },
    {
     "name": "stderr",
     "output_type": "stream",
     "text": [
      " 24%|██▍       | 1225/5104 [00:28<01:25, 45.37it/s]"
     ]
    },
    {
     "name": "stdout",
     "output_type": "stream",
     "text": [
      "✅ 10b358de5a7e17bc2c02f5c25432dc37efe8d04e6d233bd35cf2fabdeb93fb0d (2024-11-07) - 상태코드: 200\n",
      "✅ 9cfa542fcd5ce5b6f48034b1d63418a0 (2024-11-07) - 상태코드: 200\n",
      "✅ 514cc55795d14102e6e06877cb5fef6a (2024-11-07) - 상태코드: 200\n",
      "✅ 6677c3fe29666e1eb7fd630e17995186 (2024-11-07) - 상태코드: 200\n",
      "✅ d5409537bfbd08b03e17dc3f52208257 (2024-11-07) - 상태코드: 200\n",
      "✅ 24dbdc91d6b2f63be430a40ebdfa1d2e (2024-11-07) - 상태코드: 200\n",
      "✅ 5fae23b0a50206c30cbe3d15b462b589efe8d04e6d233bd35cf2fabdeb93fb0d (2024-11-07) - 상태코드: 200\n",
      "✅ a65581762b5d6e34bac6c5bf505ab79c (2024-11-07) - 상태코드: 200\n",
      "✅ d89293632bd02624ab8282e83d3dbe0b (2024-11-07) - 상태코드: 200\n",
      "✅ 330e83a2349a52c860524ad2a853648c (2024-11-07) - 상태코드: 200\n",
      "✅ 2d6bbb92c21e0ae183e7c969df0085a5 (2024-11-07) - 상태코드: 200\n",
      "✅ 2d9eafc741722263c64a25aa674f21c4 (2024-11-07) - 상태코드: 200\n"
     ]
    },
    {
     "name": "stderr",
     "output_type": "stream",
     "text": [
      " 24%|██▍       | 1238/5104 [00:28<01:16, 50.63it/s]"
     ]
    },
    {
     "name": "stdout",
     "output_type": "stream",
     "text": [
      "✅ 96fdb3ef9d3e17227700c25a56e592b2 (2024-11-07) - 상태코드: 200\n",
      "✅ 51dabf2f8718e6b757c4dfae215cbbd2 (2024-11-07) - 상태코드: 200\n",
      "✅ 9a269c49588c1a45c5b382895206a293 (2024-11-07) - 상태코드: 200\n",
      "✅ 0f2934b74a1e901e3c4c3cb8338740ed (2024-11-07) - 상태코드: 200\n",
      "✅ f02dbeb0b14c3143a5ba532ca30fc43fefe8d04e6d233bd35cf2fabdeb93fb0d (2024-11-07) - 상태코드: 200\n",
      "✅ af5deee5f0d367ba389960803ab52983 (2024-11-07) - 상태코드: 200\n",
      "✅ 728fa75237873734e013c5f128872a7b (2024-11-07) - 상태코드: 200\n",
      "✅ 84d5cd478dd3c1e583d94a7bf63721b2efe8d04e6d233bd35cf2fabdeb93fb0d (2024-11-07) - 상태코드: 200\n",
      "✅ 3b2166fca378cbd08edaf70c9b49b585 (2024-11-07) - 상태코드: 200\n",
      "✅ 90da96cdb2989da5837a1e2f0192eff4 (2024-11-07) - 상태코드: 200\n",
      "✅ 3e856e0b915cb62838958909c60e59d5efe8d04e6d233bd35cf2fabdeb93fb0d (2024-11-07) - 상태코드: 200\n"
     ]
    },
    {
     "name": "stderr",
     "output_type": "stream",
     "text": [
      " 24%|██▍       | 1244/5104 [00:28<01:22, 46.70it/s]"
     ]
    },
    {
     "name": "stdout",
     "output_type": "stream",
     "text": [
      "✅ d681a590b51294681b60695bde93e2dd (2024-11-07) - 상태코드: 200\n",
      "✅ 023e363b5eb4997ade40e4f971cc72ad (2024-11-07) - 상태코드: 200\n",
      "✅ 8c6eb8a7b48145a6c9ab4085c37208ecefe8d04e6d233bd35cf2fabdeb93fb0d (2024-11-14) - 상태코드: 200\n",
      "✅ 315bde624cd11939bdbbabd4106fbe4f (2024-11-14) - 상태코드: 200\n",
      "✅ 6f5a4f3369f373da79ba7b39c207e834 (2024-11-14) - 상태코드: 200\n",
      "✅ 084e19671a32a177b8ef654ede91290aefe8d04e6d233bd35cf2fabdeb93fb0d (2024-11-14) - 상태코드: 200\n",
      "✅ ff63a4e67d00f86652ef3974008aed64 (2024-11-14) - 상태코드: 200\n"
     ]
    },
    {
     "name": "stderr",
     "output_type": "stream",
     "text": [
      " 25%|██▍       | 1257/5104 [00:28<01:20, 47.62it/s]"
     ]
    },
    {
     "name": "stdout",
     "output_type": "stream",
     "text": [
      "✅ 991f8e71da1217400748eed40b8bdf23efe8d04e6d233bd35cf2fabdeb93fb0d (2024-11-14) - 상태코드: 200\n",
      "✅ 3327ccbd3400f6e634f96f2a8fcd162defe8d04e6d233bd35cf2fabdeb93fb0d (2024-11-14) - 상태코드: 200\n",
      "✅ 7405c8fde61d4e4851cd1aa898d8d5b8 (2024-11-14) - 상태코드: 200\n",
      "✅ 4ddd426b005f214b9b2038fb67719f9b (2024-11-14) - 상태코드: 200\n",
      "✅ 1cb932bf646448a60b2bd65705b97d75 (2024-11-14) - 상태코드: 200\n",
      "✅ 24cbbe59b7b772e1748abfa6a0ced4edefe8d04e6d233bd35cf2fabdeb93fb0d (2024-11-14) - 상태코드: 200\n",
      "✅ 49ec82dffa07da6ac0a5b99b7fd74559efe8d04e6d233bd35cf2fabdeb93fb0d (2024-11-14) - 상태코드: 200\n",
      "✅ 0ac8f15307f1156b8c77e475666cc360efe8d04e6d233bd35cf2fabdeb93fb0d (2024-11-14) - 상태코드: 200\n",
      "✅ d613e90260501e2e4aea74603babc0fd (2024-11-14) - 상태코드: 200\n",
      "✅ 0daec42fd1eeef67733b0f5690c2ec29 (2024-11-14) - 상태코드: 200\n"
     ]
    },
    {
     "name": "stderr",
     "output_type": "stream",
     "text": [
      " 25%|██▍       | 1268/5104 [00:29<01:21, 46.93it/s]"
     ]
    },
    {
     "name": "stdout",
     "output_type": "stream",
     "text": [
      "✅ 5e1d47e8c070dc3241501a36c1969220 (2024-11-14) - 상태코드: 200\n",
      "✅ ef81e21ae9917c9d71131baae2da79ef (2024-11-14) - 상태코드: 200\n",
      "✅ be5618a9953d6ab9b65213fcb34f030c (2024-11-14) - 상태코드: 200\n",
      "✅ e137cf8070d07a5d6f049e500cf3ad30efe8d04e6d233bd35cf2fabdeb93fb0d (2024-11-14) - 상태코드: 200\n",
      "✅ df2dd14084d1e73ae143412b3628f0d5efe8d04e6d233bd35cf2fabdeb93fb0d (2024-11-14) - 상태코드: 200\n",
      "✅ af7df64ff10600cd3f87ebf9f384b6d3efe8d04e6d233bd35cf2fabdeb93fb0d (2024-11-14) - 상태코드: 200\n",
      "✅ cee6e098b6e3c180d824889a190fde53 (2024-11-14) - 상태코드: 200\n",
      "✅ 3d9a94d775603949b0ae473c50a3f4b5a2186d8e7cf7a6ee152d97cc78f2ae8b (2024-11-14) - 상태코드: 200\n",
      "✅ 8ffe7968b03a12f9a6f0687473ac675e (2024-11-14) - 상태코드: 200\n",
      "✅ 0a703636d6ef26bf9635e788a1126201 (2024-11-14) - 상태코드: 200\n",
      "✅ 3b0a86781652eef43a99c874e8fcb53b (2024-11-14) - 상태코드: 200\n"
     ]
    },
    {
     "name": "stderr",
     "output_type": "stream",
     "text": [
      " 25%|██▌       | 1279/5104 [00:29<01:27, 43.88it/s]"
     ]
    },
    {
     "name": "stdout",
     "output_type": "stream",
     "text": [
      "✅ 6688072ee3c6c0a4532e87cf6dad2427efe8d04e6d233bd35cf2fabdeb93fb0d (2024-11-14) - 상태코드: 200\n",
      "✅ 3b5e23900beda889be4f7aedeeb96c38 (2024-11-14) - 상태코드: 200\n",
      "✅ 33c518d9d5121ad6b7788f17c3d2fe87efe8d04e6d233bd35cf2fabdeb93fb0d (2024-11-14) - 상태코드: 200\n",
      "✅ 7098187b25417dbd097d65d40b67a4f3efe8d04e6d233bd35cf2fabdeb93fb0d (2024-11-14) - 상태코드: 200\n",
      "✅ 05ad40f8371577c78e9acb2892b9584e (2024-11-14) - 상태코드: 200\n",
      "✅ 3a7e08a69892768f972496b0079ac613 (2024-11-14) - 상태코드: 200\n",
      "✅ efb85e81bacbebb593c3b6fde6812812 (2024-11-14) - 상태코드: 200\n",
      "✅ b19e2edb4605fc81c0b47dcc7a07e180efe8d04e6d233bd35cf2fabdeb93fb0d (2024-11-14) - 상태코드: 200\n",
      "✅ 40d94d313b4c225242e3e3bd800f012befe8d04e6d233bd35cf2fabdeb93fb0d (2024-11-14) - 상태코드: 200\n"
     ]
    },
    {
     "name": "stderr",
     "output_type": "stream",
     "text": [
      " 25%|██▌       | 1284/5104 [00:29<01:28, 43.21it/s]"
     ]
    },
    {
     "name": "stdout",
     "output_type": "stream",
     "text": [
      "✅ 19907f569272e742367e3fd4eac592a5efe8d04e6d233bd35cf2fabdeb93fb0d (2024-11-14) - 상태코드: 200\n",
      "✅ bf84e99ac70f7663eaf5842e0a697b72 (2024-11-14) - 상태코드: 200\n",
      "✅ 472be15312a39e22c117fb310c881cfe (2024-11-14) - 상태코드: 200\n",
      "✅ cfbfc290e30faa09794cacaa8ad8f140 (2024-11-14) - 상태코드: 200\n",
      "✅ a66da2114c8407b232999f1eebe01126efe8d04e6d233bd35cf2fabdeb93fb0d (2024-11-14) - 상태코드: 200\n",
      "✅ 7969110f097cbb90c94d186b0e152d2d (2024-11-14) - 상태코드: 200\n",
      "✅ 38c8c639113b0787308c8bb80b5d804fefe8d04e6d233bd35cf2fabdeb93fb0d (2024-11-14) - 상태코드: 200\n"
     ]
    },
    {
     "name": "stderr",
     "output_type": "stream",
     "text": [
      " 25%|██▌       | 1297/5104 [00:29<01:19, 47.91it/s]"
     ]
    },
    {
     "name": "stdout",
     "output_type": "stream",
     "text": [
      "✅ cf98e709f848d3cef643323df0c47fd9 (2024-11-14) - 상태코드: 200\n",
      "✅ 375cf5ba4c8f79709296478a48ff8368efe8d04e6d233bd35cf2fabdeb93fb0d (2024-11-14) - 상태코드: 200\n",
      "✅ 69f5080323bbd70593f64349947d313f6fbb98200a15be5bcc73a64995849e9c (2024-11-14) - 상태코드: 200\n",
      "✅ ee5f641bc5d21be86fe2f326067b4dd2fd842dab14be2a956555625b37c97bff (2024-11-14) - 상태코드: 200\n",
      "✅ 2172f0fa63e98d078558490328da113defe8d04e6d233bd35cf2fabdeb93fb0d (2024-11-14) - 상태코드: 200\n",
      "✅ 67f2a8d4dde9185dd68bf25cd6f52c05efe8d04e6d233bd35cf2fabdeb93fb0d (2024-11-14) - 상태코드: 200\n",
      "✅ 3566b66655df88f014a4baffb7588a18 (2024-11-14) - 상태코드: 200\n",
      "✅ 1d10326a79d397dad7b5d00faa23211b (2024-11-14) - 상태코드: 200\n",
      "✅ c0dacbd9348ca0552b74f184d9616317efe8d04e6d233bd35cf2fabdeb93fb0d (2024-11-14) - 상태코드: 200\n",
      "✅ c765a492026cb17f3fa61b4526d7121a (2024-11-14) - 상태코드: 200\n",
      "✅ ff3de06ab1c5959deeca1a5c854955e2efe8d04e6d233bd35cf2fabdeb93fb0d (2024-11-14) - 상태코드: 200\n"
     ]
    },
    {
     "name": "stderr",
     "output_type": "stream",
     "text": [
      " 26%|██▌       | 1303/5104 [00:29<01:16, 49.55it/s]"
     ]
    },
    {
     "name": "stdout",
     "output_type": "stream",
     "text": [
      "✅ 7f0ef9ea4b05d1d934eda4284aa578a9 (2024-11-14) - 상태코드: 200\n",
      "✅ 68c698e7d765bb3c73e390760751e036efe8d04e6d233bd35cf2fabdeb93fb0d (2024-11-14) - 상태코드: 200\n",
      "✅ 754924d82f140e7f75f38b3a6861cbd5efe8d04e6d233bd35cf2fabdeb93fb0d (2024-11-14) - 상태코드: 200\n",
      "✅ 799295d692fa485e5b47ea74035bb8a8efe8d04e6d233bd35cf2fabdeb93fb0d (2024-11-14) - 상태코드: 200\n",
      "✅ 00ff9cf9e4e55f80c30c4036eec9a5b7 (2024-11-14) - 상태코드: 200\n",
      "✅ d962c1fa2fa5cea46a84796cc7172dd4efe8d04e6d233bd35cf2fabdeb93fb0d (2024-11-14) - 상태코드: 200\n",
      "✅ 53104c124f779041e0f7116f8ce6e2b7 (2024-11-14) - 상태코드: 200\n",
      "✅ 1d9a9df9a85d733084080c34b66bafd1efe8d04e6d233bd35cf2fabdeb93fb0d (2024-11-14) - 상태코드: 200\n",
      "✅ 2aa540cfc2b0e638404c9641cf5daddb (2024-11-14) - 상태코드: 200\n",
      "✅ bd1eedacee93cae2af43ad5c29f21a8c (2024-11-14) - 상태코드: 200\n"
     ]
    },
    {
     "name": "stderr",
     "output_type": "stream",
     "text": [
      " 26%|██▌       | 1314/5104 [00:30<01:25, 44.54it/s]"
     ]
    },
    {
     "name": "stdout",
     "output_type": "stream",
     "text": [
      "✅ 9eed691a31409febf72f25664bddb99d (2024-11-14) - 상태코드: 200\n",
      "✅ 8f2d78f0714b7a49d0dcdbe1161ce84c (2024-11-14) - 상태코드: 200\n",
      "✅ 223d064219eed12e0ec9d21460ede5f0efe8d04e6d233bd35cf2fabdeb93fb0d (2024-11-14) - 상태코드: 200\n",
      "✅ e9586b8a734f046ca1b89b8f20071f87efe8d04e6d233bd35cf2fabdeb93fb0d (2024-11-14) - 상태코드: 200\n",
      "✅ bda174ff8f1d074d6da1f72617966bafefe8d04e6d233bd35cf2fabdeb93fb0d (2024-11-14) - 상태코드: 200\n",
      "✅ 499b59d931930833b49bea684ff5a9e9 (2024-11-14) - 상태코드: 200\n",
      "✅ 5c3e904eaca03b316daf87c4c78d0c88 (2024-11-14) - 상태코드: 200\n",
      "✅ e317d4813a69fb3361864089ed0d1757 (2024-11-14) - 상태코드: 200\n",
      "✅ 550e1cc0ed2e0ae6c2f4df7611f73224efe8d04e6d233bd35cf2fabdeb93fb0d (2024-11-14) - 상태코드: 200\n",
      "✅ d742f62993190da82fa7f4671ebb1476 (2024-11-14) - 상태코드: 200\n",
      "✅ b1c62686fd8f823760298229180a28f5 (2024-11-14) - 상태코드: 200\n"
     ]
    },
    {
     "name": "stderr",
     "output_type": "stream",
     "text": [
      " 26%|██▌       | 1328/5104 [00:30<01:17, 48.63it/s]"
     ]
    },
    {
     "name": "stdout",
     "output_type": "stream",
     "text": [
      "✅ e95324256cebb35acec9ddb51c91d497 (2024-11-14) - 상태코드: 200\n",
      "✅ feae7dbfd8920e3c33ba80042776976befe8d04e6d233bd35cf2fabdeb93fb0d (2024-11-14) - 상태코드: 200\n",
      "✅ cd9c1a0e5fb457317a5ef2a017b8674d (2024-11-14) - 상태코드: 200\n",
      "✅ 22319f7d3679c34e3b35eebb904ec905 (2024-11-14) - 상태코드: 200\n",
      "✅ adec6db8f6769d50dc21317084ca1832 (2024-11-14) - 상태코드: 200\n",
      "✅ 6ffc14ff1de7b5b0a3f208b593b1144e (2024-11-14) - 상태코드: 200\n",
      "✅ b24ba7b50dfdf479b1cc8d24cc65a06c (2024-11-14) - 상태코드: 200\n",
      "✅ 2911af63fbd902765a852e40a2d9488d (2024-11-14) - 상태코드: 200\n",
      "✅ 0be29d735786e3e0461b317a6e86832b (2024-11-14) - 상태코드: 200\n",
      "✅ 3aa9923eda02aa2bdc26247a537dbf47 (2024-11-14) - 상태코드: 200\n"
     ]
    },
    {
     "name": "stderr",
     "output_type": "stream",
     "text": [
      " 26%|██▌       | 1333/5104 [00:30<01:17, 48.88it/s]"
     ]
    },
    {
     "name": "stdout",
     "output_type": "stream",
     "text": [
      "✅ 969c1b7668768ec67ce568e82eb3652a (2024-11-14) - 상태코드: 200\n",
      "✅ 873262f1f6eb0a0f962d72298e6bbc8defe8d04e6d233bd35cf2fabdeb93fb0d (2024-11-14) - 상태코드: 200\n",
      "✅ 7eafa7de7caf079eb5cf49db9aa710b8efe8d04e6d233bd35cf2fabdeb93fb0d (2024-11-14) - 상태코드: 200\n",
      "✅ 6ef7a179284f11d7546a25bf2025929e (2024-11-14) - 상태코드: 200\n",
      "✅ 220f3f6430ef1e58043bf3a312720c1f (2024-11-14) - 상태코드: 200\n",
      "✅ 3421bfb89d6611558182e8d2af3d5d5a (2024-11-14) - 상태코드: 200\n",
      "✅ 74406382ba6c7594ef73688e8d7bd12e (2024-11-14) - 상태코드: 200\n",
      "✅ 98a45d21eb8221d564c9c1443bc5841a (2024-11-14) - 상태코드: 200\n",
      "✅ 5e984f5fdbd26de9427843646077da9cefe8d04e6d233bd35cf2fabdeb93fb0d (2024-11-14) - 상태코드: 200\n"
     ]
    },
    {
     "name": "stderr",
     "output_type": "stream",
     "text": [
      " 26%|██▋       | 1346/5104 [00:30<01:10, 53.02it/s]"
     ]
    },
    {
     "name": "stdout",
     "output_type": "stream",
     "text": [
      "✅ 4a2400d5c2b265ee9117db587c2a06fa (2024-11-14) - 상태코드: 200\n",
      "✅ 68b68720c7bf74560c69ecd1eb137679efe8d04e6d233bd35cf2fabdeb93fb0d (2024-11-14) - 상태코드: 200\n",
      "✅ 5d9049f65e4b352bedbe1efecf1fe6e4efe8d04e6d233bd35cf2fabdeb93fb0d (2024-11-14) - 상태코드: 200\n",
      "✅ bf893598bb415d20d3615ad9d8595fa4 (2024-11-14) - 상태코드: 200\n",
      "✅ 605c5b412201ef038f655c06b69256d8 (2024-11-14) - 상태코드: 200\n",
      "✅ b2fb907f6fbf6a039f1cef6bdc4e8457 (2024-11-14) - 상태코드: 200\n",
      "✅ 5695c6dc53f86e8110a6b37030d9247befe8d04e6d233bd35cf2fabdeb93fb0d (2024-11-14) - 상태코드: 200\n",
      "✅ 6985dd5e08d08e87428031e047d1a4eb4723574b05820acf03e7ec3162ff5bed (2024-11-14) - 상태코드: 200\n",
      "✅ c86d73029385cda466c249c59460456e (2024-11-14) - 상태코드: 200\n",
      "✅ 7dbc7f73d47fea9e42ae93a4c62e0ed6 (2024-11-14) - 상태코드: 200\n"
     ]
    },
    {
     "name": "stderr",
     "output_type": "stream",
     "text": [
      " 27%|██▋       | 1357/5104 [00:31<01:21, 46.06it/s]"
     ]
    },
    {
     "name": "stdout",
     "output_type": "stream",
     "text": [
      "✅ 2eaee8491645cd83b692755c6871e827 (2024-11-14) - 상태코드: 200\n",
      "✅ f3aa4c38d90838b7872717888fa62ffb (2024-11-14) - 상태코드: 200\n",
      "✅ 374faf954d1a3ce177c92668a2a4309d (2024-11-14) - 상태코드: 200\n",
      "✅ 8e100253db250caf6048665d15534425efe8d04e6d233bd35cf2fabdeb93fb0d (2024-11-14) - 상태코드: 200\n",
      "✅ 9094d86d602414b186b4fbda98e6f2bf (2024-11-14) - 상태코드: 200\n",
      "✅ 10aaa72aac04275f57156ccb4d8e5604efe8d04e6d233bd35cf2fabdeb93fb0d (2024-11-14) - 상태코드: 200\n",
      "✅ f3d277009a97b27dcfd3d9fe0d29004cefe8d04e6d233bd35cf2fabdeb93fb0d (2024-11-14) - 상태코드: 200\n",
      "✅ 41ee3f02eb7418626f20b0138ba7c93defe8d04e6d233bd35cf2fabdeb93fb0d (2024-11-14) - 상태코드: 200\n",
      "✅ 09c019e289606a3b2a18f40609107b00efe8d04e6d233bd35cf2fabdeb93fb0d (2024-11-14) - 상태코드: 200\n",
      "✅ 4181e8df10a85f5b559d5e770d5d2252 (2024-11-14) - 상태코드: 200\n"
     ]
    },
    {
     "name": "stderr",
     "output_type": "stream",
     "text": [
      " 27%|██▋       | 1364/5104 [00:31<01:21, 45.75it/s]"
     ]
    },
    {
     "name": "stdout",
     "output_type": "stream",
     "text": [
      "✅ 617eae0aca75e93ee1c7be69e5767d3aefe8d04e6d233bd35cf2fabdeb93fb0d (2024-11-14) - 상태코드: 200\n",
      "✅ 9024e79c09fefe51fcc407bc2dd975b8 (2024-11-14) - 상태코드: 400\n",
      "✅ 7cd8c23f47cf985528061d75c6b1c382efe8d04e6d233bd35cf2fabdeb93fb0d (2024-11-14) - 상태코드: 200\n",
      "✅ ffc42603f7cdb56696c94f00803194a9efe8d04e6d233bd35cf2fabdeb93fb0d (2024-11-14) - 상태코드: 200\n",
      "✅ ff308d37a165572b45518551ff788634 (2024-11-14) - 상태코드: 200\n",
      "✅ de89638fdf267a96e381f5f640be2a0a (2024-11-14) - 상태코드: 200\n",
      "✅ 817453ad3139a84fc19a9718538e3d0f (2024-11-14) - 상태코드: 200\n",
      "✅ 51845de1965d98fc6f98fbc9a23c1aa7 (2024-11-14) - 상태코드: 200\n"
     ]
    },
    {
     "name": "stderr",
     "output_type": "stream",
     "text": [
      " 27%|██▋       | 1371/5104 [00:31<01:15, 49.57it/s]"
     ]
    },
    {
     "name": "stdout",
     "output_type": "stream",
     "text": [
      "✅ b517a51af2326a04ec7a77d80695dfa3efe8d04e6d233bd35cf2fabdeb93fb0d (2024-11-14) - 상태코드: 200\n",
      "✅ 63255d98d0a9ec66ed5c6074a72642bcefe8d04e6d233bd35cf2fabdeb93fb0d (2024-11-14) - 상태코드: 200\n",
      "✅ dab300fb6e0755f312a8eed1ed6d4e8fefe8d04e6d233bd35cf2fabdeb93fb0d (2024-11-14) - 상태코드: 200\n",
      "✅ 9bf4b4267127550b5428fcd699202a2b (2024-11-14) - 상태코드: 200\n",
      "✅ 66bd56bc1adf5d9f285099b8115b64d4efe8d04e6d233bd35cf2fabdeb93fb0d (2024-11-14) - 상태코드: 200\n",
      "✅ d8c4cebfd7c479289da98965610185e1efe8d04e6d233bd35cf2fabdeb93fb0d (2024-11-14) - 상태코드: 200\n",
      "✅ a580387f49f7f41ad687181640096e58efe8d04e6d233bd35cf2fabdeb93fb0d (2024-11-14) - 상태코드: 200\n",
      "✅ 7e863dd6e15b2e8f90ec74f9e0c06169 (2024-11-14) - 상태코드: 200\n",
      "✅ 1bddcdc6fd36de3027e6160f50cddddb (2024-11-14) - 상태코드: 200\n",
      "✅ 6e4f367a8570a3917a021b17f3b93f40 (2024-11-14) - 상태코드: 200\n"
     ]
    },
    {
     "name": "stderr",
     "output_type": "stream",
     "text": [
      " 27%|██▋       | 1382/5104 [00:31<01:24, 44.29it/s]"
     ]
    },
    {
     "name": "stdout",
     "output_type": "stream",
     "text": [
      "✅ f8cebf9b5441a5619a12889b87b74d79 (2024-11-14) - 상태코드: 200✅ 239a560a7f07402da908826821ae8e44 (2024-11-14) - 상태코드: 200\n",
      "\n",
      "✅ 4f364b02152245d6001f8d81c78a0a01efe8d04e6d233bd35cf2fabdeb93fb0d (2024-11-14) - 상태코드: 200\n",
      "✅ e2f6a4a393bd180b040effcfd4ec2fc5efe8d04e6d233bd35cf2fabdeb93fb0d (2024-11-14) - 상태코드: 200\n",
      "✅ b15e18d83c7d8c7f7c94804068d4b7cd (2024-11-14) - 상태코드: 200\n",
      "✅ d47c0befe817e7c8a77e9561e96e952c (2024-11-14) - 상태코드: 200\n",
      "✅ 1ef452f60e1c495a0feea39efdaeca6defe8d04e6d233bd35cf2fabdeb93fb0d (2024-11-14) - 상태코드: 200\n",
      "✅ 50556b376a36ce49be1979999a0fa106 (2024-11-14) - 상태코드: 200\n",
      "✅ ac6ed463785c3aa7c13f138becc0f253 (2024-11-14) - 상태코드: 200\n",
      "✅ 4a299934879212a57159707e5db5e35a (2024-11-14) - 상태코드: 200\n",
      "✅ cb4ab50d21a1dc5cdd93baa0f5a1e733 (2024-11-14) - 상태코드: 200\n"
     ]
    },
    {
     "name": "stderr",
     "output_type": "stream",
     "text": [
      " 27%|██▋       | 1392/5104 [00:31<01:23, 44.28it/s]"
     ]
    },
    {
     "name": "stdout",
     "output_type": "stream",
     "text": [
      "✅ b6a680a85ebabcafde8d271e64dc8dc3 (2024-11-14) - 상태코드: 200\n",
      "✅ 65e2397a413f6041d20ebc2545840aa1efe8d04e6d233bd35cf2fabdeb93fb0d (2024-11-14) - 상태코드: 200\n",
      "✅ a9883bdf4e25cec3f532cc1a55500132efe8d04e6d233bd35cf2fabdeb93fb0d (2024-11-14) - 상태코드: 200\n",
      "✅ 2d2af3e4cf91081ed16c3ab121bd0281 (2024-11-14) - 상태코드: 200\n",
      "✅ 43d9f055ac2bc60ebf874358e6b384f2efe8d04e6d233bd35cf2fabdeb93fb0d (2024-11-14) - 상태코드: 200\n",
      "✅ dda80cf6b65eb765cbb81144b6510bd4 (2024-11-14) - 상태코드: 200\n",
      "✅ f335164a5b475e05beb8609329c599a4efe8d04e6d233bd35cf2fabdeb93fb0d (2024-11-14) - 상태코드: 200\n",
      "✅ 26f2841006d596cd78e36b6e0b137985 (2024-11-14) - 상태코드: 200\n",
      "✅ fcf680f9c825512ac48d975fcaa6b114 (2024-11-14) - 상태코드: 200\n"
     ]
    },
    {
     "name": "stderr",
     "output_type": "stream",
     "text": [
      " 27%|██▋       | 1399/5104 [00:32<01:25, 43.56it/s]"
     ]
    },
    {
     "name": "stdout",
     "output_type": "stream",
     "text": [
      "✅ 404c3ed4a92d4d601fcaab792ee32d79 (2024-11-14) - 상태코드: 200\n",
      "✅ 708338f60a339c4874542898fdf0d95f (2024-11-14) - 상태코드: 200\n",
      "✅ 2fa92c69bf0ec7d4c361a583c5ca408186e68d4012202d0434d05f81868f68e3 (2024-11-14) - 상태코드: 200\n",
      "✅ d5bb5072fbb657ae7532fd51fc9ead7eefe8d04e6d233bd35cf2fabdeb93fb0d (2024-11-14) - 상태코드: 200\n",
      "✅ 83670f0ee8304b52d15cf20c1d96c1b9efe8d04e6d233bd35cf2fabdeb93fb0d (2024-11-14) - 상태코드: 200\n",
      "✅ be8dceaaf819ce55ad47281d2c3aca6a (2024-11-14) - 상태코드: 200\n",
      "✅ f1ced214d9c6bf1aac73f7ffde8ae91a (2024-11-14) - 상태코드: 200\n",
      "✅ 3b8782162f1a3de3176cefbd7628191befe8d04e6d233bd35cf2fabdeb93fb0d (2024-11-14) - 상태코드: 200\n",
      "✅ f4e3fec9b164dcb0a1289b10e79ef451efe8d04e6d233bd35cf2fabdeb93fb0d (2024-11-14) - 상태코드: 200\n",
      "✅ a1333be07c304f5a7eb0f373a33d2d98 (2024-11-14) - 상태코드: 200\n",
      "✅ dadfd46c8cc678054be9ed21d861b887 (2024-11-14) - 상태코드: 200\n"
     ]
    },
    {
     "name": "stderr",
     "output_type": "stream",
     "text": [
      " 28%|██▊       | 1413/5104 [00:32<01:17, 47.53it/s]"
     ]
    },
    {
     "name": "stdout",
     "output_type": "stream",
     "text": [
      "✅ fb3acbfc29d1ca6e6d9c7e0429d20d9c (2024-11-14) - 상태코드: 200\n",
      "✅ 1896b6b1552a73ef2593f1a526645de8 (2024-11-14) - 상태코드: 200\n",
      "✅ 47ac6db232a5c1683ee369c727548e67 (2024-11-14) - 상태코드: 200\n",
      "✅ 4f7b6a34d6c6dcef7dc640080511eb88 (2024-11-14) - 상태코드: 200\n",
      "✅ 2c51cb13a92c359f9f5d05bfad0434ba (2024-11-14) - 상태코드: 200\n",
      "✅ cca5fe91053ac3e862f700e605d60b13 (2024-11-14) - 상태코드: 200\n",
      "✅ 13934ac9a8aa854bb025fdfefc1aedacefe8d04e6d233bd35cf2fabdeb93fb0d (2024-11-14) - 상태코드: 200\n",
      "✅ 0183ec6c2e54a15b40ac92fb9ab7bc81efe8d04e6d233bd35cf2fabdeb93fb0d (2024-11-14) - 상태코드: 200\n",
      "✅ 5e859d25c2d12325040cbb3bce0b42b2 (2024-11-14) - 상태코드: 200\n",
      "✅ 6d874f0f0b8bdab87a7282d5164b5392 (2024-11-14) - 상태코드: 200\n",
      "✅ 9d4ad6c5a2848655113cc430c37c56defd842dab14be2a956555625b37c97bff (2024-11-14) - 상태코드: 200\n",
      "✅ e89c7c6babe2b4ab1b8884be9664c3fe (2024-11-14) - 상태코드: 200\n",
      "✅ 17450708b81f9f3359ae63a9a468a57defe8d04e6d233bd35cf2fabdeb93fb0d (2024-11-14) - 상태코드: 200\n"
     ]
    },
    {
     "name": "stderr",
     "output_type": "stream",
     "text": [
      " 28%|██▊       | 1427/5104 [00:32<01:11, 51.16it/s]"
     ]
    },
    {
     "name": "stdout",
     "output_type": "stream",
     "text": [
      "✅ 628064f9636e913c0baa587591009ac6 (2024-11-14) - 상태코드: 200\n",
      "✅ ac4857b3f0caf5a20cab1ead94a9c651efe8d04e6d233bd35cf2fabdeb93fb0d (2024-11-14) - 상태코드: 200\n",
      "✅ 607bfc8c825be4299dc1825d793ffce7efe8d04e6d233bd35cf2fabdeb93fb0d (2024-11-14) - 상태코드: 200\n",
      "✅ a7ae30be9791800519216f303f4bc242 (2024-11-14) - 상태코드: 200\n",
      "✅ 2cf8aa68a625ce72d975c45b48adcf4aefe8d04e6d233bd35cf2fabdeb93fb0d (2024-11-14) - 상태코드: 200\n",
      "✅ f7d153f788bb31a48fac00d05ca5b8e2 (2024-11-14) - 상태코드: 200\n",
      "✅ f1d1516c36e71a807c38abbd84fe765eefe8d04e6d233bd35cf2fabdeb93fb0d (2024-11-14) - 상태코드: 200\n",
      "✅ d8ec6412ba8d1aa3baf5978db66b0b7fefe8d04e6d233bd35cf2fabdeb93fb0d (2024-11-14) - 상태코드: 200\n",
      "✅ 8eabcdf676e4a85f6975d61127d4d610 (2024-11-14) - 상태코드: 200\n",
      "✅ 8b7ed3bc6c8baffa12cdd6e5d0adbe9cefe8d04e6d233bd35cf2fabdeb93fb0d (2024-11-14) - 상태코드: 200\n"
     ]
    },
    {
     "name": "stderr",
     "output_type": "stream",
     "text": [
      " 28%|██▊       | 1438/5104 [00:32<01:20, 45.37it/s]"
     ]
    },
    {
     "name": "stdout",
     "output_type": "stream",
     "text": [
      "✅ 83f90ee08662bf7072342cab798430f63663933da92e7566c55104ec9ac2894d (2024-11-14) - 상태코드: 200\n",
      "✅ 82d506065bfb21c5c18b290372fcbfddefe8d04e6d233bd35cf2fabdeb93fb0d (2024-11-14) - 상태코드: 200\n",
      "✅ bb2a595185dc1df66fb5642d4cb6d8fe (2024-11-14) - 상태코드: 200\n",
      "✅ 33fbd6754431e593e81bb3d59143ade8efe8d04e6d233bd35cf2fabdeb93fb0d (2024-11-14) - 상태코드: 200\n",
      "✅ 706776cbc5f5f832b151be51864c383f (2024-11-14) - 상태코드: 200\n",
      "✅ 44e51c0508ef66eccfceaf91468dd78a (2024-11-14) - 상태코드: 200\n",
      "✅ 6eaf81660d02c0cec84abe413441185d (2024-11-14) - 상태코드: 200\n",
      "✅ a32135b332a78aa191ff53f3142d4256 (2024-11-14) - 상태코드: 200\n",
      "✅ 454b42638ff988ac8e4fbfa1516e28feefe8d04e6d233bd35cf2fabdeb93fb0d (2024-11-14) - 상태코드: 200\n"
     ]
    },
    {
     "name": "stderr",
     "output_type": "stream",
     "text": [
      " 28%|██▊       | 1450/5104 [00:33<01:19, 45.81it/s]"
     ]
    },
    {
     "name": "stdout",
     "output_type": "stream",
     "text": [
      "✅ ea10c7295abc7322f8dc464117e9a9c9efe8d04e6d233bd35cf2fabdeb93fb0d (2024-11-14) - 상태코드: 200\n",
      "✅ bc4589d012261bbd6bd8589e50fcee93 (2024-11-14) - 상태코드: 200\n",
      "✅ 3c83e96851d68ec43de59f203823505fefe8d04e6d233bd35cf2fabdeb93fb0d (2024-11-14) - 상태코드: 200\n",
      "✅ 4acbee9d13dd1776cb719c4f68260f43 (2024-11-14) - 상태코드: 200\n",
      "✅ be297c02b2743b2e1b7c38df3f9df19b (2024-11-14) - 상태코드: 200\n",
      "✅ d11c9e906b69be6b7d890bbd6c4122d6 (2024-11-14) - 상태코드: 200\n",
      "✅ cbc22128462d4dc04bee9ac58ce8f6b4efe8d04e6d233bd35cf2fabdeb93fb0d (2024-11-14) - 상태코드: 200\n",
      "✅ a35e0eb5eb5f4507baac9cbfae8ff426efe8d04e6d233bd35cf2fabdeb93fb0d (2024-11-14) - 상태코드: 200\n",
      "✅ f75af5620bc3dfa5266a25ca35b3828e (2024-11-14) - 상태코드: 200\n",
      "✅ 1d205e20b3768b973ab739386bf45221 (2024-11-14) - 상태코드: 200\n",
      "✅ 044735ab378a6fb630d690f597e32680 (2024-11-14) - 상태코드: 200\n",
      "✅ 7eab1d00a514fb33f5308c54dbd1984a (2024-11-14) - 상태코드: 200\n"
     ]
    },
    {
     "name": "stderr",
     "output_type": "stream",
     "text": [
      " 29%|██▊       | 1455/5104 [00:33<01:20, 45.35it/s]"
     ]
    },
    {
     "name": "stdout",
     "output_type": "stream",
     "text": [
      "✅ 4ef511aa921e2e3e6e057c7c190f671d (2024-11-14) - 상태코드: 200\n",
      "✅ b8f92200c8f90db7c81b555437190dc1 (2024-11-14) - 상태코드: 200\n",
      "✅ 13517ce3b03cf0d225cba188d339f89d (2024-11-14) - 상태코드: 200\n",
      "✅ d7b3e8296cfdb2efe1c3733608293944 (2024-11-14) - 상태코드: 200\n",
      "✅ 2588c5b885c4e32438bf8f6b64b722d2 (2024-11-14) - 상태코드: 200\n",
      "✅ 5d50176fa95c4c2777f8cfab25791e99 (2024-11-14) - 상태코드: 200\n",
      "✅ 0bf63c31bc6693c1540a47e87e126f98 (2024-11-14) - 상태코드: 200\n",
      "✅ 086f27ce61e74d439eaf2d84ee835d22 (2024-11-14) - 상태코드: 200\n",
      "✅ 22cbe662f126130dcec290b4876c03a0 (2024-11-14) - 상태코드: 200\n",
      "✅ afe1ecee209a814d003e66f02aa90ba7 (2024-11-14) - 상태코드: 200\n",
      "✅ 42f82e26c2b4470c06e2b7c7e069cfa1efe8d04e6d233bd35cf2fabdeb93fb0d (2024-11-14) - 상태코드: 200\n",
      "✅ 3de3fe2e9606b7bdb416739499e57563c47ea5ffea2564f587ca830a8f71acb2 (2024-11-14) - 상태코드: 200\n"
     ]
    },
    {
     "name": "stderr",
     "output_type": "stream",
     "text": [
      " 29%|██▉       | 1470/5104 [00:33<01:09, 52.49it/s]"
     ]
    },
    {
     "name": "stdout",
     "output_type": "stream",
     "text": [
      "✅ 54ac493c2fe22724c0cb06c144a64275efe8d04e6d233bd35cf2fabdeb93fb0d (2024-11-14) - 상태코드: 200\n",
      "✅ 3aaa00df5844bdc55cad1986624c3be7efe8d04e6d233bd35cf2fabdeb93fb0d (2024-11-14) - 상태코드: 200\n",
      "✅ 89d16afabe5512a6d19d7faf4591a0db (2024-11-14) - 상태코드: 200\n",
      "✅ f6fc240b0f3b41439bfd22a3413be412efe8d04e6d233bd35cf2fabdeb93fb0d (2024-11-14) - 상태코드: 200\n",
      "✅ 062f16456e427ad94943fdf121da3491 (2024-11-14) - 상태코드: 200\n",
      "✅ fd47a908a0c706ef862655a1fb7fe695a2186d8e7cf7a6ee152d97cc78f2ae8b (2024-11-14) - 상태코드: 200\n",
      "✅ 33cf25def0b2f62779a9452b8dc605c8 (2024-11-14) - 상태코드: 200\n",
      "✅ 43c80a11fe24ec36c45d6c4141d96271 (2024-11-14) - 상태코드: 200\n",
      "✅ beb183e075d75cdae0b97ffe4c3e02ceefe8d04e6d233bd35cf2fabdeb93fb0d (2024-11-14) - 상태코드: 200\n",
      "✅ da17490cc23c6935ecd8ab213eed0613a2186d8e7cf7a6ee152d97cc78f2ae8b (2024-11-14) - 상태코드: 200\n",
      "✅ 6d3d78b67727f1cd66b8c927c32cdeb8 (2024-11-14) - 상태코드: 200\n"
     ]
    },
    {
     "name": "stderr",
     "output_type": "stream",
     "text": [
      " 29%|██▉       | 1481/5104 [00:33<01:16, 47.11it/s]"
     ]
    },
    {
     "name": "stdout",
     "output_type": "stream",
     "text": [
      "✅ e352d9661cf6efce5665be3ac1daef8d (2024-11-14) - 상태코드: 200\n",
      "✅ 000208be9ccea59917319c24391dc215 (2024-11-14) - 상태코드: 200\n",
      "✅ 6f8dbc2f1ff23a2fd3616982e0e6c90eefe8d04e6d233bd35cf2fabdeb93fb0d (2024-11-14) - 상태코드: 200\n",
      "✅ d61fa89d1074146d96916f1247cd347d (2024-11-14) - 상태코드: 200\n",
      "✅ dad21b1febfb0d34778da615d562f3e7efe8d04e6d233bd35cf2fabdeb93fb0d (2024-11-14) - 상태코드: 200\n",
      "✅ ed5ee13b468389ea6890c7fab08b566d (2024-11-14) - 상태코드: 200\n",
      "✅ 7a7870916dd8d2da249fe5db0aadd915 (2024-11-14) - 상태코드: 200\n",
      "✅ e9626a0c27a5300130a601ca83fabf3f (2024-11-14) - 상태코드: 200\n",
      "✅ 749fd7656fa0da1ec9eee05d129a24e9 (2024-11-14) - 상태코드: 200\n",
      "✅ d57a207f97a111ea7d7e09acc2481a1a (2024-11-14) - 상태코드: 200\n",
      "✅ e140432e14534fe2cba19340c7346d79 (2024-11-14) - 상태코드: 200\n",
      "✅ cab50ec80162c1dcbeedfa1bad957da0efe8d04e6d233bd35cf2fabdeb93fb0d (2024-11-14) - 상태코드: 200\n"
     ]
    },
    {
     "name": "stderr",
     "output_type": "stream",
     "text": [
      " 29%|██▉       | 1493/5104 [00:33<01:11, 50.22it/s]"
     ]
    },
    {
     "name": "stdout",
     "output_type": "stream",
     "text": [
      "✅ 91dae7b1a84220b6478ece3a67eb65ac (2024-11-14) - 상태코드: 200\n",
      "✅ e14187f1b24933253fd566fe3eebceb0efe8d04e6d233bd35cf2fabdeb93fb0d (2024-11-14) - 상태코드: 200\n",
      "✅ 4909250c0ad14d97246c828356d1f659 (2024-11-14) - 상태코드: 200\n",
      "✅ b651391ba94012d07f19648bcdc555cc (2024-11-14) - 상태코드: 200\n",
      "✅ a546125a6567f76bda355fb111ab1a29 (2024-11-14) - 상태코드: 200\n",
      "✅ 05b7c656f8e0cb3e06fad02b9ec2d33e (2024-11-14) - 상태코드: 200\n",
      "✅ 086c7e98e760bdc20731251d90a40333efe8d04e6d233bd35cf2fabdeb93fb0d (2024-11-14) - 상태코드: 200\n",
      "✅ 949332668982d81498ae683612d78c00 (2024-11-14) - 상태코드: 200\n",
      "✅ b6facd19e1308eb1d66c009c3f3889ad (2024-11-14) - 상태코드: 200\n",
      "✅ 73ecbf3269e394a3f722e97b53c72fb7 (2024-11-14) - 상태코드: 200\n",
      "✅ 01c21c1fab12f0ceda9ab04178eab3d0 (2024-11-14) - 상태코드: 200\n"
     ]
    },
    {
     "name": "stderr",
     "output_type": "stream",
     "text": [
      " 29%|██▉       | 1504/5104 [00:34<01:15, 47.86it/s]"
     ]
    },
    {
     "name": "stdout",
     "output_type": "stream",
     "text": [
      "✅ 0155920a06c5a23dacf672a46c6e9c10 (2024-11-14) - 상태코드: 200\n",
      "✅ 69a79ee5543c1d0fe29da4e169e0bcdc (2024-11-14) - 상태코드: 200\n",
      "✅ 9db944cb648dbfa0bebd86e854c9ebeeefe8d04e6d233bd35cf2fabdeb93fb0d (2024-11-14) - 상태코드: 200\n",
      "✅ e232a5f985f59c4f8d13254992e165acefe8d04e6d233bd35cf2fabdeb93fb0d (2024-11-14) - 상태코드: 200\n",
      "✅ 9dd98c3333a69c3a6e17e6739840c2ebefe8d04e6d233bd35cf2fabdeb93fb0d (2024-11-14) - 상태코드: 200\n",
      "✅ f7bf309b6fd22e629826ad726292aad4 (2024-11-14) - 상태코드: 200\n",
      "✅ 9d1eb4e59abcf837a062b4a851360f0eefe8d04e6d233bd35cf2fabdeb93fb0d (2024-11-14) - 상태코드: 200\n",
      "✅ 569063766792419f9fa7e66d599794f5efe8d04e6d233bd35cf2fabdeb93fb0d (2024-11-14) - 상태코드: 200\n",
      "✅ 2bc563e13e76d8e5504480756fe73516 (2024-11-14) - 상태코드: 200\n",
      "✅ 4fe0212aea0ada386b0eee96db13062befe8d04e6d233bd35cf2fabdeb93fb0d (2024-11-14) - 상태코드: 200\n"
     ]
    },
    {
     "name": "stderr",
     "output_type": "stream",
     "text": [
      " 30%|██▉       | 1517/5104 [00:34<01:07, 53.14it/s]"
     ]
    },
    {
     "name": "stdout",
     "output_type": "stream",
     "text": [
      "✅ 5b56ff5b0c2c32e6f2c29b054e06bd0fefe8d04e6d233bd35cf2fabdeb93fb0d (2024-11-14) - 상태코드: 200\n",
      "✅ 8a17735b943abcf8f612b8e4c3bceb41efe8d04e6d233bd35cf2fabdeb93fb0d (2024-11-14) - 상태코드: 200\n",
      "✅ 661c2af5b554a5b28cc0dc6cce4702ab (2024-11-14) - 상태코드: 200\n",
      "✅ d6d5b0150d614b29d1881d93d1c01a9fc47ea5ffea2564f587ca830a8f71acb2 (2024-11-14) - 상태코드: 200\n",
      "✅ 595e3f205099d0cc0b4f48a6311bba61efe8d04e6d233bd35cf2fabdeb93fb0d (2024-11-14) - 상태코드: 200\n",
      "✅ 3325202d40b4d8a66b3abb6a8328b75e6fbb98200a15be5bcc73a64995849e9c (2024-11-14) - 상태코드: 200\n",
      "✅ fb12f318b0d9f4618f8604ffe0f888fb (2024-11-14) - 상태코드: 200\n",
      "✅ a95bb1dac3969c64eccd20f750163a2a (2024-11-14) - 상태코드: 200\n",
      "✅ aa02f2c859c17c676c581f4256e69966 (2024-11-14) - 상태코드: 200\n",
      "✅ fb9565b9cea4342e8166135956d989af (2024-11-14) - 상태코드: 200\n",
      "✅ 4f9627fd0dfbbe737d8aa8ca3c6bf8d7 (2024-11-14) - 상태코드: 200\n"
     ]
    },
    {
     "name": "stderr",
     "output_type": "stream",
     "text": [
      " 30%|██▉       | 1523/5104 [00:34<01:14, 48.30it/s]"
     ]
    },
    {
     "name": "stdout",
     "output_type": "stream",
     "text": [
      "✅ 6c463e11735b91abe05eaf30a96c71ba (2024-11-14) - 상태코드: 200\n",
      "✅ 5a9caeb2090088491eff66ba27911c11 (2024-11-14) - 상태코드: 200\n",
      "✅ 71f0b98d89bc23c202c05265943c6bc5 (2024-11-14) - 상태코드: 200\n",
      "✅ cb6a1af44c29bed33d1668c9af14e964efe8d04e6d233bd35cf2fabdeb93fb0d (2024-11-14) - 상태코드: 200\n",
      "✅ f8876c7e64d221313a716acd63c918a5 (2024-11-14) - 상태코드: 200\n",
      "✅ 09fe715758f3f0a4298876d30db06a78 (2024-11-14) - 상태코드: 200\n",
      "✅ 9b0bfe1bbaa8d8084fdace27568d420f (2024-11-14) - 상태코드: 200\n",
      "✅ bb8599971672667eb989098fa4524c88efe8d04e6d233bd35cf2fabdeb93fb0d (2024-11-14) - 상태코드: 200\n",
      "✅ 3319030d2d683c47e357b7e11ded870e (2024-11-14) - 상태코드: 200\n",
      "✅ ddf217188d89c174471891a6b6f59d99efe8d04e6d233bd35cf2fabdeb93fb0d (2024-11-14) - 상태코드: 200\n"
     ]
    },
    {
     "name": "stderr",
     "output_type": "stream",
     "text": [
      " 30%|███       | 1536/5104 [00:34<01:10, 50.49it/s]"
     ]
    },
    {
     "name": "stdout",
     "output_type": "stream",
     "text": [
      "✅ 279067f16ee430c8455007ea5690d2dc (2024-11-14) - 상태코드: 200\n",
      "✅ 8f8cff703afe3336102c4a029a750416 (2024-11-14) - 상태코드: 200\n",
      "✅ 078a8d1a09e2ea6f370016dee51c52d0 (2024-11-14) - 상태코드: 200\n",
      "✅ a5a04b39e333907796194fca06402cafefe8d04e6d233bd35cf2fabdeb93fb0d (2024-11-14) - 상태코드: 200\n",
      "✅ ca3fdcb2df3f9fdeb0c0118631640d58 (2024-11-14) - 상태코드: 200\n",
      "✅ 0741328edd7b9990d605a751adecf551 (2024-11-14) - 상태코드: 200\n",
      "✅ d6078a0e72764a97b7c26be52905f53cefe8d04e6d233bd35cf2fabdeb93fb0d (2024-11-14) - 상태코드: 200\n",
      "✅ 2e544470cd22f7ed241dfa0adcc7ce1b (2024-11-14) - 상태코드: 200\n",
      "✅ 21f28a9cfdc51081fb323f008e874e88 (2024-11-14) - 상태코드: 200\n",
      "✅ 3d0eb3a674b7a1573e1461955e5a5ae5efe8d04e6d233bd35cf2fabdeb93fb0d (2024-11-14) - 상태코드: 200\n",
      "✅ 9f08774afa676e2907ec2a4cce249576 (2024-11-14) - 상태코드: 200\n"
     ]
    },
    {
     "name": "stderr",
     "output_type": "stream",
     "text": [
      " 30%|███       | 1548/5104 [00:35<01:18, 45.49it/s]"
     ]
    },
    {
     "name": "stdout",
     "output_type": "stream",
     "text": [
      "✅ de11c2621c2c65803f88c55a413e82edefe8d04e6d233bd35cf2fabdeb93fb0d (2024-11-14) - 상태코드: 200\n",
      "✅ 3409df3f5f678bbf3076f251791af207efe8d04e6d233bd35cf2fabdeb93fb0d (2024-11-14) - 상태코드: 200\n",
      "✅ 1e5f72f23ced1cf58753a7576a8ab39cefe8d04e6d233bd35cf2fabdeb93fb0d (2024-11-14) - 상태코드: 200\n",
      "✅ 22b60e52a31722eea52a03a2e22a3562efe8d04e6d233bd35cf2fabdeb93fb0d (2024-11-14) - 상태코드: 200\n",
      "✅ 7e24b6ce24e58138322dbd0136e89666 (2024-11-14) - 상태코드: 200\n",
      "✅ 0cb0698dd005ec642f6cc183508339d0 (2024-11-14) - 상태코드: 200\n",
      "✅ a97f73b0c4501bb55db37c2f47b8a038 (2024-11-14) - 상태코드: 200\n",
      "✅ 917faa7948e7ad9d15c872e760574f76 (2024-11-14) - 상태코드: 200\n",
      "✅ 11a0476903f4c67e798b027c683beb5b (2024-11-14) - 상태코드: 200\n",
      "✅ 68eedfd0b23ea20eede902ab6f824213efe8d04e6d233bd35cf2fabdeb93fb0d (2024-11-14) - 상태코드: 200\n"
     ]
    },
    {
     "name": "stderr",
     "output_type": "stream",
     "text": [
      " 30%|███       | 1553/5104 [00:35<01:20, 44.26it/s]"
     ]
    },
    {
     "name": "stdout",
     "output_type": "stream",
     "text": [
      "✅ 9aeef4ced3288f15f5db522b4183c3f9 (2024-11-14) - 상태코드: 200\n",
      "✅ 922f72e1f844a47114dc7db73fa08d6a (2024-11-14) - 상태코드: 200\n",
      "✅ ca79866792d247003783b9bb3d5cc06d (2024-11-14) - 상태코드: 200\n",
      "✅ f9cc4a44c68c926a091d7c9ab793fb9e (2024-11-14) - 상태코드: 200\n",
      "✅ af56e2d5ff0c34b4fa11a322a0404514 (2024-11-14) - 상태코드: 200\n",
      "✅ 769e173a14c77fb1481869547dbd5b9defe8d04e6d233bd35cf2fabdeb93fb0d (2024-11-14) - 상태코드: 200\n",
      "✅ 9a54921e11117eb71cec9e33572d00efefe8d04e6d233bd35cf2fabdeb93fb0d (2024-11-14) - 상태코드: 200\n",
      "✅ e687482501bdc080bafc05e81cb0bca0 (2024-11-14) - 상태코드: 200\n",
      "✅ 2e0cb71481f120daf870ef953d7e0dcdefe8d04e6d233bd35cf2fabdeb93fb0d (2024-11-14) - 상태코드: 200\n"
     ]
    },
    {
     "name": "stderr",
     "output_type": "stream",
     "text": [
      " 31%|███       | 1566/5104 [00:35<01:10, 50.52it/s]"
     ]
    },
    {
     "name": "stdout",
     "output_type": "stream",
     "text": [
      "✅ 83e2d5de5d91e75cf347c534feedc677 (2024-11-14) - 상태코드: 200\n",
      "✅ 611ddd9239c26376a34e2ce13daf1117efe8d04e6d233bd35cf2fabdeb93fb0d (2024-11-14) - 상태코드: 200\n",
      "✅ 94161ac9ec0fad2ff11bcd08ce194c27efe8d04e6d233bd35cf2fabdeb93fb0d (2024-11-14) - 상태코드: 200\n",
      "✅ a63955c13457331aa52bf6f60d3404bfe85e07f9d5d276f44440847eec04ba68 (2024-11-14) - 상태코드: 200\n",
      "✅ 0dae0e8b99af48a4b83b141d597d184e (2024-11-14) - 상태코드: 200\n",
      "✅ b2f1ecf671482b322448341a6f6a3636efe8d04e6d233bd35cf2fabdeb93fb0d (2024-11-14) - 상태코드: 200\n",
      "✅ ccb9c5420547136374300d49f970b25a4723574b05820acf03e7ec3162ff5bed (2024-11-14) - 상태코드: 200\n",
      "✅ c503e22a4c85e73306ccd152a782bb85 (2024-11-14) - 상태코드: 200\n",
      "✅ 5b27a98bde5442d387b3c9fef0e252e4 (2024-11-14) - 상태코드: 200\n",
      "✅ 52c44ac4808f9331d2df4f1bc147b2f6efe8d04e6d233bd35cf2fabdeb93fb0d (2024-11-14) - 상태코드: 200\n",
      "✅ 8b05186d82f055390b31c151b13433b7efe8d04e6d233bd35cf2fabdeb93fb0d (2024-11-14) - 상태코드: 200\n"
     ]
    },
    {
     "name": "stderr",
     "output_type": "stream",
     "text": [
      " 31%|███       | 1578/5104 [00:35<01:10, 49.88it/s]"
     ]
    },
    {
     "name": "stdout",
     "output_type": "stream",
     "text": [
      "✅ e8ba301f60ab98692d2236db5f62b5eb (2024-11-14) - 상태코드: 200\n",
      "✅ f9e6ee82909139cd54a5e4a5488d8ac2 (2024-11-14) - 상태코드: 200\n",
      "✅ e8de19b68e571680c4e6a353296f98ec (2024-11-14) - 상태코드: 200\n",
      "✅ 36a0147210315b6a764ec6ba3d150203 (2024-11-14) - 상태코드: 200\n",
      "✅ d128d33f9f9a239cd942837993c7be01 (2024-11-14) - 상태코드: 200\n",
      "✅ ac677e9ee50144b79b3941be6860e48defe8d04e6d233bd35cf2fabdeb93fb0d (2024-11-14) - 상태코드: 200\n",
      "✅ 1a6abcdc2af71fa5b8adde85c34092f6 (2024-11-14) - 상태코드: 200\n",
      "✅ 222c64ca4ba72e38f00b8a44500bf1e6 (2024-11-14) - 상태코드: 200\n",
      "✅ 606eed3e75dd3c2ea9e61356a8601f76 (2024-11-14) - 상태코드: 200\n",
      "✅ e226aa37a8a5648d68e8221fc90216d2 (2024-11-14) - 상태코드: 200\n"
     ]
    },
    {
     "name": "stderr",
     "output_type": "stream",
     "text": [
      " 31%|███       | 1584/5104 [00:35<01:20, 43.63it/s]"
     ]
    },
    {
     "name": "stdout",
     "output_type": "stream",
     "text": [
      "✅ 484d6ac3fa7d3ffe45f7cada776b4c8d (2024-11-14) - 상태코드: 200\n",
      "✅ 4c93f25bd172d882c34d4c012dc81f4f (2024-11-14) - 상태코드: 200\n",
      "✅ 1435f0c2418521498f3ab4d2fa6ab7e1 (2024-11-14) - 상태코드: 200\n",
      "✅ d64720833af0d462ab89f0b2d22bbdb2 (2024-11-14) - 상태코드: 200\n",
      "✅ 4c010fb43dec6b26e7b0f51e687f5551 (2024-11-14) - 상태코드: 200\n",
      "✅ aec72053fa4a55515d450bc873634d4c (2024-11-14) - 상태코드: 200\n",
      "✅ 369dd4a3037748b67475dda468ffc0e4efe8d04e6d233bd35cf2fabdeb93fb0d (2024-11-14) - 상태코드: 200\n",
      "✅ 1b28283c121f0efb54a4a1c0e52648de (2024-11-14) - 상태코드: 200\n",
      "✅ 5cbc28e26aee0b5577de2f763ff061ebefe8d04e6d233bd35cf2fabdeb93fb0d (2024-11-14) - 상태코드: 200\n",
      "✅ 1140b43e83968d4212d2c15b5d52f6ee (2024-11-14) - 상태코드: 200\n"
     ]
    },
    {
     "name": "stderr",
     "output_type": "stream",
     "text": [
      " 31%|███▏      | 1596/5104 [00:36<01:14, 46.85it/s]"
     ]
    },
    {
     "name": "stdout",
     "output_type": "stream",
     "text": [
      "✅ 84c7f2ea5754c00020294a24ddab1a8d (2024-11-14) - 상태코드: 200\n",
      "✅ e60a3bf8f4230460bfe767a731bb4325 (2024-11-14) - 상태코드: 200\n",
      "✅ 208cc01fd0425f29d2ff777fc349e53c (2024-11-14) - 상태코드: 200\n",
      "✅ d50ebb0bdf1f5ae6456dc558d45fd500efe8d04e6d233bd35cf2fabdeb93fb0d (2024-11-14) - 상태코드: 200\n",
      "✅ 29843ff80a0f243d9105dab8763d2868efe8d04e6d233bd35cf2fabdeb93fb0d (2024-11-14) - 상태코드: 200\n",
      "✅ 842eb3d37af78783ad985cbed9262d7fefe8d04e6d233bd35cf2fabdeb93fb0d (2024-11-14) - 상태코드: 200\n",
      "✅ a3f4effaa0b4c0b34f98500914f4f7bd (2024-11-14) - 상태코드: 200\n",
      "✅ 7953c80fd7237c3729ac8c3b6ef32113 (2024-11-14) - 상태코드: 200\n",
      "✅ b97082f9b444551617c3f8c03fa9f656efe8d04e6d233bd35cf2fabdeb93fb0d (2024-11-14) - 상태코드: 200\n",
      "✅ e10ad02dfa2e72c14867abccfc26c5c9 (2024-11-14) - 상태코드: 200\n",
      "✅ aeb92bbc7a9e744b5d19546e1f7f6571 (2024-11-14) - 상태코드: 200\n"
     ]
    },
    {
     "name": "stderr",
     "output_type": "stream",
     "text": [
      " 32%|███▏      | 1609/5104 [00:36<01:04, 53.80it/s]"
     ]
    },
    {
     "name": "stdout",
     "output_type": "stream",
     "text": [
      "✅ 7dae4e3c7432cda35e92a37f7966b2c7 (2024-11-14) - 상태코드: 200\n",
      "✅ 583f5a7cc979911e7f7cd57c0f0c515f (2024-11-14) - 상태코드: 200\n",
      "✅ 7b3f46040b1a1e68d0ca97fc231edb41efe8d04e6d233bd35cf2fabdeb93fb0d (2024-11-14) - 상태코드: 200\n",
      "✅ af576eafd68a41c83691e469abf436c5 (2024-11-14) - 상태코드: 200\n",
      "✅ 594d50bef178a32cd3a55c4b8c14ba12 (2024-11-14) - 상태코드: 200\n",
      "✅ d4c900dbe429b7ba387abc475922b6a9 (2024-11-14) - 상태코드: 200\n",
      "✅ dee87b47e6bb1b27829f5852e5d34f4aefe8d04e6d233bd35cf2fabdeb93fb0d (2024-11-14) - 상태코드: 200\n",
      "✅ fcdbf19f67d660ecb92153133a7b2dc6efe8d04e6d233bd35cf2fabdeb93fb0d (2024-11-14) - 상태코드: 200\n",
      "✅ cb9171942ee3ae0fb30f572470f1fb35 (2024-11-14) - 상태코드: 200\n",
      "✅ b4bfd9886db9f78859a06730182a7aa7 (2024-11-14) - 상태코드: 200\n",
      "✅ 0dbdfe8aceacb95fc2142960b5a2dfc7 (2024-11-14) - 상태코드: 200\n",
      "✅ a9fc5302c43579c87308929aefb9831f (2024-11-14) - 상태코드: 200\n"
     ]
    },
    {
     "name": "stderr",
     "output_type": "stream",
     "text": [
      " 32%|███▏      | 1621/5104 [00:36<01:13, 47.58it/s]"
     ]
    },
    {
     "name": "stdout",
     "output_type": "stream",
     "text": [
      "✅ 54293d468c7cdc28d8a52c2735987e3e (2024-11-14) - 상태코드: 200\n",
      "✅ 7cc3e1413190d5b84ab7011cc17ede7defe8d04e6d233bd35cf2fabdeb93fb0d (2024-11-14) - 상태코드: 200\n",
      "✅ cf090fdfadbe2417b3be75b579cdb2f5efe8d04e6d233bd35cf2fabdeb93fb0d (2024-11-14) - 상태코드: 200\n",
      "✅ 2c24f37729a63a11addb8335d21b1e77 (2024-11-14) - 상태코드: 200\n",
      "✅ d6fde33ffc1b86bd5fdef84d811d1f05efe8d04e6d233bd35cf2fabdeb93fb0d (2024-11-14) - 상태코드: 200\n",
      "✅ 3106bb701f607729e94a6e314be81d42efe8d04e6d233bd35cf2fabdeb93fb0d (2024-11-14) - 상태코드: 200\n",
      "✅ ded605e9759ff64b0716a00c9b7364a8efe8d04e6d233bd35cf2fabdeb93fb0d (2024-11-14) - 상태코드: 200\n",
      "✅ fe8d07d681e3de139829beddf6cea54a (2024-11-14) - 상태코드: 200\n",
      "✅ 50264441579163a8d4ef74b8ffdad8c4 (2024-11-14) - 상태코드: 200\n",
      "✅ 26a0e6a1a4a8a0a827929f06ef7f7161 (2024-11-14) - 상태코드: 200\n"
     ]
    },
    {
     "name": "stderr",
     "output_type": "stream",
     "text": [
      " 32%|███▏      | 1626/5104 [00:36<01:16, 45.41it/s]"
     ]
    },
    {
     "name": "stdout",
     "output_type": "stream",
     "text": [
      "✅ 96b94f594f811df1a56f8906646ad1a0 (2024-11-14) - 상태코드: 200\n",
      "✅ eeecf7d337e7243d7eea7a3d02fb3179efe8d04e6d233bd35cf2fabdeb93fb0d (2024-11-14) - 상태코드: 200\n",
      "✅ fdb2c25d78c9adb59db0c1299f3fa51c (2024-11-14) - 상태코드: 200\n",
      "✅ fbed6b559f00085f80fbe0d6857aced8 (2024-11-14) - 상태코드: 200\n",
      "✅ 79b7bd0c37ceaa747ab77c16fd2d3affefe8d04e6d233bd35cf2fabdeb93fb0d (2024-11-14) - 상태코드: 200\n",
      "✅ ccf5025e4395933cbd2b2505e4c2cd6befe8d04e6d233bd35cf2fabdeb93fb0d (2024-11-14) - 상태코드: 200\n",
      "✅ e42807c706271ca6ab3cee4e234aa014 (2024-11-14) - 상태코드: 200\n",
      "✅ c145c25549dc55e6142e4081b3d797ff (2024-11-14) - 상태코드: 200\n",
      "✅ ef474c476ad2dcbd0ee328faf47e7818 (2024-11-14) - 상태코드: 200\n",
      "✅ cff16b17e5e22654dc8e6720cb104245efe8d04e6d233bd35cf2fabdeb93fb0d (2024-11-14) - 상태코드: 200\n",
      "✅ 29e7a7206766577ca10470e2863c6687efe8d04e6d233bd35cf2fabdeb93fb0d (2024-11-14) - 상태코드: 200\n"
     ]
    },
    {
     "name": "stderr",
     "output_type": "stream",
     "text": [
      " 32%|███▏      | 1639/5104 [00:37<01:15, 46.01it/s]"
     ]
    },
    {
     "name": "stdout",
     "output_type": "stream",
     "text": [
      "✅ d48f17257465d68f51bf25bd301ea393 (2024-11-14) - 상태코드: 200\n",
      "✅ 04d062b0cf66f68b92b4e4866a2e010e (2024-11-14) - 상태코드: 200\n",
      "✅ 2d30e1609663ceca7ca5703cbaba502a (2024-11-14) - 상태코드: 200\n",
      "✅ 0a8b7ed01025d8898e3a96447b0b1bc9 (2024-11-14) - 상태코드: 200\n",
      "✅ f6e29c019442ffc77a8c61b2763b3e31 (2024-11-14) - 상태코드: 200\n",
      "✅ c7fcb246de5c82fdfc266790bf7d9231 (2024-11-14) - 상태코드: 200\n",
      "✅ f545d8469f27ddd218bde6659f17f6f34723574b05820acf03e7ec3162ff5bed (2024-11-14) - 상태코드: 200\n",
      "✅ 2e087944e865d7e1c53545a57c671573 (2024-11-14) - 상태코드: 200\n",
      "✅ 54409a0836251f2274b71ee61ad619a5efe8d04e6d233bd35cf2fabdeb93fb0d (2024-11-14) - 상태코드: 200\n",
      "✅ 0e8cb07ed5308313716a9d671ec1ae47 (2024-11-14) - 상태코드: 200\n"
     ]
    },
    {
     "name": "stderr",
     "output_type": "stream",
     "text": [
      " 32%|███▏      | 1651/5104 [00:37<01:12, 47.86it/s]"
     ]
    },
    {
     "name": "stdout",
     "output_type": "stream",
     "text": [
      "✅ 98b43ad4613e0d97f877e32b04b3da5c (2024-11-14) - 상태코드: 200\n",
      "✅ 594851240918600483932901044e16acfd842dab14be2a956555625b37c97bff (2024-11-14) - 상태코드: 200\n",
      "✅ 4f627a8fab0ab12a186d0007f66b2669 (2024-11-14) - 상태코드: 200\n",
      "✅ afc1ebd63f31e95898f1df395e06862b (2024-11-14) - 상태코드: 200\n",
      "✅ cee4c7be90ffa4d71f086888e5272a98 (2024-11-14) - 상태코드: 200\n",
      "✅ d1b407deeae4faba86713249301620abefe8d04e6d233bd35cf2fabdeb93fb0d (2024-11-14) - 상태코드: 200\n",
      "✅ e11a80c37297dc8034628a2cba4741cbefe8d04e6d233bd35cf2fabdeb93fb0d (2024-11-14) - 상태코드: 200\n",
      "✅ b3fd272ec373921a00dd95b479f03d53 (2024-11-14) - 상태코드: 200\n",
      "✅ ee23eedfac77641a0fc30ffcc0a3217a (2024-11-14) - 상태코드: 200\n",
      "✅ a00068394e40534241fc8a14dd7721a2efe8d04e6d233bd35cf2fabdeb93fb0d (2024-11-14) - 상태코드: 200\n",
      "✅ 7f67fc46b1cd910a7ebf4d92867fde34 (2024-11-14) - 상태코드: 200\n"
     ]
    },
    {
     "name": "stderr",
     "output_type": "stream",
     "text": [
      " 33%|███▎      | 1663/5104 [00:37<01:17, 44.32it/s]"
     ]
    },
    {
     "name": "stdout",
     "output_type": "stream",
     "text": [
      "✅ 2a46ff3a9ad98d3597d7ee195e585b43 (2024-11-14) - 상태코드: 200\n",
      "✅ d0a50e8ead72d6468c872675afb495feefe8d04e6d233bd35cf2fabdeb93fb0d (2024-11-14) - 상태코드: 200\n",
      "✅ a30a6c56faa5f49895e54b4bc04be058 (2024-11-14) - 상태코드: 200\n",
      "✅ 3b8ef4201afc050122c5ff04a58361b1 (2024-11-14) - 상태코드: 200\n",
      "✅ 3c112a85118a6fb6d1e44a7a60e308ad (2024-11-14) - 상태코드: 200\n",
      "✅ ce4c6a806604a42629b4f64f9b275b44 (2024-11-14) - 상태코드: 200\n",
      "✅ f875503553ae169cfa2ea8acc92c5506 (2024-11-14) - 상태코드: 200\n",
      "✅ bafef7d436fab2ffff18c9d86dc62e61 (2024-11-14) - 상태코드: 200\n",
      "✅ 3ac82f2a0ca58d993d6d30d854dd546cefe8d04e6d233bd35cf2fabdeb93fb0d (2024-11-14) - 상태코드: 200\n",
      "✅ eb1f76ec8d0cf4a3ea16406f6fbbe8c3 (2024-11-14) - 상태코드: 200\n",
      "✅ 5b52a370824102a5bf911496f5139d41efe8d04e6d233bd35cf2fabdeb93fb0d (2024-11-14) - 상태코드: 200\n",
      "✅ f8ba66be9026f117dc9bb9c71cfb4417 (2024-11-14) - 상태코드: 200\n",
      "✅ 66584bff8c0cd94a5d5a837fbd63a0dc (2024-11-14) - 상태코드: 200\n"
     ]
    },
    {
     "name": "stderr",
     "output_type": "stream",
     "text": [
      " 33%|███▎      | 1673/5104 [00:37<01:18, 43.70it/s]"
     ]
    },
    {
     "name": "stdout",
     "output_type": "stream",
     "text": [
      "✅ 5aed587fbfa88a1d5c6a29c2ccf54df0efe8d04e6d233bd35cf2fabdeb93fb0d (2024-11-14) - 상태코드: 200\n",
      "✅ 1bc06b87204b6c886da411fbd081b183 (2024-11-14) - 상태코드: 200\n",
      "✅ 611651e51c4dd1d8fd4a6d7893eff297 (2024-11-14) - 상태코드: 200\n",
      "✅ 0df99bfd191c9ab4a3cb17ea0f396983 (2024-11-14) - 상태코드: 200\n",
      "✅ a3cd8105da757642c8f742a7fd302236 (2024-11-14) - 상태코드: 200\n",
      "✅ 6a4b463c72dce569b23d98afef8fcd05 (2024-11-14) - 상태코드: 200\n",
      "✅ 3979c56b335a3ba1a46aa03df9b1bfe6 (2024-11-14) - 상태코드: 200\n",
      "✅ 7f2f23268f62082a4e565a3e4f3c856b (2024-11-14) - 상태코드: 200\n",
      "✅ ed54921f192cb4fdcd3d039093eec8cc (2024-11-14) - 상태코드: 200\n"
     ]
    },
    {
     "name": "stderr",
     "output_type": "stream",
     "text": [
      " 33%|███▎      | 1684/5104 [00:38<01:21, 42.10it/s]"
     ]
    },
    {
     "name": "stdout",
     "output_type": "stream",
     "text": [
      "✅ d0856074ab180afe613f6036a7cb93d5efe8d04e6d233bd35cf2fabdeb93fb0d (2024-11-14) - 상태코드: 200\n",
      "✅ 1eef0c75da54036322b76c61423a6affefe8d04e6d233bd35cf2fabdeb93fb0d (2024-11-14) - 상태코드: 200\n",
      "✅ 76675b691086b4b66898eeee8aefa3f9efe8d04e6d233bd35cf2fabdeb93fb0d (2024-11-14) - 상태코드: 200\n",
      "✅ 6cc5c3c0e9e8b41beccdcda2c73f15ec (2024-11-14) - 상태코드: 200\n",
      "✅ 2ae9d4052c807eece88cbc4c5ab09246 (2024-11-14) - 상태코드: 200\n",
      "✅ c534f454b2ad9432ef63747862021581efe8d04e6d233bd35cf2fabdeb93fb0d (2024-11-14) - 상태코드: 200\n",
      "✅ 4cc6ce9926b50ab077005b3be7271171 (2024-11-14) - 상태코드: 200\n",
      "✅ 4cd4358a18174ade81a26c46af746d3f (2024-11-14) - 상태코드: 200\n",
      "✅ f83d731ab941bb8cb9309650bbca2556efe8d04e6d233bd35cf2fabdeb93fb0d (2024-11-14) - 상태코드: 200\n"
     ]
    },
    {
     "name": "stderr",
     "output_type": "stream",
     "text": [
      " 33%|███▎      | 1691/5104 [00:38<01:15, 45.50it/s]"
     ]
    },
    {
     "name": "stdout",
     "output_type": "stream",
     "text": [
      "✅ 128b16a889934818ecad68443d33f8f0 (2024-11-14) - 상태코드: 200\n",
      "✅ 8e418ac840d290cdcff94d0c22b393f2 (2024-11-14) - 상태코드: 200\n",
      "✅ 9cf1bc49585464ced4d1117623407ef5 (2024-11-14) - 상태코드: 200\n",
      "✅ d5409537bfbd08b03e17dc3f52208257 (2024-11-14) - 상태코드: 200\n",
      "✅ 10b358de5a7e17bc2c02f5c25432dc37efe8d04e6d233bd35cf2fabdeb93fb0d (2024-11-14) - 상태코드: 200\n",
      "✅ 9cfa542fcd5ce5b6f48034b1d63418a0 (2024-11-14) - 상태코드: 200\n",
      "✅ 78c8235b1a43e7796e556a0904ad9b09 (2024-11-14) - 상태코드: 200\n",
      "✅ a65581762b5d6e34bac6c5bf505ab79c (2024-11-14) - 상태코드: 200\n",
      "✅ 514cc55795d14102e6e06877cb5fef6a (2024-11-14) - 상태코드: 200\n",
      "✅ 6677c3fe29666e1eb7fd630e17995186 (2024-11-14) - 상태코드: 200\n",
      "✅ 24dbdc91d6b2f63be430a40ebdfa1d2e (2024-11-14) - 상태코드: 200\n"
     ]
    },
    {
     "name": "stderr",
     "output_type": "stream",
     "text": [
      " 33%|███▎      | 1701/5104 [00:38<01:16, 44.29it/s]"
     ]
    },
    {
     "name": "stdout",
     "output_type": "stream",
     "text": [
      "✅ 5fae23b0a50206c30cbe3d15b462b589efe8d04e6d233bd35cf2fabdeb93fb0d (2024-11-14) - 상태코드: 200\n",
      "✅ 330e83a2349a52c860524ad2a853648c (2024-11-14) - 상태코드: 200\n",
      "✅ 2d6bbb92c21e0ae183e7c969df0085a5 (2024-11-14) - 상태코드: 200\n",
      "✅ 2d9eafc741722263c64a25aa674f21c4 (2024-11-14) - 상태코드: 200\n",
      "✅ 51dabf2f8718e6b757c4dfae215cbbd2 (2024-11-14) - 상태코드: 200\n",
      "✅ d89293632bd02624ab8282e83d3dbe0b (2024-11-14) - 상태코드: 200\n",
      "✅ 96fdb3ef9d3e17227700c25a56e592b2 (2024-11-14) - 상태코드: 200\n",
      "✅ 9a269c49588c1a45c5b382895206a293 (2024-11-14) - 상태코드: 200\n",
      "✅ f02dbeb0b14c3143a5ba532ca30fc43fefe8d04e6d233bd35cf2fabdeb93fb0d (2024-11-14) - 상태코드: 200\n",
      "✅ 0f2934b74a1e901e3c4c3cb8338740ed (2024-11-14) - 상태코드: 200\n",
      "✅ fc0e69178dc9b7f8a423ef2de211cd15 (2024-11-14) - 상태코드: 200\n"
     ]
    },
    {
     "name": "stderr",
     "output_type": "stream",
     "text": [
      " 34%|███▎      | 1712/5104 [00:38<01:11, 47.48it/s]"
     ]
    },
    {
     "name": "stdout",
     "output_type": "stream",
     "text": [
      "✅ 84d5cd478dd3c1e583d94a7bf63721b2efe8d04e6d233bd35cf2fabdeb93fb0d (2024-11-14) - 상태코드: 200\n",
      "✅ 3b2166fca378cbd08edaf70c9b49b585 (2024-11-14) - 상태코드: 200\n",
      "✅ 728fa75237873734e013c5f128872a7b (2024-11-14) - 상태코드: 200\n",
      "✅ 3e856e0b915cb62838958909c60e59d5efe8d04e6d233bd35cf2fabdeb93fb0d (2024-11-14) - 상태코드: 200\n",
      "✅ d681a590b51294681b60695bde93e2dd (2024-11-14) - 상태코드: 200\n",
      "✅ 90da96cdb2989da5837a1e2f0192eff4 (2024-11-14) - 상태코드: 200\n",
      "✅ 023e363b5eb4997ade40e4f971cc72ad (2024-11-14) - 상태코드: 200\n",
      "✅ 315bde624cd11939bdbbabd4106fbe4f (2024-11-21) - 상태코드: 200\n",
      "✅ af5deee5f0d367ba389960803ab52983 (2024-11-14) - 상태코드: 200\n"
     ]
    },
    {
     "name": "stderr",
     "output_type": "stream",
     "text": [
      " 34%|███▍      | 1724/5104 [00:38<01:14, 45.36it/s]"
     ]
    },
    {
     "name": "stdout",
     "output_type": "stream",
     "text": [
      "✅ 084e19671a32a177b8ef654ede91290aefe8d04e6d233bd35cf2fabdeb93fb0d (2024-11-21) - 상태코드: 200\n",
      "✅ d37cb3d684b59f0b83d39f995ac976a8 (2024-11-21) - 상태코드: 200\n",
      "✅ 991f8e71da1217400748eed40b8bdf23efe8d04e6d233bd35cf2fabdeb93fb0d (2024-11-21) - 상태코드: 200\n",
      "✅ 0cc84eb9d9949d1c9e2b03abb7cac95a (2024-11-21) - 상태코드: 200\n",
      "✅ 1cb932bf646448a60b2bd65705b97d75 (2024-11-21) - 상태코드: 200\n",
      "✅ 5ad4619616ed8346b8a9559909dadf07efe8d04e6d233bd35cf2fabdeb93fb0d (2024-11-21) - 상태코드: 200\n",
      "✅ e88221f801d392ee89ea8e6405a82a2aefe8d04e6d233bd35cf2fabdeb93fb0d (2024-11-21) - 상태코드: 200\n",
      "✅ 8b889a842cba89340b26c204f7947339 (2024-11-21) - 상태코드: 200\n",
      "✅ 5148cedd3785c3183da75e0d5df2d12a (2024-11-21) - 상태코드: 200\n",
      "✅ 0f4a79cb1ed13e2573af5b7d2978a27eefe8d04e6d233bd35cf2fabdeb93fb0d (2024-11-21) - 상태코드: 200\n"
     ]
    },
    {
     "name": "stderr",
     "output_type": "stream",
     "text": [
      " 34%|███▍      | 1734/5104 [00:39<01:23, 40.59it/s]"
     ]
    },
    {
     "name": "stdout",
     "output_type": "stream",
     "text": [
      "✅ 43fca03dc8e40a8243d985bf274439e9 (2024-11-21) - 상태코드: 200\n",
      "✅ 3327ccbd3400f6e634f96f2a8fcd162defe8d04e6d233bd35cf2fabdeb93fb0d (2024-11-21) - 상태코드: 200\n",
      "✅ 24cbbe59b7b772e1748abfa6a0ced4edefe8d04e6d233bd35cf2fabdeb93fb0d (2024-11-21) - 상태코드: 200\n",
      "✅ 0ac8f15307f1156b8c77e475666cc360efe8d04e6d233bd35cf2fabdeb93fb0d (2024-11-21) - 상태코드: 200\n",
      "✅ 7405c8fde61d4e4851cd1aa898d8d5b8 (2024-11-21) - 상태코드: 200\n",
      "✅ 544967ea6d2a03c98412d6310e4bb376 (2024-11-21) - 상태코드: 200\n",
      "✅ f2ca9ad4bcf6c8ed461198fe230e0f49 (2024-11-21) - 상태코드: 200\n",
      "✅ a4b8f6024991432026cb303134f5c357efe8d04e6d233bd35cf2fabdeb93fb0d (2024-11-21) - 상태코드: 200\n",
      "✅ d9bf32913f42dfc6538b0069cdad9e7d (2024-11-21) - 상태코드: 200\n"
     ]
    },
    {
     "name": "stderr",
     "output_type": "stream",
     "text": [
      " 34%|███▍      | 1739/5104 [00:39<01:19, 42.47it/s]"
     ]
    },
    {
     "name": "stdout",
     "output_type": "stream",
     "text": [
      "✅ 957326ed0c296147b09f97b3c73b6d1f (2024-11-21) - 상태코드: 200\n",
      "✅ 50de792bb81a3c56b517e2da8216cff4 (2024-11-21) - 상태코드: 200\n",
      "✅ 68e19164627dcc17e4ce5a97ce0dd069 (2024-11-21) - 상태코드: 200\n",
      "✅ e2d694d1ec814b047470cc5aa0babe36efe8d04e6d233bd35cf2fabdeb93fb0d (2024-11-21) - 상태코드: 200\n",
      "✅ 78f0a8651d792af6a2a5a12d1b3084a4 (2024-11-21) - 상태코드: 200\n",
      "✅ cee6e098b6e3c180d824889a190fde53 (2024-11-21) - 상태코드: 200\n",
      "✅ d31e900e74659cb68262cfbf7ce5bb6a (2024-11-21) - 상태코드: 200\n",
      "✅ 7b032e9b69170a45628bf792294f9d6b (2024-11-21) - 상태코드: 200\n",
      "✅ 6d8f47b3415edf4e4e8ee598dc6b6543efe8d04e6d233bd35cf2fabdeb93fb0d (2024-11-21) - 상태코드: 200\n"
     ]
    },
    {
     "name": "stderr",
     "output_type": "stream",
     "text": [
      " 34%|███▍      | 1750/5104 [00:39<01:23, 40.04it/s]"
     ]
    },
    {
     "name": "stdout",
     "output_type": "stream",
     "text": [
      "✅ be5618a9953d6ab9b65213fcb34f030c (2024-11-21) - 상태코드: 200\n",
      "✅ b7b6b8c43d82d5e2fa014c0b38a13669efe8d04e6d233bd35cf2fabdeb93fb0d (2024-11-21) - 상태코드: 200\n",
      "✅ dede9bfb8821627aead08daf39947329 (2024-11-21) - 상태코드: 200\n",
      "✅ ef81e21ae9917c9d71131baae2da79ef (2024-11-21) - 상태코드: 200\n",
      "✅ fcb7bbc1cd232187b2ba06fea9b2aba0 (2024-11-21) - 상태코드: 200\n",
      "✅ 464b01f2331a8bbdd2013401a88ac759 (2024-11-21) - 상태코드: 200\n",
      "✅ df2dd14084d1e73ae143412b3628f0d5efe8d04e6d233bd35cf2fabdeb93fb0d (2024-11-21) - 상태코드: 200\n",
      "✅ 7d321f1e07eec15fca486d176e879784 (2024-11-21) - 상태코드: 200\n"
     ]
    },
    {
     "name": "stderr",
     "output_type": "stream",
     "text": [
      " 35%|███▍      | 1762/5104 [00:39<01:21, 41.16it/s]"
     ]
    },
    {
     "name": "stdout",
     "output_type": "stream",
     "text": [
      "✅ 3f3584be991a1d81836a8f883ff9275f (2024-11-21) - 상태코드: 200\n",
      "✅ f587802da624bef47fd854e57e966a56 (2024-11-21) - 상태코드: 200\n",
      "✅ a535409b5e853723cc0c0ace464df4b7 (2024-11-21) - 상태코드: 200\n",
      "✅ ba6c684d1906c09620115f3c73816e7aefe8d04e6d233bd35cf2fabdeb93fb0d (2024-11-21) - 상태코드: 200\n",
      "✅ 41f44e5c705c0fe25dae002c490851a7 (2024-11-21) - 상태코드: 200\n",
      "✅ 3f29f098e90667844bfdbc9d41126054 (2024-11-21) - 상태코드: 200\n",
      "✅ 1567d6e45f2cb70cc8af150eca5066d1 (2024-11-21) - 상태코드: 200\n",
      "✅ aca3c5de80180ea82659bf649e810fa4 (2024-11-21) - 상태코드: 200\n",
      "✅ 49e4325f0f40f8ff4def448e1f108629 (2024-11-21) - 상태코드: 200\n",
      "✅ af7df64ff10600cd3f87ebf9f384b6d3efe8d04e6d233bd35cf2fabdeb93fb0d (2024-11-21) - 상태코드: 200\n",
      "✅ c811b6e48d017f5aecde4d9892f5944c (2024-11-21) - 상태코드: 200\n"
     ]
    },
    {
     "name": "stderr",
     "output_type": "stream",
     "text": [
      " 35%|███▍      | 1768/5104 [00:40<01:18, 42.61it/s]"
     ]
    },
    {
     "name": "stdout",
     "output_type": "stream",
     "text": [
      "✅ 8ffe7968b03a12f9a6f0687473ac675e (2024-11-21) - 상태코드: 200\n",
      "✅ 3f5a6bdaacacba0e32806130c0fd0fe0efe8d04e6d233bd35cf2fabdeb93fb0d (2024-11-21) - 상태코드: 200\n",
      "✅ f305364080f4da8ea3bc8cfa8b113d6f (2024-11-21) - 상태코드: 200\n",
      "✅ a2ba44fa515118049bf199c4e695b944 (2024-11-21) - 상태코드: 200\n",
      "✅ 31a37325ef6211e8d0cd69bac4ec3663 (2024-11-21) - 상태코드: 200\n",
      "✅ ea813078a8dcf6d78aecaacba6b25389 (2024-11-21) - 상태코드: 200\n",
      "✅ 3d9a94d775603949b0ae473c50a3f4b5a2186d8e7cf7a6ee152d97cc78f2ae8b (2024-11-21) - 상태코드: 200\n",
      "✅ 0c6ef24cf746aad8d777da39eb07518d (2024-11-21) - 상태코드: 200\n",
      "✅ 0a703636d6ef26bf9635e788a1126201 (2024-11-21) - 상태코드: 200\n"
     ]
    },
    {
     "name": "stderr",
     "output_type": "stream",
     "text": [
      " 35%|███▍      | 1779/5104 [00:40<01:13, 45.43it/s]"
     ]
    },
    {
     "name": "stdout",
     "output_type": "stream",
     "text": [
      "✅ a027d4055833fc2fe9b195701e517beeefe8d04e6d233bd35cf2fabdeb93fb0d (2024-11-21) - 상태코드: 200\n",
      "✅ 3a9ec45faba6579dd8dd0e80becd3730 (2024-11-21) - 상태코드: 200\n",
      "✅ 13749b48f16283d992ff7c7eb9c56c7b (2024-11-21) - 상태코드: 200\n",
      "✅ 73dad618d4a97848b158de7b96d49a85efe8d04e6d233bd35cf2fabdeb93fb0d (2024-11-21) - 상태코드: 200\n",
      "✅ dcc1d93650d77e05a55118a76b6525cc (2024-11-21) - 상태코드: 200\n",
      "✅ 3b5e23900beda889be4f7aedeeb96c38 (2024-11-21) - 상태코드: 200\n",
      "✅ 9203b0f6bd8942322c1b6be7a3be0cf0 (2024-11-21) - 상태코드: 200\n",
      "✅ 22c457f261120f0b2322ca3400956eb8 (2024-11-21) - 상태코드: 200\n",
      "✅ 6688072ee3c6c0a4532e87cf6dad2427efe8d04e6d233bd35cf2fabdeb93fb0d (2024-11-21) - 상태코드: 200\n",
      "✅ b19e2edb4605fc81c0b47dcc7a07e180efe8d04e6d233bd35cf2fabdeb93fb0d (2024-11-21) - 상태코드: 200\n"
     ]
    },
    {
     "name": "stderr",
     "output_type": "stream",
     "text": [
      " 35%|███▌      | 1790/5104 [00:40<01:17, 43.04it/s]"
     ]
    },
    {
     "name": "stdout",
     "output_type": "stream",
     "text": [
      "✅ e44e7db2921405d9003d3364e63f1746 (2024-11-21) - 상태코드: 200\n",
      "✅ 010b677091933dadb2fa6baa3307695f (2024-11-21) - 상태코드: 200\n",
      "✅ 3b0a86781652eef43a99c874e8fcb53b (2024-11-21) - 상태코드: 200\n",
      "✅ 535152a04a7870d08ae7ace401160158efe8d04e6d233bd35cf2fabdeb93fb0d (2024-11-21) - 상태코드: 200\n",
      "✅ 11609c5b832b4388085b6cb2d5968b14 (2024-11-21) - 상태코드: 200\n",
      "✅ 1070dee2f062d40506e910d817d606ab (2024-11-21) - 상태코드: 200\n",
      "✅ 973f491c7ed163d63046ba5349711b92efe8d04e6d233bd35cf2fabdeb93fb0d (2024-11-21) - 상태코드: 200\n",
      "✅ 5e821e204865fbccb4080de6eb05f377 (2024-11-21) - 상태코드: 200\n",
      "✅ a9cec2bc8318d1a1ac42f48109e68812 (2024-11-21) - 상태코드: 200\n",
      "✅ 7098187b25417dbd097d65d40b67a4f3efe8d04e6d233bd35cf2fabdeb93fb0d (2024-11-21) - 상태코드: 200\n",
      "✅ 59f1328667941b7fafc225f37e4df815efe8d04e6d233bd35cf2fabdeb93fb0d (2024-11-21) - 상태코드: 200\n",
      "✅ 332647b12ccd24dc79b91d01adb6ec15 (2024-11-21) - 상태코드: 200\n"
     ]
    },
    {
     "name": "stderr",
     "output_type": "stream",
     "text": [
      " 35%|███▌      | 1802/5104 [00:40<01:07, 48.61it/s]"
     ]
    },
    {
     "name": "stdout",
     "output_type": "stream",
     "text": [
      "✅ 060c7ca126980b92a4649a80c98f0b7fefe8d04e6d233bd35cf2fabdeb93fb0d (2024-11-21) - 상태코드: 200\n",
      "✅ 0d0661deef2df38692ed62e1ec7f398aefe8d04e6d233bd35cf2fabdeb93fb0d (2024-11-21) - 상태코드: 200\n",
      "✅ cafac8881759a290856a43248a0056ad (2024-11-21) - 상태코드: 200\n",
      "✅ d8e4494e64b1989c5e6e878d7b9c4c1c (2024-11-21) - 상태코드: 200\n",
      "✅ efb85e81bacbebb593c3b6fde6812812 (2024-11-21) - 상태코드: 200\n",
      "✅ 3a7e08a69892768f972496b0079ac613 (2024-11-21) - 상태코드: 200\n",
      "✅ 293bb7909da76fbd844ed73fdcb5c521 (2024-11-21) - 상태코드: 200\n",
      "✅ 2deca90bef4ee05c224ab8d42f8f981a (2024-11-21) - 상태코드: 200\n",
      "✅ 3be64b55b09fb9c79b911554cd2a482f (2024-11-21) - 상태코드: 200\n",
      "✅ 2b609d3d8db43325d9cf95b7c832e9c4 (2024-11-21) - 상태코드: 200\n",
      "✅ 390721d44b78fabef49d6d8aa96944b0 (2024-11-21) - 상태코드: 200\n"
     ]
    },
    {
     "name": "stderr",
     "output_type": "stream",
     "text": [
      " 36%|███▌      | 1814/5104 [00:41<01:04, 50.87it/s]"
     ]
    },
    {
     "name": "stdout",
     "output_type": "stream",
     "text": [
      "✅ 293fa6410432652e7444a004ef61dd0fefe8d04e6d233bd35cf2fabdeb93fb0d (2024-11-21) - 상태코드: 200\n",
      "✅ fbbdc66515cc54d71d4fc0061ccf99c1 (2024-11-21) - 상태코드: 200\n",
      "✅ 7e4866d1837829b5e3580601644ac602 (2024-11-21) - 상태코드: 200\n",
      "✅ 67115e5fff65c431ab08113d80a32ee1 (2024-11-21) - 상태코드: 200\n",
      "✅ 40d94d313b4c225242e3e3bd800f012befe8d04e6d233bd35cf2fabdeb93fb0d (2024-11-21) - 상태코드: 200\n",
      "✅ 361d1a995d2064f8a1a68141487791a0 (2024-11-21) - 상태코드: 200\n",
      "✅ 19907f569272e742367e3fd4eac592a5efe8d04e6d233bd35cf2fabdeb93fb0d (2024-11-21) - 상태코드: 200\n",
      "✅ 23eb469a95de1a33fbffc2a2d551e6f5 (2024-11-21) - 상태코드: 200\n",
      "✅ d9ebe4a14ad6576ef32ee4ef827c65d2efe8d04e6d233bd35cf2fabdeb93fb0d (2024-11-21) - 상태코드: 200\n",
      "✅ a076d8d46421881812ee977f96c66793efe8d04e6d233bd35cf2fabdeb93fb0d (2024-11-21) - 상태코드: 200\n"
     ]
    },
    {
     "name": "stderr",
     "output_type": "stream",
     "text": [
      " 36%|███▌      | 1820/5104 [00:41<01:03, 51.83it/s]"
     ]
    },
    {
     "name": "stdout",
     "output_type": "stream",
     "text": [
      "✅ 44dca63209cabe08f940dc1d6443d4a0 (2024-11-21) - 상태코드: 200\n",
      "✅ fb4086a2535eec99516a0fd3b11a4d28efe8d04e6d233bd35cf2fabdeb93fb0d (2024-11-21) - 상태코드: 200\n",
      "✅ a66da2114c8407b232999f1eebe01126efe8d04e6d233bd35cf2fabdeb93fb0d (2024-11-21) - 상태코드: 200\n",
      "✅ 3221c42fc8c8d169970dd604b9359660 (2024-11-21) - 상태코드: 200\n",
      "✅ 5dd5b26d547f1ceb68b61dc1965b07b4 (2024-11-21) - 상태코드: 200\n",
      "✅ fbd18705be67d58f3528061cc88f2cab (2024-11-21) - 상태코드: 200\n",
      "✅ 375cf5ba4c8f79709296478a48ff8368efe8d04e6d233bd35cf2fabdeb93fb0d (2024-11-21) - 상태코드: 200\n",
      "✅ cfbfc290e30faa09794cacaa8ad8f140 (2024-11-21) - 상태코드: 200\n",
      "✅ bf84e99ac70f7663eaf5842e0a697b72 (2024-11-21) - 상태코드: 200\n",
      "✅ 8552de4485df206c8d632fc38fb94dae (2024-11-21) - 상태코드: 200\n"
     ]
    },
    {
     "name": "stderr",
     "output_type": "stream",
     "text": [
      " 36%|███▌      | 1835/5104 [00:41<01:07, 48.69it/s]"
     ]
    },
    {
     "name": "stdout",
     "output_type": "stream",
     "text": [
      "✅ 30a99458d26f47be9e818b459b4a4589efe8d04e6d233bd35cf2fabdeb93fb0d (2024-11-21) - 상태코드: 200✅ cf98e709f848d3cef643323df0c47fd9 (2024-11-21) - 상태코드: 200\n",
      "\n",
      "✅ b9ab5a6a0680147bf9b53bce96aa7043 (2024-11-21) - 상태코드: 200\n",
      "✅ f7f2ba5ec97943e468b94c72d5e687a8 (2024-11-21) - 상태코드: 200\n",
      "✅ eab2c0204d218009acca3d27f04c1301 (2024-11-21) - 상태코드: 200\n",
      "✅ 14746bc6f131a7c725fae907fc908bb3 (2024-11-21) - 상태코드: 200\n",
      "✅ e52e431c74277449d73f798ebc3ec3cbefe8d04e6d233bd35cf2fabdeb93fb0d (2024-11-21) - 상태코드: 200\n",
      "✅ 7969110f097cbb90c94d186b0e152d2d (2024-11-21) - 상태코드: 200\n",
      "✅ 71d241a81031f190732434224f1e97d6 (2024-11-21) - 상태코드: 200\n",
      "✅ 2172f0fa63e98d078558490328da113defe8d04e6d233bd35cf2fabdeb93fb0d (2024-11-21) - 상태코드: 200\n",
      "✅ 3566b66655df88f014a4baffb7588a18 (2024-11-21) - 상태코드: 200\n",
      "✅ 67f2a8d4dde9185dd68bf25cd6f52c05efe8d04e6d233bd35cf2fabdeb93fb0d (2024-11-21) - 상태코드: 200\n",
      "✅ ee5f641bc5d21be86fe2f326067b4dd2fd842dab14be2a956555625b37c97bff (2024-11-21) - 상태코드: 200\n"
     ]
    },
    {
     "name": "stderr",
     "output_type": "stream",
     "text": [
      " 36%|███▌      | 1841/5104 [00:41<01:06, 49.33it/s]"
     ]
    },
    {
     "name": "stdout",
     "output_type": "stream",
     "text": [
      "✅ 33a9a8a63930863bcd1b01d3740b1345 (2024-11-21) - 상태코드: 200\n",
      "✅ 99dedcf7a3cf89607359cbb1ddc3196defe8d04e6d233bd35cf2fabdeb93fb0d (2024-11-21) - 상태코드: 200\n",
      "✅ 00f0247829e58edec8641622bc418451 (2024-11-21) - 상태코드: 200\n",
      "✅ 38ce87e1637199384914178e687409d1 (2024-11-21) - 상태코드: 200\n",
      "✅ 78f3255b6e0c250b43e61d44a166171f (2024-11-21) - 상태코드: 200\n",
      "✅ bd0510d90a597c5fce45168a57dfcee5 (2024-11-21) - 상태코드: 200\n",
      "✅ 1d10326a79d397dad7b5d00faa23211b (2024-11-21) - 상태코드: 200\n",
      "✅ 69f5080323bbd70593f64349947d313f6fbb98200a15be5bcc73a64995849e9c (2024-11-21) - 상태코드: 200\n",
      "✅ 863c363e4d760cb4fb4fff0f309aa48b6fbb98200a15be5bcc73a64995849e9c (2024-11-21) - 상태코드: 200\n"
     ]
    },
    {
     "name": "stderr",
     "output_type": "stream",
     "text": [
      " 36%|███▋      | 1856/5104 [00:41<01:06, 48.97it/s]"
     ]
    },
    {
     "name": "stdout",
     "output_type": "stream",
     "text": [
      "✅ e3a3404477afa12cd46a1722a18b2d62 (2024-11-21) - 상태코드: 200\n",
      "✅ 9265d5c0f0a029e3e9a28edcdafacb0f (2024-11-21) - 상태코드: 200\n",
      "✅ c066c19351562b2e691545fde8de0bd4 (2024-11-21) - 상태코드: 200\n",
      "✅ c765a492026cb17f3fa61b4526d7121a (2024-11-21) - 상태코드: 200\n",
      "✅ 7f0ef9ea4b05d1d934eda4284aa578a9 (2024-11-21) - 상태코드: 200\n",
      "✅ 4bba730e8396fd5fc8295bba7df19efc (2024-11-21) - 상태코드: 200\n",
      "✅ 9dcb38a48e8f0dd058f535e3c1ce2c23 (2024-11-21) - 상태코드: 200\n",
      "✅ ff3de06ab1c5959deeca1a5c854955e2efe8d04e6d233bd35cf2fabdeb93fb0d (2024-11-21) - 상태코드: 200\n",
      "✅ 4696d4c9ed983e0b631f85db9b846ca3efe8d04e6d233bd35cf2fabdeb93fb0d (2024-11-21) - 상태코드: 200\n",
      "✅ 68c698e7d765bb3c73e390760751e036efe8d04e6d233bd35cf2fabdeb93fb0d (2024-11-21) - 상태코드: 200\n",
      "✅ 754924d82f140e7f75f38b3a6861cbd5efe8d04e6d233bd35cf2fabdeb93fb0d (2024-11-21) - 상태코드: 200\n",
      "✅ adec6db8f6769d50dc21317084ca1832 (2024-11-21) - 상태코드: 200\n"
     ]
    },
    {
     "name": "stderr",
     "output_type": "stream",
     "text": [
      " 37%|███▋      | 1863/5104 [00:42<01:02, 52.05it/s]"
     ]
    },
    {
     "name": "stdout",
     "output_type": "stream",
     "text": [
      "✅ a4b2853096dbb6b8dd90c9048b40a8a3efe8d04e6d233bd35cf2fabdeb93fb0d (2024-11-21) - 상태코드: 200\n",
      "✅ 5d06988c55830e11ef9b103162dd1631efe8d04e6d233bd35cf2fabdeb93fb0d (2024-11-21) - 상태코드: 200\n",
      "✅ d962c1fa2fa5cea46a84796cc7172dd4efe8d04e6d233bd35cf2fabdeb93fb0d (2024-11-21) - 상태코드: 200\n",
      "✅ 00ff9cf9e4e55f80c30c4036eec9a5b7 (2024-11-21) - 상태코드: 200\n",
      "✅ 1d9a9df9a85d733084080c34b66bafd1efe8d04e6d233bd35cf2fabdeb93fb0d (2024-11-21) - 상태코드: 200\n",
      "✅ 063c23d43a8768f53eb1bdeb9c53a19b (2024-11-21) - 상태코드: 200\n",
      "✅ 69ac447d6be31b8714d26af0e6f903abefe8d04e6d233bd35cf2fabdeb93fb0d (2024-11-21) - 상태코드: 400\n",
      "✅ 529516f70eac718cad1460ac6efd5363efe8d04e6d233bd35cf2fabdeb93fb0d (2024-11-21) - 상태코드: 200\n",
      "✅ 7b4c62020015e5f5d94a34725f865738 (2024-11-21) - 상태코드: 200\n",
      "✅ 8a3f3a08ee7cd8adfc5041db3f29bd72 (2024-11-21) - 상태코드: 200\n"
     ]
    },
    {
     "name": "stderr",
     "output_type": "stream",
     "text": [
      " 37%|███▋      | 1876/5104 [00:42<01:06, 48.81it/s]"
     ]
    },
    {
     "name": "stdout",
     "output_type": "stream",
     "text": [
      "✅ 1636ebe36094d80aabe514a37d074b31 (2024-11-21) - 상태코드: 200\n",
      "✅ 2aa540cfc2b0e638404c9641cf5daddb (2024-11-21) - 상태코드: 200\n",
      "✅ 45e9404457c1c58e4a73f529de4df777 (2024-11-21) - 상태코드: 200\n",
      "✅ bd1eedacee93cae2af43ad5c29f21a8c (2024-11-21) - 상태코드: 200\n",
      "✅ 303bde271538bbd720c6a3de31652f93 (2024-11-21) - 상태코드: 200\n",
      "✅ 499b59d931930833b49bea684ff5a9e9 (2024-11-21) - 상태코드: 200\n",
      "✅ b043cae11609e608c0586bcc17f624a6 (2024-11-21) - 상태코드: 200\n",
      "✅ 9eed691a31409febf72f25664bddb99d (2024-11-21) - 상태코드: 200\n",
      "✅ 8f2d78f0714b7a49d0dcdbe1161ce84c (2024-11-21) - 상태코드: 200\n",
      "✅ 56d1e4037a4da5d223f8f9cd1aafc9a4 (2024-11-21) - 상태코드: 200\n"
     ]
    },
    {
     "name": "stderr",
     "output_type": "stream",
     "text": [
      " 37%|███▋      | 1888/5104 [00:42<01:02, 51.23it/s]"
     ]
    },
    {
     "name": "stdout",
     "output_type": "stream",
     "text": [
      "✅ 223d064219eed12e0ec9d21460ede5f0efe8d04e6d233bd35cf2fabdeb93fb0d (2024-11-21) - 상태코드: 200\n",
      "✅ 88e02259b6ea2d60b22710904f33c91cefe8d04e6d233bd35cf2fabdeb93fb0d (2024-11-21) - 상태코드: 200\n",
      "✅ c40337e237b52c49d1718e422db3c05c (2024-11-21) - 상태코드: 200\n",
      "✅ 96ee4ea65fee2846a2e6f619e1ac888e (2024-11-21) - 상태코드: 200\n",
      "✅ 134c89affce067a5019be6dce85b08c6efe8d04e6d233bd35cf2fabdeb93fb0d (2024-11-21) - 상태코드: 200\n",
      "✅ 05a0002ba6f1f91cd3a9f9a2ee9659a7 (2024-11-21) - 상태코드: 200\n",
      "✅ 6dd32b32cc72b4614b6aee6cc9cc6ceaefe8d04e6d233bd35cf2fabdeb93fb0d (2024-11-21) - 상태코드: 200\n",
      "✅ bda174ff8f1d074d6da1f72617966bafefe8d04e6d233bd35cf2fabdeb93fb0d (2024-11-21) - 상태코드: 200\n",
      "✅ 49e93c2a9f7072be16f7206aa76737c7 (2024-11-21) - 상태코드: 200\n",
      "✅ d41c32fe3dda1cfd1a813628f97b708fefe8d04e6d233bd35cf2fabdeb93fb0d (2024-11-21) - 상태코드: 200\n",
      "✅ e317d4813a69fb3361864089ed0d1757 (2024-11-21) - 상태코드: 200\n",
      "✅ 5c3e904eaca03b316daf87c4c78d0c88 (2024-11-21) - 상태코드: 200\n"
     ]
    },
    {
     "name": "stderr",
     "output_type": "stream",
     "text": [
      " 37%|███▋      | 1901/5104 [00:42<01:10, 45.28it/s]"
     ]
    },
    {
     "name": "stdout",
     "output_type": "stream",
     "text": [
      "✅ e16111c7ec30f8620e55d7c05bfd8b3f (2024-11-21) - 상태코드: 200\n",
      "✅ 550e1cc0ed2e0ae6c2f4df7611f73224efe8d04e6d233bd35cf2fabdeb93fb0d (2024-11-21) - 상태코드: 200\n",
      "✅ b1c62686fd8f823760298229180a28f5 (2024-11-21) - 상태코드: 200\n",
      "✅ d742f62993190da82fa7f4671ebb1476 (2024-11-21) - 상태코드: 200\n",
      "✅ 67d1cc70712330b065d04f596b240f6f (2024-11-21) - 상태코드: 200\n",
      "✅ f08552c9e7895cb77a64c240559c5b51 (2024-11-21) - 상태코드: 200\n",
      "✅ 941b8eae23e677d24b88dab022ad9ef7 (2024-11-21) - 상태코드: 200\n",
      "✅ 9090c6186a6b63651f52fef662c6ee67 (2024-11-21) - 상태코드: 200\n",
      "✅ 29dd583c39b648ce88c2ae37d1b18797 (2024-11-21) - 상태코드: 200\n",
      "✅ ea3cd97f4f961efe9411972c12902ff8 (2024-11-21) - 상태코드: 200\n",
      "✅ afed5c0c4e6f10b338140cb79e23c1cc (2024-11-21) - 상태코드: 200\n"
     ]
    },
    {
     "name": "stderr",
     "output_type": "stream",
     "text": [
      " 37%|███▋      | 1908/5104 [00:42<01:04, 49.92it/s]"
     ]
    },
    {
     "name": "stdout",
     "output_type": "stream",
     "text": [
      "✅ bec30879111ec4fbb2b844fb746f72a4 (2024-11-21) - 상태코드: 200\n",
      "✅ feae7dbfd8920e3c33ba80042776976befe8d04e6d233bd35cf2fabdeb93fb0d (2024-11-21) - 상태코드: 200\n",
      "✅ 22319f7d3679c34e3b35eebb904ec905 (2024-11-21) - 상태코드: 200\n",
      "✅ ccd7d99b3f59804f5e2c89e2b8653a29 (2024-11-21) - 상태코드: 200\n",
      "✅ b78f0c5e0d337ce09b0477fdd5e5e70befe8d04e6d233bd35cf2fabdeb93fb0d (2024-11-21) - 상태코드: 200\n",
      "✅ b28151c9ac63ec1d5e22fbbad88218a1 (2024-11-21) - 상태코드: 200\n",
      "✅ cd9c1a0e5fb457317a5ef2a017b8674d (2024-11-21) - 상태코드: 200\n",
      "✅ adccd9d6ab8a03b16d760aeca7941c2cefe8d04e6d233bd35cf2fabdeb93fb0d (2024-11-21) - 상태코드: 200\n",
      "✅ 2853958fda68fb73a7605f50cda63944 (2024-11-21) - 상태코드: 200\n",
      "✅ 6ffc14ff1de7b5b0a3f208b593b1144e (2024-11-21) - 상태코드: 200\n"
     ]
    },
    {
     "name": "stderr",
     "output_type": "stream",
     "text": [
      " 38%|███▊      | 1919/5104 [00:43<01:06, 47.73it/s]"
     ]
    },
    {
     "name": "stdout",
     "output_type": "stream",
     "text": [
      "✅ 474e6ff41f4acec5192abfce975830b8 (2024-11-21) - 상태코드: 200\n",
      "✅ 51ff4330432d1c9de91d668f3c371024efe8d04e6d233bd35cf2fabdeb93fb0d (2024-11-21) - 상태코드: 200\n",
      "✅ 175213d5abc2e7d03632d5b61440c927efe8d04e6d233bd35cf2fabdeb93fb0d (2024-11-21) - 상태코드: 200\n",
      "✅ 3bf63febf1a365a23fd719a5ec8d9172 (2024-11-21) - 상태코드: 200\n",
      "✅ 77dd3bc7f5e389c617b6dd1c70a692bbefe8d04e6d233bd35cf2fabdeb93fb0d (2024-11-21) - 상태코드: 200\n",
      "✅ efcf5cb3d22a434987b1a3f4d7e76eb8 (2024-11-21) - 상태코드: 200\n",
      "✅ 2911af63fbd902765a852e40a2d9488d (2024-11-21) - 상태코드: 200\n",
      "✅ fccc9ca12cec1d7aeceb0c2960a19f10efe8d04e6d233bd35cf2fabdeb93fb0d (2024-11-21) - 상태코드: 200\n",
      "✅ 873262f1f6eb0a0f962d72298e6bbc8defe8d04e6d233bd35cf2fabdeb93fb0d (2024-11-21) - 상태코드: 200\n",
      "✅ 7a53eb7a3f8fa82a66f5d3dc999bd4b6 (2024-11-21) - 상태코드: 200\n"
     ]
    },
    {
     "name": "stderr",
     "output_type": "stream",
     "text": [
      " 38%|███▊      | 1924/5104 [00:43<01:07, 47.10it/s]"
     ]
    },
    {
     "name": "stdout",
     "output_type": "stream",
     "text": [
      "✅ 7eafa7de7caf079eb5cf49db9aa710b8efe8d04e6d233bd35cf2fabdeb93fb0d (2024-11-21) - 상태코드: 200\n",
      "✅ 3aa9923eda02aa2bdc26247a537dbf47 (2024-11-21) - 상태코드: 200\n",
      "✅ 65467e3e2c3c3aba575513281207bd31efe8d04e6d233bd35cf2fabdeb93fb0d (2024-11-21) - 상태코드: 200\n",
      "✅ 50d9670d2bca4069d5b612437cd2f216 (2024-11-21) - 상태코드: 200\n",
      "✅ 6ef7a179284f11d7546a25bf2025929e (2024-11-21) - 상태코드: 200\n",
      "✅ 9c62ce5a1e63a6c28803cb77c0c75387 (2024-11-21) - 상태코드: 200\n",
      "✅ 3421bfb89d6611558182e8d2af3d5d5a (2024-11-21) - 상태코드: 200\n",
      "✅ fb2ef1ceec65a83373d592ec809070a9efe8d04e6d233bd35cf2fabdeb93fb0d (2024-11-21) - 상태코드: 200\n"
     ]
    },
    {
     "name": "stderr",
     "output_type": "stream",
     "text": [
      " 38%|███▊      | 1936/5104 [00:43<01:11, 44.60it/s]"
     ]
    },
    {
     "name": "stdout",
     "output_type": "stream",
     "text": [
      "✅ 98a45d21eb8221d564c9c1443bc5841a (2024-11-21) - 상태코드: 200\n",
      "✅ c737dff00603645525e7cd9d44283635 (2024-11-21) - 상태코드: 200\n",
      "✅ b24ba7b50dfdf479b1cc8d24cc65a06c (2024-11-21) - 상태코드: 200\n",
      "✅ cbec16599e27e6daa37cae78a39ae3d68295750b1f4857867454debc45ec9c8a (2024-11-21) - 상태코드: 200\n",
      "✅ 4a2400d5c2b265ee9117db587c2a06fa (2024-11-21) - 상태코드: 200\n",
      "✅ a0e6e8183add4ac80db5399a77bea5db (2024-11-21) - 상태코드: 200\n",
      "✅ 817453ad3139a84fc19a9718538e3d0f (2024-11-21) - 상태코드: 200\n",
      "✅ 5d9049f65e4b352bedbe1efecf1fe6e4efe8d04e6d233bd35cf2fabdeb93fb0d (2024-11-21) - 상태코드: 200\n",
      "✅ 8376b35f898e6d1c1095657138a5f30befe8d04e6d233bd35cf2fabdeb93fb0d (2024-11-21) - 상태코드: 200\n",
      "✅ 456806600e22efe2bc7a8e59e48dc552efe8d04e6d233bd35cf2fabdeb93fb0d (2024-11-21) - 상태코드: 200\n",
      "✅ 68b68720c7bf74560c69ecd1eb137679efe8d04e6d233bd35cf2fabdeb93fb0d (2024-11-21) - 상태코드: 200\n"
     ]
    },
    {
     "name": "stderr",
     "output_type": "stream",
     "text": [
      " 38%|███▊      | 1949/5104 [00:43<01:07, 46.76it/s]"
     ]
    },
    {
     "name": "stdout",
     "output_type": "stream",
     "text": [
      "✅ 605c5b412201ef038f655c06b69256d8 (2024-11-21) - 상태코드: 200\n",
      "✅ 5d3b14ba1320475fe85efbea32e64231 (2024-11-21) - 상태코드: 200\n",
      "✅ bf893598bb415d20d3615ad9d8595fa4 (2024-11-21) - 상태코드: 200\n",
      "✅ c13f312d122b0d8fe0ff29f8b68d19ea (2024-11-21) - 상태코드: 200\n",
      "✅ b2fb907f6fbf6a039f1cef6bdc4e8457 (2024-11-21) - 상태코드: 200\n",
      "✅ 72212dfd6bb031459dae2d09934d0020efe8d04e6d233bd35cf2fabdeb93fb0d (2024-11-21) - 상태코드: 200\n",
      "✅ 6985dd5e08d08e87428031e047d1a4eb4723574b05820acf03e7ec3162ff5bed (2024-11-21) - 상태코드: 200\n",
      "✅ c86d73029385cda466c249c59460456e (2024-11-21) - 상태코드: 200\n",
      "✅ 5695c6dc53f86e8110a6b37030d9247befe8d04e6d233bd35cf2fabdeb93fb0d (2024-11-21) - 상태코드: 200\n"
     ]
    },
    {
     "name": "stderr",
     "output_type": "stream",
     "text": [
      " 38%|███▊      | 1954/5104 [00:43<01:11, 44.23it/s]"
     ]
    },
    {
     "name": "stdout",
     "output_type": "stream",
     "text": [
      "✅ db6fe01029329f6bf6d55ca9389afdca (2024-11-21) - 상태코드: 200\n",
      "✅ 2875058ea449d2e881a66e8e8c0d5fa7 (2024-11-21) - 상태코드: 200\n",
      "✅ 7dbc7f73d47fea9e42ae93a4c62e0ed6 (2024-11-21) - 상태코드: 200\n",
      "✅ 9a0da8df34ce824e38d44d0f423ca63ea2186d8e7cf7a6ee152d97cc78f2ae8b (2024-11-21) - 상태코드: 200\n",
      "✅ 924e76ef6f91fdc8e1909a1ee1aac186 (2024-11-21) - 상태코드: 200\n",
      "✅ 2eaee8491645cd83b692755c6871e827 (2024-11-21) - 상태코드: 200\n",
      "✅ 5864f519f1f8984fb3b011d5e91e6b80 (2024-11-21) - 상태코드: 200\n",
      "✅ 2bc404b32c9e9bce1be5412234f69431 (2024-11-21) - 상태코드: 200\n",
      "✅ f3aa4c38d90838b7872717888fa62ffb (2024-11-21) - 상태코드: 200\n"
     ]
    },
    {
     "name": "stderr",
     "output_type": "stream",
     "text": [
      " 38%|███▊      | 1965/5104 [00:44<01:08, 45.51it/s]"
     ]
    },
    {
     "name": "stdout",
     "output_type": "stream",
     "text": [
      "✅ cb77302be9ff82eae9cc784ca55e38c5 (2024-11-21) - 상태코드: 200\n",
      "✅ 71ed58f89cf9cb576d86d68d051ede6aefe8d04e6d233bd35cf2fabdeb93fb0d (2024-11-21) - 상태코드: 200\n",
      "✅ 41ee3f02eb7418626f20b0138ba7c93defe8d04e6d233bd35cf2fabdeb93fb0d (2024-11-21) - 상태코드: 200\n",
      "✅ 1bcc857529ccd8893ddb886150bca426 (2024-11-21) - 상태코드: 200\n",
      "✅ 2c827e100074537c1eaa9f806b0471abefe8d04e6d233bd35cf2fabdeb93fb0d (2024-11-21) - 상태코드: 200\n",
      "✅ d107718c1ed3e3c1ffd98c6581106740 (2024-11-21) - 상태코드: 200\n",
      "✅ f3d277009a97b27dcfd3d9fe0d29004cefe8d04e6d233bd35cf2fabdeb93fb0d (2024-11-21) - 상태코드: 200\n",
      "✅ 9094d86d602414b186b4fbda98e6f2bf (2024-11-21) - 상태코드: 200\n",
      "✅ c75b3a6a4e3e1669ad6b88989630e462efe8d04e6d233bd35cf2fabdeb93fb0d (2024-11-21) - 상태코드: 200\n",
      "✅ 617eae0aca75e93ee1c7be69e5767d3aefe8d04e6d233bd35cf2fabdeb93fb0d (2024-11-21) - 상태코드: 200\n",
      "✅ 2ecb9848ec933395c8c451ea0174634b (2024-11-21) - 상태코드: 200\n"
     ]
    },
    {
     "name": "stderr",
     "output_type": "stream",
     "text": [
      " 39%|███▊      | 1976/5104 [00:44<01:05, 47.91it/s]"
     ]
    },
    {
     "name": "stdout",
     "output_type": "stream",
     "text": [
      "✅ 4a791d3164516950e187eddd40e2b1ae (2024-11-21) - 상태코드: 200\n",
      "✅ 4181e8df10a85f5b559d5e770d5d2252 (2024-11-21) - 상태코드: 200\n",
      "✅ 09c019e289606a3b2a18f40609107b00efe8d04e6d233bd35cf2fabdeb93fb0d (2024-11-21) - 상태코드: 200\n",
      "✅ 7cd8c23f47cf985528061d75c6b1c382efe8d04e6d233bd35cf2fabdeb93fb0d (2024-11-21) - 상태코드: 200\n",
      "✅ ffc42603f7cdb56696c94f00803194a9efe8d04e6d233bd35cf2fabdeb93fb0d (2024-11-21) - 상태코드: 200\n",
      "✅ de89638fdf267a96e381f5f640be2a0a (2024-11-21) - 상태코드: 200\n",
      "✅ ba13d74f454f14d8db9d3f0e9e5a7fef (2024-11-21) - 상태코드: 200\n",
      "✅ 2b04252a5d22ad0e7a68924d93f4305befe8d04e6d233bd35cf2fabdeb93fb0d (2024-11-21) - 상태코드: 200\n",
      "✅ 9024e79c09fefe51fcc407bc2dd975b8 (2024-11-21) - 상태코드: 400\n",
      "✅ ff308d37a165572b45518551ff788634 (2024-11-21) - 상태코드: 200\n",
      "✅ dab300fb6e0755f312a8eed1ed6d4e8fefe8d04e6d233bd35cf2fabdeb93fb0d (2024-11-21) - 상태코드: 200\n",
      "✅ a580387f49f7f41ad687181640096e58efe8d04e6d233bd35cf2fabdeb93fb0d (2024-11-21) - 상태코드: 200\n"
     ]
    },
    {
     "name": "stderr",
     "output_type": "stream",
     "text": [
      " 39%|███▉      | 1988/5104 [00:44<01:11, 43.83it/s]"
     ]
    },
    {
     "name": "stdout",
     "output_type": "stream",
     "text": [
      "✅ 4b4ecdf5ca9b29ed4a9003afe5aefee6 (2024-11-21) - 상태코드: 200\n",
      "✅ 64cf8b538ab9fe6d63c58d4a4e15bc35 (2024-11-21) - 상태코드: 200\n",
      "✅ 51845de1965d98fc6f98fbc9a23c1aa7 (2024-11-21) - 상태코드: 200\n",
      "✅ 9465348d20ac0cad762fd7c3edf973a2 (2024-11-21) - 상태코드: 200\n",
      "✅ f3e45b94f933a06c64f87df00abec36d (2024-11-21) - 상태코드: 200\n",
      "✅ 63255d98d0a9ec66ed5c6074a72642bcefe8d04e6d233bd35cf2fabdeb93fb0d (2024-11-21) - 상태코드: 200\n",
      "✅ 01f1228014a7b25747c4c7e503d5004d (2024-11-21) - 상태코드: 200\n",
      "✅ eec1c1d15198a1f091fc9b2c4e35937eefe8d04e6d233bd35cf2fabdeb93fb0d (2024-11-21) - 상태코드: 200\n",
      "✅ 35586007c157e34159b48fdbad0579ef (2024-11-21) - 상태코드: 200\n"
     ]
    },
    {
     "name": "stderr",
     "output_type": "stream",
     "text": [
      " 39%|███▉      | 1999/5104 [00:44<01:05, 47.74it/s]"
     ]
    },
    {
     "name": "stdout",
     "output_type": "stream",
     "text": [
      "✅ 8525e9fcb686cd08c268dc1d526533ab (2024-11-21) - 상태코드: 200\n",
      "✅ cbe6469287089e1d94a31a3276338051efe8d04e6d233bd35cf2fabdeb93fb0d (2024-11-21) - 상태코드: 200\n",
      "✅ 552bf45aa58039f6d66e8e207331f280efe8d04e6d233bd35cf2fabdeb93fb0d (2024-11-21) - 상태코드: 200\n",
      "✅ 9bf4b4267127550b5428fcd699202a2b (2024-11-21) - 상태코드: 200\n",
      "✅ 66bd56bc1adf5d9f285099b8115b64d4efe8d04e6d233bd35cf2fabdeb93fb0d (2024-11-21) - 상태코드: 200\n",
      "✅ 923866addb47956e348e45a3826ae52f (2024-11-21) - 상태코드: 200\n",
      "✅ 7e863dd6e15b2e8f90ec74f9e0c06169 (2024-11-21) - 상태코드: 200\n",
      "✅ 4aeebec9117601798e7aa49eced8040b (2024-11-21) - 상태코드: 200\n",
      "✅ b15e18d83c7d8c7f7c94804068d4b7cd (2024-11-21) - 상태코드: 200\n",
      "✅ 6e4f367a8570a3917a021b17f3b93f40 (2024-11-21) - 상태코드: 200\n"
     ]
    },
    {
     "name": "stderr",
     "output_type": "stream",
     "text": [
      " 39%|███▉      | 2009/5104 [00:45<01:06, 46.47it/s]"
     ]
    },
    {
     "name": "stdout",
     "output_type": "stream",
     "text": [
      "✅ 1bddcdc6fd36de3027e6160f50cddddb (2024-11-21) - 상태코드: 200\n",
      "✅ 1ef452f60e1c495a0feea39efdaeca6defe8d04e6d233bd35cf2fabdeb93fb0d (2024-11-21) - 상태코드: 200\n",
      "✅ 0f942f23040f371cd13d194760315425efe8d04e6d233bd35cf2fabdeb93fb0d (2024-11-21) - 상태코드: 200\n",
      "✅ b58430f29aedbb92ed6ee6043bc9237a (2024-11-21) - 상태코드: 200\n",
      "✅ e2f6a4a393bd180b040effcfd4ec2fc5efe8d04e6d233bd35cf2fabdeb93fb0d (2024-11-21) - 상태코드: 200\n",
      "✅ 4f364b02152245d6001f8d81c78a0a01efe8d04e6d233bd35cf2fabdeb93fb0d (2024-11-21) - 상태코드: 200\n",
      "✅ 1d93ca3acd6fd8d1c7e5f55bb3be7f42efe8d04e6d233bd35cf2fabdeb93fb0d (2024-11-21) - 상태코드: 200\n",
      "✅ b0c69c3dc4381ad8ee4acfecd942574aefe8d04e6d233bd35cf2fabdeb93fb0d (2024-11-21) - 상태코드: 200\n",
      "✅ d47c0befe817e7c8a77e9561e96e952c (2024-11-21) - 상태코드: 200\n",
      "✅ ac6ed463785c3aa7c13f138becc0f253 (2024-11-21) - 상태코드: 200\n",
      "✅ 4a299934879212a57159707e5db5e35a (2024-11-21) - 상태코드: 200\n"
     ]
    },
    {
     "name": "stderr",
     "output_type": "stream",
     "text": [
      " 40%|███▉      | 2019/5104 [00:45<01:08, 44.92it/s]"
     ]
    },
    {
     "name": "stdout",
     "output_type": "stream",
     "text": [
      "✅ cb4ab50d21a1dc5cdd93baa0f5a1e733 (2024-11-21) - 상태코드: 200\n",
      "✅ 652943692d318bdb08daf8c054d78380 (2024-11-21) - 상태코드: 200\n",
      "✅ b5ac9222820a0b205560a9ffcfa0d47befe8d04e6d233bd35cf2fabdeb93fb0d (2024-11-21) - 상태코드: 200\n",
      "✅ b4e495006155a7472bb4105bbae301b8 (2024-11-21) - 상태코드: 200\n",
      "✅ f2dba8bbbfba95e18c4a0d3e470d4866efe8d04e6d233bd35cf2fabdeb93fb0d (2024-11-21) - 상태코드: 200\n",
      "✅ 0e1b29a1bac60577ace65588b1b036ba (2024-11-21) - 상태코드: 200\n",
      "✅ 755b3d608e4ec0bdaf48571b9b6a7865efe8d04e6d233bd35cf2fabdeb93fb0d (2024-11-21) - 상태코드: 200\n",
      "✅ a9883bdf4e25cec3f532cc1a55500132efe8d04e6d233bd35cf2fabdeb93fb0d (2024-11-21) - 상태코드: 200\n",
      "✅ 72c6959de78bee956d329be4388510fb (2024-11-21) - 상태코드: 200\n",
      "✅ 2d2af3e4cf91081ed16c3ab121bd0281 (2024-11-21) - 상태코드: 200\n"
     ]
    },
    {
     "name": "stderr",
     "output_type": "stream",
     "text": [
      " 40%|███▉      | 2031/5104 [00:45<01:09, 44.31it/s]"
     ]
    },
    {
     "name": "stdout",
     "output_type": "stream",
     "text": [
      "✅ f335164a5b475e05beb8609329c599a4efe8d04e6d233bd35cf2fabdeb93fb0d (2024-11-21) - 상태코드: 200\n",
      "✅ 9ada5a08f2133fb9c41da0d8fe795295 (2024-11-21) - 상태코드: 200\n",
      "✅ 43d9f055ac2bc60ebf874358e6b384f2efe8d04e6d233bd35cf2fabdeb93fb0d (2024-11-21) - 상태코드: 200\n",
      "✅ 2fa92c69bf0ec7d4c361a583c5ca408186e68d4012202d0434d05f81868f68e3 (2024-11-21) - 상태코드: 200\n",
      "✅ dda80cf6b65eb765cbb81144b6510bd4 (2024-11-21) - 상태코드: 200\n",
      "✅ 1fba8c96cde484ad8354dc43b8f980b7 (2024-11-21) - 상태코드: 200\n",
      "✅ fcf680f9c825512ac48d975fcaa6b114 (2024-11-21) - 상태코드: 200\n",
      "✅ 1374ddde98f8f82709bf46918a3c1342 (2024-11-21) - 상태코드: 200\n",
      "✅ 26f2841006d596cd78e36b6e0b137985 (2024-11-21) - 상태코드: 200\n",
      "✅ 708338f60a339c4874542898fdf0d95f (2024-11-21) - 상태코드: 200\n",
      "✅ 83670f0ee8304b52d15cf20c1d96c1b9efe8d04e6d233bd35cf2fabdeb93fb0d (2024-11-21) - 상태코드: 200\n",
      "✅ 5e859d25c2d12325040cbb3bce0b42b2 (2024-11-21) - 상태코드: 200\n"
     ]
    },
    {
     "name": "stderr",
     "output_type": "stream",
     "text": [
      " 40%|████      | 2044/5104 [00:45<01:05, 47.01it/s]"
     ]
    },
    {
     "name": "stdout",
     "output_type": "stream",
     "text": [
      "✅ 98c48e1e3f8087770b34d883a1fc831f (2024-11-21) - 상태코드: 200\n",
      "✅ f365777383ab5644ab3d02f3ae032f43efe8d04e6d233bd35cf2fabdeb93fb0d (2024-11-21) - 상태코드: 200\n",
      "✅ 56fc4b9cf931977357bb27cef0420594 (2024-11-21) - 상태코드: 200\n",
      "✅ 0d9417ad3deee8e8241b11b85317e8aa (2024-11-21) - 상태코드: 200\n",
      "✅ d113c8c182c8d91d45984582b63aaf3c (2024-11-21) - 상태코드: 200\n",
      "✅ f96d8f46c73abc3fd1aa5eaeb54fef87 (2024-11-21) - 상태코드: 200\n",
      "✅ d5bb5072fbb657ae7532fd51fc9ead7eefe8d04e6d233bd35cf2fabdeb93fb0d (2024-11-21) - 상태코드: 200\n",
      "✅ be8dceaaf819ce55ad47281d2c3aca6a (2024-11-21) - 상태코드: 200\n",
      "✅ a1333be07c304f5a7eb0f373a33d2d98 (2024-11-21) - 상태코드: 200\n",
      "✅ 18dd09ae678a710c18042a6321a50605 (2024-11-21) - 상태코드: 200\n",
      "✅ bcf64b0d0d2ecbdc98e55cfa1918fc81efe8d04e6d233bd35cf2fabdeb93fb0d (2024-11-21) - 상태코드: 200\n",
      "✅ 02bcf16832e7a27710951a205a5f8b71aae77432709819edb959e1fd5d1d77b4 (2024-11-21) - 상태코드: 200\n",
      "✅ 1f039bf15b5f2c80599ee731cd7b1774 (2024-11-21) - 상태코드: 200\n"
     ]
    },
    {
     "name": "stderr",
     "output_type": "stream",
     "text": [
      " 40%|████      | 2056/5104 [00:46<01:02, 48.42it/s]"
     ]
    },
    {
     "name": "stdout",
     "output_type": "stream",
     "text": [
      "✅ 3b8782162f1a3de3176cefbd7628191befe8d04e6d233bd35cf2fabdeb93fb0d (2024-11-21) - 상태코드: 200\n",
      "✅ 18a5671dc39bf7800b33172704f15b65 (2024-11-21) - 상태코드: 200\n",
      "✅ 4ded438d2a57183e52cce518cafed28aefe8d04e6d233bd35cf2fabdeb93fb0d (2024-11-21) - 상태코드: 200\n",
      "✅ 81f28efb7c1a9f1d4615d2c63c3251ee (2024-11-21) - 상태코드: 200\n",
      "✅ dadfd46c8cc678054be9ed21d861b887 (2024-11-21) - 상태코드: 200\n",
      "✅ 684190dcd6e22c74646c94caefcc25e3efe8d04e6d233bd35cf2fabdeb93fb0d (2024-11-21) - 상태코드: 200\n",
      "✅ 1896b6b1552a73ef2593f1a526645de8 (2024-11-21) - 상태코드: 200\n",
      "✅ f4e3fec9b164dcb0a1289b10e79ef451efe8d04e6d233bd35cf2fabdeb93fb0d (2024-11-21) - 상태코드: 200\n",
      "✅ 45e4576e8a1d3f2a826190526470328d (2024-11-21) - 상태코드: 200\n",
      "✅ 57e6dbdb90197675d80020989b7f4602 (2024-11-21) - 상태코드: 200\n",
      "✅ fb3acbfc29d1ca6e6d9c7e0429d20d9c (2024-11-21) - 상태코드: 200\n"
     ]
    },
    {
     "name": "stderr",
     "output_type": "stream",
     "text": [
      " 40%|████      | 2066/5104 [00:46<01:06, 45.76it/s]"
     ]
    },
    {
     "name": "stdout",
     "output_type": "stream",
     "text": [
      "✅ 518a5a80f39a4e884f3a72e8c4208497 (2024-11-21) - 상태코드: 200\n",
      "✅ 1c085cc4244409642c99f594191f2d96efe8d04e6d233bd35cf2fabdeb93fb0d (2024-11-21) - 상태코드: 200\n",
      "✅ a0e6334a59e8b055de21b3c15609ea49efe8d04e6d233bd35cf2fabdeb93fb0d (2024-11-21) - 상태코드: 200\n",
      "✅ 2c51cb13a92c359f9f5d05bfad0434ba (2024-11-21) - 상태코드: 200\n",
      "✅ 4f7b6a34d6c6dcef7dc640080511eb88 (2024-11-21) - 상태코드: 200\n",
      "✅ cca5fe91053ac3e862f700e605d60b13 (2024-11-21) - 상태코드: 200\n",
      "✅ 47ac6db232a5c1683ee369c727548e67 (2024-11-21) - 상태코드: 200\n",
      "✅ 0183ec6c2e54a15b40ac92fb9ab7bc81efe8d04e6d233bd35cf2fabdeb93fb0d (2024-11-21) - 상태코드: 200\n",
      "✅ 28db9eeffbe4bcc2126db08a4961671a (2024-11-21) - 상태코드: 200\n",
      "✅ 6d874f0f0b8bdab87a7282d5164b5392 (2024-11-21) - 상태코드: 200\n"
     ]
    },
    {
     "name": "stderr",
     "output_type": "stream",
     "text": [
      " 41%|████      | 2074/5104 [00:46<00:55, 54.64it/s]"
     ]
    },
    {
     "name": "stdout",
     "output_type": "stream",
     "text": [
      "✅ 17450708b81f9f3359ae63a9a468a57defe8d04e6d233bd35cf2fabdeb93fb0d (2024-11-21) - 상태코드: 200\n",
      "✅ 13934ac9a8aa854bb025fdfefc1aedacefe8d04e6d233bd35cf2fabdeb93fb0d (2024-11-21) - 상태코드: 200\n",
      "✅ 07af319957d3d6ebc3a25d55f9d0a98eefe8d04e6d233bd35cf2fabdeb93fb0d (2024-11-21) - 상태코드: 200\n",
      "✅ 65b9151594e89c2550fc85ca81c6d841 (2024-11-21) - 상태코드: 200\n",
      "✅ 417047c2bf9bbef41e8b494030f8fd87 (2024-11-21) - 상태코드: 200\n",
      "✅ 1ce44e942ef82de450afa8ddcbd21513e85e07f9d5d276f44440847eec04ba68 (2024-11-21) - 상태코드: 200\n",
      "✅ 9d4ad6c5a2848655113cc430c37c56defd842dab14be2a956555625b37c97bff (2024-11-21) - 상태코드: 200\n",
      "✅ 4bdeef8fdf7653fc4ace2e7eccedae4e (2024-11-21) - 상태코드: 200\n",
      "✅ 513f7d0e3ebc8e3a66131d79e11c04b1efe8d04e6d233bd35cf2fabdeb93fb0d (2024-11-21) - 상태코드: 200\n",
      "✅ 607bfc8c825be4299dc1825d793ffce7efe8d04e6d233bd35cf2fabdeb93fb0d (2024-11-21) - 상태코드: 200\n",
      "✅ e89c7c6babe2b4ab1b8884be9664c3fe (2024-11-21) - 상태코드: 200\n",
      "✅ 89c87a90302bba5c0c32e214e5a59598 (2024-11-21) - 상태코드: 200\n"
     ]
    },
    {
     "name": "stderr",
     "output_type": "stream",
     "text": [
      " 41%|████      | 2086/5104 [00:46<01:05, 46.30it/s]"
     ]
    },
    {
     "name": "stdout",
     "output_type": "stream",
     "text": [
      "✅ 71dee7338e82eb5a92f0bf6fa6255436efe8d04e6d233bd35cf2fabdeb93fb0d (2024-11-21) - 상태코드: 200\n",
      "✅ ac4857b3f0caf5a20cab1ead94a9c651efe8d04e6d233bd35cf2fabdeb93fb0d (2024-11-21) - 상태코드: 200\n",
      "✅ 628064f9636e913c0baa587591009ac6 (2024-11-21) - 상태코드: 200\n",
      "✅ b55b2ce323c8dfe1f70c6d80e136d4efefe8d04e6d233bd35cf2fabdeb93fb0d (2024-11-21) - 상태코드: 200\n",
      "✅ 243cc4be019634c003e44f3b83162ba9 (2024-11-21) - 상태코드: 200\n",
      "✅ 2cf8aa68a625ce72d975c45b48adcf4aefe8d04e6d233bd35cf2fabdeb93fb0d (2024-11-21) - 상태코드: 200\n",
      "✅ a35e0eb5eb5f4507baac9cbfae8ff426efe8d04e6d233bd35cf2fabdeb93fb0d (2024-11-21) - 상태코드: 200\n",
      "✅ f1d1516c36e71a807c38abbd84fe765eefe8d04e6d233bd35cf2fabdeb93fb0d (2024-11-21) - 상태코드: 200\n",
      "✅ ac6056b27b59c932a9ad2016eb7db74befe8d04e6d233bd35cf2fabdeb93fb0d (2024-11-21) - 상태코드: 200\n",
      "✅ a7ae30be9791800519216f303f4bc242 (2024-11-21) - 상태코드: 200\n",
      "✅ f7d153f788bb31a48fac00d05ca5b8e2 (2024-11-21) - 상태코드: 200\n",
      "✅ 33fbd6754431e593e81bb3d59143ade8efe8d04e6d233bd35cf2fabdeb93fb0d (2024-11-21) - 상태코드: 200\n"
     ]
    },
    {
     "name": "stderr",
     "output_type": "stream",
     "text": [
      " 41%|████      | 2099/5104 [00:47<01:00, 49.76it/s]"
     ]
    },
    {
     "name": "stdout",
     "output_type": "stream",
     "text": [
      "✅ d8ec6412ba8d1aa3baf5978db66b0b7fefe8d04e6d233bd35cf2fabdeb93fb0d (2024-11-21) - 상태코드: 200\n",
      "✅ 8eabcdf676e4a85f6975d61127d4d610 (2024-11-21) - 상태코드: 200\n",
      "✅ 8a4f8eab8a5697601391b167da7e743c (2024-11-21) - 상태코드: 200\n",
      "✅ 8b7ed3bc6c8baffa12cdd6e5d0adbe9cefe8d04e6d233bd35cf2fabdeb93fb0d (2024-11-21) - 상태코드: 200\n",
      "✅ 83f90ee08662bf7072342cab798430f63663933da92e7566c55104ec9ac2894d (2024-11-21) - 상태코드: 200\n",
      "✅ a32135b332a78aa191ff53f3142d4256 (2024-11-21) - 상태코드: 200\n",
      "✅ 4cb2ef482f2206e9464146500232954b (2024-11-21) - 상태코드: 200\n",
      "✅ 706776cbc5f5f832b151be51864c383f (2024-11-21) - 상태코드: 200\n",
      "✅ bb2a595185dc1df66fb5642d4cb6d8fe (2024-11-21) - 상태코드: 200\n",
      "✅ 44e51c0508ef66eccfceaf91468dd78a (2024-11-21) - 상태코드: 200\n"
     ]
    },
    {
     "name": "stderr",
     "output_type": "stream",
     "text": [
      " 41%|████      | 2105/5104 [00:47<01:05, 45.69it/s]"
     ]
    },
    {
     "name": "stdout",
     "output_type": "stream",
     "text": [
      "✅ f30eb79dc0d5ff24581178f7dd3660abefe8d04e6d233bd35cf2fabdeb93fb0d (2024-11-21) - 상태코드: 200\n",
      "✅ bfbcc37e329a1dbb21e0ace31256f531 (2024-11-21) - 상태코드: 200\n",
      "✅ 6eaf81660d02c0cec84abe413441185d (2024-11-21) - 상태코드: 200\n",
      "✅ 3c83e96851d68ec43de59f203823505fefe8d04e6d233bd35cf2fabdeb93fb0d (2024-11-21) - 상태코드: 200\n",
      "✅ 7039c698d6ecba5d898495be48861623 (2024-11-21) - 상태코드: 200\n",
      "✅ de88f14845a917ad886d162b0e80ab97 (2024-11-21) - 상태코드: 200\n",
      "✅ 1d3ff485276018dcf8ec89d0cae2d958efe8d04e6d233bd35cf2fabdeb93fb0d (2024-11-21) - 상태코드: 200\n",
      "✅ 4acbee9d13dd1776cb719c4f68260f43 (2024-11-21) - 상태코드: 200\n",
      "✅ d11c9e906b69be6b7d890bbd6c4122d6 (2024-11-21) - 상태코드: 200\n",
      "✅ ea10c7295abc7322f8dc464117e9a9c9efe8d04e6d233bd35cf2fabdeb93fb0d (2024-11-21) - 상태코드: 200\n",
      "✅ be297c02b2743b2e1b7c38df3f9df19b (2024-11-21) - 상태코드: 200\n"
     ]
    },
    {
     "name": "stderr",
     "output_type": "stream",
     "text": [
      " 42%|████▏     | 2119/5104 [00:47<01:00, 49.09it/s]"
     ]
    },
    {
     "name": "stdout",
     "output_type": "stream",
     "text": [
      "✅ f3c5892fdf224c2f7fb7d8be01334616efe8d04e6d233bd35cf2fabdeb93fb0d (2024-11-21) - 상태코드: 200\n",
      "✅ cbc22128462d4dc04bee9ac58ce8f6b4efe8d04e6d233bd35cf2fabdeb93fb0d (2024-11-21) - 상태코드: 200\n",
      "✅ 58b6df954d118b99b6eba85049d9fe7f (2024-11-21) - 상태코드: 200\n",
      "✅ f75af5620bc3dfa5266a25ca35b3828e (2024-11-21) - 상태코드: 200\n",
      "✅ cb1c035d553c3f4c109485da0be2e18d (2024-11-21) - 상태코드: 200\n",
      "✅ 124e97657847abe574fe02a27011d985efe8d04e6d233bd35cf2fabdeb93fb0d (2024-11-21) - 상태코드: 200\n",
      "✅ 5d50176fa95c4c2777f8cfab25791e99 (2024-11-21) - 상태코드: 200\n",
      "✅ 1d205e20b3768b973ab739386bf45221 (2024-11-21) - 상태코드: 200\n",
      "✅ 125b9da1fe0f170700f5ab35fa88fad7 (2024-11-21) - 상태코드: 200\n",
      "✅ 044735ab378a6fb630d690f597e32680 (2024-11-21) - 상태코드: 200\n",
      "✅ d1f762948b6434e1a51c6f03f6ea164b (2024-11-21) - 상태코드: 200\n",
      "✅ 4ef511aa921e2e3e6e057c7c190f671d (2024-11-21) - 상태코드: 200\n"
     ]
    },
    {
     "name": "stderr",
     "output_type": "stream",
     "text": [
      " 42%|████▏     | 2133/5104 [00:47<00:53, 55.41it/s]"
     ]
    },
    {
     "name": "stdout",
     "output_type": "stream",
     "text": [
      "✅ b8f92200c8f90db7c81b555437190dc1 (2024-11-21) - 상태코드: 200\n",
      "✅ 7eab1d00a514fb33f5308c54dbd1984a (2024-11-21) - 상태코드: 200\n",
      "✅ 9bece5c51bd01738235dee387ef0c76aefe8d04e6d233bd35cf2fabdeb93fb0d (2024-11-21) - 상태코드: 200\n",
      "✅ 13517ce3b03cf0d225cba188d339f89d (2024-11-21) - 상태코드: 200\n",
      "✅ d7b3e8296cfdb2efe1c3733608293944 (2024-11-21) - 상태코드: 200\n",
      "✅ 2588c5b885c4e32438bf8f6b64b722d2 (2024-11-21) - 상태코드: 200\n",
      "✅ 22cbe662f126130dcec290b4876c03a0 (2024-11-21) - 상태코드: 200\n",
      "✅ 4e4859bac01f5ac5401dd6dd61a32cbe (2024-11-21) - 상태코드: 200\n",
      "✅ 086f27ce61e74d439eaf2d84ee835d22 (2024-11-21) - 상태코드: 200\n",
      "✅ 07e832f02b659e2d8ffc3ec41296e250efe8d04e6d233bd35cf2fabdeb93fb0d (2024-11-21) - 상태코드: 200\n",
      "✅ afc13e3e6c5326035a2c0209d661ca78 (2024-11-21) - 상태코드: 200\n"
     ]
    },
    {
     "name": "stderr",
     "output_type": "stream",
     "text": [
      " 42%|████▏     | 2145/5104 [00:47<01:01, 48.36it/s]"
     ]
    },
    {
     "name": "stdout",
     "output_type": "stream",
     "text": [
      "✅ 0bf63c31bc6693c1540a47e87e126f98 (2024-11-21) - 상태코드: 200\n",
      "✅ 54ac493c2fe22724c0cb06c144a64275efe8d04e6d233bd35cf2fabdeb93fb0d (2024-11-21) - 상태코드: 200\n",
      "✅ 42f82e26c2b4470c06e2b7c7e069cfa1efe8d04e6d233bd35cf2fabdeb93fb0d (2024-11-21) - 상태코드: 200\n",
      "✅ 89d16afabe5512a6d19d7faf4591a0db (2024-11-21) - 상태코드: 200\n",
      "✅ 3aaa00df5844bdc55cad1986624c3be7efe8d04e6d233bd35cf2fabdeb93fb0d (2024-11-21) - 상태코드: 200\n",
      "✅ beb183e075d75cdae0b97ffe4c3e02ceefe8d04e6d233bd35cf2fabdeb93fb0d (2024-11-21) - 상태코드: 200\n",
      "✅ afe1ecee209a814d003e66f02aa90ba7 (2024-11-21) - 상태코드: 200\n",
      "✅ f6fc240b0f3b41439bfd22a3413be412efe8d04e6d233bd35cf2fabdeb93fb0d (2024-11-21) - 상태코드: 200\n",
      "✅ f734fe787345fdc3a3e2296ca2e91170efe8d04e6d233bd35cf2fabdeb93fb0d (2024-11-21) - 상태코드: 200\n",
      "✅ 43c80a11fe24ec36c45d6c4141d96271 (2024-11-21) - 상태코드: 200\n"
     ]
    },
    {
     "name": "stderr",
     "output_type": "stream",
     "text": [
      " 42%|████▏     | 2150/5104 [00:48<01:02, 47.39it/s]"
     ]
    },
    {
     "name": "stdout",
     "output_type": "stream",
     "text": [
      "✅ 062f16456e427ad94943fdf121da3491 (2024-11-21) - 상태코드: 200\n",
      "✅ fd47a908a0c706ef862655a1fb7fe695a2186d8e7cf7a6ee152d97cc78f2ae8b (2024-11-21) - 상태코드: 200\n",
      "✅ da17490cc23c6935ecd8ab213eed0613a2186d8e7cf7a6ee152d97cc78f2ae8b (2024-11-21) - 상태코드: 200\n",
      "✅ 33cf25def0b2f62779a9452b8dc605c8 (2024-11-21) - 상태코드: 200\n",
      "✅ da557157e9e6ee1492f7b41aa92f69b7efe8d04e6d233bd35cf2fabdeb93fb0d (2024-11-21) - 상태코드: 200\n",
      "✅ 1fcedb9772acb9c3520edaec4af8b39ee85e07f9d5d276f44440847eec04ba68 (2024-11-21) - 상태코드: 200\n",
      "✅ 6f8dbc2f1ff23a2fd3616982e0e6c90eefe8d04e6d233bd35cf2fabdeb93fb0d (2024-11-21) - 상태코드: 200\n",
      "✅ c58412069dc31cc0146afdd705524429 (2024-11-21) - 상태코드: 200\n",
      "✅ 7a7870916dd8d2da249fe5db0aadd915 (2024-11-21) - 상태코드: 200\n",
      "✅ 33c3fb6ec8bb19ffd835d606fffe0246 (2024-11-21) - 상태코드: 200\n",
      "✅ e352d9661cf6efce5665be3ac1daef8d (2024-11-21) - 상태코드: 200\n"
     ]
    },
    {
     "name": "stderr",
     "output_type": "stream",
     "text": [
      " 42%|████▏     | 2162/5104 [00:48<01:04, 45.78it/s]"
     ]
    },
    {
     "name": "stdout",
     "output_type": "stream",
     "text": [
      "✅ a7602c11b724e07a1d75b6420991f158 (2024-11-21) - 상태코드: 200\n",
      "✅ 6d3d78b67727f1cd66b8c927c32cdeb8 (2024-11-21) - 상태코드: 200\n",
      "✅ 79e7ab8fe4ac172de03243f3403d4a46 (2024-11-21) - 상태코드: 200\n",
      "✅ e14187f1b24933253fd566fe3eebceb0efe8d04e6d233bd35cf2fabdeb93fb0d (2024-11-21) - 상태코드: 200\n",
      "✅ ed5ee13b468389ea6890c7fab08b566d (2024-11-21) - 상태코드: 200\n",
      "✅ dad21b1febfb0d34778da615d562f3e7efe8d04e6d233bd35cf2fabdeb93fb0d (2024-11-21) - 상태코드: 200\n",
      "✅ d61fa89d1074146d96916f1247cd347d (2024-11-21) - 상태코드: 200\n",
      "✅ e9626a0c27a5300130a601ca83fabf3f (2024-11-21) - 상태코드: 200\n",
      "✅ 000208be9ccea59917319c24391dc215 (2024-11-21) - 상태코드: 200\n",
      "✅ e140432e14534fe2cba19340c7346d79 (2024-11-21) - 상태코드: 200\n"
     ]
    },
    {
     "name": "stderr",
     "output_type": "stream",
     "text": [
      " 43%|████▎     | 2172/5104 [00:48<01:05, 44.91it/s]"
     ]
    },
    {
     "name": "stdout",
     "output_type": "stream",
     "text": [
      "✅ d57a207f97a111ea7d7e09acc2481a1a (2024-11-21) - 상태코드: 200✅ a80524e1b9f0a4a734525119073560ea (2024-11-21) - 상태코드: 200\n",
      "\n",
      "✅ 749fd7656fa0da1ec9eee05d129a24e9 (2024-11-21) - 상태코드: 200\n",
      "✅ cab50ec80162c1dcbeedfa1bad957da0efe8d04e6d233bd35cf2fabdeb93fb0d (2024-11-21) - 상태코드: 200\n",
      "✅ 05b7c656f8e0cb3e06fad02b9ec2d33e (2024-11-21) - 상태코드: 200\n",
      "✅ a546125a6567f76bda355fb111ab1a29 (2024-11-21) - 상태코드: 200\n",
      "✅ 01c21c1fab12f0ceda9ab04178eab3d0 (2024-11-21) - 상태코드: 200\n",
      "✅ 086c7e98e760bdc20731251d90a40333efe8d04e6d233bd35cf2fabdeb93fb0d (2024-11-21) - 상태코드: 200\n",
      "✅ 91dae7b1a84220b6478ece3a67eb65ac (2024-11-21) - 상태코드: 200\n",
      "✅ 4909250c0ad14d97246c828356d1f659 (2024-11-21) - 상태코드: 200\n",
      "✅ 949332668982d81498ae683612d78c00 (2024-11-21) - 상태코드: 200\n"
     ]
    },
    {
     "name": "stderr",
     "output_type": "stream",
     "text": [
      " 43%|████▎     | 2184/5104 [00:48<00:58, 49.61it/s]"
     ]
    },
    {
     "name": "stdout",
     "output_type": "stream",
     "text": [
      "✅ b651391ba94012d07f19648bcdc555cc (2024-11-21) - 상태코드: 200\n",
      "✅ 9dd98c3333a69c3a6e17e6739840c2ebefe8d04e6d233bd35cf2fabdeb93fb0d (2024-11-21) - 상태코드: 200\n",
      "✅ b6facd19e1308eb1d66c009c3f3889ad (2024-11-21) - 상태코드: 200\n",
      "✅ 73ecbf3269e394a3f722e97b53c72fb7 (2024-11-21) - 상태코드: 200\n",
      "✅ 0155920a06c5a23dacf672a46c6e9c10 (2024-11-21) - 상태코드: 200\n",
      "✅ 69a79ee5543c1d0fe29da4e169e0bcdc (2024-11-21) - 상태코드: 200\n",
      "✅ 9db944cb648dbfa0bebd86e854c9ebeeefe8d04e6d233bd35cf2fabdeb93fb0d (2024-11-21) - 상태코드: 200\n",
      "✅ e232a5f985f59c4f8d13254992e165acefe8d04e6d233bd35cf2fabdeb93fb0d (2024-11-21) - 상태코드: 200\n",
      "✅ 9d1eb4e59abcf837a062b4a851360f0eefe8d04e6d233bd35cf2fabdeb93fb0d (2024-11-21) - 상태코드: 200\n"
     ]
    },
    {
     "name": "stderr",
     "output_type": "stream",
     "text": [
      " 43%|████▎     | 2194/5104 [00:49<01:06, 44.07it/s]"
     ]
    },
    {
     "name": "stdout",
     "output_type": "stream",
     "text": [
      "✅ 569063766792419f9fa7e66d599794f5efe8d04e6d233bd35cf2fabdeb93fb0d (2024-11-21) - 상태코드: 200\n",
      "✅ d6d5b0150d614b29d1881d93d1c01a9fc47ea5ffea2564f587ca830a8f71acb2 (2024-11-21) - 상태코드: 200\n",
      "✅ 2bc563e13e76d8e5504480756fe73516 (2024-11-21) - 상태코드: 200\n",
      "✅ 8a17735b943abcf8f612b8e4c3bceb41efe8d04e6d233bd35cf2fabdeb93fb0d (2024-11-21) - 상태코드: 200\n",
      "✅ f7bf309b6fd22e629826ad726292aad4 (2024-11-21) - 상태코드: 200\n",
      "✅ 661c2af5b554a5b28cc0dc6cce4702ab (2024-11-21) - 상태코드: 200\n",
      "✅ 4fe0212aea0ada386b0eee96db13062befe8d04e6d233bd35cf2fabdeb93fb0d (2024-11-21) - 상태코드: 200\n",
      "✅ fb12f318b0d9f4618f8604ffe0f888fb (2024-11-21) - 상태코드: 200\n",
      "✅ 595e3f205099d0cc0b4f48a6311bba61efe8d04e6d233bd35cf2fabdeb93fb0d (2024-11-21) - 상태코드: 200\n",
      "✅ aa02f2c859c17c676c581f4256e69966 (2024-11-21) - 상태코드: 200\n",
      "✅ a95bb1dac3969c64eccd20f750163a2a (2024-11-21) - 상태코드: 200\n",
      "✅ 4f9627fd0dfbbe737d8aa8ca3c6bf8d7 (2024-11-21) - 상태코드: 200\n",
      "✅ fb9565b9cea4342e8166135956d989af (2024-11-21) - 상태코드: 200\n",
      "✅ 5b56ff5b0c2c32e6f2c29b054e06bd0fefe8d04e6d233bd35cf2fabdeb93fb0d (2024-11-21) - 상태코드: 200\n"
     ]
    },
    {
     "name": "stderr",
     "output_type": "stream",
     "text": [
      " 43%|████▎     | 2207/5104 [00:49<00:59, 48.91it/s]"
     ]
    },
    {
     "name": "stdout",
     "output_type": "stream",
     "text": [
      "✅ 71f0b98d89bc23c202c05265943c6bc5 (2024-11-21) - 상태코드: 200\n",
      "✅ 5a9caeb2090088491eff66ba27911c11 (2024-11-21) - 상태코드: 200\n",
      "✅ cb6a1af44c29bed33d1668c9af14e964efe8d04e6d233bd35cf2fabdeb93fb0d (2024-11-21) - 상태코드: 200\n",
      "✅ f8876c7e64d221313a716acd63c918a5 (2024-11-21) - 상태코드: 200\n",
      "✅ 9b0bfe1bbaa8d8084fdace27568d420f (2024-11-21) - 상태코드: 200\n",
      "✅ 3319030d2d683c47e357b7e11ded870e (2024-11-21) - 상태코드: 200\n",
      "✅ 09fe715758f3f0a4298876d30db06a78 (2024-11-21) - 상태코드: 200\n",
      "✅ bb8599971672667eb989098fa4524c88efe8d04e6d233bd35cf2fabdeb93fb0d (2024-11-21) - 상태코드: 200\n",
      "✅ 078a8d1a09e2ea6f370016dee51c52d0 (2024-11-21) - 상태코드: 200\n",
      "✅ 279067f16ee430c8455007ea5690d2dc (2024-11-21) - 상태코드: 200\n",
      "✅ 8f8cff703afe3336102c4a029a750416 (2024-11-21) - 상태코드: 200\n"
     ]
    },
    {
     "name": "stderr",
     "output_type": "stream",
     "text": [
      " 43%|████▎     | 2218/5104 [00:49<01:04, 44.40it/s]"
     ]
    },
    {
     "name": "stdout",
     "output_type": "stream",
     "text": [
      "✅ ca3fdcb2df3f9fdeb0c0118631640d58 (2024-11-21) - 상태코드: 200\n",
      "✅ 0741328edd7b9990d605a751adecf551 (2024-11-21) - 상태코드: 200\n",
      "✅ d6078a0e72764a97b7c26be52905f53cefe8d04e6d233bd35cf2fabdeb93fb0d (2024-11-21) - 상태코드: 200\n",
      "✅ ddf217188d89c174471891a6b6f59d99efe8d04e6d233bd35cf2fabdeb93fb0d (2024-11-21) - 상태코드: 200\n",
      "✅ 2e544470cd22f7ed241dfa0adcc7ce1b (2024-11-21) - 상태코드: 200\n",
      "✅ de11c2621c2c65803f88c55a413e82edefe8d04e6d233bd35cf2fabdeb93fb0d (2024-11-21) - 상태코드: 200\n",
      "✅ 3d0eb3a674b7a1573e1461955e5a5ae5efe8d04e6d233bd35cf2fabdeb93fb0d (2024-11-21) - 상태코드: 200\n",
      "✅ 21f28a9cfdc51081fb323f008e874e88 (2024-11-21) - 상태코드: 200\n",
      "✅ 9f08774afa676e2907ec2a4cce249576 (2024-11-21) - 상태코드: 200\n",
      "✅ 7e24b6ce24e58138322dbd0136e89666 (2024-11-21) - 상태코드: 200\n",
      "✅ 0cb0698dd005ec642f6cc183508339d0 (2024-11-21) - 상태코드: 200\n"
     ]
    },
    {
     "name": "stderr",
     "output_type": "stream",
     "text": [
      " 44%|████▎     | 2231/5104 [00:49<01:02, 46.09it/s]"
     ]
    },
    {
     "name": "stdout",
     "output_type": "stream",
     "text": [
      "✅ c1b6895b3b693f54062f25776424c8b7 (2024-11-21) - 상태코드: 200\n",
      "✅ 3409df3f5f678bbf3076f251791af207efe8d04e6d233bd35cf2fabdeb93fb0d (2024-11-21) - 상태코드: 200\n",
      "✅ 1e5f72f23ced1cf58753a7576a8ab39cefe8d04e6d233bd35cf2fabdeb93fb0d (2024-11-21) - 상태코드: 200\n",
      "✅ 22b60e52a31722eea52a03a2e22a3562efe8d04e6d233bd35cf2fabdeb93fb0d (2024-11-21) - 상태코드: 200\n",
      "✅ a5a04b39e333907796194fca06402cafefe8d04e6d233bd35cf2fabdeb93fb0d (2024-11-21) - 상태코드: 200\n",
      "✅ 68eedfd0b23ea20eede902ab6f824213efe8d04e6d233bd35cf2fabdeb93fb0d (2024-11-21) - 상태코드: 200\n",
      "✅ 11a0476903f4c67e798b027c683beb5b (2024-11-21) - 상태코드: 200\n",
      "✅ 9aeef4ced3288f15f5db522b4183c3f9 (2024-11-21) - 상태코드: 200\n",
      "✅ 769e173a14c77fb1481869547dbd5b9defe8d04e6d233bd35cf2fabdeb93fb0d (2024-11-21) - 상태코드: 200\n"
     ]
    },
    {
     "name": "stderr",
     "output_type": "stream",
     "text": [
      " 44%|████▍     | 2237/5104 [00:49<01:00, 47.31it/s]"
     ]
    },
    {
     "name": "stdout",
     "output_type": "stream",
     "text": [
      "✅ 9a54921e11117eb71cec9e33572d00efefe8d04e6d233bd35cf2fabdeb93fb0d (2024-11-21) - 상태코드: 200\n",
      "✅ ca79866792d247003783b9bb3d5cc06d (2024-11-21) - 상태코드: 200\n",
      "✅ a97f73b0c4501bb55db37c2f47b8a038 (2024-11-21) - 상태코드: 200\n",
      "✅ f9cc4a44c68c926a091d7c9ab793fb9e (2024-11-21) - 상태코드: 200\n",
      "✅ 917faa7948e7ad9d15c872e760574f76 (2024-11-21) - 상태코드: 200\n",
      "✅ af56e2d5ff0c34b4fa11a322a0404514 (2024-11-21) - 상태코드: 200\n",
      "✅ 922f72e1f844a47114dc7db73fa08d6a (2024-11-21) - 상태코드: 200\n",
      "✅ 2e0cb71481f120daf870ef953d7e0dcdefe8d04e6d233bd35cf2fabdeb93fb0d (2024-11-21) - 상태코드: 200\n",
      "✅ 83e2d5de5d91e75cf347c534feedc677 (2024-11-21) - 상태코드: 200\n",
      "✅ 0dae0e8b99af48a4b83b141d597d184e (2024-11-21) - 상태코드: 200\n"
     ]
    },
    {
     "name": "stderr",
     "output_type": "stream",
     "text": [
      " 44%|████▍     | 2247/5104 [00:50<01:09, 41.08it/s]"
     ]
    },
    {
     "name": "stdout",
     "output_type": "stream",
     "text": [
      "✅ ccb9c5420547136374300d49f970b25a4723574b05820acf03e7ec3162ff5bed (2024-11-21) - 상태코드: 200✅ 94161ac9ec0fad2ff11bcd08ce194c27efe8d04e6d233bd35cf2fabdeb93fb0d (2024-11-21) - 상태코드: 200\n",
      "\n",
      "✅ a63955c13457331aa52bf6f60d3404bfe85e07f9d5d276f44440847eec04ba68 (2024-11-21) - 상태코드: 200\n",
      "✅ e687482501bdc080bafc05e81cb0bca0 (2024-11-21) - 상태코드: 200\n",
      "✅ 5b27a98bde5442d387b3c9fef0e252e4 (2024-11-21) - 상태코드: 200\n",
      "✅ f9e6ee82909139cd54a5e4a5488d8ac2 (2024-11-21) - 상태코드: 200\n",
      "✅ 611ddd9239c26376a34e2ce13daf1117efe8d04e6d233bd35cf2fabdeb93fb0d (2024-11-21) - 상태코드: 200\n",
      "✅ c503e22a4c85e73306ccd152a782bb85 (2024-11-21) - 상태코드: 200\n",
      "✅ e8ba301f60ab98692d2236db5f62b5eb (2024-11-21) - 상태코드: 200\n",
      "✅ 52c44ac4808f9331d2df4f1bc147b2f6efe8d04e6d233bd35cf2fabdeb93fb0d (2024-11-21) - 상태코드: 200\n",
      "✅ e8de19b68e571680c4e6a353296f98ec (2024-11-21) - 상태코드: 200\n"
     ]
    },
    {
     "name": "stderr",
     "output_type": "stream",
     "text": [
      " 44%|████▍     | 2261/5104 [00:50<00:59, 47.73it/s]"
     ]
    },
    {
     "name": "stdout",
     "output_type": "stream",
     "text": [
      "✅ d128d33f9f9a239cd942837993c7be01 (2024-11-21) - 상태코드: 200\n",
      "✅ ac677e9ee50144b79b3941be6860e48defe8d04e6d233bd35cf2fabdeb93fb0d (2024-11-21) - 상태코드: 200\n",
      "✅ 8b05186d82f055390b31c151b13433b7efe8d04e6d233bd35cf2fabdeb93fb0d (2024-11-21) - 상태코드: 200\n",
      "✅ 4c93f25bd172d882c34d4c012dc81f4f (2024-11-21) - 상태코드: 200\n",
      "✅ 4c010fb43dec6b26e7b0f51e687f5551 (2024-11-21) - 상태코드: 200\n",
      "✅ 484d6ac3fa7d3ffe45f7cada776b4c8d (2024-11-21) - 상태코드: 200\n",
      "✅ d64720833af0d462ab89f0b2d22bbdb2 (2024-11-21) - 상태코드: 200\n",
      "✅ d50ebb0bdf1f5ae6456dc558d45fd500efe8d04e6d233bd35cf2fabdeb93fb0d (2024-11-21) - 상태코드: 200\n",
      "✅ 1435f0c2418521498f3ab4d2fa6ab7e1 (2024-11-21) - 상태코드: 200\n"
     ]
    },
    {
     "name": "stderr",
     "output_type": "stream",
     "text": [
      " 44%|████▍     | 2271/5104 [00:50<01:01, 46.41it/s]"
     ]
    },
    {
     "name": "stdout",
     "output_type": "stream",
     "text": [
      "✅ 606eed3e75dd3c2ea9e61356a8601f76 (2024-11-21) - 상태코드: 200\n",
      "✅ 222c64ca4ba72e38f00b8a44500bf1e6 (2024-11-21) - 상태코드: 200\n",
      "✅ 1b28283c121f0efb54a4a1c0e52648de (2024-11-21) - 상태코드: 200\n",
      "✅ e226aa37a8a5648d68e8221fc90216d2 (2024-11-21) - 상태코드: 200\n",
      "✅ 5cbc28e26aee0b5577de2f763ff061ebefe8d04e6d233bd35cf2fabdeb93fb0d (2024-11-21) - 상태코드: 200\n",
      "✅ 369dd4a3037748b67475dda468ffc0e4efe8d04e6d233bd35cf2fabdeb93fb0d (2024-11-21) - 상태코드: 200\n",
      "✅ 1140b43e83968d4212d2c15b5d52f6ee (2024-11-21) - 상태코드: 200\n",
      "✅ 208cc01fd0425f29d2ff777fc349e53c (2024-11-21) - 상태코드: 200\n",
      "✅ b97082f9b444551617c3f8c03fa9f656efe8d04e6d233bd35cf2fabdeb93fb0d (2024-11-21) - 상태코드: 200\n",
      "✅ 84c7f2ea5754c00020294a24ddab1a8d (2024-11-21) - 상태코드: 200\n"
     ]
    },
    {
     "name": "stderr",
     "output_type": "stream",
     "text": [
      " 45%|████▍     | 2276/5104 [00:50<01:05, 43.25it/s]"
     ]
    },
    {
     "name": "stdout",
     "output_type": "stream",
     "text": [
      "✅ aec72053fa4a55515d450bc873634d4c (2024-11-21) - 상태코드: 200\n",
      "✅ e10ad02dfa2e72c14867abccfc26c5c9 (2024-11-21) - 상태코드: 200\n",
      "✅ e60a3bf8f4230460bfe767a731bb4325 (2024-11-21) - 상태코드: 200\n",
      "✅ 7953c80fd7237c3729ac8c3b6ef32113 (2024-11-21) - 상태코드: 200\n",
      "✅ aeb92bbc7a9e744b5d19546e1f7f6571 (2024-11-21) - 상태코드: 200\n",
      "✅ a3f4effaa0b4c0b34f98500914f4f7bd (2024-11-21) - 상태코드: 200\n",
      "✅ 7dae4e3c7432cda35e92a37f7966b2c7 (2024-11-21) - 상태코드: 200\n",
      "✅ 29843ff80a0f243d9105dab8763d2868efe8d04e6d233bd35cf2fabdeb93fb0d (2024-11-21) - 상태코드: 200\n",
      "✅ 583f5a7cc979911e7f7cd57c0f0c515f (2024-11-21) - 상태코드: 200\n",
      "✅ 842eb3d37af78783ad985cbed9262d7fefe8d04e6d233bd35cf2fabdeb93fb0d (2024-11-21) - 상태코드: 200\n"
     ]
    },
    {
     "name": "stderr",
     "output_type": "stream",
     "text": [
      " 45%|████▍     | 2289/5104 [00:51<01:00, 46.23it/s]"
     ]
    },
    {
     "name": "stdout",
     "output_type": "stream",
     "text": [
      "✅ 7b3f46040b1a1e68d0ca97fc231edb41efe8d04e6d233bd35cf2fabdeb93fb0d (2024-11-21) - 상태코드: 200\n",
      "✅ 594d50bef178a32cd3a55c4b8c14ba12 (2024-11-21) - 상태코드: 200\n",
      "✅ d4c900dbe429b7ba387abc475922b6a9 (2024-11-21) - 상태코드: 200\n",
      "✅ dee87b47e6bb1b27829f5852e5d34f4aefe8d04e6d233bd35cf2fabdeb93fb0d (2024-11-21) - 상태코드: 200\n",
      "✅ b4bfd9886db9f78859a06730182a7aa7 (2024-11-21) - 상태코드: 200\n",
      "✅ fcdbf19f67d660ecb92153133a7b2dc6efe8d04e6d233bd35cf2fabdeb93fb0d (2024-11-21) - 상태코드: 200\n",
      "✅ cb9171942ee3ae0fb30f572470f1fb35 (2024-11-21) - 상태코드: 200\n",
      "✅ 7cc3e1413190d5b84ab7011cc17ede7defe8d04e6d233bd35cf2fabdeb93fb0d (2024-11-21) - 상태코드: 200\n",
      "✅ 0dbdfe8aceacb95fc2142960b5a2dfc7 (2024-11-21) - 상태코드: 200\n",
      "✅ a9fc5302c43579c87308929aefb9831f (2024-11-21) - 상태코드: 200\n",
      "✅ 54293d468c7cdc28d8a52c2735987e3e (2024-11-21) - 상태코드: 200\n"
     ]
    },
    {
     "name": "stderr",
     "output_type": "stream",
     "text": [
      " 45%|████▌     | 2300/5104 [00:51<01:00, 46.41it/s]"
     ]
    },
    {
     "name": "stdout",
     "output_type": "stream",
     "text": [
      "✅ cf090fdfadbe2417b3be75b579cdb2f5efe8d04e6d233bd35cf2fabdeb93fb0d (2024-11-21) - 상태코드: 200\n",
      "✅ 3106bb701f607729e94a6e314be81d42efe8d04e6d233bd35cf2fabdeb93fb0d (2024-11-21) - 상태코드: 200\n",
      "✅ d6fde33ffc1b86bd5fdef84d811d1f05efe8d04e6d233bd35cf2fabdeb93fb0d (2024-11-21) - 상태코드: 200\n",
      "✅ 26a0e6a1a4a8a0a827929f06ef7f7161 (2024-11-21) - 상태코드: 200\n",
      "✅ fdb2c25d78c9adb59db0c1299f3fa51c (2024-11-21) - 상태코드: 200\n",
      "✅ 2c24f37729a63a11addb8335d21b1e77 (2024-11-21) - 상태코드: 200\n",
      "✅ ded605e9759ff64b0716a00c9b7364a8efe8d04e6d233bd35cf2fabdeb93fb0d (2024-11-21) - 상태코드: 200\n",
      "✅ fe8d07d681e3de139829beddf6cea54a (2024-11-21) - 상태코드: 200\n",
      "✅ eeecf7d337e7243d7eea7a3d02fb3179efe8d04e6d233bd35cf2fabdeb93fb0d (2024-11-21) - 상태코드: 200\n",
      "✅ 50264441579163a8d4ef74b8ffdad8c4 (2024-11-21) - 상태코드: 200\n",
      "✅ cff16b17e5e22654dc8e6720cb104245efe8d04e6d233bd35cf2fabdeb93fb0d (2024-11-21) - 상태코드: 200\n",
      "✅ fbed6b559f00085f80fbe0d6857aced8 (2024-11-21) - 상태코드: 200\n",
      "✅ 96b94f594f811df1a56f8906646ad1a0 (2024-11-21) - 상태코드: 200\n"
     ]
    },
    {
     "name": "stderr",
     "output_type": "stream",
     "text": [
      " 45%|████▌     | 2311/5104 [00:51<01:01, 45.54it/s]"
     ]
    },
    {
     "name": "stdout",
     "output_type": "stream",
     "text": [
      "✅ 79b7bd0c37ceaa747ab77c16fd2d3affefe8d04e6d233bd35cf2fabdeb93fb0d (2024-11-21) - 상태코드: 200\n",
      "✅ 04d062b0cf66f68b92b4e4866a2e010e (2024-11-21) - 상태코드: 200\n",
      "✅ e42807c706271ca6ab3cee4e234aa014 (2024-11-21) - 상태코드: 200\n",
      "✅ ccf5025e4395933cbd2b2505e4c2cd6befe8d04e6d233bd35cf2fabdeb93fb0d (2024-11-21) - 상태코드: 200\n",
      "✅ ef474c476ad2dcbd0ee328faf47e7818 (2024-11-21) - 상태코드: 200\n",
      "✅ c145c25549dc55e6142e4081b3d797ff (2024-11-21) - 상태코드: 200\n",
      "✅ 29e7a7206766577ca10470e2863c6687efe8d04e6d233bd35cf2fabdeb93fb0d (2024-11-21) - 상태코드: 200\n",
      "✅ d48f17257465d68f51bf25bd301ea393 (2024-11-21) - 상태코드: 200\n",
      "✅ 0a8b7ed01025d8898e3a96447b0b1bc9 (2024-11-21) - 상태코드: 200\n"
     ]
    },
    {
     "name": "stderr",
     "output_type": "stream",
     "text": [
      " 46%|████▌     | 2323/5104 [00:51<00:56, 49.27it/s]"
     ]
    },
    {
     "name": "stdout",
     "output_type": "stream",
     "text": [
      "✅ c7fcb246de5c82fdfc266790bf7d9231 (2024-11-21) - 상태코드: 200\n",
      "✅ f545d8469f27ddd218bde6659f17f6f34723574b05820acf03e7ec3162ff5bed (2024-11-21) - 상태코드: 200\n",
      "✅ f6e29c019442ffc77a8c61b2763b3e31 (2024-11-21) - 상태코드: 200\n",
      "✅ 2d30e1609663ceca7ca5703cbaba502a (2024-11-21) - 상태코드: 200\n",
      "✅ 0e8cb07ed5308313716a9d671ec1ae47 (2024-11-21) - 상태코드: 200\n",
      "✅ 2e087944e865d7e1c53545a57c671573 (2024-11-21) - 상태코드: 200\n",
      "✅ af576eafd68a41c83691e469abf436c5 (2024-11-21) - 상태코드: 200\n",
      "✅ 54409a0836251f2274b71ee61ad619a5efe8d04e6d233bd35cf2fabdeb93fb0d (2024-11-21) - 상태코드: 200\n",
      "✅ 594851240918600483932901044e16acfd842dab14be2a956555625b37c97bff (2024-11-21) - 상태코드: 200\n",
      "✅ 98b43ad4613e0d97f877e32b04b3da5c (2024-11-21) - 상태코드: 200\n",
      "✅ eb1f76ec8d0cf4a3ea16406f6fbbe8c3 (2024-11-21) - 상태코드: 200\n",
      "✅ 4f627a8fab0ab12a186d0007f66b2669 (2024-11-21) - 상태코드: 200\n",
      "✅ afc1ebd63f31e95898f1df395e06862b (2024-11-21) - 상태코드: 200\n"
     ]
    },
    {
     "name": "stderr",
     "output_type": "stream",
     "text": [
      " 46%|████▌     | 2336/5104 [00:52<01:02, 43.99it/s]"
     ]
    },
    {
     "name": "stdout",
     "output_type": "stream",
     "text": [
      "✅ a00068394e40534241fc8a14dd7721a2efe8d04e6d233bd35cf2fabdeb93fb0d (2024-11-21) - 상태코드: 200\n",
      "✅ b3fd272ec373921a00dd95b479f03d53 (2024-11-21) - 상태코드: 200\n",
      "✅ ee23eedfac77641a0fc30ffcc0a3217a (2024-11-21) - 상태코드: 200\n",
      "✅ cee4c7be90ffa4d71f086888e5272a98 (2024-11-21) - 상태코드: 200\n",
      "✅ d1b407deeae4faba86713249301620abefe8d04e6d233bd35cf2fabdeb93fb0d (2024-11-21) - 상태코드: 200\n",
      "✅ 7f67fc46b1cd910a7ebf4d92867fde34 (2024-11-21) - 상태코드: 200\n",
      "✅ e11a80c37297dc8034628a2cba4741cbefe8d04e6d233bd35cf2fabdeb93fb0d (2024-11-21) - 상태코드: 200\n",
      "✅ a30a6c56faa5f49895e54b4bc04be058 (2024-11-21) - 상태코드: 200\n",
      "✅ 2a46ff3a9ad98d3597d7ee195e585b43 (2024-11-21) - 상태코드: 200\n",
      "✅ 3b8ef4201afc050122c5ff04a58361b1 (2024-11-21) - 상태코드: 200\n"
     ]
    },
    {
     "name": "stderr",
     "output_type": "stream",
     "text": [
      " 46%|████▌     | 2343/5104 [00:52<00:55, 50.00it/s]"
     ]
    },
    {
     "name": "stdout",
     "output_type": "stream",
     "text": [
      "✅ 3c112a85118a6fb6d1e44a7a60e308ad (2024-11-21) - 상태코드: 200\n",
      "✅ f875503553ae169cfa2ea8acc92c5506 (2024-11-21) - 상태코드: 200\n",
      "✅ ce4c6a806604a42629b4f64f9b275b44 (2024-11-21) - 상태코드: 200\n",
      "✅ 3ac82f2a0ca58d993d6d30d854dd546cefe8d04e6d233bd35cf2fabdeb93fb0d (2024-11-21) - 상태코드: 200\n",
      "✅ 5b52a370824102a5bf911496f5139d41efe8d04e6d233bd35cf2fabdeb93fb0d (2024-11-21) - 상태코드: 200\n",
      "✅ 5aed587fbfa88a1d5c6a29c2ccf54df0efe8d04e6d233bd35cf2fabdeb93fb0d (2024-11-21) - 상태코드: 200\n",
      "✅ 66584bff8c0cd94a5d5a837fbd63a0dc (2024-11-21) - 상태코드: 200\n",
      "✅ bafef7d436fab2ffff18c9d86dc62e61 (2024-11-21) - 상태코드: 200\n",
      "✅ 611651e51c4dd1d8fd4a6d7893eff297 (2024-11-21) - 상태코드: 200\n",
      "✅ f8ba66be9026f117dc9bb9c71cfb4417 (2024-11-21) - 상태코드: 200\n"
     ]
    },
    {
     "name": "stderr",
     "output_type": "stream",
     "text": [
      " 46%|████▌     | 2354/5104 [00:52<01:06, 41.65it/s]"
     ]
    },
    {
     "name": "stdout",
     "output_type": "stream",
     "text": [
      "✅ fc0e69178dc9b7f8a423ef2de211cd15 (2024-11-21) - 상태코드: 200\n",
      "✅ 76675b691086b4b66898eeee8aefa3f9efe8d04e6d233bd35cf2fabdeb93fb0d (2024-11-21) - 상태코드: 200\n",
      "✅ 7f2f23268f62082a4e565a3e4f3c856b (2024-11-21) - 상태코드: 200\n",
      "✅ 1bc06b87204b6c886da411fbd081b183 (2024-11-21) - 상태코드: 200\n",
      "✅ 0df99bfd191c9ab4a3cb17ea0f396983 (2024-11-21) - 상태코드: 200\n",
      "✅ ed54921f192cb4fdcd3d039093eec8cc (2024-11-21) - 상태코드: 200\n",
      "✅ 1eef0c75da54036322b76c61423a6affefe8d04e6d233bd35cf2fabdeb93fb0d (2024-11-21) - 상태코드: 200\n"
     ]
    },
    {
     "name": "stderr",
     "output_type": "stream",
     "text": [
      " 46%|████▌     | 2360/5104 [00:52<01:07, 40.87it/s]"
     ]
    },
    {
     "name": "stdout",
     "output_type": "stream",
     "text": [
      "✅ d0856074ab180afe613f6036a7cb93d5efe8d04e6d233bd35cf2fabdeb93fb0d (2024-11-21) - 상태코드: 200\n",
      "✅ 2ae9d4052c807eece88cbc4c5ab09246 (2024-11-21) - 상태코드: 200\n",
      "✅ a3cd8105da757642c8f742a7fd302236 (2024-11-21) - 상태코드: 200\n",
      "✅ 3979c56b335a3ba1a46aa03df9b1bfe6 (2024-11-21) - 상태코드: 200\n",
      "✅ 6a4b463c72dce569b23d98afef8fcd05 (2024-11-21) - 상태코드: 200\n",
      "✅ 6cc5c3c0e9e8b41beccdcda2c73f15ec (2024-11-21) - 상태코드: 200\n",
      "✅ c534f454b2ad9432ef63747862021581efe8d04e6d233bd35cf2fabdeb93fb0d (2024-11-21) - 상태코드: 200\n",
      "✅ 4cc6ce9926b50ab077005b3be7271171 (2024-11-21) - 상태코드: 200\n",
      "✅ 4cd4358a18174ade81a26c46af746d3f (2024-11-21) - 상태코드: 200\n"
     ]
    },
    {
     "name": "stderr",
     "output_type": "stream",
     "text": [
      " 46%|████▋     | 2371/5104 [00:52<01:00, 44.88it/s]"
     ]
    },
    {
     "name": "stdout",
     "output_type": "stream",
     "text": [
      "✅ 9cf1bc49585464ced4d1117623407ef5 (2024-11-21) - 상태코드: 200\n",
      "✅ 128b16a889934818ecad68443d33f8f0 (2024-11-21) - 상태코드: 200\n",
      "✅ 78c8235b1a43e7796e556a0904ad9b09 (2024-11-21) - 상태코드: 200\n",
      "✅ d0a50e8ead72d6468c872675afb495feefe8d04e6d233bd35cf2fabdeb93fb0d (2024-11-21) - 상태코드: 200\n",
      "✅ d5409537bfbd08b03e17dc3f52208257 (2024-11-21) - 상태코드: 200\n",
      "✅ 9cfa542fcd5ce5b6f48034b1d63418a0 (2024-11-21) - 상태코드: 200\n",
      "✅ 8e418ac840d290cdcff94d0c22b393f2 (2024-11-21) - 상태코드: 200\n",
      "✅ 514cc55795d14102e6e06877cb5fef6a (2024-11-21) - 상태코드: 200\n",
      "✅ 6677c3fe29666e1eb7fd630e17995186 (2024-11-21) - 상태코드: 200\n",
      "✅ f83d731ab941bb8cb9309650bbca2556efe8d04e6d233bd35cf2fabdeb93fb0d (2024-11-21) - 상태코드: 200\n"
     ]
    },
    {
     "name": "stderr",
     "output_type": "stream",
     "text": [
      " 47%|████▋     | 2383/5104 [00:53<00:56, 48.18it/s]"
     ]
    },
    {
     "name": "stdout",
     "output_type": "stream",
     "text": [
      "✅ 10b358de5a7e17bc2c02f5c25432dc37efe8d04e6d233bd35cf2fabdeb93fb0d (2024-11-21) - 상태코드: 200\n",
      "✅ a65581762b5d6e34bac6c5bf505ab79c (2024-11-21) - 상태코드: 200\n",
      "✅ 2d9eafc741722263c64a25aa674f21c4 (2024-11-21) - 상태코드: 200\n",
      "✅ 330e83a2349a52c860524ad2a853648c (2024-11-21) - 상태코드: 200\n",
      "✅ 24dbdc91d6b2f63be430a40ebdfa1d2e (2024-11-21) - 상태코드: 200\n",
      "✅ 5fae23b0a50206c30cbe3d15b462b589efe8d04e6d233bd35cf2fabdeb93fb0d (2024-11-21) - 상태코드: 200\n",
      "✅ 51dabf2f8718e6b757c4dfae215cbbd2 (2024-11-21) - 상태코드: 200\n",
      "✅ 2d6bbb92c21e0ae183e7c969df0085a5 (2024-11-21) - 상태코드: 200\n",
      "✅ 96fdb3ef9d3e17227700c25a56e592b2 (2024-11-21) - 상태코드: 200\n",
      "✅ 9a269c49588c1a45c5b382895206a293 (2024-11-21) - 상태코드: 200\n"
     ]
    },
    {
     "name": "stderr",
     "output_type": "stream",
     "text": [
      " 47%|████▋     | 2388/5104 [00:53<01:00, 45.17it/s]"
     ]
    },
    {
     "name": "stdout",
     "output_type": "stream",
     "text": [
      "✅ f02dbeb0b14c3143a5ba532ca30fc43fefe8d04e6d233bd35cf2fabdeb93fb0d (2024-11-21) - 상태코드: 200\n",
      "✅ 0f2934b74a1e901e3c4c3cb8338740ed (2024-11-21) - 상태코드: 200\n",
      "✅ af5deee5f0d367ba389960803ab52983 (2024-11-21) - 상태코드: 200\n",
      "✅ 728fa75237873734e013c5f128872a7b (2024-11-21) - 상태코드: 200\n",
      "✅ 3b2166fca378cbd08edaf70c9b49b585 (2024-11-21) - 상태코드: 200\n",
      "✅ 90da96cdb2989da5837a1e2f0192eff4 (2024-11-21) - 상태코드: 200\n",
      "✅ 84d5cd478dd3c1e583d94a7bf63721b2efe8d04e6d233bd35cf2fabdeb93fb0d (2024-11-21) - 상태코드: 200\n",
      "✅ 3e856e0b915cb62838958909c60e59d5efe8d04e6d233bd35cf2fabdeb93fb0d (2024-11-21) - 상태코드: 200\n",
      "✅ d681a590b51294681b60695bde93e2dd (2024-11-21) - 상태코드: 200\n",
      "✅ 023e363b5eb4997ade40e4f971cc72ad (2024-11-21) - 상태코드: 200\n"
     ]
    },
    {
     "name": "stderr",
     "output_type": "stream",
     "text": [
      " 47%|████▋     | 2400/5104 [00:53<00:59, 45.43it/s]"
     ]
    },
    {
     "name": "stdout",
     "output_type": "stream",
     "text": [
      "✅ 315bde624cd11939bdbbabd4106fbe4f (2024-11-28) - 상태코드: 200\n",
      "✅ d89293632bd02624ab8282e83d3dbe0b (2024-11-21) - 상태코드: 200\n",
      "✅ d37cb3d684b59f0b83d39f995ac976a8 (2024-11-28) - 상태코드: 200\n",
      "✅ f587802da624bef47fd854e57e966a56 (2024-11-28) - 상태코드: 200\n",
      "✅ 8b889a842cba89340b26c204f7947339 (2024-11-28) - 상태코드: 200\n",
      "✅ 35bcb9bb8f99730694402de12e5370d8 (2024-11-28) - 상태코드: 200\n",
      "✅ 840aace215858c8fdcfaf4d10fc82c63 (2024-11-28) - 상태코드: 200\n",
      "✅ e6e113953ef027f2fb48ff4069de46ba (2024-11-28) - 상태코드: 200\n",
      "✅ 07125dc57dc880c1680bd113aed4c22c (2024-11-28) - 상태코드: 200\n",
      "✅ 846ebaffa0ae88048d4c77527dea22ea (2024-11-28) - 상태코드: 200\n"
     ]
    },
    {
     "name": "stderr",
     "output_type": "stream",
     "text": [
      " 47%|████▋     | 2411/5104 [00:53<01:04, 41.57it/s]"
     ]
    },
    {
     "name": "stdout",
     "output_type": "stream",
     "text": [
      "✅ c4b17965f2df4f409790c0c93f86deac (2024-11-28) - 상태코드: 200\n",
      "✅ 1cb932bf646448a60b2bd65705b97d75 (2024-11-28) - 상태코드: 200\n",
      "✅ 084e19671a32a177b8ef654ede91290aefe8d04e6d233bd35cf2fabdeb93fb0d (2024-11-28) - 상태코드: 200\n",
      "✅ ed80b85df62bbfc2eed437ab44d09ce4efe8d04e6d233bd35cf2fabdeb93fb0d (2024-11-28) - 상태코드: 200\n",
      "✅ 62564ba101d15043f44b1a088073f2bb (2024-11-28) - 상태코드: 200\n",
      "✅ 9f4592a622221a1025be4bfc07eefa30 (2024-11-28) - 상태코드: 200\n",
      "✅ 991f8e71da1217400748eed40b8bdf23efe8d04e6d233bd35cf2fabdeb93fb0d (2024-11-28) - 상태코드: 200\n",
      "✅ 0cc84eb9d9949d1c9e2b03abb7cac95a (2024-11-28) - 상태코드: 200\n",
      "✅ 5148cedd3785c3183da75e0d5df2d12a (2024-11-28) - 상태코드: 200\n"
     ]
    },
    {
     "name": "stderr",
     "output_type": "stream",
     "text": [
      " 47%|████▋     | 2421/5104 [00:54<01:02, 42.75it/s]"
     ]
    },
    {
     "name": "stdout",
     "output_type": "stream",
     "text": [
      "✅ 4214294da9f54acb6d378e3daeb3c1a6efe8d04e6d233bd35cf2fabdeb93fb0d (2024-11-28) - 상태코드: 200\n",
      "✅ 88597f5e46703c1926541d6319ef4dddefe8d04e6d233bd35cf2fabdeb93fb0d (2024-11-28) - 상태코드: 200\n",
      "✅ f30833a0ea7120fcff2f28363dc377d4 (2024-11-28) - 상태코드: 200\n",
      "✅ 7405c8fde61d4e4851cd1aa898d8d5b8 (2024-11-28) - 상태코드: 200\n",
      "✅ 3327ccbd3400f6e634f96f2a8fcd162defe8d04e6d233bd35cf2fabdeb93fb0d (2024-11-28) - 상태코드: 200\n",
      "✅ 0f4a79cb1ed13e2573af5b7d2978a27eefe8d04e6d233bd35cf2fabdeb93fb0d (2024-11-28) - 상태코드: 200\n",
      "✅ 65029a6e80bf3f6fd7c988c793a3a364efe8d04e6d233bd35cf2fabdeb93fb0d (2024-11-28) - 상태코드: 200\n",
      "✅ 43fca03dc8e40a8243d985bf274439e9 (2024-11-28) - 상태코드: 200\n",
      "✅ 0ac8f15307f1156b8c77e475666cc360efe8d04e6d233bd35cf2fabdeb93fb0d (2024-11-28) - 상태코드: 200\n",
      "✅ 35f159d610eb5071f1791a2d04fa64ab (2024-11-28) - 상태코드: 200\n",
      "✅ 24cbbe59b7b772e1748abfa6a0ced4edefe8d04e6d233bd35cf2fabdeb93fb0d (2024-11-28) - 상태코드: 200\n"
     ]
    },
    {
     "name": "stderr",
     "output_type": "stream",
     "text": [
      " 48%|████▊     | 2432/5104 [00:54<00:59, 45.26it/s]"
     ]
    },
    {
     "name": "stdout",
     "output_type": "stream",
     "text": [
      "✅ eebc6c0399ee9028f2498389657a8b31 (2024-11-28) - 상태코드: 200\n",
      "✅ d9bf32913f42dfc6538b0069cdad9e7d (2024-11-28) - 상태코드: 200\n",
      "✅ a4b8f6024991432026cb303134f5c357efe8d04e6d233bd35cf2fabdeb93fb0d (2024-11-28) - 상태코드: 200\n",
      "✅ 544967ea6d2a03c98412d6310e4bb376 (2024-11-28) - 상태코드: 200\n",
      "✅ f2ca9ad4bcf6c8ed461198fe230e0f49 (2024-11-28) - 상태코드: 200\n",
      "✅ 9616f13af5cf066b069ef2ad9f56e172 (2024-11-28) - 상태코드: 200\n",
      "✅ 84fc166182781803e2e91c1d2a27d073 (2024-11-28) - 상태코드: 200\n",
      "✅ 957326ed0c296147b09f97b3c73b6d1f (2024-11-28) - 상태코드: 200\n",
      "✅ cee6e098b6e3c180d824889a190fde53 (2024-11-28) - 상태코드: 200\n",
      "✅ 50de792bb81a3c56b517e2da8216cff4 (2024-11-28) - 상태코드: 200\n",
      "✅ dde48f2b4ebaef2a8c5a216e45ad9e66efe8d04e6d233bd35cf2fabdeb93fb0d (2024-11-28) - 상태코드: 200\n",
      "✅ 662b6f7f709012f926009781fe634c04 (2024-11-28) - 상태코드: 200\n"
     ]
    },
    {
     "name": "stderr",
     "output_type": "stream",
     "text": [
      " 48%|████▊     | 2446/5104 [00:54<00:53, 50.12it/s]"
     ]
    },
    {
     "name": "stdout",
     "output_type": "stream",
     "text": [
      "✅ 78f0a8651d792af6a2a5a12d1b3084a4 (2024-11-28) - 상태코드: 200\n",
      "✅ b8eeaaf0ab18a8ba7fe4bc2d35e1a767 (2024-11-28) - 상태코드: 200\n",
      "✅ 6d8f47b3415edf4e4e8ee598dc6b6543efe8d04e6d233bd35cf2fabdeb93fb0d (2024-11-28) - 상태코드: 200\n",
      "✅ fcb7bbc1cd232187b2ba06fea9b2aba0 (2024-11-28) - 상태코드: 200\n",
      "✅ 7b032e9b69170a45628bf792294f9d6b (2024-11-28) - 상태코드: 200\n",
      "✅ fd2b027fa09301f52f2c7a43f0743d73 (2024-11-28) - 상태코드: 200\n",
      "✅ be5618a9953d6ab9b65213fcb34f030c (2024-11-28) - 상태코드: 200\n",
      "✅ 4c128f1ea35e4df78a5ab164fdb9862b (2024-11-28) - 상태코드: 200\n",
      "✅ dede9bfb8821627aead08daf39947329 (2024-11-28) - 상태코드: 200\n",
      "✅ 5c70e547dae05b2edd45dc8cf5de8f35efe8d04e6d233bd35cf2fabdeb93fb0d (2024-11-28) - 상태코드: 200\n",
      "✅ b7b6b8c43d82d5e2fa014c0b38a13669efe8d04e6d233bd35cf2fabdeb93fb0d (2024-11-28) - 상태코드: 200\n"
     ]
    },
    {
     "name": "stderr",
     "output_type": "stream",
     "text": [
      " 48%|████▊     | 2452/5104 [00:54<00:57, 46.02it/s]"
     ]
    },
    {
     "name": "stdout",
     "output_type": "stream",
     "text": [
      "✅ 464b01f2331a8bbdd2013401a88ac759 (2024-11-28) - 상태코드: 200\n",
      "✅ dc6a53d17c14a66bfa3a08cceede5b04 (2024-11-28) - 상태코드: 200\n",
      "✅ b5b7a4a68c8b4a13b50115626906db2a (2024-11-28) - 상태코드: 200\n",
      "✅ ef81e21ae9917c9d71131baae2da79ef (2024-11-28) - 상태코드: 200\n",
      "✅ 0f3c65faf6935e6d2732ac54aa1a97d3efe8d04e6d233bd35cf2fabdeb93fb0d (2024-11-28) - 상태코드: 200\n",
      "✅ 41f44e5c705c0fe25dae002c490851a7 (2024-11-28) - 상태코드: 200\n",
      "✅ 7d321f1e07eec15fca486d176e879784 (2024-11-28) - 상태코드: 200\n",
      "✅ 1567d6e45f2cb70cc8af150eca5066d1 (2024-11-28) - 상태코드: 200\n",
      "✅ f5d60b7d5231dcc55301d26c32b15e6d (2024-11-28) - 상태코드: 200\n",
      "✅ a535409b5e853723cc0c0ace464df4b7 (2024-11-28) - 상태코드: 200\n"
     ]
    },
    {
     "name": "stderr",
     "output_type": "stream",
     "text": [
      " 48%|████▊     | 2465/5104 [00:54<00:52, 49.87it/s]"
     ]
    },
    {
     "name": "stdout",
     "output_type": "stream",
     "text": [
      "✅ 3f3584be991a1d81836a8f883ff9275f (2024-11-28) - 상태코드: 200\n",
      "✅ ba6c684d1906c09620115f3c73816e7aefe8d04e6d233bd35cf2fabdeb93fb0d (2024-11-28) - 상태코드: 200\n",
      "✅ 05e6a935f12c16acb491dedfe5c0e471 (2024-11-28) - 상태코드: 200\n",
      "✅ 49e4325f0f40f8ff4def448e1f108629 (2024-11-28) - 상태코드: 200\n",
      "✅ 3f29f098e90667844bfdbc9d41126054 (2024-11-28) - 상태코드: 200\n",
      "✅ ecc1a48253da2b2bff3ad8db608b667aaae77432709819edb959e1fd5d1d77b4 (2024-11-28) - 상태코드: 200\n",
      "✅ c811b6e48d017f5aecde4d9892f5944c (2024-11-28) - 상태코드: 200\n",
      "✅ f305364080f4da8ea3bc8cfa8b113d6f (2024-11-28) - 상태코드: 200\n",
      "✅ 63c494832433cc05850f7f86723946e7 (2024-11-28) - 상태코드: 200\n"
     ]
    },
    {
     "name": "stderr",
     "output_type": "stream",
     "text": [
      " 48%|████▊     | 2471/5104 [00:55<00:56, 47.00it/s]"
     ]
    },
    {
     "name": "stdout",
     "output_type": "stream",
     "text": [
      "✅ aca3c5de80180ea82659bf649e810fa4 (2024-11-28) - 상태코드: 200\n",
      "✅ 3f5a6bdaacacba0e32806130c0fd0fe0efe8d04e6d233bd35cf2fabdeb93fb0d (2024-11-28) - 상태코드: 200\n",
      "✅ af7df64ff10600cd3f87ebf9f384b6d3efe8d04e6d233bd35cf2fabdeb93fb0d (2024-11-28) - 상태코드: 200\n",
      "✅ 328dd4530671a706e9b1223e112cc5bb (2024-11-28) - 상태코드: 200\n",
      "✅ 31a37325ef6211e8d0cd69bac4ec3663 (2024-11-28) - 상태코드: 200\n",
      "✅ ea813078a8dcf6d78aecaacba6b25389 (2024-11-28) - 상태코드: 200\n",
      "✅ 13749b48f16283d992ff7c7eb9c56c7b (2024-11-28) - 상태코드: 200\n",
      "✅ 8ffe7968b03a12f9a6f0687473ac675e (2024-11-28) - 상태코드: 200\n",
      "✅ 3d9a94d775603949b0ae473c50a3f4b5a2186d8e7cf7a6ee152d97cc78f2ae8b (2024-11-28) - 상태코드: 200\n",
      "✅ 0c6ef24cf746aad8d777da39eb07518d (2024-11-28) - 상태코드: 200\n"
     ]
    },
    {
     "name": "stderr",
     "output_type": "stream",
     "text": [
      " 49%|████▊     | 2483/5104 [00:55<00:53, 48.56it/s]"
     ]
    },
    {
     "name": "stdout",
     "output_type": "stream",
     "text": [
      "✅ 0a703636d6ef26bf9635e788a1126201 (2024-11-28) - 상태코드: 200\n",
      "✅ a2ba44fa515118049bf199c4e695b944 (2024-11-28) - 상태코드: 200\n",
      "✅ 1f5c724e43727dda5d0eec864328ac1e (2024-11-28) - 상태코드: 200\n",
      "✅ 77314e0aad5ab3ccb6ac4fb18b0e3283 (2024-11-28) - 상태코드: 200\n",
      "✅ 010b677091933dadb2fa6baa3307695f (2024-11-28) - 상태코드: 200\n",
      "✅ a027d4055833fc2fe9b195701e517beeefe8d04e6d233bd35cf2fabdeb93fb0d (2024-11-28) - 상태코드: 200\n",
      "✅ 369d45ae3de0351423a2a203fb58e4e9 (2024-11-28) - 상태코드: 200\n",
      "✅ 73dad618d4a97848b158de7b96d49a85efe8d04e6d233bd35cf2fabdeb93fb0d (2024-11-28) - 상태코드: 200\n",
      "✅ 3b5e23900beda889be4f7aedeeb96c38 (2024-11-28) - 상태코드: 200\n",
      "✅ 3a9ec45faba6579dd8dd0e80becd3730 (2024-11-28) - 상태코드: 200\n"
     ]
    },
    {
     "name": "stderr",
     "output_type": "stream",
     "text": [
      " 49%|████▉     | 2495/5104 [00:55<00:57, 45.20it/s]"
     ]
    },
    {
     "name": "stdout",
     "output_type": "stream",
     "text": [
      "✅ dcc1d93650d77e05a55118a76b6525cc (2024-11-28) - 상태코드: 200\n",
      "✅ 22c457f261120f0b2322ca3400956eb8 (2024-11-28) - 상태코드: 200\n",
      "✅ 9203b0f6bd8942322c1b6be7a3be0cf0 (2024-11-28) - 상태코드: 200\n",
      "✅ cf9f4d3d65107f68451d969c2bc7dbf4fd842dab14be2a956555625b37c97bff (2024-11-28) - 상태코드: 200\n",
      "✅ 6688072ee3c6c0a4532e87cf6dad2427efe8d04e6d233bd35cf2fabdeb93fb0d (2024-11-28) - 상태코드: 200\n",
      "✅ 11609c5b832b4388085b6cb2d5968b14 (2024-11-28) - 상태코드: 200\n",
      "✅ e44e7db2921405d9003d3364e63f1746 (2024-11-28) - 상태코드: 200\n",
      "✅ 535152a04a7870d08ae7ace401160158efe8d04e6d233bd35cf2fabdeb93fb0d (2024-11-28) - 상태코드: 200\n",
      "✅ 1070dee2f062d40506e910d817d606ab (2024-11-28) - 상태코드: 200\n",
      "✅ 973f491c7ed163d63046ba5349711b92efe8d04e6d233bd35cf2fabdeb93fb0d (2024-11-28) - 상태코드: 200\n"
     ]
    },
    {
     "name": "stderr",
     "output_type": "stream",
     "text": [
      " 49%|████▉     | 2502/5104 [00:55<00:51, 50.35it/s]"
     ]
    },
    {
     "name": "stdout",
     "output_type": "stream",
     "text": [
      "✅ a9cec2bc8318d1a1ac42f48109e68812 (2024-11-28) - 상태코드: 200\n",
      "✅ bc8b3f38804a056537d5e49a2e9b1f19efe8d04e6d233bd35cf2fabdeb93fb0d (2024-11-28) - 상태코드: 200\n",
      "✅ 59f1328667941b7fafc225f37e4df815efe8d04e6d233bd35cf2fabdeb93fb0d (2024-11-28) - 상태코드: 200\n",
      "✅ 332647b12ccd24dc79b91d01adb6ec15 (2024-11-28) - 상태코드: 200\n",
      "✅ 7098187b25417dbd097d65d40b67a4f3efe8d04e6d233bd35cf2fabdeb93fb0d (2024-11-28) - 상태코드: 200\n",
      "✅ 87350a8f95428f9cff49732f15664023 (2024-11-28) - 상태코드: 200\n",
      "✅ 060c7ca126980b92a4649a80c98f0b7fefe8d04e6d233bd35cf2fabdeb93fb0d (2024-11-28) - 상태코드: 200\n",
      "✅ 0d0661deef2df38692ed62e1ec7f398aefe8d04e6d233bd35cf2fabdeb93fb0d (2024-11-28) - 상태코드: 200\n",
      "✅ cafac8881759a290856a43248a0056ad (2024-11-28) - 상태코드: 200\n",
      "✅ 641aecbd58467d730a4250fb4c7fe048 (2024-11-28) - 상태코드: 200\n",
      "✅ efb85e81bacbebb593c3b6fde6812812 (2024-11-28) - 상태코드: 200\n",
      "✅ d8e4494e64b1989c5e6e878d7b9c4c1c (2024-11-28) - 상태코드: 200\n"
     ]
    },
    {
     "name": "stderr",
     "output_type": "stream",
     "text": [
      " 49%|████▉     | 2514/5104 [00:55<00:55, 46.89it/s]"
     ]
    },
    {
     "name": "stdout",
     "output_type": "stream",
     "text": [
      "✅ 293bb7909da76fbd844ed73fdcb5c521 (2024-11-28) - 상태코드: 200\n",
      "✅ 2deca90bef4ee05c224ab8d42f8f981a (2024-11-28) - 상태코드: 200\n",
      "✅ f2b1ba5702daced85f09f26b20cef03a (2024-11-28) - 상태코드: 200\n",
      "✅ 3be64b55b09fb9c79b911554cd2a482f (2024-11-28) - 상태코드: 200\n",
      "✅ 390721d44b78fabef49d6d8aa96944b0 (2024-11-28) - 상태코드: 200\n",
      "✅ 293fa6410432652e7444a004ef61dd0fefe8d04e6d233bd35cf2fabdeb93fb0d (2024-11-28) - 상태코드: 200\n",
      "✅ 40d94d313b4c225242e3e3bd800f012befe8d04e6d233bd35cf2fabdeb93fb0d (2024-11-28) - 상태코드: 200\n",
      "✅ fbbdc66515cc54d71d4fc0061ccf99c1 (2024-11-28) - 상태코드: 200\n",
      "✅ 361d1a995d2064f8a1a68141487791a0 (2024-11-28) - 상태코드: 200\n",
      "✅ 7e4866d1837829b5e3580601644ac602 (2024-11-28) - 상태코드: 200\n",
      "✅ 67115e5fff65c431ab08113d80a32ee1 (2024-11-28) - 상태코드: 200\n"
     ]
    },
    {
     "name": "stderr",
     "output_type": "stream",
     "text": [
      " 50%|████▉     | 2527/5104 [00:56<00:48, 53.27it/s]"
     ]
    },
    {
     "name": "stdout",
     "output_type": "stream",
     "text": [
      "✅ 23eb469a95de1a33fbffc2a2d551e6f5 (2024-11-28) - 상태코드: 200\n",
      "✅ d9ebe4a14ad6576ef32ee4ef827c65d2efe8d04e6d233bd35cf2fabdeb93fb0d (2024-11-28) - 상태코드: 200\n",
      "✅ 44dca63209cabe08f940dc1d6443d4a0 (2024-11-28) - 상태코드: 200\n",
      "✅ a076d8d46421881812ee977f96c66793efe8d04e6d233bd35cf2fabdeb93fb0d (2024-11-28) - 상태코드: 200\n",
      "✅ fb4086a2535eec99516a0fd3b11a4d28efe8d04e6d233bd35cf2fabdeb93fb0d (2024-11-28) - 상태코드: 200\n",
      "✅ fbd18705be67d58f3528061cc88f2cab (2024-11-28) - 상태코드: 200\n",
      "✅ 5dd5b26d547f1ceb68b61dc1965b07b4 (2024-11-28) - 상태코드: 200\n",
      "✅ cfbfc290e30faa09794cacaa8ad8f140 (2024-11-28) - 상태코드: 200\n",
      "✅ 3221c42fc8c8d169970dd604b9359660 (2024-11-28) - 상태코드: 200\n",
      "✅ 2358b23b1a631c006c114221f2f6fe0e (2024-11-28) - 상태코드: 200\n",
      "✅ 35e0dbcb059df9d115070ddc70bd6f49 (2024-11-28) - 상태코드: 200\n"
     ]
    },
    {
     "name": "stderr",
     "output_type": "stream",
     "text": [
      " 50%|████▉     | 2533/5104 [00:56<00:52, 49.36it/s]"
     ]
    },
    {
     "name": "stdout",
     "output_type": "stream",
     "text": [
      "✅ 8552de4485df206c8d632fc38fb94dae (2024-11-28) - 상태코드: 200\n",
      "✅ b9ab5a6a0680147bf9b53bce96aa7043 (2024-11-28) - 상태코드: 200\n",
      "✅ cf98e709f848d3cef643323df0c47fd9 (2024-11-28) - 상태코드: 200\n",
      "✅ 30a99458d26f47be9e818b459b4a4589efe8d04e6d233bd35cf2fabdeb93fb0d (2024-11-28) - 상태코드: 200\n",
      "✅ 14746bc6f131a7c725fae907fc908bb3 (2024-11-28) - 상태코드: 200\n",
      "✅ d37b5913d6882713cb6627aed76e713e (2024-11-28) - 상태코드: 200\n",
      "✅ f7f2ba5ec97943e468b94c72d5e687a8 (2024-11-28) - 상태코드: 200\n",
      "✅ e52e431c74277449d73f798ebc3ec3cbefe8d04e6d233bd35cf2fabdeb93fb0d (2024-11-28) - 상태코드: 200\n",
      "✅ eab2c0204d218009acca3d27f04c1301 (2024-11-28) - 상태코드: 200\n",
      "✅ 45866ea852d85f2cfeafe3a810466eb9 (2024-11-28) - 상태코드: 200\n"
     ]
    },
    {
     "name": "stderr",
     "output_type": "stream",
     "text": [
      " 50%|████▉     | 2548/5104 [00:56<00:46, 55.52it/s]"
     ]
    },
    {
     "name": "stdout",
     "output_type": "stream",
     "text": [
      "✅ c566e739708e671f9e0b91fbf053210aefe8d04e6d233bd35cf2fabdeb93fb0d (2024-11-28) - 상태코드: 200\n",
      "✅ 71d241a81031f190732434224f1e97d6 (2024-11-28) - 상태코드: 200\n",
      "✅ 7ce7b4382cb6f9a0af8295ec94b82a93 (2024-11-28) - 상태코드: 200\n",
      "✅ 7969110f097cbb90c94d186b0e152d2d (2024-11-28) - 상태코드: 200\n",
      "✅ 2172f0fa63e98d078558490328da113defe8d04e6d233bd35cf2fabdeb93fb0d (2024-11-28) - 상태코드: 200\n",
      "✅ 3566b66655df88f014a4baffb7588a18 (2024-11-28) - 상태코드: 200\n",
      "✅ b6c71680414d49fc2caa0fc7eb96731fefe8d04e6d233bd35cf2fabdeb93fb0d (2024-11-28) - 상태코드: 200\n",
      "✅ 33a9a8a63930863bcd1b01d3740b1345 (2024-11-28) - 상태코드: 200\n",
      "✅ 42d526a3e6f81e4dc8be27ee1f42cba6 (2024-11-28) - 상태코드: 200\n",
      "✅ ee5f641bc5d21be86fe2f326067b4dd2fd842dab14be2a956555625b37c97bff (2024-11-28) - 상태코드: 200\n",
      "✅ 67f2a8d4dde9185dd68bf25cd6f52c05efe8d04e6d233bd35cf2fabdeb93fb0d (2024-11-28) - 상태코드: 200\n",
      "✅ 4e261126889c6bed3cc963fa67411990 (2024-11-28) - 상태코드: 200\n"
     ]
    },
    {
     "name": "stderr",
     "output_type": "stream",
     "text": [
      " 50%|█████     | 2560/5104 [00:56<00:50, 50.19it/s]"
     ]
    },
    {
     "name": "stdout",
     "output_type": "stream",
     "text": [
      "✅ 69f5080323bbd70593f64349947d313f6fbb98200a15be5bcc73a64995849e9c (2024-11-28) - 상태코드: 200\n",
      "✅ 78f3255b6e0c250b43e61d44a166171f (2024-11-28) - 상태코드: 200\n",
      "✅ 863c363e4d760cb4fb4fff0f309aa48b6fbb98200a15be5bcc73a64995849e9c (2024-11-28) - 상태코드: 200\n",
      "✅ bd0510d90a597c5fce45168a57dfcee5 (2024-11-28) - 상태코드: 200\n",
      "✅ 00f0247829e58edec8641622bc418451 (2024-11-28) - 상태코드: 200\n",
      "✅ c4cd4a4a0dc06fdd852beb2bd19d2cec (2024-11-28) - 상태코드: 200\n",
      "✅ 1d10326a79d397dad7b5d00faa23211b (2024-11-28) - 상태코드: 200\n",
      "✅ e3a3404477afa12cd46a1722a18b2d62 (2024-11-28) - 상태코드: 200\n",
      "✅ 9a58999832c6a605821541888de6d69e (2024-11-28) - 상태코드: 200\n",
      "✅ c066c19351562b2e691545fde8de0bd4 (2024-11-28) - 상태코드: 200\n",
      "✅ 9265d5c0f0a029e3e9a28edcdafacb0f (2024-11-28) - 상태코드: 200\n",
      "✅ c765a492026cb17f3fa61b4526d7121a (2024-11-28) - 상태코드: 200\n"
     ]
    },
    {
     "name": "stderr",
     "output_type": "stream",
     "text": [
      " 50%|█████     | 2572/5104 [00:57<00:55, 46.03it/s]"
     ]
    },
    {
     "name": "stdout",
     "output_type": "stream",
     "text": [
      "✅ 7f0ef9ea4b05d1d934eda4284aa578a9 (2024-11-28) - 상태코드: 200\n",
      "✅ 4696d4c9ed983e0b631f85db9b846ca3efe8d04e6d233bd35cf2fabdeb93fb0d (2024-11-28) - 상태코드: 200\n",
      "✅ 9dcb38a48e8f0dd058f535e3c1ce2c23 (2024-11-28) - 상태코드: 200\n",
      "✅ ff3de06ab1c5959deeca1a5c854955e2efe8d04e6d233bd35cf2fabdeb93fb0d (2024-11-28) - 상태코드: 200\n",
      "✅ 68c698e7d765bb3c73e390760751e036efe8d04e6d233bd35cf2fabdeb93fb0d (2024-11-28) - 상태코드: 200\n",
      "✅ adec6db8f6769d50dc21317084ca1832 (2024-11-28) - 상태코드: 200\n",
      "✅ a4b2853096dbb6b8dd90c9048b40a8a3efe8d04e6d233bd35cf2fabdeb93fb0d (2024-11-28) - 상태코드: 200\n",
      "✅ fea5b699f450a24087981e9ec7067b36 (2024-11-28) - 상태코드: 200\n",
      "✅ 5d06988c55830e11ef9b103162dd1631efe8d04e6d233bd35cf2fabdeb93fb0d (2024-11-28) - 상태코드: 200\n",
      "✅ d962c1fa2fa5cea46a84796cc7172dd4efe8d04e6d233bd35cf2fabdeb93fb0d (2024-11-28) - 상태코드: 200\n",
      "✅ 00ff9cf9e4e55f80c30c4036eec9a5b7 (2024-11-28) - 상태코드: 200\n"
     ]
    },
    {
     "name": "stderr",
     "output_type": "stream",
     "text": [
      " 51%|█████     | 2583/5104 [00:57<00:52, 48.26it/s]"
     ]
    },
    {
     "name": "stdout",
     "output_type": "stream",
     "text": [
      "✅ 1d9a9df9a85d733084080c34b66bafd1efe8d04e6d233bd35cf2fabdeb93fb0d (2024-11-28) - 상태코드: 200\n",
      "✅ 1e14b50c22fb7d8881f6e432920efa70efe8d04e6d233bd35cf2fabdeb93fb0d (2024-11-28) - 상태코드: 200\n",
      "✅ 38ce87e1637199384914178e687409d1 (2024-11-28) - 상태코드: 200\n",
      "✅ 7b4c62020015e5f5d94a34725f865738 (2024-11-28) - 상태코드: 200\n",
      "✅ 41239fef521bccae73a59579db82e95defe8d04e6d233bd35cf2fabdeb93fb0d (2024-11-28) - 상태코드: 200\n",
      "✅ 1636ebe36094d80aabe514a37d074b31 (2024-11-28) - 상태코드: 200\n",
      "✅ 8a3f3a08ee7cd8adfc5041db3f29bd72 (2024-11-28) - 상태코드: 200\n",
      "✅ 1aa8e296994efc80825348caa4cb16d1e85e07f9d5d276f44440847eec04ba68 (2024-11-28) - 상태코드: 200\n",
      "✅ a1fe210f9fbd586c135a3357f98e79d3efe8d04e6d233bd35cf2fabdeb93fb0d (2024-11-28) - 상태코드: 200\n",
      "✅ 45e9404457c1c58e4a73f529de4df777 (2024-11-28) - 상태코드: 200\n"
     ]
    },
    {
     "name": "stderr",
     "output_type": "stream",
     "text": [
      " 51%|█████     | 2588/5104 [00:57<00:53, 46.74it/s]"
     ]
    },
    {
     "name": "stdout",
     "output_type": "stream",
     "text": [
      "✅ 2aa540cfc2b0e638404c9641cf5daddb (2024-11-28) - 상태코드: 200\n",
      "✅ 5687cbd72ede940dcfb7c263ab996e76 (2024-11-28) - 상태코드: 200\n",
      "✅ 920fe38718096df67f3cd3a0b1cb4af3 (2024-11-28) - 상태코드: 200\n",
      "✅ 303bde271538bbd720c6a3de31652f93 (2024-11-28) - 상태코드: 200\n",
      "✅ a499680a098f5596c42fe6e55594165c (2024-11-28) - 상태코드: 200\n",
      "✅ 499b59d931930833b49bea684ff5a9e9 (2024-11-28) - 상태코드: 200\n",
      "✅ 8f2d78f0714b7a49d0dcdbe1161ce84c (2024-11-28) - 상태코드: 200\n",
      "✅ 56d1e4037a4da5d223f8f9cd1aafc9a4 (2024-11-28) - 상태코드: 200\n",
      "✅ 9eed691a31409febf72f25664bddb99d (2024-11-28) - 상태코드: 200\n",
      "✅ 88e02259b6ea2d60b22710904f33c91cefe8d04e6d233bd35cf2fabdeb93fb0d (2024-11-28) - 상태코드: 200\n"
     ]
    },
    {
     "name": "stderr",
     "output_type": "stream",
     "text": [
      " 51%|█████     | 2600/5104 [00:57<00:53, 46.81it/s]"
     ]
    },
    {
     "name": "stdout",
     "output_type": "stream",
     "text": [
      "✅ c40337e237b52c49d1718e422db3c05c (2024-11-28) - 상태코드: 200\n",
      "✅ fefdf6d800abf8bcb83242cf176aaba8 (2024-11-28) - 상태코드: 200\n",
      "✅ 134c89affce067a5019be6dce85b08c6efe8d04e6d233bd35cf2fabdeb93fb0d (2024-11-28) - 상태코드: 200\n",
      "✅ 96ee4ea65fee2846a2e6f619e1ac888e (2024-11-28) - 상태코드: 200\n",
      "✅ 05a0002ba6f1f91cd3a9f9a2ee9659a7 (2024-11-28) - 상태코드: 200\n",
      "✅ 4708bab804fae76ca387a0713e9dbcfcefe8d04e6d233bd35cf2fabdeb93fb0d (2024-11-28) - 상태코드: 200\n",
      "✅ 5d19b2f9799c90c41f69da143000e4f5 (2024-11-28) - 상태코드: 200\n",
      "✅ 49e93c2a9f7072be16f7206aa76737c7 (2024-11-28) - 상태코드: 200\n",
      "✅ d41c32fe3dda1cfd1a813628f97b708fefe8d04e6d233bd35cf2fabdeb93fb0d (2024-11-28) - 상태코드: 200\n",
      "✅ bda174ff8f1d074d6da1f72617966bafefe8d04e6d233bd35cf2fabdeb93fb0d (2024-11-28) - 상태코드: 200\n",
      "✅ 550e1cc0ed2e0ae6c2f4df7611f73224efe8d04e6d233bd35cf2fabdeb93fb0d (2024-11-28) - 상태코드: 200\n"
     ]
    },
    {
     "name": "stderr",
     "output_type": "stream",
     "text": [
      " 51%|█████     | 2607/5104 [00:57<00:52, 47.41it/s]"
     ]
    },
    {
     "name": "stdout",
     "output_type": "stream",
     "text": [
      "✅ 5c3e904eaca03b316daf87c4c78d0c88 (2024-11-28) - 상태코드: 200\n",
      "✅ e317d4813a69fb3361864089ed0d1757 (2024-11-28) - 상태코드: 200\n",
      "✅ e16111c7ec30f8620e55d7c05bfd8b3f (2024-11-28) - 상태코드: 200\n",
      "✅ 9090c6186a6b63651f52fef662c6ee67 (2024-11-28) - 상태코드: 200\n",
      "✅ b1c62686fd8f823760298229180a28f5 (2024-11-28) - 상태코드: 200\n",
      "✅ d742f62993190da82fa7f4671ebb1476 (2024-11-28) - 상태코드: 200\n",
      "✅ 941b8eae23e677d24b88dab022ad9ef7 (2024-11-28) - 상태코드: 200\n",
      "✅ 67d1cc70712330b065d04f596b240f6f (2024-11-28) - 상태코드: 200\n"
     ]
    },
    {
     "name": "stderr",
     "output_type": "stream",
     "text": [
      " 51%|█████▏    | 2620/5104 [00:58<00:51, 48.52it/s]"
     ]
    },
    {
     "name": "stdout",
     "output_type": "stream",
     "text": [
      "✅ d0c83786f2f09ffd36ed80d15ce23405 (2024-11-28) - 상태코드: 200\n",
      "✅ f298e31c365a3f7aebf382fa79d2a5b7 (2024-11-28) - 상태코드: 200\n",
      "✅ ea3cd97f4f961efe9411972c12902ff8 (2024-11-28) - 상태코드: 200\n",
      "✅ f08552c9e7895cb77a64c240559c5b51 (2024-11-28) - 상태코드: 200\n",
      "✅ afed5c0c4e6f10b338140cb79e23c1cc (2024-11-28) - 상태코드: 200\n",
      "✅ bec30879111ec4fbb2b844fb746f72a4 (2024-11-28) - 상태코드: 200\n",
      "✅ 29dd583c39b648ce88c2ae37d1b18797 (2024-11-28) - 상태코드: 200\n",
      "✅ 2853958fda68fb73a7605f50cda63944 (2024-11-28) - 상태코드: 200\n",
      "✅ ccd7d99b3f59804f5e2c89e2b8653a29 (2024-11-28) - 상태코드: 200\n",
      "✅ cd9c1a0e5fb457317a5ef2a017b8674d (2024-11-28) - 상태코드: 200\n",
      "✅ b28151c9ac63ec1d5e22fbbad88218a1 (2024-11-28) - 상태코드: 200\n"
     ]
    },
    {
     "name": "stderr",
     "output_type": "stream",
     "text": [
      " 52%|█████▏    | 2632/5104 [00:58<00:50, 49.06it/s]"
     ]
    },
    {
     "name": "stdout",
     "output_type": "stream",
     "text": [
      "✅ 93545e119976ae37a8ba91ad8299fd74 (2024-11-28) - 상태코드: 200\n",
      "✅ b78f0c5e0d337ce09b0477fdd5e5e70befe8d04e6d233bd35cf2fabdeb93fb0d (2024-11-28) - 상태코드: 200\n",
      "✅ 22319f7d3679c34e3b35eebb904ec905 (2024-11-28) - 상태코드: 200\n",
      "✅ adccd9d6ab8a03b16d760aeca7941c2cefe8d04e6d233bd35cf2fabdeb93fb0d (2024-11-28) - 상태코드: 200\n",
      "✅ 6ffc14ff1de7b5b0a3f208b593b1144e (2024-11-28) - 상태코드: 200\n",
      "✅ 474e6ff41f4acec5192abfce975830b8 (2024-11-28) - 상태코드: 200\n",
      "✅ 3bf63febf1a365a23fd719a5ec8d9172 (2024-11-28) - 상태코드: 200\n",
      "✅ b24ba7b50dfdf479b1cc8d24cc65a06c (2024-11-28) - 상태코드: 200\n",
      "✅ 175213d5abc2e7d03632d5b61440c927efe8d04e6d233bd35cf2fabdeb93fb0d (2024-11-28) - 상태코드: 200\n",
      "✅ 51ff4330432d1c9de91d668f3c371024efe8d04e6d233bd35cf2fabdeb93fb0d (2024-11-28) - 상태코드: 200\n",
      "✅ fccc9ca12cec1d7aeceb0c2960a19f10efe8d04e6d233bd35cf2fabdeb93fb0d (2024-11-28) - 상태코드: 200\n"
     ]
    },
    {
     "name": "stderr",
     "output_type": "stream",
     "text": [
      " 52%|█████▏    | 2643/5104 [00:58<00:51, 48.25it/s]"
     ]
    },
    {
     "name": "stdout",
     "output_type": "stream",
     "text": [
      "✅ efcf5cb3d22a434987b1a3f4d7e76eb8 (2024-11-28) - 상태코드: 200\n",
      "✅ 2911af63fbd902765a852e40a2d9488d (2024-11-28) - 상태코드: 200\n",
      "✅ 7a53eb7a3f8fa82a66f5d3dc999bd4b6 (2024-11-28) - 상태코드: 200\n",
      "✅ 77dd3bc7f5e389c617b6dd1c70a692bbefe8d04e6d233bd35cf2fabdeb93fb0d (2024-11-28) - 상태코드: 200\n",
      "✅ 873262f1f6eb0a0f962d72298e6bbc8defe8d04e6d233bd35cf2fabdeb93fb0d (2024-11-28) - 상태코드: 200\n",
      "✅ c2a21c71dc85054a2db5441ca94e3e70efe8d04e6d233bd35cf2fabdeb93fb0d (2024-11-28) - 상태코드: 200\n",
      "✅ 7eafa7de7caf079eb5cf49db9aa710b8efe8d04e6d233bd35cf2fabdeb93fb0d (2024-11-28) - 상태코드: 200\n",
      "✅ 3aa9923eda02aa2bdc26247a537dbf47 (2024-11-28) - 상태코드: 200\n",
      "✅ 6ef7a179284f11d7546a25bf2025929e (2024-11-28) - 상태코드: 200\n"
     ]
    },
    {
     "name": "stderr",
     "output_type": "stream",
     "text": [
      " 52%|█████▏    | 2654/5104 [00:58<00:55, 43.85it/s]"
     ]
    },
    {
     "name": "stdout",
     "output_type": "stream",
     "text": [
      "✅ cbec16599e27e6daa37cae78a39ae3d68295750b1f4857867454debc45ec9c8a (2024-11-28) - 상태코드: 200\n",
      "✅ 9c62ce5a1e63a6c28803cb77c0c75387 (2024-11-28) - 상태코드: 200\n",
      "✅ 65467e3e2c3c3aba575513281207bd31efe8d04e6d233bd35cf2fabdeb93fb0d (2024-11-28) - 상태코드: 200\n",
      "✅ c737dff00603645525e7cd9d44283635 (2024-11-28) - 상태코드: 200\n",
      "✅ 9e998b4c19b8736cf58bd656bf08eaa0 (2024-11-28) - 상태코드: 200\n",
      "✅ 50d9670d2bca4069d5b612437cd2f216 (2024-11-28) - 상태코드: 200\n",
      "✅ 98a45d21eb8221d564c9c1443bc5841a (2024-11-28) - 상태코드: 200\n",
      "✅ 96eb8cf62bf545bb46c7efb3e2a87b41 (2024-11-28) - 상태코드: 200\n",
      "✅ 4a2400d5c2b265ee9117db587c2a06fa (2024-11-28) - 상태코드: 200\n",
      "✅ cbedcfd8d3f563b4ea6b8d33df1077d7aae77432709819edb959e1fd5d1d77b4 (2024-11-28) - 상태코드: 200\n"
     ]
    },
    {
     "name": "stderr",
     "output_type": "stream",
     "text": [
      " 52%|█████▏    | 2659/5104 [00:58<00:54, 45.23it/s]"
     ]
    },
    {
     "name": "stdout",
     "output_type": "stream",
     "text": [
      "✅ 4a791d3164516950e187eddd40e2b1ae (2024-11-28) - 상태코드: 200\n",
      "✅ 817453ad3139a84fc19a9718538e3d0f (2024-11-28) - 상태코드: 200\n",
      "✅ 8376b35f898e6d1c1095657138a5f30befe8d04e6d233bd35cf2fabdeb93fb0d (2024-11-28) - 상태코드: 200\n",
      "✅ a0e6e8183add4ac80db5399a77bea5db (2024-11-28) - 상태코드: 200\n",
      "✅ dcc0b9135f8079f587dfc85e15c3df43 (2024-11-28) - 상태코드: 200\n",
      "✅ 5d9049f65e4b352bedbe1efecf1fe6e4efe8d04e6d233bd35cf2fabdeb93fb0d (2024-11-28) - 상태코드: 200\n",
      "✅ 456806600e22efe2bc7a8e59e48dc552efe8d04e6d233bd35cf2fabdeb93fb0d (2024-11-28) - 상태코드: 200\n",
      "✅ c13f312d122b0d8fe0ff29f8b68d19ea (2024-11-28) - 상태코드: 200\n",
      "✅ b043cae11609e608c0586bcc17f624a6 (2024-11-28) - 상태코드: 200\n",
      "✅ 68b68720c7bf74560c69ecd1eb137679efe8d04e6d233bd35cf2fabdeb93fb0d (2024-11-28) - 상태코드: 200\n",
      "✅ bf893598bb415d20d3615ad9d8595fa4 (2024-11-28) - 상태코드: 200\n"
     ]
    },
    {
     "name": "stderr",
     "output_type": "stream",
     "text": [
      " 52%|█████▏    | 2672/5104 [00:59<00:49, 48.75it/s]"
     ]
    },
    {
     "name": "stdout",
     "output_type": "stream",
     "text": [
      "✅ 5d3b14ba1320475fe85efbea32e64231 (2024-11-28) - 상태코드: 200\n",
      "✅ 1f2a124871ab20695e3f68fd668ad7b7efe8d04e6d233bd35cf2fabdeb93fb0d (2024-11-28) - 상태코드: 200\n",
      "✅ 605c5b412201ef038f655c06b69256d8 (2024-11-28) - 상태코드: 200\n",
      "✅ b2fb907f6fbf6a039f1cef6bdc4e8457 (2024-11-28) - 상태코드: 200\n",
      "✅ 6985dd5e08d08e87428031e047d1a4eb4723574b05820acf03e7ec3162ff5bed (2024-11-28) - 상태코드: 200\n",
      "✅ db6fe01029329f6bf6d55ca9389afdca (2024-11-28) - 상태코드: 200\n",
      "✅ ec0eece96fa205b0e6b39913c7e760f9 (2024-11-28) - 상태코드: 200\n",
      "✅ 437b7ad5d42f19cd195fb87d2142a9a2efe8d04e6d233bd35cf2fabdeb93fb0d (2024-11-28) - 상태코드: 200\n",
      "✅ 9a0da8df34ce824e38d44d0f423ca63ea2186d8e7cf7a6ee152d97cc78f2ae8b (2024-11-28) - 상태코드: 200\n",
      "✅ c86d73029385cda466c249c59460456e (2024-11-28) - 상태코드: 200\n"
     ]
    },
    {
     "name": "stderr",
     "output_type": "stream",
     "text": [
      " 53%|█████▎    | 2685/5104 [00:59<00:46, 51.97it/s]"
     ]
    },
    {
     "name": "stdout",
     "output_type": "stream",
     "text": [
      "✅ 9674cb12e9e03484488cc3deb9031c40 (2024-11-28) - 상태코드: 200\n",
      "✅ 924e76ef6f91fdc8e1909a1ee1aac186 (2024-11-28) - 상태코드: 200\n",
      "✅ 72212dfd6bb031459dae2d09934d0020efe8d04e6d233bd35cf2fabdeb93fb0d (2024-11-28) - 상태코드: 200\n",
      "✅ 2875058ea449d2e881a66e8e8c0d5fa7 (2024-11-28) - 상태코드: 200\n",
      "✅ 2eaee8491645cd83b692755c6871e827 (2024-11-28) - 상태코드: 200\n",
      "✅ 2bc404b32c9e9bce1be5412234f69431 (2024-11-28) - 상태코드: 200\n",
      "✅ 5864f519f1f8984fb3b011d5e91e6b80 (2024-11-28) - 상태코드: 200\n",
      "✅ f3aa4c38d90838b7872717888fa62ffb (2024-11-28) - 상태코드: 200\n",
      "✅ 7dbc7f73d47fea9e42ae93a4c62e0ed6 (2024-11-28) - 상태코드: 200\n",
      "✅ 82b8e12f1009335a2f13613ee411e6d2efe8d04e6d233bd35cf2fabdeb93fb0d (2024-11-28) - 상태코드: 200\n"
     ]
    },
    {
     "name": "stderr",
     "output_type": "stream",
     "text": [
      " 53%|█████▎    | 2696/5104 [00:59<00:50, 47.46it/s]"
     ]
    },
    {
     "name": "stdout",
     "output_type": "stream",
     "text": [
      "✅ 1bcc857529ccd8893ddb886150bca426 (2024-11-28) - 상태코드: 200\n",
      "✅ b72b9b5de59654eb88e287ec02425749 (2024-11-28) - 상태코드: 200\n",
      "✅ 1940c5b05c22bde63cd5b48dbed8c039 (2024-11-28) - 상태코드: 200\n",
      "✅ 41ee3f02eb7418626f20b0138ba7c93defe8d04e6d233bd35cf2fabdeb93fb0d (2024-11-28) - 상태코드: 200\n",
      "✅ d107718c1ed3e3c1ffd98c6581106740 (2024-11-28) - 상태코드: 200\n",
      "✅ 2c827e100074537c1eaa9f806b0471abefe8d04e6d233bd35cf2fabdeb93fb0d (2024-11-28) - 상태코드: 200\n",
      "✅ 66542c6b6e65c421d3fe9744b196a6ffefe8d04e6d233bd35cf2fabdeb93fb0d (2024-11-28) - 상태코드: 200\n",
      "✅ c75b3a6a4e3e1669ad6b88989630e462efe8d04e6d233bd35cf2fabdeb93fb0d (2024-11-28) - 상태코드: 200\n",
      "✅ 9094d86d602414b186b4fbda98e6f2bf (2024-11-28) - 상태코드: 200\n",
      "✅ 4181e8df10a85f5b559d5e770d5d2252 (2024-11-28) - 상태코드: 200\n",
      "✅ 2c9b35c26c9dd8ea50e8340466c2951aefe8d04e6d233bd35cf2fabdeb93fb0d (2024-11-28) - 상태코드: 200\n",
      "✅ 2ecb9848ec933395c8c451ea0174634b (2024-11-28) - 상태코드: 200\n"
     ]
    },
    {
     "name": "stderr",
     "output_type": "stream",
     "text": [
      " 53%|█████▎    | 2702/5104 [00:59<00:52, 46.10it/s]"
     ]
    },
    {
     "name": "stdout",
     "output_type": "stream",
     "text": [
      "✅ 09c019e289606a3b2a18f40609107b00efe8d04e6d233bd35cf2fabdeb93fb0d (2024-11-28) - 상태코드: 200\n",
      "✅ 2b04252a5d22ad0e7a68924d93f4305befe8d04e6d233bd35cf2fabdeb93fb0d (2024-11-28) - 상태코드: 200\n",
      "✅ 7cd8c23f47cf985528061d75c6b1c382efe8d04e6d233bd35cf2fabdeb93fb0d (2024-11-28) - 상태코드: 200\n",
      "✅ ba13d74f454f14d8db9d3f0e9e5a7fef (2024-11-28) - 상태코드: 200\n",
      "✅ ffc42603f7cdb56696c94f00803194a9efe8d04e6d233bd35cf2fabdeb93fb0d (2024-11-28) - 상태코드: 200\n",
      "✅ 9024e79c09fefe51fcc407bc2dd975b8 (2024-11-28) - 상태코드: 400\n",
      "✅ de89638fdf267a96e381f5f640be2a0a (2024-11-28) - 상태코드: 200\n",
      "✅ 5c951425428d5cb14526240736cc45e3efe8d04e6d233bd35cf2fabdeb93fb0d (2024-11-28) - 상태코드: 200\n",
      "✅ ff308d37a165572b45518551ff788634 (2024-11-28) - 상태코드: 200\n",
      "✅ 4b4ecdf5ca9b29ed4a9003afe5aefee6 (2024-11-28) - 상태코드: 200\n"
     ]
    },
    {
     "name": "stderr",
     "output_type": "stream",
     "text": [
      " 53%|█████▎    | 2714/5104 [01:00<00:49, 48.73it/s]"
     ]
    },
    {
     "name": "stdout",
     "output_type": "stream",
     "text": [
      "✅ e209c161cd5c773f083c9fb4dfa1c261 (2024-11-28) - 상태코드: 200\n",
      "✅ ad3e7e2b551c652af2e7e1319781459a (2024-11-28) - 상태코드: 200\n",
      "✅ 64cf8b538ab9fe6d63c58d4a4e15bc35 (2024-11-28) - 상태코드: 200\n",
      "✅ 63255d98d0a9ec66ed5c6074a72642bcefe8d04e6d233bd35cf2fabdeb93fb0d (2024-11-28) - 상태코드: 200\n",
      "✅ 51845de1965d98fc6f98fbc9a23c1aa7 (2024-11-28) - 상태코드: 200\n",
      "✅ f3e45b94f933a06c64f87df00abec36d (2024-11-28) - 상태코드: 200\n",
      "✅ d113c8c182c8d91d45984582b63aaf3c (2024-11-28) - 상태코드: 200\n",
      "✅ e04fc2375a222d541c4cf66ba8eadf25efe8d04e6d233bd35cf2fabdeb93fb0d (2024-11-28) - 상태코드: 200\n",
      "✅ 01f1228014a7b25747c4c7e503d5004d (2024-11-28) - 상태코드: 200\n",
      "✅ 9465348d20ac0cad762fd7c3edf973a2 (2024-11-28) - 상태코드: 200\n"
     ]
    },
    {
     "name": "stderr",
     "output_type": "stream",
     "text": [
      " 53%|█████▎    | 2724/5104 [01:00<00:52, 45.26it/s]"
     ]
    },
    {
     "name": "stdout",
     "output_type": "stream",
     "text": [
      "✅ 923866addb47956e348e45a3826ae52f (2024-11-28) - 상태코드: 200\n",
      "✅ 8525e9fcb686cd08c268dc1d526533ab (2024-11-28) - 상태코드: 200\n",
      "✅ 552bf45aa58039f6d66e8e207331f280efe8d04e6d233bd35cf2fabdeb93fb0d (2024-11-28) - 상태코드: 200\n",
      "✅ 31f793de46fcb8d46bd983f35b3b2575efe8d04e6d233bd35cf2fabdeb93fb0d (2024-11-28) - 상태코드: 200\n",
      "✅ cb77302be9ff82eae9cc784ca55e38c5 (2024-11-28) - 상태코드: 200\n",
      "✅ 66bd56bc1adf5d9f285099b8115b64d4efe8d04e6d233bd35cf2fabdeb93fb0d (2024-11-28) - 상태코드: 200\n",
      "✅ eec1c1d15198a1f091fc9b2c4e35937eefe8d04e6d233bd35cf2fabdeb93fb0d (2024-11-28) - 상태코드: 200\n",
      "✅ 9bf4b4267127550b5428fcd699202a2b (2024-11-28) - 상태코드: 200\n",
      "✅ b233cacfe46235c8e68345e5e35d1412 (2024-11-28) - 상태코드: 200\n",
      "✅ 4aeebec9117601798e7aa49eced8040b (2024-11-28) - 상태코드: 200\n",
      "✅ cbe6469287089e1d94a31a3276338051efe8d04e6d233bd35cf2fabdeb93fb0d (2024-11-28) - 상태코드: 200\n",
      "✅ b15e18d83c7d8c7f7c94804068d4b7cd (2024-11-28) - 상태코드: 200\n"
     ]
    },
    {
     "name": "stderr",
     "output_type": "stream",
     "text": [
      " 54%|█████▎    | 2737/5104 [01:00<00:46, 51.29it/s]"
     ]
    },
    {
     "name": "stdout",
     "output_type": "stream",
     "text": [
      "✅ 6e4f367a8570a3917a021b17f3b93f40 (2024-11-28) - 상태코드: 200\n",
      "✅ b58430f29aedbb92ed6ee6043bc9237a (2024-11-28) - 상태코드: 200\n",
      "✅ 1bddcdc6fd36de3027e6160f50cddddb (2024-11-28) - 상태코드: 200\n",
      "✅ 1ef452f60e1c495a0feea39efdaeca6defe8d04e6d233bd35cf2fabdeb93fb0d (2024-11-28) - 상태코드: 200\n",
      "✅ d7c36faec488f6bb044cfdf534551934 (2024-11-28) - 상태코드: 200\n",
      "✅ 0f942f23040f371cd13d194760315425efe8d04e6d233bd35cf2fabdeb93fb0d (2024-11-28) - 상태코드: 200\n",
      "✅ e2f6a4a393bd180b040effcfd4ec2fc5efe8d04e6d233bd35cf2fabdeb93fb0d (2024-11-28) - 상태코드: 200\n",
      "✅ d554792ccff2b040ffda97200ddf5a06 (2024-11-28) - 상태코드: 200\n",
      "✅ 1b3e856f87c41a1ec2e4552885b8c90defe8d04e6d233bd35cf2fabdeb93fb0d (2024-11-28) - 상태코드: 200\n",
      "✅ bb2627e66d158f92eeacdb454afd6d08e85e07f9d5d276f44440847eec04ba68 (2024-11-28) - 상태코드: 200\n"
     ]
    },
    {
     "name": "stderr",
     "output_type": "stream",
     "text": [
      " 54%|█████▍    | 2749/5104 [01:00<00:48, 48.12it/s]"
     ]
    },
    {
     "name": "stdout",
     "output_type": "stream",
     "text": [
      "✅ b0c69c3dc4381ad8ee4acfecd942574aefe8d04e6d233bd35cf2fabdeb93fb0d (2024-11-28) - 상태코드: 200\n",
      "✅ d47c0befe817e7c8a77e9561e96e952c (2024-11-28) - 상태코드: 200\n",
      "✅ dc19af0ea6ed05062f192561154dc706 (2024-11-28) - 상태코드: 200\n",
      "✅ b1c3fec1c8dec4a78cb734ad6cbce2abefe8d04e6d233bd35cf2fabdeb93fb0d (2024-11-28) - 상태코드: 200\n",
      "✅ c97d23e87feeb662d778c9b2e40ff0d9efe8d04e6d233bd35cf2fabdeb93fb0d (2024-11-28) - 상태코드: 200\n",
      "✅ ac6ed463785c3aa7c13f138becc0f253 (2024-11-28) - 상태코드: 200\n",
      "✅ 652943692d318bdb08daf8c054d78380 (2024-11-28) - 상태코드: 200\n",
      "✅ 4a299934879212a57159707e5db5e35a (2024-11-28) - 상태코드: 200\n",
      "✅ b5ac9222820a0b205560a9ffcfa0d47befe8d04e6d233bd35cf2fabdeb93fb0d (2024-11-28) - 상태코드: 200\n",
      "✅ cb4ab50d21a1dc5cdd93baa0f5a1e733 (2024-11-28) - 상태코드: 200\n"
     ]
    },
    {
     "name": "stderr",
     "output_type": "stream",
     "text": [
      " 54%|█████▍    | 2757/5104 [01:00<00:43, 53.68it/s]"
     ]
    },
    {
     "name": "stdout",
     "output_type": "stream",
     "text": [
      "✅ d128e62abe4c3928e32fc7d8544ba614 (2024-11-28) - 상태코드: 200\n",
      "✅ f8b7eb7a61095395211efc94ee42d98eefe8d04e6d233bd35cf2fabdeb93fb0d (2024-11-28) - 상태코드: 200\n",
      "✅ f20ff21f0d04dee15a9c3b2fe19d3f2b (2024-11-28) - 상태코드: 200\n",
      "✅ 9ada5a08f2133fb9c41da0d8fe795295 (2024-11-28) - 상태코드: 200\n",
      "✅ 96937433b1c4516f7382936eed4c6a0a (2024-11-28) - 상태코드: 200\n",
      "✅ 0e1b29a1bac60577ace65588b1b036ba (2024-11-28) - 상태코드: 200\n",
      "✅ 078eb394464e8f627d2d649cbbb9c825 (2024-11-28) - 상태코드: 200\n",
      "✅ 72c6959de78bee956d329be4388510fb (2024-11-28) - 상태코드: 200\n",
      "✅ f2dba8bbbfba95e18c4a0d3e470d4866efe8d04e6d233bd35cf2fabdeb93fb0d (2024-11-28) - 상태코드: 200\n"
     ]
    },
    {
     "name": "stderr",
     "output_type": "stream",
     "text": [
      " 54%|█████▍    | 2768/5104 [01:01<00:50, 46.49it/s]"
     ]
    },
    {
     "name": "stdout",
     "output_type": "stream",
     "text": [
      "✅ 2d2af3e4cf91081ed16c3ab121bd0281 (2024-11-28) - 상태코드: 200\n",
      "✅ bbcbfa241f9902fd5e4a7c7ab974312c (2024-11-28) - 상태코드: 200\n",
      "✅ 43d9f055ac2bc60ebf874358e6b384f2efe8d04e6d233bd35cf2fabdeb93fb0d (2024-11-28) - 상태코드: 200\n",
      "✅ dda80cf6b65eb765cbb81144b6510bd4 (2024-11-28) - 상태코드: 200\n",
      "✅ 1374ddde98f8f82709bf46918a3c1342 (2024-11-28) - 상태코드: 200\n",
      "✅ fcf680f9c825512ac48d975fcaa6b114 (2024-11-28) - 상태코드: 200\n",
      "✅ 8033e447e0ace2c3e65440b4deda0b32 (2024-11-28) - 상태코드: 200\n",
      "✅ 4f41ea3696fc9a07279d5545f87d04c9 (2024-11-28) - 상태코드: 200\n",
      "✅ 26f2841006d596cd78e36b6e0b137985 (2024-11-28) - 상태코드: 200\n",
      "✅ 70ec8f66179cd81204b337be7289982b (2024-11-28) - 상태코드: 200\n"
     ]
    },
    {
     "name": "stderr",
     "output_type": "stream",
     "text": [
      " 54%|█████▍    | 2774/5104 [01:01<00:48, 47.75it/s]"
     ]
    },
    {
     "name": "stdout",
     "output_type": "stream",
     "text": [
      "✅ 5e859d25c2d12325040cbb3bce0b42b2 (2024-11-28) - 상태코드: 200\n",
      "✅ 98c48e1e3f8087770b34d883a1fc831f (2024-11-28) - 상태코드: 200\n",
      "✅ 56fc4b9cf931977357bb27cef0420594 (2024-11-28) - 상태코드: 200\n",
      "✅ f96d8f46c73abc3fd1aa5eaeb54fef87 (2024-11-28) - 상태코드: 200\n",
      "✅ bcf64b0d0d2ecbdc98e55cfa1918fc81efe8d04e6d233bd35cf2fabdeb93fb0d (2024-11-28) - 상태코드: 200\n",
      "✅ 18a5671dc39bf7800b33172704f15b65 (2024-11-28) - 상태코드: 200\n",
      "✅ e0517827217fa1afd64b75e792a6e4c8efe8d04e6d233bd35cf2fabdeb93fb0d (2024-11-28) - 상태코드: 200\n",
      "✅ 3b8782162f1a3de3176cefbd7628191befe8d04e6d233bd35cf2fabdeb93fb0d (2024-11-28) - 상태코드: 200\n",
      "✅ 9154b0775eef6bc310e554c7ea8f2b1befe8d04e6d233bd35cf2fabdeb93fb0d (2024-11-28) - 상태코드: 200\n",
      "✅ a1333be07c304f5a7eb0f373a33d2d98 (2024-11-28) - 상태코드: 200\n",
      "✅ 1f039bf15b5f2c80599ee731cd7b1774 (2024-11-28) - 상태코드: 200\n",
      "✅ 18dd09ae678a710c18042a6321a50605 (2024-11-28) - 상태코드: 200\n"
     ]
    },
    {
     "name": "stderr",
     "output_type": "stream",
     "text": [
      " 55%|█████▍    | 2789/5104 [01:01<00:42, 54.43it/s]"
     ]
    },
    {
     "name": "stdout",
     "output_type": "stream",
     "text": [
      "✅ 4ded438d2a57183e52cce518cafed28aefe8d04e6d233bd35cf2fabdeb93fb0d (2024-11-28) - 상태코드: 200\n",
      "✅ dadfd46c8cc678054be9ed21d861b887 (2024-11-28) - 상태코드: 200\n",
      "✅ fb30e1ff06044287d159313d4e36bb44 (2024-11-28) - 상태코드: 200\n",
      "✅ 1896b6b1552a73ef2593f1a526645de8 (2024-11-28) - 상태코드: 200\n",
      "✅ 71dee7338e82eb5a92f0bf6fa6255436efe8d04e6d233bd35cf2fabdeb93fb0d (2024-11-28) - 상태코드: 200\n",
      "✅ ac4a95d7b52ab15704c5be34936203f8a2186d8e7cf7a6ee152d97cc78f2ae8b (2024-11-28) - 상태코드: 200\n",
      "✅ 81f28efb7c1a9f1d4615d2c63c3251ee (2024-11-28) - 상태코드: 200\n",
      "✅ 009d56c3358999da0f4792fbe82f9eb4 (2024-11-28) - 상태코드: 200\n",
      "✅ 684190dcd6e22c74646c94caefcc25e3efe8d04e6d233bd35cf2fabdeb93fb0d (2024-11-28) - 상태코드: 200\n",
      "✅ 45e4576e8a1d3f2a826190526470328d (2024-11-28) - 상태코드: 200\n"
     ]
    },
    {
     "name": "stderr",
     "output_type": "stream",
     "text": [
      " 55%|█████▍    | 2801/5104 [01:01<00:43, 52.93it/s]"
     ]
    },
    {
     "name": "stdout",
     "output_type": "stream",
     "text": [
      "✅ a0e6334a59e8b055de21b3c15609ea49efe8d04e6d233bd35cf2fabdeb93fb0d (2024-11-28) - 상태코드: 200\n",
      "✅ 1e7db39ce12124009fb5a2cc9cc9e2cc (2024-11-28) - 상태코드: 200\n",
      "✅ fb3acbfc29d1ca6e6d9c7e0429d20d9c (2024-11-28) - 상태코드: 200\n",
      "✅ 4f7b6a34d6c6dcef7dc640080511eb88 (2024-11-28) - 상태코드: 200\n",
      "✅ 2c51cb13a92c359f9f5d05bfad0434ba (2024-11-28) - 상태코드: 200\n",
      "✅ b6f019babb4a5c74b8af94553d237cb9 (2024-11-28) - 상태코드: 200\n",
      "✅ 518a5a80f39a4e884f3a72e8c4208497 (2024-11-28) - 상태코드: 200\n",
      "✅ 0183ec6c2e54a15b40ac92fb9ab7bc81efe8d04e6d233bd35cf2fabdeb93fb0d (2024-11-28) - 상태코드: 200\n",
      "✅ 47ac6db232a5c1683ee369c727548e67 (2024-11-28) - 상태코드: 200\n",
      "✅ 57e6dbdb90197675d80020989b7f4602 (2024-11-28) - 상태코드: 200\n",
      "✅ 28db9eeffbe4bcc2126db08a4961671a (2024-11-28) - 상태코드: 200\n",
      "✅ 1ce44e942ef82de450afa8ddcbd21513e85e07f9d5d276f44440847eec04ba68 (2024-11-28) - 상태코드: 200\n"
     ]
    },
    {
     "name": "stderr",
     "output_type": "stream",
     "text": [
      " 55%|█████▌    | 2813/5104 [01:02<00:45, 50.73it/s]"
     ]
    },
    {
     "name": "stdout",
     "output_type": "stream",
     "text": [
      "✅ b29577973842c4dbba63fb91e207e105 (2024-11-28) - 상태코드: 200\n",
      "✅ 13934ac9a8aa854bb025fdfefc1aedacefe8d04e6d233bd35cf2fabdeb93fb0d (2024-11-28) - 상태코드: 200\n",
      "✅ ddf7cecd50d246131ce5790c37be8fba (2024-11-28) - 상태코드: 200\n",
      "✅ 6d874f0f0b8bdab87a7282d5164b5392 (2024-11-28) - 상태코드: 200\n",
      "✅ a4738e5e850c46d9c27f5ac801a69aed (2024-11-28) - 상태코드: 200\n",
      "✅ 07af319957d3d6ebc3a25d55f9d0a98eefe8d04e6d233bd35cf2fabdeb93fb0d (2024-11-28) - 상태코드: 200\n",
      "✅ 65b9151594e89c2550fc85ca81c6d841 (2024-11-28) - 상태코드: 200\n",
      "✅ 417047c2bf9bbef41e8b494030f8fd87 (2024-11-28) - 상태코드: 200\n",
      "✅ 9d4ad6c5a2848655113cc430c37c56defd842dab14be2a956555625b37c97bff (2024-11-28) - 상태코드: 200\n",
      "✅ 4bdeef8fdf7653fc4ace2e7eccedae4e (2024-11-28) - 상태코드: 200\n",
      "✅ 607bfc8c825be4299dc1825d793ffce7efe8d04e6d233bd35cf2fabdeb93fb0d (2024-11-28) - 상태코드: 200\n",
      "✅ 89c87a90302bba5c0c32e214e5a59598 (2024-11-28) - 상태코드: 200\n",
      "✅ 513f7d0e3ebc8e3a66131d79e11c04b1efe8d04e6d233bd35cf2fabdeb93fb0d (2024-11-28) - 상태코드: 200\n",
      "✅ b321e8c579c9ba4288d1be56d2a9c223 (2024-11-28) - 상태코드: 200\n",
      "✅ e89c7c6babe2b4ab1b8884be9664c3fe (2024-11-28) - 상태코드: 200\n",
      "✅ 4f914c64a3ed30e2ba034e3cccf830aa (2024-11-28) - 상태코드: 200\n",
      "✅ 628064f9636e913c0baa587591009ac6 (2024-11-28) - 상태코드: 200\n",
      "✅ 13b88ebb451d06317f8d69884cb4d4d2 (2024-11-28) - 상태코드: 200\n",
      "✅ ac4857b3f0caf5a20cab1ead94a9c651efe8d04e6d233bd35cf2fabdeb93fb0d (2024-11-28) - 상태코드: 200\n"
     ]
    },
    {
     "name": "stderr",
     "output_type": "stream",
     "text": [
      " 55%|█████▌    | 2831/5104 [01:02<00:45, 50.02it/s]"
     ]
    },
    {
     "name": "stdout",
     "output_type": "stream",
     "text": [
      "✅ 2cf8aa68a625ce72d975c45b48adcf4aefe8d04e6d233bd35cf2fabdeb93fb0d (2024-11-28) - 상태코드: 200\n",
      "✅ 53dc77fe74235692fd93973bf44af98b (2024-11-28) - 상태코드: 200\n",
      "✅ 90951b7330e514c0da4c1c2a23753d45 (2024-11-28) - 상태코드: 200\n",
      "✅ a7ae30be9791800519216f303f4bc242 (2024-11-28) - 상태코드: 200\n",
      "✅ ac6056b27b59c932a9ad2016eb7db74befe8d04e6d233bd35cf2fabdeb93fb0d (2024-11-28) - 상태코드: 200\n",
      "✅ e730f4d9a8fbed10c9bbdf65de0d8de6 (2024-11-28) - 상태코드: 200\n",
      "✅ a35e0eb5eb5f4507baac9cbfae8ff426efe8d04e6d233bd35cf2fabdeb93fb0d (2024-11-28) - 상태코드: 200\n",
      "✅ 243cc4be019634c003e44f3b83162ba9 (2024-11-28) - 상태코드: 200\n",
      "✅ 59e10053a5119c1a5b493b07b4541b5e (2024-11-28) - 상태코드: 200\n",
      "✅ 93243351b54b45a4baa5b98ba628307a (2024-11-28) - 상태코드: 200\n",
      "✅ 607a55e9028a67f9603062c1d4d8db40 (2024-11-28) - 상태코드: 200\n",
      "✅ f1d1516c36e71a807c38abbd84fe765eefe8d04e6d233bd35cf2fabdeb93fb0d (2024-11-28) - 상태코드: 200\n"
     ]
    },
    {
     "name": "stderr",
     "output_type": "stream",
     "text": [
      " 56%|█████▌    | 2844/5104 [01:02<00:45, 49.49it/s]"
     ]
    },
    {
     "name": "stdout",
     "output_type": "stream",
     "text": [
      "✅ f7d153f788bb31a48fac00d05ca5b8e2 (2024-11-28) - 상태코드: 200\n",
      "✅ 8eabcdf676e4a85f6975d61127d4d610 (2024-11-28) - 상태코드: 200\n",
      "✅ 8b7ed3bc6c8baffa12cdd6e5d0adbe9cefe8d04e6d233bd35cf2fabdeb93fb0d (2024-11-28) - 상태코드: 200\n",
      "✅ b6b53f414556de5a94739abb87841cd6 (2024-11-28) - 상태코드: 200\n",
      "✅ 4e9ddf7c6db0ceb394805ee54bcf204eefe8d04e6d233bd35cf2fabdeb93fb0d (2024-11-28) - 상태코드: 200\n",
      "✅ 60af66f99265f85e546b461be98ed400fd842dab14be2a956555625b37c97bff (2024-11-28) - 상태코드: 200\n",
      "✅ d8ec6412ba8d1aa3baf5978db66b0b7fefe8d04e6d233bd35cf2fabdeb93fb0d (2024-11-28) - 상태코드: 200\n",
      "✅ 4cb2ef482f2206e9464146500232954b (2024-11-28) - 상태코드: 200\n",
      "✅ a32135b332a78aa191ff53f3142d4256 (2024-11-28) - 상태코드: 200\n",
      "✅ 83f90ee08662bf7072342cab798430f63663933da92e7566c55104ec9ac2894d (2024-11-28) - 상태코드: 200\n",
      "✅ bb2a595185dc1df66fb5642d4cb6d8fe (2024-11-28) - 상태코드: 200\n"
     ]
    },
    {
     "name": "stderr",
     "output_type": "stream",
     "text": [
      " 56%|█████▌    | 2851/5104 [01:02<00:41, 53.74it/s]"
     ]
    },
    {
     "name": "stdout",
     "output_type": "stream",
     "text": [
      "✅ 44e51c0508ef66eccfceaf91468dd78a (2024-11-28) - 상태코드: 200\n",
      "✅ 3c83e96851d68ec43de59f203823505fefe8d04e6d233bd35cf2fabdeb93fb0d (2024-11-28) - 상태코드: 200\n",
      "✅ 7039c698d6ecba5d898495be48861623 (2024-11-28) - 상태코드: 200\n",
      "✅ bfbcc37e329a1dbb21e0ace31256f531 (2024-11-28) - 상태코드: 200\n",
      "✅ f30eb79dc0d5ff24581178f7dd3660abefe8d04e6d233bd35cf2fabdeb93fb0d (2024-11-28) - 상태코드: 200\n",
      "✅ 6eaf81660d02c0cec84abe413441185d (2024-11-28) - 상태코드: 200\n",
      "✅ 706776cbc5f5f832b151be51864c383f (2024-11-28) - 상태코드: 200\n",
      "✅ 900bd769dc8ec0001c79a4f03dcfe322 (2024-11-28) - 상태코드: 200\n",
      "✅ de88f14845a917ad886d162b0e80ab97 (2024-11-28) - 상태코드: 200\n",
      "✅ 1d3ff485276018dcf8ec89d0cae2d958efe8d04e6d233bd35cf2fabdeb93fb0d (2024-11-28) - 상태코드: 200\n",
      "✅ be297c02b2743b2e1b7c38df3f9df19b (2024-11-28) - 상태코드: 200\n",
      "✅ f3c5892fdf224c2f7fb7d8be01334616efe8d04e6d233bd35cf2fabdeb93fb0d (2024-11-28) - 상태코드: 200\n",
      "✅ 5308ddc632805e3e452520444afe299befe8d04e6d233bd35cf2fabdeb93fb0d (2024-11-28) - 상태코드: 200\n"
     ]
    },
    {
     "name": "stderr",
     "output_type": "stream",
     "text": [
      " 56%|█████▌    | 2864/5104 [01:03<00:42, 53.05it/s]"
     ]
    },
    {
     "name": "stdout",
     "output_type": "stream",
     "text": [
      "✅ 9e6ab7f35d7083379e01a8e90cc04c83 (2024-11-28) - 상태코드: 200\n",
      "✅ 4acbee9d13dd1776cb719c4f68260f43 (2024-11-28) - 상태코드: 200\n",
      "✅ cbc22128462d4dc04bee9ac58ce8f6b4efe8d04e6d233bd35cf2fabdeb93fb0d (2024-11-28) - 상태코드: 200\n",
      "✅ 58b6df954d118b99b6eba85049d9fe7f (2024-11-28) - 상태코드: 200\n",
      "✅ d11c9e906b69be6b7d890bbd6c4122d6 (2024-11-28) - 상태코드: 200\n",
      "✅ cb1c035d553c3f4c109485da0be2e18d (2024-11-28) - 상태코드: 200\n",
      "✅ 125b9da1fe0f170700f5ab35fa88fad7 (2024-11-28) - 상태코드: 200\n",
      "✅ f75af5620bc3dfa5266a25ca35b3828e (2024-11-28) - 상태코드: 200\n",
      "✅ 1d205e20b3768b973ab739386bf45221 (2024-11-28) - 상태코드: 200\n"
     ]
    },
    {
     "name": "stderr",
     "output_type": "stream",
     "text": [
      " 56%|█████▋    | 2876/5104 [01:03<00:48, 45.65it/s]"
     ]
    },
    {
     "name": "stdout",
     "output_type": "stream",
     "text": [
      "✅ 6ed34ad67b3b04d73771b584529b5e32 (2024-11-28) - 상태코드: 200\n",
      "✅ 5d50176fa95c4c2777f8cfab25791e99 (2024-11-28) - 상태코드: 200\n",
      "✅ 044735ab378a6fb630d690f597e32680 (2024-11-28) - 상태코드: 200\n",
      "✅ 4ef511aa921e2e3e6e057c7c190f671d (2024-11-28) - 상태코드: 200\n",
      "✅ d0ed22ff62d5462ec25b061c8bf0c618 (2024-11-28) - 상태코드: 200\n",
      "✅ 7eab1d00a514fb33f5308c54dbd1984a (2024-11-28) - 상태코드: 200\n",
      "✅ b8f92200c8f90db7c81b555437190dc1 (2024-11-28) - 상태코드: 200\n",
      "✅ 9bece5c51bd01738235dee387ef0c76aefe8d04e6d233bd35cf2fabdeb93fb0d (2024-11-28) - 상태코드: 200\n",
      "✅ 037b81a606d896f5205688c6f52225b1 (2024-11-28) - 상태코드: 200\n",
      "✅ d7b3e8296cfdb2efe1c3733608293944 (2024-11-28) - 상태코드: 200\n"
     ]
    },
    {
     "name": "stderr",
     "output_type": "stream",
     "text": [
      " 56%|█████▋    | 2882/5104 [01:03<00:45, 48.66it/s]"
     ]
    },
    {
     "name": "stdout",
     "output_type": "stream",
     "text": [
      "✅ 4e4859bac01f5ac5401dd6dd61a32cbe (2024-11-28) - 상태코드: 200\n",
      "✅ 13517ce3b03cf0d225cba188d339f89d (2024-11-28) - 상태코드: 200\n",
      "✅ 9927dd76911cee444a0c5df2185b0e26 (2024-11-28) - 상태코드: 200\n",
      "✅ d5c7f47df2a522821e3034487c7d06c4 (2024-11-28) - 상태코드: 200\n",
      "✅ 2588c5b885c4e32438bf8f6b64b722d2 (2024-11-28) - 상태코드: 200\n",
      "✅ 082d54a9f0bb0639af4dcce4f9f897ef (2024-11-28) - 상태코드: 200\n",
      "✅ 22cbe662f126130dcec290b4876c03a0 (2024-11-28) - 상태코드: 200\n",
      "✅ ed1c71f43b766cc91be5d02220d061d0 (2024-11-28) - 상태코드: 200\n",
      "✅ 086f27ce61e74d439eaf2d84ee835d22 (2024-11-28) - 상태코드: 200\n",
      "✅ 4ad9cf40f4947dbc3e617dc573046051 (2024-11-28) - 상태코드: 200\n",
      "✅ afc13e3e6c5326035a2c0209d661ca78 (2024-11-28) - 상태코드: 200\n"
     ]
    },
    {
     "name": "stderr",
     "output_type": "stream",
     "text": [
      " 57%|█████▋    | 2893/5104 [01:03<00:50, 44.03it/s]"
     ]
    },
    {
     "name": "stdout",
     "output_type": "stream",
     "text": [
      "✅ c466fac8295eaa91aeb90309016291d1 (2024-11-28) - 상태코드: 200\n",
      "✅ 255e7289a4050dc021aab745ab252dec (2024-11-28) - 상태코드: 200\n",
      "✅ c1edeaffe652172fcc6dd9b094a9317f (2024-11-28) - 상태코드: 200\n",
      "✅ 0bf63c31bc6693c1540a47e87e126f98 (2024-11-28) - 상태코드: 200\n",
      "✅ afe1ecee209a814d003e66f02aa90ba7 (2024-11-28) - 상태코드: 200\n",
      "✅ ccab52c1bf693d0d6ae71d09db00addf (2024-11-28) - 상태코드: 200\n",
      "✅ 124e97657847abe574fe02a27011d985efe8d04e6d233bd35cf2fabdeb93fb0d (2024-11-28) - 상태코드: 200\n",
      "✅ 54ac493c2fe22724c0cb06c144a64275efe8d04e6d233bd35cf2fabdeb93fb0d (2024-11-28) - 상태코드: 200\n",
      "✅ fa1fbd9670ddf6052168b48fedf0cf11 (2024-11-28) - 상태코드: 200\n",
      "✅ 635ab0ad5752cb74bc10a5ad22ea8521efe8d04e6d233bd35cf2fabdeb93fb0d (2024-11-28) - 상태코드: 200\n"
     ]
    },
    {
     "name": "stderr",
     "output_type": "stream",
     "text": [
      " 57%|█████▋    | 2906/5104 [01:04<00:48, 45.50it/s]"
     ]
    },
    {
     "name": "stdout",
     "output_type": "stream",
     "text": [
      "✅ 3aaa00df5844bdc55cad1986624c3be7efe8d04e6d233bd35cf2fabdeb93fb0d (2024-11-28) - 상태코드: 200\n",
      "✅ 89d16afabe5512a6d19d7faf4591a0db (2024-11-28) - 상태코드: 200\n",
      "✅ 43c80a11fe24ec36c45d6c4141d96271 (2024-11-28) - 상태코드: 200\n",
      "✅ fd47a908a0c706ef862655a1fb7fe695a2186d8e7cf7a6ee152d97cc78f2ae8b (2024-11-28) - 상태코드: 200\n",
      "✅ 33cf25def0b2f62779a9452b8dc605c8 (2024-11-28) - 상태코드: 200\n",
      "✅ 062f16456e427ad94943fdf121da3491 (2024-11-28) - 상태코드: 200\n",
      "✅ f6fc240b0f3b41439bfd22a3413be412efe8d04e6d233bd35cf2fabdeb93fb0d (2024-11-28) - 상태코드: 200\n",
      "✅ beb183e075d75cdae0b97ffe4c3e02ceefe8d04e6d233bd35cf2fabdeb93fb0d (2024-11-28) - 상태코드: 200\n",
      "✅ 2dcbe99665726744be4389ad5657f0fe (2024-11-28) - 상태코드: 200\n",
      "✅ c2e95438baaa2ac7ed0cac5ed26b6d43 (2024-11-28) - 상태코드: 200\n"
     ]
    },
    {
     "name": "stderr",
     "output_type": "stream",
     "text": [
      " 57%|█████▋    | 2916/5104 [01:04<00:48, 44.78it/s]"
     ]
    },
    {
     "name": "stdout",
     "output_type": "stream",
     "text": [
      "✅ 6f8dbc2f1ff23a2fd3616982e0e6c90eefe8d04e6d233bd35cf2fabdeb93fb0d (2024-11-28) - 상태코드: 200\n",
      "✅ 0896da33ac37e029ee477107f85be1d2 (2024-11-28) - 상태코드: 200\n",
      "✅ 6d3d78b67727f1cd66b8c927c32cdeb8 (2024-11-28) - 상태코드: 200\n",
      "✅ 33c3fb6ec8bb19ffd835d606fffe0246 (2024-11-28) - 상태코드: 200\n",
      "✅ 19ef1a486e93b7c66df9c58faada3636 (2024-11-28) - 상태코드: 200\n",
      "✅ 79e7ab8fe4ac172de03243f3403d4a46 (2024-11-28) - 상태코드: 200\n",
      "✅ a7602c11b724e07a1d75b6420991f158 (2024-11-28) - 상태코드: 200\n",
      "✅ c58412069dc31cc0146afdd705524429 (2024-11-28) - 상태코드: 200\n",
      "✅ 7a7870916dd8d2da249fe5db0aadd915 (2024-11-28) - 상태코드: 200\n",
      "✅ e14187f1b24933253fd566fe3eebceb0efe8d04e6d233bd35cf2fabdeb93fb0d (2024-11-28) - 상태코드: 200\n",
      "✅ 000208be9ccea59917319c24391dc215 (2024-11-28) - 상태코드: 200\n"
     ]
    },
    {
     "name": "stderr",
     "output_type": "stream",
     "text": [
      " 57%|█████▋    | 2926/5104 [01:04<00:48, 44.69it/s]"
     ]
    },
    {
     "name": "stdout",
     "output_type": "stream",
     "text": [
      "✅ a80524e1b9f0a4a734525119073560ea (2024-11-28) - 상태코드: 200\n",
      "✅ e352d9661cf6efce5665be3ac1daef8d (2024-11-28) - 상태코드: 200\n",
      "✅ ed5ee13b468389ea6890c7fab08b566d (2024-11-28) - 상태코드: 200\n",
      "✅ d61fa89d1074146d96916f1247cd347d (2024-11-28) - 상태코드: 200\n",
      "✅ dad21b1febfb0d34778da615d562f3e7efe8d04e6d233bd35cf2fabdeb93fb0d (2024-11-28) - 상태코드: 200\n",
      "✅ e9626a0c27a5300130a601ca83fabf3f (2024-11-28) - 상태코드: 200\n",
      "✅ e140432e14534fe2cba19340c7346d79 (2024-11-28) - 상태코드: 200\n",
      "✅ d57a207f97a111ea7d7e09acc2481a1a (2024-11-28) - 상태코드: 200\n",
      "✅ 749fd7656fa0da1ec9eee05d129a24e9 (2024-11-28) - 상태코드: 200\n"
     ]
    },
    {
     "name": "stderr",
     "output_type": "stream",
     "text": [
      " 57%|█████▋    | 2931/5104 [01:04<00:59, 36.43it/s]"
     ]
    },
    {
     "name": "stdout",
     "output_type": "stream",
     "text": [
      "✅ 05b7c656f8e0cb3e06fad02b9ec2d33e (2024-11-28) - 상태코드: 200\n",
      "✅ 4909250c0ad14d97246c828356d1f659 (2024-11-28) - 상태코드: 200\n",
      "✅ cab50ec80162c1dcbeedfa1bad957da0efe8d04e6d233bd35cf2fabdeb93fb0d (2024-11-28) - 상태코드: 200\n",
      "✅ b651391ba94012d07f19648bcdc555cc (2024-11-28) - 상태코드: 200\n",
      "✅ 91dae7b1a84220b6478ece3a67eb65ac (2024-11-28) - 상태코드: 200\n"
     ]
    },
    {
     "name": "stderr",
     "output_type": "stream",
     "text": [
      " 58%|█████▊    | 2941/5104 [01:04<00:58, 36.89it/s]"
     ]
    },
    {
     "name": "stdout",
     "output_type": "stream",
     "text": [
      "✅ 949332668982d81498ae683612d78c00 (2024-11-28) - 상태코드: 200\n",
      "✅ 73ecbf3269e394a3f722e97b53c72fb7 (2024-11-28) - 상태코드: 200\n",
      "✅ 01c21c1fab12f0ceda9ab04178eab3d0 (2024-11-28) - 상태코드: 200\n",
      "✅ a546125a6567f76bda355fb111ab1a29 (2024-11-28) - 상태코드: 200\n",
      "✅ b6facd19e1308eb1d66c009c3f3889ad (2024-11-28) - 상태코드: 200\n",
      "✅ 086c7e98e760bdc20731251d90a40333efe8d04e6d233bd35cf2fabdeb93fb0d (2024-11-28) - 상태코드: 200\n",
      "✅ 9dd98c3333a69c3a6e17e6739840c2ebefe8d04e6d233bd35cf2fabdeb93fb0d (2024-11-28) - 상태코드: 200\n",
      "✅ 0155920a06c5a23dacf672a46c6e9c10 (2024-11-28) - 상태코드: 200\n",
      "✅ 69a79ee5543c1d0fe29da4e169e0bcdc (2024-11-28) - 상태코드: 200\n"
     ]
    },
    {
     "name": "stderr",
     "output_type": "stream",
     "text": [
      " 58%|█████▊    | 2947/5104 [01:05<00:57, 37.29it/s]"
     ]
    },
    {
     "name": "stdout",
     "output_type": "stream",
     "text": [
      "✅ 42f82e26c2b4470c06e2b7c7e069cfa1efe8d04e6d233bd35cf2fabdeb93fb0d (2024-11-28) - 상태코드: 200\n",
      "✅ 9db944cb648dbfa0bebd86e854c9ebeeefe8d04e6d233bd35cf2fabdeb93fb0d (2024-11-28) - 상태코드: 200\n",
      "✅ e232a5f985f59c4f8d13254992e165acefe8d04e6d233bd35cf2fabdeb93fb0d (2024-11-28) - 상태코드: 200\n",
      "✅ f7bf309b6fd22e629826ad726292aad4 (2024-11-28) - 상태코드: 200\n",
      "✅ 9d1eb4e59abcf837a062b4a851360f0eefe8d04e6d233bd35cf2fabdeb93fb0d (2024-11-28) - 상태코드: 200\n",
      "✅ 2bc563e13e76d8e5504480756fe73516 (2024-11-28) - 상태코드: 200\n",
      "✅ d6d5b0150d614b29d1881d93d1c01a9fc47ea5ffea2564f587ca830a8f71acb2 (2024-11-28) - 상태코드: 200\n",
      "✅ 4fe0212aea0ada386b0eee96db13062befe8d04e6d233bd35cf2fabdeb93fb0d (2024-11-28) - 상태코드: 200\n"
     ]
    },
    {
     "name": "stderr",
     "output_type": "stream",
     "text": [
      " 58%|█████▊    | 2957/5104 [01:05<00:51, 41.90it/s]"
     ]
    },
    {
     "name": "stdout",
     "output_type": "stream",
     "text": [
      "✅ 569063766792419f9fa7e66d599794f5efe8d04e6d233bd35cf2fabdeb93fb0d (2024-11-28) - 상태코드: 200\n",
      "✅ aa02f2c859c17c676c581f4256e69966 (2024-11-28) - 상태코드: 200\n",
      "✅ fb12f318b0d9f4618f8604ffe0f888fb (2024-11-28) - 상태코드: 200\n",
      "✅ 8a17735b943abcf8f612b8e4c3bceb41efe8d04e6d233bd35cf2fabdeb93fb0d (2024-11-28) - 상태코드: 200\n",
      "✅ 661c2af5b554a5b28cc0dc6cce4702ab (2024-11-28) - 상태코드: 200\n",
      "✅ 5b56ff5b0c2c32e6f2c29b054e06bd0fefe8d04e6d233bd35cf2fabdeb93fb0d (2024-11-28) - 상태코드: 200\n",
      "✅ a95bb1dac3969c64eccd20f750163a2a (2024-11-28) - 상태코드: 200\n",
      "✅ 4f9627fd0dfbbe737d8aa8ca3c6bf8d7 (2024-11-28) - 상태코드: 200\n",
      "✅ fb9565b9cea4342e8166135956d989af (2024-11-28) - 상태코드: 200\n",
      "✅ 9b0bfe1bbaa8d8084fdace27568d420f (2024-11-28) - 상태코드: 200\n"
     ]
    },
    {
     "name": "stderr",
     "output_type": "stream",
     "text": [
      " 58%|█████▊    | 2967/5104 [01:05<00:53, 39.75it/s]"
     ]
    },
    {
     "name": "stdout",
     "output_type": "stream",
     "text": [
      "✅ 71f0b98d89bc23c202c05265943c6bc5 (2024-11-28) - 상태코드: 200\n",
      "✅ cb6a1af44c29bed33d1668c9af14e964efe8d04e6d233bd35cf2fabdeb93fb0d (2024-11-28) - 상태코드: 200\n",
      "✅ 3319030d2d683c47e357b7e11ded870e (2024-11-28) - 상태코드: 200\n",
      "✅ f8876c7e64d221313a716acd63c918a5 (2024-11-28) - 상태코드: 200\n",
      "✅ bb8599971672667eb989098fa4524c88efe8d04e6d233bd35cf2fabdeb93fb0d (2024-11-28) - 상태코드: 200\n",
      "✅ 5a9caeb2090088491eff66ba27911c11 (2024-11-28) - 상태코드: 200\n",
      "✅ 09fe715758f3f0a4298876d30db06a78 (2024-11-28) - 상태코드: 200\n",
      "✅ 078a8d1a09e2ea6f370016dee51c52d0 (2024-11-28) - 상태코드: 200\n"
     ]
    },
    {
     "name": "stderr",
     "output_type": "stream",
     "text": [
      " 58%|█████▊    | 2977/5104 [01:05<00:54, 38.79it/s]"
     ]
    },
    {
     "name": "stdout",
     "output_type": "stream",
     "text": [
      "✅ 8f8cff703afe3336102c4a029a750416 (2024-11-28) - 상태코드: 200\n",
      "✅ 3d0eb3a674b7a1573e1461955e5a5ae5efe8d04e6d233bd35cf2fabdeb93fb0d (2024-11-28) - 상태코드: 200\n",
      "✅ 279067f16ee430c8455007ea5690d2dc (2024-11-28) - 상태코드: 200\n",
      "✅ a5a04b39e333907796194fca06402cafefe8d04e6d233bd35cf2fabdeb93fb0d (2024-11-28) - 상태코드: 200\n",
      "✅ ddf217188d89c174471891a6b6f59d99efe8d04e6d233bd35cf2fabdeb93fb0d (2024-11-28) - 상태코드: 200\n",
      "✅ d6078a0e72764a97b7c26be52905f53cefe8d04e6d233bd35cf2fabdeb93fb0d (2024-11-28) - 상태코드: 200\n",
      "✅ ca3fdcb2df3f9fdeb0c0118631640d58 (2024-11-28) - 상태코드: 200\n",
      "✅ 21f28a9cfdc51081fb323f008e874e88 (2024-11-28) - 상태코드: 200\n",
      "✅ 0741328edd7b9990d605a751adecf551 (2024-11-28) - 상태코드: 200\n",
      "✅ 2e544470cd22f7ed241dfa0adcc7ce1b (2024-11-28) - 상태코드: 200\n"
     ]
    },
    {
     "name": "stderr",
     "output_type": "stream",
     "text": [
      " 58%|█████▊    | 2982/5104 [01:05<00:56, 37.41it/s]"
     ]
    },
    {
     "name": "stdout",
     "output_type": "stream",
     "text": [
      "✅ de11c2621c2c65803f88c55a413e82edefe8d04e6d233bd35cf2fabdeb93fb0d (2024-11-28) - 상태코드: 200\n",
      "✅ 0cb0698dd005ec642f6cc183508339d0 (2024-11-28) - 상태코드: 200\n",
      "✅ 7e24b6ce24e58138322dbd0136e89666 (2024-11-28) - 상태코드: 200\n",
      "✅ 9f08774afa676e2907ec2a4cce249576 (2024-11-28) - 상태코드: 200\n",
      "✅ c1b6895b3b693f54062f25776424c8b7 (2024-11-28) - 상태코드: 200\n",
      "✅ 22b60e52a31722eea52a03a2e22a3562efe8d04e6d233bd35cf2fabdeb93fb0d (2024-11-28) - 상태코드: 200\n",
      "✅ 1e5f72f23ced1cf58753a7576a8ab39cefe8d04e6d233bd35cf2fabdeb93fb0d (2024-11-28) - 상태코드: 200\n",
      "✅ 3409df3f5f678bbf3076f251791af207efe8d04e6d233bd35cf2fabdeb93fb0d (2024-11-28) - 상태코드: 200\n",
      "✅ 68eedfd0b23ea20eede902ab6f824213efe8d04e6d233bd35cf2fabdeb93fb0d (2024-11-28) - 상태코드: 200\n",
      "✅ 11a0476903f4c67e798b027c683beb5b (2024-11-28) - 상태코드: 200\n",
      "✅ a97f73b0c4501bb55db37c2f47b8a038 (2024-11-28) - 상태코드: 200\n"
     ]
    },
    {
     "name": "stderr",
     "output_type": "stream",
     "text": [
      " 59%|█████▊    | 2994/5104 [01:06<00:50, 41.81it/s]"
     ]
    },
    {
     "name": "stdout",
     "output_type": "stream",
     "text": [
      "✅ 917faa7948e7ad9d15c872e760574f76 (2024-11-28) - 상태코드: 200\n",
      "✅ 595e3f205099d0cc0b4f48a6311bba61efe8d04e6d233bd35cf2fabdeb93fb0d (2024-11-28) - 상태코드: 200\n",
      "✅ 922f72e1f844a47114dc7db73fa08d6a (2024-11-28) - 상태코드: 200\n",
      "✅ f9cc4a44c68c926a091d7c9ab793fb9e (2024-11-28) - 상태코드: 200\n",
      "✅ 611ddd9239c26376a34e2ce13daf1117efe8d04e6d233bd35cf2fabdeb93fb0d (2024-11-28) - 상태코드: 200\n",
      "✅ 769e173a14c77fb1481869547dbd5b9defe8d04e6d233bd35cf2fabdeb93fb0d (2024-11-28) - 상태코드: 200\n",
      "✅ af56e2d5ff0c34b4fa11a322a0404514 (2024-11-28) - 상태코드: 200\n",
      "✅ 9a54921e11117eb71cec9e33572d00efefe8d04e6d233bd35cf2fabdeb93fb0d (2024-11-28) - 상태코드: 200\n",
      "✅ 9aeef4ced3288f15f5db522b4183c3f9 (2024-11-28) - 상태코드: 200\n",
      "✅ ca79866792d247003783b9bb3d5cc06d (2024-11-28) - 상태코드: 200\n"
     ]
    },
    {
     "name": "stderr",
     "output_type": "stream",
     "text": [
      " 59%|█████▉    | 3005/5104 [01:06<00:46, 45.38it/s]"
     ]
    },
    {
     "name": "stdout",
     "output_type": "stream",
     "text": [
      "✅ e687482501bdc080bafc05e81cb0bca0 (2024-11-28) - 상태코드: 200\n",
      "✅ a63955c13457331aa52bf6f60d3404bfe85e07f9d5d276f44440847eec04ba68 (2024-11-28) - 상태코드: 200\n",
      "✅ 0dae0e8b99af48a4b83b141d597d184e (2024-11-28) - 상태코드: 200\n",
      "✅ 83e2d5de5d91e75cf347c534feedc677 (2024-11-28) - 상태코드: 200\n",
      "✅ 2e0cb71481f120daf870ef953d7e0dcdefe8d04e6d233bd35cf2fabdeb93fb0d (2024-11-28) - 상태코드: 200\n",
      "✅ 94161ac9ec0fad2ff11bcd08ce194c27efe8d04e6d233bd35cf2fabdeb93fb0d (2024-11-28) - 상태코드: 200\n",
      "✅ ccb9c5420547136374300d49f970b25a4723574b05820acf03e7ec3162ff5bed (2024-11-28) - 상태코드: 200\n",
      "✅ c503e22a4c85e73306ccd152a782bb85 (2024-11-28) - 상태코드: 200\n",
      "✅ b2f1ecf671482b322448341a6f6a3636efe8d04e6d233bd35cf2fabdeb93fb0d (2024-11-28) - 상태코드: 200\n",
      "✅ 5b27a98bde5442d387b3c9fef0e252e4 (2024-11-28) - 상태코드: 200\n",
      "✅ 52c44ac4808f9331d2df4f1bc147b2f6efe8d04e6d233bd35cf2fabdeb93fb0d (2024-11-28) - 상태코드: 200\n",
      "✅ 8b05186d82f055390b31c151b13433b7efe8d04e6d233bd35cf2fabdeb93fb0d (2024-11-28) - 상태코드: 200\n"
     ]
    },
    {
     "name": "stderr",
     "output_type": "stream",
     "text": [
      " 59%|█████▉    | 3016/5104 [01:06<00:46, 45.29it/s]"
     ]
    },
    {
     "name": "stdout",
     "output_type": "stream",
     "text": [
      "✅ f9e6ee82909139cd54a5e4a5488d8ac2 (2024-11-28) - 상태코드: 200\n",
      "✅ e8ba301f60ab98692d2236db5f62b5eb (2024-11-28) - 상태코드: 200\n",
      "✅ e8de19b68e571680c4e6a353296f98ec (2024-11-28) - 상태코드: 200\n",
      "✅ ac677e9ee50144b79b3941be6860e48defe8d04e6d233bd35cf2fabdeb93fb0d (2024-11-28) - 상태코드: 200\n",
      "✅ d128d33f9f9a239cd942837993c7be01 (2024-11-28) - 상태코드: 200\n",
      "✅ 222c64ca4ba72e38f00b8a44500bf1e6 (2024-11-28) - 상태코드: 200\n",
      "✅ e226aa37a8a5648d68e8221fc90216d2 (2024-11-28) - 상태코드: 200\n",
      "✅ 606eed3e75dd3c2ea9e61356a8601f76 (2024-11-28) - 상태코드: 200\n",
      "✅ 4c010fb43dec6b26e7b0f51e687f5551 (2024-11-28) - 상태코드: 200\n"
     ]
    },
    {
     "name": "stderr",
     "output_type": "stream",
     "text": [
      " 59%|█████▉    | 3027/5104 [01:06<00:44, 46.20it/s]"
     ]
    },
    {
     "name": "stdout",
     "output_type": "stream",
     "text": [
      "✅ 1435f0c2418521498f3ab4d2fa6ab7e1 (2024-11-28) - 상태코드: 200\n",
      "✅ 484d6ac3fa7d3ffe45f7cada776b4c8d (2024-11-28) - 상태코드: 200\n",
      "✅ d50ebb0bdf1f5ae6456dc558d45fd500efe8d04e6d233bd35cf2fabdeb93fb0d (2024-11-28) - 상태코드: 200\n",
      "✅ 369dd4a3037748b67475dda468ffc0e4efe8d04e6d233bd35cf2fabdeb93fb0d (2024-11-28) - 상태코드: 200\n",
      "✅ 1b28283c121f0efb54a4a1c0e52648de (2024-11-28) - 상태코드: 200\n",
      "✅ aec72053fa4a55515d450bc873634d4c (2024-11-28) - 상태코드: 200\n",
      "✅ d64720833af0d462ab89f0b2d22bbdb2 (2024-11-28) - 상태코드: 200\n",
      "✅ 5cbc28e26aee0b5577de2f763ff061ebefe8d04e6d233bd35cf2fabdeb93fb0d (2024-11-28) - 상태코드: 200\n",
      "✅ 1140b43e83968d4212d2c15b5d52f6ee (2024-11-28) - 상태코드: 200\n"
     ]
    },
    {
     "name": "stderr",
     "output_type": "stream",
     "text": [
      " 59%|█████▉    | 3032/5104 [01:07<00:51, 40.57it/s]"
     ]
    },
    {
     "name": "stdout",
     "output_type": "stream",
     "text": [
      "✅ 4c93f25bd172d882c34d4c012dc81f4f (2024-11-28) - 상태코드: 200\n",
      "✅ 84c7f2ea5754c00020294a24ddab1a8d (2024-11-28) - 상태코드: 200\n",
      "✅ e60a3bf8f4230460bfe767a731bb4325 (2024-11-28) - 상태코드: 200\n",
      "✅ b97082f9b444551617c3f8c03fa9f656efe8d04e6d233bd35cf2fabdeb93fb0d (2024-11-28) - 상태코드: 200\n",
      "✅ 208cc01fd0425f29d2ff777fc349e53c (2024-11-28) - 상태코드: 200\n",
      "✅ e10ad02dfa2e72c14867abccfc26c5c9 (2024-11-28) - 상태코드: 200\n",
      "✅ 29843ff80a0f243d9105dab8763d2868efe8d04e6d233bd35cf2fabdeb93fb0d (2024-11-28) - 상태코드: 200\n",
      "✅ 7953c80fd7237c3729ac8c3b6ef32113 (2024-11-28) - 상태코드: 200\n"
     ]
    },
    {
     "name": "stderr",
     "output_type": "stream",
     "text": [
      " 60%|█████▉    | 3044/5104 [01:07<00:48, 42.70it/s]"
     ]
    },
    {
     "name": "stdout",
     "output_type": "stream",
     "text": [
      "✅ a3f4effaa0b4c0b34f98500914f4f7bd (2024-11-28) - 상태코드: 200\n",
      "✅ aeb92bbc7a9e744b5d19546e1f7f6571 (2024-11-28) - 상태코드: 200\n",
      "✅ 842eb3d37af78783ad985cbed9262d7fefe8d04e6d233bd35cf2fabdeb93fb0d (2024-11-28) - 상태코드: 200\n",
      "✅ 7dae4e3c7432cda35e92a37f7966b2c7 (2024-11-28) - 상태코드: 200\n",
      "✅ af576eafd68a41c83691e469abf436c5 (2024-11-28) - 상태코드: 200\n",
      "✅ 583f5a7cc979911e7f7cd57c0f0c515f (2024-11-28) - 상태코드: 200\n",
      "✅ 7b3f46040b1a1e68d0ca97fc231edb41efe8d04e6d233bd35cf2fabdeb93fb0d (2024-11-28) - 상태코드: 200\n",
      "✅ d4c900dbe429b7ba387abc475922b6a9 (2024-11-28) - 상태코드: 200\n",
      "✅ cb9171942ee3ae0fb30f572470f1fb35 (2024-11-28) - 상태코드: 200\n",
      "✅ fcdbf19f67d660ecb92153133a7b2dc6efe8d04e6d233bd35cf2fabdeb93fb0d (2024-11-28) - 상태코드: 200\n"
     ]
    },
    {
     "name": "stderr",
     "output_type": "stream",
     "text": [
      " 60%|█████▉    | 3055/5104 [01:07<00:50, 40.89it/s]"
     ]
    },
    {
     "name": "stdout",
     "output_type": "stream",
     "text": [
      "✅ 594d50bef178a32cd3a55c4b8c14ba12 (2024-11-28) - 상태코드: 200\n",
      "✅ 54293d468c7cdc28d8a52c2735987e3e (2024-11-28) - 상태코드: 200\n",
      "✅ 0dbdfe8aceacb95fc2142960b5a2dfc7 (2024-11-28) - 상태코드: 200\n",
      "✅ a9fc5302c43579c87308929aefb9831f (2024-11-28) - 상태코드: 200\n",
      "✅ dee87b47e6bb1b27829f5852e5d34f4aefe8d04e6d233bd35cf2fabdeb93fb0d (2024-11-28) - 상태코드: 200\n",
      "✅ 7cc3e1413190d5b84ab7011cc17ede7defe8d04e6d233bd35cf2fabdeb93fb0d (2024-11-28) - 상태코드: 200\n",
      "✅ fdb2c25d78c9adb59db0c1299f3fa51c (2024-11-28) - 상태코드: 200\n",
      "✅ b4bfd9886db9f78859a06730182a7aa7 (2024-11-28) - 상태코드: 200\n",
      "✅ 3106bb701f607729e94a6e314be81d42efe8d04e6d233bd35cf2fabdeb93fb0d (2024-11-28) - 상태코드: 200\n"
     ]
    },
    {
     "name": "stderr",
     "output_type": "stream",
     "text": [
      " 60%|█████▉    | 3060/5104 [01:07<00:52, 38.76it/s]"
     ]
    },
    {
     "name": "stdout",
     "output_type": "stream",
     "text": [
      "✅ cf090fdfadbe2417b3be75b579cdb2f5efe8d04e6d233bd35cf2fabdeb93fb0d (2024-11-28) - 상태코드: 200\n",
      "✅ d6fde33ffc1b86bd5fdef84d811d1f05efe8d04e6d233bd35cf2fabdeb93fb0d (2024-11-28) - 상태코드: 200\n",
      "✅ 2c24f37729a63a11addb8335d21b1e77 (2024-11-28) - 상태코드: 200\n",
      "✅ fbed6b559f00085f80fbe0d6857aced8 (2024-11-28) - 상태코드: 200\n",
      "✅ 96b94f594f811df1a56f8906646ad1a0 (2024-11-28) - 상태코드: 200\n",
      "✅ 26a0e6a1a4a8a0a827929f06ef7f7161 (2024-11-28) - 상태코드: 200\n",
      "✅ eeecf7d337e7243d7eea7a3d02fb3179efe8d04e6d233bd35cf2fabdeb93fb0d (2024-11-28) - 상태코드: 200\n",
      "✅ cff16b17e5e22654dc8e6720cb104245efe8d04e6d233bd35cf2fabdeb93fb0d (2024-11-28) - 상태코드: 200\n",
      "✅ e42807c706271ca6ab3cee4e234aa014 (2024-11-28) - 상태코드: 200\n",
      "✅ fe8d07d681e3de139829beddf6cea54a (2024-11-28) - 상태코드: 200\n"
     ]
    },
    {
     "name": "stderr",
     "output_type": "stream",
     "text": [
      " 60%|██████    | 3071/5104 [01:08<00:48, 41.83it/s]"
     ]
    },
    {
     "name": "stdout",
     "output_type": "stream",
     "text": [
      "✅ 04d062b0cf66f68b92b4e4866a2e010e (2024-11-28) - 상태코드: 200\n",
      "✅ ded605e9759ff64b0716a00c9b7364a8efe8d04e6d233bd35cf2fabdeb93fb0d (2024-11-28) - 상태코드: 200\n",
      "✅ 79b7bd0c37ceaa747ab77c16fd2d3affefe8d04e6d233bd35cf2fabdeb93fb0d (2024-11-28) - 상태코드: 200\n",
      "✅ c145c25549dc55e6142e4081b3d797ff (2024-11-28) - 상태코드: 200\n",
      "✅ 29e7a7206766577ca10470e2863c6687efe8d04e6d233bd35cf2fabdeb93fb0d (2024-11-28) - 상태코드: 200\n",
      "✅ ef474c476ad2dcbd0ee328faf47e7818 (2024-11-28) - 상태코드: 200\n",
      "✅ d48f17257465d68f51bf25bd301ea393 (2024-11-28) - 상태코드: 200\n",
      "✅ ccf5025e4395933cbd2b2505e4c2cd6befe8d04e6d233bd35cf2fabdeb93fb0d (2024-11-28) - 상태코드: 200\n",
      "✅ f545d8469f27ddd218bde6659f17f6f34723574b05820acf03e7ec3162ff5bed (2024-11-28) - 상태코드: 200\n",
      "✅ 0a8b7ed01025d8898e3a96447b0b1bc9 (2024-11-28) - 상태코드: 200\n",
      "✅ c7fcb246de5c82fdfc266790bf7d9231 (2024-11-28) - 상태코드: 200\n"
     ]
    },
    {
     "name": "stderr",
     "output_type": "stream",
     "text": [
      " 60%|██████    | 3082/5104 [01:08<00:47, 42.51it/s]"
     ]
    },
    {
     "name": "stdout",
     "output_type": "stream",
     "text": [
      "✅ 594851240918600483932901044e16acfd842dab14be2a956555625b37c97bff (2024-11-28) - 상태코드: 200\n",
      "✅ 2e087944e865d7e1c53545a57c671573 (2024-11-28) - 상태코드: 200\n",
      "✅ 2d30e1609663ceca7ca5703cbaba502a (2024-11-28) - 상태코드: 200\n",
      "✅ 54409a0836251f2274b71ee61ad619a5efe8d04e6d233bd35cf2fabdeb93fb0d (2024-11-28) - 상태코드: 200\n",
      "✅ 0e8cb07ed5308313716a9d671ec1ae47 (2024-11-28) - 상태코드: 200\n",
      "✅ 4f627a8fab0ab12a186d0007f66b2669 (2024-11-28) - 상태코드: 200\n",
      "✅ 98b43ad4613e0d97f877e32b04b3da5c (2024-11-28) - 상태코드: 200\n",
      "✅ e11a80c37297dc8034628a2cba4741cbefe8d04e6d233bd35cf2fabdeb93fb0d (2024-11-28) - 상태코드: 200\n",
      "✅ afc1ebd63f31e95898f1df395e06862b (2024-11-28) - 상태코드: 200\n",
      "✅ eb1f76ec8d0cf4a3ea16406f6fbbe8c3 (2024-11-28) - 상태코드: 200\n"
     ]
    },
    {
     "name": "stderr",
     "output_type": "stream",
     "text": [
      " 61%|██████    | 3093/5104 [01:08<00:44, 44.96it/s]"
     ]
    },
    {
     "name": "stdout",
     "output_type": "stream",
     "text": [
      "✅ cee4c7be90ffa4d71f086888e5272a98 (2024-11-28) - 상태코드: 200\n",
      "✅ d1b407deeae4faba86713249301620abefe8d04e6d233bd35cf2fabdeb93fb0d (2024-11-28) - 상태코드: 200\n",
      "✅ a00068394e40534241fc8a14dd7721a2efe8d04e6d233bd35cf2fabdeb93fb0d (2024-11-28) - 상태코드: 200\n",
      "✅ 2a46ff3a9ad98d3597d7ee195e585b43 (2024-11-28) - 상태코드: 200\n",
      "✅ 7f67fc46b1cd910a7ebf4d92867fde34 (2024-11-28) - 상태코드: 200\n",
      "✅ ee23eedfac77641a0fc30ffcc0a3217a (2024-11-28) - 상태코드: 200\n",
      "✅ a30a6c56faa5f49895e54b4bc04be058 (2024-11-28) - 상태코드: 200\n",
      "✅ d0a50e8ead72d6468c872675afb495feefe8d04e6d233bd35cf2fabdeb93fb0d (2024-11-28) - 상태코드: 200\n",
      "✅ 3ac82f2a0ca58d993d6d30d854dd546cefe8d04e6d233bd35cf2fabdeb93fb0d (2024-11-28) - 상태코드: 200\n",
      "✅ 3b8ef4201afc050122c5ff04a58361b1 (2024-11-28) - 상태코드: 200\n",
      "✅ 3c112a85118a6fb6d1e44a7a60e308ad (2024-11-28) - 상태코드: 200\n"
     ]
    },
    {
     "name": "stderr",
     "output_type": "stream",
     "text": [
      " 61%|██████    | 3104/5104 [01:08<00:45, 44.06it/s]"
     ]
    },
    {
     "name": "stdout",
     "output_type": "stream",
     "text": [
      "✅ b3fd272ec373921a00dd95b479f03d53 (2024-11-28) - 상태코드: 200\n",
      "✅ ce4c6a806604a42629b4f64f9b275b44 (2024-11-28) - 상태코드: 200\n",
      "✅ bafef7d436fab2ffff18c9d86dc62e61 (2024-11-28) - 상태코드: 200\n",
      "✅ f875503553ae169cfa2ea8acc92c5506 (2024-11-28) - 상태코드: 200\n",
      "✅ 5aed587fbfa88a1d5c6a29c2ccf54df0efe8d04e6d233bd35cf2fabdeb93fb0d (2024-11-28) - 상태코드: 200\n",
      "✅ 66584bff8c0cd94a5d5a837fbd63a0dc (2024-11-28) - 상태코드: 200\n",
      "✅ 611651e51c4dd1d8fd4a6d7893eff297 (2024-11-28) - 상태코드: 200\n",
      "✅ 5b52a370824102a5bf911496f5139d41efe8d04e6d233bd35cf2fabdeb93fb0d (2024-11-28) - 상태코드: 200\n",
      "✅ f8ba66be9026f117dc9bb9c71cfb4417 (2024-11-28) - 상태코드: 200\n",
      "✅ fc0e69178dc9b7f8a423ef2de211cd15 (2024-11-28) - 상태코드: 200\n",
      "✅ 1bc06b87204b6c886da411fbd081b183 (2024-11-28) - 상태코드: 200\n"
     ]
    },
    {
     "name": "stderr",
     "output_type": "stream",
     "text": [
      " 61%|██████    | 3110/5104 [01:08<00:50, 39.37it/s]"
     ]
    },
    {
     "name": "stdout",
     "output_type": "stream",
     "text": [
      "✅ 76675b691086b4b66898eeee8aefa3f9efe8d04e6d233bd35cf2fabdeb93fb0d (2024-11-28) - 상태코드: 200\n",
      "✅ 3979c56b335a3ba1a46aa03df9b1bfe6 (2024-11-28) - 상태코드: 200\n",
      "✅ ed54921f192cb4fdcd3d039093eec8cc (2024-11-28) - 상태코드: 200\n",
      "✅ a3cd8105da757642c8f742a7fd302236 (2024-11-28) - 상태코드: 200\n",
      "✅ 1eef0c75da54036322b76c61423a6affefe8d04e6d233bd35cf2fabdeb93fb0d (2024-11-28) - 상태코드: 200\n",
      "✅ 6a4b463c72dce569b23d98afef8fcd05 (2024-11-28) - 상태코드: 200\n",
      "✅ 0df99bfd191c9ab4a3cb17ea0f396983 (2024-11-28) - 상태코드: 200\n",
      "✅ 6cc5c3c0e9e8b41beccdcda2c73f15ec (2024-11-28) - 상태코드: 200\n",
      "✅ d0856074ab180afe613f6036a7cb93d5efe8d04e6d233bd35cf2fabdeb93fb0d (2024-11-28) - 상태코드: 200\n"
     ]
    },
    {
     "name": "stderr",
     "output_type": "stream",
     "text": [
      " 61%|██████    | 3125/5104 [01:09<00:40, 48.76it/s]"
     ]
    },
    {
     "name": "stdout",
     "output_type": "stream",
     "text": [
      "✅ 7f2f23268f62082a4e565a3e4f3c856b (2024-11-28) - 상태코드: 200\n",
      "✅ 2ae9d4052c807eece88cbc4c5ab09246 (2024-11-28) - 상태코드: 200\n",
      "✅ 4cc6ce9926b50ab077005b3be7271171 (2024-11-28) - 상태코드: 200\n",
      "✅ 128b16a889934818ecad68443d33f8f0 (2024-11-28) - 상태코드: 200\n",
      "✅ c534f454b2ad9432ef63747862021581efe8d04e6d233bd35cf2fabdeb93fb0d (2024-11-28) - 상태코드: 200\n",
      "✅ 9cf1bc49585464ced4d1117623407ef5 (2024-11-28) - 상태코드: 200\n",
      "✅ f83d731ab941bb8cb9309650bbca2556efe8d04e6d233bd35cf2fabdeb93fb0d (2024-11-28) - 상태코드: 200\n",
      "✅ 78c8235b1a43e7796e556a0904ad9b09 (2024-11-28) - 상태코드: 200\n"
     ]
    },
    {
     "name": "stderr",
     "output_type": "stream",
     "text": [
      " 61%|██████▏   | 3131/5104 [01:09<00:45, 42.95it/s]"
     ]
    },
    {
     "name": "stdout",
     "output_type": "stream",
     "text": [
      "✅ 8e418ac840d290cdcff94d0c22b393f2 (2024-11-28) - 상태코드: 200\n",
      "✅ 4cd4358a18174ade81a26c46af746d3f (2024-11-28) - 상태코드: 200\n",
      "✅ 10b358de5a7e17bc2c02f5c25432dc37efe8d04e6d233bd35cf2fabdeb93fb0d (2024-11-28) - 상태코드: 200\n",
      "✅ d5409537bfbd08b03e17dc3f52208257 (2024-11-28) - 상태코드: 200\n",
      "✅ 514cc55795d14102e6e06877cb5fef6a (2024-11-28) - 상태코드: 200\n",
      "✅ 6677c3fe29666e1eb7fd630e17995186 (2024-11-28) - 상태코드: 200\n",
      "✅ 2d9eafc741722263c64a25aa674f21c4 (2024-11-28) - 상태코드: 200\n",
      "✅ 24dbdc91d6b2f63be430a40ebdfa1d2e (2024-11-28) - 상태코드: 200\n",
      "✅ a65581762b5d6e34bac6c5bf505ab79c (2024-11-28) - 상태코드: 200\n"
     ]
    },
    {
     "name": "stderr",
     "output_type": "stream",
     "text": [
      " 61%|██████▏   | 3138/5104 [01:09<00:41, 47.73it/s]"
     ]
    },
    {
     "name": "stdout",
     "output_type": "stream",
     "text": [
      "✅ 9cfa542fcd5ce5b6f48034b1d63418a0 (2024-11-28) - 상태코드: 200\n",
      "✅ 5fae23b0a50206c30cbe3d15b462b589efe8d04e6d233bd35cf2fabdeb93fb0d (2024-11-28) - 상태코드: 200\n",
      "✅ d89293632bd02624ab8282e83d3dbe0b (2024-11-28) - 상태코드: 200\n",
      "✅ 330e83a2349a52c860524ad2a853648c (2024-11-28) - 상태코드: 200\n",
      "✅ 51dabf2f8718e6b757c4dfae215cbbd2 (2024-11-28) - 상태코드: 200\n",
      "✅ 2d6bbb92c21e0ae183e7c969df0085a5 (2024-11-28) - 상태코드: 200\n",
      "✅ 96fdb3ef9d3e17227700c25a56e592b2 (2024-11-28) - 상태코드: 200\n",
      "✅ f02dbeb0b14c3143a5ba532ca30fc43fefe8d04e6d233bd35cf2fabdeb93fb0d (2024-11-28) - 상태코드: 200\n",
      "✅ 84d5cd478dd3c1e583d94a7bf63721b2efe8d04e6d233bd35cf2fabdeb93fb0d (2024-11-28) - 상태코드: 200\n"
     ]
    },
    {
     "name": "stderr",
     "output_type": "stream",
     "text": [
      " 62%|██████▏   | 3149/5104 [01:09<00:46, 41.71it/s]"
     ]
    },
    {
     "name": "stdout",
     "output_type": "stream",
     "text": [
      "✅ 9a269c49588c1a45c5b382895206a293 (2024-11-28) - 상태코드: 200\n",
      "✅ af5deee5f0d367ba389960803ab52983 (2024-11-28) - 상태코드: 200\n",
      "✅ 728fa75237873734e013c5f128872a7b (2024-11-28) - 상태코드: 200\n",
      "✅ 0f2934b74a1e901e3c4c3cb8338740ed (2024-11-28) - 상태코드: 200\n",
      "✅ 3b2166fca378cbd08edaf70c9b49b585 (2024-11-28) - 상태코드: 200\n",
      "✅ 90da96cdb2989da5837a1e2f0192eff4 (2024-11-28) - 상태코드: 200\n",
      "✅ 3e856e0b915cb62838958909c60e59d5efe8d04e6d233bd35cf2fabdeb93fb0d (2024-11-28) - 상태코드: 200\n",
      "✅ d681a590b51294681b60695bde93e2dd (2024-11-28) - 상태코드: 200\n",
      "✅ 315bde624cd11939bdbbabd4106fbe4f (2024-12-05) - 상태코드: 200\n",
      "✅ f587802da624bef47fd854e57e966a56 (2024-12-05) - 상태코드: 200\n"
     ]
    },
    {
     "name": "stderr",
     "output_type": "stream",
     "text": [
      " 62%|██████▏   | 3160/5104 [01:10<00:43, 44.54it/s]"
     ]
    },
    {
     "name": "stdout",
     "output_type": "stream",
     "text": [
      "✅ 991f8e71da1217400748eed40b8bdf23efe8d04e6d233bd35cf2fabdeb93fb0d (2024-12-05) - 상태코드: 200\n",
      "✅ 2f378b06880684a8918b2326f303ba1e (2024-12-05) - 상태코드: 200\n",
      "✅ 023e363b5eb4997ade40e4f971cc72ad (2024-11-28) - 상태코드: 200\n",
      "✅ 084e19671a32a177b8ef654ede91290aefe8d04e6d233bd35cf2fabdeb93fb0d (2024-12-05) - 상태코드: 200\n",
      "✅ 43fca03dc8e40a8243d985bf274439e9 (2024-12-05) - 상태코드: 200\n",
      "✅ 3327ccbd3400f6e634f96f2a8fcd162defe8d04e6d233bd35cf2fabdeb93fb0d (2024-12-05) - 상태코드: 200\n",
      "✅ 7405c8fde61d4e4851cd1aa898d8d5b8 (2024-12-05) - 상태코드: 200\n",
      "✅ 0ac8f15307f1156b8c77e475666cc360efe8d04e6d233bd35cf2fabdeb93fb0d (2024-12-05) - 상태코드: 200\n",
      "✅ 24cbbe59b7b772e1748abfa6a0ced4edefe8d04e6d233bd35cf2fabdeb93fb0d (2024-12-05) - 상태코드: 200\n"
     ]
    },
    {
     "name": "stderr",
     "output_type": "stream",
     "text": [
      " 62%|██████▏   | 3165/5104 [01:10<00:43, 44.64it/s]"
     ]
    },
    {
     "name": "stdout",
     "output_type": "stream",
     "text": [
      "✅ d9bf32913f42dfc6538b0069cdad9e7d (2024-12-05) - 상태코드: 200\n",
      "✅ 4d50ebfde3298649f60c2f90f1b4ecbe (2024-12-05) - 상태코드: 200\n",
      "✅ e950d3d3530b9666ef1f688e98439297 (2024-12-05) - 상태코드: 200\n",
      "✅ 1da966c84e402bff6a90cf5058ae2789 (2024-12-05) - 상태코드: 200\n",
      "✅ a4b8f6024991432026cb303134f5c357efe8d04e6d233bd35cf2fabdeb93fb0d (2024-12-05) - 상태코드: 200\n",
      "✅ cee6e098b6e3c180d824889a190fde53 (2024-12-05) - 상태코드: 200\n",
      "✅ dde48f2b4ebaef2a8c5a216e45ad9e66efe8d04e6d233bd35cf2fabdeb93fb0d (2024-12-05) - 상태코드: 200\n",
      "✅ be5618a9953d6ab9b65213fcb34f030c (2024-12-05) - 상태코드: 200\n"
     ]
    },
    {
     "name": "stderr",
     "output_type": "stream",
     "text": [
      " 62%|██████▏   | 3176/5104 [01:10<00:46, 41.83it/s]"
     ]
    },
    {
     "name": "stdout",
     "output_type": "stream",
     "text": [
      "✅ ef81e21ae9917c9d71131baae2da79ef (2024-12-05) - 상태코드: 200\n",
      "✅ c9a416bb0b806202ce3a60e269af6844efe8d04e6d233bd35cf2fabdeb93fb0d (2024-12-05) - 상태코드: 200\n",
      "✅ 6b687b0dc9ce13d69e5044d9658450ef (2024-12-05) - 상태코드: 200\n",
      "✅ 49e4325f0f40f8ff4def448e1f108629 (2024-12-05) - 상태코드: 200\n",
      "✅ c0ea74111a33b0ed2173e230cf2b288b (2024-12-05) - 상태코드: 200\n",
      "✅ 9d87acb244249c5251373cbaa549c131 (2024-12-05) - 상태코드: 200\n",
      "✅ 9871b74cb7de1ef73e665db4cca325d1a2186d8e7cf7a6ee152d97cc78f2ae8b (2024-12-05) - 상태코드: 200\n",
      "✅ b4420ec1bcb37e564eaad70c6bbbde0e (2024-12-05) - 상태코드: 200\n",
      "✅ 1567d6e45f2cb70cc8af150eca5066d1 (2024-12-05) - 상태코드: 200\n"
     ]
    },
    {
     "name": "stderr",
     "output_type": "stream",
     "text": [
      " 62%|██████▏   | 3186/5104 [01:10<00:46, 41.15it/s]"
     ]
    },
    {
     "name": "stdout",
     "output_type": "stream",
     "text": [
      "✅ c811b6e48d017f5aecde4d9892f5944c (2024-12-05) - 상태코드: 200\n",
      "✅ efa851ff0129e9a8398c82ffd0c33450 (2024-12-05) - 상태코드: 200\n",
      "✅ 328dd4530671a706e9b1223e112cc5bb (2024-12-05) - 상태코드: 200\n",
      "✅ 8ffe7968b03a12f9a6f0687473ac675e (2024-12-05) - 상태코드: 200\n",
      "✅ 31a37325ef6211e8d0cd69bac4ec3663 (2024-12-05) - 상태코드: 200\n",
      "✅ af7df64ff10600cd3f87ebf9f384b6d3efe8d04e6d233bd35cf2fabdeb93fb0d (2024-12-05) - 상태코드: 200\n",
      "✅ 13749b48f16283d992ff7c7eb9c56c7b (2024-12-05) - 상태코드: 200\n",
      "✅ 3d9a94d775603949b0ae473c50a3f4b5a2186d8e7cf7a6ee152d97cc78f2ae8b (2024-12-05) - 상태코드: 200\n",
      "✅ 010b677091933dadb2fa6baa3307695f (2024-12-05) - 상태코드: 200\n",
      "✅ 0a703636d6ef26bf9635e788a1126201 (2024-12-05) - 상태코드: 200\n",
      "✅ 369d45ae3de0351423a2a203fb58e4e9 (2024-12-05) - 상태코드: 200\n"
     ]
    },
    {
     "name": "stderr",
     "output_type": "stream",
     "text": [
      " 63%|██████▎   | 3198/5104 [01:10<00:40, 47.40it/s]"
     ]
    },
    {
     "name": "stdout",
     "output_type": "stream",
     "text": [
      "✅ dcc1d93650d77e05a55118a76b6525cc (2024-12-05) - 상태코드: 200\n",
      "✅ 73dad618d4a97848b158de7b96d49a85efe8d04e6d233bd35cf2fabdeb93fb0d (2024-12-05) - 상태코드: 200\n",
      "✅ cf9f4d3d65107f68451d969c2bc7dbf4fd842dab14be2a956555625b37c97bff (2024-12-05) - 상태코드: 200\n",
      "✅ 3b5e23900beda889be4f7aedeeb96c38 (2024-12-05) - 상태코드: 200\n",
      "✅ 7237423af589437d6a89eb4996dec82e (2024-12-05) - 상태코드: 200\n",
      "✅ e44e7db2921405d9003d3364e63f1746 (2024-12-05) - 상태코드: 200\n",
      "✅ 59f1328667941b7fafc225f37e4df815efe8d04e6d233bd35cf2fabdeb93fb0d (2024-12-05) - 상태코드: 200\n",
      "✅ 973f491c7ed163d63046ba5349711b92efe8d04e6d233bd35cf2fabdeb93fb0d (2024-12-05) - 상태코드: 200\n",
      "✅ a9cec2bc8318d1a1ac42f48109e68812 (2024-12-05) - 상태코드: 200\n",
      "✅ 334314fccccbec6c9b3dbf401a820198 (2024-12-05) - 상태코드: 200\n"
     ]
    },
    {
     "name": "stderr",
     "output_type": "stream",
     "text": [
      " 63%|██████▎   | 3209/5104 [01:11<00:40, 46.54it/s]"
     ]
    },
    {
     "name": "stdout",
     "output_type": "stream",
     "text": [
      "✅ 87350a8f95428f9cff49732f15664023 (2024-12-05) - 상태코드: 200\n",
      "✅ d8e4494e64b1989c5e6e878d7b9c4c1c (2024-12-05) - 상태코드: 200\n",
      "✅ efb85e81bacbebb593c3b6fde6812812 (2024-12-05) - 상태코드: 200\n",
      "✅ 7098187b25417dbd097d65d40b67a4f3efe8d04e6d233bd35cf2fabdeb93fb0d (2024-12-05) - 상태코드: 200\n",
      "✅ 67115e5fff65c431ab08113d80a32ee1 (2024-12-05) - 상태코드: 200\n",
      "✅ 7b5da667dfc9a7fe3602e2b671f985d6 (2024-12-05) - 상태코드: 200\n",
      "✅ 361d1a995d2064f8a1a68141487791a0 (2024-12-05) - 상태코드: 200\n",
      "✅ 40d94d313b4c225242e3e3bd800f012befe8d04e6d233bd35cf2fabdeb93fb0d (2024-12-05) - 상태코드: 200\n",
      "✅ 23eb469a95de1a33fbffc2a2d551e6f5 (2024-12-05) - 상태코드: 200\n",
      "✅ a076d8d46421881812ee977f96c66793efe8d04e6d233bd35cf2fabdeb93fb0d (2024-12-05) - 상태코드: 200\n"
     ]
    },
    {
     "name": "stderr",
     "output_type": "stream",
     "text": [
      " 63%|██████▎   | 3220/5104 [01:11<00:39, 47.28it/s]"
     ]
    },
    {
     "name": "stdout",
     "output_type": "stream",
     "text": [
      "✅ f42bf53f9aa07d335d0a841a376bb700 (2024-12-05) - 상태코드: 200\n",
      "✅ 44dca63209cabe08f940dc1d6443d4a0 (2024-12-05) - 상태코드: 200\n",
      "✅ fb4086a2535eec99516a0fd3b11a4d28efe8d04e6d233bd35cf2fabdeb93fb0d (2024-12-05) - 상태코드: 200\n",
      "✅ fbd18705be67d58f3528061cc88f2cab (2024-12-05) - 상태코드: 200\n",
      "✅ 2358b23b1a631c006c114221f2f6fe0e (2024-12-05) - 상태코드: 200\n",
      "✅ 5dd5b26d547f1ceb68b61dc1965b07b4 (2024-12-05) - 상태코드: 200\n",
      "✅ cfbfc290e30faa09794cacaa8ad8f140 (2024-12-05) - 상태코드: 200\n",
      "✅ 8552de4485df206c8d632fc38fb94dae (2024-12-05) - 상태코드: 200\n",
      "✅ cf98e709f848d3cef643323df0c47fd9 (2024-12-05) - 상태코드: 200\n",
      "✅ 7ce7b4382cb6f9a0af8295ec94b82a93 (2024-12-05) - 상태코드: 200\n",
      "✅ b45cd4e0c0e479a35fb9d2cc319b3683efe8d04e6d233bd35cf2fabdeb93fb0d (2024-12-05) - 상태코드: 200\n"
     ]
    },
    {
     "name": "stderr",
     "output_type": "stream",
     "text": [
      " 63%|██████▎   | 3231/5104 [01:11<00:40, 45.89it/s]"
     ]
    },
    {
     "name": "stdout",
     "output_type": "stream",
     "text": [
      "✅ b10a608fb22dcc0e248c32913216c5a6efe8d04e6d233bd35cf2fabdeb93fb0d (2024-12-05) - 상태코드: 200\n",
      "✅ c566e739708e671f9e0b91fbf053210aefe8d04e6d233bd35cf2fabdeb93fb0d (2024-12-05) - 상태코드: 200\n",
      "✅ e52e431c74277449d73f798ebc3ec3cbefe8d04e6d233bd35cf2fabdeb93fb0d (2024-12-05) - 상태코드: 200\n",
      "✅ 505d941b896e8f1159bddb879d110ea1 (2024-12-05) - 상태코드: 200\n",
      "✅ 71d241a81031f190732434224f1e97d6 (2024-12-05) - 상태코드: 200\n",
      "✅ b6c71680414d49fc2caa0fc7eb96731fefe8d04e6d233bd35cf2fabdeb93fb0d (2024-12-05) - 상태코드: 200\n",
      "✅ eab2c0204d218009acca3d27f04c1301 (2024-12-05) - 상태코드: 200\n",
      "✅ 7969110f097cbb90c94d186b0e152d2d (2024-12-05) - 상태코드: 200\n",
      "✅ 2172f0fa63e98d078558490328da113defe8d04e6d233bd35cf2fabdeb93fb0d (2024-12-05) - 상태코드: 200\n",
      "✅ dff75616855c84b67700a0d8fec18290 (2024-12-05) - 상태코드: 200\n"
     ]
    },
    {
     "name": "stderr",
     "output_type": "stream",
     "text": [
      " 63%|██████▎   | 3238/5104 [01:11<00:39, 46.78it/s]"
     ]
    },
    {
     "name": "stdout",
     "output_type": "stream",
     "text": [
      "✅ 69f5080323bbd70593f64349947d313f6fbb98200a15be5bcc73a64995849e9c (2024-12-05) - 상태코드: 200\n",
      "✅ cf24034f6029aa3ec3c50995f239f971efe8d04e6d233bd35cf2fabdeb93fb0d (2024-12-05) - 상태코드: 200\n",
      "✅ ee5f641bc5d21be86fe2f326067b4dd2fd842dab14be2a956555625b37c97bff (2024-12-05) - 상태코드: 200\n",
      "✅ 67f2a8d4dde9185dd68bf25cd6f52c05efe8d04e6d233bd35cf2fabdeb93fb0d (2024-12-05) - 상태코드: 200\n",
      "✅ 9a417c08e655771b1e3110645879c4b0 (2024-12-05) - 상태코드: 200\n",
      "✅ fcf1f9c069722d679b24afa160e37448 (2024-12-05) - 상태코드: 200\n",
      "✅ 38ce87e1637199384914178e687409d1 (2024-12-05) - 상태코드: 200\n",
      "✅ 863c363e4d760cb4fb4fff0f309aa48b6fbb98200a15be5bcc73a64995849e9c (2024-12-05) - 상태코드: 200\n",
      "✅ 00f0247829e58edec8641622bc418451 (2024-12-05) - 상태코드: 200\n",
      "✅ 9265d5c0f0a029e3e9a28edcdafacb0f (2024-12-05) - 상태코드: 200\n",
      "✅ c066c19351562b2e691545fde8de0bd4 (2024-12-05) - 상태코드: 200\n"
     ]
    },
    {
     "name": "stderr",
     "output_type": "stream",
     "text": [
      " 64%|██████▎   | 3249/5104 [01:11<00:40, 45.71it/s]"
     ]
    },
    {
     "name": "stdout",
     "output_type": "stream",
     "text": [
      "✅ 9a58999832c6a605821541888de6d69e (2024-12-05) - 상태코드: 200\n",
      "✅ 2b23c64e6373f47294a53bf3bbb83ac1 (2024-12-05) - 상태코드: 200\n",
      "✅ 9dcb38a48e8f0dd058f535e3c1ce2c23 (2024-12-05) - 상태코드: 200\n",
      "✅ c765a492026cb17f3fa61b4526d7121a (2024-12-05) - 상태코드: 200\n",
      "✅ 7f0ef9ea4b05d1d934eda4284aa578a9 (2024-12-05) - 상태코드: 200\n",
      "✅ ff3de06ab1c5959deeca1a5c854955e2efe8d04e6d233bd35cf2fabdeb93fb0d (2024-12-05) - 상태코드: 200\n",
      "✅ 4696d4c9ed983e0b631f85db9b846ca3efe8d04e6d233bd35cf2fabdeb93fb0d (2024-12-05) - 상태코드: 200\n",
      "✅ a4b2853096dbb6b8dd90c9048b40a8a3efe8d04e6d233bd35cf2fabdeb93fb0d (2024-12-05) - 상태코드: 200\n",
      "✅ 68c698e7d765bb3c73e390760751e036efe8d04e6d233bd35cf2fabdeb93fb0d (2024-12-05) - 상태코드: 200\n"
     ]
    },
    {
     "name": "stderr",
     "output_type": "stream",
     "text": [
      " 64%|██████▍   | 3261/5104 [01:12<00:39, 46.11it/s]"
     ]
    },
    {
     "name": "stdout",
     "output_type": "stream",
     "text": [
      "✅ 6258239d4c1e590a4dbeef55cf6ea0a4 (2024-12-05) - 상태코드: 200\n",
      "✅ 5d06988c55830e11ef9b103162dd1631efe8d04e6d233bd35cf2fabdeb93fb0d (2024-12-05) - 상태코드: 200\n",
      "✅ cc285abdbb03c00e751b565a9da816e2efe8d04e6d233bd35cf2fabdeb93fb0d (2024-12-05) - 상태코드: 200\n",
      "✅ adec6db8f6769d50dc21317084ca1832 (2024-12-05) - 상태코드: 200\n",
      "✅ 00ff9cf9e4e55f80c30c4036eec9a5b7 (2024-12-05) - 상태코드: 200\n",
      "✅ 1d9a9df9a85d733084080c34b66bafd1efe8d04e6d233bd35cf2fabdeb93fb0d (2024-12-05) - 상태코드: 200\n",
      "✅ 1636ebe36094d80aabe514a37d074b31 (2024-12-05) - 상태코드: 200\n",
      "✅ 7b4c62020015e5f5d94a34725f865738 (2024-12-05) - 상태코드: 200\n",
      "✅ a1fe210f9fbd586c135a3357f98e79d3efe8d04e6d233bd35cf2fabdeb93fb0d (2024-12-05) - 상태코드: 200\n",
      "✅ 3d8efc04447c46298f0a1ff236fa2dbe (2024-12-05) - 상태코드: 200\n"
     ]
    },
    {
     "name": "stderr",
     "output_type": "stream",
     "text": [
      " 64%|██████▍   | 3267/5104 [01:12<00:40, 45.06it/s]"
     ]
    },
    {
     "name": "stdout",
     "output_type": "stream",
     "text": [
      "✅ 2aa540cfc2b0e638404c9641cf5daddb (2024-12-05) - 상태코드: 200\n",
      "✅ a499680a098f5596c42fe6e55594165c (2024-12-05) - 상태코드: 200\n",
      "✅ 303bde271538bbd720c6a3de31652f93 (2024-12-05) - 상태코드: 200\n",
      "✅ 499b59d931930833b49bea684ff5a9e9 (2024-12-05) - 상태코드: 200\n",
      "✅ 1aa8e296994efc80825348caa4cb16d1e85e07f9d5d276f44440847eec04ba68 (2024-12-05) - 상태코드: 200\n",
      "✅ c40337e237b52c49d1718e422db3c05c (2024-12-05) - 상태코드: 200\n",
      "✅ 9eed691a31409febf72f25664bddb99d (2024-12-05) - 상태코드: 200\n",
      "✅ 5d19b2f9799c90c41f69da143000e4f5 (2024-12-05) - 상태코드: 200\n",
      "✅ 05a0002ba6f1f91cd3a9f9a2ee9659a7 (2024-12-05) - 상태코드: 200\n",
      "✅ 134c89affce067a5019be6dce85b08c6efe8d04e6d233bd35cf2fabdeb93fb0d (2024-12-05) - 상태코드: 200\n"
     ]
    },
    {
     "name": "stderr",
     "output_type": "stream",
     "text": [
      " 64%|██████▍   | 3279/5104 [01:12<00:38, 47.78it/s]"
     ]
    },
    {
     "name": "stdout",
     "output_type": "stream",
     "text": [
      "✅ fefdf6d800abf8bcb83242cf176aaba8 (2024-12-05) - 상태코드: 200\n",
      "✅ d41c32fe3dda1cfd1a813628f97b708fefe8d04e6d233bd35cf2fabdeb93fb0d (2024-12-05) - 상태코드: 200\n",
      "✅ bda174ff8f1d074d6da1f72617966bafefe8d04e6d233bd35cf2fabdeb93fb0d (2024-12-05) - 상태코드: 200\n",
      "✅ 550e1cc0ed2e0ae6c2f4df7611f73224efe8d04e6d233bd35cf2fabdeb93fb0d (2024-12-05) - 상태코드: 200\n",
      "✅ e317d4813a69fb3361864089ed0d1757 (2024-12-05) - 상태코드: 200\n",
      "✅ 5c3e904eaca03b316daf87c4c78d0c88 (2024-12-05) - 상태코드: 200\n",
      "✅ 941b8eae23e677d24b88dab022ad9ef7 (2024-12-05) - 상태코드: 200\n",
      "✅ d742f62993190da82fa7f4671ebb1476 (2024-12-05) - 상태코드: 200\n",
      "✅ 67d1cc70712330b065d04f596b240f6f (2024-12-05) - 상태코드: 200\n",
      "✅ f298e31c365a3f7aebf382fa79d2a5b7 (2024-12-05) - 상태코드: 200\n"
     ]
    },
    {
     "name": "stderr",
     "output_type": "stream",
     "text": [
      " 64%|██████▍   | 3291/5104 [01:12<00:35, 50.64it/s]"
     ]
    },
    {
     "name": "stdout",
     "output_type": "stream",
     "text": [
      "✅ 29dd583c39b648ce88c2ae37d1b18797 (2024-12-05) - 상태코드: 200\n",
      "✅ 25ec98260177709e770fdae65c122386efe8d04e6d233bd35cf2fabdeb93fb0d (2024-12-05) - 상태코드: 200\n",
      "✅ 1b0fba64a12ea6bd6c432a7dee33543aefe8d04e6d233bd35cf2fabdeb93fb0d (2024-12-05) - 상태코드: 200\n",
      "✅ ea3cd97f4f961efe9411972c12902ff8 (2024-12-05) - 상태코드: 200\n",
      "✅ f08552c9e7895cb77a64c240559c5b51 (2024-12-05) - 상태코드: 200\n",
      "✅ bec30879111ec4fbb2b844fb746f72a4 (2024-12-05) - 상태코드: 200\n",
      "✅ b28151c9ac63ec1d5e22fbbad88218a1 (2024-12-05) - 상태코드: 200\n",
      "✅ cd9c1a0e5fb457317a5ef2a017b8674d (2024-12-05) - 상태코드: 200\n",
      "✅ 95140355ba77b90d2ee9686e68aade58 (2024-12-05) - 상태코드: 200\n",
      "✅ adccd9d6ab8a03b16d760aeca7941c2cefe8d04e6d233bd35cf2fabdeb93fb0d (2024-12-05) - 상태코드: 200\n",
      "✅ 6ffc14ff1de7b5b0a3f208b593b1144e (2024-12-05) - 상태코드: 200\n",
      "✅ 22319f7d3679c34e3b35eebb904ec905 (2024-12-05) - 상태코드: 200\n"
     ]
    },
    {
     "name": "stderr",
     "output_type": "stream",
     "text": [
      " 65%|██████▍   | 3303/5104 [01:13<00:36, 49.85it/s]"
     ]
    },
    {
     "name": "stdout",
     "output_type": "stream",
     "text": [
      "✅ 175213d5abc2e7d03632d5b61440c927efe8d04e6d233bd35cf2fabdeb93fb0d (2024-12-05) - 상태코드: 200\n",
      "✅ b24ba7b50dfdf479b1cc8d24cc65a06c (2024-12-05) - 상태코드: 200\n",
      "✅ fccc9ca12cec1d7aeceb0c2960a19f10efe8d04e6d233bd35cf2fabdeb93fb0d (2024-12-05) - 상태코드: 200\n",
      "✅ 78f3255b6e0c250b43e61d44a166171f (2024-12-05) - 상태코드: 200\n",
      "✅ 77dd3bc7f5e389c617b6dd1c70a692bbefe8d04e6d233bd35cf2fabdeb93fb0d (2024-12-05) - 상태코드: 200\n",
      "✅ 2911af63fbd902765a852e40a2d9488d (2024-12-05) - 상태코드: 200\n",
      "✅ 7a53eb7a3f8fa82a66f5d3dc999bd4b6 (2024-12-05) - 상태코드: 200\n",
      "✅ c2a21c71dc85054a2db5441ca94e3e70efe8d04e6d233bd35cf2fabdeb93fb0d (2024-12-05) - 상태코드: 200\n",
      "✅ 7eafa7de7caf079eb5cf49db9aa710b8efe8d04e6d233bd35cf2fabdeb93fb0d (2024-12-05) - 상태코드: 200\n",
      "✅ 873262f1f6eb0a0f962d72298e6bbc8defe8d04e6d233bd35cf2fabdeb93fb0d (2024-12-05) - 상태코드: 200\n",
      "✅ 3aa9923eda02aa2bdc26247a537dbf47 (2024-12-05) - 상태코드: 200\n",
      "✅ cbec16599e27e6daa37cae78a39ae3d68295750b1f4857867454debc45ec9c8a (2024-12-05) - 상태코드: 200\n",
      "✅ 50d9670d2bca4069d5b612437cd2f216 (2024-12-05) - 상태코드: 200\n"
     ]
    },
    {
     "name": "stderr",
     "output_type": "stream",
     "text": [
      " 65%|██████▍   | 3309/5104 [01:13<00:36, 48.53it/s]"
     ]
    },
    {
     "name": "stdout",
     "output_type": "stream",
     "text": [
      "✅ 9c62ce5a1e63a6c28803cb77c0c75387 (2024-12-05) - 상태코드: 200\n",
      "✅ 4a2400d5c2b265ee9117db587c2a06fa (2024-12-05) - 상태코드: 200\n",
      "✅ 4a791d3164516950e187eddd40e2b1ae (2024-12-05) - 상태코드: 200\n",
      "✅ 96eb8cf62bf545bb46c7efb3e2a87b41 (2024-12-05) - 상태코드: 200\n",
      "✅ 817453ad3139a84fc19a9718538e3d0f (2024-12-05) - 상태코드: 200\n",
      "✅ 98a45d21eb8221d564c9c1443bc5841a (2024-12-05) - 상태코드: 200\n",
      "✅ dcc0b9135f8079f587dfc85e15c3df43 (2024-12-05) - 상태코드: 200\n",
      "✅ 456806600e22efe2bc7a8e59e48dc552efe8d04e6d233bd35cf2fabdeb93fb0d (2024-12-05) - 상태코드: 200\n",
      "✅ 8376b35f898e6d1c1095657138a5f30befe8d04e6d233bd35cf2fabdeb93fb0d (2024-12-05) - 상태코드: 200\n",
      "✅ 5d9049f65e4b352bedbe1efecf1fe6e4efe8d04e6d233bd35cf2fabdeb93fb0d (2024-12-05) - 상태코드: 200\n"
     ]
    },
    {
     "name": "stderr",
     "output_type": "stream",
     "text": [
      " 65%|██████▌   | 3323/5104 [01:13<00:35, 50.57it/s]"
     ]
    },
    {
     "name": "stdout",
     "output_type": "stream",
     "text": [
      "✅ 68b68720c7bf74560c69ecd1eb137679efe8d04e6d233bd35cf2fabdeb93fb0d (2024-12-05) - 상태코드: 200\n",
      "✅ 5d3b14ba1320475fe85efbea32e64231 (2024-12-05) - 상태코드: 200\n",
      "✅ b2fb907f6fbf6a039f1cef6bdc4e8457 (2024-12-05) - 상태코드: 200\n",
      "✅ 605c5b412201ef038f655c06b69256d8 (2024-12-05) - 상태코드: 200\n",
      "✅ 6985dd5e08d08e87428031e047d1a4eb4723574b05820acf03e7ec3162ff5bed (2024-12-05) - 상태코드: 200\n",
      "✅ 72212dfd6bb031459dae2d09934d0020efe8d04e6d233bd35cf2fabdeb93fb0d (2024-12-05) - 상태코드: 200\n",
      "✅ db6fe01029329f6bf6d55ca9389afdca (2024-12-05) - 상태코드: 200\n",
      "✅ ec0eece96fa205b0e6b39913c7e760f9 (2024-12-05) - 상태코드: 200\n",
      "✅ bf893598bb415d20d3615ad9d8595fa4 (2024-12-05) - 상태코드: 200\n",
      "✅ 9674cb12e9e03484488cc3deb9031c40 (2024-12-05) - 상태코드: 200\n"
     ]
    },
    {
     "name": "stderr",
     "output_type": "stream",
     "text": [
      " 65%|██████▌   | 3329/5104 [01:13<00:38, 46.31it/s]"
     ]
    },
    {
     "name": "stdout",
     "output_type": "stream",
     "text": [
      "✅ c86d73029385cda466c249c59460456e (2024-12-05) - 상태코드: 200\n",
      "✅ 924e76ef6f91fdc8e1909a1ee1aac186 (2024-12-05) - 상태코드: 200\n",
      "✅ 7dbc7f73d47fea9e42ae93a4c62e0ed6 (2024-12-05) - 상태코드: 200\n",
      "✅ 2bc404b32c9e9bce1be5412234f69431 (2024-12-05) - 상태코드: 200\n",
      "✅ 3c4fb67f5ef74ddb5ea68e89fb3a4b96 (2024-12-05) - 상태코드: 200\n",
      "✅ 2eaee8491645cd83b692755c6871e827 (2024-12-05) - 상태코드: 200\n",
      "✅ 5864f519f1f8984fb3b011d5e91e6b80 (2024-12-05) - 상태코드: 200\n",
      "✅ f3aa4c38d90838b7872717888fa62ffb (2024-12-05) - 상태코드: 200\n",
      "✅ cb77302be9ff82eae9cc784ca55e38c5 (2024-12-05) - 상태코드: 200\n",
      "✅ 1bcc857529ccd8893ddb886150bca426 (2024-12-05) - 상태코드: 200\n"
     ]
    },
    {
     "name": "stderr",
     "output_type": "stream",
     "text": [
      " 66%|██████▌   | 3344/5104 [01:13<00:34, 51.15it/s]"
     ]
    },
    {
     "name": "stdout",
     "output_type": "stream",
     "text": [
      "✅ 18ca337f5ad8de467066790b2c2d949b (2024-12-05) - 상태코드: 200\n",
      "✅ 41ee3f02eb7418626f20b0138ba7c93defe8d04e6d233bd35cf2fabdeb93fb0d (2024-12-05) - 상태코드: 200\n",
      "✅ 9094d86d602414b186b4fbda98e6f2bf (2024-12-05) - 상태코드: 200\n",
      "✅ 2ecb9848ec933395c8c451ea0174634b (2024-12-05) - 상태코드: 200\n",
      "✅ 4181e8df10a85f5b559d5e770d5d2252 (2024-12-05) - 상태코드: 200\n",
      "✅ 617eae0aca75e93ee1c7be69e5767d3aefe8d04e6d233bd35cf2fabdeb93fb0d (2024-12-05) - 상태코드: 200\n",
      "✅ 09c019e289606a3b2a18f40609107b00efe8d04e6d233bd35cf2fabdeb93fb0d (2024-12-05) - 상태코드: 200\n",
      "✅ 6ef7a179284f11d7546a25bf2025929e (2024-12-05) - 상태코드: 200\n",
      "✅ f083690a9cd4c2b744361b829d32f719 (2024-12-05) - 상태코드: 200\n",
      "✅ 0d4053ed47127ac5afe1fbc3e28429fa (2024-12-05) - 상태코드: 200\n",
      "✅ 9024e79c09fefe51fcc407bc2dd975b8 (2024-12-05) - 상태코드: 400\n",
      "✅ 7cd8c23f47cf985528061d75c6b1c382efe8d04e6d233bd35cf2fabdeb93fb0d (2024-12-05) - 상태코드: 200\n",
      "✅ ffc42603f7cdb56696c94f00803194a9efe8d04e6d233bd35cf2fabdeb93fb0d (2024-12-05) - 상태코드: 200\n",
      "✅ ff308d37a165572b45518551ff788634 (2024-12-05) - 상태코드: 200\n"
     ]
    },
    {
     "name": "stderr",
     "output_type": "stream",
     "text": [
      " 66%|██████▌   | 3357/5104 [01:14<00:32, 52.98it/s]"
     ]
    },
    {
     "name": "stdout",
     "output_type": "stream",
     "text": [
      "✅ de89638fdf267a96e381f5f640be2a0a (2024-12-05) - 상태코드: 200\n",
      "✅ dab300fb6e0755f312a8eed1ed6d4e8fefe8d04e6d233bd35cf2fabdeb93fb0d (2024-12-05) - 상태코드: 200\n",
      "✅ f353d347dd0067d7dbed3cf109f3695d (2024-12-05) - 상태코드: 200\n",
      "✅ f3e45b94f933a06c64f87df00abec36d (2024-12-05) - 상태코드: 200\n",
      "✅ 51845de1965d98fc6f98fbc9a23c1aa7 (2024-12-05) - 상태코드: 200\n",
      "✅ 63255d98d0a9ec66ed5c6074a72642bcefe8d04e6d233bd35cf2fabdeb93fb0d (2024-12-05) - 상태코드: 200\n",
      "✅ 01f1228014a7b25747c4c7e503d5004d (2024-12-05) - 상태코드: 200\n",
      "✅ e04fc2375a222d541c4cf66ba8eadf25efe8d04e6d233bd35cf2fabdeb93fb0d (2024-12-05) - 상태코드: 200\n",
      "✅ 923866addb47956e348e45a3826ae52f (2024-12-05) - 상태코드: 200\n",
      "✅ eec1c1d15198a1f091fc9b2c4e35937eefe8d04e6d233bd35cf2fabdeb93fb0d (2024-12-05) - 상태코드: 200\n",
      "✅ 31f793de46fcb8d46bd983f35b3b2575efe8d04e6d233bd35cf2fabdeb93fb0d (2024-12-05) - 상태코드: 200\n",
      "✅ cbe6469287089e1d94a31a3276338051efe8d04e6d233bd35cf2fabdeb93fb0d (2024-12-05) - 상태코드: 200\n"
     ]
    },
    {
     "name": "stderr",
     "output_type": "stream",
     "text": [
      " 66%|██████▌   | 3369/5104 [01:14<00:33, 52.25it/s]"
     ]
    },
    {
     "name": "stdout",
     "output_type": "stream",
     "text": [
      "✅ 66bd56bc1adf5d9f285099b8115b64d4efe8d04e6d233bd35cf2fabdeb93fb0d (2024-12-05) - 상태코드: 200\n",
      "✅ 552bf45aa58039f6d66e8e207331f280efe8d04e6d233bd35cf2fabdeb93fb0d (2024-12-05) - 상태코드: 200\n",
      "✅ 5071141d43282e55e6ecfad69739e66b (2024-12-05) - 상태코드: 200\n",
      "✅ 8525e9fcb686cd08c268dc1d526533ab (2024-12-05) - 상태코드: 200\n",
      "✅ b58430f29aedbb92ed6ee6043bc9237a (2024-12-05) - 상태코드: 200\n",
      "✅ b15e18d83c7d8c7f7c94804068d4b7cd (2024-12-05) - 상태코드: 200\n",
      "✅ 6e4f367a8570a3917a021b17f3b93f40 (2024-12-05) - 상태코드: 200\n",
      "✅ 9bf4b4267127550b5428fcd699202a2b (2024-12-05) - 상태코드: 200\n",
      "✅ 1bddcdc6fd36de3027e6160f50cddddb (2024-12-05) - 상태코드: 200\n",
      "✅ 0f942f23040f371cd13d194760315425efe8d04e6d233bd35cf2fabdeb93fb0d (2024-12-05) - 상태코드: 200\n",
      "✅ 4aeebec9117601798e7aa49eced8040b (2024-12-05) - 상태코드: 200\n",
      "✅ dc19af0ea6ed05062f192561154dc706 (2024-12-05) - 상태코드: 200\n"
     ]
    },
    {
     "name": "stderr",
     "output_type": "stream",
     "text": [
      " 66%|██████▋   | 3382/5104 [01:14<00:33, 52.08it/s]"
     ]
    },
    {
     "name": "stdout",
     "output_type": "stream",
     "text": [
      "✅ d554792ccff2b040ffda97200ddf5a06 (2024-12-05) - 상태코드: 200\n",
      "✅ 1ef452f60e1c495a0feea39efdaeca6defe8d04e6d233bd35cf2fabdeb93fb0d (2024-12-05) - 상태코드: 200\n",
      "✅ e2f6a4a393bd180b040effcfd4ec2fc5efe8d04e6d233bd35cf2fabdeb93fb0d (2024-12-05) - 상태코드: 200\n",
      "✅ 74eddd0c724e5fd6fc69480f975bae98efe8d04e6d233bd35cf2fabdeb93fb0d (2024-12-05) - 상태코드: 200\n",
      "✅ b0c69c3dc4381ad8ee4acfecd942574aefe8d04e6d233bd35cf2fabdeb93fb0d (2024-12-05) - 상태코드: 200\n",
      "✅ b1c3fec1c8dec4a78cb734ad6cbce2abefe8d04e6d233bd35cf2fabdeb93fb0d (2024-12-05) - 상태코드: 200\n",
      "✅ ac6ed463785c3aa7c13f138becc0f253 (2024-12-05) - 상태코드: 200\n",
      "✅ d47c0befe817e7c8a77e9561e96e952c (2024-12-05) - 상태코드: 200\n",
      "✅ 4a299934879212a57159707e5db5e35a (2024-12-05) - 상태코드: 200\n",
      "✅ 652943692d318bdb08daf8c054d78380 (2024-12-05) - 상태코드: 200\n",
      "✅ 078eb394464e8f627d2d649cbbb9c825 (2024-12-05) - 상태코드: 200\n"
     ]
    },
    {
     "name": "stderr",
     "output_type": "stream",
     "text": [
      " 67%|██████▋   | 3395/5104 [01:14<00:30, 56.87it/s]"
     ]
    },
    {
     "name": "stdout",
     "output_type": "stream",
     "text": [
      "✅ cb4ab50d21a1dc5cdd93baa0f5a1e733 (2024-12-05) - 상태코드: 200\n",
      "✅ f20ff21f0d04dee15a9c3b2fe19d3f2b (2024-12-05) - 상태코드: 200\n",
      "✅ 0e1b29a1bac60577ace65588b1b036ba (2024-12-05) - 상태코드: 200\n",
      "✅ 96937433b1c4516f7382936eed4c6a0a (2024-12-05) - 상태코드: 200\n",
      "✅ 0b73d90ca71fcf8d1dab18d7a10418b58295750b1f4857867454debc45ec9c8a (2024-12-05) - 상태코드: 200\n",
      "✅ 72c6959de78bee956d329be4388510fb (2024-12-05) - 상태코드: 200\n",
      "✅ 2d2af3e4cf91081ed16c3ab121bd0281 (2024-12-05) - 상태코드: 200\n",
      "✅ 8033e447e0ace2c3e65440b4deda0b32 (2024-12-05) - 상태코드: 200\n",
      "✅ 6f1df967ec127389598da54ed1a60d76efe8d04e6d233bd35cf2fabdeb93fb0d (2024-12-05) - 상태코드: 200\n",
      "✅ 94a081a1112150b4297fbf08932059f4 (2024-12-05) - 상태코드: 200\n",
      "✅ 43d9f055ac2bc60ebf874358e6b384f2efe8d04e6d233bd35cf2fabdeb93fb0d (2024-12-05) - 상태코드: 200\n",
      "✅ dda80cf6b65eb765cbb81144b6510bd4 (2024-12-05) - 상태코드: 200\n"
     ]
    },
    {
     "name": "stderr",
     "output_type": "stream",
     "text": [
      " 67%|██████▋   | 3407/5104 [01:15<00:33, 49.93it/s]"
     ]
    },
    {
     "name": "stdout",
     "output_type": "stream",
     "text": [
      "✅ fcf680f9c825512ac48d975fcaa6b114 (2024-12-05) - 상태코드: 200\n",
      "✅ f335164a5b475e05beb8609329c599a4efe8d04e6d233bd35cf2fabdeb93fb0d (2024-12-05) - 상태코드: 200\n",
      "✅ 98c48e1e3f8087770b34d883a1fc831f (2024-12-05) - 상태코드: 200\n",
      "✅ 596ef0d3af32ebbbe01ee2f87a56c8c2efe8d04e6d233bd35cf2fabdeb93fb0d (2024-12-05) - 상태코드: 200\n",
      "✅ 56fc4b9cf931977357bb27cef0420594 (2024-12-05) - 상태코드: 200\n",
      "✅ 83670f0ee8304b52d15cf20c1d96c1b9efe8d04e6d233bd35cf2fabdeb93fb0d (2024-12-05) - 상태코드: 200\n",
      "✅ 1374ddde98f8f82709bf46918a3c1342 (2024-12-05) - 상태코드: 200\n",
      "✅ 5e859d25c2d12325040cbb3bce0b42b2 (2024-12-05) - 상태코드: 200\n",
      "✅ 5173c906ac53734c7ef675017299614f (2024-12-05) - 상태코드: 200\n",
      "✅ abe11ff4ece88fd4ddbcb392a852639b (2024-12-05) - 상태코드: 200\n",
      "✅ f96d8f46c73abc3fd1aa5eaeb54fef87 (2024-12-05) - 상태코드: 200\n",
      "✅ e0517827217fa1afd64b75e792a6e4c8efe8d04e6d233bd35cf2fabdeb93fb0d (2024-12-05) - 상태코드: 200\n",
      "✅ 1f039bf15b5f2c80599ee731cd7b1774 (2024-12-05) - 상태코드: 200\n",
      "✅ bcf64b0d0d2ecbdc98e55cfa1918fc81efe8d04e6d233bd35cf2fabdeb93fb0d (2024-12-05) - 상태코드: 200\n"
     ]
    },
    {
     "name": "stderr",
     "output_type": "stream",
     "text": [
      " 67%|██████▋   | 3416/5104 [01:15<00:31, 53.16it/s]"
     ]
    },
    {
     "name": "stdout",
     "output_type": "stream",
     "text": [
      "✅ fb30e1ff06044287d159313d4e36bb44 (2024-12-05) - 상태코드: 200\n",
      "✅ 18dd09ae678a710c18042a6321a50605 (2024-12-05) - 상태코드: 200\n",
      "✅ a1333be07c304f5a7eb0f373a33d2d98 (2024-12-05) - 상태코드: 200\n",
      "✅ 81f28efb7c1a9f1d4615d2c63c3251ee (2024-12-05) - 상태코드: 200\n",
      "✅ 1896b6b1552a73ef2593f1a526645de8 (2024-12-05) - 상태코드: 200\n",
      "✅ 009d56c3358999da0f4792fbe82f9eb4 (2024-12-05) - 상태코드: 200\n",
      "✅ dadfd46c8cc678054be9ed21d861b887 (2024-12-05) - 상태코드: 200\n",
      "✅ 45e4576e8a1d3f2a826190526470328d (2024-12-05) - 상태코드: 200\n",
      "✅ 1e7db39ce12124009fb5a2cc9cc9e2cc (2024-12-05) - 상태코드: 200\n",
      "✅ ac4a95d7b52ab15704c5be34936203f8a2186d8e7cf7a6ee152d97cc78f2ae8b (2024-12-05) - 상태코드: 200\n",
      "✅ a0e6334a59e8b055de21b3c15609ea49efe8d04e6d233bd35cf2fabdeb93fb0d (2024-12-05) - 상태코드: 200\n",
      "✅ 684190dcd6e22c74646c94caefcc25e3efe8d04e6d233bd35cf2fabdeb93fb0d (2024-12-05) - 상태코드: 200\n"
     ]
    },
    {
     "name": "stderr",
     "output_type": "stream",
     "text": [
      " 67%|██████▋   | 3430/5104 [01:15<00:30, 55.69it/s]"
     ]
    },
    {
     "name": "stdout",
     "output_type": "stream",
     "text": [
      "✅ fb3acbfc29d1ca6e6d9c7e0429d20d9c (2024-12-05) - 상태코드: 200\n",
      "✅ 4f7b6a34d6c6dcef7dc640080511eb88 (2024-12-05) - 상태코드: 200\n",
      "✅ b6f019babb4a5c74b8af94553d237cb9 (2024-12-05) - 상태코드: 200\n",
      "✅ 2c51cb13a92c359f9f5d05bfad0434ba (2024-12-05) - 상태코드: 200\n",
      "✅ 47ac6db232a5c1683ee369c727548e67 (2024-12-05) - 상태코드: 200\n",
      "✅ b29577973842c4dbba63fb91e207e105 (2024-12-05) - 상태코드: 200\n",
      "✅ ddf7cecd50d246131ce5790c37be8fba (2024-12-05) - 상태코드: 200\n",
      "✅ 48678dd0d931ed1924ac538954f4fd28efe8d04e6d233bd35cf2fabdeb93fb0d (2024-12-05) - 상태코드: 200\n",
      "✅ 0183ec6c2e54a15b40ac92fb9ab7bc81efe8d04e6d233bd35cf2fabdeb93fb0d (2024-12-05) - 상태코드: 200\n",
      "✅ 28db9eeffbe4bcc2126db08a4961671a (2024-12-05) - 상태코드: 200\n",
      "✅ 07af319957d3d6ebc3a25d55f9d0a98eefe8d04e6d233bd35cf2fabdeb93fb0d (2024-12-05) - 상태코드: 200\n"
     ]
    },
    {
     "name": "stderr",
     "output_type": "stream",
     "text": [
      " 67%|██████▋   | 3443/5104 [01:15<00:30, 54.56it/s]"
     ]
    },
    {
     "name": "stdout",
     "output_type": "stream",
     "text": [
      "✅ a4738e5e850c46d9c27f5ac801a69aed (2024-12-05) - 상태코드: 200\n",
      "✅ 417047c2bf9bbef41e8b494030f8fd87 (2024-12-05) - 상태코드: 200\n",
      "✅ b321e8c579c9ba4288d1be56d2a9c223 (2024-12-05) - 상태코드: 200\n",
      "✅ 6d874f0f0b8bdab87a7282d5164b5392 (2024-12-05) - 상태코드: 200\n",
      "✅ 89c87a90302bba5c0c32e214e5a59598 (2024-12-05) - 상태코드: 200\n",
      "✅ 65b9151594e89c2550fc85ca81c6d841 (2024-12-05) - 상태코드: 200\n",
      "✅ 9d4ad6c5a2848655113cc430c37c56defd842dab14be2a956555625b37c97bff (2024-12-05) - 상태코드: 200\n",
      "✅ 607bfc8c825be4299dc1825d793ffce7efe8d04e6d233bd35cf2fabdeb93fb0d (2024-12-05) - 상태코드: 200\n",
      "✅ e89c7c6babe2b4ab1b8884be9664c3fe (2024-12-05) - 상태코드: 200\n",
      "✅ 628064f9636e913c0baa587591009ac6 (2024-12-05) - 상태코드: 200\n",
      "✅ 513f7d0e3ebc8e3a66131d79e11c04b1efe8d04e6d233bd35cf2fabdeb93fb0d (2024-12-05) - 상태코드: 200\n",
      "✅ 13b88ebb451d06317f8d69884cb4d4d2 (2024-12-05) - 상태코드: 200\n",
      "✅ 243cc4be019634c003e44f3b83162ba9 (2024-12-05) - 상태코드: 200\n"
     ]
    },
    {
     "name": "stderr",
     "output_type": "stream",
     "text": [
      " 68%|██████▊   | 3457/5104 [01:15<00:28, 58.09it/s]"
     ]
    },
    {
     "name": "stdout",
     "output_type": "stream",
     "text": [
      "✅ b9978e73b47d37ac43eb62e7be35d45e (2024-12-05) - 상태코드: 200✅ ac4857b3f0caf5a20cab1ead94a9c651efe8d04e6d233bd35cf2fabdeb93fb0d (2024-12-05) - 상태코드: 200\n",
      "\n",
      "✅ a35e0eb5eb5f4507baac9cbfae8ff426efe8d04e6d233bd35cf2fabdeb93fb0d (2024-12-05) - 상태코드: 200\n",
      "✅ 90951b7330e514c0da4c1c2a23753d45 (2024-12-05) - 상태코드: 200\n",
      "✅ a7ae30be9791800519216f303f4bc242 (2024-12-05) - 상태코드: 200\n",
      "✅ 53dc77fe74235692fd93973bf44af98b (2024-12-05) - 상태코드: 200\n",
      "✅ 2cf8aa68a625ce72d975c45b48adcf4aefe8d04e6d233bd35cf2fabdeb93fb0d (2024-12-05) - 상태코드: 200\n",
      "✅ 87d836403dfc655815e83b732808b7cb (2024-12-05) - 상태코드: 200\n",
      "✅ e730f4d9a8fbed10c9bbdf65de0d8de6 (2024-12-05) - 상태코드: 200\n",
      "✅ 93243351b54b45a4baa5b98ba628307a (2024-12-05) - 상태코드: 200\n",
      "✅ 607a55e9028a67f9603062c1d4d8db40 (2024-12-05) - 상태코드: 200\n",
      "✅ f7d153f788bb31a48fac00d05ca5b8e2 (2024-12-05) - 상태코드: 200\n",
      "✅ f1d1516c36e71a807c38abbd84fe765eefe8d04e6d233bd35cf2fabdeb93fb0d (2024-12-05) - 상태코드: 200\n"
     ]
    },
    {
     "name": "stderr",
     "output_type": "stream",
     "text": [
      " 68%|██████▊   | 3470/5104 [01:16<00:30, 53.39it/s]"
     ]
    },
    {
     "name": "stdout",
     "output_type": "stream",
     "text": [
      "✅ b6b53f414556de5a94739abb87841cd6 (2024-12-05) - 상태코드: 200\n",
      "✅ 05d991b085bd80f0ebad0de4e53b6cfa (2024-12-05) - 상태코드: 200\n",
      "✅ 60af66f99265f85e546b461be98ed400fd842dab14be2a956555625b37c97bff (2024-12-05) - 상태코드: 200\n",
      "✅ da616f6c44bbbc959eb9535a47787447 (2024-12-05) - 상태코드: 200\n",
      "✅ 4cb2ef482f2206e9464146500232954b (2024-12-05) - 상태코드: 200\n",
      "✅ 8eabcdf676e4a85f6975d61127d4d610 (2024-12-05) - 상태코드: 200\n",
      "✅ d8ec6412ba8d1aa3baf5978db66b0b7fefe8d04e6d233bd35cf2fabdeb93fb0d (2024-12-05) - 상태코드: 200\n",
      "✅ 83f90ee08662bf7072342cab798430f63663933da92e7566c55104ec9ac2894d (2024-12-05) - 상태코드: 200\n",
      "✅ 706776cbc5f5f832b151be51864c383f (2024-12-05) - 상태코드: 200\n",
      "✅ 3e1ab171fd134085e5bae09eb60fc813efe8d04e6d233bd35cf2fabdeb93fb0d (2024-12-05) - 상태코드: 200\n",
      "✅ 44e51c0508ef66eccfceaf91468dd78a (2024-12-05) - 상태코드: 200\n",
      "✅ bfbcc37e329a1dbb21e0ace31256f531 (2024-12-05) - 상태코드: 200\n",
      "✅ bb2a595185dc1df66fb5642d4cb6d8fe (2024-12-05) - 상태코드: 200\n",
      "✅ 6eaf81660d02c0cec84abe413441185d (2024-12-05) - 상태코드: 200\n",
      "✅ 49df39b8edffcd97723a04e8e25a0865 (2024-12-05) - 상태코드: 200\n"
     ]
    },
    {
     "name": "stderr",
     "output_type": "stream",
     "text": [
      " 68%|██████▊   | 3484/5104 [01:16<00:31, 51.92it/s]"
     ]
    },
    {
     "name": "stdout",
     "output_type": "stream",
     "text": [
      "✅ 7039c698d6ecba5d898495be48861623 (2024-12-05) - 상태코드: 200\n",
      "✅ 51b0ee8552b272a7f0021a0688d50b5c (2024-12-05) - 상태코드: 200\n",
      "✅ 900bd769dc8ec0001c79a4f03dcfe322 (2024-12-05) - 상태코드: 200\n",
      "✅ 1d3ff485276018dcf8ec89d0cae2d958efe8d04e6d233bd35cf2fabdeb93fb0d (2024-12-05) - 상태코드: 200\n",
      "✅ 4acbee9d13dd1776cb719c4f68260f43 (2024-12-05) - 상태코드: 200\n",
      "✅ be297c02b2743b2e1b7c38df3f9df19b (2024-12-05) - 상태코드: 200\n",
      "✅ b8ff1d1fad7ddc903cc274f6718ae8eaefe8d04e6d233bd35cf2fabdeb93fb0d (2024-12-05) - 상태코드: 200\n",
      "✅ d11c9e906b69be6b7d890bbd6c4122d6 (2024-12-05) - 상태코드: 200\n",
      "✅ e9f430e3b69e519ede89c3e16181118c (2024-12-05) - 상태코드: 200\n"
     ]
    },
    {
     "name": "stderr",
     "output_type": "stream",
     "text": [
      " 68%|██████▊   | 3490/5104 [01:16<00:30, 52.74it/s]"
     ]
    },
    {
     "name": "stdout",
     "output_type": "stream",
     "text": [
      "✅ 37825ad0f43ddcc7ce30a2e864e1f05e (2024-12-05) - 상태코드: 200\n",
      "✅ cbc22128462d4dc04bee9ac58ce8f6b4efe8d04e6d233bd35cf2fabdeb93fb0d (2024-12-05) - 상태코드: 200\n",
      "✅ 5308ddc632805e3e452520444afe299befe8d04e6d233bd35cf2fabdeb93fb0d (2024-12-05) - 상태코드: 200\n",
      "✅ 9e6ab7f35d7083379e01a8e90cc04c83 (2024-12-05) - 상태코드: 200\n",
      "✅ cce592788ab19da4b107a4c140900bf1 (2024-12-05) - 상태코드: 200\n",
      "✅ cb1c035d553c3f4c109485da0be2e18d (2024-12-05) - 상태코드: 200\n",
      "✅ 125b9da1fe0f170700f5ab35fa88fad7 (2024-12-05) - 상태코드: 200\n",
      "✅ 1d205e20b3768b973ab739386bf45221 (2024-12-05) - 상태코드: 200\n",
      "✅ f75af5620bc3dfa5266a25ca35b3828e (2024-12-05) - 상태코드: 200\n",
      "✅ 124e97657847abe574fe02a27011d985efe8d04e6d233bd35cf2fabdeb93fb0d (2024-12-05) - 상태코드: 200\n"
     ]
    },
    {
     "name": "stderr",
     "output_type": "stream",
     "text": [
      " 69%|██████▊   | 3503/5104 [01:16<00:29, 54.45it/s]"
     ]
    },
    {
     "name": "stdout",
     "output_type": "stream",
     "text": [
      "✅ 6ed34ad67b3b04d73771b584529b5e32 (2024-12-05) - 상태코드: 200\n",
      "✅ 5d50176fa95c4c2777f8cfab25791e99 (2024-12-05) - 상태코드: 200\n",
      "✅ 58b6df954d118b99b6eba85049d9fe7f (2024-12-05) - 상태코드: 200\n",
      "✅ d0ed22ff62d5462ec25b061c8bf0c618 (2024-12-05) - 상태코드: 200\n",
      "✅ 4ef511aa921e2e3e6e057c7c190f671d (2024-12-05) - 상태코드: 200\n",
      "✅ 037b81a606d896f5205688c6f52225b1 (2024-12-05) - 상태코드: 200\n",
      "✅ b8f92200c8f90db7c81b555437190dc1 (2024-12-05) - 상태코드: 200\n",
      "✅ 9bece5c51bd01738235dee387ef0c76aefe8d04e6d233bd35cf2fabdeb93fb0d (2024-12-05) - 상태코드: 200\n",
      "✅ 082d54a9f0bb0639af4dcce4f9f897ef (2024-12-05) - 상태코드: 200\n",
      "✅ 121f1af3adbf3fa20663f8a2699fcace (2024-12-05) - 상태코드: 200\n",
      "✅ 13517ce3b03cf0d225cba188d339f89d (2024-12-05) - 상태코드: 200\n",
      "✅ 9927dd76911cee444a0c5df2185b0e26 (2024-12-05) - 상태코드: 200\n",
      "✅ d7b3e8296cfdb2efe1c3733608293944 (2024-12-05) - 상태코드: 200\n"
     ]
    },
    {
     "name": "stderr",
     "output_type": "stream",
     "text": [
      " 69%|██████▉   | 3515/5104 [01:17<00:29, 53.78it/s]"
     ]
    },
    {
     "name": "stdout",
     "output_type": "stream",
     "text": [
      "✅ 2588c5b885c4e32438bf8f6b64b722d2 (2024-12-05) - 상태코드: 200\n",
      "✅ 22cbe662f126130dcec290b4876c03a0 (2024-12-05) - 상태코드: 200\n",
      "✅ d5c7f47df2a522821e3034487c7d06c4 (2024-12-05) - 상태코드: 200\n",
      "✅ 086f27ce61e74d439eaf2d84ee835d22 (2024-12-05) - 상태코드: 200\n",
      "✅ 4e4859bac01f5ac5401dd6dd61a32cbe (2024-12-05) - 상태코드: 200\n",
      "✅ ed1c71f43b766cc91be5d02220d061d0 (2024-12-05) - 상태코드: 200\n",
      "✅ 4ad9cf40f4947dbc3e617dc573046051 (2024-12-05) - 상태코드: 200\n",
      "✅ 0bf63c31bc6693c1540a47e87e126f98 (2024-12-05) - 상태코드: 200\n",
      "✅ c466fac8295eaa91aeb90309016291d1 (2024-12-05) - 상태코드: 200\n",
      "✅ c1edeaffe652172fcc6dd9b094a9317f (2024-12-05) - 상태코드: 200\n",
      "✅ 255e7289a4050dc021aab745ab252dec (2024-12-05) - 상태코드: 200\n"
     ]
    },
    {
     "name": "stderr",
     "output_type": "stream",
     "text": [
      " 69%|██████▉   | 3528/5104 [01:17<00:29, 53.27it/s]"
     ]
    },
    {
     "name": "stdout",
     "output_type": "stream",
     "text": [
      "✅ fa1fbd9670ddf6052168b48fedf0cf11 (2024-12-05) - 상태코드: 200\n",
      "✅ afe1ecee209a814d003e66f02aa90ba7 (2024-12-05) - 상태코드: 200\n",
      "✅ 803c68bccde3b63f3f8406976a7e67dc (2024-12-05) - 상태코드: 200\n",
      "✅ ccab52c1bf693d0d6ae71d09db00addf (2024-12-05) - 상태코드: 200\n",
      "✅ 54ac493c2fe22724c0cb06c144a64275efe8d04e6d233bd35cf2fabdeb93fb0d (2024-12-05) - 상태코드: 200\n",
      "✅ 3aaa00df5844bdc55cad1986624c3be7efe8d04e6d233bd35cf2fabdeb93fb0d (2024-12-05) - 상태코드: 200\n",
      "✅ 42f82e26c2b4470c06e2b7c7e069cfa1efe8d04e6d233bd35cf2fabdeb93fb0d (2024-12-05) - 상태코드: 200\n",
      "✅ d2d19f003461affd5136ade7d090db06 (2024-12-05) - 상태코드: 200\n",
      "✅ 635ab0ad5752cb74bc10a5ad22ea8521efe8d04e6d233bd35cf2fabdeb93fb0d (2024-12-05) - 상태코드: 200\n",
      "✅ 89d16afabe5512a6d19d7faf4591a0db (2024-12-05) - 상태코드: 200\n",
      "✅ beb183e075d75cdae0b97ffe4c3e02ceefe8d04e6d233bd35cf2fabdeb93fb0d (2024-12-05) - 상태코드: 200\n"
     ]
    },
    {
     "name": "stderr",
     "output_type": "stream",
     "text": [
      " 69%|██████▉   | 3534/5104 [01:17<00:30, 50.99it/s]"
     ]
    },
    {
     "name": "stdout",
     "output_type": "stream",
     "text": [
      "✅ f6fc240b0f3b41439bfd22a3413be412efe8d04e6d233bd35cf2fabdeb93fb0d (2024-12-05) - 상태코드: 200\n",
      "✅ 062f16456e427ad94943fdf121da3491 (2024-12-05) - 상태코드: 200\n",
      "✅ 2dcbe99665726744be4389ad5657f0fe (2024-12-05) - 상태코드: 200\n",
      "✅ 33cf25def0b2f62779a9452b8dc605c8 (2024-12-05) - 상태코드: 200\n",
      "✅ c2e95438baaa2ac7ed0cac5ed26b6d43 (2024-12-05) - 상태코드: 200\n",
      "✅ 43c80a11fe24ec36c45d6c4141d96271 (2024-12-05) - 상태코드: 200\n",
      "✅ 6d3d78b67727f1cd66b8c927c32cdeb8 (2024-12-05) - 상태코드: 200\n",
      "✅ 6f8dbc2f1ff23a2fd3616982e0e6c90eefe8d04e6d233bd35cf2fabdeb93fb0d (2024-12-05) - 상태코드: 200\n",
      "✅ 19ef1a486e93b7c66df9c58faada3636 (2024-12-05) - 상태코드: 200\n"
     ]
    },
    {
     "name": "stderr",
     "output_type": "stream",
     "text": [
      " 69%|██████▉   | 3546/5104 [01:17<00:32, 47.29it/s]"
     ]
    },
    {
     "name": "stdout",
     "output_type": "stream",
     "text": [
      "✅ c58412069dc31cc0146afdd705524429 (2024-12-05) - 상태코드: 200\n",
      "✅ 33c3fb6ec8bb19ffd835d606fffe0246 (2024-12-05) - 상태코드: 200\n",
      "✅ 0896da33ac37e029ee477107f85be1d2 (2024-12-05) - 상태코드: 200\n",
      "✅ 7a7870916dd8d2da249fe5db0aadd915 (2024-12-05) - 상태코드: 200\n",
      "✅ 79e7ab8fe4ac172de03243f3403d4a46 (2024-12-05) - 상태코드: 200\n",
      "✅ a7602c11b724e07a1d75b6420991f158 (2024-12-05) - 상태코드: 200\n",
      "✅ 000208be9ccea59917319c24391dc215 (2024-12-05) - 상태코드: 200\n",
      "✅ a80524e1b9f0a4a734525119073560ea (2024-12-05) - 상태코드: 200\n",
      "✅ e14187f1b24933253fd566fe3eebceb0efe8d04e6d233bd35cf2fabdeb93fb0d (2024-12-05) - 상태코드: 200\n"
     ]
    },
    {
     "name": "stderr",
     "output_type": "stream",
     "text": [
      " 70%|██████▉   | 3557/5104 [01:18<00:34, 44.68it/s]"
     ]
    },
    {
     "name": "stdout",
     "output_type": "stream",
     "text": [
      "✅ dad21b1febfb0d34778da615d562f3e7efe8d04e6d233bd35cf2fabdeb93fb0d (2024-12-05) - 상태코드: 200\n",
      "✅ ed5ee13b468389ea6890c7fab08b566d (2024-12-05) - 상태코드: 200\n",
      "✅ d61fa89d1074146d96916f1247cd347d (2024-12-05) - 상태코드: 200\n",
      "✅ 749fd7656fa0da1ec9eee05d129a24e9 (2024-12-05) - 상태코드: 200\n",
      "✅ e140432e14534fe2cba19340c7346d79 (2024-12-05) - 상태코드: 200\n",
      "✅ d600c49c69b7f654d4833ee4d1d2d8b7 (2024-12-05) - 상태코드: 200\n",
      "✅ 05b7c656f8e0cb3e06fad02b9ec2d33e (2024-12-05) - 상태코드: 200\n",
      "✅ e9626a0c27a5300130a601ca83fabf3f (2024-12-05) - 상태코드: 200\n",
      "✅ d57a207f97a111ea7d7e09acc2481a1a (2024-12-05) - 상태코드: 200\n",
      "✅ cab50ec80162c1dcbeedfa1bad957da0efe8d04e6d233bd35cf2fabdeb93fb0d (2024-12-05) - 상태코드: 200\n"
     ]
    },
    {
     "name": "stderr",
     "output_type": "stream",
     "text": [
      " 70%|██████▉   | 3568/5104 [01:18<00:31, 48.67it/s]"
     ]
    },
    {
     "name": "stdout",
     "output_type": "stream",
     "text": [
      "✅ 91dae7b1a84220b6478ece3a67eb65ac (2024-12-05) - 상태코드: 200\n",
      "✅ 4909250c0ad14d97246c828356d1f659 (2024-12-05) - 상태코드: 200\n",
      "✅ a546125a6567f76bda355fb111ab1a29 (2024-12-05) - 상태코드: 200\n",
      "✅ 086c7e98e760bdc20731251d90a40333efe8d04e6d233bd35cf2fabdeb93fb0d (2024-12-05) - 상태코드: 200\n",
      "✅ 01c21c1fab12f0ceda9ab04178eab3d0 (2024-12-05) - 상태코드: 200\n",
      "✅ 949332668982d81498ae683612d78c00 (2024-12-05) - 상태코드: 200\n",
      "✅ b6facd19e1308eb1d66c009c3f3889ad (2024-12-05) - 상태코드: 200\n",
      "✅ 693743ac8812db55d59251aeec991d05 (2024-12-05) - 상태코드: 200\n",
      "✅ 9dd98c3333a69c3a6e17e6739840c2ebefe8d04e6d233bd35cf2fabdeb93fb0d (2024-12-05) - 상태코드: 200\n",
      "✅ 73ecbf3269e394a3f722e97b53c72fb7 (2024-12-05) - 상태코드: 200\n",
      "✅ 0155920a06c5a23dacf672a46c6e9c10 (2024-12-05) - 상태코드: 200\n"
     ]
    },
    {
     "name": "stderr",
     "output_type": "stream",
     "text": [
      " 70%|███████   | 3573/5104 [01:18<00:31, 48.48it/s]"
     ]
    },
    {
     "name": "stdout",
     "output_type": "stream",
     "text": [
      "✅ b651391ba94012d07f19648bcdc555cc (2024-12-05) - 상태코드: 200\n",
      "✅ 9db944cb648dbfa0bebd86e854c9ebeeefe8d04e6d233bd35cf2fabdeb93fb0d (2024-12-05) - 상태코드: 200\n",
      "✅ e232a5f985f59c4f8d13254992e165acefe8d04e6d233bd35cf2fabdeb93fb0d (2024-12-05) - 상태코드: 200\n",
      "✅ 4fe0212aea0ada386b0eee96db13062befe8d04e6d233bd35cf2fabdeb93fb0d (2024-12-05) - 상태코드: 200\n",
      "✅ f7bf309b6fd22e629826ad726292aad4 (2024-12-05) - 상태코드: 200\n",
      "✅ 569063766792419f9fa7e66d599794f5efe8d04e6d233bd35cf2fabdeb93fb0d (2024-12-05) - 상태코드: 200\n",
      "✅ 9d1eb4e59abcf837a062b4a851360f0eefe8d04e6d233bd35cf2fabdeb93fb0d (2024-12-05) - 상태코드: 200\n",
      "✅ d6d5b0150d614b29d1881d93d1c01a9fc47ea5ffea2564f587ca830a8f71acb2 (2024-12-05) - 상태코드: 200\n",
      "✅ 69a79ee5543c1d0fe29da4e169e0bcdc (2024-12-05) - 상태코드: 200\n",
      "✅ 5b56ff5b0c2c32e6f2c29b054e06bd0fefe8d04e6d233bd35cf2fabdeb93fb0d (2024-12-05) - 상태코드: 200\n"
     ]
    },
    {
     "name": "stderr",
     "output_type": "stream",
     "text": [
      " 70%|███████   | 3585/5104 [01:18<00:32, 47.35it/s]"
     ]
    },
    {
     "name": "stdout",
     "output_type": "stream",
     "text": [
      "✅ 2bc563e13e76d8e5504480756fe73516 (2024-12-05) - 상태코드: 200\n",
      "✅ aa02f2c859c17c676c581f4256e69966 (2024-12-05) - 상태코드: 200\n",
      "✅ 8a17735b943abcf8f612b8e4c3bceb41efe8d04e6d233bd35cf2fabdeb93fb0d (2024-12-05) - 상태코드: 200\n",
      "✅ fb12f318b0d9f4618f8604ffe0f888fb (2024-12-05) - 상태코드: 200\n",
      "✅ 661c2af5b554a5b28cc0dc6cce4702ab (2024-12-05) - 상태코드: 200\n",
      "✅ 595e3f205099d0cc0b4f48a6311bba61efe8d04e6d233bd35cf2fabdeb93fb0d (2024-12-05) - 상태코드: 200\n",
      "✅ 4f9627fd0dfbbe737d8aa8ca3c6bf8d7 (2024-12-05) - 상태코드: 200\n",
      "✅ 9b0bfe1bbaa8d8084fdace27568d420f (2024-12-05) - 상태코드: 200\n",
      "✅ fb9565b9cea4342e8166135956d989af (2024-12-05) - 상태코드: 200\n",
      "✅ 71f0b98d89bc23c202c05265943c6bc5 (2024-12-05) - 상태코드: 200\n"
     ]
    },
    {
     "name": "stderr",
     "output_type": "stream",
     "text": [
      " 70%|███████   | 3595/5104 [01:18<00:33, 45.12it/s]"
     ]
    },
    {
     "name": "stdout",
     "output_type": "stream",
     "text": [
      "✅ 5a9caeb2090088491eff66ba27911c11 (2024-12-05) - 상태코드: 200\n",
      "✅ cb6a1af44c29bed33d1668c9af14e964efe8d04e6d233bd35cf2fabdeb93fb0d (2024-12-05) - 상태코드: 200\n",
      "✅ bb8599971672667eb989098fa4524c88efe8d04e6d233bd35cf2fabdeb93fb0d (2024-12-05) - 상태코드: 200\n",
      "✅ ddf217188d89c174471891a6b6f59d99efe8d04e6d233bd35cf2fabdeb93fb0d (2024-12-05) - 상태코드: 200\n",
      "✅ 09fe715758f3f0a4298876d30db06a78 (2024-12-05) - 상태코드: 200\n",
      "✅ f8876c7e64d221313a716acd63c918a5 (2024-12-05) - 상태코드: 200\n",
      "✅ 279067f16ee430c8455007ea5690d2dc (2024-12-05) - 상태코드: 200\n",
      "✅ 3319030d2d683c47e357b7e11ded870e (2024-12-05) - 상태코드: 200\n",
      "✅ 8f8cff703afe3336102c4a029a750416 (2024-12-05) - 상태코드: 200\n",
      "✅ a5a04b39e333907796194fca06402cafefe8d04e6d233bd35cf2fabdeb93fb0d (2024-12-05) - 상태코드: 200\n"
     ]
    },
    {
     "name": "stderr",
     "output_type": "stream",
     "text": [
      " 71%|███████   | 3605/5104 [01:19<00:36, 41.35it/s]"
     ]
    },
    {
     "name": "stdout",
     "output_type": "stream",
     "text": [
      "✅ 078a8d1a09e2ea6f370016dee51c52d0 (2024-12-05) - 상태코드: 200\n",
      "✅ 3d0eb3a674b7a1573e1461955e5a5ae5efe8d04e6d233bd35cf2fabdeb93fb0d (2024-12-05) - 상태코드: 200\n",
      "✅ ca3fdcb2df3f9fdeb0c0118631640d58 (2024-12-05) - 상태코드: 200\n",
      "✅ 0741328edd7b9990d605a751adecf551 (2024-12-05) - 상태코드: 200\n",
      "✅ 0cb0698dd005ec642f6cc183508339d0 (2024-12-05) - 상태코드: 200\n",
      "✅ 9f08774afa676e2907ec2a4cce249576 (2024-12-05) - 상태코드: 200\n",
      "✅ de11c2621c2c65803f88c55a413e82edefe8d04e6d233bd35cf2fabdeb93fb0d (2024-12-05) - 상태코드: 200\n",
      "✅ 2e544470cd22f7ed241dfa0adcc7ce1b (2024-12-05) - 상태코드: 200\n",
      "✅ d6078a0e72764a97b7c26be52905f53cefe8d04e6d233bd35cf2fabdeb93fb0d (2024-12-05) - 상태코드: 200\n"
     ]
    },
    {
     "name": "stderr",
     "output_type": "stream",
     "text": [
      " 71%|███████   | 3610/5104 [01:19<00:35, 42.55it/s]"
     ]
    },
    {
     "name": "stdout",
     "output_type": "stream",
     "text": [
      "✅ 7e24b6ce24e58138322dbd0136e89666 (2024-12-05) - 상태코드: 200\n",
      "✅ 21f28a9cfdc51081fb323f008e874e88 (2024-12-05) - 상태코드: 200\n",
      "✅ 1e5f72f23ced1cf58753a7576a8ab39cefe8d04e6d233bd35cf2fabdeb93fb0d (2024-12-05) - 상태코드: 200\n",
      "✅ 22b60e52a31722eea52a03a2e22a3562efe8d04e6d233bd35cf2fabdeb93fb0d (2024-12-05) - 상태코드: 200\n",
      "✅ c1b6895b3b693f54062f25776424c8b7 (2024-12-05) - 상태코드: 200\n",
      "✅ 68eedfd0b23ea20eede902ab6f824213efe8d04e6d233bd35cf2fabdeb93fb0d (2024-12-05) - 상태코드: 200\n",
      "✅ 11a0476903f4c67e798b027c683beb5b (2024-12-05) - 상태코드: 200\n"
     ]
    },
    {
     "name": "stderr",
     "output_type": "stream",
     "text": [
      " 71%|███████   | 3622/5104 [01:19<00:33, 43.68it/s]"
     ]
    },
    {
     "name": "stdout",
     "output_type": "stream",
     "text": [
      "✅ ca79866792d247003783b9bb3d5cc06d (2024-12-05) - 상태코드: 200\n",
      "✅ 3409df3f5f678bbf3076f251791af207efe8d04e6d233bd35cf2fabdeb93fb0d (2024-12-05) - 상태코드: 200\n",
      "✅ 9aeef4ced3288f15f5db522b4183c3f9 (2024-12-05) - 상태코드: 200\n",
      "✅ a97f73b0c4501bb55db37c2f47b8a038 (2024-12-05) - 상태코드: 200\n",
      "✅ 769e173a14c77fb1481869547dbd5b9defe8d04e6d233bd35cf2fabdeb93fb0d (2024-12-05) - 상태코드: 200\n",
      "✅ 917faa7948e7ad9d15c872e760574f76 (2024-12-05) - 상태코드: 200\n",
      "✅ 922f72e1f844a47114dc7db73fa08d6a (2024-12-05) - 상태코드: 200\n",
      "✅ f9cc4a44c68c926a091d7c9ab793fb9e (2024-12-05) - 상태코드: 200\n",
      "✅ 9a54921e11117eb71cec9e33572d00efefe8d04e6d233bd35cf2fabdeb93fb0d (2024-12-05) - 상태코드: 200\n",
      "✅ 611ddd9239c26376a34e2ce13daf1117efe8d04e6d233bd35cf2fabdeb93fb0d (2024-12-05) - 상태코드: 200\n",
      "✅ e687482501bdc080bafc05e81cb0bca0 (2024-12-05) - 상태코드: 200\n",
      "✅ a63955c13457331aa52bf6f60d3404bfe85e07f9d5d276f44440847eec04ba68 (2024-12-05) - 상태코드: 200\n",
      "✅ af56e2d5ff0c34b4fa11a322a0404514 (2024-12-05) - 상태코드: 200\n"
     ]
    },
    {
     "name": "stderr",
     "output_type": "stream",
     "text": [
      " 71%|███████   | 3634/5104 [01:19<00:31, 47.25it/s]"
     ]
    },
    {
     "name": "stdout",
     "output_type": "stream",
     "text": [
      "✅ 0dae0e8b99af48a4b83b141d597d184e (2024-12-05) - 상태코드: 200\n",
      "✅ 83e2d5de5d91e75cf347c534feedc677 (2024-12-05) - 상태코드: 200\n",
      "✅ 94161ac9ec0fad2ff11bcd08ce194c27efe8d04e6d233bd35cf2fabdeb93fb0d (2024-12-05) - 상태코드: 200\n",
      "✅ b2f1ecf671482b322448341a6f6a3636efe8d04e6d233bd35cf2fabdeb93fb0d (2024-12-05) - 상태코드: 200\n",
      "✅ 2e0cb71481f120daf870ef953d7e0dcdefe8d04e6d233bd35cf2fabdeb93fb0d (2024-12-05) - 상태코드: 200\n",
      "✅ 5b27a98bde5442d387b3c9fef0e252e4 (2024-12-05) - 상태코드: 200\n",
      "✅ ccb9c5420547136374300d49f970b25a4723574b05820acf03e7ec3162ff5bed (2024-12-05) - 상태코드: 200\n",
      "✅ c503e22a4c85e73306ccd152a782bb85 (2024-12-05) - 상태코드: 200\n",
      "✅ a95bb1dac3969c64eccd20f750163a2a (2024-12-05) - 상태코드: 200\n",
      "✅ 8b05186d82f055390b31c151b13433b7efe8d04e6d233bd35cf2fabdeb93fb0d (2024-12-05) - 상태코드: 200\n",
      "✅ f9e6ee82909139cd54a5e4a5488d8ac2 (2024-12-05) - 상태코드: 200\n"
     ]
    },
    {
     "name": "stderr",
     "output_type": "stream",
     "text": [
      " 71%|███████▏  | 3645/5104 [01:19<00:31, 46.75it/s]"
     ]
    },
    {
     "name": "stdout",
     "output_type": "stream",
     "text": [
      "✅ e8de19b68e571680c4e6a353296f98ec (2024-12-05) - 상태코드: 200\n",
      "✅ ac677e9ee50144b79b3941be6860e48defe8d04e6d233bd35cf2fabdeb93fb0d (2024-12-05) - 상태코드: 200\n",
      "✅ 52c44ac4808f9331d2df4f1bc147b2f6efe8d04e6d233bd35cf2fabdeb93fb0d (2024-12-05) - 상태코드: 200\n",
      "✅ e8ba301f60ab98692d2236db5f62b5eb (2024-12-05) - 상태코드: 200\n",
      "✅ d128d33f9f9a239cd942837993c7be01 (2024-12-05) - 상태코드: 200\n",
      "✅ 606eed3e75dd3c2ea9e61356a8601f76 (2024-12-05) - 상태코드: 200\n",
      "✅ 222c64ca4ba72e38f00b8a44500bf1e6 (2024-12-05) - 상태코드: 200\n",
      "✅ 4c93f25bd172d882c34d4c012dc81f4f (2024-12-05) - 상태코드: 200\n",
      "✅ 4c010fb43dec6b26e7b0f51e687f5551 (2024-12-05) - 상태코드: 200\n",
      "✅ d64720833af0d462ab89f0b2d22bbdb2 (2024-12-05) - 상태코드: 200\n",
      "✅ 484d6ac3fa7d3ffe45f7cada776b4c8d (2024-12-05) - 상태코드: 200\n"
     ]
    },
    {
     "name": "stderr",
     "output_type": "stream",
     "text": [
      " 72%|███████▏  | 3657/5104 [01:20<00:31, 46.29it/s]"
     ]
    },
    {
     "name": "stdout",
     "output_type": "stream",
     "text": [
      "✅ d50ebb0bdf1f5ae6456dc558d45fd500efe8d04e6d233bd35cf2fabdeb93fb0d (2024-12-05) - 상태코드: 200\n",
      "✅ 1435f0c2418521498f3ab4d2fa6ab7e1 (2024-12-05) - 상태코드: 200\n",
      "✅ 1b28283c121f0efb54a4a1c0e52648de (2024-12-05) - 상태코드: 200\n",
      "✅ aec72053fa4a55515d450bc873634d4c (2024-12-05) - 상태코드: 200\n",
      "✅ 369dd4a3037748b67475dda468ffc0e4efe8d04e6d233bd35cf2fabdeb93fb0d (2024-12-05) - 상태코드: 200\n",
      "✅ 208cc01fd0425f29d2ff777fc349e53c (2024-12-05) - 상태코드: 200\n",
      "✅ 5cbc28e26aee0b5577de2f763ff061ebefe8d04e6d233bd35cf2fabdeb93fb0d (2024-12-05) - 상태코드: 200\n",
      "✅ a3f4effaa0b4c0b34f98500914f4f7bd (2024-12-05) - 상태코드: 200\n",
      "✅ 84c7f2ea5754c00020294a24ddab1a8d (2024-12-05) - 상태코드: 200\n"
     ]
    },
    {
     "name": "stderr",
     "output_type": "stream",
     "text": [
      " 72%|███████▏  | 3664/5104 [01:20<00:29, 49.60it/s]"
     ]
    },
    {
     "name": "stdout",
     "output_type": "stream",
     "text": [
      "✅ b97082f9b444551617c3f8c03fa9f656efe8d04e6d233bd35cf2fabdeb93fb0d (2024-12-05) - 상태코드: 200\n",
      "✅ 1140b43e83968d4212d2c15b5d52f6ee (2024-12-05) - 상태코드: 200\n",
      "✅ e10ad02dfa2e72c14867abccfc26c5c9 (2024-12-05) - 상태코드: 200\n",
      "✅ e60a3bf8f4230460bfe767a731bb4325 (2024-12-05) - 상태코드: 200\n",
      "✅ 842eb3d37af78783ad985cbed9262d7fefe8d04e6d233bd35cf2fabdeb93fb0d (2024-12-05) - 상태코드: 200\n",
      "✅ 7953c80fd7237c3729ac8c3b6ef32113 (2024-12-05) - 상태코드: 200\n",
      "✅ aeb92bbc7a9e744b5d19546e1f7f6571 (2024-12-05) - 상태코드: 200\n",
      "✅ 583f5a7cc979911e7f7cd57c0f0c515f (2024-12-05) - 상태코드: 200\n"
     ]
    },
    {
     "name": "stderr",
     "output_type": "stream",
     "text": [
      " 72%|███████▏  | 3674/5104 [01:20<00:31, 45.40it/s]"
     ]
    },
    {
     "name": "stdout",
     "output_type": "stream",
     "text": [
      "✅ 7b3f46040b1a1e68d0ca97fc231edb41efe8d04e6d233bd35cf2fabdeb93fb0d (2024-12-05) - 상태코드: 200\n",
      "✅ af576eafd68a41c83691e469abf436c5 (2024-12-05) - 상태코드: 200\n",
      "✅ 7dae4e3c7432cda35e92a37f7966b2c7 (2024-12-05) - 상태코드: 200\n",
      "✅ 594d50bef178a32cd3a55c4b8c14ba12 (2024-12-05) - 상태코드: 200\n",
      "✅ fcdbf19f67d660ecb92153133a7b2dc6efe8d04e6d233bd35cf2fabdeb93fb0d (2024-12-05) - 상태코드: 200\n",
      "✅ e226aa37a8a5648d68e8221fc90216d2 (2024-12-05) - 상태코드: 200\n",
      "✅ dee87b47e6bb1b27829f5852e5d34f4aefe8d04e6d233bd35cf2fabdeb93fb0d (2024-12-05) - 상태코드: 200\n",
      "✅ cb9171942ee3ae0fb30f572470f1fb35 (2024-12-05) - 상태코드: 200\n",
      "✅ 0dbdfe8aceacb95fc2142960b5a2dfc7 (2024-12-05) - 상태코드: 200\n",
      "✅ a9fc5302c43579c87308929aefb9831f (2024-12-05) - 상태코드: 200\n",
      "✅ 54293d468c7cdc28d8a52c2735987e3e (2024-12-05) - 상태코드: 200\n",
      "✅ d4c900dbe429b7ba387abc475922b6a9 (2024-12-05) - 상태코드: 200\n"
     ]
    },
    {
     "name": "stderr",
     "output_type": "stream",
     "text": [
      " 72%|███████▏  | 3685/5104 [01:20<00:33, 43.00it/s]"
     ]
    },
    {
     "name": "stdout",
     "output_type": "stream",
     "text": [
      "✅ b4bfd9886db9f78859a06730182a7aa7 (2024-12-05) - 상태코드: 200\n",
      "✅ fdb2c25d78c9adb59db0c1299f3fa51c (2024-12-05) - 상태코드: 200\n",
      "✅ 3106bb701f607729e94a6e314be81d42efe8d04e6d233bd35cf2fabdeb93fb0d (2024-12-05) - 상태코드: 200\n",
      "✅ 7cc3e1413190d5b84ab7011cc17ede7defe8d04e6d233bd35cf2fabdeb93fb0d (2024-12-05) - 상태코드: 200\n",
      "✅ d6fde33ffc1b86bd5fdef84d811d1f05efe8d04e6d233bd35cf2fabdeb93fb0d (2024-12-05) - 상태코드: 200\n",
      "✅ 2c24f37729a63a11addb8335d21b1e77 (2024-12-05) - 상태코드: 200\n",
      "✅ cf090fdfadbe2417b3be75b579cdb2f5efe8d04e6d233bd35cf2fabdeb93fb0d (2024-12-05) - 상태코드: 200\n",
      "✅ fbed6b559f00085f80fbe0d6857aced8 (2024-12-05) - 상태코드: 200\n",
      "✅ fe8d07d681e3de139829beddf6cea54a (2024-12-05) - 상태코드: 200\n",
      "✅ ded605e9759ff64b0716a00c9b7364a8efe8d04e6d233bd35cf2fabdeb93fb0d (2024-12-05) - 상태코드: 200\n"
     ]
    },
    {
     "name": "stderr",
     "output_type": "stream",
     "text": [
      " 72%|███████▏  | 3700/5104 [01:21<00:28, 48.89it/s]"
     ]
    },
    {
     "name": "stdout",
     "output_type": "stream",
     "text": [
      "✅ eeecf7d337e7243d7eea7a3d02fb3179efe8d04e6d233bd35cf2fabdeb93fb0d (2024-12-05) - 상태코드: 200\n",
      "✅ 96b94f594f811df1a56f8906646ad1a0 (2024-12-05) - 상태코드: 200\n",
      "✅ 26a0e6a1a4a8a0a827929f06ef7f7161 (2024-12-05) - 상태코드: 200\n",
      "✅ e42807c706271ca6ab3cee4e234aa014 (2024-12-05) - 상태코드: 200\n",
      "✅ 04d062b0cf66f68b92b4e4866a2e010e (2024-12-05) - 상태코드: 200\n",
      "✅ c145c25549dc55e6142e4081b3d797ff (2024-12-05) - 상태코드: 200\n",
      "✅ cff16b17e5e22654dc8e6720cb104245efe8d04e6d233bd35cf2fabdeb93fb0d (2024-12-05) - 상태코드: 200\n",
      "✅ ccf5025e4395933cbd2b2505e4c2cd6befe8d04e6d233bd35cf2fabdeb93fb0d (2024-12-05) - 상태코드: 200\n",
      "✅ 79b7bd0c37ceaa747ab77c16fd2d3affefe8d04e6d233bd35cf2fabdeb93fb0d (2024-12-05) - 상태코드: 200\n",
      "✅ ef474c476ad2dcbd0ee328faf47e7818 (2024-12-05) - 상태코드: 200\n",
      "✅ d48f17257465d68f51bf25bd301ea393 (2024-12-05) - 상태코드: 200\n",
      "✅ f545d8469f27ddd218bde6659f17f6f34723574b05820acf03e7ec3162ff5bed (2024-12-05) - 상태코드: 200\n"
     ]
    },
    {
     "name": "stderr",
     "output_type": "stream",
     "text": [
      " 73%|███████▎  | 3708/5104 [01:21<00:25, 55.40it/s]"
     ]
    },
    {
     "name": "stdout",
     "output_type": "stream",
     "text": [
      "✅ 2d30e1609663ceca7ca5703cbaba502a (2024-12-05) - 상태코드: 200\n",
      "✅ 29e7a7206766577ca10470e2863c6687efe8d04e6d233bd35cf2fabdeb93fb0d (2024-12-05) - 상태코드: 200\n",
      "✅ 0a8b7ed01025d8898e3a96447b0b1bc9 (2024-12-05) - 상태코드: 200\n",
      "✅ 594851240918600483932901044e16acfd842dab14be2a956555625b37c97bff (2024-12-05) - 상태코드: 200\n",
      "✅ c7fcb246de5c82fdfc266790bf7d9231 (2024-12-05) - 상태코드: 200\n",
      "✅ 2e087944e865d7e1c53545a57c671573 (2024-12-05) - 상태코드: 200\n",
      "✅ 54409a0836251f2274b71ee61ad619a5efe8d04e6d233bd35cf2fabdeb93fb0d (2024-12-05) - 상태코드: 200\n",
      "✅ 0e8cb07ed5308313716a9d671ec1ae47 (2024-12-05) - 상태코드: 200\n",
      "✅ 98b43ad4613e0d97f877e32b04b3da5c (2024-12-05) - 상태코드: 200\n",
      "✅ eb1f76ec8d0cf4a3ea16406f6fbbe8c3 (2024-12-05) - 상태코드: 200\n"
     ]
    },
    {
     "name": "stderr",
     "output_type": "stream",
     "text": [
      " 73%|███████▎  | 3720/5104 [01:21<00:29, 46.36it/s]"
     ]
    },
    {
     "name": "stdout",
     "output_type": "stream",
     "text": [
      "✅ 4f627a8fab0ab12a186d0007f66b2669 (2024-12-05) - 상태코드: 200\n",
      "✅ e11a80c37297dc8034628a2cba4741cbefe8d04e6d233bd35cf2fabdeb93fb0d (2024-12-05) - 상태코드: 200\n",
      "✅ cee4c7be90ffa4d71f086888e5272a98 (2024-12-05) - 상태코드: 200\n",
      "✅ d1b407deeae4faba86713249301620abefe8d04e6d233bd35cf2fabdeb93fb0d (2024-12-05) - 상태코드: 200\n",
      "✅ ee23eedfac77641a0fc30ffcc0a3217a (2024-12-05) - 상태코드: 200\n",
      "✅ a00068394e40534241fc8a14dd7721a2efe8d04e6d233bd35cf2fabdeb93fb0d (2024-12-05) - 상태코드: 200\n",
      "✅ b3fd272ec373921a00dd95b479f03d53 (2024-12-05) - 상태코드: 200\n",
      "✅ 2a46ff3a9ad98d3597d7ee195e585b43 (2024-12-05) - 상태코드: 200\n",
      "✅ a30a6c56faa5f49895e54b4bc04be058 (2024-12-05) - 상태코드: 200\n",
      "✅ 7f67fc46b1cd910a7ebf4d92867fde34 (2024-12-05) - 상태코드: 200\n"
     ]
    },
    {
     "name": "stderr",
     "output_type": "stream",
     "text": [
      " 73%|███████▎  | 3728/5104 [01:21<00:25, 54.03it/s]"
     ]
    },
    {
     "name": "stdout",
     "output_type": "stream",
     "text": [
      "✅ afc1ebd63f31e95898f1df395e06862b (2024-12-05) - 상태코드: 200\n",
      "✅ d0a50e8ead72d6468c872675afb495feefe8d04e6d233bd35cf2fabdeb93fb0d (2024-12-05) - 상태코드: 200\n",
      "✅ 3b8ef4201afc050122c5ff04a58361b1 (2024-12-05) - 상태코드: 200\n",
      "✅ 3c112a85118a6fb6d1e44a7a60e308ad (2024-12-05) - 상태코드: 200\n",
      "✅ ce4c6a806604a42629b4f64f9b275b44 (2024-12-05) - 상태코드: 200\n",
      "✅ f875503553ae169cfa2ea8acc92c5506 (2024-12-05) - 상태코드: 200\n",
      "✅ 3ac82f2a0ca58d993d6d30d854dd546cefe8d04e6d233bd35cf2fabdeb93fb0d (2024-12-05) - 상태코드: 200\n",
      "✅ bafef7d436fab2ffff18c9d86dc62e61 (2024-12-05) - 상태코드: 200\n",
      "✅ 5b52a370824102a5bf911496f5139d41efe8d04e6d233bd35cf2fabdeb93fb0d (2024-12-05) - 상태코드: 200\n",
      "✅ 611651e51c4dd1d8fd4a6d7893eff297 (2024-12-05) - 상태코드: 200\n",
      "✅ f8ba66be9026f117dc9bb9c71cfb4417 (2024-12-05) - 상태코드: 200\n"
     ]
    },
    {
     "name": "stderr",
     "output_type": "stream",
     "text": [
      " 73%|███████▎  | 3740/5104 [01:21<00:30, 45.18it/s]"
     ]
    },
    {
     "name": "stdout",
     "output_type": "stream",
     "text": [
      "✅ 66584bff8c0cd94a5d5a837fbd63a0dc (2024-12-05) - 상태코드: 200\n",
      "✅ fc0e69178dc9b7f8a423ef2de211cd15 (2024-12-05) - 상태코드: 200\n",
      "✅ 1bc06b87204b6c886da411fbd081b183 (2024-12-05) - 상태코드: 200\n",
      "✅ 7f2f23268f62082a4e565a3e4f3c856b (2024-12-05) - 상태코드: 200\n",
      "✅ 0df99bfd191c9ab4a3cb17ea0f396983 (2024-12-05) - 상태코드: 200\n",
      "✅ 5aed587fbfa88a1d5c6a29c2ccf54df0efe8d04e6d233bd35cf2fabdeb93fb0d (2024-12-05) - 상태코드: 200\n",
      "✅ a3cd8105da757642c8f742a7fd302236 (2024-12-05) - 상태코드: 200\n",
      "✅ 76675b691086b4b66898eeee8aefa3f9efe8d04e6d233bd35cf2fabdeb93fb0d (2024-12-05) - 상태코드: 200\n",
      "✅ d0856074ab180afe613f6036a7cb93d5efe8d04e6d233bd35cf2fabdeb93fb0d (2024-12-05) - 상태코드: 200\n",
      "✅ ed54921f192cb4fdcd3d039093eec8cc (2024-12-05) - 상태코드: 200\n",
      "✅ 3979c56b335a3ba1a46aa03df9b1bfe6 (2024-12-05) - 상태코드: 200\n",
      "✅ 6a4b463c72dce569b23d98afef8fcd05 (2024-12-05) - 상태코드: 200\n"
     ]
    },
    {
     "name": "stderr",
     "output_type": "stream",
     "text": [
      " 74%|███████▎  | 3752/5104 [01:22<00:30, 45.01it/s]"
     ]
    },
    {
     "name": "stdout",
     "output_type": "stream",
     "text": [
      "✅ c534f454b2ad9432ef63747862021581efe8d04e6d233bd35cf2fabdeb93fb0d (2024-12-05) - 상태코드: 200\n",
      "✅ 2ae9d4052c807eece88cbc4c5ab09246 (2024-12-05) - 상태코드: 200\n",
      "✅ 1eef0c75da54036322b76c61423a6affefe8d04e6d233bd35cf2fabdeb93fb0d (2024-12-05) - 상태코드: 200\n",
      "✅ 6cc5c3c0e9e8b41beccdcda2c73f15ec (2024-12-05) - 상태코드: 200\n",
      "✅ 9cf1bc49585464ced4d1117623407ef5 (2024-12-05) - 상태코드: 200\n",
      "✅ f83d731ab941bb8cb9309650bbca2556efe8d04e6d233bd35cf2fabdeb93fb0d (2024-12-05) - 상태코드: 200\n",
      "✅ 8e418ac840d290cdcff94d0c22b393f2 (2024-12-05) - 상태코드: 200\n",
      "✅ 4cc6ce9926b50ab077005b3be7271171 (2024-12-05) - 상태코드: 200\n",
      "✅ 4cd4358a18174ade81a26c46af746d3f (2024-12-05) - 상태코드: 200\n"
     ]
    },
    {
     "name": "stderr",
     "output_type": "stream",
     "text": [
      " 74%|███████▎  | 3757/5104 [01:22<00:30, 44.89it/s]"
     ]
    },
    {
     "name": "stdout",
     "output_type": "stream",
     "text": [
      "✅ d5409537bfbd08b03e17dc3f52208257 (2024-12-05) - 상태코드: 200\n",
      "✅ 78c8235b1a43e7796e556a0904ad9b09 (2024-12-05) - 상태코드: 200\n",
      "✅ 9cfa542fcd5ce5b6f48034b1d63418a0 (2024-12-05) - 상태코드: 200\n",
      "✅ 514cc55795d14102e6e06877cb5fef6a (2024-12-05) - 상태코드: 200\n",
      "✅ 6677c3fe29666e1eb7fd630e17995186 (2024-12-05) - 상태코드: 200\n",
      "✅ 128b16a889934818ecad68443d33f8f0 (2024-12-05) - 상태코드: 200\n",
      "✅ 24dbdc91d6b2f63be430a40ebdfa1d2e (2024-12-05) - 상태코드: 200\n",
      "✅ 10b358de5a7e17bc2c02f5c25432dc37efe8d04e6d233bd35cf2fabdeb93fb0d (2024-12-05) - 상태코드: 200\n",
      "✅ 330e83a2349a52c860524ad2a853648c (2024-12-05) - 상태코드: 200\n",
      "✅ a65581762b5d6e34bac6c5bf505ab79c (2024-12-05) - 상태코드: 200\n",
      "✅ 5fae23b0a50206c30cbe3d15b462b589efe8d04e6d233bd35cf2fabdeb93fb0d (2024-12-05) - 상태코드: 200\n"
     ]
    },
    {
     "name": "stderr",
     "output_type": "stream",
     "text": [
      " 74%|███████▍  | 3771/5104 [01:22<00:28, 46.28it/s]"
     ]
    },
    {
     "name": "stdout",
     "output_type": "stream",
     "text": [
      "✅ d89293632bd02624ab8282e83d3dbe0b (2024-12-05) - 상태코드: 200\n",
      "✅ 96fdb3ef9d3e17227700c25a56e592b2 (2024-12-05) - 상태코드: 200\n",
      "✅ 51dabf2f8718e6b757c4dfae215cbbd2 (2024-12-05) - 상태코드: 200\n",
      "✅ 2d9eafc741722263c64a25aa674f21c4 (2024-12-05) - 상태코드: 200\n",
      "✅ f02dbeb0b14c3143a5ba532ca30fc43fefe8d04e6d233bd35cf2fabdeb93fb0d (2024-12-05) - 상태코드: 200\n",
      "✅ 9a269c49588c1a45c5b382895206a293 (2024-12-05) - 상태코드: 200\n",
      "✅ 0f2934b74a1e901e3c4c3cb8338740ed (2024-12-05) - 상태코드: 200\n",
      "✅ 84d5cd478dd3c1e583d94a7bf63721b2efe8d04e6d233bd35cf2fabdeb93fb0d (2024-12-05) - 상태코드: 200\n",
      "✅ 2d6bbb92c21e0ae183e7c969df0085a5 (2024-12-05) - 상태코드: 200\n"
     ]
    },
    {
     "name": "stderr",
     "output_type": "stream",
     "text": [
      " 74%|███████▍  | 3777/5104 [01:22<00:26, 49.51it/s]"
     ]
    },
    {
     "name": "stdout",
     "output_type": "stream",
     "text": [
      "✅ 3e856e0b915cb62838958909c60e59d5efe8d04e6d233bd35cf2fabdeb93fb0d (2024-12-05) - 상태코드: 200\n",
      "✅ 728fa75237873734e013c5f128872a7b (2024-12-05) - 상태코드: 200\n",
      "✅ 3b2166fca378cbd08edaf70c9b49b585 (2024-12-05) - 상태코드: 200\n",
      "✅ af5deee5f0d367ba389960803ab52983 (2024-12-05) - 상태코드: 200\n",
      "✅ d681a590b51294681b60695bde93e2dd (2024-12-05) - 상태코드: 200\n",
      "✅ 023e363b5eb4997ade40e4f971cc72ad (2024-12-05) - 상태코드: 200\n",
      "✅ 315bde624cd11939bdbbabd4106fbe4f (2024-12-12) - 상태코드: 200\n",
      "✅ 90da96cdb2989da5837a1e2f0192eff4 (2024-12-05) - 상태코드: 200\n",
      "✅ 084e19671a32a177b8ef654ede91290aefe8d04e6d233bd35cf2fabdeb93fb0d (2024-12-12) - 상태코드: 200\n",
      "✅ f587802da624bef47fd854e57e966a56 (2024-12-12) - 상태코드: 200\n"
     ]
    },
    {
     "name": "stderr",
     "output_type": "stream",
     "text": [
      " 74%|███████▍  | 3793/5104 [01:23<00:26, 49.30it/s]"
     ]
    },
    {
     "name": "stdout",
     "output_type": "stream",
     "text": [
      "✅ dff75616855c84b67700a0d8fec18290 (2024-12-12) - 상태코드: 200\n",
      "✅ 991f8e71da1217400748eed40b8bdf23efe8d04e6d233bd35cf2fabdeb93fb0d (2024-12-12) - 상태코드: 200\n",
      "✅ 25a687e88b3c7a29a2121ba9a343b59f (2024-12-12) - 상태코드: 200\n",
      "✅ a170ec3f5abd30b9384d0beee904f5e8 (2024-12-12) - 상태코드: 200\n",
      "✅ 2f378b06880684a8918b2326f303ba1e (2024-12-12) - 상태코드: 200\n",
      "✅ 41bff4bc4c018a991639ba50b871354b (2024-12-12) - 상태코드: 200\n",
      "✅ 43fca03dc8e40a8243d985bf274439e9 (2024-12-12) - 상태코드: 200\n",
      "✅ d035f9e322468b7f868cdfaebec17d73 (2024-12-12) - 상태코드: 200\n",
      "✅ 3297189561bd3919028be8241b5a4acc (2024-12-12) - 상태코드: 200\n",
      "✅ 7405c8fde61d4e4851cd1aa898d8d5b8 (2024-12-12) - 상태코드: 200\n",
      "✅ 0ac8f15307f1156b8c77e475666cc360efe8d04e6d233bd35cf2fabdeb93fb0d (2024-12-12) - 상태코드: 200\n",
      "✅ 24cbbe59b7b772e1748abfa6a0ced4edefe8d04e6d233bd35cf2fabdeb93fb0d (2024-12-12) - 상태코드: 200\n",
      "✅ 3327ccbd3400f6e634f96f2a8fcd162defe8d04e6d233bd35cf2fabdeb93fb0d (2024-12-12) - 상태코드: 200\n",
      "✅ d9bf32913f42dfc6538b0069cdad9e7d (2024-12-12) - 상태코드: 200\n"
     ]
    },
    {
     "name": "stderr",
     "output_type": "stream",
     "text": [
      " 75%|███████▍  | 3806/5104 [01:23<00:24, 52.86it/s]"
     ]
    },
    {
     "name": "stdout",
     "output_type": "stream",
     "text": [
      "✅ a4b8f6024991432026cb303134f5c357efe8d04e6d233bd35cf2fabdeb93fb0d (2024-12-12) - 상태코드: 200\n",
      "✅ cee6e098b6e3c180d824889a190fde53 (2024-12-12) - 상태코드: 200\n",
      "✅ 43ab5629c3f7e8c05726065e6f780e62 (2024-12-12) - 상태코드: 200\n",
      "✅ dde48f2b4ebaef2a8c5a216e45ad9e66efe8d04e6d233bd35cf2fabdeb93fb0d (2024-12-12) - 상태코드: 200\n",
      "✅ be5618a9953d6ab9b65213fcb34f030c (2024-12-12) - 상태코드: 200\n",
      "✅ e950d3d3530b9666ef1f688e98439297 (2024-12-12) - 상태코드: 200\n",
      "✅ c9a416bb0b806202ce3a60e269af6844efe8d04e6d233bd35cf2fabdeb93fb0d (2024-12-12) - 상태코드: 200\n",
      "✅ ef81e21ae9917c9d71131baae2da79ef (2024-12-12) - 상태코드: 200\n",
      "✅ 1567d6e45f2cb70cc8af150eca5066d1 (2024-12-12) - 상태코드: 200\n",
      "✅ 49e4325f0f40f8ff4def448e1f108629 (2024-12-12) - 상태코드: 200\n",
      "✅ d1d27212d315fb4fb66d714245f1026fefe8d04e6d233bd35cf2fabdeb93fb0d (2024-12-12) - 상태코드: 200\n",
      "✅ 328dd4530671a706e9b1223e112cc5bb (2024-12-12) - 상태코드: 200\n"
     ]
    },
    {
     "name": "stderr",
     "output_type": "stream",
     "text": [
      " 75%|███████▍  | 3812/5104 [01:23<00:25, 50.13it/s]"
     ]
    },
    {
     "name": "stdout",
     "output_type": "stream",
     "text": [
      "✅ c811b6e48d017f5aecde4d9892f5944c (2024-12-12) - 상태코드: 200\n",
      "✅ efa851ff0129e9a8398c82ffd0c33450 (2024-12-12) - 상태코드: 200\n",
      "✅ 13749b48f16283d992ff7c7eb9c56c7b (2024-12-12) - 상태코드: 200\n",
      "✅ 31a37325ef6211e8d0cd69bac4ec3663 (2024-12-12) - 상태코드: 200\n",
      "✅ 0a703636d6ef26bf9635e788a1126201 (2024-12-12) - 상태코드: 200\n",
      "✅ af7df64ff10600cd3f87ebf9f384b6d3efe8d04e6d233bd35cf2fabdeb93fb0d (2024-12-12) - 상태코드: 200\n",
      "✅ 010b677091933dadb2fa6baa3307695f (2024-12-12) - 상태코드: 200\n",
      "✅ 369d45ae3de0351423a2a203fb58e4e9 (2024-12-12) - 상태코드: 200\n",
      "✅ 73dad618d4a97848b158de7b96d49a85efe8d04e6d233bd35cf2fabdeb93fb0d (2024-12-12) - 상태코드: 200\n",
      "✅ dcc1d93650d77e05a55118a76b6525cc (2024-12-12) - 상태코드: 200\n",
      "✅ cf9f4d3d65107f68451d969c2bc7dbf4fd842dab14be2a956555625b37c97bff (2024-12-12) - 상태코드: 200\n"
     ]
    },
    {
     "name": "stderr",
     "output_type": "stream",
     "text": [
      " 75%|███████▌  | 3828/5104 [01:23<00:22, 56.98it/s]"
     ]
    },
    {
     "name": "stdout",
     "output_type": "stream",
     "text": [
      "✅ 3b5e23900beda889be4f7aedeeb96c38 (2024-12-12) - 상태코드: 200\n",
      "✅ 3d9a94d775603949b0ae473c50a3f4b5a2186d8e7cf7a6ee152d97cc78f2ae8b (2024-12-12) - 상태코드: 200\n",
      "✅ 7237423af589437d6a89eb4996dec82e (2024-12-12) - 상태코드: 200\n",
      "✅ 59f1328667941b7fafc225f37e4df815efe8d04e6d233bd35cf2fabdeb93fb0d (2024-12-12) - 상태코드: 200\n",
      "✅ e44e7db2921405d9003d3364e63f1746 (2024-12-12) - 상태코드: 200\n",
      "✅ 973f491c7ed163d63046ba5349711b92efe8d04e6d233bd35cf2fabdeb93fb0d (2024-12-12) - 상태코드: 200\n",
      "✅ 334314fccccbec6c9b3dbf401a820198 (2024-12-12) - 상태코드: 200\n",
      "✅ 7098187b25417dbd097d65d40b67a4f3efe8d04e6d233bd35cf2fabdeb93fb0d (2024-12-12) - 상태코드: 200\n",
      "✅ a9cec2bc8318d1a1ac42f48109e68812 (2024-12-12) - 상태코드: 200\n",
      "✅ 1ad89fe6fc5a2574ae51c09882a52b98 (2024-12-12) - 상태코드: 200\n",
      "✅ d8e4494e64b1989c5e6e878d7b9c4c1c (2024-12-12) - 상태코드: 200\n",
      "✅ 67115e5fff65c431ab08113d80a32ee1 (2024-12-12) - 상태코드: 200\n",
      "✅ f42bf53f9aa07d335d0a841a376bb700 (2024-12-12) - 상태코드: 200\n"
     ]
    },
    {
     "name": "stderr",
     "output_type": "stream",
     "text": [
      " 75%|███████▌  | 3841/5104 [01:23<00:23, 53.84it/s]"
     ]
    },
    {
     "name": "stdout",
     "output_type": "stream",
     "text": [
      "✅ 40d94d313b4c225242e3e3bd800f012befe8d04e6d233bd35cf2fabdeb93fb0d (2024-12-12) - 상태코드: 200\n",
      "✅ 7b5da667dfc9a7fe3602e2b671f985d6 (2024-12-12) - 상태코드: 200\n",
      "✅ 361d1a995d2064f8a1a68141487791a0 (2024-12-12) - 상태코드: 200\n",
      "✅ 23eb469a95de1a33fbffc2a2d551e6f5 (2024-12-12) - 상태코드: 200\n",
      "✅ a076d8d46421881812ee977f96c66793efe8d04e6d233bd35cf2fabdeb93fb0d (2024-12-12) - 상태코드: 200\n",
      "✅ f4cc1c57a14345fe9e7144f6bded643a (2024-12-12) - 상태코드: 200\n",
      "✅ 44dca63209cabe08f940dc1d6443d4a0 (2024-12-12) - 상태코드: 200\n",
      "✅ 9b30b09b5a52be98d04c236ee5720c73 (2024-12-12) - 상태코드: 200\n",
      "✅ 5dd5b26d547f1ceb68b61dc1965b07b4 (2024-12-12) - 상태코드: 200\n",
      "✅ fbd18705be67d58f3528061cc88f2cab (2024-12-12) - 상태코드: 200\n",
      "✅ 2358b23b1a631c006c114221f2f6fe0e (2024-12-12) - 상태코드: 200\n",
      "✅ fb4086a2535eec99516a0fd3b11a4d28efe8d04e6d233bd35cf2fabdeb93fb0d (2024-12-12) - 상태코드: 200\n"
     ]
    },
    {
     "name": "stderr",
     "output_type": "stream",
     "text": [
      " 76%|███████▌  | 3854/5104 [01:24<00:23, 52.87it/s]"
     ]
    },
    {
     "name": "stdout",
     "output_type": "stream",
     "text": [
      "✅ 5b355259bd13f25406b58dadcbc3122f (2024-12-12) - 상태코드: 200\n",
      "✅ cfbfc290e30faa09794cacaa8ad8f140 (2024-12-12) - 상태코드: 200\n",
      "✅ 7d314907d4ba901ed42a8bd2ec4ecc08 (2024-12-12) - 상태코드: 200\n",
      "✅ 8552de4485df206c8d632fc38fb94dae (2024-12-12) - 상태코드: 200\n",
      "✅ f17a5f4ae5ea753331b30d0f9be40f26 (2024-12-12) - 상태코드: 200\n",
      "✅ cf98e709f848d3cef643323df0c47fd9 (2024-12-12) - 상태코드: 200\n",
      "✅ b45cd4e0c0e479a35fb9d2cc319b3683efe8d04e6d233bd35cf2fabdeb93fb0d (2024-12-12) - 상태코드: 200\n",
      "✅ b10a608fb22dcc0e248c32913216c5a6efe8d04e6d233bd35cf2fabdeb93fb0d (2024-12-12) - 상태코드: 200\n",
      "✅ e52e431c74277449d73f798ebc3ec3cbefe8d04e6d233bd35cf2fabdeb93fb0d (2024-12-12) - 상태코드: 200\n",
      "✅ dca25a6b8259beeaa29f7cbf0605616c (2024-12-12) - 상태코드: 200\n"
     ]
    },
    {
     "name": "stderr",
     "output_type": "stream",
     "text": [
      " 76%|███████▌  | 3860/5104 [01:24<00:23, 53.12it/s]"
     ]
    },
    {
     "name": "stdout",
     "output_type": "stream",
     "text": [
      "✅ 7ce7b4382cb6f9a0af8295ec94b82a93 (2024-12-12) - 상태코드: 200\n",
      "✅ c566e739708e671f9e0b91fbf053210aefe8d04e6d233bd35cf2fabdeb93fb0d (2024-12-12) - 상태코드: 200\n",
      "✅ eab2c0204d218009acca3d27f04c1301 (2024-12-12) - 상태코드: 200\n",
      "✅ 71d241a81031f190732434224f1e97d6 (2024-12-12) - 상태코드: 200\n",
      "✅ b6c71680414d49fc2caa0fc7eb96731fefe8d04e6d233bd35cf2fabdeb93fb0d (2024-12-12) - 상태코드: 200\n",
      "✅ 7969110f097cbb90c94d186b0e152d2d (2024-12-12) - 상태코드: 200\n",
      "✅ 2172f0fa63e98d078558490328da113defe8d04e6d233bd35cf2fabdeb93fb0d (2024-12-12) - 상태코드: 200\n",
      "✅ cf24034f6029aa3ec3c50995f239f971efe8d04e6d233bd35cf2fabdeb93fb0d (2024-12-12) - 상태코드: 200\n"
     ]
    },
    {
     "name": "stderr",
     "output_type": "stream",
     "text": [
      " 76%|███████▌  | 3872/5104 [01:24<00:27, 45.02it/s]"
     ]
    },
    {
     "name": "stdout",
     "output_type": "stream",
     "text": [
      "✅ 67f2a8d4dde9185dd68bf25cd6f52c05efe8d04e6d233bd35cf2fabdeb93fb0d (2024-12-12) - 상태코드: 200\n",
      "✅ 45910414dd4ec588ba86ae96a83d8bc7 (2024-12-12) - 상태코드: 200\n",
      "✅ 18b309abb24a46c1d1d28a7730d515b6 (2024-12-12) - 상태코드: 200\n",
      "✅ ee5f641bc5d21be86fe2f326067b4dd2fd842dab14be2a956555625b37c97bff (2024-12-12) - 상태코드: 200\n",
      "✅ 69f5080323bbd70593f64349947d313f6fbb98200a15be5bcc73a64995849e9c (2024-12-12) - 상태코드: 200\n",
      "✅ 9a417c08e655771b1e3110645879c4b0 (2024-12-12) - 상태코드: 200\n",
      "✅ fcf1f9c069722d679b24afa160e37448 (2024-12-12) - 상태코드: 200\n",
      "✅ 49c23bda64fe66ce0cb18dad3eceea62 (2024-12-12) - 상태코드: 200\n",
      "✅ 78f3255b6e0c250b43e61d44a166171f (2024-12-12) - 상태코드: 200\n",
      "✅ 49e09d0ac7f612cb56536d2412048e6a (2024-12-12) - 상태코드: 200\n",
      "✅ 38ce87e1637199384914178e687409d1 (2024-12-12) - 상태코드: 200\n"
     ]
    },
    {
     "name": "stderr",
     "output_type": "stream",
     "text": [
      " 76%|███████▌  | 3880/5104 [01:24<00:25, 48.33it/s]"
     ]
    },
    {
     "name": "stdout",
     "output_type": "stream",
     "text": [
      "✅ 00f0247829e58edec8641622bc418451 (2024-12-12) - 상태코드: 200\n",
      "✅ 3d5155a295ddb2214e2abd370d66777c (2024-12-12) - 상태코드: 200\n",
      "✅ c066c19351562b2e691545fde8de0bd4 (2024-12-12) - 상태코드: 200\n",
      "✅ 2b23c64e6373f47294a53bf3bbb83ac1 (2024-12-12) - 상태코드: 200\n",
      "✅ 9a58999832c6a605821541888de6d69e (2024-12-12) - 상태코드: 200\n",
      "✅ 9265d5c0f0a029e3e9a28edcdafacb0f (2024-12-12) - 상태코드: 200\n",
      "✅ 9dcb38a48e8f0dd058f535e3c1ce2c23 (2024-12-12) - 상태코드: 200\n",
      "✅ cc285abdbb03c00e751b565a9da816e2efe8d04e6d233bd35cf2fabdeb93fb0d (2024-12-12) - 상태코드: 200\n",
      "✅ 57bdd563a04366797aabbac41bb6c19fefe8d04e6d233bd35cf2fabdeb93fb0d (2024-12-12) - 상태코드: 200\n"
     ]
    },
    {
     "name": "stderr",
     "output_type": "stream",
     "text": [
      " 76%|███████▌  | 3890/5104 [01:24<00:26, 45.33it/s]"
     ]
    },
    {
     "name": "stdout",
     "output_type": "stream",
     "text": [
      "✅ ff3de06ab1c5959deeca1a5c854955e2efe8d04e6d233bd35cf2fabdeb93fb0d (2024-12-12) - 상태코드: 200\n",
      "✅ 4696d4c9ed983e0b631f85db9b846ca3efe8d04e6d233bd35cf2fabdeb93fb0d (2024-12-12) - 상태코드: 200\n",
      "✅ 68c698e7d765bb3c73e390760751e036efe8d04e6d233bd35cf2fabdeb93fb0d (2024-12-12) - 상태코드: 200\n",
      "✅ 0033afa889fdb0251e1e04e5bb8937d0efe8d04e6d233bd35cf2fabdeb93fb0d (2024-12-12) - 상태코드: 200\n",
      "✅ a4b2853096dbb6b8dd90c9048b40a8a3efe8d04e6d233bd35cf2fabdeb93fb0d (2024-12-12) - 상태코드: 200\n",
      "✅ adec6db8f6769d50dc21317084ca1832 (2024-12-12) - 상태코드: 200\n",
      "✅ 5d06988c55830e11ef9b103162dd1631efe8d04e6d233bd35cf2fabdeb93fb0d (2024-12-12) - 상태코드: 200\n",
      "✅ 837de8bca1255be1cb2ddf332a6253e7 (2024-12-12) - 상태코드: 200\n",
      "✅ 1d9a9df9a85d733084080c34b66bafd1efe8d04e6d233bd35cf2fabdeb93fb0d (2024-12-12) - 상태코드: 200\n"
     ]
    },
    {
     "name": "stderr",
     "output_type": "stream",
     "text": [
      " 76%|███████▋  | 3901/5104 [01:25<00:26, 45.61it/s]"
     ]
    },
    {
     "name": "stdout",
     "output_type": "stream",
     "text": [
      "✅ 6dff108b1ba120af843deb28e8c54b0fefe8d04e6d233bd35cf2fabdeb93fb0d (2024-12-12) - 상태코드: 200\n",
      "✅ 7b4c62020015e5f5d94a34725f865738 (2024-12-12) - 상태코드: 200\n",
      "✅ 1636ebe36094d80aabe514a37d074b31 (2024-12-12) - 상태코드: 200\n",
      "✅ 1aa8e296994efc80825348caa4cb16d1e85e07f9d5d276f44440847eec04ba68 (2024-12-12) - 상태코드: 200\n",
      "✅ 00ff9cf9e4e55f80c30c4036eec9a5b7 (2024-12-12) - 상태코드: 200\n",
      "✅ 2aa540cfc2b0e638404c9641cf5daddb (2024-12-12) - 상태코드: 200\n",
      "✅ 836c727a71b07910721bab4597e99eccefe8d04e6d233bd35cf2fabdeb93fb0d (2024-12-12) - 상태코드: 200\n",
      "✅ e595e607292c271903bc4bd8d9b5797e (2024-12-12) - 상태코드: 200\n",
      "✅ 3d8efc04447c46298f0a1ff236fa2dbe (2024-12-12) - 상태코드: 200\n",
      "✅ bd1eedacee93cae2af43ad5c29f21a8c (2024-12-12) - 상태코드: 200\n"
     ]
    },
    {
     "name": "stderr",
     "output_type": "stream",
     "text": [
      " 77%|███████▋  | 3907/5104 [01:25<00:25, 46.82it/s]"
     ]
    },
    {
     "name": "stdout",
     "output_type": "stream",
     "text": [
      "✅ 55fe3071174838005e03bf68cdda1be0 (2024-12-12) - 상태코드: 200\n",
      "✅ 499b59d931930833b49bea684ff5a9e9 (2024-12-12) - 상태코드: 200\n",
      "✅ aafcdd815561412182a786c107a5c4b1 (2024-12-12) - 상태코드: 200\n",
      "✅ ab79e55250a49267e4b58d4420c2afce (2024-12-12) - 상태코드: 200\n",
      "✅ fefdf6d800abf8bcb83242cf176aaba8 (2024-12-12) - 상태코드: 200\n",
      "✅ 105cd5a758c1a1552006f4f6ede2a80f (2024-12-12) - 상태코드: 200\n",
      "✅ c40337e237b52c49d1718e422db3c05c (2024-12-12) - 상태코드: 200\n",
      "✅ 9eed691a31409febf72f25664bddb99d (2024-12-12) - 상태코드: 200\n",
      "✅ 134c89affce067a5019be6dce85b08c6efe8d04e6d233bd35cf2fabdeb93fb0d (2024-12-12) - 상태코드: 200\n",
      "✅ 5d19b2f9799c90c41f69da143000e4f5 (2024-12-12) - 상태코드: 200\n",
      "✅ 05a0002ba6f1f91cd3a9f9a2ee9659a7 (2024-12-12) - 상태코드: 200\n"
     ]
    },
    {
     "name": "stderr",
     "output_type": "stream",
     "text": [
      " 77%|███████▋  | 3919/5104 [01:25<00:26, 44.23it/s]"
     ]
    },
    {
     "name": "stdout",
     "output_type": "stream",
     "text": [
      "✅ d41c32fe3dda1cfd1a813628f97b708fefe8d04e6d233bd35cf2fabdeb93fb0d (2024-12-12) - 상태코드: 200\n",
      "✅ 550e1cc0ed2e0ae6c2f4df7611f73224efe8d04e6d233bd35cf2fabdeb93fb0d (2024-12-12) - 상태코드: 200\n",
      "✅ 5c3e904eaca03b316daf87c4c78d0c88 (2024-12-12) - 상태코드: 200\n",
      "✅ e317d4813a69fb3361864089ed0d1757 (2024-12-12) - 상태코드: 200\n",
      "✅ 80341d8d8a00d06c7752b45681624d1b (2024-12-12) - 상태코드: 200\n",
      "✅ 25ec98260177709e770fdae65c122386efe8d04e6d233bd35cf2fabdeb93fb0d (2024-12-12) - 상태코드: 200\n",
      "✅ 1b0fba64a12ea6bd6c432a7dee33543aefe8d04e6d233bd35cf2fabdeb93fb0d (2024-12-12) - 상태코드: 200\n",
      "✅ d742f62993190da82fa7f4671ebb1476 (2024-12-12) - 상태코드: 200\n",
      "✅ 67d1cc70712330b065d04f596b240f6f (2024-12-12) - 상태코드: 200\n",
      "✅ ea3cd97f4f961efe9411972c12902ff8 (2024-12-12) - 상태코드: 200\n"
     ]
    },
    {
     "name": "stderr",
     "output_type": "stream",
     "text": [
      " 77%|███████▋  | 3928/5104 [01:25<00:26, 45.20it/s]"
     ]
    },
    {
     "name": "stdout",
     "output_type": "stream",
     "text": [
      "✅ b28151c9ac63ec1d5e22fbbad88218a1 (2024-12-12) - 상태코드: 200✅ 941b8eae23e677d24b88dab022ad9ef7 (2024-12-12) - 상태코드: 200\n",
      "\n",
      "✅ 29dd583c39b648ce88c2ae37d1b18797 (2024-12-12) - 상태코드: 200\n",
      "✅ bec30879111ec4fbb2b844fb746f72a4 (2024-12-12) - 상태코드: 200\n",
      "✅ f08552c9e7895cb77a64c240559c5b51 (2024-12-12) - 상태코드: 200\n",
      "✅ cd9c1a0e5fb457317a5ef2a017b8674d (2024-12-12) - 상태코드: 200\n",
      "✅ 95140355ba77b90d2ee9686e68aade58 (2024-12-12) - 상태코드: 200\n",
      "✅ adccd9d6ab8a03b16d760aeca7941c2cefe8d04e6d233bd35cf2fabdeb93fb0d (2024-12-12) - 상태코드: 200\n",
      "✅ 22319f7d3679c34e3b35eebb904ec905 (2024-12-12) - 상태코드: 200\n",
      "✅ 6ffc14ff1de7b5b0a3f208b593b1144e (2024-12-12) - 상태코드: 200\n"
     ]
    },
    {
     "name": "stderr",
     "output_type": "stream",
     "text": [
      " 77%|███████▋  | 3938/5104 [01:25<00:25, 45.75it/s]"
     ]
    },
    {
     "name": "stdout",
     "output_type": "stream",
     "text": [
      "✅ b24ba7b50dfdf479b1cc8d24cc65a06c (2024-12-12) - 상태코드: 200\n",
      "✅ c6db2d4572e2261a3c02f770644eeebdefe8d04e6d233bd35cf2fabdeb93fb0d (2024-12-12) - 상태코드: 200\n",
      "✅ 77dd3bc7f5e389c617b6dd1c70a692bbefe8d04e6d233bd35cf2fabdeb93fb0d (2024-12-12) - 상태코드: 200\n",
      "✅ 175213d5abc2e7d03632d5b61440c927efe8d04e6d233bd35cf2fabdeb93fb0d (2024-12-12) - 상태코드: 200\n",
      "✅ fccc9ca12cec1d7aeceb0c2960a19f10efe8d04e6d233bd35cf2fabdeb93fb0d (2024-12-12) - 상태코드: 200\n",
      "✅ 2911af63fbd902765a852e40a2d9488d (2024-12-12) - 상태코드: 200\n",
      "✅ 7a53eb7a3f8fa82a66f5d3dc999bd4b6 (2024-12-12) - 상태코드: 200\n",
      "✅ 873262f1f6eb0a0f962d72298e6bbc8defe8d04e6d233bd35cf2fabdeb93fb0d (2024-12-12) - 상태코드: 200\n",
      "✅ 50d9670d2bca4069d5b612437cd2f216 (2024-12-12) - 상태코드: 200\n",
      "✅ 3aa9923eda02aa2bdc26247a537dbf47 (2024-12-12) - 상태코드: 200\n",
      "✅ 25b1a7d0b6398a950ce86c34e8784f07efe8d04e6d233bd35cf2fabdeb93fb0d (2024-12-12) - 상태코드: 200\n"
     ]
    },
    {
     "name": "stderr",
     "output_type": "stream",
     "text": [
      " 77%|███████▋  | 3949/5104 [01:26<00:26, 44.15it/s]"
     ]
    },
    {
     "name": "stdout",
     "output_type": "stream",
     "text": [
      "✅ cbec16599e27e6daa37cae78a39ae3d68295750b1f4857867454debc45ec9c8a (2024-12-12) - 상태코드: 200\n",
      "✅ 7eafa7de7caf079eb5cf49db9aa710b8efe8d04e6d233bd35cf2fabdeb93fb0d (2024-12-12) - 상태코드: 200\n",
      "✅ e43a54c994e5668dc4933ad54439bb08 (2024-12-12) - 상태코드: 200\n",
      "✅ 6ef7a179284f11d7546a25bf2025929e (2024-12-12) - 상태코드: 200\n",
      "✅ 9c62ce5a1e63a6c28803cb77c0c75387 (2024-12-12) - 상태코드: 200\n",
      "✅ 98a45d21eb8221d564c9c1443bc5841a (2024-12-12) - 상태코드: 200\n",
      "✅ 96eb8cf62bf545bb46c7efb3e2a87b41 (2024-12-12) - 상태코드: 200\n",
      "✅ 4a791d3164516950e187eddd40e2b1ae (2024-12-12) - 상태코드: 200\n",
      "✅ 817453ad3139a84fc19a9718538e3d0f (2024-12-12) - 상태코드: 200\n",
      "✅ 5dccd64857dd9f4a8690cfea4f5afd4b (2024-12-12) - 상태코드: 200\n",
      "✅ 8376b35f898e6d1c1095657138a5f30befe8d04e6d233bd35cf2fabdeb93fb0d (2024-12-12) - 상태코드: 200\n",
      "✅ 456806600e22efe2bc7a8e59e48dc552efe8d04e6d233bd35cf2fabdeb93fb0d (2024-12-12) - 상태코드: 200\n"
     ]
    },
    {
     "name": "stderr",
     "output_type": "stream",
     "text": [
      " 78%|███████▊  | 3963/5104 [01:26<00:23, 49.53it/s]"
     ]
    },
    {
     "name": "stdout",
     "output_type": "stream",
     "text": [
      "✅ dcc0b9135f8079f587dfc85e15c3df43 (2024-12-12) - 상태코드: 200\n",
      "✅ 983a02ec1472022c718b51bcf6d3ea84efe8d04e6d233bd35cf2fabdeb93fb0d (2024-12-12) - 상태코드: 200\n",
      "✅ 5d9049f65e4b352bedbe1efecf1fe6e4efe8d04e6d233bd35cf2fabdeb93fb0d (2024-12-12) - 상태코드: 200\n",
      "✅ 68b68720c7bf74560c69ecd1eb137679efe8d04e6d233bd35cf2fabdeb93fb0d (2024-12-12) - 상태코드: 200\n",
      "✅ 605c5b412201ef038f655c06b69256d8 (2024-12-12) - 상태코드: 200\n",
      "✅ 5d3b14ba1320475fe85efbea32e64231 (2024-12-12) - 상태코드: 200\n",
      "✅ b2fb907f6fbf6a039f1cef6bdc4e8457 (2024-12-12) - 상태코드: 200\n",
      "✅ bd72ca796d258f024af3959ca985de9fefe8d04e6d233bd35cf2fabdeb93fb0d (2024-12-12) - 상태코드: 200\n",
      "✅ 6985dd5e08d08e87428031e047d1a4eb4723574b05820acf03e7ec3162ff5bed (2024-12-12) - 상태코드: 200\n"
     ]
    },
    {
     "name": "stderr",
     "output_type": "stream",
     "text": [
      " 78%|███████▊  | 3975/5104 [01:26<00:21, 52.36it/s]"
     ]
    },
    {
     "name": "stdout",
     "output_type": "stream",
     "text": [
      "✅ 72212dfd6bb031459dae2d09934d0020efe8d04e6d233bd35cf2fabdeb93fb0d (2024-12-12) - 상태코드: 200\n",
      "✅ db6fe01029329f6bf6d55ca9389afdca (2024-12-12) - 상태코드: 200\n",
      "✅ c86d73029385cda466c249c59460456e (2024-12-12) - 상태코드: 200\n",
      "✅ 924e76ef6f91fdc8e1909a1ee1aac186 (2024-12-12) - 상태코드: 200\n",
      "✅ 9674cb12e9e03484488cc3deb9031c40 (2024-12-12) - 상태코드: 200\n",
      "✅ 95feac78a663593156ffe569d9161d1b (2024-12-12) - 상태코드: 200\n",
      "✅ 9e2074155c4d531ebabcdcbcc4bad268 (2024-12-12) - 상태코드: 200\n",
      "✅ 2eaee8491645cd83b692755c6871e827 (2024-12-12) - 상태코드: 200\n",
      "✅ 7dbc7f73d47fea9e42ae93a4c62e0ed6 (2024-12-12) - 상태코드: 200\n",
      "✅ 3c4fb67f5ef74ddb5ea68e89fb3a4b96 (2024-12-12) - 상태코드: 200\n",
      "✅ 2bc404b32c9e9bce1be5412234f69431 (2024-12-12) - 상태코드: 200\n"
     ]
    },
    {
     "name": "stderr",
     "output_type": "stream",
     "text": [
      " 78%|███████▊  | 3981/5104 [01:26<00:23, 48.47it/s]"
     ]
    },
    {
     "name": "stdout",
     "output_type": "stream",
     "text": [
      "✅ 5864f519f1f8984fb3b011d5e91e6b80 (2024-12-12) - 상태코드: 200\n",
      "✅ f3aa4c38d90838b7872717888fa62ffb (2024-12-12) - 상태코드: 200\n",
      "✅ a93fa681054c280932639283d67f0aa7 (2024-12-12) - 상태코드: 200\n",
      "✅ 1bcc857529ccd8893ddb886150bca426 (2024-12-12) - 상태코드: 200\n",
      "✅ cb77302be9ff82eae9cc784ca55e38c5 (2024-12-12) - 상태코드: 200\n",
      "✅ c095a5f94313c5502ff1a1ee55a0bb0d (2024-12-12) - 상태코드: 200\n",
      "✅ 95c6731be5b0df3c7818bc2d7ca86f188295750b1f4857867454debc45ec9c8a (2024-12-12) - 상태코드: 200\n",
      "✅ 41ee3f02eb7418626f20b0138ba7c93defe8d04e6d233bd35cf2fabdeb93fb0d (2024-12-12) - 상태코드: 200\n",
      "✅ 303bde271538bbd720c6a3de31652f93 (2024-12-12) - 상태코드: 200\n",
      "✅ 2ecb9848ec933395c8c451ea0174634b (2024-12-12) - 상태코드: 200\n",
      "✅ 9094d86d602414b186b4fbda98e6f2bf (2024-12-12) - 상태코드: 200\n",
      "✅ 18ca337f5ad8de467066790b2c2d949b (2024-12-12) - 상태코드: 200\n"
     ]
    },
    {
     "name": "stderr",
     "output_type": "stream",
     "text": [
      " 78%|███████▊  | 3995/5104 [01:27<00:21, 52.78it/s]"
     ]
    },
    {
     "name": "stdout",
     "output_type": "stream",
     "text": [
      "✅ 617eae0aca75e93ee1c7be69e5767d3aefe8d04e6d233bd35cf2fabdeb93fb0d (2024-12-12) - 상태코드: 200\n",
      "✅ e806a9e5b2684cef4d08f44a3d3e895a (2024-12-12) - 상태코드: 200\n",
      "✅ 4181e8df10a85f5b559d5e770d5d2252 (2024-12-12) - 상태코드: 200\n",
      "✅ 0d4053ed47127ac5afe1fbc3e28429fa (2024-12-12) - 상태코드: 200\n",
      "✅ 7cd8c23f47cf985528061d75c6b1c382efe8d04e6d233bd35cf2fabdeb93fb0d (2024-12-12) - 상태코드: 200\n",
      "✅ 09c019e289606a3b2a18f40609107b00efe8d04e6d233bd35cf2fabdeb93fb0d (2024-12-12) - 상태코드: 200\n",
      "✅ ffc42603f7cdb56696c94f00803194a9efe8d04e6d233bd35cf2fabdeb93fb0d (2024-12-12) - 상태코드: 200\n",
      "✅ 9024e79c09fefe51fcc407bc2dd975b8 (2024-12-12) - 상태코드: 400\n",
      "✅ ff308d37a165572b45518551ff788634 (2024-12-12) - 상태코드: 200\n",
      "✅ 646db93aa8771243b2dbefbcd1287f11 (2024-12-12) - 상태코드: 200\n",
      "✅ f353d347dd0067d7dbed3cf109f3695d (2024-12-12) - 상태코드: 200\n"
     ]
    },
    {
     "name": "stderr",
     "output_type": "stream",
     "text": [
      " 79%|███████▊  | 4007/5104 [01:27<00:22, 48.79it/s]"
     ]
    },
    {
     "name": "stdout",
     "output_type": "stream",
     "text": [
      "✅ 51845de1965d98fc6f98fbc9a23c1aa7 (2024-12-12) - 상태코드: 200\n",
      "✅ dab300fb6e0755f312a8eed1ed6d4e8fefe8d04e6d233bd35cf2fabdeb93fb0d (2024-12-12) - 상태코드: 200\n",
      "✅ 24f05d1ca5c3b917c2d4485e46c430a0efe8d04e6d233bd35cf2fabdeb93fb0d (2024-12-12) - 상태코드: 200\n",
      "✅ a4dc4cdf23a7f5c32adb6f285239ebb7 (2024-12-12) - 상태코드: 200\n",
      "✅ 63255d98d0a9ec66ed5c6074a72642bcefe8d04e6d233bd35cf2fabdeb93fb0d (2024-12-12) - 상태코드: 200\n",
      "✅ f3e45b94f933a06c64f87df00abec36d (2024-12-12) - 상태코드: 200\n",
      "✅ e04fc2375a222d541c4cf66ba8eadf25efe8d04e6d233bd35cf2fabdeb93fb0d (2024-12-12) - 상태코드: 200\n",
      "✅ d840a2df94a193506e885b10cea89f43 (2024-12-12) - 상태코드: 200\n",
      "✅ 923866addb47956e348e45a3826ae52f (2024-12-12) - 상태코드: 200\n",
      "✅ eec1c1d15198a1f091fc9b2c4e35937eefe8d04e6d233bd35cf2fabdeb93fb0d (2024-12-12) - 상태코드: 200\n",
      "✅ 01f1228014a7b25747c4c7e503d5004d (2024-12-12) - 상태코드: 200\n",
      "✅ 31f793de46fcb8d46bd983f35b3b2575efe8d04e6d233bd35cf2fabdeb93fb0d (2024-12-12) - 상태코드: 200\n"
     ]
    },
    {
     "name": "stderr",
     "output_type": "stream",
     "text": [
      " 79%|███████▊  | 4019/5104 [01:27<00:21, 50.42it/s]"
     ]
    },
    {
     "name": "stdout",
     "output_type": "stream",
     "text": [
      "✅ 5071141d43282e55e6ecfad69739e66b (2024-12-12) - 상태코드: 200\n",
      "✅ ad088fc63acf794b83fdb6e05b0e89ce (2024-12-12) - 상태코드: 200\n",
      "✅ 43e3c8d53cd45a5c41e8681944df40a1 (2024-12-12) - 상태코드: 200\n",
      "✅ f4bf9cefa8268423a6cb955e5a6d9e92 (2024-12-12) - 상태코드: 200\n",
      "✅ cbe6469287089e1d94a31a3276338051efe8d04e6d233bd35cf2fabdeb93fb0d (2024-12-12) - 상태코드: 200\n",
      "✅ 9bf4b4267127550b5428fcd699202a2b (2024-12-12) - 상태코드: 200\n",
      "✅ 8525e9fcb686cd08c268dc1d526533ab (2024-12-12) - 상태코드: 200\n",
      "✅ 552bf45aa58039f6d66e8e207331f280efe8d04e6d233bd35cf2fabdeb93fb0d (2024-12-12) - 상태코드: 200\n",
      "✅ 66bd56bc1adf5d9f285099b8115b64d4efe8d04e6d233bd35cf2fabdeb93fb0d (2024-12-12) - 상태코드: 200\n",
      "✅ b15e18d83c7d8c7f7c94804068d4b7cd (2024-12-12) - 상태코드: 200\n",
      "✅ 4aeebec9117601798e7aa49eced8040b (2024-12-12) - 상태코드: 200\n"
     ]
    },
    {
     "name": "stderr",
     "output_type": "stream",
     "text": [
      " 79%|███████▉  | 4031/5104 [01:27<00:22, 46.86it/s]"
     ]
    },
    {
     "name": "stdout",
     "output_type": "stream",
     "text": [
      "✅ 6e4f367a8570a3917a021b17f3b93f40 (2024-12-12) - 상태코드: 200\n",
      "✅ 526f6d9207ce243f3e768bdf2016cf9cefe8d04e6d233bd35cf2fabdeb93fb0d (2024-12-12) - 상태코드: 200\n",
      "✅ b58430f29aedbb92ed6ee6043bc9237a (2024-12-12) - 상태코드: 200\n",
      "✅ 1bddcdc6fd36de3027e6160f50cddddb (2024-12-12) - 상태코드: 200\n",
      "✅ 0f942f23040f371cd13d194760315425efe8d04e6d233bd35cf2fabdeb93fb0d (2024-12-12) - 상태코드: 200\n",
      "✅ 1ef452f60e1c495a0feea39efdaeca6defe8d04e6d233bd35cf2fabdeb93fb0d (2024-12-12) - 상태코드: 200\n",
      "✅ dc19af0ea6ed05062f192561154dc706 (2024-12-12) - 상태코드: 200\n",
      "✅ 15cb2d022e21a6cb194e004957743ae8efe8d04e6d233bd35cf2fabdeb93fb0d (2024-12-12) - 상태코드: 200\n",
      "✅ f8cebf9b5441a5619a12889b87b74d79 (2024-12-12) - 상태코드: 200\n",
      "✅ e2f6a4a393bd180b040effcfd4ec2fc5efe8d04e6d233bd35cf2fabdeb93fb0d (2024-12-12) - 상태코드: 200\n"
     ]
    },
    {
     "name": "stderr",
     "output_type": "stream",
     "text": [
      " 79%|███████▉  | 4043/5104 [01:28<00:20, 51.76it/s]"
     ]
    },
    {
     "name": "stdout",
     "output_type": "stream",
     "text": [
      "✅ e7fe0e5dcd6f7eb83a89bb3522f0d2a4 (2024-12-12) - 상태코드: 200\n",
      "✅ b0c69c3dc4381ad8ee4acfecd942574aefe8d04e6d233bd35cf2fabdeb93fb0d (2024-12-12) - 상태코드: 200\n",
      "✅ d554792ccff2b040ffda97200ddf5a06 (2024-12-12) - 상태코드: 200\n",
      "✅ 74eddd0c724e5fd6fc69480f975bae98efe8d04e6d233bd35cf2fabdeb93fb0d (2024-12-12) - 상태코드: 200\n",
      "✅ b6f662827cd4b58adc09fd694e6e62de (2024-12-12) - 상태코드: 200\n",
      "✅ b1c3fec1c8dec4a78cb734ad6cbce2abefe8d04e6d233bd35cf2fabdeb93fb0d (2024-12-12) - 상태코드: 200\n",
      "✅ ac6ed463785c3aa7c13f138becc0f253 (2024-12-12) - 상태코드: 200\n",
      "✅ d47c0befe817e7c8a77e9561e96e952c (2024-12-12) - 상태코드: 200\n",
      "✅ b0b66de6e49a9b10eaacd7117bc8a5c0 (2024-12-12) - 상태코드: 200\n",
      "✅ 4a299934879212a57159707e5db5e35a (2024-12-12) - 상태코드: 200\n",
      "✅ 652943692d318bdb08daf8c054d78380 (2024-12-12) - 상태코드: 200\n",
      "✅ cb4ab50d21a1dc5cdd93baa0f5a1e733 (2024-12-12) - 상태코드: 200\n",
      "✅ dc5f0f710c803372e06da55f38c72f28efe8d04e6d233bd35cf2fabdeb93fb0d (2024-12-12) - 상태코드: 200\n"
     ]
    },
    {
     "name": "stderr",
     "output_type": "stream",
     "text": [
      " 79%|███████▉  | 4049/5104 [01:28<00:20, 52.73it/s]"
     ]
    },
    {
     "name": "stdout",
     "output_type": "stream",
     "text": [
      "✅ 078eb394464e8f627d2d649cbbb9c825 (2024-12-12) - 상태코드: 200\n",
      "✅ f20ff21f0d04dee15a9c3b2fe19d3f2b (2024-12-12) - 상태코드: 200\n",
      "✅ c26b5c5053a6c8c9054b83aacb7fcfb8efe8d04e6d233bd35cf2fabdeb93fb0d (2024-12-12) - 상태코드: 200\n",
      "✅ f2a728d9b620e5489cd827771a5d721eefe8d04e6d233bd35cf2fabdeb93fb0d (2024-12-12) - 상태코드: 200\n",
      "✅ 96937433b1c4516f7382936eed4c6a0a (2024-12-12) - 상태코드: 200\n",
      "✅ 0e1b29a1bac60577ace65588b1b036ba (2024-12-12) - 상태코드: 200\n",
      "✅ 6f1df967ec127389598da54ed1a60d76efe8d04e6d233bd35cf2fabdeb93fb0d (2024-12-12) - 상태코드: 200\n",
      "✅ 94a081a1112150b4297fbf08932059f4 (2024-12-12) - 상태코드: 200\n",
      "✅ 72c6959de78bee956d329be4388510fb (2024-12-12) - 상태코드: 200\n",
      "✅ 6e9c0c947f0c3e21e94ac65182a130f2efe8d04e6d233bd35cf2fabdeb93fb0d (2024-12-12) - 상태코드: 200\n"
     ]
    },
    {
     "name": "stderr",
     "output_type": "stream",
     "text": [
      " 80%|███████▉  | 4062/5104 [01:28<00:19, 52.16it/s]"
     ]
    },
    {
     "name": "stdout",
     "output_type": "stream",
     "text": [
      "✅ 2d2af3e4cf91081ed16c3ab121bd0281 (2024-12-12) - 상태코드: 200\n",
      "✅ 8aaab66796ab1d10600b311efebf9cacefe8d04e6d233bd35cf2fabdeb93fb0d (2024-12-12) - 상태코드: 200\n",
      "✅ 8033e447e0ace2c3e65440b4deda0b32 (2024-12-12) - 상태코드: 200\n",
      "✅ 1fd57349a76b4a31c7f34eaf1dbd7da2 (2024-12-12) - 상태코드: 200\n",
      "✅ f335164a5b475e05beb8609329c599a4efe8d04e6d233bd35cf2fabdeb93fb0d (2024-12-12) - 상태코드: 200\n",
      "✅ 43d9f055ac2bc60ebf874358e6b384f2efe8d04e6d233bd35cf2fabdeb93fb0d (2024-12-12) - 상태코드: 200\n",
      "✅ dda80cf6b65eb765cbb81144b6510bd4 (2024-12-12) - 상태코드: 200\n",
      "✅ b6c1b3b9f6156c7252429e8a050f59a9 (2024-12-12) - 상태코드: 200\n",
      "✅ 1374ddde98f8f82709bf46918a3c1342 (2024-12-12) - 상태코드: 200\n",
      "✅ fcf680f9c825512ac48d975fcaa6b114 (2024-12-12) - 상태코드: 200\n",
      "✅ 83670f0ee8304b52d15cf20c1d96c1b9efe8d04e6d233bd35cf2fabdeb93fb0d (2024-12-12) - 상태코드: 200\n"
     ]
    },
    {
     "name": "stderr",
     "output_type": "stream",
     "text": [
      " 80%|███████▉  | 4076/5104 [01:28<00:19, 52.68it/s]"
     ]
    },
    {
     "name": "stdout",
     "output_type": "stream",
     "text": [
      "✅ 98c48e1e3f8087770b34d883a1fc831f (2024-12-12) - 상태코드: 200\n",
      "✅ 56fc4b9cf931977357bb27cef0420594 (2024-12-12) - 상태코드: 200\n",
      "✅ 5e859d25c2d12325040cbb3bce0b42b2 (2024-12-12) - 상태코드: 200\n",
      "✅ 5173c906ac53734c7ef675017299614f (2024-12-12) - 상태코드: 200\n",
      "✅ 596ef0d3af32ebbbe01ee2f87a56c8c2efe8d04e6d233bd35cf2fabdeb93fb0d (2024-12-12) - 상태코드: 200\n",
      "✅ 0c8118bca1eefa0677349c4ab1729b67 (2024-12-12) - 상태코드: 200\n",
      "✅ a644fa94011fc7decfbaed1752c532b8efe8d04e6d233bd35cf2fabdeb93fb0d (2024-12-12) - 상태코드: 200\n",
      "✅ abe11ff4ece88fd4ddbcb392a852639b (2024-12-12) - 상태코드: 200\n",
      "✅ f96d8f46c73abc3fd1aa5eaeb54fef87 (2024-12-12) - 상태코드: 200\n",
      "✅ 673afd19cefcf982fb50b1997d8a0274efe8d04e6d233bd35cf2fabdeb93fb0d (2024-12-12) - 상태코드: 200\n",
      "✅ bcf64b0d0d2ecbdc98e55cfa1918fc81efe8d04e6d233bd35cf2fabdeb93fb0d (2024-12-12) - 상태코드: 200\n",
      "✅ e0517827217fa1afd64b75e792a6e4c8efe8d04e6d233bd35cf2fabdeb93fb0d (2024-12-12) - 상태코드: 200\n"
     ]
    },
    {
     "name": "stderr",
     "output_type": "stream",
     "text": [
      " 80%|████████  | 4090/5104 [01:28<00:18, 56.33it/s]"
     ]
    },
    {
     "name": "stdout",
     "output_type": "stream",
     "text": [
      "✅ 18dd09ae678a710c18042a6321a50605 (2024-12-12) - 상태코드: 200\n",
      "✅ 1f039bf15b5f2c80599ee731cd7b1774 (2024-12-12) - 상태코드: 200\n",
      "✅ a1333be07c304f5a7eb0f373a33d2d98 (2024-12-12) - 상태코드: 200\n",
      "✅ 81f28efb7c1a9f1d4615d2c63c3251ee (2024-12-12) - 상태코드: 200\n",
      "✅ dadfd46c8cc678054be9ed21d861b887 (2024-12-12) - 상태코드: 200\n",
      "✅ fb30e1ff06044287d159313d4e36bb44 (2024-12-12) - 상태코드: 200\n",
      "✅ ac4a95d7b52ab15704c5be34936203f8a2186d8e7cf7a6ee152d97cc78f2ae8b (2024-12-12) - 상태코드: 200\n",
      "✅ 1896b6b1552a73ef2593f1a526645de8 (2024-12-12) - 상태코드: 200\n",
      "✅ 009d56c3358999da0f4792fbe82f9eb4 (2024-12-12) - 상태코드: 200\n",
      "✅ 45e4576e8a1d3f2a826190526470328d (2024-12-12) - 상태코드: 200\n",
      "✅ 684190dcd6e22c74646c94caefcc25e3efe8d04e6d233bd35cf2fabdeb93fb0d (2024-12-12) - 상태코드: 200\n",
      "✅ 1e7db39ce12124009fb5a2cc9cc9e2cc (2024-12-12) - 상태코드: 200\n",
      "✅ a0e6334a59e8b055de21b3c15609ea49efe8d04e6d233bd35cf2fabdeb93fb0d (2024-12-12) - 상태코드: 200\n"
     ]
    },
    {
     "name": "stderr",
     "output_type": "stream",
     "text": [
      " 80%|████████  | 4096/5104 [01:29<00:19, 51.76it/s]"
     ]
    },
    {
     "name": "stdout",
     "output_type": "stream",
     "text": [
      "✅ 0c1e199a90be1e956d47b0d3cbabad81efe8d04e6d233bd35cf2fabdeb93fb0d (2024-12-12) - 상태코드: 200\n",
      "✅ 2c51cb13a92c359f9f5d05bfad0434ba (2024-12-12) - 상태코드: 200\n",
      "✅ fb3acbfc29d1ca6e6d9c7e0429d20d9c (2024-12-12) - 상태코드: 200\n",
      "✅ b6f019babb4a5c74b8af94553d237cb9 (2024-12-12) - 상태코드: 200\n",
      "✅ 47ac6db232a5c1683ee369c727548e67 (2024-12-12) - 상태코드: 200\n",
      "✅ 0183ec6c2e54a15b40ac92fb9ab7bc81efe8d04e6d233bd35cf2fabdeb93fb0d (2024-12-12) - 상태코드: 200\n",
      "✅ 04e42182a3a16bb0251ed54bc2546c76efe8d04e6d233bd35cf2fabdeb93fb0d (2024-12-12) - 상태코드: 200\n",
      "✅ 8ea1165966194464b0b1f5cb9d8fc27c (2024-12-12) - 상태코드: 200\n",
      "✅ 28db9eeffbe4bcc2126db08a4961671a (2024-12-12) - 상태코드: 200\n",
      "✅ b29577973842c4dbba63fb91e207e105 (2024-12-12) - 상태코드: 200\n"
     ]
    },
    {
     "name": "stderr",
     "output_type": "stream",
     "text": [
      " 81%|████████  | 4109/5104 [01:29<00:18, 53.03it/s]"
     ]
    },
    {
     "name": "stdout",
     "output_type": "stream",
     "text": [
      "✅ ddf7cecd50d246131ce5790c37be8fba (2024-12-12) - 상태코드: 200\n",
      "✅ 07af319957d3d6ebc3a25d55f9d0a98eefe8d04e6d233bd35cf2fabdeb93fb0d (2024-12-12) - 상태코드: 200\n",
      "✅ a4738e5e850c46d9c27f5ac801a69aed (2024-12-12) - 상태코드: 200\n",
      "✅ 65b9151594e89c2550fc85ca81c6d841 (2024-12-12) - 상태코드: 200\n",
      "✅ 417047c2bf9bbef41e8b494030f8fd87 (2024-12-12) - 상태코드: 200\n",
      "✅ 89c87a90302bba5c0c32e214e5a59598 (2024-12-12) - 상태코드: 200\n",
      "✅ b321e8c579c9ba4288d1be56d2a9c223 (2024-12-12) - 상태코드: 200\n",
      "✅ 9d4ad6c5a2848655113cc430c37c56defd842dab14be2a956555625b37c97bff (2024-12-12) - 상태코드: 200\n",
      "✅ 48678dd0d931ed1924ac538954f4fd28efe8d04e6d233bd35cf2fabdeb93fb0d (2024-12-12) - 상태코드: 200\n",
      "✅ 26a14cf2fca4580739240126a0c1b4ea (2024-12-12) - 상태코드: 200\n",
      "✅ 607bfc8c825be4299dc1825d793ffce7efe8d04e6d233bd35cf2fabdeb93fb0d (2024-12-12) - 상태코드: 200\n",
      "✅ 513f7d0e3ebc8e3a66131d79e11c04b1efe8d04e6d233bd35cf2fabdeb93fb0d (2024-12-12) - 상태코드: 200\n"
     ]
    },
    {
     "name": "stderr",
     "output_type": "stream",
     "text": [
      " 81%|████████  | 4123/5104 [01:29<00:18, 52.25it/s]"
     ]
    },
    {
     "name": "stdout",
     "output_type": "stream",
     "text": [
      "✅ 2a886bd613891dc4ce8ae8810d443ba6 (2024-12-12) - 상태코드: 200\n",
      "✅ f00f9329e4a5ebdef904c2ef12b93432fd842dab14be2a956555625b37c97bff (2024-12-12) - 상태코드: 200\n",
      "✅ e89c7c6babe2b4ab1b8884be9664c3fe (2024-12-12) - 상태코드: 200\n",
      "✅ 628064f9636e913c0baa587591009ac6 (2024-12-12) - 상태코드: 200\n",
      "✅ ac4857b3f0caf5a20cab1ead94a9c651efe8d04e6d233bd35cf2fabdeb93fb0d (2024-12-12) - 상태코드: 200\n",
      "✅ 46ccfa4bef2b4bbf43ec39664d9db150 (2024-12-12) - 상태코드: 200\n",
      "✅ 243cc4be019634c003e44f3b83162ba9 (2024-12-12) - 상태코드: 200\n",
      "✅ 22d8c246a49410ff53756f910003fc1a (2024-12-12) - 상태코드: 200\n",
      "✅ 2cf8aa68a625ce72d975c45b48adcf4aefe8d04e6d233bd35cf2fabdeb93fb0d (2024-12-12) - 상태코드: 200\n",
      "✅ b9978e73b47d37ac43eb62e7be35d45e (2024-12-12) - 상태코드: 200\n",
      "✅ 90951b7330e514c0da4c1c2a23753d45 (2024-12-12) - 상태코드: 200\n",
      "✅ a35e0eb5eb5f4507baac9cbfae8ff426efe8d04e6d233bd35cf2fabdeb93fb0d (2024-12-12) - 상태코드: 200\n"
     ]
    },
    {
     "name": "stderr",
     "output_type": "stream",
     "text": [
      " 81%|████████  | 4136/5104 [01:29<00:19, 50.85it/s]"
     ]
    },
    {
     "name": "stdout",
     "output_type": "stream",
     "text": [
      "✅ 87d836403dfc655815e83b732808b7cb (2024-12-12) - 상태코드: 200\n",
      "✅ e730f4d9a8fbed10c9bbdf65de0d8de6 (2024-12-12) - 상태코드: 200\n",
      "✅ a7ae30be9791800519216f303f4bc242 (2024-12-12) - 상태코드: 200\n",
      "✅ 93243351b54b45a4baa5b98ba628307a (2024-12-12) - 상태코드: 200\n",
      "✅ 607a55e9028a67f9603062c1d4d8db40 (2024-12-12) - 상태코드: 200\n",
      "✅ da616f6c44bbbc959eb9535a47787447 (2024-12-12) - 상태코드: 200\n",
      "✅ f1d1516c36e71a807c38abbd84fe765eefe8d04e6d233bd35cf2fabdeb93fb0d (2024-12-12) - 상태코드: 200\n",
      "✅ f7d153f788bb31a48fac00d05ca5b8e2 (2024-12-12) - 상태코드: 200\n",
      "✅ 05d991b085bd80f0ebad0de4e53b6cfa (2024-12-12) - 상태코드: 200\n",
      "✅ 8eabcdf676e4a85f6975d61127d4d610 (2024-12-12) - 상태코드: 200\n",
      "✅ 4cb2ef482f2206e9464146500232954b (2024-12-12) - 상태코드: 200\n",
      "✅ 60af66f99265f85e546b461be98ed400fd842dab14be2a956555625b37c97bff (2024-12-12) - 상태코드: 200\n"
     ]
    },
    {
     "name": "stderr",
     "output_type": "stream",
     "text": [
      " 81%|████████  | 4142/5104 [01:30<00:18, 51.83it/s]"
     ]
    },
    {
     "name": "stdout",
     "output_type": "stream",
     "text": [
      "✅ 8b7ed3bc6c8baffa12cdd6e5d0adbe9cefe8d04e6d233bd35cf2fabdeb93fb0d (2024-12-12) - 상태코드: 200\n",
      "✅ d8ec6412ba8d1aa3baf5978db66b0b7fefe8d04e6d233bd35cf2fabdeb93fb0d (2024-12-12) - 상태코드: 200\n",
      "✅ b6b53f414556de5a94739abb87841cd6 (2024-12-12) - 상태코드: 200\n",
      "✅ 02a01fff6c0092fde1ec7642ea952609 (2024-12-12) - 상태코드: 200\n",
      "✅ 706776cbc5f5f832b151be51864c383f (2024-12-12) - 상태코드: 200\n",
      "✅ bb2a595185dc1df66fb5642d4cb6d8fe (2024-12-12) - 상태코드: 200\n",
      "✅ 3e1ab171fd134085e5bae09eb60fc813efe8d04e6d233bd35cf2fabdeb93fb0d (2024-12-12) - 상태코드: 200\n",
      "✅ 44e51c0508ef66eccfceaf91468dd78a (2024-12-12) - 상태코드: 200\n",
      "✅ 51b0ee8552b272a7f0021a0688d50b5c (2024-12-12) - 상태코드: 200\n",
      "✅ 7039c698d6ecba5d898495be48861623 (2024-12-12) - 상태코드: 200\n",
      "✅ bfbcc37e329a1dbb21e0ace31256f531 (2024-12-12) - 상태코드: 200\n"
     ]
    },
    {
     "name": "stderr",
     "output_type": "stream",
     "text": [
      " 81%|████████▏ | 4154/5104 [01:30<00:19, 48.48it/s]"
     ]
    },
    {
     "name": "stdout",
     "output_type": "stream",
     "text": [
      "✅ 6eaf81660d02c0cec84abe413441185d (2024-12-12) - 상태코드: 200\n",
      "✅ 900bd769dc8ec0001c79a4f03dcfe322 (2024-12-12) - 상태코드: 200\n",
      "✅ 5308ddc632805e3e452520444afe299befe8d04e6d233bd35cf2fabdeb93fb0d (2024-12-12) - 상태코드: 200\n",
      "✅ 1d3ff485276018dcf8ec89d0cae2d958efe8d04e6d233bd35cf2fabdeb93fb0d (2024-12-12) - 상태코드: 200\n",
      "✅ 1c39f5b3c8ac712a50640a628421a957efe8d04e6d233bd35cf2fabdeb93fb0d (2024-12-12) - 상태코드: 200\n",
      "✅ 4acbee9d13dd1776cb719c4f68260f43 (2024-12-12) - 상태코드: 200\n",
      "✅ 37825ad0f43ddcc7ce30a2e864e1f05e (2024-12-12) - 상태코드: 200\n",
      "✅ 9e6ab7f35d7083379e01a8e90cc04c83 (2024-12-12) - 상태코드: 200\n"
     ]
    },
    {
     "name": "stderr",
     "output_type": "stream",
     "text": [
      " 82%|████████▏ | 4162/5104 [01:30<00:18, 51.30it/s]"
     ]
    },
    {
     "name": "stdout",
     "output_type": "stream",
     "text": [
      "✅ be297c02b2743b2e1b7c38df3f9df19b (2024-12-12) - 상태코드: 200\n",
      "✅ d11c9e906b69be6b7d890bbd6c4122d6 (2024-12-12) - 상태코드: 200\n",
      "✅ cbc22128462d4dc04bee9ac58ce8f6b4efe8d04e6d233bd35cf2fabdeb93fb0d (2024-12-12) - 상태코드: 200\n",
      "✅ e9f430e3b69e519ede89c3e16181118c (2024-12-12) - 상태코드: 200\n",
      "✅ b8ff1d1fad7ddc903cc274f6718ae8eaefe8d04e6d233bd35cf2fabdeb93fb0d (2024-12-12) - 상태코드: 200\n",
      "✅ d4c8f0ba268d8701c093a6a96b5d44e0efe8d04e6d233bd35cf2fabdeb93fb0d (2024-12-12) - 상태코드: 200\n",
      "✅ cce592788ab19da4b107a4c140900bf1 (2024-12-12) - 상태코드: 200\n",
      "✅ cb1c035d553c3f4c109485da0be2e18d (2024-12-12) - 상태코드: 200\n",
      "✅ cb63c000fc0050fe97bcc01a24897cb786e68d4012202d0434d05f81868f68e3 (2024-12-12) - 상태코드: 200\n",
      "✅ 58b6df954d118b99b6eba85049d9fe7f (2024-12-12) - 상태코드: 200\n",
      "✅ 125b9da1fe0f170700f5ab35fa88fad7 (2024-12-12) - 상태코드: 200\n",
      "✅ 1d205e20b3768b973ab739386bf45221 (2024-12-12) - 상태코드: 200\n",
      "✅ f75af5620bc3dfa5266a25ca35b3828e (2024-12-12) - 상태코드: 200\n",
      "✅ 124e97657847abe574fe02a27011d985efe8d04e6d233bd35cf2fabdeb93fb0d (2024-12-12) - 상태코드: 200\n",
      "✅ d0ed22ff62d5462ec25b061c8bf0c618 (2024-12-12) - 상태코드: 200\n"
     ]
    },
    {
     "name": "stderr",
     "output_type": "stream",
     "text": [
      " 82%|████████▏ | 4178/5104 [01:30<00:16, 55.59it/s]"
     ]
    },
    {
     "name": "stdout",
     "output_type": "stream",
     "text": [
      "✅ 6ed34ad67b3b04d73771b584529b5e32 (2024-12-12) - 상태코드: 200\n",
      "✅ 4ef511aa921e2e3e6e057c7c190f671d (2024-12-12) - 상태코드: 200\n",
      "✅ 5d50176fa95c4c2777f8cfab25791e99 (2024-12-12) - 상태코드: 200\n",
      "✅ 037b81a606d896f5205688c6f52225b1 (2024-12-12) - 상태코드: 200\n",
      "✅ b8f92200c8f90db7c81b555437190dc1 (2024-12-12) - 상태코드: 200\n",
      "✅ 9bece5c51bd01738235dee387ef0c76aefe8d04e6d233bd35cf2fabdeb93fb0d (2024-12-12) - 상태코드: 200\n",
      "✅ 082d54a9f0bb0639af4dcce4f9f897ef (2024-12-12) - 상태코드: 200\n",
      "✅ 121f1af3adbf3fa20663f8a2699fcace (2024-12-12) - 상태코드: 200\n",
      "✅ 8202f78fbada54fcdfca15ebf12d543f (2024-12-12) - 상태코드: 200\n",
      "✅ d7b3e8296cfdb2efe1c3733608293944 (2024-12-12) - 상태코드: 200\n",
      "✅ 4e4859bac01f5ac5401dd6dd61a32cbe (2024-12-12) - 상태코드: 200\n"
     ]
    },
    {
     "name": "stderr",
     "output_type": "stream",
     "text": [
      " 82%|████████▏ | 4190/5104 [01:30<00:19, 46.87it/s]"
     ]
    },
    {
     "name": "stdout",
     "output_type": "stream",
     "text": [
      "✅ 2588c5b885c4e32438bf8f6b64b722d2 (2024-12-12) - 상태코드: 200\n",
      "✅ d5c7f47df2a522821e3034487c7d06c4 (2024-12-12) - 상태코드: 200\n",
      "✅ b9efb297bc18a14c4ac4fade40a7b28f (2024-12-12) - 상태코드: 200\n",
      "✅ 086f27ce61e74d439eaf2d84ee835d22 (2024-12-12) - 상태코드: 200\n",
      "✅ 22cbe662f126130dcec290b4876c03a0 (2024-12-12) - 상태코드: 200\n",
      "✅ 693743ac8812db55d59251aeec991d05 (2024-12-12) - 상태코드: 200\n",
      "✅ f6a7280a065d4f598c2b5e5c9c61ad28efe8d04e6d233bd35cf2fabdeb93fb0d (2024-12-12) - 상태코드: 200\n",
      "✅ c1edeaffe652172fcc6dd9b094a9317f (2024-12-12) - 상태코드: 200\n",
      "✅ 4ad9cf40f4947dbc3e617dc573046051 (2024-12-12) - 상태코드: 200\n",
      "✅ c466fac8295eaa91aeb90309016291d1 (2024-12-12) - 상태코드: 200\n",
      "✅ ed1c71f43b766cc91be5d02220d061d0 (2024-12-12) - 상태코드: 200\n",
      "✅ 255e7289a4050dc021aab745ab252dec (2024-12-12) - 상태코드: 200\n",
      "✅ fa1fbd9670ddf6052168b48fedf0cf11 (2024-12-12) - 상태코드: 200\n"
     ]
    },
    {
     "name": "stderr",
     "output_type": "stream",
     "text": [
      " 82%|████████▏ | 4204/5104 [01:31<00:17, 51.89it/s]"
     ]
    },
    {
     "name": "stdout",
     "output_type": "stream",
     "text": [
      "✅ 0bf63c31bc6693c1540a47e87e126f98 (2024-12-12) - 상태코드: 200\n",
      "✅ ccab52c1bf693d0d6ae71d09db00addf (2024-12-12) - 상태코드: 200\n",
      "✅ afe1ecee209a814d003e66f02aa90ba7 (2024-12-12) - 상태코드: 200\n",
      "✅ 13517ce3b03cf0d225cba188d339f89d (2024-12-12) - 상태코드: 200\n",
      "✅ 42f82e26c2b4470c06e2b7c7e069cfa1efe8d04e6d233bd35cf2fabdeb93fb0d (2024-12-12) - 상태코드: 200\n",
      "✅ d2d19f003461affd5136ade7d090db06 (2024-12-12) - 상태코드: 200\n",
      "✅ 3aaa00df5844bdc55cad1986624c3be7efe8d04e6d233bd35cf2fabdeb93fb0d (2024-12-12) - 상태코드: 200\n",
      "✅ 635ab0ad5752cb74bc10a5ad22ea8521efe8d04e6d233bd35cf2fabdeb93fb0d (2024-12-12) - 상태코드: 200\n",
      "✅ beb183e075d75cdae0b97ffe4c3e02ceefe8d04e6d233bd35cf2fabdeb93fb0d (2024-12-12) - 상태코드: 200\n",
      "✅ 803c68bccde3b63f3f8406976a7e67dc (2024-12-12) - 상태코드: 200\n"
     ]
    },
    {
     "name": "stderr",
     "output_type": "stream",
     "text": [
      " 82%|████████▏ | 4210/5104 [01:31<00:18, 48.92it/s]"
     ]
    },
    {
     "name": "stdout",
     "output_type": "stream",
     "text": [
      "✅ 89d16afabe5512a6d19d7faf4591a0db (2024-12-12) - 상태코드: 200\n",
      "✅ 062f16456e427ad94943fdf121da3491 (2024-12-12) - 상태코드: 200\n",
      "✅ f6fc240b0f3b41439bfd22a3413be412efe8d04e6d233bd35cf2fabdeb93fb0d (2024-12-12) - 상태코드: 200\n",
      "✅ 2dcbe99665726744be4389ad5657f0fe (2024-12-12) - 상태코드: 200\n",
      "✅ c2e95438baaa2ac7ed0cac5ed26b6d43 (2024-12-12) - 상태코드: 200\n",
      "✅ 43c80a11fe24ec36c45d6c4141d96271 (2024-12-12) - 상태코드: 200\n",
      "✅ 33cf25def0b2f62779a9452b8dc605c8 (2024-12-12) - 상태코드: 200\n",
      "✅ 54ac493c2fe22724c0cb06c144a64275efe8d04e6d233bd35cf2fabdeb93fb0d (2024-12-12) - 상태코드: 200\n"
     ]
    },
    {
     "name": "stderr",
     "output_type": "stream",
     "text": [
      " 83%|████████▎ | 4222/5104 [01:31<00:17, 49.05it/s]"
     ]
    },
    {
     "name": "stdout",
     "output_type": "stream",
     "text": [
      "✅ deb5b5d182b1553f83dc26ae17d0da10e85e07f9d5d276f44440847eec04ba68 (2024-12-12) - 상태코드: 200\n",
      "✅ a4cfd26848e1ff6ed956cb3364149d7a (2024-12-12) - 상태코드: 200\n",
      "✅ a64728d925cc40323abe8eb375834cc8 (2024-12-12) - 상태코드: 200\n",
      "✅ 6d3d78b67727f1cd66b8c927c32cdeb8 (2024-12-12) - 상태코드: 200\n",
      "✅ 6f8dbc2f1ff23a2fd3616982e0e6c90eefe8d04e6d233bd35cf2fabdeb93fb0d (2024-12-12) - 상태코드: 200\n",
      "✅ 010288d642872009c0c9803491149ffb (2024-12-12) - 상태코드: 200\n",
      "✅ a4244b2eee45ca45801a1f54a4d4ca5fefe8d04e6d233bd35cf2fabdeb93fb0d (2024-12-12) - 상태코드: 200\n",
      "✅ 616283489ace318872d6f0cd2a6ac4e1 (2024-12-12) - 상태코드: 200\n",
      "✅ 7042ce190fd747d44177635df77e8173 (2024-12-12) - 상태코드: 200\n",
      "✅ a8bfb45ab44304c3451781bd23e18916efe8d04e6d233bd35cf2fabdeb93fb0d (2024-12-12) - 상태코드: 200\n"
     ]
    },
    {
     "name": "stderr",
     "output_type": "stream",
     "text": [
      " 83%|████████▎ | 4228/5104 [01:31<00:17, 50.08it/s]"
     ]
    },
    {
     "name": "stdout",
     "output_type": "stream",
     "text": [
      "✅ b9e88595e4891169f8c19dcddedca3b3 (2024-12-12) - 상태코드: 200\n",
      "✅ 14639e64dc427bf63bf625082a8959cdc47ea5ffea2564f587ca830a8f71acb2 (2024-12-12) - 상태코드: 200\n",
      "✅ 1f54a0ff19a0e8760c22bb0e5797f5f2efe8d04e6d233bd35cf2fabdeb93fb0d (2024-12-12) - 상태코드: 200\n",
      "✅ 0896da33ac37e029ee477107f85be1d2 (2024-12-12) - 상태코드: 200\n",
      "✅ 19ef1a486e93b7c66df9c58faada3636 (2024-12-12) - 상태코드: 200\n",
      "✅ c58412069dc31cc0146afdd705524429 (2024-12-12) - 상태코드: 200\n",
      "✅ 9eff3012f7aaa4b9ffcff2da97cada0a (2024-12-12) - 상태코드: 200\n",
      "✅ 33c3fb6ec8bb19ffd835d606fffe0246 (2024-12-12) - 상태코드: 200\n",
      "✅ 79e7ab8fe4ac172de03243f3403d4a46 (2024-12-12) - 상태코드: 200\n",
      "✅ 7a7870916dd8d2da249fe5db0aadd915 (2024-12-12) - 상태코드: 200\n"
     ]
    },
    {
     "name": "stderr",
     "output_type": "stream",
     "text": [
      " 83%|████████▎ | 4241/5104 [01:32<00:17, 50.42it/s]"
     ]
    },
    {
     "name": "stdout",
     "output_type": "stream",
     "text": [
      "✅ e14187f1b24933253fd566fe3eebceb0efe8d04e6d233bd35cf2fabdeb93fb0d (2024-12-12) - 상태코드: 200\n",
      "✅ e140432e14534fe2cba19340c7346d79 (2024-12-12) - 상태코드: 200\n",
      "✅ 0a544a2f74ed36ca4d17b8a262beae29efe8d04e6d233bd35cf2fabdeb93fb0d (2024-12-12) - 상태코드: 200\n",
      "✅ dad21b1febfb0d34778da615d562f3e7efe8d04e6d233bd35cf2fabdeb93fb0d (2024-12-12) - 상태코드: 200\n",
      "✅ ed5ee13b468389ea6890c7fab08b566d (2024-12-12) - 상태코드: 200\n",
      "✅ e9626a0c27a5300130a601ca83fabf3f (2024-12-12) - 상태코드: 200\n",
      "✅ d61fa89d1074146d96916f1247cd347d (2024-12-12) - 상태코드: 200\n",
      "✅ 749fd7656fa0da1ec9eee05d129a24e9 (2024-12-12) - 상태코드: 200\n",
      "✅ 000208be9ccea59917319c24391dc215 (2024-12-12) - 상태코드: 200\n",
      "✅ d57a207f97a111ea7d7e09acc2481a1a (2024-12-12) - 상태코드: 200\n",
      "✅ 4909250c0ad14d97246c828356d1f659 (2024-12-12) - 상태코드: 200\n",
      "✅ 91dae7b1a84220b6478ece3a67eb65ac (2024-12-12) - 상태코드: 200\n",
      "✅ cab50ec80162c1dcbeedfa1bad957da0efe8d04e6d233bd35cf2fabdeb93fb0d (2024-12-12) - 상태코드: 200\n"
     ]
    },
    {
     "name": "stderr",
     "output_type": "stream",
     "text": [
      " 83%|████████▎ | 4253/5104 [01:32<00:17, 47.72it/s]"
     ]
    },
    {
     "name": "stdout",
     "output_type": "stream",
     "text": [
      "✅ b651391ba94012d07f19648bcdc555cc (2024-12-12) - 상태코드: 200\n",
      "✅ 01c21c1fab12f0ceda9ab04178eab3d0 (2024-12-12) - 상태코드: 200\n",
      "✅ 05b7c656f8e0cb3e06fad02b9ec2d33e (2024-12-12) - 상태코드: 200\n",
      "✅ b6facd19e1308eb1d66c009c3f3889ad (2024-12-12) - 상태코드: 200\n",
      "✅ a546125a6567f76bda355fb111ab1a29 (2024-12-12) - 상태코드: 200\n",
      "✅ 0155920a06c5a23dacf672a46c6e9c10 (2024-12-12) - 상태코드: 200\n",
      "✅ 73ecbf3269e394a3f722e97b53c72fb7 (2024-12-12) - 상태코드: 200\n",
      "✅ 69a79ee5543c1d0fe29da4e169e0bcdc (2024-12-12) - 상태코드: 200\n",
      "✅ 9dd98c3333a69c3a6e17e6739840c2ebefe8d04e6d233bd35cf2fabdeb93fb0d (2024-12-12) - 상태코드: 200\n"
     ]
    },
    {
     "name": "stderr",
     "output_type": "stream",
     "text": [
      " 83%|████████▎ | 4258/5104 [01:32<00:19, 42.64it/s]"
     ]
    },
    {
     "name": "stdout",
     "output_type": "stream",
     "text": [
      "✅ 9db944cb648dbfa0bebd86e854c9ebeeefe8d04e6d233bd35cf2fabdeb93fb0d (2024-12-12) - 상태코드: 200\n",
      "✅ e232a5f985f59c4f8d13254992e165acefe8d04e6d233bd35cf2fabdeb93fb0d (2024-12-12) - 상태코드: 200\n",
      "✅ f7bf309b6fd22e629826ad726292aad4 (2024-12-12) - 상태코드: 200\n",
      "✅ 949332668982d81498ae683612d78c00 (2024-12-12) - 상태코드: 200\n",
      "✅ aa02f2c859c17c676c581f4256e69966 (2024-12-12) - 상태코드: 200\n",
      "✅ d6d5b0150d614b29d1881d93d1c01a9fc47ea5ffea2564f587ca830a8f71acb2 (2024-12-12) - 상태코드: 200\n",
      "✅ 5b56ff5b0c2c32e6f2c29b054e06bd0fefe8d04e6d233bd35cf2fabdeb93fb0d (2024-12-12) - 상태코드: 200\n",
      "✅ 569063766792419f9fa7e66d599794f5efe8d04e6d233bd35cf2fabdeb93fb0d (2024-12-12) - 상태코드: 200\n",
      "✅ 086c7e98e760bdc20731251d90a40333efe8d04e6d233bd35cf2fabdeb93fb0d (2024-12-12) - 상태코드: 200\n"
     ]
    },
    {
     "name": "stderr",
     "output_type": "stream",
     "text": [
      " 84%|████████▎ | 4270/5104 [01:32<00:18, 46.07it/s]"
     ]
    },
    {
     "name": "stdout",
     "output_type": "stream",
     "text": [
      "✅ fb12f318b0d9f4618f8604ffe0f888fb (2024-12-12) - 상태코드: 200\n",
      "✅ 661c2af5b554a5b28cc0dc6cce4702ab (2024-12-12) - 상태코드: 200\n",
      "✅ 2bc563e13e76d8e5504480756fe73516 (2024-12-12) - 상태코드: 200\n",
      "✅ 595e3f205099d0cc0b4f48a6311bba61efe8d04e6d233bd35cf2fabdeb93fb0d (2024-12-12) - 상태코드: 200\n",
      "✅ 8a17735b943abcf8f612b8e4c3bceb41efe8d04e6d233bd35cf2fabdeb93fb0d (2024-12-12) - 상태코드: 200\n",
      "✅ 4f9627fd0dfbbe737d8aa8ca3c6bf8d7 (2024-12-12) - 상태코드: 200\n",
      "✅ fb9565b9cea4342e8166135956d989af (2024-12-12) - 상태코드: 200\n",
      "✅ 9b0bfe1bbaa8d8084fdace27568d420f (2024-12-12) - 상태코드: 200\n",
      "✅ 71f0b98d89bc23c202c05265943c6bc5 (2024-12-12) - 상태코드: 200\n"
     ]
    },
    {
     "name": "stderr",
     "output_type": "stream",
     "text": [
      " 84%|████████▍ | 4281/5104 [01:32<00:19, 42.45it/s]"
     ]
    },
    {
     "name": "stdout",
     "output_type": "stream",
     "text": [
      "✅ 078a8d1a09e2ea6f370016dee51c52d0 (2024-12-12) - 상태코드: 200\n",
      "✅ a5a04b39e333907796194fca06402cafefe8d04e6d233bd35cf2fabdeb93fb0d (2024-12-12) - 상태코드: 200\n",
      "✅ 279067f16ee430c8455007ea5690d2dc (2024-12-12) - 상태코드: 200\n",
      "✅ bb8599971672667eb989098fa4524c88efe8d04e6d233bd35cf2fabdeb93fb0d (2024-12-12) - 상태코드: 200\n",
      "✅ f8876c7e64d221313a716acd63c918a5 (2024-12-12) - 상태코드: 200\n",
      "✅ 09fe715758f3f0a4298876d30db06a78 (2024-12-12) - 상태코드: 200\n",
      "✅ 3d0eb3a674b7a1573e1461955e5a5ae5efe8d04e6d233bd35cf2fabdeb93fb0d (2024-12-12) - 상태코드: 200\n",
      "✅ 0741328edd7b9990d605a751adecf551 (2024-12-12) - 상태코드: 200\n",
      "✅ ca3fdcb2df3f9fdeb0c0118631640d58 (2024-12-12) - 상태코드: 200\n",
      "✅ cb6a1af44c29bed33d1668c9af14e964efe8d04e6d233bd35cf2fabdeb93fb0d (2024-12-12) - 상태코드: 200\n",
      "✅ 21f28a9cfdc51081fb323f008e874e88 (2024-12-12) - 상태코드: 200\n",
      "✅ 9f08774afa676e2907ec2a4cce249576 (2024-12-12) - 상태코드: 200\n",
      "✅ 7e24b6ce24e58138322dbd0136e89666 (2024-12-12) - 상태코드: 200\n",
      "✅ 2e544470cd22f7ed241dfa0adcc7ce1b (2024-12-12) - 상태코드: 200\n"
     ]
    },
    {
     "name": "stderr",
     "output_type": "stream",
     "text": [
      " 84%|████████▍ | 4294/5104 [01:33<00:17, 46.18it/s]"
     ]
    },
    {
     "name": "stdout",
     "output_type": "stream",
     "text": [
      "✅ c1b6895b3b693f54062f25776424c8b7 (2024-12-12) - 상태코드: 200\n",
      "✅ 1e5f72f23ced1cf58753a7576a8ab39cefe8d04e6d233bd35cf2fabdeb93fb0d (2024-12-12) - 상태코드: 200\n",
      "✅ 3409df3f5f678bbf3076f251791af207efe8d04e6d233bd35cf2fabdeb93fb0d (2024-12-12) - 상태코드: 200\n",
      "✅ 22b60e52a31722eea52a03a2e22a3562efe8d04e6d233bd35cf2fabdeb93fb0d (2024-12-12) - 상태코드: 200\n",
      "✅ 68eedfd0b23ea20eede902ab6f824213efe8d04e6d233bd35cf2fabdeb93fb0d (2024-12-12) - 상태코드: 200\n",
      "✅ 917faa7948e7ad9d15c872e760574f76 (2024-12-12) - 상태코드: 200\n",
      "✅ ca79866792d247003783b9bb3d5cc06d (2024-12-12) - 상태코드: 200\n",
      "✅ 9aeef4ced3288f15f5db522b4183c3f9 (2024-12-12) - 상태코드: 200\n",
      "✅ 769e173a14c77fb1481869547dbd5b9defe8d04e6d233bd35cf2fabdeb93fb0d (2024-12-12) - 상태코드: 200\n"
     ]
    },
    {
     "name": "stderr",
     "output_type": "stream",
     "text": [
      " 84%|████████▍ | 4306/5104 [01:33<00:17, 45.73it/s]"
     ]
    },
    {
     "name": "stdout",
     "output_type": "stream",
     "text": [
      "✅ 922f72e1f844a47114dc7db73fa08d6a (2024-12-12) - 상태코드: 200\n",
      "✅ 11a0476903f4c67e798b027c683beb5b (2024-12-12) - 상태코드: 200\n",
      "✅ af56e2d5ff0c34b4fa11a322a0404514 (2024-12-12) - 상태코드: 200\n",
      "✅ e687482501bdc080bafc05e81cb0bca0 (2024-12-12) - 상태코드: 200\n",
      "✅ 0dae0e8b99af48a4b83b141d597d184e (2024-12-12) - 상태코드: 200\n",
      "✅ f9cc4a44c68c926a091d7c9ab793fb9e (2024-12-12) - 상태코드: 200\n",
      "✅ 83e2d5de5d91e75cf347c534feedc677 (2024-12-12) - 상태코드: 200\n",
      "✅ 9a54921e11117eb71cec9e33572d00efefe8d04e6d233bd35cf2fabdeb93fb0d (2024-12-12) - 상태코드: 200\n",
      "✅ 2e0cb71481f120daf870ef953d7e0dcdefe8d04e6d233bd35cf2fabdeb93fb0d (2024-12-12) - 상태코드: 200\n",
      "✅ ccb9c5420547136374300d49f970b25a4723574b05820acf03e7ec3162ff5bed (2024-12-12) - 상태코드: 200\n",
      "✅ a97f73b0c4501bb55db37c2f47b8a038 (2024-12-12) - 상태코드: 200\n"
     ]
    },
    {
     "name": "stderr",
     "output_type": "stream",
     "text": [
      " 84%|████████▍ | 4312/5104 [01:33<00:16, 48.40it/s]"
     ]
    },
    {
     "name": "stdout",
     "output_type": "stream",
     "text": [
      "✅ c503e22a4c85e73306ccd152a782bb85 (2024-12-12) - 상태코드: 200\n",
      "✅ 5b27a98bde5442d387b3c9fef0e252e4 (2024-12-12) - 상태코드: 200\n",
      "✅ 52c44ac4808f9331d2df4f1bc147b2f6efe8d04e6d233bd35cf2fabdeb93fb0d (2024-12-12) - 상태코드: 200\n",
      "✅ 8b05186d82f055390b31c151b13433b7efe8d04e6d233bd35cf2fabdeb93fb0d (2024-12-12) - 상태코드: 200\n",
      "✅ f9e6ee82909139cd54a5e4a5488d8ac2 (2024-12-12) - 상태코드: 200\n",
      "✅ 94161ac9ec0fad2ff11bcd08ce194c27efe8d04e6d233bd35cf2fabdeb93fb0d (2024-12-12) - 상태코드: 200\n",
      "✅ 36a0147210315b6a764ec6ba3d150203 (2024-12-12) - 상태코드: 200\n"
     ]
    },
    {
     "name": "stderr",
     "output_type": "stream",
     "text": [
      " 85%|████████▍ | 4324/5104 [01:33<00:18, 42.60it/s]"
     ]
    },
    {
     "name": "stdout",
     "output_type": "stream",
     "text": [
      "✅ e8ba301f60ab98692d2236db5f62b5eb (2024-12-12) - 상태코드: 200\n",
      "✅ 606eed3e75dd3c2ea9e61356a8601f76 (2024-12-12) - 상태코드: 200\n",
      "✅ 4c010fb43dec6b26e7b0f51e687f5551 (2024-12-12) - 상태코드: 200\n",
      "✅ ac677e9ee50144b79b3941be6860e48defe8d04e6d233bd35cf2fabdeb93fb0d (2024-12-12) - 상태코드: 200\n",
      "✅ 484d6ac3fa7d3ffe45f7cada776b4c8d (2024-12-12) - 상태코드: 200\n",
      "✅ d128d33f9f9a239cd942837993c7be01 (2024-12-12) - 상태코드: 200\n",
      "✅ e226aa37a8a5648d68e8221fc90216d2 (2024-12-12) - 상태코드: 200\n",
      "✅ 4c93f25bd172d882c34d4c012dc81f4f (2024-12-12) - 상태코드: 200\n",
      "✅ 1435f0c2418521498f3ab4d2fa6ab7e1 (2024-12-12) - 상태코드: 200\n",
      "✅ d64720833af0d462ab89f0b2d22bbdb2 (2024-12-12) - 상태코드: 200\n",
      "✅ d50ebb0bdf1f5ae6456dc558d45fd500efe8d04e6d233bd35cf2fabdeb93fb0d (2024-12-12) - 상태코드: 200\n"
     ]
    },
    {
     "name": "stderr",
     "output_type": "stream",
     "text": [
      " 85%|████████▍ | 4330/5104 [01:34<00:17, 44.87it/s]"
     ]
    },
    {
     "name": "stdout",
     "output_type": "stream",
     "text": [
      "✅ 369dd4a3037748b67475dda468ffc0e4efe8d04e6d233bd35cf2fabdeb93fb0d (2024-12-12) - 상태코드: 200\n",
      "✅ aec72053fa4a55515d450bc873634d4c (2024-12-12) - 상태코드: 200\n",
      "✅ e60a3bf8f4230460bfe767a731bb4325 (2024-12-12) - 상태코드: 200\n",
      "✅ 208cc01fd0425f29d2ff777fc349e53c (2024-12-12) - 상태코드: 200\n",
      "✅ 1b28283c121f0efb54a4a1c0e52648de (2024-12-12) - 상태코드: 200\n",
      "✅ a3f4effaa0b4c0b34f98500914f4f7bd (2024-12-12) - 상태코드: 200\n",
      "✅ 5cbc28e26aee0b5577de2f763ff061ebefe8d04e6d233bd35cf2fabdeb93fb0d (2024-12-12) - 상태코드: 200\n",
      "✅ e10ad02dfa2e72c14867abccfc26c5c9 (2024-12-12) - 상태코드: 200\n",
      "✅ 84c7f2ea5754c00020294a24ddab1a8d (2024-12-12) - 상태코드: 200\n",
      "✅ 7953c80fd7237c3729ac8c3b6ef32113 (2024-12-12) - 상태코드: 200\n"
     ]
    },
    {
     "name": "stderr",
     "output_type": "stream",
     "text": [
      " 85%|████████▌ | 4340/5104 [01:34<00:19, 39.40it/s]"
     ]
    },
    {
     "name": "stdout",
     "output_type": "stream",
     "text": [
      "✅ 842eb3d37af78783ad985cbed9262d7fefe8d04e6d233bd35cf2fabdeb93fb0d (2024-12-12) - 상태코드: 200\n",
      "✅ b97082f9b444551617c3f8c03fa9f656efe8d04e6d233bd35cf2fabdeb93fb0d (2024-12-12) - 상태코드: 200\n",
      "✅ af576eafd68a41c83691e469abf436c5 (2024-12-12) - 상태코드: 200\n",
      "✅ 7b3f46040b1a1e68d0ca97fc231edb41efe8d04e6d233bd35cf2fabdeb93fb0d (2024-12-12) - 상태코드: 200\n",
      "✅ 583f5a7cc979911e7f7cd57c0f0c515f (2024-12-12) - 상태코드: 200\n",
      "✅ dee87b47e6bb1b27829f5852e5d34f4aefe8d04e6d233bd35cf2fabdeb93fb0d (2024-12-12) - 상태코드: 200\n",
      "✅ 594d50bef178a32cd3a55c4b8c14ba12 (2024-12-12) - 상태코드: 200\n",
      "✅ fcdbf19f67d660ecb92153133a7b2dc6efe8d04e6d233bd35cf2fabdeb93fb0d (2024-12-12) - 상태코드: 200\n",
      "✅ d4c900dbe429b7ba387abc475922b6a9 (2024-12-12) - 상태코드: 200\n",
      "✅ aeb92bbc7a9e744b5d19546e1f7f6571 (2024-12-12) - 상태코드: 200\n"
     ]
    },
    {
     "name": "stderr",
     "output_type": "stream",
     "text": [
      " 85%|████████▌ | 4352/5104 [01:34<00:16, 45.11it/s]"
     ]
    },
    {
     "name": "stdout",
     "output_type": "stream",
     "text": [
      "✅ 7dae4e3c7432cda35e92a37f7966b2c7 (2024-12-12) - 상태코드: 200\n",
      "✅ 7cc3e1413190d5b84ab7011cc17ede7defe8d04e6d233bd35cf2fabdeb93fb0d (2024-12-12) - 상태코드: 200\n",
      "✅ cb9171942ee3ae0fb30f572470f1fb35 (2024-12-12) - 상태코드: 200\n",
      "✅ 0dbdfe8aceacb95fc2142960b5a2dfc7 (2024-12-12) - 상태코드: 200\n",
      "✅ b4bfd9886db9f78859a06730182a7aa7 (2024-12-12) - 상태코드: 200\n",
      "✅ fdb2c25d78c9adb59db0c1299f3fa51c (2024-12-12) - 상태코드: 200\n",
      "✅ a9fc5302c43579c87308929aefb9831f (2024-12-12) - 상태코드: 200\n",
      "✅ 3106bb701f607729e94a6e314be81d42efe8d04e6d233bd35cf2fabdeb93fb0d (2024-12-12) - 상태코드: 200\n",
      "✅ d6fde33ffc1b86bd5fdef84d811d1f05efe8d04e6d233bd35cf2fabdeb93fb0d (2024-12-12) - 상태코드: 200\n"
     ]
    },
    {
     "name": "stderr",
     "output_type": "stream",
     "text": [
      " 85%|████████▌ | 4363/5104 [01:34<00:15, 46.89it/s]"
     ]
    },
    {
     "name": "stdout",
     "output_type": "stream",
     "text": [
      "✅ 54293d468c7cdc28d8a52c2735987e3e (2024-12-12) - 상태코드: 200\n",
      "✅ ded605e9759ff64b0716a00c9b7364a8efe8d04e6d233bd35cf2fabdeb93fb0d (2024-12-12) - 상태코드: 200\n",
      "✅ 2c24f37729a63a11addb8335d21b1e77 (2024-12-12) - 상태코드: 200\n",
      "✅ cf090fdfadbe2417b3be75b579cdb2f5efe8d04e6d233bd35cf2fabdeb93fb0d (2024-12-12) - 상태코드: 200\n",
      "✅ fe8d07d681e3de139829beddf6cea54a (2024-12-12) - 상태코드: 200\n",
      "✅ fbed6b559f00085f80fbe0d6857aced8 (2024-12-12) - 상태코드: 200\n",
      "✅ 96b94f594f811df1a56f8906646ad1a0 (2024-12-12) - 상태코드: 200\n",
      "✅ 26a0e6a1a4a8a0a827929f06ef7f7161 (2024-12-12) - 상태코드: 200\n",
      "✅ eeecf7d337e7243d7eea7a3d02fb3179efe8d04e6d233bd35cf2fabdeb93fb0d (2024-12-12) - 상태코드: 200\n",
      "✅ e42807c706271ca6ab3cee4e234aa014 (2024-12-12) - 상태코드: 200\n"
     ]
    },
    {
     "name": "stderr",
     "output_type": "stream",
     "text": [
      " 86%|████████▌ | 4375/5104 [01:35<00:15, 48.19it/s]"
     ]
    },
    {
     "name": "stdout",
     "output_type": "stream",
     "text": [
      "✅ 04d062b0cf66f68b92b4e4866a2e010e (2024-12-12) - 상태코드: 200\n",
      "✅ cff16b17e5e22654dc8e6720cb104245efe8d04e6d233bd35cf2fabdeb93fb0d (2024-12-12) - 상태코드: 200\n",
      "✅ 79b7bd0c37ceaa747ab77c16fd2d3affefe8d04e6d233bd35cf2fabdeb93fb0d (2024-12-12) - 상태코드: 200\n",
      "✅ ef474c476ad2dcbd0ee328faf47e7818 (2024-12-12) - 상태코드: 200\n",
      "✅ d48f17257465d68f51bf25bd301ea393 (2024-12-12) - 상태코드: 200\n",
      "✅ 29e7a7206766577ca10470e2863c6687efe8d04e6d233bd35cf2fabdeb93fb0d (2024-12-12) - 상태코드: 200\n",
      "✅ f545d8469f27ddd218bde6659f17f6f34723574b05820acf03e7ec3162ff5bed (2024-12-12) - 상태코드: 200\n",
      "✅ ccf5025e4395933cbd2b2505e4c2cd6befe8d04e6d233bd35cf2fabdeb93fb0d (2024-12-12) - 상태코드: 200\n",
      "✅ c145c25549dc55e6142e4081b3d797ff (2024-12-12) - 상태코드: 200\n",
      "✅ 0a8b7ed01025d8898e3a96447b0b1bc9 (2024-12-12) - 상태코드: 200\n",
      "✅ c7fcb246de5c82fdfc266790bf7d9231 (2024-12-12) - 상태코드: 200\n",
      "✅ 594851240918600483932901044e16acfd842dab14be2a956555625b37c97bff (2024-12-12) - 상태코드: 200\n"
     ]
    },
    {
     "name": "stderr",
     "output_type": "stream",
     "text": [
      " 86%|████████▌ | 4387/5104 [01:35<00:13, 52.39it/s]"
     ]
    },
    {
     "name": "stdout",
     "output_type": "stream",
     "text": [
      "✅ eb1f76ec8d0cf4a3ea16406f6fbbe8c3 (2024-12-12) - 상태코드: 200\n",
      "✅ 2d30e1609663ceca7ca5703cbaba502a (2024-12-12) - 상태코드: 200\n",
      "✅ 54409a0836251f2274b71ee61ad619a5efe8d04e6d233bd35cf2fabdeb93fb0d (2024-12-12) - 상태코드: 200\n",
      "✅ 0e8cb07ed5308313716a9d671ec1ae47 (2024-12-12) - 상태코드: 200\n",
      "✅ 4f627a8fab0ab12a186d0007f66b2669 (2024-12-12) - 상태코드: 200\n",
      "✅ e11a80c37297dc8034628a2cba4741cbefe8d04e6d233bd35cf2fabdeb93fb0d (2024-12-12) - 상태코드: 200\n",
      "✅ afc1ebd63f31e95898f1df395e06862b (2024-12-12) - 상태코드: 200\n",
      "✅ d1b407deeae4faba86713249301620abefe8d04e6d233bd35cf2fabdeb93fb0d (2024-12-12) - 상태코드: 200\n",
      "✅ cee4c7be90ffa4d71f086888e5272a98 (2024-12-12) - 상태코드: 200\n",
      "✅ 98b43ad4613e0d97f877e32b04b3da5c (2024-12-12) - 상태코드: 200\n",
      "✅ a00068394e40534241fc8a14dd7721a2efe8d04e6d233bd35cf2fabdeb93fb0d (2024-12-12) - 상태코드: 200\n",
      "✅ ee23eedfac77641a0fc30ffcc0a3217a (2024-12-12) - 상태코드: 200\n",
      "✅ b3fd272ec373921a00dd95b479f03d53 (2024-12-12) - 상태코드: 200\n",
      "✅ 2a46ff3a9ad98d3597d7ee195e585b43 (2024-12-12) - 상태코드: 200\n"
     ]
    },
    {
     "name": "stderr",
     "output_type": "stream",
     "text": [
      " 86%|████████▌ | 4393/5104 [01:35<00:14, 47.85it/s]"
     ]
    },
    {
     "name": "stdout",
     "output_type": "stream",
     "text": [
      "✅ a30a6c56faa5f49895e54b4bc04be058 (2024-12-12) - 상태코드: 200\n",
      "✅ 3b8ef4201afc050122c5ff04a58361b1 (2024-12-12) - 상태코드: 200\n",
      "✅ d0a50e8ead72d6468c872675afb495feefe8d04e6d233bd35cf2fabdeb93fb0d (2024-12-12) - 상태코드: 200\n",
      "✅ 3ac82f2a0ca58d993d6d30d854dd546cefe8d04e6d233bd35cf2fabdeb93fb0d (2024-12-12) - 상태코드: 200\n",
      "✅ bafef7d436fab2ffff18c9d86dc62e61 (2024-12-12) - 상태코드: 200\n",
      "✅ ce4c6a806604a42629b4f64f9b275b44 (2024-12-12) - 상태코드: 200\n",
      "✅ 3c112a85118a6fb6d1e44a7a60e308ad (2024-12-12) - 상태코드: 200\n",
      "✅ 5b52a370824102a5bf911496f5139d41efe8d04e6d233bd35cf2fabdeb93fb0d (2024-12-12) - 상태코드: 200\n"
     ]
    },
    {
     "name": "stderr",
     "output_type": "stream",
     "text": [
      " 86%|████████▋ | 4406/5104 [01:35<00:13, 53.34it/s]"
     ]
    },
    {
     "name": "stdout",
     "output_type": "stream",
     "text": [
      "✅ 66584bff8c0cd94a5d5a837fbd63a0dc (2024-12-12) - 상태코드: 200\n",
      "✅ f875503553ae169cfa2ea8acc92c5506 (2024-12-12) - 상태코드: 200\n",
      "✅ 611651e51c4dd1d8fd4a6d7893eff297 (2024-12-12) - 상태코드: 200\n",
      "✅ f8ba66be9026f117dc9bb9c71cfb4417 (2024-12-12) - 상태코드: 200\n",
      "✅ 5aed587fbfa88a1d5c6a29c2ccf54df0efe8d04e6d233bd35cf2fabdeb93fb0d (2024-12-12) - 상태코드: 200\n",
      "✅ fc0e69178dc9b7f8a423ef2de211cd15 (2024-12-12) - 상태코드: 200\n",
      "✅ 1bc06b87204b6c886da411fbd081b183 (2024-12-12) - 상태코드: 200\n",
      "✅ 76675b691086b4b66898eeee8aefa3f9efe8d04e6d233bd35cf2fabdeb93fb0d (2024-12-12) - 상태코드: 200\n",
      "✅ 7f2f23268f62082a4e565a3e4f3c856b (2024-12-12) - 상태코드: 200\n",
      "✅ 6a4b463c72dce569b23d98afef8fcd05 (2024-12-12) - 상태코드: 200\n",
      "✅ 0df99bfd191c9ab4a3cb17ea0f396983 (2024-12-12) - 상태코드: 200\n",
      "✅ 3979c56b335a3ba1a46aa03df9b1bfe6 (2024-12-12) - 상태코드: 200\n",
      "✅ ed54921f192cb4fdcd3d039093eec8cc (2024-12-12) - 상태코드: 200\n"
     ]
    },
    {
     "name": "stderr",
     "output_type": "stream",
     "text": [
      " 87%|████████▋ | 4418/5104 [01:35<00:14, 47.77it/s]"
     ]
    },
    {
     "name": "stdout",
     "output_type": "stream",
     "text": [
      "✅ 1eef0c75da54036322b76c61423a6affefe8d04e6d233bd35cf2fabdeb93fb0d (2024-12-12) - 상태코드: 200\n",
      "✅ d0856074ab180afe613f6036a7cb93d5efe8d04e6d233bd35cf2fabdeb93fb0d (2024-12-12) - 상태코드: 200\n",
      "✅ 2ae9d4052c807eece88cbc4c5ab09246 (2024-12-12) - 상태코드: 200\n",
      "✅ a3cd8105da757642c8f742a7fd302236 (2024-12-12) - 상태코드: 200\n",
      "✅ 6cc5c3c0e9e8b41beccdcda2c73f15ec (2024-12-12) - 상태코드: 200\n",
      "✅ 4cd4358a18174ade81a26c46af746d3f (2024-12-12) - 상태코드: 200\n",
      "✅ 9cf1bc49585464ced4d1117623407ef5 (2024-12-12) - 상태코드: 200\n",
      "✅ 4cc6ce9926b50ab077005b3be7271171 (2024-12-12) - 상태코드: 200\n",
      "✅ c534f454b2ad9432ef63747862021581efe8d04e6d233bd35cf2fabdeb93fb0d (2024-12-12) - 상태코드: 200\n",
      "✅ 78c8235b1a43e7796e556a0904ad9b09 (2024-12-12) - 상태코드: 200\n"
     ]
    },
    {
     "name": "stderr",
     "output_type": "stream",
     "text": [
      " 87%|████████▋ | 4429/5104 [01:36<00:14, 45.30it/s]"
     ]
    },
    {
     "name": "stdout",
     "output_type": "stream",
     "text": [
      "✅ 128b16a889934818ecad68443d33f8f0 (2024-12-12) - 상태코드: 200\n",
      "✅ d5409537bfbd08b03e17dc3f52208257 (2024-12-12) - 상태코드: 200\n",
      "✅ 514cc55795d14102e6e06877cb5fef6a (2024-12-12) - 상태코드: 200\n",
      "✅ 6677c3fe29666e1eb7fd630e17995186 (2024-12-12) - 상태코드: 200\n",
      "✅ f83d731ab941bb8cb9309650bbca2556efe8d04e6d233bd35cf2fabdeb93fb0d (2024-12-12) - 상태코드: 200\n",
      "✅ a65581762b5d6e34bac6c5bf505ab79c (2024-12-12) - 상태코드: 200\n",
      "✅ 8e418ac840d290cdcff94d0c22b393f2 (2024-12-12) - 상태코드: 200\n",
      "✅ 24dbdc91d6b2f63be430a40ebdfa1d2e (2024-12-12) - 상태코드: 200\n",
      "✅ 10b358de5a7e17bc2c02f5c25432dc37efe8d04e6d233bd35cf2fabdeb93fb0d (2024-12-12) - 상태코드: 200\n",
      "✅ 9cfa542fcd5ce5b6f48034b1d63418a0 (2024-12-12) - 상태코드: 200\n"
     ]
    },
    {
     "name": "stderr",
     "output_type": "stream",
     "text": [
      " 87%|████████▋ | 4442/5104 [01:36<00:14, 46.65it/s]"
     ]
    },
    {
     "name": "stdout",
     "output_type": "stream",
     "text": [
      "✅ 2d6bbb92c21e0ae183e7c969df0085a5 (2024-12-12) - 상태코드: 200\n",
      "✅ 330e83a2349a52c860524ad2a853648c (2024-12-12) - 상태코드: 200\n",
      "✅ 2d9eafc741722263c64a25aa674f21c4 (2024-12-12) - 상태코드: 200\n",
      "✅ f02dbeb0b14c3143a5ba532ca30fc43fefe8d04e6d233bd35cf2fabdeb93fb0d (2024-12-12) - 상태코드: 200\n",
      "✅ 96fdb3ef9d3e17227700c25a56e592b2 (2024-12-12) - 상태코드: 200\n",
      "✅ 5fae23b0a50206c30cbe3d15b462b589efe8d04e6d233bd35cf2fabdeb93fb0d (2024-12-12) - 상태코드: 200\n",
      "✅ 51dabf2f8718e6b757c4dfae215cbbd2 (2024-12-12) - 상태코드: 200\n",
      "✅ 0f2934b74a1e901e3c4c3cb8338740ed (2024-12-12) - 상태코드: 200\n",
      "✅ 9a269c49588c1a45c5b382895206a293 (2024-12-12) - 상태코드: 200\n",
      "✅ d89293632bd02624ab8282e83d3dbe0b (2024-12-12) - 상태코드: 200\n",
      "✅ 84d5cd478dd3c1e583d94a7bf63721b2efe8d04e6d233bd35cf2fabdeb93fb0d (2024-12-12) - 상태코드: 200\n",
      "✅ 3b2166fca378cbd08edaf70c9b49b585 (2024-12-12) - 상태코드: 200\n"
     ]
    },
    {
     "name": "stderr",
     "output_type": "stream",
     "text": [
      " 87%|████████▋ | 4453/5104 [01:36<00:13, 47.91it/s]"
     ]
    },
    {
     "name": "stdout",
     "output_type": "stream",
     "text": [
      "✅ 3e856e0b915cb62838958909c60e59d5efe8d04e6d233bd35cf2fabdeb93fb0d (2024-12-12) - 상태코드: 200\n",
      "✅ af5deee5f0d367ba389960803ab52983 (2024-12-12) - 상태코드: 200\n",
      "✅ 023e363b5eb4997ade40e4f971cc72ad (2024-12-12) - 상태코드: 200\n",
      "✅ 90da96cdb2989da5837a1e2f0192eff4 (2024-12-12) - 상태코드: 200\n",
      "✅ d681a590b51294681b60695bde93e2dd (2024-12-12) - 상태코드: 200\n",
      "✅ 315bde624cd11939bdbbabd4106fbe4f (2024-12-19) - 상태코드: 200\n",
      "✅ 25a687e88b3c7a29a2121ba9a343b59f (2024-12-19) - 상태코드: 200\n",
      "✅ 084e19671a32a177b8ef654ede91290aefe8d04e6d233bd35cf2fabdeb93fb0d (2024-12-19) - 상태코드: 200\n",
      "✅ 728fa75237873734e013c5f128872a7b (2024-12-12) - 상태코드: 200\n",
      "✅ a170ec3f5abd30b9384d0beee904f5e8 (2024-12-19) - 상태코드: 200\n",
      "✅ 41bff4bc4c018a991639ba50b871354b (2024-12-19) - 상태코드: 200\n",
      "✅ dff75616855c84b67700a0d8fec18290 (2024-12-19) - 상태코드: 200\n",
      "✅ 991f8e71da1217400748eed40b8bdf23efe8d04e6d233bd35cf2fabdeb93fb0d (2024-12-19) - 상태코드: 200\n"
     ]
    },
    {
     "name": "stderr",
     "output_type": "stream",
     "text": [
      " 88%|████████▊ | 4466/5104 [01:36<00:12, 50.66it/s]"
     ]
    },
    {
     "name": "stdout",
     "output_type": "stream",
     "text": [
      "✅ 3297189561bd3919028be8241b5a4acc (2024-12-19) - 상태코드: 200\n",
      "✅ 7405c8fde61d4e4851cd1aa898d8d5b8 (2024-12-19) - 상태코드: 200\n",
      "✅ 3327ccbd3400f6e634f96f2a8fcd162defe8d04e6d233bd35cf2fabdeb93fb0d (2024-12-19) - 상태코드: 200\n",
      "✅ 24cbbe59b7b772e1748abfa6a0ced4edefe8d04e6d233bd35cf2fabdeb93fb0d (2024-12-19) - 상태코드: 200\n",
      "✅ 1a3711cf4f3ba5b3069c034b44b3076cefe8d04e6d233bd35cf2fabdeb93fb0d (2024-12-19) - 상태코드: 200\n",
      "✅ 0ac8f15307f1156b8c77e475666cc360efe8d04e6d233bd35cf2fabdeb93fb0d (2024-12-19) - 상태코드: 200\n",
      "✅ d9bf32913f42dfc6538b0069cdad9e7d (2024-12-19) - 상태코드: 200\n",
      "✅ a4b8f6024991432026cb303134f5c357efe8d04e6d233bd35cf2fabdeb93fb0d (2024-12-19) - 상태코드: 200\n",
      "✅ dde48f2b4ebaef2a8c5a216e45ad9e66efe8d04e6d233bd35cf2fabdeb93fb0d (2024-12-19) - 상태코드: 200\n",
      "✅ cee6e098b6e3c180d824889a190fde53 (2024-12-19) - 상태코드: 200\n",
      "✅ be5618a9953d6ab9b65213fcb34f030c (2024-12-19) - 상태코드: 200\n"
     ]
    },
    {
     "name": "stderr",
     "output_type": "stream",
     "text": [
      " 88%|████████▊ | 4472/5104 [01:37<00:13, 48.22it/s]"
     ]
    },
    {
     "name": "stdout",
     "output_type": "stream",
     "text": [
      "✅ f554f2e842193a1157b57005a5215c4eefe8d04e6d233bd35cf2fabdeb93fb0d (2024-12-19) - 상태코드: 200\n",
      "✅ 9adfa2f58c2ff3db70ac1f3604ee1809 (2024-12-19) - 상태코드: 200\n",
      "✅ 43ab5629c3f7e8c05726065e6f780e62 (2024-12-19) - 상태코드: 200\n",
      "✅ c9a416bb0b806202ce3a60e269af6844efe8d04e6d233bd35cf2fabdeb93fb0d (2024-12-19) - 상태코드: 200\n",
      "✅ 12c6a06dabb13716a5483d09bf17370f (2024-12-19) - 상태코드: 200\n",
      "✅ ef81e21ae9917c9d71131baae2da79ef (2024-12-19) - 상태코드: 200\n",
      "✅ 328dd4530671a706e9b1223e112cc5bb (2024-12-19) - 상태코드: 200\n",
      "✅ 30510205fc3ac19a4b27a5ed13c43fe1 (2024-12-19) - 상태코드: 200\n",
      "✅ 43734b62c8bdca5853bdeb169b758555 (2024-12-19) - 상태코드: 200\n",
      "✅ 13749b48f16283d992ff7c7eb9c56c7b (2024-12-19) - 상태코드: 200\n",
      "✅ af7df64ff10600cd3f87ebf9f384b6d3efe8d04e6d233bd35cf2fabdeb93fb0d (2024-12-19) - 상태코드: 200\n"
     ]
    },
    {
     "name": "stderr",
     "output_type": "stream",
     "text": [
      " 88%|████████▊ | 4487/5104 [01:37<00:12, 51.28it/s]"
     ]
    },
    {
     "name": "stdout",
     "output_type": "stream",
     "text": [
      "✅ 86618f97ac4b095954988ca7e74c6f00 (2024-12-19) - 상태코드: 200\n",
      "✅ 3d9a94d775603949b0ae473c50a3f4b5a2186d8e7cf7a6ee152d97cc78f2ae8b (2024-12-19) - 상태코드: 200\n",
      "✅ 0a703636d6ef26bf9635e788a1126201 (2024-12-19) - 상태코드: 200\n",
      "✅ 010b677091933dadb2fa6baa3307695f (2024-12-19) - 상태코드: 200\n",
      "✅ cf9f4d3d65107f68451d969c2bc7dbf4fd842dab14be2a956555625b37c97bff (2024-12-19) - 상태코드: 200\n",
      "✅ 73dad618d4a97848b158de7b96d49a85efe8d04e6d233bd35cf2fabdeb93fb0d (2024-12-19) - 상태코드: 200\n",
      "✅ 369d45ae3de0351423a2a203fb58e4e9 (2024-12-19) - 상태코드: 200\n",
      "✅ 3b5e23900beda889be4f7aedeeb96c38 (2024-12-19) - 상태코드: 200\n",
      "✅ d1d27212d315fb4fb66d714245f1026fefe8d04e6d233bd35cf2fabdeb93fb0d (2024-12-19) - 상태코드: 200\n",
      "✅ 7237423af589437d6a89eb4996dec82e (2024-12-19) - 상태코드: 200\n"
     ]
    },
    {
     "name": "stderr",
     "output_type": "stream",
     "text": [
      " 88%|████████▊ | 4499/5104 [01:37<00:11, 51.99it/s]"
     ]
    },
    {
     "name": "stdout",
     "output_type": "stream",
     "text": [
      "✅ 1ad89fe6fc5a2574ae51c09882a52b98 (2024-12-19) - 상태코드: 200\n",
      "✅ b19e2edb4605fc81c0b47dcc7a07e180efe8d04e6d233bd35cf2fabdeb93fb0d (2024-12-19) - 상태코드: 200\n",
      "✅ 973f491c7ed163d63046ba5349711b92efe8d04e6d233bd35cf2fabdeb93fb0d (2024-12-19) - 상태코드: 200\n",
      "✅ 334314fccccbec6c9b3dbf401a820198 (2024-12-19) - 상태코드: 200\n",
      "✅ d8e4494e64b1989c5e6e878d7b9c4c1c (2024-12-19) - 상태코드: 200\n",
      "✅ 7098187b25417dbd097d65d40b67a4f3efe8d04e6d233bd35cf2fabdeb93fb0d (2024-12-19) - 상태코드: 200\n",
      "✅ 9b30b09b5a52be98d04c236ee5720c73 (2024-12-19) - 상태코드: 200\n",
      "✅ 0edaa253230233a90e23cdd48b8ed272 (2024-12-19) - 상태코드: 200\n",
      "✅ 40d94d313b4c225242e3e3bd800f012befe8d04e6d233bd35cf2fabdeb93fb0d (2024-12-19) - 상태코드: 200\n",
      "✅ f42bf53f9aa07d335d0a841a376bb700 (2024-12-19) - 상태코드: 200\n",
      "✅ 7b5da667dfc9a7fe3602e2b671f985d6 (2024-12-19) - 상태코드: 200\n",
      "✅ 9ee4da28c78cbf62c4e40c2d45235da7e85e07f9d5d276f44440847eec04ba68 (2024-12-19) - 상태코드: 200\n"
     ]
    },
    {
     "name": "stderr",
     "output_type": "stream",
     "text": [
      " 88%|████████▊ | 4505/5104 [01:37<00:12, 49.58it/s]"
     ]
    },
    {
     "name": "stdout",
     "output_type": "stream",
     "text": [
      "✅ 23eb469a95de1a33fbffc2a2d551e6f5 (2024-12-19) - 상태코드: 200\n",
      "✅ f4cc1c57a14345fe9e7144f6bded643a (2024-12-19) - 상태코드: 200\n",
      "✅ a076d8d46421881812ee977f96c66793efe8d04e6d233bd35cf2fabdeb93fb0d (2024-12-19) - 상태코드: 200\n",
      "✅ fb4086a2535eec99516a0fd3b11a4d28efe8d04e6d233bd35cf2fabdeb93fb0d (2024-12-19) - 상태코드: 200\n",
      "✅ 2358b23b1a631c006c114221f2f6fe0e (2024-12-19) - 상태코드: 200\n",
      "✅ 5dd5b26d547f1ceb68b61dc1965b07b4 (2024-12-19) - 상태코드: 200\n",
      "✅ 7d314907d4ba901ed42a8bd2ec4ecc08 (2024-12-19) - 상태코드: 200\n",
      "✅ 5b355259bd13f25406b58dadcbc3122f (2024-12-19) - 상태코드: 200\n",
      "✅ a75f1fcc0ed4f194beff77a0bc652e47 (2024-12-19) - 상태코드: 200\n",
      "✅ f17a5f4ae5ea753331b30d0f9be40f26 (2024-12-19) - 상태코드: 200\n"
     ]
    },
    {
     "name": "stderr",
     "output_type": "stream",
     "text": [
      " 88%|████████▊ | 4517/5104 [01:37<00:11, 51.06it/s]"
     ]
    },
    {
     "name": "stdout",
     "output_type": "stream",
     "text": [
      "✅ cfbfc290e30faa09794cacaa8ad8f140 (2024-12-19) - 상태코드: 200\n",
      "✅ cf98e709f848d3cef643323df0c47fd9 (2024-12-19) - 상태코드: 200\n",
      "✅ b45cd4e0c0e479a35fb9d2cc319b3683efe8d04e6d233bd35cf2fabdeb93fb0d (2024-12-19) - 상태코드: 200\n",
      "✅ dca25a6b8259beeaa29f7cbf0605616c (2024-12-19) - 상태코드: 200\n",
      "✅ b10a608fb22dcc0e248c32913216c5a6efe8d04e6d233bd35cf2fabdeb93fb0d (2024-12-19) - 상태코드: 200\n",
      "✅ e52e431c74277449d73f798ebc3ec3cbefe8d04e6d233bd35cf2fabdeb93fb0d (2024-12-19) - 상태코드: 200\n",
      "✅ c566e739708e671f9e0b91fbf053210aefe8d04e6d233bd35cf2fabdeb93fb0d (2024-12-19) - 상태코드: 200\n",
      "✅ eab2c0204d218009acca3d27f04c1301 (2024-12-19) - 상태코드: 200\n",
      "✅ 44dca63209cabe08f940dc1d6443d4a0 (2024-12-19) - 상태코드: 200\n",
      "✅ b6c71680414d49fc2caa0fc7eb96731fefe8d04e6d233bd35cf2fabdeb93fb0d (2024-12-19) - 상태코드: 200\n",
      "✅ e595e607292c271903bc4bd8d9b5797e (2024-12-19) - 상태코드: 200\n"
     ]
    },
    {
     "name": "stderr",
     "output_type": "stream",
     "text": [
      " 89%|████████▊ | 4529/5104 [01:38<00:11, 51.80it/s]"
     ]
    },
    {
     "name": "stdout",
     "output_type": "stream",
     "text": [
      "✅ 71d241a81031f190732434224f1e97d6 (2024-12-19) - 상태코드: 200\n",
      "✅ 7969110f097cbb90c94d186b0e152d2d (2024-12-19) - 상태코드: 200\n",
      "✅ 18b309abb24a46c1d1d28a7730d515b6 (2024-12-19) - 상태코드: 200\n",
      "✅ 45910414dd4ec588ba86ae96a83d8bc7 (2024-12-19) - 상태코드: 200\n",
      "✅ ee5f641bc5d21be86fe2f326067b4dd2fd842dab14be2a956555625b37c97bff (2024-12-19) - 상태코드: 200\n",
      "✅ 67f2a8d4dde9185dd68bf25cd6f52c05efe8d04e6d233bd35cf2fabdeb93fb0d (2024-12-19) - 상태코드: 200\n",
      "✅ 69f5080323bbd70593f64349947d313f6fbb98200a15be5bcc73a64995849e9c (2024-12-19) - 상태코드: 200\n",
      "✅ 2172f0fa63e98d078558490328da113defe8d04e6d233bd35cf2fabdeb93fb0d (2024-12-19) - 상태코드: 200\n",
      "✅ 3d5155a295ddb2214e2abd370d66777c (2024-12-19) - 상태코드: 200\n",
      "✅ 9a417c08e655771b1e3110645879c4b0 (2024-12-19) - 상태코드: 200\n",
      "✅ fcf1f9c069722d679b24afa160e37448 (2024-12-19) - 상태코드: 200\n"
     ]
    },
    {
     "name": "stderr",
     "output_type": "stream",
     "text": [
      " 89%|████████▉ | 4535/5104 [01:38<00:11, 50.45it/s]"
     ]
    },
    {
     "name": "stdout",
     "output_type": "stream",
     "text": [
      "✅ 49e09d0ac7f612cb56536d2412048e6a (2024-12-19) - 상태코드: 200\n",
      "✅ 49c23bda64fe66ce0cb18dad3eceea62 (2024-12-19) - 상태코드: 200\n",
      "✅ 2b23c64e6373f47294a53bf3bbb83ac1 (2024-12-19) - 상태코드: 200\n",
      "✅ 9a58999832c6a605821541888de6d69e (2024-12-19) - 상태코드: 200\n",
      "✅ c066c19351562b2e691545fde8de0bd4 (2024-12-19) - 상태코드: 200\n",
      "✅ 5d2b11c617cf193add8cbd8c51a4eed6 (2024-12-19) - 상태코드: 200\n",
      "✅ 9dcb38a48e8f0dd058f535e3c1ce2c23 (2024-12-19) - 상태코드: 200\n",
      "✅ cf24034f6029aa3ec3c50995f239f971efe8d04e6d233bd35cf2fabdeb93fb0d (2024-12-19) - 상태코드: 200\n",
      "✅ cc285abdbb03c00e751b565a9da816e2efe8d04e6d233bd35cf2fabdeb93fb0d (2024-12-19) - 상태코드: 200\n"
     ]
    },
    {
     "name": "stderr",
     "output_type": "stream",
     "text": [
      " 89%|████████▉ | 4547/5104 [01:38<00:10, 51.60it/s]"
     ]
    },
    {
     "name": "stdout",
     "output_type": "stream",
     "text": [
      "✅ 57bdd563a04366797aabbac41bb6c19fefe8d04e6d233bd35cf2fabdeb93fb0d (2024-12-19) - 상태코드: 200\n",
      "✅ ff3de06ab1c5959deeca1a5c854955e2efe8d04e6d233bd35cf2fabdeb93fb0d (2024-12-19) - 상태코드: 200\n",
      "✅ 68c698e7d765bb3c73e390760751e036efe8d04e6d233bd35cf2fabdeb93fb0d (2024-12-19) - 상태코드: 200\n",
      "✅ a4b2853096dbb6b8dd90c9048b40a8a3efe8d04e6d233bd35cf2fabdeb93fb0d (2024-12-19) - 상태코드: 200\n",
      "✅ 837de8bca1255be1cb2ddf332a6253e7 (2024-12-19) - 상태코드: 200\n",
      "✅ 0033afa889fdb0251e1e04e5bb8937d0efe8d04e6d233bd35cf2fabdeb93fb0d (2024-12-19) - 상태코드: 200\n",
      "✅ 5d06988c55830e11ef9b103162dd1631efe8d04e6d233bd35cf2fabdeb93fb0d (2024-12-19) - 상태코드: 200\n",
      "✅ e1b52c3e31042a8317e063c0ae86bacc (2024-12-19) - 상태코드: 200\n",
      "✅ 6dff108b1ba120af843deb28e8c54b0fefe8d04e6d233bd35cf2fabdeb93fb0d (2024-12-19) - 상태코드: 200\n",
      "✅ adec6db8f6769d50dc21317084ca1832 (2024-12-19) - 상태코드: 200\n",
      "✅ 1d9a9df9a85d733084080c34b66bafd1efe8d04e6d233bd35cf2fabdeb93fb0d (2024-12-19) - 상태코드: 200\n"
     ]
    },
    {
     "name": "stderr",
     "output_type": "stream",
     "text": [
      " 89%|████████▉ | 4559/5104 [01:38<00:10, 49.61it/s]"
     ]
    },
    {
     "name": "stdout",
     "output_type": "stream",
     "text": [
      "✅ 836c727a71b07910721bab4597e99eccefe8d04e6d233bd35cf2fabdeb93fb0d (2024-12-19) - 상태코드: 200\n",
      "✅ 1aa8e296994efc80825348caa4cb16d1e85e07f9d5d276f44440847eec04ba68 (2024-12-19) - 상태코드: 200\n",
      "✅ 55fe3071174838005e03bf68cdda1be0 (2024-12-19) - 상태코드: 200\n",
      "✅ bd1eedacee93cae2af43ad5c29f21a8c (2024-12-19) - 상태코드: 200\n",
      "✅ 3d8efc04447c46298f0a1ff236fa2dbe (2024-12-19) - 상태코드: 200\n",
      "✅ 2aa540cfc2b0e638404c9641cf5daddb (2024-12-19) - 상태코드: 200\n",
      "✅ 6add214b0cf4f23a601252106fa92428 (2024-12-19) - 상태코드: 200\n",
      "✅ 303bde271538bbd720c6a3de31652f93 (2024-12-19) - 상태코드: 200\n",
      "✅ 105cd5a758c1a1552006f4f6ede2a80f (2024-12-19) - 상태코드: 200\n",
      "✅ fefdf6d800abf8bcb83242cf176aaba8 (2024-12-19) - 상태코드: 200\n",
      "✅ ab79e55250a49267e4b58d4420c2afce (2024-12-19) - 상태코드: 200\n",
      "✅ 499b59d931930833b49bea684ff5a9e9 (2024-12-19) - 상태코드: 200\n"
     ]
    },
    {
     "name": "stderr",
     "output_type": "stream",
     "text": [
      " 90%|████████▉ | 4571/5104 [01:39<00:11, 48.14it/s]"
     ]
    },
    {
     "name": "stdout",
     "output_type": "stream",
     "text": [
      "✅ 9eed691a31409febf72f25664bddb99d (2024-12-19) - 상태코드: 200\n",
      "✅ 134c89affce067a5019be6dce85b08c6efe8d04e6d233bd35cf2fabdeb93fb0d (2024-12-19) - 상태코드: 200\n",
      "✅ 5d19b2f9799c90c41f69da143000e4f5 (2024-12-19) - 상태코드: 200\n",
      "✅ aafcdd815561412182a786c107a5c4b1 (2024-12-19) - 상태코드: 200\n",
      "✅ 79d4ebe51c661761cc96695854e620a8 (2024-12-19) - 상태코드: 200\n",
      "✅ 80341d8d8a00d06c7752b45681624d1b (2024-12-19) - 상태코드: 200\n",
      "✅ 5c3e904eaca03b316daf87c4c78d0c88 (2024-12-19) - 상태코드: 200\n",
      "✅ e317d4813a69fb3361864089ed0d1757 (2024-12-19) - 상태코드: 200\n",
      "✅ 550e1cc0ed2e0ae6c2f4df7611f73224efe8d04e6d233bd35cf2fabdeb93fb0d (2024-12-19) - 상태코드: 200\n"
     ]
    },
    {
     "name": "stderr",
     "output_type": "stream",
     "text": [
      " 90%|████████▉ | 4584/5104 [01:39<00:10, 48.67it/s]"
     ]
    },
    {
     "name": "stdout",
     "output_type": "stream",
     "text": [
      "✅ d742f62993190da82fa7f4671ebb1476 (2024-12-19) - 상태코드: 200\n",
      "✅ 05a0002ba6f1f91cd3a9f9a2ee9659a7 (2024-12-19) - 상태코드: 200\n",
      "✅ 941b8eae23e677d24b88dab022ad9ef7 (2024-12-19) - 상태코드: 200\n",
      "✅ 1b6fe73c73ce1c9b7f6572af49b7adf9 (2024-12-19) - 상태코드: 200\n",
      "✅ 25ec98260177709e770fdae65c122386efe8d04e6d233bd35cf2fabdeb93fb0d (2024-12-19) - 상태코드: 200\n",
      "✅ 1b0fba64a12ea6bd6c432a7dee33543aefe8d04e6d233bd35cf2fabdeb93fb0d (2024-12-19) - 상태코드: 200\n",
      "✅ 29dd583c39b648ce88c2ae37d1b18797 (2024-12-19) - 상태코드: 200\n",
      "✅ 25bc4d27e20d41126e48c07338f0b8f0efe8d04e6d233bd35cf2fabdeb93fb0d (2024-12-19) - 상태코드: 200\n",
      "✅ b28151c9ac63ec1d5e22fbbad88218a1 (2024-12-19) - 상태코드: 200\n",
      "✅ f08552c9e7895cb77a64c240559c5b51 (2024-12-19) - 상태코드: 200\n",
      "✅ 6ffc14ff1de7b5b0a3f208b593b1144e (2024-12-19) - 상태코드: 200\n",
      "✅ cd9c1a0e5fb457317a5ef2a017b8674d (2024-12-19) - 상태코드: 200\n"
     ]
    },
    {
     "name": "stderr",
     "output_type": "stream",
     "text": [
      " 90%|████████▉ | 4592/5104 [01:39<00:09, 54.19it/s]"
     ]
    },
    {
     "name": "stdout",
     "output_type": "stream",
     "text": [
      "✅ 22319f7d3679c34e3b35eebb904ec905 (2024-12-19) - 상태코드: 200\n",
      "✅ c6db2d4572e2261a3c02f770644eeebdefe8d04e6d233bd35cf2fabdeb93fb0d (2024-12-19) - 상태코드: 200\n",
      "✅ a3fc2f2b143616164f949e75eee4f6c8 (2024-12-19) - 상태코드: 200\n",
      "✅ 175213d5abc2e7d03632d5b61440c927efe8d04e6d233bd35cf2fabdeb93fb0d (2024-12-19) - 상태코드: 200\n",
      "✅ 8cd1eac2eae3d71ac857eaccfe7b00e7 (2024-12-19) - 상태코드: 200\n",
      "✅ 77dd3bc7f5e389c617b6dd1c70a692bbefe8d04e6d233bd35cf2fabdeb93fb0d (2024-12-19) - 상태코드: 200\n",
      "✅ b24ba7b50dfdf479b1cc8d24cc65a06c (2024-12-19) - 상태코드: 200\n",
      "✅ 95140355ba77b90d2ee9686e68aade58 (2024-12-19) - 상태코드: 200\n",
      "✅ fccc9ca12cec1d7aeceb0c2960a19f10efe8d04e6d233bd35cf2fabdeb93fb0d (2024-12-19) - 상태코드: 200\n",
      "✅ e43a54c994e5668dc4933ad54439bb08 (2024-12-19) - 상태코드: 200\n",
      "✅ 2911af63fbd902765a852e40a2d9488d (2024-12-19) - 상태코드: 200\n"
     ]
    },
    {
     "name": "stderr",
     "output_type": "stream",
     "text": [
      " 90%|█████████ | 4603/5104 [01:39<00:10, 48.01it/s]"
     ]
    },
    {
     "name": "stdout",
     "output_type": "stream",
     "text": [
      "✅ cc2e8546ab247d4c5b7e8ef39fe9484a (2024-12-19) - 상태코드: 200\n",
      "✅ 7eafa7de7caf079eb5cf49db9aa710b8efe8d04e6d233bd35cf2fabdeb93fb0d (2024-12-19) - 상태코드: 200\n",
      "✅ 873262f1f6eb0a0f962d72298e6bbc8defe8d04e6d233bd35cf2fabdeb93fb0d (2024-12-19) - 상태코드: 200\n",
      "✅ d91a1a709b35124486737a3b89505f54 (2024-12-19) - 상태코드: 200\n",
      "✅ 3aa9923eda02aa2bdc26247a537dbf47 (2024-12-19) - 상태코드: 200\n",
      "✅ cbec16599e27e6daa37cae78a39ae3d68295750b1f4857867454debc45ec9c8a (2024-12-19) - 상태코드: 200\n",
      "✅ 6ef7a179284f11d7546a25bf2025929e (2024-12-19) - 상태코드: 200\n",
      "✅ 9e0ac11afe1cb6766f054014c0ddf528 (2024-12-19) - 상태코드: 200\n",
      "✅ 9c62ce5a1e63a6c28803cb77c0c75387 (2024-12-19) - 상태코드: 200\n",
      "✅ 5dccd64857dd9f4a8690cfea4f5afd4b (2024-12-19) - 상태코드: 200\n"
     ]
    },
    {
     "name": "stderr",
     "output_type": "stream",
     "text": [
      " 90%|█████████ | 4615/5104 [01:39<00:10, 46.26it/s]"
     ]
    },
    {
     "name": "stdout",
     "output_type": "stream",
     "text": [
      "✅ 085c6b00b30d8f9065b6a617d7f75f0defe8d04e6d233bd35cf2fabdeb93fb0d (2024-12-19) - 상태코드: 200\n",
      "✅ 25b1a7d0b6398a950ce86c34e8784f07efe8d04e6d233bd35cf2fabdeb93fb0d (2024-12-19) - 상태코드: 200\n",
      "✅ 98a45d21eb8221d564c9c1443bc5841a (2024-12-19) - 상태코드: 200\n",
      "✅ 96eb8cf62bf545bb46c7efb3e2a87b41 (2024-12-19) - 상태코드: 200\n",
      "✅ 817453ad3139a84fc19a9718538e3d0f (2024-12-19) - 상태코드: 200\n",
      "✅ 8376b35f898e6d1c1095657138a5f30befe8d04e6d233bd35cf2fabdeb93fb0d (2024-12-19) - 상태코드: 200\n",
      "✅ dcc0b9135f8079f587dfc85e15c3df43 (2024-12-19) - 상태코드: 200\n",
      "✅ 605c5b412201ef038f655c06b69256d8 (2024-12-19) - 상태코드: 200\n",
      "✅ 5d3b14ba1320475fe85efbea32e64231 (2024-12-19) - 상태코드: 200\n",
      "✅ 68b68720c7bf74560c69ecd1eb137679efe8d04e6d233bd35cf2fabdeb93fb0d (2024-12-19) - 상태코드: 200\n"
     ]
    },
    {
     "name": "stderr",
     "output_type": "stream",
     "text": [
      " 91%|█████████ | 4621/5104 [01:40<00:10, 45.79it/s]"
     ]
    },
    {
     "name": "stdout",
     "output_type": "stream",
     "text": [
      "✅ 5d9049f65e4b352bedbe1efecf1fe6e4efe8d04e6d233bd35cf2fabdeb93fb0d (2024-12-19) - 상태코드: 200\n",
      "✅ 3e1eb373e25055b7dd44330e3d2f3b16 (2024-12-19) - 상태코드: 200\n",
      "✅ bd72ca796d258f024af3959ca985de9fefe8d04e6d233bd35cf2fabdeb93fb0d (2024-12-19) - 상태코드: 200\n",
      "✅ 6985dd5e08d08e87428031e047d1a4eb4723574b05820acf03e7ec3162ff5bed (2024-12-19) - 상태코드: 200\n",
      "✅ b2fb907f6fbf6a039f1cef6bdc4e8457 (2024-12-19) - 상태코드: 200\n",
      "✅ 983a02ec1472022c718b51bcf6d3ea84efe8d04e6d233bd35cf2fabdeb93fb0d (2024-12-19) - 상태코드: 200\n",
      "✅ 95feac78a663593156ffe569d9161d1b (2024-12-19) - 상태코드: 200\n",
      "✅ db6fe01029329f6bf6d55ca9389afdca (2024-12-19) - 상태코드: 200\n"
     ]
    },
    {
     "name": "stderr",
     "output_type": "stream",
     "text": [
      " 91%|█████████ | 4633/5104 [01:40<00:10, 43.91it/s]"
     ]
    },
    {
     "name": "stdout",
     "output_type": "stream",
     "text": [
      "✅ 9e2074155c4d531ebabcdcbcc4bad268 (2024-12-19) - 상태코드: 200\n",
      "✅ 7dbc7f73d47fea9e42ae93a4c62e0ed6 (2024-12-19) - 상태코드: 200\n",
      "✅ c86d73029385cda466c249c59460456e (2024-12-19) - 상태코드: 200\n",
      "✅ 2a57e30011c955f5d6670ed564c88421 (2024-12-19) - 상태코드: 200\n",
      "✅ dd599947bd9eb8b36df5722efc1978c5 (2024-12-19) - 상태코드: 200\n",
      "✅ 9674cb12e9e03484488cc3deb9031c40 (2024-12-19) - 상태코드: 200\n",
      "✅ 2eaee8491645cd83b692755c6871e827 (2024-12-19) - 상태코드: 200\n",
      "✅ 5864f519f1f8984fb3b011d5e91e6b80 (2024-12-19) - 상태코드: 200\n",
      "✅ 2bc404b32c9e9bce1be5412234f69431 (2024-12-19) - 상태코드: 200\n",
      "✅ cb77302be9ff82eae9cc784ca55e38c5 (2024-12-19) - 상태코드: 200\n"
     ]
    },
    {
     "name": "stderr",
     "output_type": "stream",
     "text": [
      " 91%|█████████ | 4643/5104 [01:40<00:10, 45.66it/s]"
     ]
    },
    {
     "name": "stdout",
     "output_type": "stream",
     "text": [
      "✅ 18ca337f5ad8de467066790b2c2d949b (2024-12-19) - 상태코드: 200\n",
      "✅ f3aa4c38d90838b7872717888fa62ffb (2024-12-19) - 상태코드: 200\n",
      "✅ c095a5f94313c5502ff1a1ee55a0bb0d (2024-12-19) - 상태코드: 200\n",
      "✅ 9094d86d602414b186b4fbda98e6f2bf (2024-12-19) - 상태코드: 200\n",
      "✅ a93fa681054c280932639283d67f0aa7 (2024-12-19) - 상태코드: 200\n",
      "✅ 95c6731be5b0df3c7818bc2d7ca86f188295750b1f4857867454debc45ec9c8a (2024-12-19) - 상태코드: 200\n",
      "✅ 41ee3f02eb7418626f20b0138ba7c93defe8d04e6d233bd35cf2fabdeb93fb0d (2024-12-19) - 상태코드: 200\n",
      "✅ 2ecb9848ec933395c8c451ea0174634b (2024-12-19) - 상태코드: 200\n",
      "✅ 72f98a13a35281ebf54fcaaca527ee57 (2024-12-19) - 상태코드: 200\n",
      "✅ e806a9e5b2684cef4d08f44a3d3e895a (2024-12-19) - 상태코드: 200\n"
     ]
    },
    {
     "name": "stderr",
     "output_type": "stream",
     "text": [
      " 91%|█████████ | 4649/5104 [01:40<00:09, 47.09it/s]"
     ]
    },
    {
     "name": "stdout",
     "output_type": "stream",
     "text": [
      "✅ 617eae0aca75e93ee1c7be69e5767d3aefe8d04e6d233bd35cf2fabdeb93fb0d (2024-12-19) - 상태코드: 200\n",
      "✅ 4181e8df10a85f5b559d5e770d5d2252 (2024-12-19) - 상태코드: 200\n",
      "✅ 09c019e289606a3b2a18f40609107b00efe8d04e6d233bd35cf2fabdeb93fb0d (2024-12-19) - 상태코드: 200\n",
      "✅ 0d4053ed47127ac5afe1fbc3e28429fa (2024-12-19) - 상태코드: 200\n",
      "✅ 7a53eb7a3f8fa82a66f5d3dc999bd4b6 (2024-12-19) - 상태코드: 200\n",
      "✅ ffc42603f7cdb56696c94f00803194a9efe8d04e6d233bd35cf2fabdeb93fb0d (2024-12-19) - 상태코드: 200\n",
      "✅ f4bf9cefa8268423a6cb955e5a6d9e92 (2024-12-19) - 상태코드: 200\n",
      "✅ 7cd8c23f47cf985528061d75c6b1c382efe8d04e6d233bd35cf2fabdeb93fb0d (2024-12-19) - 상태코드: 200\n",
      "✅ ff308d37a165572b45518551ff788634 (2024-12-19) - 상태코드: 200\n",
      "✅ 9024e79c09fefe51fcc407bc2dd975b8 (2024-12-19) - 상태코드: 400\n",
      "✅ 646db93aa8771243b2dbefbcd1287f11 (2024-12-19) - 상태코드: 200\n",
      "✅ 0caa2f656bf8a4b51ddfdf9c2c58c895 (2024-12-19) - 상태코드: 200\n"
     ]
    },
    {
     "name": "stderr",
     "output_type": "stream",
     "text": [
      " 91%|█████████▏| 4662/5104 [01:40<00:08, 50.41it/s]"
     ]
    },
    {
     "name": "stdout",
     "output_type": "stream",
     "text": [
      "✅ 24f05d1ca5c3b917c2d4485e46c430a0efe8d04e6d233bd35cf2fabdeb93fb0d (2024-12-19) - 상태코드: 200\n",
      "✅ f353d347dd0067d7dbed3cf109f3695d (2024-12-19) - 상태코드: 200\n",
      "✅ a4dc4cdf23a7f5c32adb6f285239ebb7 (2024-12-19) - 상태코드: 200\n",
      "✅ 51845de1965d98fc6f98fbc9a23c1aa7 (2024-12-19) - 상태코드: 200\n",
      "✅ dab300fb6e0755f312a8eed1ed6d4e8fefe8d04e6d233bd35cf2fabdeb93fb0d (2024-12-19) - 상태코드: 200\n",
      "✅ d840a2df94a193506e885b10cea89f43 (2024-12-19) - 상태코드: 200\n",
      "✅ 923866addb47956e348e45a3826ae52f (2024-12-19) - 상태코드: 200\n",
      "✅ 63255d98d0a9ec66ed5c6074a72642bcefe8d04e6d233bd35cf2fabdeb93fb0d (2024-12-19) - 상태코드: 200\n",
      "✅ e04fc2375a222d541c4cf66ba8eadf25efe8d04e6d233bd35cf2fabdeb93fb0d (2024-12-19) - 상태코드: 200\n",
      "✅ e660968602024fe9ba6729d57948c1cb (2024-12-19) - 상태코드: 200\n",
      "✅ ad088fc63acf794b83fdb6e05b0e89ce (2024-12-19) - 상태코드: 200\n",
      "✅ 31f793de46fcb8d46bd983f35b3b2575efe8d04e6d233bd35cf2fabdeb93fb0d (2024-12-19) - 상태코드: 200\n",
      "✅ eec1c1d15198a1f091fc9b2c4e35937eefe8d04e6d233bd35cf2fabdeb93fb0d (2024-12-19) - 상태코드: 200\n"
     ]
    },
    {
     "name": "stderr",
     "output_type": "stream",
     "text": [
      " 92%|█████████▏| 4675/5104 [01:41<00:07, 53.99it/s]"
     ]
    },
    {
     "name": "stdout",
     "output_type": "stream",
     "text": [
      "✅ 5071141d43282e55e6ecfad69739e66b (2024-12-19) - 상태코드: 200\n",
      "✅ cbe6469287089e1d94a31a3276338051efe8d04e6d233bd35cf2fabdeb93fb0d (2024-12-19) - 상태코드: 200\n",
      "✅ 9bf4b4267127550b5428fcd699202a2b (2024-12-19) - 상태코드: 200\n",
      "✅ 526f6d9207ce243f3e768bdf2016cf9cefe8d04e6d233bd35cf2fabdeb93fb0d (2024-12-19) - 상태코드: 200\n",
      "✅ 552bf45aa58039f6d66e8e207331f280efe8d04e6d233bd35cf2fabdeb93fb0d (2024-12-19) - 상태코드: 200\n",
      "✅ b15e18d83c7d8c7f7c94804068d4b7cd (2024-12-19) - 상태코드: 200\n",
      "✅ 4aeebec9117601798e7aa49eced8040b (2024-12-19) - 상태코드: 200\n",
      "✅ 6e4f367a8570a3917a021b17f3b93f40 (2024-12-19) - 상태코드: 200\n",
      "✅ 43e3c8d53cd45a5c41e8681944df40a1 (2024-12-19) - 상태코드: 200\n",
      "✅ 1bddcdc6fd36de3027e6160f50cddddb (2024-12-19) - 상태코드: 200\n",
      "✅ 66bd56bc1adf5d9f285099b8115b64d4efe8d04e6d233bd35cf2fabdeb93fb0d (2024-12-19) - 상태코드: 200\n"
     ]
    },
    {
     "name": "stderr",
     "output_type": "stream",
     "text": [
      " 92%|█████████▏| 4688/5104 [01:41<00:07, 52.91it/s]"
     ]
    },
    {
     "name": "stdout",
     "output_type": "stream",
     "text": [
      "✅ 15cb2d022e21a6cb194e004957743ae8efe8d04e6d233bd35cf2fabdeb93fb0d (2024-12-19) - 상태코드: 200\n",
      "✅ 0f942f23040f371cd13d194760315425efe8d04e6d233bd35cf2fabdeb93fb0d (2024-12-19) - 상태코드: 200\n",
      "✅ dc19af0ea6ed05062f192561154dc706 (2024-12-19) - 상태코드: 200\n",
      "✅ 1ef452f60e1c495a0feea39efdaeca6defe8d04e6d233bd35cf2fabdeb93fb0d (2024-12-19) - 상태코드: 200\n",
      "✅ f8cebf9b5441a5619a12889b87b74d79 (2024-12-19) - 상태코드: 200\n",
      "✅ dbb9e93c961f6ee03951e272e611e0d8efe8d04e6d233bd35cf2fabdeb93fb0d (2024-12-19) - 상태코드: 200\n",
      "✅ e2f6a4a393bd180b040effcfd4ec2fc5efe8d04e6d233bd35cf2fabdeb93fb0d (2024-12-19) - 상태코드: 200\n",
      "✅ 74eddd0c724e5fd6fc69480f975bae98efe8d04e6d233bd35cf2fabdeb93fb0d (2024-12-19) - 상태코드: 200\n",
      "✅ d554792ccff2b040ffda97200ddf5a06 (2024-12-19) - 상태코드: 200\n",
      "✅ e7fe0e5dcd6f7eb83a89bb3522f0d2a4 (2024-12-19) - 상태코드: 200\n",
      "✅ b0c69c3dc4381ad8ee4acfecd942574aefe8d04e6d233bd35cf2fabdeb93fb0d (2024-12-19) - 상태코드: 200\n",
      "✅ b1c3fec1c8dec4a78cb734ad6cbce2abefe8d04e6d233bd35cf2fabdeb93fb0d (2024-12-19) - 상태코드: 200\n",
      "✅ b0b66de6e49a9b10eaacd7117bc8a5c0 (2024-12-19) - 상태코드: 200\n",
      "✅ b6f662827cd4b58adc09fd694e6e62de (2024-12-19) - 상태코드: 200\n"
     ]
    },
    {
     "name": "stderr",
     "output_type": "stream",
     "text": [
      " 92%|█████████▏| 4700/5104 [01:41<00:08, 47.15it/s]"
     ]
    },
    {
     "name": "stdout",
     "output_type": "stream",
     "text": [
      "✅ 4a299934879212a57159707e5db5e35a (2024-12-19) - 상태코드: 200\n",
      "✅ ac6ed463785c3aa7c13f138becc0f253 (2024-12-19) - 상태코드: 200\n",
      "✅ d47c0befe817e7c8a77e9561e96e952c (2024-12-19) - 상태코드: 200\n",
      "✅ 652943692d318bdb08daf8c054d78380 (2024-12-19) - 상태코드: 200\n",
      "✅ cb4ab50d21a1dc5cdd93baa0f5a1e733 (2024-12-19) - 상태코드: 200\n",
      "✅ c26b5c5053a6c8c9054b83aacb7fcfb8efe8d04e6d233bd35cf2fabdeb93fb0d (2024-12-19) - 상태코드: 200\n",
      "✅ 078eb394464e8f627d2d649cbbb9c825 (2024-12-19) - 상태코드: 200\n",
      "✅ f2a728d9b620e5489cd827771a5d721eefe8d04e6d233bd35cf2fabdeb93fb0d (2024-12-19) - 상태코드: 200\n",
      "✅ 96937433b1c4516f7382936eed4c6a0a (2024-12-19) - 상태코드: 200\n",
      "✅ dc5f0f710c803372e06da55f38c72f28efe8d04e6d233bd35cf2fabdeb93fb0d (2024-12-19) - 상태코드: 200\n",
      "✅ f20ff21f0d04dee15a9c3b2fe19d3f2b (2024-12-19) - 상태코드: 200\n"
     ]
    },
    {
     "name": "stderr",
     "output_type": "stream",
     "text": [
      " 92%|█████████▏| 4707/5104 [01:41<00:07, 50.50it/s]"
     ]
    },
    {
     "name": "stdout",
     "output_type": "stream",
     "text": [
      "✅ 6f1df967ec127389598da54ed1a60d76efe8d04e6d233bd35cf2fabdeb93fb0d (2024-12-19) - 상태코드: 200\n",
      "✅ 2238569bb3f8b01d011befb5069669c6 (2024-12-19) - 상태코드: 200\n",
      "✅ 94a081a1112150b4297fbf08932059f4 (2024-12-19) - 상태코드: 200\n",
      "✅ 8aaab66796ab1d10600b311efebf9cacefe8d04e6d233bd35cf2fabdeb93fb0d (2024-12-19) - 상태코드: 200\n",
      "✅ f562b51c6531b040bcf5d5b861523155efe8d04e6d233bd35cf2fabdeb93fb0d (2024-12-19) - 상태코드: 200\n",
      "✅ 8033e447e0ace2c3e65440b4deda0b32 (2024-12-19) - 상태코드: 200\n",
      "✅ 2d2af3e4cf91081ed16c3ab121bd0281 (2024-12-19) - 상태코드: 200\n",
      "✅ 6e9c0c947f0c3e21e94ac65182a130f2efe8d04e6d233bd35cf2fabdeb93fb0d (2024-12-19) - 상태코드: 200\n",
      "✅ 1fd57349a76b4a31c7f34eaf1dbd7da2 (2024-12-19) - 상태코드: 200\n"
     ]
    },
    {
     "name": "stderr",
     "output_type": "stream",
     "text": [
      " 92%|█████████▏| 4720/5104 [01:42<00:07, 48.86it/s]"
     ]
    },
    {
     "name": "stdout",
     "output_type": "stream",
     "text": [
      "✅ 43d9f055ac2bc60ebf874358e6b384f2efe8d04e6d233bd35cf2fabdeb93fb0d (2024-12-19) - 상태코드: 200\n",
      "✅ f335164a5b475e05beb8609329c599a4efe8d04e6d233bd35cf2fabdeb93fb0d (2024-12-19) - 상태코드: 200\n",
      "✅ dda80cf6b65eb765cbb81144b6510bd4 (2024-12-19) - 상태코드: 200\n",
      "✅ b6c1b3b9f6156c7252429e8a050f59a9 (2024-12-19) - 상태코드: 200\n",
      "✅ cd6a0a461850028f838fd31774006400 (2024-12-19) - 상태코드: 200\n",
      "✅ fcf680f9c825512ac48d975fcaa6b114 (2024-12-19) - 상태코드: 200\n",
      "✅ 5e859d25c2d12325040cbb3bce0b42b2 (2024-12-19) - 상태코드: 200\n",
      "✅ 83670f0ee8304b52d15cf20c1d96c1b9efe8d04e6d233bd35cf2fabdeb93fb0d (2024-12-19) - 상태코드: 200\n",
      "✅ 596ef0d3af32ebbbe01ee2f87a56c8c2efe8d04e6d233bd35cf2fabdeb93fb0d (2024-12-19) - 상태코드: 200\n",
      "✅ a644fa94011fc7decfbaed1752c532b8efe8d04e6d233bd35cf2fabdeb93fb0d (2024-12-19) - 상태코드: 200\n",
      "✅ 56fc4b9cf931977357bb27cef0420594 (2024-12-19) - 상태코드: 200\n"
     ]
    },
    {
     "name": "stderr",
     "output_type": "stream",
     "text": [
      " 93%|█████████▎| 4735/5104 [01:42<00:06, 53.70it/s]"
     ]
    },
    {
     "name": "stdout",
     "output_type": "stream",
     "text": [
      "✅ 0c8118bca1eefa0677349c4ab1729b67 (2024-12-19) - 상태코드: 200\n",
      "✅ 673afd19cefcf982fb50b1997d8a0274efe8d04e6d233bd35cf2fabdeb93fb0d (2024-12-19) - 상태코드: 200\n",
      "✅ abe11ff4ece88fd4ddbcb392a852639b (2024-12-19) - 상태코드: 200\n",
      "✅ f96d8f46c73abc3fd1aa5eaeb54fef87 (2024-12-19) - 상태코드: 200\n",
      "✅ 5173c906ac53734c7ef675017299614f (2024-12-19) - 상태코드: 200\n",
      "✅ e0517827217fa1afd64b75e792a6e4c8efe8d04e6d233bd35cf2fabdeb93fb0d (2024-12-19) - 상태코드: 200\n",
      "✅ 81f28efb7c1a9f1d4615d2c63c3251ee (2024-12-19) - 상태코드: 200\n",
      "✅ a1333be07c304f5a7eb0f373a33d2d98 (2024-12-19) - 상태코드: 200\n",
      "✅ dadfd46c8cc678054be9ed21d861b887 (2024-12-19) - 상태코드: 200\n",
      "✅ fb30e1ff06044287d159313d4e36bb44 (2024-12-19) - 상태코드: 200\n",
      "✅ 1896b6b1552a73ef2593f1a526645de8 (2024-12-19) - 상태코드: 200\n",
      "✅ ac4a95d7b52ab15704c5be34936203f8a2186d8e7cf7a6ee152d97cc78f2ae8b (2024-12-19) - 상태코드: 200\n"
     ]
    },
    {
     "name": "stderr",
     "output_type": "stream",
     "text": [
      " 93%|█████████▎| 4747/5104 [01:42<00:06, 53.91it/s]"
     ]
    },
    {
     "name": "stdout",
     "output_type": "stream",
     "text": [
      "✅ 0c1e199a90be1e956d47b0d3cbabad81efe8d04e6d233bd35cf2fabdeb93fb0d (2024-12-19) - 상태코드: 200\n",
      "✅ 009d56c3358999da0f4792fbe82f9eb4 (2024-12-19) - 상태코드: 200\n",
      "✅ 27b6d65591d21508b0a6a026772dd01b (2024-12-19) - 상태코드: 200\n",
      "✅ 684190dcd6e22c74646c94caefcc25e3efe8d04e6d233bd35cf2fabdeb93fb0d (2024-12-19) - 상태코드: 200\n",
      "✅ 1e7db39ce12124009fb5a2cc9cc9e2cc (2024-12-19) - 상태코드: 200\n",
      "✅ 518a5a80f39a4e884f3a72e8c4208497 (2024-12-19) - 상태코드: 200\n",
      "✅ fb3acbfc29d1ca6e6d9c7e0429d20d9c (2024-12-19) - 상태코드: 200\n",
      "✅ 45e4576e8a1d3f2a826190526470328d (2024-12-19) - 상태코드: 200\n",
      "✅ 2c51cb13a92c359f9f5d05bfad0434ba (2024-12-19) - 상태코드: 200\n",
      "✅ 86235f7b2e144c63c1ae58b9fa861968 (2024-12-19) - 상태코드: 200\n",
      "✅ b6f019babb4a5c74b8af94553d237cb9 (2024-12-19) - 상태코드: 200\n"
     ]
    },
    {
     "name": "stderr",
     "output_type": "stream",
     "text": [
      " 93%|█████████▎| 4760/5104 [01:42<00:06, 53.09it/s]"
     ]
    },
    {
     "name": "stdout",
     "output_type": "stream",
     "text": [
      "✅ 47ac6db232a5c1683ee369c727548e67 (2024-12-19) - 상태코드: 200\n",
      "✅ 8ea1165966194464b0b1f5cb9d8fc27c (2024-12-19) - 상태코드: 200\n",
      "✅ 48678dd0d931ed1924ac538954f4fd28efe8d04e6d233bd35cf2fabdeb93fb0d (2024-12-19) - 상태코드: 200\n",
      "✅ 04e42182a3a16bb0251ed54bc2546c76efe8d04e6d233bd35cf2fabdeb93fb0d (2024-12-19) - 상태코드: 200\n",
      "✅ 53a3ab1fee4cd783af788a247e878705efe8d04e6d233bd35cf2fabdeb93fb0d (2024-12-19) - 상태코드: 200\n",
      "✅ 0183ec6c2e54a15b40ac92fb9ab7bc81efe8d04e6d233bd35cf2fabdeb93fb0d (2024-12-19) - 상태코드: 200\n",
      "✅ 28db9eeffbe4bcc2126db08a4961671a (2024-12-19) - 상태코드: 200\n",
      "✅ b29577973842c4dbba63fb91e207e105 (2024-12-19) - 상태코드: 200\n",
      "✅ ddf7cecd50d246131ce5790c37be8fba (2024-12-19) - 상태코드: 200\n",
      "✅ fe742370dd9bac2c4c2e8708429524ecefe8d04e6d233bd35cf2fabdeb93fb0d (2024-12-19) - 상태코드: 200\n",
      "✅ 07af319957d3d6ebc3a25d55f9d0a98eefe8d04e6d233bd35cf2fabdeb93fb0d (2024-12-19) - 상태코드: 200\n",
      "✅ a4738e5e850c46d9c27f5ac801a69aed (2024-12-19) - 상태코드: 200\n",
      "✅ 9d4ad6c5a2848655113cc430c37c56defd842dab14be2a956555625b37c97bff (2024-12-19) - 상태코드: 200\n"
     ]
    },
    {
     "name": "stderr",
     "output_type": "stream",
     "text": [
      " 93%|█████████▎| 4768/5104 [01:42<00:06, 54.52it/s]"
     ]
    },
    {
     "name": "stdout",
     "output_type": "stream",
     "text": [
      "✅ 65b9151594e89c2550fc85ca81c6d841 (2024-12-19) - 상태코드: 200\n",
      "✅ 513f7d0e3ebc8e3a66131d79e11c04b1efe8d04e6d233bd35cf2fabdeb93fb0d (2024-12-19) - 상태코드: 200\n",
      "✅ b321e8c579c9ba4288d1be56d2a9c223 (2024-12-19) - 상태코드: 200\n",
      "✅ e89c7c6babe2b4ab1b8884be9664c3fe (2024-12-19) - 상태코드: 200\n",
      "✅ f00f9329e4a5ebdef904c2ef12b93432fd842dab14be2a956555625b37c97bff (2024-12-19) - 상태코드: 200\n",
      "✅ 2a886bd613891dc4ce8ae8810d443ba6 (2024-12-19) - 상태코드: 200\n",
      "✅ 607bfc8c825be4299dc1825d793ffce7efe8d04e6d233bd35cf2fabdeb93fb0d (2024-12-19) - 상태코드: 200\n",
      "✅ 22d8c246a49410ff53756f910003fc1a (2024-12-19) - 상태코드: 200\n",
      "✅ 8c2e10a45accf2c2df67b995aa68ea3cefe8d04e6d233bd35cf2fabdeb93fb0d (2024-12-19) - 상태코드: 200\n",
      "✅ 628064f9636e913c0baa587591009ac6 (2024-12-19) - 상태코드: 200\n",
      "✅ 243cc4be019634c003e44f3b83162ba9 (2024-12-19) - 상태코드: 200\n",
      "✅ ac4857b3f0caf5a20cab1ead94a9c651efe8d04e6d233bd35cf2fabdeb93fb0d (2024-12-19) - 상태코드: 200\n"
     ]
    },
    {
     "name": "stderr",
     "output_type": "stream",
     "text": [
      " 94%|█████████▍| 4786/5104 [01:43<00:05, 55.32it/s]"
     ]
    },
    {
     "name": "stdout",
     "output_type": "stream",
     "text": [
      "✅ 90951b7330e514c0da4c1c2a23753d45 (2024-12-19) - 상태코드: 200\n",
      "✅ 2cf8aa68a625ce72d975c45b48adcf4aefe8d04e6d233bd35cf2fabdeb93fb0d (2024-12-19) - 상태코드: 200\n",
      "✅ a35e0eb5eb5f4507baac9cbfae8ff426efe8d04e6d233bd35cf2fabdeb93fb0d (2024-12-19) - 상태코드: 200\n",
      "✅ 669bb8d7e56bb30d7b9cacf935f32f46 (2024-12-19) - 상태코드: 200\n",
      "✅ a7ae30be9791800519216f303f4bc242 (2024-12-19) - 상태코드: 200\n",
      "✅ e730f4d9a8fbed10c9bbdf65de0d8de6 (2024-12-19) - 상태코드: 200\n",
      "✅ 93243351b54b45a4baa5b98ba628307a (2024-12-19) - 상태코드: 200\n",
      "✅ f1d1516c36e71a807c38abbd84fe765eefe8d04e6d233bd35cf2fabdeb93fb0d (2024-12-19) - 상태코드: 200\n",
      "✅ da616f6c44bbbc959eb9535a47787447 (2024-12-19) - 상태코드: 200\n",
      "✅ 607a55e9028a67f9603062c1d4d8db40 (2024-12-19) - 상태코드: 200\n",
      "✅ 05d991b085bd80f0ebad0de4e53b6cfa (2024-12-19) - 상태코드: 200\n",
      "✅ f7d153f788bb31a48fac00d05ca5b8e2 (2024-12-19) - 상태코드: 200\n",
      "✅ 8eabcdf676e4a85f6975d61127d4d610 (2024-12-19) - 상태코드: 200\n",
      "✅ 60af66f99265f85e546b461be98ed400fd842dab14be2a956555625b37c97bff (2024-12-19) - 상태코드: 200\n"
     ]
    },
    {
     "name": "stderr",
     "output_type": "stream",
     "text": [
      " 94%|█████████▍| 4792/5104 [01:43<00:05, 55.51it/s]"
     ]
    },
    {
     "name": "stdout",
     "output_type": "stream",
     "text": [
      "✅ 3e1ab171fd134085e5bae09eb60fc813efe8d04e6d233bd35cf2fabdeb93fb0d (2024-12-19) - 상태코드: 200\n",
      "✅ bb2a595185dc1df66fb5642d4cb6d8fe (2024-12-19) - 상태코드: 200\n",
      "✅ 44e51c0508ef66eccfceaf91468dd78a (2024-12-19) - 상태코드: 200\n",
      "✅ 706776cbc5f5f832b151be51864c383f (2024-12-19) - 상태코드: 200\n",
      "✅ d8ec6412ba8d1aa3baf5978db66b0b7fefe8d04e6d233bd35cf2fabdeb93fb0d (2024-12-19) - 상태코드: 200\n",
      "✅ 7039c698d6ecba5d898495be48861623 (2024-12-19) - 상태코드: 200\n",
      "✅ 02a01fff6c0092fde1ec7642ea952609 (2024-12-19) - 상태코드: 200\n",
      "✅ bfbcc37e329a1dbb21e0ace31256f531 (2024-12-19) - 상태코드: 200\n",
      "✅ 6eaf81660d02c0cec84abe413441185d (2024-12-19) - 상태코드: 200\n"
     ]
    },
    {
     "name": "stderr",
     "output_type": "stream",
     "text": [
      " 94%|█████████▍| 4804/5104 [01:43<00:06, 47.72it/s]"
     ]
    },
    {
     "name": "stdout",
     "output_type": "stream",
     "text": [
      "✅ 900bd769dc8ec0001c79a4f03dcfe322 (2024-12-19) - 상태코드: 200\n",
      "✅ 8db006d0672646428e0586b02a23778b (2024-12-19) - 상태코드: 200\n",
      "✅ 1d3ff485276018dcf8ec89d0cae2d958efe8d04e6d233bd35cf2fabdeb93fb0d (2024-12-19) - 상태코드: 200\n",
      "✅ 37825ad0f43ddcc7ce30a2e864e1f05e (2024-12-19) - 상태코드: 200\n",
      "✅ 4acbee9d13dd1776cb719c4f68260f43 (2024-12-19) - 상태코드: 200\n",
      "✅ d4c8f0ba268d8701c093a6a96b5d44e0efe8d04e6d233bd35cf2fabdeb93fb0d (2024-12-19) - 상태코드: 200\n",
      "✅ e9f430e3b69e519ede89c3e16181118c (2024-12-19) - 상태코드: 200\n",
      "✅ d11c9e906b69be6b7d890bbd6c4122d6 (2024-12-19) - 상태코드: 200\n",
      "✅ 58b6df954d118b99b6eba85049d9fe7f (2024-12-19) - 상태코드: 200\n",
      "✅ ca670318c697ef95cf2f342abe8c6b97efe8d04e6d233bd35cf2fabdeb93fb0d (2024-12-19) - 상태코드: 200\n",
      "✅ 5308ddc632805e3e452520444afe299befe8d04e6d233bd35cf2fabdeb93fb0d (2024-12-19) - 상태코드: 200\n",
      "✅ cbc22128462d4dc04bee9ac58ce8f6b4efe8d04e6d233bd35cf2fabdeb93fb0d (2024-12-19) - 상태코드: 200\n",
      "✅ cb63c000fc0050fe97bcc01a24897cb786e68d4012202d0434d05f81868f68e3 (2024-12-19) - 상태코드: 200\n",
      "✅ 125b9da1fe0f170700f5ab35fa88fad7 (2024-12-19) - 상태코드: 200\n"
     ]
    },
    {
     "name": "stderr",
     "output_type": "stream",
     "text": [
      " 94%|█████████▍| 4819/5104 [01:43<00:05, 52.55it/s]"
     ]
    },
    {
     "name": "stdout",
     "output_type": "stream",
     "text": [
      "✅ 124e97657847abe574fe02a27011d985efe8d04e6d233bd35cf2fabdeb93fb0d (2024-12-19) - 상태코드: 200\n",
      "✅ be297c02b2743b2e1b7c38df3f9df19b (2024-12-19) - 상태코드: 200\n",
      "✅ f75af5620bc3dfa5266a25ca35b3828e (2024-12-19) - 상태코드: 200\n",
      "✅ 1d205e20b3768b973ab739386bf45221 (2024-12-19) - 상태코드: 200\n",
      "✅ 5d50176fa95c4c2777f8cfab25791e99 (2024-12-19) - 상태코드: 200\n",
      "✅ d0ed22ff62d5462ec25b061c8bf0c618 (2024-12-19) - 상태코드: 200\n",
      "✅ b8f92200c8f90db7c81b555437190dc1 (2024-12-19) - 상태코드: 200\n",
      "✅ c03e2c8786d048105e04ea3e611643b5 (2024-12-19) - 상태코드: 200\n",
      "✅ 037b81a606d896f5205688c6f52225b1 (2024-12-19) - 상태코드: 200\n",
      "✅ 4ef511aa921e2e3e6e057c7c190f671d (2024-12-19) - 상태코드: 200\n"
     ]
    },
    {
     "name": "stderr",
     "output_type": "stream",
     "text": [
      " 95%|█████████▍| 4825/5104 [01:44<00:05, 48.48it/s]"
     ]
    },
    {
     "name": "stdout",
     "output_type": "stream",
     "text": [
      "✅ 85f1af4951a4ce357a40a0802542b4beaae77432709819edb959e1fd5d1d77b4 (2024-12-19) - 상태코드: 200\n",
      "✅ c4762b3d5fcb29520b736b58a24c27b8 (2024-12-19) - 상태코드: 200\n",
      "✅ 082d54a9f0bb0639af4dcce4f9f897ef (2024-12-19) - 상태코드: 200\n",
      "✅ 9bece5c51bd01738235dee387ef0c76aefe8d04e6d233bd35cf2fabdeb93fb0d (2024-12-19) - 상태코드: 200\n",
      "✅ 121f1af3adbf3fa20663f8a2699fcace (2024-12-19) - 상태코드: 200\n",
      "✅ 13517ce3b03cf0d225cba188d339f89d (2024-12-19) - 상태코드: 200\n",
      "✅ d7b3e8296cfdb2efe1c3733608293944 (2024-12-19) - 상태코드: 200\n",
      "✅ 2588c5b885c4e32438bf8f6b64b722d2 (2024-12-19) - 상태코드: 200\n",
      "✅ 22cbe662f126130dcec290b4876c03a0 (2024-12-19) - 상태코드: 200\n",
      "✅ b9efb297bc18a14c4ac4fade40a7b28f (2024-12-19) - 상태코드: 200\n",
      "✅ d5c7f47df2a522821e3034487c7d06c4 (2024-12-19) - 상태코드: 200\n"
     ]
    },
    {
     "name": "stderr",
     "output_type": "stream",
     "text": [
      " 95%|█████████▍| 4838/5104 [01:44<00:05, 51.23it/s]"
     ]
    },
    {
     "name": "stdout",
     "output_type": "stream",
     "text": [
      "✅ 086f27ce61e74d439eaf2d84ee835d22 (2024-12-19) - 상태코드: 200\n",
      "✅ 8202f78fbada54fcdfca15ebf12d543f (2024-12-19) - 상태코드: 200\n",
      "✅ 4e4859bac01f5ac5401dd6dd61a32cbe (2024-12-19) - 상태코드: 200\n",
      "✅ ed1c71f43b766cc91be5d02220d061d0 (2024-12-19) - 상태코드: 200\n",
      "✅ f6a7280a065d4f598c2b5e5c9c61ad28efe8d04e6d233bd35cf2fabdeb93fb0d (2024-12-19) - 상태코드: 200\n",
      "✅ c466fac8295eaa91aeb90309016291d1 (2024-12-19) - 상태코드: 200\n",
      "✅ c1edeaffe652172fcc6dd9b094a9317f (2024-12-19) - 상태코드: 200\n",
      "✅ 0bf63c31bc6693c1540a47e87e126f98 (2024-12-19) - 상태코드: 200\n",
      "✅ 4ad9cf40f4947dbc3e617dc573046051 (2024-12-19) - 상태코드: 200\n",
      "✅ fa1fbd9670ddf6052168b48fedf0cf11 (2024-12-19) - 상태코드: 200\n",
      "✅ 255e7289a4050dc021aab745ab252dec (2024-12-19) - 상태코드: 200\n"
     ]
    },
    {
     "name": "stderr",
     "output_type": "stream",
     "text": [
      " 95%|█████████▌| 4850/5104 [01:44<00:05, 48.50it/s]"
     ]
    },
    {
     "name": "stdout",
     "output_type": "stream",
     "text": [
      "✅ ccab52c1bf693d0d6ae71d09db00addf (2024-12-19) - 상태코드: 200\n",
      "✅ 6ed34ad67b3b04d73771b584529b5e32 (2024-12-19) - 상태코드: 200\n",
      "✅ afe1ecee209a814d003e66f02aa90ba7 (2024-12-19) - 상태코드: 200\n",
      "✅ 803c68bccde3b63f3f8406976a7e67dc (2024-12-19) - 상태코드: 200\n",
      "✅ 54ac493c2fe22724c0cb06c144a64275efe8d04e6d233bd35cf2fabdeb93fb0d (2024-12-19) - 상태코드: 200\n",
      "✅ 3aaa00df5844bdc55cad1986624c3be7efe8d04e6d233bd35cf2fabdeb93fb0d (2024-12-19) - 상태코드: 200\n",
      "✅ 42f82e26c2b4470c06e2b7c7e069cfa1efe8d04e6d233bd35cf2fabdeb93fb0d (2024-12-19) - 상태코드: 200\n",
      "✅ 635ab0ad5752cb74bc10a5ad22ea8521efe8d04e6d233bd35cf2fabdeb93fb0d (2024-12-19) - 상태코드: 200\n",
      "✅ d2d19f003461affd5136ade7d090db06 (2024-12-19) - 상태코드: 200\n",
      "✅ f6fc240b0f3b41439bfd22a3413be412efe8d04e6d233bd35cf2fabdeb93fb0d (2024-12-19) - 상태코드: 200\n",
      "✅ 1cb4798f1b4c7e48a39b0f71242d8776efe8d04e6d233bd35cf2fabdeb93fb0d (2024-12-19) - 상태코드: 200\n"
     ]
    },
    {
     "name": "stderr",
     "output_type": "stream",
     "text": [
      " 95%|█████████▌| 4855/5104 [01:44<00:05, 46.31it/s]"
     ]
    },
    {
     "name": "stdout",
     "output_type": "stream",
     "text": [
      "✅ 062f16456e427ad94943fdf121da3491 (2024-12-19) - 상태코드: 200\n",
      "✅ beb183e075d75cdae0b97ffe4c3e02ceefe8d04e6d233bd35cf2fabdeb93fb0d (2024-12-19) - 상태코드: 200\n",
      "✅ 43c80a11fe24ec36c45d6c4141d96271 (2024-12-19) - 상태코드: 200\n",
      "✅ 89d16afabe5512a6d19d7faf4591a0db (2024-12-19) - 상태코드: 200\n",
      "✅ 33cf25def0b2f62779a9452b8dc605c8 (2024-12-19) - 상태코드: 200\n",
      "✅ c2e95438baaa2ac7ed0cac5ed26b6d43 (2024-12-19) - 상태코드: 200\n",
      "✅ 2e4f4f829f16e0e4930a261cd9c12994 (2024-12-19) - 상태코드: 200\n",
      "✅ d718544910525132404f4cd6a2d57ba48295750b1f4857867454debc45ec9c8a (2024-12-19) - 상태코드: 200\n",
      "✅ 6f8dbc2f1ff23a2fd3616982e0e6c90eefe8d04e6d233bd35cf2fabdeb93fb0d (2024-12-19) - 상태코드: 200\n",
      "✅ 2dcbe99665726744be4389ad5657f0fe (2024-12-19) - 상태코드: 200\n"
     ]
    },
    {
     "name": "stderr",
     "output_type": "stream",
     "text": [
      " 95%|█████████▌| 4870/5104 [01:44<00:04, 48.46it/s]"
     ]
    },
    {
     "name": "stdout",
     "output_type": "stream",
     "text": [
      "✅ d10261d8d8253dd9fd98805cdb5a41b1 (2024-12-19) - 상태코드: 200\n",
      "✅ 63ebcf97bbaad94fc33b90c98046aefe (2024-12-19) - 상태코드: 200\n",
      "✅ 1d39d194d511be05eea4609e8263f802 (2024-12-19) - 상태코드: 200\n",
      "✅ 791f393743e8e70735cf7b17a7d6abba (2024-12-19) - 상태코드: 200\n",
      "✅ d500b575d38afa9681b6143247c862c5 (2024-12-19) - 상태코드: 200\n",
      "✅ b60cd50540e3e64a3376a7c6683eaacb (2024-12-19) - 상태코드: 200\n",
      "✅ 5eb742a7778c6732fac9d72fbff78a3f (2024-12-19) - 상태코드: 200\n",
      "✅ cc3fc85a502b5d56b56613ae87f612bd (2024-12-19) - 상태코드: 200\n",
      "✅ deb5b5d182b1553f83dc26ae17d0da10e85e07f9d5d276f44440847eec04ba68 (2024-12-19) - 상태코드: 200\n"
     ]
    },
    {
     "name": "stderr",
     "output_type": "stream",
     "text": [
      " 96%|█████████▌| 4881/5104 [01:45<00:05, 42.36it/s]"
     ]
    },
    {
     "name": "stdout",
     "output_type": "stream",
     "text": [
      "✅ 67265d3f03bd6485b8006b48be7ac71a (2024-12-19) - 상태코드: 200\n",
      "✅ ba9ea795cb7cc9641f5376e65f33820b (2024-12-19) - 상태코드: 200\n",
      "✅ 616283489ace318872d6f0cd2a6ac4e1 (2024-12-19) - 상태코드: 200\n",
      "✅ 6d3d78b67727f1cd66b8c927c32cdeb8 (2024-12-19) - 상태코드: 200\n",
      "✅ a64728d925cc40323abe8eb375834cc8 (2024-12-19) - 상태코드: 200\n",
      "✅ a4244b2eee45ca45801a1f54a4d4ca5fefe8d04e6d233bd35cf2fabdeb93fb0d (2024-12-19) - 상태코드: 200\n",
      "✅ 0a544a2f74ed36ca4d17b8a262beae29efe8d04e6d233bd35cf2fabdeb93fb0d (2024-12-19) - 상태코드: 200\n",
      "✅ 010288d642872009c0c9803491149ffb (2024-12-19) - 상태코드: 200\n",
      "✅ a4cfd26848e1ff6ed956cb3364149d7a (2024-12-19) - 상태코드: 200\n",
      "✅ b9e88595e4891169f8c19dcddedca3b3 (2024-12-19) - 상태코드: 200\n"
     ]
    },
    {
     "name": "stderr",
     "output_type": "stream",
     "text": [
      " 96%|█████████▌| 4891/5104 [01:45<00:05, 41.46it/s]"
     ]
    },
    {
     "name": "stdout",
     "output_type": "stream",
     "text": [
      "✅ 14639e64dc427bf63bf625082a8959cdc47ea5ffea2564f587ca830a8f71acb2 (2024-12-19) - 상태코드: 200\n",
      "✅ 0896da33ac37e029ee477107f85be1d2 (2024-12-19) - 상태코드: 200\n",
      "✅ 1f54a0ff19a0e8760c22bb0e5797f5f2efe8d04e6d233bd35cf2fabdeb93fb0d (2024-12-19) - 상태코드: 200\n",
      "✅ c58412069dc31cc0146afdd705524429 (2024-12-19) - 상태코드: 200\n",
      "✅ a8bfb45ab44304c3451781bd23e18916efe8d04e6d233bd35cf2fabdeb93fb0d (2024-12-19) - 상태코드: 200\n",
      "✅ 19ef1a486e93b7c66df9c58faada3636 (2024-12-19) - 상태코드: 200\n",
      "✅ 7042ce190fd747d44177635df77e8173 (2024-12-19) - 상태코드: 200\n",
      "✅ 33c3fb6ec8bb19ffd835d606fffe0246 (2024-12-19) - 상태코드: 200\n",
      "✅ 9eff3012f7aaa4b9ffcff2da97cada0a (2024-12-19) - 상태코드: 200\n",
      "✅ 79e7ab8fe4ac172de03243f3403d4a46 (2024-12-19) - 상태코드: 200\n"
     ]
    },
    {
     "name": "stderr",
     "output_type": "stream",
     "text": [
      " 96%|█████████▌| 4902/5104 [01:45<00:04, 44.17it/s]"
     ]
    },
    {
     "name": "stdout",
     "output_type": "stream",
     "text": [
      "✅ 000208be9ccea59917319c24391dc215 (2024-12-19) - 상태코드: 200\n",
      "✅ 7a7870916dd8d2da249fe5db0aadd915 (2024-12-19) - 상태코드: 200\n",
      "✅ e14187f1b24933253fd566fe3eebceb0efe8d04e6d233bd35cf2fabdeb93fb0d (2024-12-19) - 상태코드: 200\n",
      "✅ dad21b1febfb0d34778da615d562f3e7efe8d04e6d233bd35cf2fabdeb93fb0d (2024-12-19) - 상태코드: 200\n",
      "✅ e352d9661cf6efce5665be3ac1daef8d (2024-12-19) - 상태코드: 200\n",
      "✅ e140432e14534fe2cba19340c7346d79 (2024-12-19) - 상태코드: 200\n",
      "✅ e9626a0c27a5300130a601ca83fabf3f (2024-12-19) - 상태코드: 200\n",
      "✅ d61fa89d1074146d96916f1247cd347d (2024-12-19) - 상태코드: 200\n",
      "✅ ed5ee13b468389ea6890c7fab08b566d (2024-12-19) - 상태코드: 200\n",
      "✅ 749fd7656fa0da1ec9eee05d129a24e9 (2024-12-19) - 상태코드: 200\n",
      "✅ cab50ec80162c1dcbeedfa1bad957da0efe8d04e6d233bd35cf2fabdeb93fb0d (2024-12-19) - 상태코드: 200\n"
     ]
    },
    {
     "name": "stderr",
     "output_type": "stream",
     "text": [
      " 96%|█████████▌| 4912/5104 [01:46<00:04, 41.78it/s]"
     ]
    },
    {
     "name": "stdout",
     "output_type": "stream",
     "text": [
      "✅ 05b7c656f8e0cb3e06fad02b9ec2d33e (2024-12-19) - 상태코드: 200\n",
      "✅ d57a207f97a111ea7d7e09acc2481a1a (2024-12-19) - 상태코드: 200\n",
      "✅ 91dae7b1a84220b6478ece3a67eb65ac (2024-12-19) - 상태코드: 200\n",
      "✅ 4909250c0ad14d97246c828356d1f659 (2024-12-19) - 상태코드: 200\n",
      "✅ a546125a6567f76bda355fb111ab1a29 (2024-12-19) - 상태코드: 200\n",
      "✅ bafabf2f5c45e84918bc877249b4c60b (2024-12-19) - 상태코드: 200\n",
      "✅ b651391ba94012d07f19648bcdc555cc (2024-12-19) - 상태코드: 200\n",
      "✅ 086c7e98e760bdc20731251d90a40333efe8d04e6d233bd35cf2fabdeb93fb0d (2024-12-19) - 상태코드: 200\n",
      "✅ b6facd19e1308eb1d66c009c3f3889ad (2024-12-19) - 상태코드: 200\n",
      "✅ 949332668982d81498ae683612d78c00 (2024-12-19) - 상태코드: 200\n",
      "✅ 01c21c1fab12f0ceda9ab04178eab3d0 (2024-12-19) - 상태코드: 200\n",
      "✅ 0155920a06c5a23dacf672a46c6e9c10 (2024-12-19) - 상태코드: 200\n",
      "✅ 9db944cb648dbfa0bebd86e854c9ebeeefe8d04e6d233bd35cf2fabdeb93fb0d (2024-12-19) - 상태코드: 200\n"
     ]
    },
    {
     "name": "stderr",
     "output_type": "stream",
     "text": [
      " 96%|█████████▋| 4921/5104 [01:46<00:03, 48.69it/s]"
     ]
    },
    {
     "name": "stdout",
     "output_type": "stream",
     "text": [
      "✅ 69a79ee5543c1d0fe29da4e169e0bcdc (2024-12-19) - 상태코드: 200\n",
      "✅ 73ecbf3269e394a3f722e97b53c72fb7 (2024-12-19) - 상태코드: 200\n",
      "✅ e232a5f985f59c4f8d13254992e165acefe8d04e6d233bd35cf2fabdeb93fb0d (2024-12-19) - 상태코드: 200\n",
      "✅ f7bf309b6fd22e629826ad726292aad4 (2024-12-19) - 상태코드: 200\n",
      "✅ 9dd98c3333a69c3a6e17e6739840c2ebefe8d04e6d233bd35cf2fabdeb93fb0d (2024-12-19) - 상태코드: 200\n",
      "✅ d6d5b0150d614b29d1881d93d1c01a9fc47ea5ffea2564f587ca830a8f71acb2 (2024-12-19) - 상태코드: 200\n",
      "✅ 569063766792419f9fa7e66d599794f5efe8d04e6d233bd35cf2fabdeb93fb0d (2024-12-19) - 상태코드: 200\n"
     ]
    },
    {
     "name": "stderr",
     "output_type": "stream",
     "text": [
      " 97%|█████████▋| 4935/5104 [01:46<00:03, 48.43it/s]"
     ]
    },
    {
     "name": "stdout",
     "output_type": "stream",
     "text": [
      "✅ 8a17735b943abcf8f612b8e4c3bceb41efe8d04e6d233bd35cf2fabdeb93fb0d (2024-12-19) - 상태코드: 200\n",
      "✅ 661c2af5b554a5b28cc0dc6cce4702ab (2024-12-19) - 상태코드: 200\n",
      "✅ aa02f2c859c17c676c581f4256e69966 (2024-12-19) - 상태코드: 200\n",
      "✅ 5b56ff5b0c2c32e6f2c29b054e06bd0fefe8d04e6d233bd35cf2fabdeb93fb0d (2024-12-19) - 상태코드: 200\n",
      "✅ 595e3f205099d0cc0b4f48a6311bba61efe8d04e6d233bd35cf2fabdeb93fb0d (2024-12-19) - 상태코드: 200\n",
      "✅ fb12f318b0d9f4618f8604ffe0f888fb (2024-12-19) - 상태코드: 200\n",
      "✅ 2bc563e13e76d8e5504480756fe73516 (2024-12-19) - 상태코드: 200\n",
      "✅ fb9565b9cea4342e8166135956d989af (2024-12-19) - 상태코드: 200\n",
      "✅ 4f9627fd0dfbbe737d8aa8ca3c6bf8d7 (2024-12-19) - 상태코드: 200\n",
      "✅ 9b0bfe1bbaa8d8084fdace27568d420f (2024-12-19) - 상태코드: 200\n",
      "✅ 71f0b98d89bc23c202c05265943c6bc5 (2024-12-19) - 상태코드: 200\n",
      "✅ f8876c7e64d221313a716acd63c918a5 (2024-12-19) - 상태코드: 200\n",
      "✅ 09fe715758f3f0a4298876d30db06a78 (2024-12-19) - 상태코드: 200\n"
     ]
    },
    {
     "name": "stderr",
     "output_type": "stream",
     "text": [
      " 97%|█████████▋| 4940/5104 [01:46<00:03, 46.61it/s]"
     ]
    },
    {
     "name": "stdout",
     "output_type": "stream",
     "text": [
      "✅ 279067f16ee430c8455007ea5690d2dc (2024-12-19) - 상태코드: 200\n",
      "✅ bb8599971672667eb989098fa4524c88efe8d04e6d233bd35cf2fabdeb93fb0d (2024-12-19) - 상태코드: 200\n",
      "✅ a5a04b39e333907796194fca06402cafefe8d04e6d233bd35cf2fabdeb93fb0d (2024-12-19) - 상태코드: 200\n",
      "✅ 3d0eb3a674b7a1573e1461955e5a5ae5efe8d04e6d233bd35cf2fabdeb93fb0d (2024-12-19) - 상태코드: 200\n",
      "✅ ca3fdcb2df3f9fdeb0c0118631640d58 (2024-12-19) - 상태코드: 200\n",
      "✅ 21f28a9cfdc51081fb323f008e874e88 (2024-12-19) - 상태코드: 200\n",
      "✅ cb6a1af44c29bed33d1668c9af14e964efe8d04e6d233bd35cf2fabdeb93fb0d (2024-12-19) - 상태코드: 200\n",
      "✅ 2e544470cd22f7ed241dfa0adcc7ce1b (2024-12-19) - 상태코드: 200\n",
      "✅ c1b6895b3b693f54062f25776424c8b7 (2024-12-19) - 상태코드: 200\n",
      "✅ 9f08774afa676e2907ec2a4cce249576 (2024-12-19) - 상태코드: 200\n",
      "✅ 7e24b6ce24e58138322dbd0136e89666 (2024-12-19) - 상태코드: 200\n"
     ]
    },
    {
     "name": "stderr",
     "output_type": "stream",
     "text": [
      " 97%|█████████▋| 4953/5104 [01:46<00:03, 43.23it/s]"
     ]
    },
    {
     "name": "stdout",
     "output_type": "stream",
     "text": [
      "✅ 3409df3f5f678bbf3076f251791af207efe8d04e6d233bd35cf2fabdeb93fb0d (2024-12-19) - 상태코드: 200\n",
      "✅ 1e5f72f23ced1cf58753a7576a8ab39cefe8d04e6d233bd35cf2fabdeb93fb0d (2024-12-19) - 상태코드: 200\n",
      "✅ 22b60e52a31722eea52a03a2e22a3562efe8d04e6d233bd35cf2fabdeb93fb0d (2024-12-19) - 상태코드: 200\n",
      "✅ 68eedfd0b23ea20eede902ab6f824213efe8d04e6d233bd35cf2fabdeb93fb0d (2024-12-19) - 상태코드: 200\n",
      "✅ 917faa7948e7ad9d15c872e760574f76 (2024-12-19) - 상태코드: 200\n",
      "✅ 9aeef4ced3288f15f5db522b4183c3f9 (2024-12-19) - 상태코드: 200\n",
      "✅ 9a54921e11117eb71cec9e33572d00efefe8d04e6d233bd35cf2fabdeb93fb0d (2024-12-19) - 상태코드: 200\n",
      "✅ 11a0476903f4c67e798b027c683beb5b (2024-12-19) - 상태코드: 200\n"
     ]
    },
    {
     "name": "stderr",
     "output_type": "stream",
     "text": [
      " 97%|█████████▋| 4960/5104 [01:46<00:03, 45.59it/s]"
     ]
    },
    {
     "name": "stdout",
     "output_type": "stream",
     "text": [
      "✅ ca79866792d247003783b9bb3d5cc06d (2024-12-19) - 상태코드: 200\n",
      "✅ 769e173a14c77fb1481869547dbd5b9defe8d04e6d233bd35cf2fabdeb93fb0d (2024-12-19) - 상태코드: 200\n",
      "✅ 922f72e1f844a47114dc7db73fa08d6a (2024-12-19) - 상태코드: 200\n",
      "✅ a97f73b0c4501bb55db37c2f47b8a038 (2024-12-19) - 상태코드: 200\n",
      "✅ af56e2d5ff0c34b4fa11a322a0404514 (2024-12-19) - 상태코드: 200\n",
      "✅ e687482501bdc080bafc05e81cb0bca0 (2024-12-19) - 상태코드: 200\n",
      "✅ 078a8d1a09e2ea6f370016dee51c52d0 (2024-12-19) - 상태코드: 200\n",
      "✅ 2e0cb71481f120daf870ef953d7e0dcdefe8d04e6d233bd35cf2fabdeb93fb0d (2024-12-19) - 상태코드: 200\n",
      "✅ f9cc4a44c68c926a091d7c9ab793fb9e (2024-12-19) - 상태코드: 200\n"
     ]
    },
    {
     "name": "stderr",
     "output_type": "stream",
     "text": [
      " 97%|█████████▋| 4967/5104 [01:47<00:02, 50.10it/s]"
     ]
    },
    {
     "name": "stdout",
     "output_type": "stream",
     "text": [
      "✅ c503e22a4c85e73306ccd152a782bb85 (2024-12-19) - 상태코드: 200\n",
      "✅ ccb9c5420547136374300d49f970b25a4723574b05820acf03e7ec3162ff5bed (2024-12-19) - 상태코드: 200\n",
      "✅ 0dae0e8b99af48a4b83b141d597d184e (2024-12-19) - 상태코드: 200\n",
      "✅ 8b05186d82f055390b31c151b13433b7efe8d04e6d233bd35cf2fabdeb93fb0d (2024-12-19) - 상태코드: 200\n",
      "✅ 83e2d5de5d91e75cf347c534feedc677 (2024-12-19) - 상태코드: 200\n",
      "✅ f9e6ee82909139cd54a5e4a5488d8ac2 (2024-12-19) - 상태코드: 200\n",
      "✅ 5b27a98bde5442d387b3c9fef0e252e4 (2024-12-19) - 상태코드: 200\n",
      "✅ e8de19b68e571680c4e6a353296f98ec (2024-12-19) - 상태코드: 200\n",
      "✅ d128d33f9f9a239cd942837993c7be01 (2024-12-19) - 상태코드: 200\n"
     ]
    },
    {
     "name": "stderr",
     "output_type": "stream",
     "text": [
      " 98%|█████████▊| 4981/5104 [01:47<00:02, 45.00it/s]"
     ]
    },
    {
     "name": "stdout",
     "output_type": "stream",
     "text": [
      "✅ ac677e9ee50144b79b3941be6860e48defe8d04e6d233bd35cf2fabdeb93fb0d (2024-12-19) - 상태코드: 200\n",
      "✅ 36a0147210315b6a764ec6ba3d150203 (2024-12-19) - 상태코드: 200\n",
      "✅ 4c93f25bd172d882c34d4c012dc81f4f (2024-12-19) - 상태코드: 200\n",
      "✅ d64720833af0d462ab89f0b2d22bbdb2 (2024-12-19) - 상태코드: 200\n",
      "✅ 606eed3e75dd3c2ea9e61356a8601f76 (2024-12-19) - 상태코드: 200\n",
      "✅ 484d6ac3fa7d3ffe45f7cada776b4c8d (2024-12-19) - 상태코드: 200\n",
      "✅ 4c010fb43dec6b26e7b0f51e687f5551 (2024-12-19) - 상태코드: 200\n",
      "✅ e226aa37a8a5648d68e8221fc90216d2 (2024-12-19) - 상태코드: 200\n",
      "✅ d50ebb0bdf1f5ae6456dc558d45fd500efe8d04e6d233bd35cf2fabdeb93fb0d (2024-12-19) - 상태코드: 200\n",
      "✅ e8ba301f60ab98692d2236db5f62b5eb (2024-12-19) - 상태코드: 200\n",
      "✅ 1b28283c121f0efb54a4a1c0e52648de (2024-12-19) - 상태코드: 200\n"
     ]
    },
    {
     "name": "stderr",
     "output_type": "stream",
     "text": [
      " 98%|█████████▊| 4994/5104 [01:47<00:02, 47.95it/s]"
     ]
    },
    {
     "name": "stdout",
     "output_type": "stream",
     "text": [
      "✅ 369dd4a3037748b67475dda468ffc0e4efe8d04e6d233bd35cf2fabdeb93fb0d (2024-12-19) - 상태코드: 200\n",
      "✅ 1435f0c2418521498f3ab4d2fa6ab7e1 (2024-12-19) - 상태코드: 200\n",
      "✅ aec72053fa4a55515d450bc873634d4c (2024-12-19) - 상태코드: 200\n",
      "✅ 208cc01fd0425f29d2ff777fc349e53c (2024-12-19) - 상태코드: 200\n",
      "✅ 1140b43e83968d4212d2c15b5d52f6ee (2024-12-19) - 상태코드: 200\n",
      "✅ 84c7f2ea5754c00020294a24ddab1a8d (2024-12-19) - 상태코드: 200\n",
      "✅ e60a3bf8f4230460bfe767a731bb4325 (2024-12-19) - 상태코드: 200\n",
      "✅ a3f4effaa0b4c0b34f98500914f4f7bd (2024-12-19) - 상태코드: 200\n",
      "✅ 5cbc28e26aee0b5577de2f763ff061ebefe8d04e6d233bd35cf2fabdeb93fb0d (2024-12-19) - 상태코드: 200\n",
      "✅ e10ad02dfa2e72c14867abccfc26c5c9 (2024-12-19) - 상태코드: 200\n",
      "✅ 7953c80fd7237c3729ac8c3b6ef32113 (2024-12-19) - 상태코드: 200\n",
      "✅ aeb92bbc7a9e744b5d19546e1f7f6571 (2024-12-19) - 상태코드: 200\n"
     ]
    },
    {
     "name": "stderr",
     "output_type": "stream",
     "text": [
      " 98%|█████████▊| 5006/5104 [01:47<00:01, 49.09it/s]"
     ]
    },
    {
     "name": "stdout",
     "output_type": "stream",
     "text": [
      "✅ 583f5a7cc979911e7f7cd57c0f0c515f (2024-12-19) - 상태코드: 200\n",
      "✅ b97082f9b444551617c3f8c03fa9f656efe8d04e6d233bd35cf2fabdeb93fb0d (2024-12-19) - 상태코드: 200\n",
      "✅ 7b3f46040b1a1e68d0ca97fc231edb41efe8d04e6d233bd35cf2fabdeb93fb0d (2024-12-19) - 상태코드: 200\n",
      "✅ 594d50bef178a32cd3a55c4b8c14ba12 (2024-12-19) - 상태코드: 200\n",
      "✅ d4c900dbe429b7ba387abc475922b6a9 (2024-12-19) - 상태코드: 200\n",
      "✅ dee87b47e6bb1b27829f5852e5d34f4aefe8d04e6d233bd35cf2fabdeb93fb0d (2024-12-19) - 상태코드: 200\n",
      "✅ cb9171942ee3ae0fb30f572470f1fb35 (2024-12-19) - 상태코드: 200\n",
      "✅ fcdbf19f67d660ecb92153133a7b2dc6efe8d04e6d233bd35cf2fabdeb93fb0d (2024-12-19) - 상태코드: 200\n",
      "✅ b4bfd9886db9f78859a06730182a7aa7 (2024-12-19) - 상태코드: 200\n",
      "✅ 7cc3e1413190d5b84ab7011cc17ede7defe8d04e6d233bd35cf2fabdeb93fb0d (2024-12-19) - 상태코드: 200\n",
      "✅ 0dbdfe8aceacb95fc2142960b5a2dfc7 (2024-12-19) - 상태코드: 200\n"
     ]
    },
    {
     "name": "stderr",
     "output_type": "stream",
     "text": [
      " 98%|█████████▊| 5012/5104 [01:48<00:01, 48.82it/s]"
     ]
    },
    {
     "name": "stdout",
     "output_type": "stream",
     "text": [
      "✅ 7dae4e3c7432cda35e92a37f7966b2c7 (2024-12-19) - 상태코드: 200\n",
      "✅ 54293d468c7cdc28d8a52c2735987e3e (2024-12-19) - 상태코드: 200\n",
      "✅ cf090fdfadbe2417b3be75b579cdb2f5efe8d04e6d233bd35cf2fabdeb93fb0d (2024-12-19) - 상태코드: 200\n",
      "✅ a9fc5302c43579c87308929aefb9831f (2024-12-19) - 상태코드: 200\n",
      "✅ 3106bb701f607729e94a6e314be81d42efe8d04e6d233bd35cf2fabdeb93fb0d (2024-12-19) - 상태코드: 200\n",
      "✅ d6fde33ffc1b86bd5fdef84d811d1f05efe8d04e6d233bd35cf2fabdeb93fb0d (2024-12-19) - 상태코드: 200\n",
      "✅ fdb2c25d78c9adb59db0c1299f3fa51c (2024-12-19) - 상태코드: 200\n",
      "✅ 26a0e6a1a4a8a0a827929f06ef7f7161 (2024-12-19) - 상태코드: 200\n",
      "✅ ded605e9759ff64b0716a00c9b7364a8efe8d04e6d233bd35cf2fabdeb93fb0d (2024-12-19) - 상태코드: 200\n",
      "✅ 2c24f37729a63a11addb8335d21b1e77 (2024-12-19) - 상태코드: 200\n",
      "✅ fe8d07d681e3de139829beddf6cea54a (2024-12-19) - 상태코드: 200\n"
     ]
    },
    {
     "name": "stderr",
     "output_type": "stream",
     "text": [
      " 98%|█████████▊| 5025/5104 [01:48<00:01, 55.81it/s]"
     ]
    },
    {
     "name": "stdout",
     "output_type": "stream",
     "text": [
      "✅ fbed6b559f00085f80fbe0d6857aced8 (2024-12-19) - 상태코드: 200\n",
      "✅ 96b94f594f811df1a56f8906646ad1a0 (2024-12-19) - 상태코드: 200\n",
      "✅ eeecf7d337e7243d7eea7a3d02fb3179efe8d04e6d233bd35cf2fabdeb93fb0d (2024-12-19) - 상태코드: 200\n",
      "✅ cff16b17e5e22654dc8e6720cb104245efe8d04e6d233bd35cf2fabdeb93fb0d (2024-12-19) - 상태코드: 200\n",
      "✅ e42807c706271ca6ab3cee4e234aa014 (2024-12-19) - 상태코드: 200\n",
      "✅ 04d062b0cf66f68b92b4e4866a2e010e (2024-12-19) - 상태코드: 200\n",
      "✅ c145c25549dc55e6142e4081b3d797ff (2024-12-19) - 상태코드: 200\n",
      "✅ 79b7bd0c37ceaa747ab77c16fd2d3affefe8d04e6d233bd35cf2fabdeb93fb0d (2024-12-19) - 상태코드: 200\n",
      "✅ ef474c476ad2dcbd0ee328faf47e7818 (2024-12-19) - 상태코드: 200\n",
      "✅ d48f17257465d68f51bf25bd301ea393 (2024-12-19) - 상태코드: 200\n",
      "✅ f545d8469f27ddd218bde6659f17f6f34723574b05820acf03e7ec3162ff5bed (2024-12-19) - 상태코드: 200\n"
     ]
    },
    {
     "name": "stderr",
     "output_type": "stream",
     "text": [
      " 99%|█████████▊| 5037/5104 [01:48<00:01, 50.65it/s]"
     ]
    },
    {
     "name": "stdout",
     "output_type": "stream",
     "text": [
      "✅ ccf5025e4395933cbd2b2505e4c2cd6befe8d04e6d233bd35cf2fabdeb93fb0d (2024-12-19) - 상태코드: 200\n",
      "✅ 29e7a7206766577ca10470e2863c6687efe8d04e6d233bd35cf2fabdeb93fb0d (2024-12-19) - 상태코드: 200\n",
      "✅ 2d30e1609663ceca7ca5703cbaba502a (2024-12-19) - 상태코드: 200\n",
      "✅ 594851240918600483932901044e16acfd842dab14be2a956555625b37c97bff (2024-12-19) - 상태코드: 200\n",
      "✅ c7fcb246de5c82fdfc266790bf7d9231 (2024-12-19) - 상태코드: 200\n",
      "✅ 0a8b7ed01025d8898e3a96447b0b1bc9 (2024-12-19) - 상태코드: 200\n",
      "✅ 0e8cb07ed5308313716a9d671ec1ae47 (2024-12-19) - 상태코드: 200\n",
      "✅ 98b43ad4613e0d97f877e32b04b3da5c (2024-12-19) - 상태코드: 200\n",
      "✅ eb1f76ec8d0cf4a3ea16406f6fbbe8c3 (2024-12-19) - 상태코드: 200\n",
      "✅ 4f627a8fab0ab12a186d0007f66b2669 (2024-12-19) - 상태코드: 200\n",
      "✅ e11a80c37297dc8034628a2cba4741cbefe8d04e6d233bd35cf2fabdeb93fb0d (2024-12-19) - 상태코드: 200\n",
      "✅ afc1ebd63f31e95898f1df395e06862b (2024-12-19) - 상태코드: 200\n",
      "✅ d1b407deeae4faba86713249301620abefe8d04e6d233bd35cf2fabdeb93fb0d (2024-12-19) - 상태코드: 200\n"
     ]
    },
    {
     "name": "stderr",
     "output_type": "stream",
     "text": [
      " 99%|█████████▉| 5049/5104 [01:48<00:01, 49.14it/s]"
     ]
    },
    {
     "name": "stdout",
     "output_type": "stream",
     "text": [
      "✅ cee4c7be90ffa4d71f086888e5272a98 (2024-12-19) - 상태코드: 200\n",
      "✅ 54409a0836251f2274b71ee61ad619a5efe8d04e6d233bd35cf2fabdeb93fb0d (2024-12-19) - 상태코드: 200\n",
      "✅ b3fd272ec373921a00dd95b479f03d53 (2024-12-19) - 상태코드: 200\n",
      "✅ a00068394e40534241fc8a14dd7721a2efe8d04e6d233bd35cf2fabdeb93fb0d (2024-12-19) - 상태코드: 200\n",
      "✅ 2a46ff3a9ad98d3597d7ee195e585b43 (2024-12-19) - 상태코드: 200\n",
      "✅ d0a50e8ead72d6468c872675afb495feefe8d04e6d233bd35cf2fabdeb93fb0d (2024-12-19) - 상태코드: 200\n",
      "✅ 3ac82f2a0ca58d993d6d30d854dd546cefe8d04e6d233bd35cf2fabdeb93fb0d (2024-12-19) - 상태코드: 200\n",
      "✅ 3c112a85118a6fb6d1e44a7a60e308ad (2024-12-19) - 상태코드: 200\n",
      "✅ 3b8ef4201afc050122c5ff04a58361b1 (2024-12-19) - 상태코드: 200\n",
      "✅ ee23eedfac77641a0fc30ffcc0a3217a (2024-12-19) - 상태코드: 200\n",
      "✅ ce4c6a806604a42629b4f64f9b275b44 (2024-12-19) - 상태코드: 200\n"
     ]
    },
    {
     "name": "stderr",
     "output_type": "stream",
     "text": [
      " 99%|█████████▉| 5061/5104 [01:49<00:00, 49.19it/s]"
     ]
    },
    {
     "name": "stdout",
     "output_type": "stream",
     "text": [
      "✅ f875503553ae169cfa2ea8acc92c5506 (2024-12-19) - 상태코드: 200\n",
      "✅ a30a6c56faa5f49895e54b4bc04be058 (2024-12-19) - 상태코드: 200\n",
      "✅ bafef7d436fab2ffff18c9d86dc62e61 (2024-12-19) - 상태코드: 200\n",
      "✅ 5b52a370824102a5bf911496f5139d41efe8d04e6d233bd35cf2fabdeb93fb0d (2024-12-19) - 상태코드: 200\n",
      "✅ 5aed587fbfa88a1d5c6a29c2ccf54df0efe8d04e6d233bd35cf2fabdeb93fb0d (2024-12-19) - 상태코드: 200\n",
      "✅ 611651e51c4dd1d8fd4a6d7893eff297 (2024-12-19) - 상태코드: 200\n",
      "✅ 1bc06b87204b6c886da411fbd081b183 (2024-12-19) - 상태코드: 200\n",
      "✅ fc0e69178dc9b7f8a423ef2de211cd15 (2024-12-19) - 상태코드: 200\n",
      "✅ 76675b691086b4b66898eeee8aefa3f9efe8d04e6d233bd35cf2fabdeb93fb0d (2024-12-19) - 상태코드: 200\n",
      "✅ 7f2f23268f62082a4e565a3e4f3c856b (2024-12-19) - 상태코드: 200\n"
     ]
    },
    {
     "name": "stderr",
     "output_type": "stream",
     "text": [
      " 99%|█████████▉| 5072/5104 [01:49<00:00, 49.30it/s]"
     ]
    },
    {
     "name": "stdout",
     "output_type": "stream",
     "text": [
      "✅ f8ba66be9026f117dc9bb9c71cfb4417 (2024-12-19) - 상태코드: 200\n",
      "✅ 3979c56b335a3ba1a46aa03df9b1bfe6 (2024-12-19) - 상태코드: 200\n",
      "✅ 66584bff8c0cd94a5d5a837fbd63a0dc (2024-12-19) - 상태코드: 200\n",
      "✅ 6a4b463c72dce569b23d98afef8fcd05 (2024-12-19) - 상태코드: 200\n",
      "✅ 0df99bfd191c9ab4a3cb17ea0f396983 (2024-12-19) - 상태코드: 200\n",
      "✅ ed54921f192cb4fdcd3d039093eec8cc (2024-12-19) - 상태코드: 200\n",
      "✅ a3cd8105da757642c8f742a7fd302236 (2024-12-19) - 상태코드: 200\n",
      "✅ 1eef0c75da54036322b76c61423a6affefe8d04e6d233bd35cf2fabdeb93fb0d (2024-12-19) - 상태코드: 200\n",
      "✅ 6cc5c3c0e9e8b41beccdcda2c73f15ec (2024-12-19) - 상태코드: 200\n",
      "✅ 2ae9d4052c807eece88cbc4c5ab09246 (2024-12-19) - 상태코드: 200\n",
      "✅ 4cd4358a18174ade81a26c46af746d3f (2024-12-19) - 상태코드: 200\n"
     ]
    },
    {
     "name": "stderr",
     "output_type": "stream",
     "text": [
      "100%|█████████▉| 5084/5104 [01:49<00:00, 49.25it/s]"
     ]
    },
    {
     "name": "stdout",
     "output_type": "stream",
     "text": [
      "✅ c534f454b2ad9432ef63747862021581efe8d04e6d233bd35cf2fabdeb93fb0d (2024-12-19) - 상태코드: 200\n",
      "✅ d0856074ab180afe613f6036a7cb93d5efe8d04e6d233bd35cf2fabdeb93fb0d (2024-12-19) - 상태코드: 200\n",
      "✅ f83d731ab941bb8cb9309650bbca2556efe8d04e6d233bd35cf2fabdeb93fb0d (2024-12-19) - 상태코드: 200\n",
      "✅ 9cf1bc49585464ced4d1117623407ef5 (2024-12-19) - 상태코드: 200\n",
      "✅ 8e418ac840d290cdcff94d0c22b393f2 (2024-12-19) - 상태코드: 200\n",
      "✅ 128b16a889934818ecad68443d33f8f0 (2024-12-19) - 상태코드: 200\n",
      "✅ d5409537bfbd08b03e17dc3f52208257 (2024-12-19) - 상태코드: 200\n",
      "✅ 10b358de5a7e17bc2c02f5c25432dc37efe8d04e6d233bd35cf2fabdeb93fb0d (2024-12-19) - 상태코드: 200\n",
      "✅ 9cfa542fcd5ce5b6f48034b1d63418a0 (2024-12-19) - 상태코드: 200\n",
      "✅ 6677c3fe29666e1eb7fd630e17995186 (2024-12-19) - 상태코드: 200\n",
      "✅ 24dbdc91d6b2f63be430a40ebdfa1d2e (2024-12-19) - 상태코드: 200\n"
     ]
    },
    {
     "name": "stderr",
     "output_type": "stream",
     "text": [
      "100%|█████████▉| 5090/5104 [01:49<00:00, 49.54it/s]"
     ]
    },
    {
     "name": "stdout",
     "output_type": "stream",
     "text": [
      "✅ a65581762b5d6e34bac6c5bf505ab79c (2024-12-19) - 상태코드: 200\n",
      "✅ 5fae23b0a50206c30cbe3d15b462b589efe8d04e6d233bd35cf2fabdeb93fb0d (2024-12-19) - 상태코드: 200\n",
      "✅ d89293632bd02624ab8282e83d3dbe0b (2024-12-19) - 상태코드: 200\n",
      "✅ 514cc55795d14102e6e06877cb5fef6a (2024-12-19) - 상태코드: 200\n",
      "✅ 2d6bbb92c21e0ae183e7c969df0085a5 (2024-12-19) - 상태코드: 200\n",
      "✅ 51dabf2f8718e6b757c4dfae215cbbd2 (2024-12-19) - 상태코드: 200\n",
      "✅ 2d9eafc741722263c64a25aa674f21c4 (2024-12-19) - 상태코드: 200\n",
      "✅ 96fdb3ef9d3e17227700c25a56e592b2 (2024-12-19) - 상태코드: 200\n",
      "✅ 9a269c49588c1a45c5b382895206a293 (2024-12-19) - 상태코드: 200\n",
      "✅ f02dbeb0b14c3143a5ba532ca30fc43fefe8d04e6d233bd35cf2fabdeb93fb0d (2024-12-19) - 상태코드: 200\n",
      "✅ 330e83a2349a52c860524ad2a853648c (2024-12-19) - 상태코드: 200\n"
     ]
    },
    {
     "name": "stderr",
     "output_type": "stream",
     "text": [
      "100%|██████████| 5104/5104 [01:49<00:00, 46.43it/s]"
     ]
    },
    {
     "name": "stdout",
     "output_type": "stream",
     "text": [
      "✅ 84d5cd478dd3c1e583d94a7bf63721b2efe8d04e6d233bd35cf2fabdeb93fb0d (2024-12-19) - 상태코드: 200\n",
      "✅ af5deee5f0d367ba389960803ab52983 (2024-12-19) - 상태코드: 200\n",
      "✅ 728fa75237873734e013c5f128872a7b (2024-12-19) - 상태코드: 200\n",
      "✅ 90da96cdb2989da5837a1e2f0192eff4 (2024-12-19) - 상태코드: 200\n",
      "✅ 0f2934b74a1e901e3c4c3cb8338740ed (2024-12-19) - 상태코드: 200\n",
      "✅ d681a590b51294681b60695bde93e2dd (2024-12-19) - 상태코드: 200\n",
      "✅ 023e363b5eb4997ade40e4f971cc72ad (2024-12-19) - 상태코드: 200\n",
      "✅ 3b2166fca378cbd08edaf70c9b49b585 (2024-12-19) - 상태코드: 200\n",
      "✅ 3e856e0b915cb62838958909c60e59d5efe8d04e6d233bd35cf2fabdeb93fb0d (2024-12-19) - 상태코드: 200\n"
     ]
    },
    {
     "name": "stderr",
     "output_type": "stream",
     "text": [
      "\n"
     ]
    },
    {
     "name": "stdout",
     "output_type": "stream",
     "text": [
      "✅ 저장 완료: recovered_character_details_verbose.csv\n"
     ]
    }
   ],
   "source": [
    "import pandas as pd\n",
    "import requests\n",
    "from concurrent.futures import ThreadPoolExecutor, as_completed\n",
    "from tqdm import tqdm\n",
    "\n",
    "# ✅ API 설정\n",
    "API_KEY = \"live_6da477cce0d1ca918d4917fc55b8268d0849d7b5746a5e7acdace78398868480efe8d04e6d233bd35cf2fabdeb93fb0d\"\n",
    "headers = {\"x-nxopen-api-key\": API_KEY}\n",
    "session = requests.Session()\n",
    "session.headers.update(headers)\n",
    "\n",
    "# ✅ 입력 데이터\n",
    "df_input = pd.read_csv(\"df_missing_ocids_by_week.csv\")\n",
    "input_list = df_input[[\"ocid\", \"date\"]].dropna().to_dict(\"records\")\n",
    "\n",
    "# ✅ 상세 정보 수집 함수 (character_name, world_name 포함)\n",
    "def fetch_details_by_ocid_date(entry):\n",
    "    ocid = entry[\"ocid\"]\n",
    "    date = entry[\"date\"]\n",
    "\n",
    "    result = {\n",
    "        \"ocid\": ocid, \"date\": date,\n",
    "        \"status_code\": None,\n",
    "        \"character_name\": None, \"world_name\": None,\n",
    "        \"character_gender\": None, \"character_class\": None, \"character_class_level\": None,\n",
    "        \"character_level\": None, \"character_exp\": None, \"character_exp_rate\": None,\n",
    "        \"character_guild_name\": None, \"character_date_create\": None,\n",
    "        \"access_flag\": \"false\", \"liberation_quest_clear_flag\": \"false\",\n",
    "        \"popularity\": None, \"arcane_sum\": None, \"authentic_sum\": None,\n",
    "        \"set_absorlab_count\": 0, \"set_lubatiss_count\": 0, \"set_arcane_count\": 0, \"set_eternal_count\": 0,\n",
    "        \"dojang_best_floor\": None, \"union_level\": None,\n",
    "        \"union_artifact_level\": None, \"union_artifact_exp\": None, \"union_artifact_point\": None\n",
    "    }\n",
    "\n",
    "    try:\n",
    "        res = session.get(f\"https://open.api.nexon.com/maplestory/v1/character/basic?ocid={ocid}&date={date}\", timeout=10)\n",
    "        result[\"status_code\"] = res.status_code\n",
    "        if res.status_code == 200:\n",
    "            j = res.json()\n",
    "            result.update({\n",
    "                \"character_name\": j.get(\"character_name\"),\n",
    "                \"world_name\": j.get(\"world_name\"),\n",
    "                \"character_gender\": j.get(\"character_gender\"),\n",
    "                \"character_class\": j.get(\"character_class\"),\n",
    "                \"character_class_level\": j.get(\"character_class_level\"),\n",
    "                \"character_level\": j.get(\"character_level\"),\n",
    "                \"character_exp\": j.get(\"character_exp\"),\n",
    "                \"character_exp_rate\": j.get(\"character_exp_rate\"),\n",
    "                \"character_guild_name\": j.get(\"character_guild_name\"),\n",
    "                \"character_date_create\": j.get(\"character_date_create\"),\n",
    "                \"access_flag\": j.get(\"access_flag\", \"false\"),\n",
    "                \"liberation_quest_clear_flag\": j.get(\"liberation_quest_clear_flag\", \"false\")\n",
    "            })\n",
    "    except Exception as e:\n",
    "        print(f\"❌ 기본 정보 오류: {ocid} ({date}) - {e}\")\n",
    "\n",
    "    for endpoint, parser in [\n",
    "        (f\"character/popularity\", lambda r: {\"popularity\": r.get(\"popularity\")}),\n",
    "        (f\"character/symbol-equipment\", lambda r: {\n",
    "            \"arcane_sum\": sum(s.get(\"symbol_level\", 0) for s in r.get(\"symbol\", []) if \"아케인\" in s.get(\"symbol_name\", \"\")),\n",
    "            \"authentic_sum\": sum(s.get(\"symbol_level\", 0) for s in r.get(\"symbol\", []) if \"어센틱\" in s.get(\"symbol_name\", \"\"))\n",
    "        }),\n",
    "        (f\"character/set-effect\", lambda r: {\n",
    "            \"set_absorlab_count\": sum(s.get(\"total_set_count\", 0) for s in r.get(\"set_effect\", []) if \"앱솔랩스\" in s.get(\"set_name\", \"\")),\n",
    "            \"set_lubatiss_count\": sum(s.get(\"total_set_count\", 0) for s in r.get(\"set_effect\", []) if \"루타비스\" in s.get(\"set_name\", \"\")),\n",
    "            \"set_arcane_count\": sum(s.get(\"total_set_count\", 0) for s in r.get(\"set_effect\", []) if \"아케인셰이드\" in s.get(\"set_name\", \"\")),\n",
    "            \"set_eternal_count\": sum(s.get(\"total_set_count\", 0) for s in r.get(\"set_effect\", []) if \"에테르넬\" in s.get(\"set_name\", \"\"))\n",
    "        }),\n",
    "        (f\"character/dojang\", lambda r: {\"dojang_best_floor\": r.get(\"dojang_best_floor\")}),\n",
    "        (f\"user/union\", lambda r: {\n",
    "            \"union_level\": r.get(\"union_level\"),\n",
    "            \"union_artifact_level\": r.get(\"union_artifact_level\"),\n",
    "            \"union_artifact_exp\": r.get(\"union_artifact_exp\"),\n",
    "            \"union_artifact_point\": r.get(\"union_artifact_point\")\n",
    "        })\n",
    "    ]:\n",
    "        try:\n",
    "            url = f\"https://open.api.nexon.com/maplestory/v1/{endpoint}?ocid={ocid}&date={date}\"\n",
    "            res = session.get(url, timeout=10)\n",
    "            if res.status_code == 200:\n",
    "                result.update(parser(res.json()))\n",
    "        except: pass\n",
    "\n",
    "    print(f\"✅ {ocid} ({date}) - 상태코드: {result['status_code']}\")\n",
    "    return result\n",
    "\n",
    "# ✅ 병렬 실행 + tqdm 진행률 표시\n",
    "results = []\n",
    "with ThreadPoolExecutor(max_workers=10) as executor:\n",
    "    futures = [executor.submit(fetch_details_by_ocid_date, row) for row in input_list]\n",
    "    for future in tqdm(as_completed(futures), total=len(futures)):\n",
    "        res = future.result()\n",
    "        if res: results.append(res)\n",
    "\n",
    "# ✅ 저장\n",
    "df_results = pd.DataFrame(results)\n",
    "df_results.to_csv(\"recovered_character_details_verbose.csv\", index=False, encoding=\"utf-8-sig\")\n",
    "print(\"✅ 저장 완료: recovered_character_details_verbose.csv\")\n"
   ]
  },
  {
   "cell_type": "code",
   "execution_count": 47,
   "id": "4575e3f3-4577-4c15-9ea8-838afbdeba1f",
   "metadata": {},
   "outputs": [
    {
     "name": "stderr",
     "output_type": "stream",
     "text": [
      "100%|██████████| 10/10 [00:02<00:00,  3.47it/s]"
     ]
    },
    {
     "name": "stdout",
     "output_type": "stream",
     "text": [
      "✅ 완료! 결과 저장: checked_ocid_date_status.csv\n"
     ]
    },
    {
     "name": "stderr",
     "output_type": "stream",
     "text": [
      "\n"
     ]
    }
   ],
   "source": [
    "import pandas as pd\n",
    "import requests\n",
    "from tqdm import tqdm\n",
    "import time\n",
    "\n",
    "# 🔐 API 설정\n",
    "API_KEY = \"live_6da477cce0d1ca918d4917fc55b8268d0849d7b5746a5e7acdace78398868480efe8d04e6d233bd35cf2fabdeb93fb0d\"\n",
    "headers = {\"x-nxopen-api-key\": API_KEY}\n",
    "session = requests.Session()\n",
    "session.headers.update(headers)\n",
    "\n",
    "# 📥 상태코드 400이었던 항목 로드\n",
    "df_check = pd.read_csv(\"final_retry_status_400.csv\")\n",
    "\n",
    "# ✅ 결과 저장용 리스트\n",
    "status_check = []\n",
    "\n",
    "# ✅ 하나씩 호출해서 존재 여부만 확인\n",
    "for _, row in tqdm(df_check.iterrows(), total=len(df_check)):\n",
    "    ocid = row[\"ocid\"]\n",
    "    date = row[\"date\"]\n",
    "    status = {\n",
    "        \"ocid\": ocid,\n",
    "        \"date\": date,\n",
    "        \"status_code\": None,\n",
    "        \"result\": \"FAIL\"  # 기본 실패로 시작\n",
    "    }\n",
    "\n",
    "    try:\n",
    "        url = f\"https://open.api.nexon.com/maplestory/v1/character/basic?ocid={ocid}&date={date}\"\n",
    "        res = session.get(url, headers=headers, timeout=10)\n",
    "        status[\"status_code\"] = res.status_code\n",
    "        if res.status_code == 200:\n",
    "            status[\"result\"] = \"SUCCESS\"\n",
    "    except Exception as e:\n",
    "        status[\"result\"] = f\"EXCEPTION: {e}\"\n",
    "\n",
    "    status_check.append(status)\n",
    "    time.sleep(0.2)  # 과도한 요청 방지\n",
    "\n",
    "# ✅ 결과 저장\n",
    "df_status_check = pd.DataFrame(status_check)\n",
    "df_status_check.to_csv(\"checked_ocid_date_status.csv\", index=False, encoding=\"utf-8-sig\")\n",
    "print(\"✅ 완료! 결과 저장: checked_ocid_date_status.csv\")\n"
   ]
  },
  {
   "cell_type": "code",
   "execution_count": 56,
   "id": "46e6c3aa-01fe-4255-b901-15d5b962c926",
   "metadata": {},
   "outputs": [
    {
     "name": "stderr",
     "output_type": "stream",
     "text": [
      "C:\\Users\\qhwhr\\AppData\\Local\\Temp\\ipykernel_31340\\849538401.py:13: FutureWarning: The behavior of array concatenation with empty entries is deprecated. In a future version, this will no longer exclude empty items when determining the result dtype. To retain the old behavior, exclude the empty entries before the concat operation.\n",
      "  df_merged[col] = df_merged[col].combine_first(df_merged[f\"{col}_filled\"])\n",
      "C:\\Users\\qhwhr\\AppData\\Local\\Temp\\ipykernel_31340\\849538401.py:13: FutureWarning: The behavior of array concatenation with empty entries is deprecated. In a future version, this will no longer exclude empty items when determining the result dtype. To retain the old behavior, exclude the empty entries before the concat operation.\n",
      "  df_merged[col] = df_merged[col].combine_first(df_merged[f\"{col}_filled\"])\n",
      "C:\\Users\\qhwhr\\AppData\\Local\\Temp\\ipykernel_31340\\849538401.py:13: FutureWarning: The behavior of array concatenation with empty entries is deprecated. In a future version, this will no longer exclude empty items when determining the result dtype. To retain the old behavior, exclude the empty entries before the concat operation.\n",
      "  df_merged[col] = df_merged[col].combine_first(df_merged[f\"{col}_filled\"])\n",
      "C:\\Users\\qhwhr\\AppData\\Local\\Temp\\ipykernel_31340\\849538401.py:13: FutureWarning: The behavior of array concatenation with empty entries is deprecated. In a future version, this will no longer exclude empty items when determining the result dtype. To retain the old behavior, exclude the empty entries before the concat operation.\n",
      "  df_merged[col] = df_merged[col].combine_first(df_merged[f\"{col}_filled\"])\n",
      "C:\\Users\\qhwhr\\AppData\\Local\\Temp\\ipykernel_31340\\849538401.py:13: FutureWarning: The behavior of array concatenation with empty entries is deprecated. In a future version, this will no longer exclude empty items when determining the result dtype. To retain the old behavior, exclude the empty entries before the concat operation.\n",
      "  df_merged[col] = df_merged[col].combine_first(df_merged[f\"{col}_filled\"])\n",
      "C:\\Users\\qhwhr\\AppData\\Local\\Temp\\ipykernel_31340\\849538401.py:13: FutureWarning: The behavior of array concatenation with empty entries is deprecated. In a future version, this will no longer exclude empty items when determining the result dtype. To retain the old behavior, exclude the empty entries before the concat operation.\n",
      "  df_merged[col] = df_merged[col].combine_first(df_merged[f\"{col}_filled\"])\n",
      "C:\\Users\\qhwhr\\AppData\\Local\\Temp\\ipykernel_31340\\849538401.py:13: FutureWarning: The behavior of array concatenation with empty entries is deprecated. In a future version, this will no longer exclude empty items when determining the result dtype. To retain the old behavior, exclude the empty entries before the concat operation.\n",
      "  df_merged[col] = df_merged[col].combine_first(df_merged[f\"{col}_filled\"])\n",
      "C:\\Users\\qhwhr\\AppData\\Local\\Temp\\ipykernel_31340\\849538401.py:13: FutureWarning: The behavior of array concatenation with empty entries is deprecated. In a future version, this will no longer exclude empty items when determining the result dtype. To retain the old behavior, exclude the empty entries before the concat operation.\n",
      "  df_merged[col] = df_merged[col].combine_first(df_merged[f\"{col}_filled\"])\n",
      "C:\\Users\\qhwhr\\AppData\\Local\\Temp\\ipykernel_31340\\849538401.py:13: FutureWarning: The behavior of array concatenation with empty entries is deprecated. In a future version, this will no longer exclude empty items when determining the result dtype. To retain the old behavior, exclude the empty entries before the concat operation.\n",
      "  df_merged[col] = df_merged[col].combine_first(df_merged[f\"{col}_filled\"])\n",
      "C:\\Users\\qhwhr\\AppData\\Local\\Temp\\ipykernel_31340\\849538401.py:13: FutureWarning: The behavior of array concatenation with empty entries is deprecated. In a future version, this will no longer exclude empty items when determining the result dtype. To retain the old behavior, exclude the empty entries before the concat operation.\n",
      "  df_merged[col] = df_merged[col].combine_first(df_merged[f\"{col}_filled\"])\n"
     ]
    },
    {
     "name": "stdout",
     "output_type": "stream",
     "text": [
      "✅ 병합 및 보강 완료! 파일 저장됨: merged_character_with_exp_access_filled.csv\n"
     ]
    }
   ],
   "source": [
    "import pandas as pd\n",
    "\n",
    "# 1. 원본과 보강 데이터 불러오기\n",
    "df_original = pd.read_csv(\"merged_character_with_exp_access.csv\")\n",
    "df_fill = pd.read_csv(\"filled_dropped_users_with_nan.csv\")\n",
    "\n",
    "# 2. ocid 기준 병합 (fill된 데이터에서 필요한 컬럼만 병합)\n",
    "fill_cols = [col for col in df_fill.columns if col != \"ocid\"]\n",
    "df_merged = pd.merge(df_original, df_fill, on=\"ocid\", how=\"left\", suffixes=(\"\", \"_filled\"))\n",
    "\n",
    "# 3. NaN인 셀에 대해서만 보강 값 채워넣기\n",
    "for col in fill_cols:\n",
    "    df_merged[col] = df_merged[col].combine_first(df_merged[f\"{col}_filled\"])\n",
    "    df_merged.drop(columns=[f\"{col}_filled\"], inplace=True)\n",
    "\n",
    "# 4. 저장 (선택 사항)\n",
    "df_merged.to_csv(\"merged_character_with_exp_access_filled.csv\", index=False, encoding=\"utf-8-sig\")\n",
    "print(\"✅ 병합 및 보강 완료! 파일 저장됨: merged_character_with_exp_access_filled.csv\")\n"
   ]
  },
  {
   "cell_type": "code",
   "execution_count": 73,
   "id": "643f318c-f085-4cbb-8da2-7c0305c8d47c",
   "metadata": {},
   "outputs": [],
   "source": [
    "df = pd.read_csv(\"final_data.csv\")"
   ]
  },
  {
   "cell_type": "code",
   "execution_count": 74,
   "id": "ad2545f0-31be-4a2a-b95d-61bacb3e279c",
   "metadata": {},
   "outputs": [
    {
     "name": "stdout",
     "output_type": "stream",
     "text": [
      "ocid                               0\n",
      "ranking                            0\n",
      "character_name                     0\n",
      "world_name                         0\n",
      "character_gender                   0\n",
      "character_class                    0\n",
      "character_class_level              0\n",
      "character_level                    0\n",
      "character_exp                      0\n",
      "character_exp_rate                 0\n",
      "character_guild_name           16829\n",
      "character_date_create              0\n",
      "access_flag                        0\n",
      "liberation_quest_clear_flag        0\n",
      "popularity                         0\n",
      "arcane_sum                         0\n",
      "authentic_sum                      0\n",
      "set_absorlab_count                 0\n",
      "set_lubatiss_count                 0\n",
      "set_arcane_count                   0\n",
      "set_eternal_count                  0\n",
      "dojang_best_floor                  1\n",
      "union_level                        0\n",
      "union_artifact_level               0\n",
      "union_artifact_exp                 0\n",
      "union_artifact_point               0\n",
      "exp_1017                           0\n",
      "access_1017                        0\n",
      "exp_1024                           0\n",
      "access_1024                        0\n",
      "exp_1031                           0\n",
      "access_1031                        0\n",
      "exp_1107                           0\n",
      "access_1107                        0\n",
      "exp_1114                           0\n",
      "access_1114                        0\n",
      "exp_1121                           0\n",
      "access_1121                        0\n",
      "exp_1128                           0\n",
      "access_1128                        0\n",
      "exp_1205                           0\n",
      "access_1205                        0\n",
      "exp_1212                           0\n",
      "access_1212                        0\n",
      "exp_1219                           0\n",
      "access_1219                        0\n",
      "dtype: int64\n"
     ]
    }
   ],
   "source": [
    "print(df.isnull().sum())"
   ]
  },
  {
   "cell_type": "code",
   "execution_count": 59,
   "id": "bf0ef862-a5f2-4043-a986-604cc6cba4dc",
   "metadata": {},
   "outputs": [
    {
     "name": "stdout",
     "output_type": "stream",
     "text": [
      "❌ 파일 누락: character_level_2024-10-17.csv 또는 character_level_2024-10-17(추).csv\n",
      "✅ 로컬 기준 병합 완료! 폴더: merged_result\n"
     ]
    }
   ],
   "source": [
    "import pandas as pd\n",
    "import os\n",
    "\n",
    "# 현재 디렉토리에 있는 파일 기준\n",
    "file_list = os.listdir()\n",
    "\n",
    "# 날짜 리스트\n",
    "dates = [\n",
    "    \"2024-10-24\", \"2024-10-31\", \"2024-11-07\", \"2024-11-14\",\n",
    "    \"2024-11-21\", \"2024-11-28\", \"2024-12-05\", \"2024-12-12\", \"2024-12-19\"\n",
    "]\n",
    "\n",
    "# 출력 폴더\n",
    "output_dir = \"merged_result\"\n",
    "os.makedirs(output_dir, exist_ok=True)\n",
    "\n",
    "for date in dates:\n",
    "    base_name = f\"character_level_{date}.csv\"\n",
    "    merge_name = f\"character_level_{date}(추).csv\"\n",
    "    output_name = f\"character_level_{date}_merged.csv\"\n",
    "\n",
    "    if base_name not in file_list or merge_name not in file_list:\n",
    "        print(f\"❌ 파일 누락: {base_name} 또는 {merge_name}\")\n",
    "        continue\n",
    "\n",
    "    df_base = pd.read_csv(base_name)\n",
    "    df_merge = pd.read_csv(merge_name)\n",
    "\n",
    "    # 원본 컬럼만 유지\n",
    "    keep_cols = [col for col in df_merge.columns if col in df_base.columns or col == \"ocid\"]\n",
    "    df_merge = df_merge[keep_cols]\n",
    "\n",
    "    # 병합\n",
    "    df_base.set_index(\"ocid\", inplace=True)\n",
    "    df_merge.set_index(\"ocid\", inplace=True)\n",
    "\n",
    "    df_base.update(df_merge)\n",
    "    df_append = df_merge.loc[~df_merge.index.isin(df_base.index)]\n",
    "    df_base = pd.concat([df_base, df_append])\n",
    "\n",
    "    df_base.reset_index(inplace=True)\n",
    "    df_base.to_csv(os.path.join(output_dir, output_name), index=False)\n",
    "\n",
    "print(\"✅ 로컬 기준 병합 완료! 폴더: merged_result\")\n"
   ]
  },
  {
   "cell_type": "code",
   "execution_count": null,
   "id": "0ecc311c-bfde-4519-a8ee-72c89cf72e9a",
   "metadata": {},
   "outputs": [],
   "source": [
    "import os\n",
    "\n",
    "print(\"📂 현재 디렉토리 파일 목록:\")\n",
    "for f in os.listdir():\n",
    "    print(f)"
   ]
  },
  {
   "cell_type": "code",
   "execution_count": 86,
   "id": "4df1775d-565c-4d18-bd71-aa1946bf3b2f",
   "metadata": {},
   "outputs": [
    {
     "name": "stderr",
     "output_type": "stream",
     "text": [
      "100%|██████████| 222937/222937 [1:03:29<00:00, 58.52it/s]\n"
     ]
    },
    {
     "name": "stdout",
     "output_type": "stream",
     "text": [
      "✅ 저장 완료: character_exp_20241010.csv\n"
     ]
    }
   ],
   "source": [
    "import pandas as pd\n",
    "import requests\n",
    "from concurrent.futures import ThreadPoolExecutor, as_completed\n",
    "from tqdm import tqdm\n",
    "\n",
    "#  API 설정\n",
    "API_KEY = \"live_6da477cce0d1ca918d4917fc55b8268d0849d7b5746a5e7acdace78398868480efe8d04e6d233bd35cf2fabdeb93fb0d\"\n",
    "headers = {\"x-nxopen-api-key\": API_KEY}\n",
    "session = requests.Session()\n",
    "session.headers.update(headers)\n",
    "\n",
    "#  입력 데이터\n",
    "df_input = pd.read_csv(\"final_data.csv\")  # ocid 컬럼 있어야 함\n",
    "input_list = df_input[\"ocid\"].dropna().unique().tolist()\n",
    "\n",
    "# 2024-10-10 기준 경험치 수집\n",
    "def fetch_exp(ocid):\n",
    "    result = {\"ocid\": ocid, \"date\": \"2024-10-10\", \"character_exp\": None, \"status_code\": None}\n",
    "    try:\n",
    "        res = session.get(\n",
    "            f\"https://open.api.nexon.com/maplestory/v1/character/basic\",\n",
    "            headers=headers,\n",
    "            params={\"ocid\": ocid, \"date\": \"2024-10-10\"},\n",
    "            timeout=10\n",
    "        )\n",
    "        result[\"status_code\"] = res.status_code\n",
    "        if res.status_code == 200:\n",
    "            result[\"character_exp\"] = res.json().get(\"character_exp\")\n",
    "    except Exception as e:\n",
    "        print(f\"❌ 오류 발생: {ocid} - {e}\")\n",
    "    return result\n",
    "\n",
    "# 병렬 처리 + 진행률 표시\n",
    "results = []\n",
    "with ThreadPoolExecutor(max_workers=10) as executor:\n",
    "    futures = [executor.submit(fetch_exp, ocid) for ocid in input_list]\n",
    "    for future in tqdm(as_completed(futures), total=len(futures)):\n",
    "        res = future.result()\n",
    "        if res: results.append(res)\n",
    "\n",
    "# 저장\n",
    "df_result = pd.DataFrame(results)\n",
    "df_result.to_csv(\"character_exp_20241010.csv\", index=False, encoding=\"utf-8-sig\")\n",
    "print(\"✅ 저장 완료: character_exp_20241010.csv\")\n"
   ]
  },
  {
   "cell_type": "code",
   "execution_count": 2,
   "id": "ec505ee6-d3b6-4219-a9e4-21cefe1fe608",
   "metadata": {},
   "outputs": [],
   "source": [
    "import pandas as pd\n",
    "df2 = pd.read_csv(\"character_exp_20241010.csv\")"
   ]
  },
  {
   "cell_type": "code",
   "execution_count": 7,
   "id": "dbf8a598-30f1-45f1-8059-3c616290634b",
   "metadata": {},
   "outputs": [
    {
     "name": "stderr",
     "output_type": "stream",
     "text": [
      "🔄 경험치 조회 중:   3%|▎         | 19/651 [00:00<00:07, 82.32it/s]"
     ]
    },
    {
     "name": "stdout",
     "output_type": "stream",
     "text": [
      "[2e6b3002de09e59057e0e3f3c28cd85a] status: 200 exp: None\n",
      "[744c77c2e5ebefe222a9b274b22740c1efe8d04e6d233bd35cf2fabdeb93fb0d] status: 200 exp: None\n",
      "[8d6f8b21fde141b8a5070fe76077cbf33663933da92e7566c55104ec9ac2894d] status: 200 exp: None\n",
      "[9a53f62950e4665183f33a463e72949c] status: 200 exp: None\n",
      "[67e10237952a3ec20ffc6e7e29089191] status: 200 exp: None\n",
      "[8cb69985ed98c59664d82ca4b4453bcc] status: 200 exp: None\n",
      "[c90a73157d786b94c12cfcfb39f04292] status: 200 exp: None\n",
      "[40b6fbdd90742dbcd0eb49ec2717dea8efe8d04e6d233bd35cf2fabdeb93fb0d] status: 200 exp: None\n",
      "[44cb2015349510f3f0a9c6e3cf70a6c8] status: 200 exp: None\n",
      "[915f518ab6461e9c011fc55e55cc15c2efe8d04e6d233bd35cf2fabdeb93fb0d] status: 200 exp: None\n",
      "[d69a3486f22b67c44afb68e6660aa4b0efe8d04e6d233bd35cf2fabdeb93fb0d] status: 200 exp: None\n",
      "[9fc1c36560ee95ca7bf16597d30a788a] status: 400 exp: None\n",
      "[31f237ceb50bb1f8dacf1a4abe0e9b38] status: 200 exp: None\n",
      "[d71612889cb8ba7ee9a9fdad1242042defe8d04e6d233bd35cf2fabdeb93fb0d] status: 200 exp: None\n",
      "[bc7d7dddef343bdc0d3ef2521f79be86] status: 200 exp: None\n",
      "[ccce5117fb97d1cfe2b00d55008a2652efe8d04e6d233bd35cf2fabdeb93fb0d] status: 200 exp: None\n",
      "[d80c7c3aafa6bdc998dd827b3008341befe8d04e6d233bd35cf2fabdeb93fb0d] status: 200 exp: None\n",
      "[abc5c2ea94441c17ba9e2dc7c64599f7efe8d04e6d233bd35cf2fabdeb93fb0d] status: 200 exp: None\n",
      "[24ea7329eb3bb138029947144c80b29fefe8d04e6d233bd35cf2fabdeb93fb0d] status: 200 exp: None\n"
     ]
    },
    {
     "name": "stderr",
     "output_type": "stream",
     "text": [
      "🔄 경험치 조회 중:   6%|▌         | 39/651 [00:00<00:06, 93.34it/s]"
     ]
    },
    {
     "name": "stdout",
     "output_type": "stream",
     "text": [
      "[490fa251f5a6defa6e72772e1b4ccfc0] status: 200 exp: None\n",
      "[f19fd640eeba51c8a149f96088c750b9efe8d04e6d233bd35cf2fabdeb93fb0d] status: 200 exp: None\n",
      "[c7a927acb726623323b3cd4ca567935defe8d04e6d233bd35cf2fabdeb93fb0d] status: 200 exp: None\n",
      "[06fa9c3040bd4d82d82164ec5cb9f0b6] status: 200 exp: None\n",
      "[15bcf6f353cae676699c81acd22a220befe8d04e6d233bd35cf2fabdeb93fb0d] status: 200 exp: None\n",
      "[bd1dce8e26ab5a5c3e003d69b6b76f0c] status: 200 exp: None\n",
      "[890dd874b48428f35c69f71138c83ed7] status: 200 exp: None\n",
      "[9065a752fb396e93fda12fff524e7106] status: 200 exp: None\n",
      "[a9e25ddb2e45c1bfb92ef3f616552dbb] status: 200 exp: None\n",
      "[b18d9efe53fab4ed7d047e177692b1a3] status: 200 exp: None\n",
      "[ff077ac4a8de4c19781d3e039ee647eaefe8d04e6d233bd35cf2fabdeb93fb0d] status: 200 exp: None\n",
      "[7b0c2b3bb37574aa436bc6c8997bc681] status: 200 exp: None\n",
      "[2f3f63bd6b197c39bcd6db954e443d6c8295750b1f4857867454debc45ec9c8a] status: 200 exp: None\n",
      "[7e6ce044b998b76ed5ac984050299351efe8d04e6d233bd35cf2fabdeb93fb0d] status: 200 exp: None\n",
      "[744fcd0d6df358790f485dababaa13e3] status: 200 exp: None\n",
      "[3ad906636dd801c05dadb1bb5f31fb73efe8d04e6d233bd35cf2fabdeb93fb0d] status: 200 exp: None\n",
      "[45b0199cc441658743cb7978e02969b3efe8d04e6d233bd35cf2fabdeb93fb0d] status: 200 exp: None\n",
      "[61a5b53f60033d22f3cb4964e6783127] status: 200 exp: None\n",
      "[8a4b671ed48457d59b2c5695950be980efe8d04e6d233bd35cf2fabdeb93fb0d] status: 200 exp: None\n",
      "[359e3e3068e00d9569d1538bc2e571d1] status: 200 exp: None\n"
     ]
    },
    {
     "name": "stderr",
     "output_type": "stream",
     "text": [
      "🔄 경험치 조회 중:   8%|▊         | 49/651 [00:00<00:06, 93.39it/s]"
     ]
    },
    {
     "name": "stdout",
     "output_type": "stream",
     "text": [
      "[6c5418cc837f1fe12395071d6e776d33efe8d04e6d233bd35cf2fabdeb93fb0d] status: 200 exp: None\n",
      "[946f70d1d385bc57101e9f44826141b8] status: 200 exp: None\n",
      "[2a88c78d2ce97603c195f5aed72f3b43] status: 200 exp: None\n",
      "[dbbbb8467bf9edec9f43906f046c98acefe8d04e6d233bd35cf2fabdeb93fb0d] status: 200 exp: None\n",
      "[ad5bc99d671a6fdd397180991dc93e9b] status: 200 exp: None\n",
      "[40874ef94179308bc25bb0133775e0b1efe8d04e6d233bd35cf2fabdeb93fb0d] status: 200 exp: None\n",
      "[3897420fa203db7f25a2e80ba0883726e85e07f9d5d276f44440847eec04ba68] status: 200 exp: None\n",
      "[6e1d4e918ca6e918fec980b71cc43084efe8d04e6d233bd35cf2fabdeb93fb0d] status: 200 exp: None\n",
      "[ee8d81b5c8cbdeffbe75274f9a3b437aefe8d04e6d233bd35cf2fabdeb93fb0d] status: 200 exp: None\n",
      "[6c5a82e32f569375412e509fc66e1859efe8d04e6d233bd35cf2fabdeb93fb0d] status: 200 exp: None\n",
      "[c7d225f93ed81b32d99d0f4d2716d58f] status: 200 exp: None\n",
      "[7e0f30503a696d2eb47b56eb16d12e24] status: 200 exp: None\n",
      "[a1ff3bb6080c8d9fc5aeb15a87d17243] status: 200 exp: None\n",
      "[5cf129e8af86bcedccffcd95de1e637e] status: 200 exp: None\n",
      "[ef180b4b92931320e7ea4a045369c093] status: 200 exp: None\n",
      "[ef92f17b1fa93cff9c8a7f50aff84e5defe8d04e6d233bd35cf2fabdeb93fb0d] status: 200 exp: None\n",
      "[45e96ba73c25a1ddde30c9b39ca6f29e] status: 200 exp: None\n",
      "[c1fdbc844a2dc24676aff9e2b3a0df5a] status: 200 exp: None\n",
      "[b23009f6f653ab2988810399634cd72d] status: 200 exp: None\n",
      "[a1a952ff98929fdb68fa931078dc30d6] status: 200 exp: None\n"
     ]
    },
    {
     "name": "stderr",
     "output_type": "stream",
     "text": [
      "🔄 경험치 조회 중:  11%|█         | 71/651 [00:00<00:05, 97.51it/s]"
     ]
    },
    {
     "name": "stdout",
     "output_type": "stream",
     "text": [
      "[2264d7cd3860352c3c7dff9faf5385d5] status: 200 exp: None\n",
      "[27832c376bee64b33735a9d7281b68f8] status: 200 exp: None\n",
      "[370a34ec8182d6111cba7e98b3f3fea4] status: 200 exp: None\n",
      "[88d7192e3005a293b566d7768f6d1533] status: 200 exp: None\n",
      "[209acb968ec5718041653106c6ddec10] status: 200 exp: None\n",
      "[77e05e391db38ed1dac356d6550489dbefe8d04e6d233bd35cf2fabdeb93fb0d] status: 200 exp: None\n",
      "[9e4881eb422c022f2b80efbf18633e52] status: 200 exp: None\n",
      "[eb2ad05959f58ebd7836262fcd381d68] status: 200 exp: None\n",
      "[28c4965cdc7ef6cd8bda1d23161a8bd4] status: 200 exp: None\n",
      "[4aeeed72d264ac6a8cc7151a3b8d2374] status: 200 exp: None\n",
      "[b2054021c819d325ed4761f1717253db] status: 200 exp: None\n",
      "[99f72f43dd04456b0fd9d664192e8bc7efe8d04e6d233bd35cf2fabdeb93fb0d] status: 200 exp: None\n",
      "[16a64199e95b74d4b160e534d8d105d1efe8d04e6d233bd35cf2fabdeb93fb0d] status: 200 exp: None\n",
      "[f4bd1c31d9e0f82a08faa39ab2d26ec5] status: 200 exp: None\n",
      "[17ccaefdeb840bb9360954236fe1998c] status: 200 exp: None\n",
      "[8910cda248246c636d9dfd92074f8d4b] status: 200 exp: None\n",
      "[3d287b864d5e7d554be0c8add68e04a9] status: 200 exp: None\n",
      "[286058a7dac811b9a4376b2904c4e539efe8d04e6d233bd35cf2fabdeb93fb0d] status: 200 exp: None\n",
      "[748d624ac355a80cb23fd0fe9f16b9d3efe8d04e6d233bd35cf2fabdeb93fb0d] status: 200 exp: None\n",
      "[1d45bb37d34be4c1b90ff533f65c5289efe8d04e6d233bd35cf2fabdeb93fb0d] status: 200 exp: None\n"
     ]
    },
    {
     "name": "stderr",
     "output_type": "stream",
     "text": [
      "🔄 경험치 조회 중:  14%|█▍        | 91/651 [00:01<00:06, 90.18it/s]"
     ]
    },
    {
     "name": "stdout",
     "output_type": "stream",
     "text": [
      "[899fe0f69535fb82ac375f662c7f8a54efe8d04e6d233bd35cf2fabdeb93fb0d] status: 200 exp: None\n",
      "[6125d796210d1de3212d8a11fc7ee1df] status: 200 exp: None\n",
      "[1086c1e491c8d6156e0a3600ea431032] status: 200 exp: None\n",
      "[a15c9659d6ca64ad79b376f2308d79c0] status: 200 exp: None\n",
      "[84cf04c965223b1340d21c4f755f4927] status: 200 exp: None\n",
      "[372b065accc880a592d6fd87f8f0f2f6] status: 200 exp: None\n",
      "[a22d063e2102a4db975ae23d959043b8] status: 200 exp: None\n",
      "[c305424a34e5d53b829b1157205db422] status: 200 exp: None\n",
      "[e3ed40d3a1cd6448dc11f4234710ce85] status: 200 exp: None\n",
      "[ab1098b441a860e929e13e4fb0a7c401efe8d04e6d233bd35cf2fabdeb93fb0d] status: 200 exp: None\n",
      "[38d11ad718b25098085a512c7c926634] status: 200 exp: None\n",
      "[88f9618e95846e29f511d5aeb7d80ba9] status: 200 exp: None\n",
      "[6e1ba7a6af34713777e09e97568da465] status: 200 exp: None\n",
      "[2161bfb1d4381c5d59cb610355ada00defe8d04e6d233bd35cf2fabdeb93fb0d] status: 200 exp: None\n",
      "[d4252c4d453de6aa672d9b5ad8b797ecefe8d04e6d233bd35cf2fabdeb93fb0d] status: 200 exp: None\n",
      "[6b5da5a3611b7d9014458046a75c2701efe8d04e6d233bd35cf2fabdeb93fb0d] status: 200 exp: None\n",
      "[b1b9327a97ead1164efbe1c3ad300877] status: 200 exp: None\n",
      "[f60e453adbf3594345a1d8903890acad] status: 200 exp: None\n",
      "[215b3278426d679e2a31335d04b3ca69] status: 200 exp: None\n"
     ]
    },
    {
     "name": "stderr",
     "output_type": "stream",
     "text": [
      "🔄 경험치 조회 중:  17%|█▋        | 111/651 [00:01<00:06, 89.78it/s]"
     ]
    },
    {
     "name": "stdout",
     "output_type": "stream",
     "text": [
      "[68ffc034a58bfd4f39de505d8afab9dd] status: 200 exp: None\n",
      "[ae86b09b01bae9e04cc629c5d230d93eefe8d04e6d233bd35cf2fabdeb93fb0d] status: 200 exp: None\n",
      "[9b0b9bbe86c248bb855bda5ca4415fc8efe8d04e6d233bd35cf2fabdeb93fb0d] status: 200 exp: None\n",
      "[d7ea6c129cd495cc0605556558f795cfefe8d04e6d233bd35cf2fabdeb93fb0d] status: 200 exp: None\n",
      "[8a5bed8698ad8c123c321378acad8a7a] status: 200 exp: None\n",
      "[ccb4a05d85b11a3b921db29dda16d25a] status: 200 exp: None\n",
      "[92cb24849daf94b8c4a727905d864783] status: 200 exp: None\n",
      "[61486bc302899f129df8a3f80598d1a3efe8d04e6d233bd35cf2fabdeb93fb0d] status: 200 exp: None\n",
      "[4ae5ec23b476dbfb9ff442637db1f80b] status: 200 exp: None\n",
      "[5381d6a771f89cca69a971e386050094] status: 200 exp: None\n",
      "[5ed4303572f3dfb233124fd4d261128f] status: 200 exp: None\n",
      "[27d88ce10bceca551a5b3b9921474715efe8d04e6d233bd35cf2fabdeb93fb0d] status: 200 exp: None\n",
      "[cd7dac638e538ae6b4f4331994000463efe8d04e6d233bd35cf2fabdeb93fb0d] status: 200 exp: None\n",
      "[e7078451f132dd22473296027e837f0c] status: 200 exp: None\n",
      "[2cb09f2536d7f98917ef8cdff7cb13c1] status: 200 exp: None\n",
      "[cfb4aace41265f370eb58753972ed5c34723574b05820acf03e7ec3162ff5bed] status: 200 exp: None\n",
      "[68164589bf7d6c93b75c47f12228d6fb] status: 200 exp: None\n",
      "[1ab1d0ddc4ff27f85a283b9b2810e0ddc47ea5ffea2564f587ca830a8f71acb2] status: 200 exp: None\n",
      "[b06a0ea99610b6596689d41f1bf81d7a] status: 200 exp: None\n",
      "[9c4587cd5347b72c5816fc10b2b9f64efd842dab14be2a956555625b37c97bff] status: 200 exp: None\n",
      "[259df4fb6dec8e5cadb07ae67f03e4ce] status: 200 exp: None\n",
      "[3aef8c152c908b36b8e3908d8a59a485efe8d04e6d233bd35cf2fabdeb93fb0d] status: 200 exp: None\n"
     ]
    },
    {
     "name": "stderr",
     "output_type": "stream",
     "text": [
      "🔄 경험치 조회 중:  20%|██        | 132/651 [00:01<00:05, 93.02it/s]"
     ]
    },
    {
     "name": "stdout",
     "output_type": "stream",
     "text": [
      "[f21826e67c75e4788de3beaabc6bfdb0] status: 200 exp: None\n",
      "[a2a6d90b9e81035965bef86b8bd7d2c886e68d4012202d0434d05f81868f68e3] status: 200 exp: None\n",
      "[4200a7eda49502acc8b52d63d1400121] status: 200 exp: None\n",
      "[650a69051f6681ad55b9c6d12d1b5b7f8295750b1f4857867454debc45ec9c8a] status: 200 exp: None\n",
      "[8cfe242bc395c5844ed042dfe2805180] status: 200 exp: None\n",
      "[575294293f18fcca7fa7e7d489f61ccf] status: 200 exp: None\n",
      "[3340d462b8519163a5add7fc311208c3efe8d04e6d233bd35cf2fabdeb93fb0d] status: 200 exp: None\n",
      "[758ca4214f43fda3a97c6cdac80c7ef7] status: 200 exp: None\n",
      "[7c264c1a820464b1efd36d8348330d1fefe8d04e6d233bd35cf2fabdeb93fb0d] status: 200 exp: None\n",
      "[8ea719c88ded74103f3975b001f4f606] status: 200 exp: None\n",
      "[c48040d9959b0e393d0c72bff0ba60c2] status: 200 exp: None\n",
      "[ebba15718624936d8a21f035b49a455f] status: 200 exp: None\n",
      "[c07fc5f2ecb37170e2924cbc3b9f38d1] status: 200 exp: None\n",
      "[4412c6db8bed9e62c6f9feeb3addc4af] status: 200 exp: None\n",
      "[8b518ea294c9b217cff833427ed592ee] status: 200 exp: None\n",
      "[e625e087b8b70c54c9bef7d5e4d8a6ceefe8d04e6d233bd35cf2fabdeb93fb0d] status: 200 exp: None\n",
      "[8c42b025994f5f51611160e64276e705efe8d04e6d233bd35cf2fabdeb93fb0d] status: 200 exp: None\n",
      "[c9e8802edfd542b5ae58927a7dd1dc1a] status: 200 exp: None\n",
      "[29d280eca7881c08f91241fb5fae3ab5aae77432709819edb959e1fd5d1d77b4] status: 200 exp: None\n"
     ]
    },
    {
     "name": "stderr",
     "output_type": "stream",
     "text": [
      "🔄 경험치 조회 중:  23%|██▎       | 152/651 [00:01<00:05, 91.88it/s]"
     ]
    },
    {
     "name": "stdout",
     "output_type": "stream",
     "text": [
      "[8fe9baac9233a494d20ff31ab967eb90] status: 200 exp: None\n",
      "[4489669dd5432ef063cee6f953007761] status: 200 exp: None\n",
      "[8f9caf10a28c5e36a66f0909cecbe977] status: 200 exp: None\n",
      "[503623961bde822d09208aec1ba2f2cc] status: 200 exp: None\n",
      "[411cd21ffa53119c7c98d9d5de686a3cefe8d04e6d233bd35cf2fabdeb93fb0d] status: 200 exp: None\n",
      "[4efaa42b955a5ac6f2d00bb198ff60a3efe8d04e6d233bd35cf2fabdeb93fb0d] status: 200 exp: None\n",
      "[7359817758d57d3d319336428d0e1f72efe8d04e6d233bd35cf2fabdeb93fb0d] status: 200 exp: None\n",
      "[2acc7c696df8f7301838fa81e2b72b7a] status: 200 exp: None\n",
      "[c392032c93481284bffd0a366dd845e6] status: 200 exp: None\n",
      "[1ad13ba5fb6e41f05f8dff24bb1eac32efe8d04e6d233bd35cf2fabdeb93fb0d] status: 200 exp: None\n",
      "[92834aba3b511c1fe010eff46be46c89] status: 200 exp: None\n",
      "[9a059564d3884369c6c813a3e53f20cdefe8d04e6d233bd35cf2fabdeb93fb0d] status: 200 exp: None\n",
      "[6e6f029afb390405767ba6709049d16b] status: 200 exp: None\n",
      "[19ecc5fc60b18cd3f209cc9da9ac5cbb] status: 200 exp: None\n",
      "[7030a33cd2658ea7456c075609422203] status: 200 exp: None\n",
      "[803a36405e472ad9a0ab299701778016efe8d04e6d233bd35cf2fabdeb93fb0d] status: 200 exp: None\n",
      "[43633a39dbc5570cb261d35d71b47ed3] status: 200 exp: None\n",
      "[c4111b6ae2c5ec6d5c9089cf4ee0cd0d] status: 200 exp: None\n",
      "[b45622c02159028e249e9eea48735f62] status: 200 exp: None\n",
      "[9ba9b5f924543a3cf512339511c131eb] status: 200 exp: None\n",
      "[d9841b4b69055e864be98b3fd66527fb] status: 200 exp: None\n"
     ]
    },
    {
     "name": "stderr",
     "output_type": "stream",
     "text": [
      "🔄 경험치 조회 중:  27%|██▋       | 175/651 [00:01<00:04, 98.43it/s]"
     ]
    },
    {
     "name": "stdout",
     "output_type": "stream",
     "text": [
      "[e6af356016e0275876ad7129d4ce19c7] status: 200 exp: None\n",
      "[602804bcfb5a6034de02aa102220c426] status: 200 exp: None\n",
      "[26247a228c6481b2bbfd5b88d905f22f] status: 200 exp: None\n",
      "[5b1bd05630c3ac67a33f713bfa42409befe8d04e6d233bd35cf2fabdeb93fb0d] status: 200 exp: None\n",
      "[3cd0f7c1f391ca5ce2e46411d5ed1221] status: 200 exp: None\n",
      "[1868d0a1ee9c7a3523a292190d6dc1e6efe8d04e6d233bd35cf2fabdeb93fb0d] status: 200 exp: None\n",
      "[3e69afa5f093fb876eb89fa409f94709] status: 200 exp: None\n",
      "[89cc681522445932e10e9c095b201367] status: 200 exp: None\n",
      "[65641cb8aab0415b75b24f3207fad775] status: 200 exp: None\n",
      "[1f9266ddada149e9cb1ebd70add70609] status: 200 exp: None\n",
      "[4d8765af2117cd39ac85655a90f71a4b] status: 200 exp: None\n",
      "[eb9562afbf718cbda3ede593c98b613d] status: 200 exp: None\n",
      "[c8f30227b219da36baf569322055a5fa] status: 200 exp: None\n",
      "[e28a45add78a7b9e97bde973a8a08d2b] status: 200 exp: None\n",
      "[8d4f66faa9c1d8a7d2e2c7c45cc865fd] status: 200 exp: None\n",
      "[5e7dec144312b598bfae317e5b8a587eefe8d04e6d233bd35cf2fabdeb93fb0d] status: 200 exp: None\n",
      "[58424a408b2ba670105f16eeb25a6355] status: 200 exp: None\n",
      "[1afe08a99e54682ee36109728e484405] status: 200 exp: None\n",
      "[baaf9087a03f5a23afd94c2ba10ca706] status: 200 exp: None\n",
      "[e7818fd1b269d7815caba6152d041c708295750b1f4857867454debc45ec9c8a] status: 200 exp: None\n",
      "[5e44a242b0feb7de9c4a2da92dc2bec6] status: 200 exp: None\n",
      "[3bbba2c5f5a181ef8890600099f5a3304723574b05820acf03e7ec3162ff5bed] status: 200 exp: None\n"
     ]
    },
    {
     "name": "stderr",
     "output_type": "stream",
     "text": [
      "🔄 경험치 조회 중:  30%|███       | 196/651 [00:02<00:04, 99.59it/s]"
     ]
    },
    {
     "name": "stdout",
     "output_type": "stream",
     "text": [
      "[afee26b9500465056894746d6581ede7aae77432709819edb959e1fd5d1d77b4] status: 200 exp: None\n",
      "[1bdad1926f1df42f234e04635b47fe54] status: 200 exp: None\n",
      "[8a7b81f5b3135f70ff4f8a1ff79534ca] status: 200 exp: None\n",
      "[e5cbbd1b4faa67e3d3b9afd78144db66] status: 200 exp: None\n",
      "[2724fe3c0070d1fee8fb9912d40948a8] status: 200 exp: None\n",
      "[48bd2e37c3efec495fbe1f63b115332d] status: 200 exp: None\n",
      "[7c91aa3cf0dcc78139100984096c238f] status: 200 exp: None\n",
      "[1d9ca61e3388662ba581a2273fb4688c] status: 200 exp: None\n",
      "[332ada5162d55f967b5e34ab5be9e722efe8d04e6d233bd35cf2fabdeb93fb0d] status: 200 exp: None\n",
      "[900a6e5204f319f1ad724b8268d2168f] status: 200 exp: None\n",
      "[ee64ea14982d5fb80845c546c1ee2fb2] status: 200 exp: None\n",
      "[0e916b4ebe50da2ba990838291e9e661efe8d04e6d233bd35cf2fabdeb93fb0d] status: 200 exp: None\n",
      "[98e1bd032c193dac7299acb2c80f7024] status: 200 exp: None\n",
      "[2cd78e46f27e23a47301f66c720238f9efe8d04e6d233bd35cf2fabdeb93fb0d] status: 200 exp: None\n",
      "[6bd3e9259e0170be6137506dcab41d79] status: 200 exp: None\n",
      "[0e8ff7fbf8b26003780481148144c828efe8d04e6d233bd35cf2fabdeb93fb0d] status: 200 exp: None\n",
      "[0985c7ff23f3b2ce878a0ece5fdb6f86] status: 200 exp: None\n",
      "[cbeb2453d89228fdec5a197b63a89e3d] status: 200 exp: None\n",
      "[89369c024ceaca6bd6dda545831548b4] status: 200 exp: None\n",
      "[b1dbb35a52b7ff814edfbb5071d68231] status: 200 exp: None\n",
      "[479a1a1df496b7c66ebaa63386d534e8] status: 200 exp: None\n"
     ]
    },
    {
     "name": "stderr",
     "output_type": "stream",
     "text": [
      "🔄 경험치 조회 중:  33%|███▎      | 218/651 [00:02<00:04, 97.94it/s] "
     ]
    },
    {
     "name": "stdout",
     "output_type": "stream",
     "text": [
      "[f1da3e0acc44926ab5e07d2fae4e56c6efe8d04e6d233bd35cf2fabdeb93fb0d] status: 200 exp: None\n",
      "[61350b3451c3c995517d70b49c723255] status: 200 exp: None\n",
      "[5b624c8bf55495575db97e6d158ba767] status: 200 exp: None\n",
      "[a2a92279ecbf99328b022408e3c72948] status: 200 exp: None\n",
      "[f011970670b020d8355c62bedbf5363c8295750b1f4857867454debc45ec9c8a] status: 200 exp: None\n",
      "[7e3e4b0a0f2b3bdeded2aa01de44ba5ca2186d8e7cf7a6ee152d97cc78f2ae8b] status: 200 exp: None\n",
      "[15e19c62cea3d9930887bcdc27227809efe8d04e6d233bd35cf2fabdeb93fb0d] status: 200 exp: None\n",
      "[7499eca0d8bb4a61ba19c2ccfa0b66c5] status: 200 exp: None\n",
      "[e4fa227cfe3b9572ce57803414958a44] status: 200 exp: None\n",
      "[f1486111b04f21cca38ff2b85d1cb679efe8d04e6d233bd35cf2fabdeb93fb0d] status: 200 exp: None\n",
      "[7e1b3c62141a50e201c476efb3177f50] status: 200 exp: None\n",
      "[eebac615aa6e100987ef505fcb6a28fd] status: 200 exp: None\n",
      "[177036469467a047aa342b37389d9cb28295750b1f4857867454debc45ec9c8a] status: 200 exp: None\n",
      "[622e0d88217823917846db1d4a7cd23befe8d04e6d233bd35cf2fabdeb93fb0d] status: 200 exp: None\n",
      "[cb493429363b93aac87339218401db03efe8d04e6d233bd35cf2fabdeb93fb0d] status: 200 exp: None\n",
      "[0e589824629116f3b75e8b544d651c9f4723574b05820acf03e7ec3162ff5bed] status: 200 exp: None\n",
      "[be72372fbaeb410b1c568ab636cce843] status: 200 exp: None\n",
      "[5c5cf63d36178ad790980ead15b8e5c68295750b1f4857867454debc45ec9c8a] status: 200 exp: None\n",
      "[a6d6256a91d97e2403b32a0b595ad92b] status: 200 exp: None\n",
      "[d54e9deaf1dd77533a0f4dedf07d0513] status: 200 exp: None\n"
     ]
    },
    {
     "name": "stderr",
     "output_type": "stream",
     "text": [
      "🔄 경험치 조회 중:  37%|███▋      | 238/651 [00:02<00:04, 95.08it/s]"
     ]
    },
    {
     "name": "stdout",
     "output_type": "stream",
     "text": [
      "[e7dd14f09d6560edfc263fb47771e559] status: 200 exp: None\n",
      "[f6c7054a7c1ed7238caa91cf24715988efe8d04e6d233bd35cf2fabdeb93fb0d] status: 200 exp: None\n",
      "[1e33f2cfa908eadb1ae60467e49491626fbb98200a15be5bcc73a64995849e9c] status: 200 exp: None\n",
      "[ee62b4d67b37f7b05eb583ea752d3ea6] status: 200 exp: None\n",
      "[4d6bef26cbb9a03a08d3bfc4d77ded39efe8d04e6d233bd35cf2fabdeb93fb0d] status: 200 exp: None\n",
      "[44dcf1fbbe66451d62f84e0b847ba0b3efe8d04e6d233bd35cf2fabdeb93fb0d] status: 200 exp: None\n",
      "[1ff9dcb9df1830118200d7e845f054ed] status: 200 exp: None\n",
      "[acc53aca37ccc5e68f90f1015a00178d] status: 200 exp: None\n",
      "[f289857f04650466bb5cf08773360a34] status: 200 exp: None\n",
      "[d9d9edf56fe522b3a02ddbf86217c037efe8d04e6d233bd35cf2fabdeb93fb0d] status: 200 exp: None\n",
      "[2602784801a928e80b88b64fe0953f1aefe8d04e6d233bd35cf2fabdeb93fb0d] status: 200 exp: None\n",
      "[359883ebb4c1323bfc490e2aca3c7877] status: 200 exp: None\n",
      "[d40c4ae8b8805828a0bf298809b967f6efe8d04e6d233bd35cf2fabdeb93fb0d] status: 200 exp: None\n",
      "[c0f9a5c7ff185fc7c2c6f6fb444a33fa] status: 200 exp: None\n",
      "[04a6b00ffc8d893e767b97cbe50978de] status: 200 exp: None\n",
      "[dfc61db19a57c86d3691e320aebbfc958295750b1f4857867454debc45ec9c8a] status: 200 exp: None\n",
      "[3efc975385b19400e4210aed1457bded] status: 200 exp: None\n",
      "[ca2b3c2d51a5755dea140508be2d18cb] status: 200 exp: None\n",
      "[e7dc331b17b6ceb7a420bb3687aef7bfefe8d04e6d233bd35cf2fabdeb93fb0d] status: 200 exp: None\n",
      "[ed043c66dacaf5fea9d32d12158add96] status: 200 exp: None\n",
      "[41f57aba5ac5d0f618f21f93f59f1203] status: 200 exp: None\n",
      "[e2c89e0bc57b6d224b28b41bf2426ee5efe8d04e6d233bd35cf2fabdeb93fb0d] status: 200 exp: None\n"
     ]
    },
    {
     "name": "stderr",
     "output_type": "stream",
     "text": [
      "🔄 경험치 조회 중:  40%|███▉      | 260/651 [00:02<00:04, 95.13it/s]"
     ]
    },
    {
     "name": "stdout",
     "output_type": "stream",
     "text": [
      "[fd2e74666b7d6b711a295d8421af83198295750b1f4857867454debc45ec9c8a] status: 200 exp: None\n",
      "[00dacbbf5f2407fa1c5b6e815f39697c] status: 200 exp: None\n",
      "[b35cf0104d42144058024a6e75161158efe8d04e6d233bd35cf2fabdeb93fb0d] status: 200 exp: None\n",
      "[d9cab3613585928be25b5f3a9ca50f93efe8d04e6d233bd35cf2fabdeb93fb0d] status: 200 exp: None\n",
      "[463a7a8e7ec148620a880f886928dbf2efe8d04e6d233bd35cf2fabdeb93fb0d] status: 200 exp: None\n",
      "[4a73947f6c811334c9efdf1e0dc9a8b5] status: 200 exp: None\n",
      "[1896b6b1552a73ef2593f1a526645de8] status: 200 exp: None\n",
      "[95cc482b35d6b7384a6f344a1c22f05eefe8d04e6d233bd35cf2fabdeb93fb0d] status: 200 exp: None\n",
      "[3bc5a4e1bb88bb2a04a2e00dbcc66312efe8d04e6d233bd35cf2fabdeb93fb0d] status: 200 exp: None\n",
      "[d303467c8f9c16b109be6d5a8d536ac0efe8d04e6d233bd35cf2fabdeb93fb0d] status: 200 exp: None\n",
      "[d8883823e7f21551c88d26b859330f514723574b05820acf03e7ec3162ff5bed] status: 200 exp: None\n",
      "[d8883823e7f21551c88d26b859330f51fd842dab14be2a956555625b37c97bff] status: 200 exp: None\n",
      "[f1978e2e0bce6d150bbd3851e6520ea76fbb98200a15be5bcc73a64995849e9c] status: 200 exp: None\n",
      "[a4b6999a8656f3f15822d66227149794efe8d04e6d233bd35cf2fabdeb93fb0d] status: 200 exp: None\n",
      "[0ff8ff02d7eb88af6a19b56abf2881bcefe8d04e6d233bd35cf2fabdeb93fb0d] status: 200 exp: None\n",
      "[cbe547219f8cf4032b3c58158389fb3e3663933da92e7566c55104ec9ac2894d] status: 200 exp: None\n",
      "[edaebdc94432b7f8b46209512fff805d] status: 200 exp: None\n",
      "[f011970670b020d8355c62bedbf5363caae77432709819edb959e1fd5d1d77b4] status: 200 exp: None\n",
      "[231b31144fcc911f1d23faf751eb0a9c] status: 200 exp: None\n",
      "[ec24035df187e65bf8d9843a99e3e747] status: 200 exp: None\n",
      "[32ca59b0670508da67b44d0542dc4383] status: 200 exp: None\n",
      "[a1604edc557b7db2e9a21ade4d65ebe6efe8d04e6d233bd35cf2fabdeb93fb0d] status: 200 exp: None\n",
      "[6b52d023683a4a4eccc0ca34ad9efa2d] status: 200 exp: None\n"
     ]
    },
    {
     "name": "stderr",
     "output_type": "stream",
     "text": [
      "🔄 경험치 조회 중:  43%|████▎     | 281/651 [00:02<00:03, 94.59it/s]"
     ]
    },
    {
     "name": "stdout",
     "output_type": "stream",
     "text": [
      "[fb79cd547e066bdad5b86e3601eff7dd] status: 200 exp: None\n",
      "[c8a58b77db55cf6740f5258c6384e3ac] status: 200 exp: None\n",
      "[dc8bb81dbe9401f7f408907ebc8760ab] status: 200 exp: None\n",
      "[4fa36777efa90152701ac3c6bbedab00] status: 200 exp: None\n",
      "[1b98f1af7d742a870a586d46372d1ff0] status: 200 exp: None\n",
      "[1d0de74b32752b39f2448928a21090dbefe8d04e6d233bd35cf2fabdeb93fb0d] status: 200 exp: None\n",
      "[c974a6ada2e35ecb5f23819192dfb4b8] status: 200 exp: None\n",
      "[ceaff993db9f42e381f8bff2cd26b242efe8d04e6d233bd35cf2fabdeb93fb0d] status: 200 exp: None\n",
      "[fda694c357cbf987a942335879e9204986e68d4012202d0434d05f81868f68e3] status: 200 exp: None\n",
      "[1629cfe9f9fd873b60db602d9022c5a5] status: 200 exp: None\n",
      "[7548ebd37a6c8b57df6ee41926e7af67] status: 200 exp: None\n",
      "[64ee59eda0dc3d48176622362a4c2ae6] status: 200 exp: None\n",
      "[c5cf8488aef29639b4b241715798a703] status: 200 exp: None\n",
      "[562be369f832140a54bca21eac2dc6a5] status: 200 exp: None\n",
      "[9f1d4cfb1e44b221f63daa3a822510b0] status: 200 exp: None\n",
      "[1f8afdded1f9d489171aea2582c6e44efd842dab14be2a956555625b37c97bff] status: 200 exp: None\n",
      "[a6a53f84c81b63dd6ed156ed2cb78cebefe8d04e6d233bd35cf2fabdeb93fb0d] status: 200 exp: None\n",
      "[6036ef073fbf78ab52fdf74c156d47f3] status: 200 exp: None\n",
      "[bf47ff19c35b5bb2a2a72e57a12fa5ba] status: 200 exp: None\n",
      "[c06b2d96457f0c78ead68176c2f09cc9] status: 200 exp: None\n"
     ]
    },
    {
     "name": "stderr",
     "output_type": "stream",
     "text": [
      "🔄 경험치 조회 중:  46%|████▌     | 301/651 [00:03<00:03, 94.57it/s]"
     ]
    },
    {
     "name": "stdout",
     "output_type": "stream",
     "text": [
      "[a6005d26342ad916ac3958065f316219] status: 200 exp: None\n",
      "[90f227a7131fa910b7c151f2b86e44faa2186d8e7cf7a6ee152d97cc78f2ae8b] status: 200 exp: None\n",
      "[ab250be598f152dcc1575fee6cdfc6f4] status: 200 exp: None\n",
      "[b9057f7a7ee1c1d7e71566926afbde0f] status: 200 exp: None\n",
      "[09c9956f0b4c0da1f351f0d2e90dae42] status: 200 exp: None\n",
      "[154cdf77edf12428c873aee124d3daeeefe8d04e6d233bd35cf2fabdeb93fb0d] status: 200 exp: None\n",
      "[97a1f559fb06a5f8c8fe3fea355c4c63] status: 200 exp: None\n",
      "[7c4a6c98d6fba1d354a95def915dad2befe8d04e6d233bd35cf2fabdeb93fb0d] status: 200 exp: None\n",
      "[9ba336ab0ffe42e7a2f656ebc1a9cbb0] status: 200 exp: None\n",
      "[01006d86c52eb6d10c78004f8418dd4aefe8d04e6d233bd35cf2fabdeb93fb0d] status: 200 exp: None\n",
      "[4f82e84288cf592a763da51e027dc257efe8d04e6d233bd35cf2fabdeb93fb0d] status: 200 exp: None\n",
      "[7757c5d68e23362876f9b1a4d59bcbf64723574b05820acf03e7ec3162ff5bed] status: 200 exp: None\n",
      "[cf50dd120d0cc9bc642125917708ff31efe8d04e6d233bd35cf2fabdeb93fb0d] status: 200 exp: None\n",
      "[0e58d66a826d9b5627668a70fe11d59e] status: 200 exp: None\n",
      "[99bc55159f6457772f776dd8621adcc4] status: 200 exp: None\n",
      "[1a812b7ea5d71fa40a51d1515d4d2027] status: 200 exp: None\n",
      "[4ecdd0f060bc486c482ad716e5429fbbefe8d04e6d233bd35cf2fabdeb93fb0d] status: 200 exp: None\n",
      "[f7447ea1be78e35b4ed9a5b3f0b22cbe4723574b05820acf03e7ec3162ff5bed] status: 200 exp: None\n",
      "[66c7c3b9acd2e408e9bbe43748111690] status: 200 exp: None\n",
      "[f6e5a40819e0a655520dca7edafbc6f3] status: 200 exp: None\n"
     ]
    },
    {
     "name": "stderr",
     "output_type": "stream",
     "text": [
      "🔄 경험치 조회 중:  50%|████▉     | 324/651 [00:03<00:03, 95.00it/s]"
     ]
    },
    {
     "name": "stdout",
     "output_type": "stream",
     "text": [
      "[e3458fd2267b72acd5639a458d3f60a6efe8d04e6d233bd35cf2fabdeb93fb0d] status: 200 exp: None\n",
      "[75d85624a2df78282277bc17a5a52c466fbb98200a15be5bcc73a64995849e9c] status: 200 exp: None\n",
      "[3026829144ebdb531f76bfe583603e46efe8d04e6d233bd35cf2fabdeb93fb0d] status: 200 exp: None\n",
      "[65f86702f5a11df236f819dd2863d9c6] status: 200 exp: None\n",
      "[94e23931042d0448d476135afe57928eefe8d04e6d233bd35cf2fabdeb93fb0d] status: 200 exp: None\n",
      "[4a03f8dd1aed386b5bb4a437356d4750] status: 200 exp: None\n",
      "[180cd598891b05dfaddfdb9de3e9c344efe8d04e6d233bd35cf2fabdeb93fb0d] status: 200 exp: None\n",
      "[78bacffbd3f201b369a10ed086afa4b4efe8d04e6d233bd35cf2fabdeb93fb0d] status: 200 exp: None\n",
      "[9514fc38be8eb2db4d759e89a4462e2b] status: 200 exp: None\n",
      "[03f5dad5fd6df8fc814d4df39de9cb68] status: 200 exp: None\n",
      "[cbee1aba43d39ef621f117be1f503ca9] status: 200 exp: None\n",
      "[069340858e623ce268afbc71fed6950a] status: 200 exp: None\n",
      "[ebe7c8dee439b3ffa2e46b81f64d29c7] status: 200 exp: None\n",
      "[c1d8f303f161f9250125be458870d927] status: 200 exp: None\n",
      "[cabc9fc43aa0b5fbff7af68289e16c05] status: 200 exp: None\n",
      "[ab3db269188f4bb94a30f22f6cf58b7f8295750b1f4857867454debc45ec9c8a] status: 200 exp: None\n",
      "[fd104fbd753cd6a2b7097d66c9d7e0f6] status: 200 exp: None\n",
      "[213c73a426f425456edb74204ec68fea] status: 200 exp: None\n",
      "[0fbefd62010e72a96db7d733d5db8c39] status: 200 exp: None\n",
      "[1b55a64e995604a049031802e1595b44] status: 200 exp: None\n",
      "[82435711735b7522e0816c9870f95650efe8d04e6d233bd35cf2fabdeb93fb0d] status: 200 exp: None\n",
      "[dfe2333687951d4416fb192073b72114] status: 200 exp: None\n"
     ]
    },
    {
     "name": "stderr",
     "output_type": "stream",
     "text": [
      "🔄 경험치 조회 중:  53%|█████▎    | 345/651 [00:03<00:03, 94.99it/s]"
     ]
    },
    {
     "name": "stdout",
     "output_type": "stream",
     "text": [
      "[4dbd8ae5dbab807d78dc874e881af8b2] status: 200 exp: None\n",
      "[3ccfeb44e0803cf729070e7b266cce10efe8d04e6d233bd35cf2fabdeb93fb0d] status: 200 exp: None\n",
      "[211542f5c472215e90d988d4086785caefe8d04e6d233bd35cf2fabdeb93fb0d] status: 200 exp: None\n",
      "[f85bb10ea15105f2fb633cdf0a12dfa1fd842dab14be2a956555625b37c97bff] status: 200 exp: None\n",
      "[baa70204b60726c1a7921e533724698c] status: 200 exp: None\n",
      "[c95f01c5c90ae89dee02c49593b80710efe8d04e6d233bd35cf2fabdeb93fb0d] status: 200 exp: None\n",
      "[f7602d967d939851d5c3a68fc68e002cefe8d04e6d233bd35cf2fabdeb93fb0d] status: 200 exp: None\n",
      "[346f98af8ef749990240ab19865cc6ef] status: 200 exp: None\n",
      "[e0513c7a2fdb0f99196651c964827eb586e68d4012202d0434d05f81868f68e3] status: 200 exp: None\n",
      "[de41a3629a38d68e2226d54a47c25d55efe8d04e6d233bd35cf2fabdeb93fb0d] status: 200 exp: None\n",
      "[4e71a6c3201cf962865d5431e292139c] status: 200 exp: None\n",
      "[aefbcfa37949f8db5d86d8e97179bc96efe8d04e6d233bd35cf2fabdeb93fb0d] status: 200 exp: None\n",
      "[fc1b1bf8257f184267987cb10b676d6fefe8d04e6d233bd35cf2fabdeb93fb0d] status: 200 exp: None\n",
      "[820f21b82876d037fccf36fbeec321baefe8d04e6d233bd35cf2fabdeb93fb0d] status: 200 exp: None\n",
      "[daa1ebce942b49a01f13978849c26fa2efe8d04e6d233bd35cf2fabdeb93fb0d] status: 200 exp: None\n",
      "[07b2d3462d1ca40ffbfcef97f2033206efe8d04e6d233bd35cf2fabdeb93fb0d] status: 200 exp: None\n",
      "[628064f9636e913c0baa587591009ac6] status: 200 exp: None\n",
      "[55114a8fec667a88d375c633f41dabb4c47ea5ffea2564f587ca830a8f71acb2] status: 200 exp: None\n",
      "[b965ad0ad1281c92f0537564dd613c7b] status: 200 exp: None\n"
     ]
    },
    {
     "name": "stderr",
     "output_type": "stream",
     "text": [
      "🔄 경험치 조회 중:  56%|█████▌    | 365/651 [00:03<00:02, 95.91it/s]"
     ]
    },
    {
     "name": "stdout",
     "output_type": "stream",
     "text": [
      "[de1c881defb47b2936faa9a6a4be93c6] status: 200 exp: None\n",
      "[d60a925df7e556644f3e4d3170723676] status: 200 exp: None\n",
      "[dc0cd14dc9929632259bfdceb6ab43be] status: 200 exp: None\n",
      "[926f63e835b251bbefdf96d1abf25e64efe8d04e6d233bd35cf2fabdeb93fb0d] status: 200 exp: None\n",
      "[8bfc9e0a32f14d256432f0754e9b4acd] status: 200 exp: None\n",
      "[c5f7dd1462e2893f45bb6650b32075b2] status: 200 exp: None\n",
      "[061916eb8407ae2f1b9788020e22f878] status: 200 exp: None\n",
      "[49209cca69cf050e0f0f5c09ee1aaf83efe8d04e6d233bd35cf2fabdeb93fb0d] status: 200 exp: None\n",
      "[8b4ec92b7bc6bb3145111e659fc9efb7] status: 200 exp: None\n",
      "[ef4df2958cc9ddd7f528834fb23bcb22efe8d04e6d233bd35cf2fabdeb93fb0d] status: 200 exp: None\n",
      "[449446e20b5b4786e29a84793bef22c04723574b05820acf03e7ec3162ff5bed] status: 200 exp: None\n",
      "[ddb268e187a88e893898ff46f8573d16efe8d04e6d233bd35cf2fabdeb93fb0d] status: 200 exp: None\n",
      "[7cc7cfd5e342360c27f464a916f949fd] status: 200 exp: None\n",
      "[ff9d6a9168b1452aba97bb03431c937a] status: 200 exp: None\n",
      "[1dbc59f0157be60121b2ae542fff1f21] status: 200 exp: None\n",
      "[9d84309b073f563cf43ff3e35cc7b19fe85e07f9d5d276f44440847eec04ba68] status: 200 exp: None\n",
      "[f9b9b8846c9ad780728300eedbdf8e02] status: 200 exp: None\n",
      "[3a048dbf03695b3a228d444de4ccd344efe8d04e6d233bd35cf2fabdeb93fb0d] status: 200 exp: None\n",
      "[0e859aafbe905420f2d60fe5f7d45d50efe8d04e6d233bd35cf2fabdeb93fb0d] status: 200 exp: None\n",
      "[ef511d10a001aed558c9c5d0e2e17870] status: 200 exp: None\n",
      "[afcdc70466135e254bd8f96cda0bff27] status: 200 exp: None\n",
      "[07dfaf45e02f97970846bd3650e08c7f] status: 200 exp: None\n",
      "[390b99701bf3eaa02dbff576ff65f348fd842dab14be2a956555625b37c97bff] status: 400 exp: None\n"
     ]
    },
    {
     "name": "stderr",
     "output_type": "stream",
     "text": [
      "🔄 경험치 조회 중:  59%|█████▉    | 387/651 [00:04<00:02, 97.13it/s]"
     ]
    },
    {
     "name": "stdout",
     "output_type": "stream",
     "text": [
      "[7dea0de33490e30303b6850b509c7a73] status: 200 exp: None\n",
      "[8a87661e12c7ca51a2f960596c160d42] status: 200 exp: None\n",
      "[4d5c9c759f0f0c44d2c579db222e2616] status: 200 exp: None\n",
      "[19a81faafbfd0f0ab6c0f68eb32463ebefe8d04e6d233bd35cf2fabdeb93fb0d] status: 200 exp: None\n",
      "[447f05e28007e1d16702791c4304a724c47ea5ffea2564f587ca830a8f71acb2] status: 200 exp: None\n",
      "[c614d83f2b7a89bc99124d6837f9a969aae77432709819edb959e1fd5d1d77b4] status: 200 exp: None\n",
      "[ad341e00bdce460d1ae1f06536627483efe8d04e6d233bd35cf2fabdeb93fb0d] status: 200 exp: None\n",
      "[2276359c7a9e67e8735dd6b79b68249c] status: 200 exp: None\n",
      "[3e5cb1ec92bfc6dd731fd3ebe882d15b] status: 200 exp: None\n",
      "[a5fd534b0d1ff2fa2576d02349913b2c] status: 200 exp: None\n",
      "[ab3f0240b978db5681690f273aad656befe8d04e6d233bd35cf2fabdeb93fb0d] status: 200 exp: None\n",
      "[86f37dbc6e17083d20a33321bf50ebbbefe8d04e6d233bd35cf2fabdeb93fb0d] status: 200 exp: None\n",
      "[eb9bf7ccfa1806a78b5fc10d4629c9b4] status: 200 exp: None\n",
      "[90a1768550abfa26ce19c3c428a656ca] status: 200 exp: None\n",
      "[443897b01c5cc8422997faa84d4e0eb9] status: 200 exp: None\n",
      "[0822623c86c4b0183d814a3cc74e60fbefe8d04e6d233bd35cf2fabdeb93fb0d] status: 200 exp: None\n",
      "[37aea26592e2e1702f9d7be545d16d42efe8d04e6d233bd35cf2fabdeb93fb0d] status: 200 exp: None\n",
      "[7fda0c4965df19e4d0a010a11d8f988ee85e07f9d5d276f44440847eec04ba68] status: 200 exp: None\n",
      "[38e339939ccbef0bdedace1cbdc868a7] status: 200 exp: None\n",
      "[0e44d1c24377fa20ee88863099ffdf2fc47ea5ffea2564f587ca830a8f71acb2] status: 200 exp: None\n",
      "[c788dcfba11615fd40aa3ee2a9db84d2efe8d04e6d233bd35cf2fabdeb93fb0d] status: 200 exp: None\n",
      "[a6319e7f14ee72a13fff958cd9590aff] status: 200 exp: None\n"
     ]
    },
    {
     "name": "stderr",
     "output_type": "stream",
     "text": [
      "🔄 경험치 조회 중:  63%|██████▎   | 407/651 [00:04<00:02, 96.80it/s]"
     ]
    },
    {
     "name": "stdout",
     "output_type": "stream",
     "text": [
      "[d19c3ba0ff5a634b2843a418d84145baefe8d04e6d233bd35cf2fabdeb93fb0d] status: 200 exp: None\n",
      "[03b20656d285ad284739cc42d8cd85f8efe8d04e6d233bd35cf2fabdeb93fb0d] status: 200 exp: None\n",
      "[44ac4dc57e46acf1864803eff99bdb30] status: 200 exp: None\n",
      "[2c1fd0c4849147f11c8d9cbc3c158339] status: 200 exp: None\n",
      "[fe425f66db39dfa020d4ec05300fc042] status: 200 exp: None\n",
      "[eb2c2a4cc48b6cc873c1d711dd836c96] status: 200 exp: None\n",
      "[e2793e3fe17204ee214a7e94571a476a] status: 200 exp: None\n",
      "[07309fdaf660c2ea08520be478c266a2] status: 200 exp: None\n",
      "[123a5e54f303058cae0afa63adc98f91efe8d04e6d233bd35cf2fabdeb93fb0d] status: 200 exp: None\n",
      "[dc94c92ca6b672ed08b171a0d001f5e9] status: 200 exp: None\n",
      "[6bffc4346b9b3712970fa8f7f83d9fcd] status: 200 exp: None\n",
      "[92d34bdd14a7658ea7e04fd1b43ef8b8] status: 200 exp: None\n",
      "[0cb3e6f5fe7f06ecc42a06e29ff4823f] status: 200 exp: None\n",
      "[e62d8738145d5522d330fa97a1301260c47ea5ffea2564f587ca830a8f71acb2] status: 200 exp: None\n",
      "[8b1d7bce3b82ca6615446e38efa3ed4e3663933da92e7566c55104ec9ac2894d] status: 200 exp: None\n",
      "[1e8b1c6739bc54b49446e3531b8e6f50] status: 200 exp: None\n",
      "[f3b3017881239ab8ca3fdd52d617588c] status: 200 exp: None\n",
      "[f17ceba3df0e4d21c3238a27e331e51d] status: 200 exp: None\n",
      "[df32bbc70a813966bb619ada3a451082] status: 200 exp: None\n",
      "[1dff0f364a261baa294d9a0ec30da7216fbb98200a15be5bcc73a64995849e9c] status: 200 exp: None\n",
      "[62991f3ca9f5f5c584be5da9925bdd0ffd842dab14be2a956555625b37c97bff] status: 200 exp: None\n",
      "[c4549867e0be9092f11d47ece2d4b75befe8d04e6d233bd35cf2fabdeb93fb0d] status: 200 exp: None\n",
      "[627e935b270feca8566c848ec55280a7] status: 200 exp: None\n"
     ]
    },
    {
     "name": "stderr",
     "output_type": "stream",
     "text": [
      "🔄 경험치 조회 중:  67%|██████▋   | 437/651 [00:04<00:01, 121.00it/s]"
     ]
    },
    {
     "name": "stdout",
     "output_type": "stream",
     "text": [
      "[aa96e72d932d700ef95b387c0458e19defe8d04e6d233bd35cf2fabdeb93fb0d] status: 200 exp: None\n",
      "[d278b112f1403de8551b76e687ceba0f] status: 200 exp: None\n",
      "[3c13fd677362086572800899a67c3f80] status: 200 exp: None\n",
      "[d47335dbd7de543d2d1127e4792fabb9] status: 200 exp: None\n",
      "[30b37f109067b329714a3dc34b690c83] status: 200 exp: None\n",
      "[bff29ef826f115cc27ca9dd7492417c63663933da92e7566c55104ec9ac2894d] status: 200 exp: None\n",
      "[eac6eb098f70c9477a287803e659f65cefe8d04e6d233bd35cf2fabdeb93fb0d] status: 200 exp: None\n",
      "[123f07cf1e9401014559608b0a5f64edfd842dab14be2a956555625b37c97bff] status: 200 exp: None\n",
      "[921a4e935a5fb4cb62277480317dcc9c] status: 200 exp: None\n",
      "[a6beef6e6ebd400d75645208a910157fefe8d04e6d233bd35cf2fabdeb93fb0d] status: 200 exp: None\n",
      "[571577a351932832a0efe3b8e4f950fd] status: 200 exp: None\n",
      "[b77173d3dc566f52fc5dec4087469f2e] status: 200 exp: None\n",
      "[9eddaf23ee31770f67f19eb1c676ce65] status: 200 exp: None\n",
      "[6dff2b8245befa20729c3b74ec0d34eb] status: 200 exp: None\n",
      "[432dfbdd5728aede656dda861a931597] status: 200 exp: None\n",
      "[746a7299338b99de935d9656077af3e9] status: 200 exp: None\n",
      "[d4a2eb51d89a4519857b6493ec84df60] status: 200 exp: None\n",
      "[beb9bff8d3ce744e14666039bbba4bc1fd842dab14be2a956555625b37c97bff] status: 200 exp: None\n",
      "[59532071dd41b208c960f4098b661ae9efe8d04e6d233bd35cf2fabdeb93fb0d] status: 200 exp: None\n",
      "[6571da1cfcc11d6419652a53c2e89d1befe8d04e6d233bd35cf2fabdeb93fb0d] status: 200 exp: None\n",
      "[cab6d4e2f4531cf15496130c63669bbeefe8d04e6d233bd35cf2fabdeb93fb0d] status: 200 exp: None\n",
      "[a2d1219667e0ad78ee57b693875009af] status: 200 exp: None\n",
      "[6e0eea16b5634eade942e02bf2d2db4f] status: 200 exp: None\n",
      "[d7754e75fbbf66654a548b7794680963] status: 200 exp: None\n",
      "[25f6110c061b587c897df84b262752dcefe8d04e6d233bd35cf2fabdeb93fb0d] status: 200 exp: None\n",
      "[36065967af8ca4efc798bbb89e7c9079] status: 200 exp: None\n",
      "[e236422ae81d792d68b118a003d45b80] status: 200 exp: None\n",
      "[63586b48c801279cc2484322955569f7aae77432709819edb959e1fd5d1d77b4] status: 200 exp: None\n",
      "[2c2dee7bfd36181758b1ff6bbcbf2a3e] status: 200 exp: None\n",
      "[af50780290bfe7950c4e78b77048387b] status: 200 exp: None\n"
     ]
    },
    {
     "name": "stderr",
     "output_type": "stream",
     "text": [
      "🔄 경험치 조회 중:  72%|███████▏  | 469/651 [00:04<00:01, 137.87it/s]"
     ]
    },
    {
     "name": "stdout",
     "output_type": "stream",
     "text": [
      "[5cdb6a421b6fcd4dd5b9af0eac6021a2efe8d04e6d233bd35cf2fabdeb93fb0d] status: 200 exp: None\n",
      "[dfe43f00b6efc11d5ba27e2e2199a2e7] status: 200 exp: None\n",
      "[44f56560bd9dea89bd1963f3a0cdbb76] status: 200 exp: None\n",
      "[b8ff1d1fad7ddc903cc274f6718ae8eaefe8d04e6d233bd35cf2fabdeb93fb0d] status: 200 exp: None\n",
      "[4e14143c45f5904eda82253405af8f36] status: 200 exp: None\n",
      "[cb8d230bdf45f89db1a7ee34468191e6] status: 200 exp: None\n",
      "[cab5a16a2c201b5fc5fd6aa7cdecff6cefe8d04e6d233bd35cf2fabdeb93fb0d] status: 200 exp: None\n",
      "[7b3c5c2a000c10bdfd392259f9497e1b] status: 200 exp: None\n",
      "[d2f57889d1da2bc880cd14dabdf64647] status: 200 exp: None\n",
      "[b5fcebfef8d7066981e6dc5ef0a65680] status: 200 exp: None\n",
      "[32718ea33459eafbc379961783ff82f6efe8d04e6d233bd35cf2fabdeb93fb0d] status: 200 exp: None\n",
      "[e350d8b86e876a414e186bad59915218] status: 200 exp: None\n",
      "[4ae34569d58aea7ceae63cabf58a37b0] status: 200 exp: None\n",
      "[d23a98910e05fd365bec0d3114c19765] status: 200 exp: None\n",
      "[b991135784be9869ff79d84bba74184c] status: 200 exp: None\n",
      "[10061be0e49c19fc669511d41e6a95e6] status: 200 exp: None\n",
      "[1f53903946a0efefbbbb0cad528350b5] status: 200 exp: None\n",
      "[6ae787450623840b71eb7ed2cd8d6f1a] status: 200 exp: None\n",
      "[4240d5d5c7953349e79bd43714b42d6defe8d04e6d233bd35cf2fabdeb93fb0d] status: 200 exp: None\n",
      "[cf1df0d028bd6035101998e21e261f1c] status: 200 exp: None\n",
      "[ddb96079e4485b38e6370e0592b8e8f1efe8d04e6d233bd35cf2fabdeb93fb0d] status: 200 exp: None\n",
      "[0c111ddc57e254d371792ffddc8fb51d3663933da92e7566c55104ec9ac2894d] status: 200 exp: None\n",
      "[eec8422631585b7debb52bc1100371b7] status: 200 exp: None\n",
      "[2e7e4bab5d1bd47bf5279afede4b1fa2] status: 200 exp: None\n",
      "[0f33a3b5bafc0648345b0104d75efeedaae77432709819edb959e1fd5d1d77b4] status: 200 exp: None\n",
      "[f3588d370b67086ac430574fd8399df6] status: 200 exp: None\n",
      "[95df8f5fc8054d07bc35254cef9a8f9e] status: 200 exp: None\n",
      "[58d8c741a93001009170f9b609fc6372] status: 200 exp: None\n",
      "[7e5d9d1e1222cf5b66e58a1809b0ca36efe8d04e6d233bd35cf2fabdeb93fb0d] status: 200 exp: None\n",
      "[2d281171714aa861cd156ed127e08f97efe8d04e6d233bd35cf2fabdeb93fb0d] status: 200 exp: None\n",
      "[194c483e4ababd04c631d43eadd2ec51] status: 200 exp: None\n",
      "[79208a98f72aaf5ddc0d1e7f63643f50] status: 200 exp: None\n",
      "[cabb575751b660df5082a37580b797c4] status: 200 exp: None\n",
      "[3e40561812ba8e10ee879698b22b4a41] status: 200 exp: None\n",
      "[e99a183fc3797b39f044de9ed7344dbb] status: 200 exp: None\n"
     ]
    },
    {
     "name": "stderr",
     "output_type": "stream",
     "text": [
      "🔄 경험치 조회 중:  76%|███████▋  | 497/651 [00:04<00:01, 124.33it/s]"
     ]
    },
    {
     "name": "stdout",
     "output_type": "stream",
     "text": [
      "[539b424f2e17ec44682e265f1f55647d] status: 200 exp: None\n",
      "[b4e47f7d6599a93d138830a710b0b2c8efe8d04e6d233bd35cf2fabdeb93fb0d] status: 200 exp: None\n",
      "[dffc0cb957c68d96f36183b1cb266e23efe8d04e6d233bd35cf2fabdeb93fb0d] status: 200 exp: None\n",
      "[f02a0718f61ebff2cec08e38e8a335cbefe8d04e6d233bd35cf2fabdeb93fb0d] status: 200 exp: None\n",
      "[2f5283b2a8c47bae548b3d66276ce5dfefe8d04e6d233bd35cf2fabdeb93fb0d] status: 200 exp: None\n",
      "[1599f9fb457096239bc69496e625cb3aefe8d04e6d233bd35cf2fabdeb93fb0d] status: 200 exp: None\n",
      "[ec659dd8e5ab4691e8b94c5416fba1b8efe8d04e6d233bd35cf2fabdeb93fb0d] status: 200 exp: None\n",
      "[4df678d8c1036875a46a6c21ed8380ee] status: 200 exp: None\n",
      "[78cc61fcd0e0b745cd5d5f206ef4f74befe8d04e6d233bd35cf2fabdeb93fb0d] status: 200 exp: None\n",
      "[ff7e5455913a71c21c33f613d3fc06b1] status: 200 exp: None\n",
      "[f41209e442bf342f7bbd321dc42e0eb5efe8d04e6d233bd35cf2fabdeb93fb0d] status: 200 exp: None\n",
      "[3b8cd1d2bf2cc1947b4cd687be6f2fc8c47ea5ffea2564f587ca830a8f71acb2] status: 200 exp: None\n",
      "[ebdb7d43a19fe248f7f2348ea3007e53] status: 200 exp: None\n",
      "[002b61ce74f60a34a0465a93e2e3f779efe8d04e6d233bd35cf2fabdeb93fb0d] status: 200 exp: None\n",
      "[b0c1c9f961f003c0829792022ddd7b1befe8d04e6d233bd35cf2fabdeb93fb0d] status: 200 exp: None\n",
      "[c889873bf5649f9c91e74f46d38a7f1cefe8d04e6d233bd35cf2fabdeb93fb0d] status: 200 exp: None\n",
      "[c8a49fad7335d9ad4d7c89de87e5ed04] status: 200 exp: None\n",
      "[89e71ee0dd710ea9fef5e63aa61060ff] status: 200 exp: None\n",
      "[3c2bd9b012aef1ae5d4d12c1d6800847] status: 200 exp: None\n",
      "[28ad6518eb191a484810d60f42338211efe8d04e6d233bd35cf2fabdeb93fb0d] status: 200 exp: None\n",
      "[6f2884644559f1444b92aeb73b057864e85e07f9d5d276f44440847eec04ba68] status: 200 exp: None\n",
      "[9695ae7486269ba64b533e57d5275909] status: 200 exp: None\n"
     ]
    },
    {
     "name": "stderr",
     "output_type": "stream",
     "text": [
      "🔄 경험치 조회 중:  80%|████████  | 522/651 [00:05<00:01, 116.75it/s]"
     ]
    },
    {
     "name": "stdout",
     "output_type": "stream",
     "text": [
      "[53f9e0a25c222fffd2668752c6da06d9] status: 200 exp: None\n",
      "[d8afbf6826fcd10e2b4ecc3e97e7a23befe8d04e6d233bd35cf2fabdeb93fb0d] status: 200 exp: None\n",
      "[8d0f3209ad35666ae2a6678f05d674bdfd842dab14be2a956555625b37c97bff] status: 200 exp: None\n",
      "[f5e6024f3eb7fd92f30eb411e8bdaa91] status: 200 exp: None\n",
      "[6e7b97ff2c2d02a8ad54a0064668d1f4] status: 200 exp: None\n",
      "[723124c66245a19735c754e76580e3ea] status: 200 exp: None\n",
      "[a639ec0e0f8d75b40a26e6571233dd0aefe8d04e6d233bd35cf2fabdeb93fb0d] status: 200 exp: None\n",
      "[47e3c37425eea3000844bed24b715807] status: 200 exp: None\n",
      "[b6c7d08ffa3e1dabfeb11e59bffcb3ae] status: 200 exp: None\n",
      "[37ef7446661c497cb9ab4aafcdb8b498] status: 200 exp: None\n",
      "[56365595b98fbf6ebdec69637ceed400] status: 200 exp: None\n",
      "[3e4ef3099a60bf6f332a500aba8dd9d6] status: 200 exp: None\n",
      "[7ed0c3151405cbcf9ca113c31291ac0e8295750b1f4857867454debc45ec9c8a] status: 200 exp: None\n",
      "[20597abe0a2c4dbaadb0e09ce3939d4defe8d04e6d233bd35cf2fabdeb93fb0d] status: 200 exp: None\n",
      "[1e18436aa934c77939814844fc7e45ef] status: 200 exp: None\n",
      "[a80ee829ddc7deea68353d45476cde2b] status: 200 exp: None\n",
      "[54991595ba5164b612267e3b971c92b9efe8d04e6d233bd35cf2fabdeb93fb0d] status: 200 exp: None\n",
      "[ce391b1d265d7cacc04fcc7078fec475] status: 200 exp: None\n",
      "[e0e9bbdb29800094970a5f19809954eb] status: 200 exp: None\n",
      "[13bab48074ed0575ea59ab4f90f9f92d] status: 200 exp: None\n",
      "[beb4530d64f59d516f25f340741bbbd1efe8d04e6d233bd35cf2fabdeb93fb0d] status: 200 exp: None\n"
     ]
    },
    {
     "name": "stderr",
     "output_type": "stream",
     "text": [
      "🔄 경험치 조회 중:  84%|████████▍ | 546/651 [00:05<00:00, 110.27it/s]"
     ]
    },
    {
     "name": "stdout",
     "output_type": "stream",
     "text": [
      "[162f349cbe2440b9e49da39803636cc7] status: 200 exp: None\n",
      "[6ad0e80606cc0f5a5b332a709cfb8a65] status: 200 exp: None\n",
      "[f6471fe6b85fc0e2c14feb81f8d89e58] status: 200 exp: None\n",
      "[7f567c9f2ba19ab8dee953c341190830] status: 200 exp: None\n",
      "[bbacb4f92586dfc0adc4a2a897bcba00] status: 200 exp: None\n",
      "[0936fdb3700d0db4e6ab3cdb50895618efe8d04e6d233bd35cf2fabdeb93fb0d] status: 200 exp: None\n",
      "[a6903dbe12dec0229b99f5ec207eff32] status: 200 exp: None\n",
      "[5ef73b4c20cc289e010557e6bde4d6a9] status: 200 exp: None\n",
      "[9738d1edd6049073b4f7d46cf667e1a5] status: 200 exp: None\n",
      "[9a42d0041b945bf13409e8a3d5640b3f3663933da92e7566c55104ec9ac2894d] status: 200 exp: None\n",
      "[937db271e9a4cd0a1ae8f3e61726e2b0efe8d04e6d233bd35cf2fabdeb93fb0d] status: 200 exp: None\n",
      "[f2770f158960e6fc2502fa4130c9936c] status: 200 exp: None\n",
      "[b3ed705e813dc4af6f90b7b9ec9853ee] status: 200 exp: None\n",
      "[69ce0e21e6e13a43df1340f2673e2994] status: 200 exp: None\n",
      "[8edc9dfad0740a4de77a2372a3d78944] status: 200 exp: None\n",
      "[16660bb6e92638430fc3be0afaa254edefe8d04e6d233bd35cf2fabdeb93fb0d] status: 200 exp: None\n",
      "[a7b1fc3e2f50ad84f95d729de496b018] status: 200 exp: None\n",
      "[755ff45aaa6256c1bfea803ad00e7abcaae77432709819edb959e1fd5d1d77b4] status: 200 exp: None\n",
      "[094b9fe5c4e6b41601de69895389efa0] status: 200 exp: None\n",
      "[4fd4fbe2aefbcde68655ed2a7341f098] status: 200 exp: None\n",
      "[3cd1f1eb958697948fdf48be497f7ceaefe8d04e6d233bd35cf2fabdeb93fb0d] status: 200 exp: None\n",
      "[10af41a757d145d2b479a3aaff98de45efe8d04e6d233bd35cf2fabdeb93fb0d] status: 200 exp: None\n",
      "[1afeafcf5cd3fc0bdfa3f832a3ca63deefe8d04e6d233bd35cf2fabdeb93fb0d] status: 200 exp: None\n"
     ]
    },
    {
     "name": "stderr",
     "output_type": "stream",
     "text": [
      "🔄 경험치 조회 중:  86%|████████▌ | 558/651 [00:05<00:00, 101.85it/s]"
     ]
    },
    {
     "name": "stdout",
     "output_type": "stream",
     "text": [
      "[58b481c0bd0c1cdb0963e943c8ddf2e3efe8d04e6d233bd35cf2fabdeb93fb0d] status: 200 exp: None\n",
      "[85ca73ddc7be84a5925acefaac7950b0e85e07f9d5d276f44440847eec04ba68] status: 200 exp: None\n",
      "[8286fc5b1508c19b1d52c20fb0340c01] status: 200 exp: None\n",
      "[d8239662de86bf5fe7d4ebb1688071dfefe8d04e6d233bd35cf2fabdeb93fb0d] status: 200 exp: None\n",
      "[3b6b98fa213dd3dd88c84adb6e8e26ce] status: 200 exp: None\n",
      "[947edc64750f289becfdeee967d38fe4efe8d04e6d233bd35cf2fabdeb93fb0d] status: 200 exp: None\n",
      "[d54debfa8720f619637598c0d4854207] status: 200 exp: None\n",
      "[67ff15400652a9294f17fd378bef0319efe8d04e6d233bd35cf2fabdeb93fb0d] status: 200 exp: None\n",
      "[b05b539163ca69fab6acf246f77fc542] status: 200 exp: None\n",
      "[0754849b5f6a259d607d47428548e0938295750b1f4857867454debc45ec9c8a] status: 200 exp: None\n",
      "[0b06baf66f4797d3d3ecf8cd73c42af4efe8d04e6d233bd35cf2fabdeb93fb0d] status: 200 exp: None\n",
      "[4c7086e8d8f15ce1956df8e22829ee12efe8d04e6d233bd35cf2fabdeb93fb0d] status: 200 exp: None\n",
      "[bd58b25cb8bfd7e2ea757ffd33f2aeee] status: 200 exp: None\n",
      "[2ea30c76380a886412111249fc21a9cd] status: 200 exp: None\n",
      "[2782a137dfb26b748ddb792b44969a7cefe8d04e6d233bd35cf2fabdeb93fb0d] status: 200 exp: None\n",
      "[8a45e0a0c28d93122332ab08e3ed3d7c] status: 200 exp: None\n",
      "[da4c2c4ecd95a776528929fc5fdbb406efe8d04e6d233bd35cf2fabdeb93fb0d] status: 200 exp: None\n",
      "[dbdba657ef4a18c72282909a4de30a11efe8d04e6d233bd35cf2fabdeb93fb0d] status: 200 exp: None\n",
      "[7617459a699baf196edaeae3026e7c07efe8d04e6d233bd35cf2fabdeb93fb0d] status: 200 exp: None\n"
     ]
    },
    {
     "name": "stderr",
     "output_type": "stream",
     "text": [
      "🔄 경험치 조회 중:  89%|████████▉ | 580/651 [00:05<00:00, 91.12it/s] "
     ]
    },
    {
     "name": "stdout",
     "output_type": "stream",
     "text": [
      "[4a676bbdfc49c954ffe0eb17c7208585] status: 200 exp: None\n",
      "[8cdb44a02a592446355ceccab5fbae22] status: 200 exp: None\n",
      "[0dafd0466d914244a2883357445618a0] status: 200 exp: None\n",
      "[e65f0eb97323b0867e59523c8de5db46] status: 200 exp: None\n",
      "[86aa8acdb988da57739a66ea0fb8b97f] status: 200 exp: None\n",
      "[222bca4d5866e56884137dca31e21b16] status: 200 exp: None\n",
      "[79fae0525c2a90bc1dd067c0cb55c655] status: 200 exp: None\n",
      "[36aff8c0601b5f1adf5529ff43ed9380aae77432709819edb959e1fd5d1d77b4] status: 200 exp: None\n",
      "[7836e724f9d4ff21cb7288312ed382e8] status: 200 exp: None\n",
      "[a9aea13075515044b90d78f69f404980efe8d04e6d233bd35cf2fabdeb93fb0d] status: 200 exp: None\n",
      "[aa3a7ae92812f2aa4865018fe3dd3b5aefe8d04e6d233bd35cf2fabdeb93fb0d] status: 200 exp: None\n",
      "[90fafac03f952cc91da5779ee298edfafd842dab14be2a956555625b37c97bff] status: 200 exp: None\n",
      "[ecd510f527d2eb7c62fb8fc992850767] status: 200 exp: None\n",
      "[c2a37dd92402a31004b21f6942dbe154] status: 200 exp: None\n",
      "[4b4543a103893ced68f13a5436f73a77efe8d04e6d233bd35cf2fabdeb93fb0d] status: 200 exp: None\n",
      "[b8625d75c89defe44b01eaa1e9c1489c] status: 200 exp: None\n",
      "[b296655b980f768010e5cf38017f791f] status: 200 exp: None\n"
     ]
    },
    {
     "name": "stderr",
     "output_type": "stream",
     "text": [
      "🔄 경험치 조회 중:  92%|█████████▏| 601/651 [00:06<00:00, 89.31it/s]"
     ]
    },
    {
     "name": "stdout",
     "output_type": "stream",
     "text": [
      "[906bcb2d827ebe8fbce05581fee1a115] status: 200 exp: None\n",
      "[608ff13534b90ea325ab5dc28d813dd8] status: 200 exp: None\n",
      "[9b445d079fefc309d4571dd79d4cd5b1] status: 200 exp: None\n",
      "[acbc4a1bbb5310acf42d984153e0e5dd] status: 200 exp: None\n",
      "[9010f4964b68294efcd68bb528c1e1dc] status: 200 exp: None\n",
      "[670b744c231404965d00dc6216052e95] status: 200 exp: None\n",
      "[d09d4fba9f227c0ca90d92ae0c321a2e8295750b1f4857867454debc45ec9c8a] status: 200 exp: None\n",
      "[f6430c47001574897ca536db912c2920efe8d04e6d233bd35cf2fabdeb93fb0d] status: 200 exp: None\n",
      "[6bcba2ecfeaaaf5509dd0023a8f9d652] status: 200 exp: None\n",
      "[70209db38aa5163e127e983b59668839] status: 200 exp: None\n",
      "[9154cf9e881942bb6e0c7d5ab4aab98fefe8d04e6d233bd35cf2fabdeb93fb0d] status: 200 exp: None\n",
      "[afc44239434726fd7c47911fac918c35] status: 200 exp: None\n",
      "[3de3fe2e9606b7bdb416739499e57563c47ea5ffea2564f587ca830a8f71acb2] status: 200 exp: None\n",
      "[0dc934f51f34b1e4f2370521473278dc] status: 200 exp: None\n",
      "[f8bc9e5ee33139198270c14b80020af4] status: 200 exp: None\n",
      "[01ab4e073d9181229512e9e7e9aa7cad] status: 200 exp: None\n",
      "[c74c38ed39ffaffa4b66059700dc0d72] status: 200 exp: None\n"
     ]
    },
    {
     "name": "stderr",
     "output_type": "stream",
     "text": [
      "🔄 경험치 조회 중:  94%|█████████▍| 611/651 [00:06<00:00, 86.84it/s]"
     ]
    },
    {
     "name": "stdout",
     "output_type": "stream",
     "text": [
      "[98b3f33b9a74e5441ae5e32af3d5e0c3] status: 200 exp: None\n",
      "[9e59adf7ba98c6201001d4c86e47756befe8d04e6d233bd35cf2fabdeb93fb0d] status: 200 exp: None\n",
      "[38d14083b13bb8faa27ab12b97a4fa63efe8d04e6d233bd35cf2fabdeb93fb0d] status: 200 exp: None\n",
      "[ab563491309ec184b177f806de6208dc] status: 200 exp: None\n",
      "[e3889a2c8c991a0ddb7eb77508a71f2a] status: 200 exp: None\n",
      "[54020e7728c3cd9ffb55a9507b4f0cf4] status: 200 exp: None\n",
      "[0feb99049d65affc6f6f1e7fb6f09d97] status: 200 exp: None\n",
      "[304503d930596a98cc9a2c8c1b8240ba] status: 200 exp: None\n",
      "[05c3b6a171a7dbf1e229f298d0fd265aefe8d04e6d233bd35cf2fabdeb93fb0d] status: 200 exp: None\n",
      "[66b8167196ed44dca523fd77a527ef7cefe8d04e6d233bd35cf2fabdeb93fb0d] status: 200 exp: None\n",
      "[2ed25cac16557781bed35bad14b6b6d2efe8d04e6d233bd35cf2fabdeb93fb0d] status: 200 exp: None\n",
      "[23233041694c48c4c1fb91e75726aa62] status: 200 exp: None\n",
      "[bee786cb8165f0635cad9795cbe4b2f6efe8d04e6d233bd35cf2fabdeb93fb0d] status: 200 exp: None\n",
      "[7dc2166e154895063fc3dc2e6e07c4a5efe8d04e6d233bd35cf2fabdeb93fb0d] status: 200 exp: None\n",
      "[20f3823e09c25021b9a4c5cbaf5321b9efe8d04e6d233bd35cf2fabdeb93fb0d] status: 200 exp: None\n",
      "[d2570cc73e99c759cca8f3d46bd9a479efe8d04e6d233bd35cf2fabdeb93fb0d] status: 200 exp: None\n",
      "[371fa8f8fa88ace73759dd0c19d32320] status: 200 exp: None\n",
      "[51d07a9914dd0b2d8f5bd550f13ee35a6fbb98200a15be5bcc73a64995849e9c] status: 200 exp: None\n",
      "[2fa2ea56aa99f08fe91bd1c596447f14efe8d04e6d233bd35cf2fabdeb93fb0d] status: 200 exp: None\n",
      "[054dbca84db1f0f66650927216955da7] status: 200 exp: None\n",
      "[9d847cc75d2c69240bd13f8e6430b925] status: 200 exp: None\n"
     ]
    },
    {
     "name": "stderr",
     "output_type": "stream",
     "text": [
      "🔄 경험치 조회 중:  97%|█████████▋| 633/651 [00:06<00:00, 91.99it/s]"
     ]
    },
    {
     "name": "stdout",
     "output_type": "stream",
     "text": [
      "[967fe723c2df7367fe5cad6f2b316985] status: 200 exp: None\n",
      "[02944b65b633580ba6853b362be13df9] status: 200 exp: None\n",
      "[98fa394d95ccbc857d023930b6f151d9] status: 200 exp: None\n",
      "[76af8e252220d1851b8a84f4b4163f52] status: 200 exp: None\n",
      "[e36fae2cbe6647fe1fe9813616f650f2] status: 200 exp: None\n",
      "[16e2569061218a20d8064315f724d3ecefe8d04e6d233bd35cf2fabdeb93fb0d] status: 200 exp: None\n",
      "[9ae0ce6fe16518350a224d6039f3aca8efe8d04e6d233bd35cf2fabdeb93fb0d] status: 200 exp: None\n",
      "[01c7dda3193c63b3a697bcdf40e724ce] status: 200 exp: None\n",
      "[2c7355e7e74c909c67ae423e8433f16befe8d04e6d233bd35cf2fabdeb93fb0d] status: 200 exp: None\n",
      "[caa5b2b50ea397e33f856765d9d85cf6] status: 200 exp: None\n",
      "[7a407cf0a9442e3d479ab7ec8b1fa10b] status: 200 exp: None\n",
      "[d9e389f8540117b0b20a8200de87f6ae] status: 200 exp: None\n",
      "[502273dd96c7587624619c4ec6cf5f80efe8d04e6d233bd35cf2fabdeb93fb0d] status: 200 exp: None\n",
      "[bdda848edd65fb2d2ee18d3aa6c14ab0] status: 200 exp: None\n",
      "[3cec61013b749bbf8958971a62f08381fd842dab14be2a956555625b37c97bff] status: 200 exp: None\n",
      "[d9fd27a2b9aef368cfbff1afc804b415] status: 200 exp: None\n",
      "[3344328a23435156e6836376b74ec3e5] status: 200 exp: None\n"
     ]
    },
    {
     "name": "stderr",
     "output_type": "stream",
     "text": [
      "🔄 경험치 조회 중:  99%|█████████▉| 643/651 [00:06<00:00, 81.16it/s]"
     ]
    },
    {
     "name": "stdout",
     "output_type": "stream",
     "text": [
      "[d6e066669e2f2b6ad4d8b96e0f78a07c] status: 200 exp: None\n",
      "[df0e082a1fcd341ddde0677dc82f005a86e68d4012202d0434d05f81868f68e3] status: 200 exp: None\n",
      "[e9d8037a8d6bc61b6b421a652ae001e1efe8d04e6d233bd35cf2fabdeb93fb0d] status: 200 exp: None\n",
      "[4357f7c196bf94bd6c9db7f1a115bd8e8295750b1f4857867454debc45ec9c8a] status: 200 exp: None\n",
      "[3c7ac994fb8e3cb0ca8dc9bb373cb2ab8295750b1f4857867454debc45ec9c8a] status: 200 exp: None\n",
      "[664fe4f14c09ba79a24919b11c65092f] status: 200 exp: None\n",
      "[4207fa1533dffdcd10a95d10061a9bd2] status: 200 exp: None\n",
      "[6f926a6c39a204a4c35862b94183d4f6efe8d04e6d233bd35cf2fabdeb93fb0d] status: 200 exp: None\n",
      "[b98ac4f02f16fbadc149e4667ef6f094efe8d04e6d233bd35cf2fabdeb93fb0d] status: 200 exp: None\n",
      "[6f9972944906407e76005a5adc0b704cfd842dab14be2a956555625b37c97bff] status: 200 exp: None\n",
      "[7c1e7f507da23afa47027b4d83c6bbaa] status: 200 exp: None\n"
     ]
    },
    {
     "name": "stderr",
     "output_type": "stream",
     "text": [
      "🔄 경험치 조회 중: 100%|██████████| 651/651 [00:06<00:00, 96.85it/s]"
     ]
    },
    {
     "name": "stdout",
     "output_type": "stream",
     "text": [
      "[62a76fdd3e735c27453a3bbca1d76a62] status: 200 exp: None\n"
     ]
    },
    {
     "name": "stderr",
     "output_type": "stream",
     "text": [
      "\n"
     ]
    }
   ],
   "source": [
    "import pandas as pd\n",
    "import requests\n",
    "import time\n",
    "from concurrent.futures import ThreadPoolExecutor, as_completed\n",
    "from tqdm import tqdm\n",
    "API_KEY = \"live_6da477cce0d1ca918d4917fc55b8268d0849d7b5746a5e7acdace78398868480efe8d04e6d233bd35cf2fabdeb93fb0d\"\n",
    "headers = {\"x-nxopen-api-key\": API_KEY}\n",
    "\n",
    "# ocid 목록 (NaN 경험치였던 유저들)\n",
    "df = pd.read_csv(\"exp_1010_null_rows.csv\")  # 또는 df[df[\"character_exp\"].isna()]\n",
    "ocid_list = df[\"ocid\"].dropna().unique().tolist()\n",
    "target_date = \"2024-10-10\"\n",
    "# 결과 저장 리스트\n",
    "results = []\n",
    "\n",
    "# 호출 함수 정의\n",
    "def fetch_character_exp(ocid):\n",
    "    url = f\"https://open.api.nexon.com/maplestory/v1/character/basic?ocid={ocid}&date={target_date}\"\n",
    "    try:\n",
    "        res = requests.get(url, headers=headers, timeout=5)\n",
    "        if res.status_code == 200:\n",
    "            data = res.json()\n",
    "            return {\n",
    "                \"ocid\": ocid,\n",
    "                \"date\": target_date,\n",
    "                \"character_exp\": data.get(\"character_exp\"),\n",
    "                \"status_code\": res.status_code\n",
    "            }\n",
    "        else:\n",
    "            return {\n",
    "                \"ocid\": ocid,\n",
    "                \"date\": target_date,\n",
    "                \"character_exp\": None,\n",
    "                \"status_code\": res.status_code\n",
    "            }\n",
    "    except Exception as e:\n",
    "        return {\n",
    "            \"ocid\": ocid,\n",
    "            \"date\": target_date,\n",
    "            \"character_exp\": None,\n",
    "            \"status_code\": str(e)\n",
    "        }\n",
    "\n",
    "# 병렬 처리 실행\n",
    "with ThreadPoolExecutor(max_workers=5) as executor:  # API 초당 5건 제한\n",
    "    futures = [executor.submit(fetch_character_exp, ocid) for ocid in ocid_list]\n",
    "    for f in tqdm(as_completed(futures), total=len(futures), desc=\"🔄 경험치 조회 중\"):\n",
    "        result = f.result()\n",
    "        results.append(result)\n",
    "        print(f\"[{result['ocid']}] status: {result['status_code']} exp: {result['character_exp']}\")\n",
    "\n",
    "# 저장\n",
    "df_result = pd.DataFrame(results)\n",
    "df_result.to_csv(\"character_exp_20241010_checked_parallel.csv\", index=False)\n"
   ]
  },
  {
   "cell_type": "code",
   "execution_count": 3,
   "id": "6d27290c-bc40-42a2-a0e4-6578734403b5",
   "metadata": {},
   "outputs": [
    {
     "name": "stdout",
     "output_type": "stream",
     "text": [
      "ocid               0\n",
      "date               0\n",
      "character_exp    651\n",
      "status_code        0\n",
      "dtype: int64\n"
     ]
    }
   ],
   "source": [
    "print(df2.isnull().sum())"
   ]
  },
  {
   "cell_type": "code",
   "execution_count": 89,
   "id": "9dc10ae8-f3d1-426c-b6fe-6e0f4b1e79e7",
   "metadata": {},
   "outputs": [
    {
     "name": "stdout",
     "output_type": "stream",
     "text": [
      "✅ 저장 완료:\n",
      "- 변화 있음: final_data_changed_only.csv\n",
      "- 변화 없음 (exp_1010 포함): final_data_unchanged_only_with_exp1010.csv\n"
     ]
    }
   ],
   "source": [
    "import pandas as pd\n",
    "\n",
    "# 1. 파일 불러오기\n",
    "df_1010 = pd.read_csv(\"character_exp_20241010.csv\")  # ocid, character_exp\n",
    "df_final = pd.read_csv(\"final_data.csv\")  # ocid + character_exp_1017 or 유사 컬럼\n",
    "\n",
    "# 2. 컬럼명 정리\n",
    "df_1010 = df_1010.rename(columns={\"character_exp\": \"exp_1010\"})\n",
    "\n",
    "# 3. 1017쪽 경험치 컬럼 자동 탐색\n",
    "exp_col_1017 = None\n",
    "for col in df_final.columns:\n",
    "    if \"exp\" in col and \"1017\" in col:\n",
    "        exp_col_1017 = col\n",
    "        break\n",
    "if exp_col_1017 is None:\n",
    "    exp_col_1017 = [col for col in df_final.columns if \"exp\" in col][0]\n",
    "\n",
    "df_final = df_final.rename(columns={exp_col_1017: \"exp_1017\"})\n",
    "\n",
    "# 4. 병합\n",
    "df_merged = pd.merge(df_1010[[\"ocid\", \"exp_1010\"]], df_final, on=\"ocid\", how=\"inner\")\n",
    "\n",
    "# 5. 경험치 변화 여부\n",
    "df_merged[\"exp_changed\"] = df_merged[\"exp_1010\"] != df_merged[\"exp_1017\"]\n",
    "\n",
    "# 6. 분리\n",
    "df_changed = df_merged[df_merged[\"exp_changed\"] == True].drop(columns=[\"exp_changed\"])\n",
    "df_unchanged = df_merged[df_merged[\"exp_changed\"] == False].drop(columns=[\"exp_changed\"])\n",
    "\n",
    "# 7. 저장\n",
    "df_changed.to_csv(\"final_data_changed_only.csv\", index=False, encoding=\"utf-8-sig\")\n",
    "df_unchanged.to_csv(\"final_data_unchanged_only_with_exp1010.csv\", index=False, encoding=\"utf-8-sig\")\n",
    "\n",
    "print(\"✅ 저장 완료:\")\n",
    "print(\"- 변화 있음: final_data_changed_only.csv\")\n",
    "print(\"- 변화 없음 (exp_1010 포함): final_data_unchanged_only_with_exp1010.csv\")\n"
   ]
  },
  {
   "cell_type": "code",
   "execution_count": null,
   "id": "e1c53884-38b1-42fa-aa63-c29ab095732d",
   "metadata": {},
   "outputs": [],
   "source": []
  }
 ],
 "metadata": {
  "kernelspec": {
   "display_name": "Python 3 (ipykernel)",
   "language": "python",
   "name": "python3"
  },
  "language_info": {
   "codemirror_mode": {
    "name": "ipython",
    "version": 3
   },
   "file_extension": ".py",
   "mimetype": "text/x-python",
   "name": "python",
   "nbconvert_exporter": "python",
   "pygments_lexer": "ipython3",
   "version": "3.12.3"
  }
 },
 "nbformat": 4,
 "nbformat_minor": 5
}
