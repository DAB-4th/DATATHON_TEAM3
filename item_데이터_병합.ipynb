{
  "nbformat": 4,
  "nbformat_minor": 0,
  "metadata": {
    "colab": {
      "provenance": [],
      "machine_shape": "hm",
      "gpuType": "T4"
    },
    "kernelspec": {
      "name": "python3",
      "display_name": "Python 3"
    },
    "language_info": {
      "name": "python"
    },
    "accelerator": "GPU"
  },
  "cells": [
    {
      "cell_type": "code",
      "execution_count": null,
      "metadata": {
        "colab": {
          "base_uri": "https://localhost:8080/"
        },
        "id": "2cs1G9YFlsLo",
        "outputId": "2c67ca4b-11e0-49a1-e54b-af6a024d9788"
      },
      "outputs": [
        {
          "output_type": "stream",
          "name": "stdout",
          "text": [
            "Mounted at /content/drive\n"
          ]
        }
      ],
      "source": [
        "# 구글 드라이브 마운트\n",
        "from google.colab import drive\n",
        "drive.mount('/content/drive')"
      ]
    },
    {
      "cell_type": "code",
      "source": [
        "import pandas as pd\n",
        "import glob\n",
        "import os\n",
        "\n",
        "# 루트 경로\n",
        "base_path = \"/content/drive/MyDrive/data/item\"\n",
        "\n",
        "# 모든 직업군 폴더 경로 추출\n",
        "job_folders = [os.path.join(base_path, folder) for folder in os.listdir(base_path) if os.path.isdir(os.path.join(base_path, folder))]\n",
        "\n",
        "# 모든 CSV 파일 경로 수집\n",
        "csv_files = []\n",
        "for folder in job_folders:\n",
        "    csv_files.extend(glob.glob(os.path.join(folder, \"*.csv\")))\n",
        "\n",
        "# CSV 파일 읽어서 병합\n",
        "df_list = [pd.read_csv(file) for file in csv_files]\n",
        "merged_df = pd.concat(df_list, ignore_index=True)\n",
        "\n",
        "# 결과 확인\n",
        "print(f\"병합된 총 행 수: {merged_df.shape[0]}\")\n",
        "print(f\"열 구성: {merged_df.columns.tolist()}\")"
      ],
      "metadata": {
        "colab": {
          "base_uri": "https://localhost:8080/"
        },
        "id": "AtMFRJjUhgXv",
        "outputId": "d6938ee3-0422-4f21-909e-9a23dcab3255"
      },
      "execution_count": null,
      "outputs": [
        {
          "output_type": "stream",
          "name": "stdout",
          "text": [
            "병합된 총 행 수: 3193715\n",
            "열 구성: ['nickname', 'world', 'level', 'job', 'subclass', 'preset_number', 'equipment_part', 'equipment_slot', 'item_name', 'str_total', 'dex_total', 'int_total', 'luk_total', 'max_hp_total', 'max_mp_total', 'attack_power_total', 'magic_power_total', 'armor_total', 'speed_total', 'jump_total', 'boss_damage_total', 'ignore_monster_armor_total', 'all_stat_total', 'damage_total', 'equipment_level_decrease_total', 'max_hp_rate_total', 'max_mp_rate_total', 'str_base', 'dex_base', 'int_base', 'luk_base', 'max_hp_base', 'max_mp_base', 'attack_power_base', 'magic_power_base', 'armor_base', 'speed_base', 'jump_base', 'boss_damage_base', 'ignore_monster_armor_base', 'all_stat_base', 'max_hp_rate_base', 'max_mp_rate_base', 'base_equipment_level_base', 'potential_option_grade', 'additional_potential_option_grade', 'potential_option_1', 'potential_option_2', 'potential_option_3', 'additional_potential_option_1', 'additional_potential_option_2', 'additional_potential_option_3', 'equipment_level_increase', 'str_exceptional', 'dex_exceptional', 'int_exceptional', 'luk_exceptional', 'max_hp_exceptional', 'max_mp_exceptional', 'attack_power_exceptional', 'magic_power_exceptional', 'exceptional_upgrade', 'str_add', 'dex_add', 'int_add', 'luk_add', 'max_hp_add', 'max_mp_add', 'attack_power_add', 'magic_power_add', 'armor_add', 'speed_add', 'jump_add', 'boss_damage_add', 'damage_add', 'all_stat_add', 'equipment_level_decrease_add', 'str_etc', 'dex_etc', 'int_etc', 'luk_etc', 'max_hp_etc', 'max_mp_etc', 'attack_power_etc', 'magic_power_etc', 'armor_etc', 'speed_etc', 'jump_etc', 'starforce', 'starforce_scroll_flag', 'str_starforce', 'dex_starforce', 'int_starforce', 'luk_starforce', 'max_hp_starforce', 'max_mp_starforce', 'attack_power_starforce', 'magic_power_starforce', 'armor_starforce', 'speed_starforce', 'jump_starforce', 'special_ring_level', 'growth_exp', 'growth_level', 'scroll_upgrade', 'cuttable_count', 'golden_hammer_flag', 'scroll_resilience_count', 'scroll_upgradeable_count', 'soul_name', 'soul_option']\n"
          ]
        }
      ]
    },
    {
      "cell_type": "code",
      "source": [
        "# CSV 저장\n",
        "save_path = \"/content/drive/MyDrive/data/merged/item_merged2.csv\" # 저장 경로 수정해주세요\n",
        "merged_df.to_csv(save_path, index=False, encoding=\"utf-8-sig\")\n",
        "\n",
        "print(f\"CSV 저장 완료: {save_path}\")"
      ],
      "metadata": {
        "colab": {
          "base_uri": "https://localhost:8080/"
        },
        "id": "RNUjCjwKjIDL",
        "outputId": "290f74a2-9626-4fd4-d62b-6ad515d7d6b5"
      },
      "execution_count": null,
      "outputs": [
        {
          "output_type": "stream",
          "name": "stdout",
          "text": [
            "CSV 저장 완료: /content/drive/MyDrive/data/merged/item_merged2.csv\n"
          ]
        }
      ]
    },
    {
      "cell_type": "code",
      "source": [
        "# item 통합 파일 불러오기\n",
        "\n",
        "import pandas as pd\n",
        "df = pd.read_csv(\"/content/drive/MyDrive/data/merged/item_merged2.csv\")"
      ],
      "metadata": {
        "id": "0ReFW6gfl6Wz",
        "collapsed": true
      },
      "execution_count": null,
      "outputs": []
    },
    {
      "cell_type": "code",
      "source": [
        "# 메이플의 장비 프리셋은 총 3개 -> 가장 추가옵션이 높은 프리셋 하나만 사용하여 분석하기\n",
        "\n",
        "# --- 1. 주스탯 매핑 ---\n",
        "main_stat_map = {\n",
        "    \"STR\": [\"히어로\", \"아델\", \"소울마스터\", \"아란\", \"제로\", \"팔라딘\", \"다크나이트\", \"카이저\",\n",
        "            \"데몬슬레이어\", \"미하일\", \"블래스터\", \"은월\", \"바이퍼\", \"스트라이커\", \"캐논마스터\", \"아크\"],\n",
        "    \"DEX\": [\"윈드브레이커\", \"메르세데스\", \"보우마스터\", \"패스파인더\", \"신궁\", \"카인\", \"와일드헌터\",\n",
        "            \"엔젤릭버스터\", \"캡틴\", \"메카닉\"],\n",
        "    \"INT\": [\"비숍\", \"아크메이지(불,독)\", \"아크메이지(썬,콜)\", \"라라\", \"배틀메이지\", \"에반\", \"루미너스\",\n",
        "            \"키네시스\", \"플레임위자드\", \"일리움\"],\n",
        "    \"LUK\": [\"나이트워커\", \"섀도어\", \"나이트로드\", \"듀얼블레이더\", \"팬텀\", \"호영\", \"칼리\", \"카데나\"],\n",
        "    \"HP\": [\"데몬어벤져\"],\n",
        "    \"ALL\": [\"제논\"]  # 제논은 따로 계산 분기\n",
        "}\n",
        "\n",
        "# --- 2. 주스탯 판별 함수 ---\n",
        "def get_main_stat(row):\n",
        "    for stat, jobs in main_stat_map.items():\n",
        "        if row[\"job\"] in jobs:\n",
        "            return stat\n",
        "    return None\n",
        "\n",
        "# --- 3. 보너스 추옵 계산 함수 ---\n",
        "def calculate_bonus_stat(row):\n",
        "    stat = row[\"main_stat_type\"]\n",
        "    if stat is None:\n",
        "        return 0\n",
        "    allstat = row[\"all_stat_add\"] * 10\n",
        "    if stat == \"INT\":\n",
        "        return row[\"int_add\"] + allstat + row[\"magic_power_add\"] * 4\n",
        "    elif stat == \"HP\":\n",
        "        return row[\"attack_power_add\"] * 150 + row[\"max_hp_add\"] + allstat\n",
        "    elif stat == \"ALL\":  # 제논\n",
        "        return (\n",
        "            row[\"str_add\"] +\n",
        "            row[\"dex_add\"] +\n",
        "            row[\"luk_add\"] +\n",
        "            row[\"attack_power_add\"] * 4 +\n",
        "            allstat\n",
        "        )\n",
        "    else:  # STR / DEX / LUK\n",
        "        return row[f\"{stat.lower()}_add\"] + allstat + row[\"attack_power_add\"] * 4\n",
        "\n",
        "# --- 4. main_stat_type 및 bonus_stat_total 계산 ---\n",
        "df[\"main_stat_type\"] = df.apply(get_main_stat, axis=1)\n",
        "df[\"bonus_stat_total\"] = df.apply(calculate_bonus_stat, axis=1)\n",
        "\n",
        "# --- 5. preset별 bonus 총합 계산 (nickname + preset_number) ---\n",
        "preset_scores = (\n",
        "    df.groupby([\"nickname\", \"preset_number\"])[\"bonus_stat_total\"]\n",
        "    .sum()\n",
        "    .reset_index(name=\"preset_score\")\n",
        ")\n",
        "\n",
        "# --- 6. nickname별로 bonus 총합이 가장 높은 프리셋 선택 ---\n",
        "best_preset = (\n",
        "    preset_scores.loc[preset_scores.groupby(\"nickname\")[\"preset_score\"].idxmax()]\n",
        "    .reset_index(drop=True)\n",
        ")\n",
        "\n",
        "# --- 7. 최적 preset의 모든 장비 정보 추출 ---\n",
        "df_preset = df.merge(\n",
        "    best_preset[[\"nickname\", \"preset_number\"]],\n",
        "    on=[\"nickname\", \"preset_number\"],\n",
        "    how=\"inner\"\n",
        ")\n",
        "\n",
        "# ✅ 결과 확인\n",
        "print(df_preset.shape)\n",
        "print(df_preset['nickname'].nunique(), \"명의 유저의 최고 프리셋이 추출됨\")\n",
        "print(\"예시 유저 장비 수 (24개여야 정상):\")\n",
        "print(df_preset.groupby(\"nickname\")[\"equipment_slot\"].nunique().value_counts())"
      ],
      "metadata": {
        "colab": {
          "base_uri": "https://localhost:8080/"
        },
        "id": "F1CC1UAbzBTf",
        "outputId": "ceb62d02-5bb3-4786-ab07-41849745f29b",
        "collapsed": true
      },
      "execution_count": null,
      "outputs": [
        {
          "output_type": "stream",
          "name": "stdout",
          "text": [
            "(1063724, 113)\n",
            "45938 명의 유저의 최고 프리셋이 추출됨\n",
            "예시 유저 장비 수 (24개여야 정상):\n",
            "equipment_slot\n",
            "24    38589\n",
            "23     3222\n",
            "22      787\n",
            "21      534\n",
            "20      293\n",
            "8       250\n",
            "10      246\n",
            "9       246\n",
            "7       226\n",
            "11      214\n",
            "19      195\n",
            "18      157\n",
            "12      152\n",
            "13      128\n",
            "15      127\n",
            "14      121\n",
            "6       120\n",
            "17      116\n",
            "16      112\n",
            "5        35\n",
            "1        22\n",
            "2        18\n",
            "4        17\n",
            "3        11\n",
            "Name: count, dtype: int64\n"
          ]
        }
      ]
    },
    {
      "cell_type": "code",
      "source": [
        "# CSV 저장\n",
        "save_path = \"/content/drive/MyDrive/data/preprocessing/item.csv\" # 저장 경로 수정해주세요\n",
        "df_preset.to_csv(save_path, index=False, encoding=\"utf-8-sig\")\n",
        "\n",
        "print(f\"CSV 저장 완료: {save_path}\")"
      ],
      "metadata": {
        "id": "utZtOttPl6bl",
        "colab": {
          "base_uri": "https://localhost:8080/"
        },
        "collapsed": true,
        "outputId": "49802f8d-e3ab-4a1b-f006-1894619463af"
      },
      "execution_count": null,
      "outputs": [
        {
          "output_type": "stream",
          "name": "stdout",
          "text": [
            "CSV 저장 완료: /content/drive/MyDrive/data/preprocessing/item.csv\n"
          ]
        }
      ]
    }
  ]
}