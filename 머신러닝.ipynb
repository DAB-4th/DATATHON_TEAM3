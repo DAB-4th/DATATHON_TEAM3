{
 "cells": [
  {
   "cell_type": "code",
   "execution_count": 1,
   "id": "f0538636-f019-4d61-a1bb-59760441b489",
   "metadata": {},
   "outputs": [],
   "source": [
    "import matplotlib.pyplot as plt\n",
    "import matplotlib.font_manager as fm\n",
    "import seaborn as sns\n",
    "\n",
    "# 1. 정확한 경로에서 폰트 불러오기\n",
    "font_path = \"C:/Windows/Fonts/malgun.ttf\"  # '맑은 고딕' 경로\n",
    "font_prop = fm.FontProperties(fname=font_path)\n",
    "\n",
    "# 2. 전체 설정 적용 (폰트 이름 직접 명시)\n",
    "plt.rcParams[\"font.family\"] = font_prop.get_name()\n",
    "plt.rcParams[\"axes.unicode_minus\"] = False\n",
    "sns.set(style=\"whitegrid\")\n",
    "plt.rcParams[\"figure.figsize\"] = (10, 5)\n",
    "\n"
   ]
  },
  {
   "cell_type": "code",
   "execution_count": 2,
   "id": "d9908328-feff-42b0-a242-363073ec1002",
   "metadata": {},
   "outputs": [],
   "source": [
    "import matplotlib.pyplot as plt\n",
    "import matplotlib.font_manager as fm\n",
    "import seaborn as sns\n",
    "\n",
    "# 1. 정확한 폰트 경로\n",
    "font_path = \"C:/Windows/Fonts/malgun.ttf\"\n",
    "font_prop = fm.FontProperties(fname=font_path)\n",
    "plt.rcParams[\"font.family\"] = font_prop.get_name()  # ✅ 핵심\n",
    "plt.rcParams[\"axes.unicode_minus\"] = False\n"
   ]
  },
  {
   "cell_type": "code",
   "execution_count": 65,
   "id": "b1ab3b75-b101-48c7-89bf-669f8f738535",
   "metadata": {},
   "outputs": [],
   "source": [
    "import pandas as pd\n",
    "# 1. 데이터 불러오기\n",
    "df = pd.read_csv(\"고정스냅샷(10월17일).csv\", low_memory=False)"
   ]
  },
  {
   "cell_type": "code",
   "execution_count": 13,
   "id": "0e3af116-552a-47f4-b15c-fccba64769ce",
   "metadata": {},
   "outputs": [
    {
     "ename": "NameError",
     "evalue": "name 'df2' is not defined",
     "output_type": "error",
     "traceback": [
      "\u001b[1;31m---------------------------------------------------------------------------\u001b[0m",
      "\u001b[1;31mNameError\u001b[0m                                 Traceback (most recent call last)",
      "Cell \u001b[1;32mIn[13], line 1\u001b[0m\n\u001b[1;32m----> 1\u001b[0m df2\u001b[38;5;241m.\u001b[39minfo()\n",
      "\u001b[1;31mNameError\u001b[0m: name 'df2' is not defined"
     ]
    }
   ],
   "source": [
    "df."
   ]
  },
  {
   "cell_type": "code",
   "execution_count": 58,
   "id": "47f7a13f-9a8f-4250-ac2d-37688c45e390",
   "metadata": {},
   "outputs": [
    {
     "data": {
      "text/html": [
       "<div>\n",
       "<style scoped>\n",
       "    .dataframe tbody tr th:only-of-type {\n",
       "        vertical-align: middle;\n",
       "    }\n",
       "\n",
       "    .dataframe tbody tr th {\n",
       "        vertical-align: top;\n",
       "    }\n",
       "\n",
       "    .dataframe thead th {\n",
       "        text-align: right;\n",
       "    }\n",
       "</style>\n",
       "<table border=\"1\" class=\"dataframe\">\n",
       "  <thead>\n",
       "    <tr style=\"text-align: right;\">\n",
       "      <th></th>\n",
       "      <th>character_exp</th>\n",
       "      <th>event</th>\n",
       "    </tr>\n",
       "  </thead>\n",
       "  <tbody>\n",
       "    <tr>\n",
       "      <th>character_exp</th>\n",
       "      <td>1.000000</td>\n",
       "      <td>-0.105475</td>\n",
       "    </tr>\n",
       "    <tr>\n",
       "      <th>event</th>\n",
       "      <td>-0.105475</td>\n",
       "      <td>1.000000</td>\n",
       "    </tr>\n",
       "  </tbody>\n",
       "</table>\n",
       "</div>"
      ],
      "text/plain": [
       "               character_exp     event\n",
       "character_exp       1.000000 -0.105475\n",
       "event              -0.105475  1.000000"
      ]
     },
     "execution_count": 58,
     "metadata": {},
     "output_type": "execute_result"
    }
   ],
   "source": [
    "df[[\"character_exp\", \"event\"]].corr()"
   ]
  },
  {
   "cell_type": "code",
   "execution_count": 66,
   "id": "959c2bcc-75ea-49a0-95db-4f49647227f0",
   "metadata": {},
   "outputs": [],
   "source": [
    "df = df[df[\"character_class_level\"] >= 6].copy()"
   ]
  },
  {
   "cell_type": "code",
   "execution_count": 67,
   "id": "b9c3364f-256f-4d72-b70f-ff43ff1ea78b",
   "metadata": {},
   "outputs": [
    {
     "name": "stdout",
     "output_type": "stream",
     "text": [
      "제로 유저 평균 인기도: 2430.50\n",
      "비제로 유저 평균 인기도: 376.45\n"
     ]
    }
   ],
   "source": [
    "# 제로 유저 여부 구분\n",
    "df[\"is_zero\"] = (df[\"character_class\"] == \"제로\").astype(int)\n",
    "\n",
    "# 제로 유저 평균 인기도\n",
    "zero_popularity_mean = df.loc[df[\"is_zero\"] == 1, \"popularity\"].mean()\n",
    "\n",
    "# 비제로 유저 평균 인기도\n",
    "nonzero_popularity_mean = df.loc[df[\"is_zero\"] == 0, \"popularity\"].mean()\n",
    "\n",
    "print(f\"제로 유저 평균 인기도: {zero_popularity_mean:.2f}\")\n",
    "print(f\"비제로 유저 평균 인기도: {nonzero_popularity_mean:.2f}\")\n"
   ]
  },
  {
   "cell_type": "code",
   "execution_count": 71,
   "id": "642f4072-e35f-4699-8e09-37631fc1faf9",
   "metadata": {},
   "outputs": [],
   "source": [
    "# 1. popularity → 숫자 변환\n",
    "df[\"popularity_clean\"] = pd.to_numeric(df[\"popularity\"], errors=\"coerce\")\n",
    "\n",
    "# 2. 제로 유저 제외\n",
    "df[\"is_zero\"] = (df[\"character_class\"] == \"제로\").astype(int)\n",
    "\n",
    "# 3. 제로 유저 NaN 처리\n",
    "df.loc[df[\"is_zero\"] == 1, \"popularity_clean\"] = np.nan\n",
    "\n",
    "# 4. Z-score 정규화 (음수 포함)\n",
    "def safe_zscore(x):\n",
    "    if x.std() == 0 or np.isnan(x.std()):\n",
    "        return np.nan\n",
    "    return (x - x.mean()) / x.std()\n",
    "\n",
    "df[\"popularity_zscore\"] = df.groupby(\"character_class\")[\"popularity_clean\"].transform(safe_zscore)\n"
   ]
  },
  {
   "cell_type": "code",
   "execution_count": 72,
   "id": "23815b3f-3292-48c9-9190-5480f3ac4dba",
   "metadata": {},
   "outputs": [
    {
     "name": "stdout",
     "output_type": "stream",
     "text": [
      "level_segment\n",
      "270-274    55324\n",
      "275-279    57776\n",
      "280-284    56979\n",
      "285-289    33111\n",
      "290+        5622\n",
      "Name: count, dtype: int64\n"
     ]
    }
   ],
   "source": [
    "# 1. 구간 경계 정의\n",
    "bins = [270, 275, 280, 285, 290, 300]  # 마지막은 290+용 상한선\n",
    "labels = [\"270-274\", \"275-279\", \"280-284\", \"285-289\", \"290+\"]\n",
    "\n",
    "# 2. 구간 나누기 (right=False → 왼쪽 포함, 오른쪽 미포함)\n",
    "df[\"level_segment\"] = pd.cut(df[\"character_level\"], bins=bins, labels=labels, right=False)\n",
    "\n",
    "# 3. 구간별 인원 수 확인\n",
    "print(df[\"level_segment\"].value_counts().sort_index())\n"
   ]
  },
  {
   "cell_type": "code",
   "execution_count": 74,
   "id": "d9c16b04-548e-4bf7-84bf-04a9d49e2901",
   "metadata": {},
   "outputs": [],
   "source": [
    "# 1. 원핫 인코딩 (drop_first=True → 첫 구간은 기준으로 제외됨)\n",
    "level_dummies = pd.get_dummies(df[\"level_segment\"], prefix=\"level\", drop_first=True)"
   ]
  },
  {
   "cell_type": "code",
   "execution_count": 75,
   "id": "18e81473-aa63-47bb-be56-2f23f21e224c",
   "metadata": {},
   "outputs": [],
   "source": [
    "df[\"liberation_flag\"] = df[\"liberation_quest_clear_flag\"].astype(int)"
   ]
  },
  {
   "cell_type": "code",
   "execution_count": 76,
   "id": "6eb61594-e66a-4a27-888f-f2103b7fdb48",
   "metadata": {},
   "outputs": [],
   "source": [
    "# 1. 무릉 도장 도전 여부 (기록 1층 이상이면 도전한 것)\n",
    "df[\"dojang_active_flag\"] = (df[\"dojang_best_floor\"] > 0).astype(int)\n",
    "\n",
    "# 2. 진성유저 기준 무릉 40층 이상 여부\n",
    "df[\"dojang_40plus_flag\"] = (df[\"dojang_best_floor\"] >= 40).astype(int)\n",
    "\n",
    "# 3. 기록이 0인 사람은 모델 학습에서 층수 자체를 NaN 처리 (활동 유무와 분리)\n",
    "df.loc[df[\"dojang_active_flag\"] == 0, \"dojang_best_floor\"] = np.nan\n"
   ]
  },
  {
   "cell_type": "code",
   "execution_count": 79,
   "id": "e519d94e-f351-4d74-9a13-0a283f4612ce",
   "metadata": {},
   "outputs": [],
   "source": [
    "def assign_segment(row):\n",
    "    level = row['character_level']\n",
    "    authentic_sum = row['authentic_sum']\n",
    "\n",
    "    if 270 <= level < 275:\n",
    "        threshold = 18\n",
    "    elif 275 <= level < 280:\n",
    "        threshold = 28\n",
    "    elif 280 <= level < 285:\n",
    "        threshold = 38\n",
    "    elif 285 <= level < 290:\n",
    "        threshold = 48\n",
    "    elif level >= 290:\n",
    "        threshold = 68\n",
    "    else:\n",
    "        return '대상 외'\n",
    "\n",
    "    if authentic_sum >= threshold:\n",
    "        return '일반 유저'\n",
    "    else:\n",
    "        return '레벨 대비 저성장'\n",
    "\n",
    "df['segment'] = df.apply(assign_segment, axis=1)\n"
   ]
  },
  {
   "cell_type": "code",
   "execution_count": 80,
   "id": "687c68e4-50b6-478b-b18c-43460bd5e246",
   "metadata": {},
   "outputs": [],
   "source": [
    "segment_dummies = pd.get_dummies(df[\"segment\"], prefix=\"segment\", drop_first=True)"
   ]
  },
  {
   "cell_type": "code",
   "execution_count": 81,
   "id": "ed5d4c76-05ae-4eaf-8f15-b789a4701215",
   "metadata": {},
   "outputs": [],
   "source": [
    "# arcane_sum 수치형으로 정제\n",
    "df[\"arcane_sum\"] = pd.to_numeric(df[\"arcane_sum\"], errors=\"coerce\")\n",
    "\n",
    "# 아케인 심볼 만렙 여부 컬럼 생성\n",
    "df[\"arcane_max_flag\"] = (df[\"arcane_sum\"] == 120).astype(int)\n",
    "\n",
    "# 비율 계산\n",
    "arcane_counts = df[\"arcane_max_flag\"].value_counts(normalize=True) * 100\n",
    "arcane_counts = arcane_counts.rename(index={0: \"미만\", 1: \"만렙\"}).rename(\"비율(%)\").to_frame()"
   ]
  },
  {
   "cell_type": "code",
   "execution_count": 82,
   "id": "f2ae0018-e6d2-49af-a57d-23f4e6f5b4c9",
   "metadata": {},
   "outputs": [
    {
     "data": {
      "text/html": [
       "<div>\n",
       "<style scoped>\n",
       "    .dataframe tbody tr th:only-of-type {\n",
       "        vertical-align: middle;\n",
       "    }\n",
       "\n",
       "    .dataframe tbody tr th {\n",
       "        vertical-align: top;\n",
       "    }\n",
       "\n",
       "    .dataframe thead th {\n",
       "        text-align: right;\n",
       "    }\n",
       "</style>\n",
       "<table border=\"1\" class=\"dataframe\">\n",
       "  <thead>\n",
       "    <tr style=\"text-align: right;\">\n",
       "      <th></th>\n",
       "      <th>비율(%)</th>\n",
       "    </tr>\n",
       "    <tr>\n",
       "      <th>arcane_max_flag</th>\n",
       "      <th></th>\n",
       "    </tr>\n",
       "  </thead>\n",
       "  <tbody>\n",
       "    <tr>\n",
       "      <th>만렙</th>\n",
       "      <td>86.838879</td>\n",
       "    </tr>\n",
       "    <tr>\n",
       "      <th>미만</th>\n",
       "      <td>13.161121</td>\n",
       "    </tr>\n",
       "  </tbody>\n",
       "</table>\n",
       "</div>"
      ],
      "text/plain": [
       "                     비율(%)\n",
       "arcane_max_flag           \n",
       "만렙               86.838879\n",
       "미만               13.161121"
      ]
     },
     "execution_count": 82,
     "metadata": {},
     "output_type": "execute_result"
    }
   ],
   "source": [
    "arcane_counts "
   ]
  },
  {
   "cell_type": "code",
   "execution_count": 83,
   "id": "56da5b77-e6d8-4dbb-ab06-cbd4ec0e210d",
   "metadata": {},
   "outputs": [],
   "source": [
    "# 숫자형으로 변환 (문자/결측값 처리)\n",
    "df[\"arcane_sum\"] = pd.to_numeric(df[\"arcane_sum\"], errors=\"coerce\")\n",
    "\n",
    "# 만렙 여부 이진 피처 생성\n",
    "df[\"arcane_max_flag\"] = (df[\"arcane_sum\"] == 120).astype(int)\n"
   ]
  },
  {
   "cell_type": "code",
   "execution_count": 109,
   "id": "000ea43f-3fd4-4820-9c59-0a491a2fd7d8",
   "metadata": {},
   "outputs": [
    {
     "data": {
      "text/plain": [
       "set_total_count\n",
       "0       3252\n",
       "1       3480\n",
       "2        712\n",
       "3        661\n",
       "4       1260\n",
       "5       1374\n",
       "6        984\n",
       "7       3875\n",
       "8     115371\n",
       "9       2133\n",
       "10       634\n",
       "Name: count, dtype: int64"
      ]
     },
     "execution_count": 109,
     "metadata": {},
     "output_type": "execute_result"
    }
   ],
   "source": [
    "# 세트 장비 수치형 변환\n",
    "for col in [\"set_lubatiss_count\", \"set_absorlab_count\", \"set_arcane_count\", \"set_eternal_count\"]:\n",
    "    df[col] = pd.to_numeric(df[col], errors=\"coerce\")\n",
    "\n",
    "# 해방 여부 이진 처리\n",
    "df[\"liberation_flag\"] = df[\"liberation_quest_clear_flag\"].astype(int)\n",
    "\n",
    "# 세트 총합 계산\n",
    "df[\"set_total_count\"] = (\n",
    "    df[\"set_lubatiss_count\"]\n",
    "    + df[\"set_absorlab_count\"]\n",
    "    + df[\"set_arcane_count\"]\n",
    "    + df[\"set_eternal_count\"]\n",
    ")\n",
    "\n",
    "# 해방 유저만 필터링\n",
    "liberated_df = df[df[\"liberation_flag\"] == 0]\n",
    "set_count_distribution = liberated_df[\"set_total_count\"].value_counts().sort_index()\n",
    "set_count_distribution"
   ]
  },
  {
   "cell_type": "code",
   "execution_count": 117,
   "id": "14037f77-ff5f-4f83-958e-afedb958da17",
   "metadata": {},
   "outputs": [
    {
     "data": {
      "text/plain": [
       "set_total_count\n",
       "0        14\n",
       "1       287\n",
       "2        81\n",
       "3        69\n",
       "4        50\n",
       "5       231\n",
       "6       140\n",
       "7       366\n",
       "8      1874\n",
       "9     16652\n",
       "10    55312\n",
       "Name: count, dtype: int64"
      ]
     },
     "execution_count": 117,
     "metadata": {},
     "output_type": "execute_result"
    }
   ],
   "source": [
    "# 세트 장비 수치형 변환\n",
    "for col in [\"set_lubatiss_count\", \"set_absorlab_count\", \"set_arcane_count\", \"set_eternal_count\"]:\n",
    "    df[col] = pd.to_numeric(df[col], errors=\"coerce\")\n",
    "\n",
    "# 해방 여부 이진 처리\n",
    "df[\"liberation_flag\"] = df[\"liberation_quest_clear_flag\"].astype(int)\n",
    "\n",
    "# 세트 총합 계산\n",
    "df[\"set_total_count\"] = (\n",
    "    df[\"set_lubatiss_count\"]\n",
    "    + df[\"set_absorlab_count\"]\n",
    "    + df[\"set_arcane_count\"]\n",
    "    + df[\"set_eternal_count\"]\n",
    ")\n",
    "\n",
    "# 해방 유저만 필터링\n",
    "liberated_df = df[df[\"liberation_flag\"] == 1]\n",
    "set_count_distribution = liberated_df[\"set_total_count\"].value_counts().sort_index()\n",
    "set_count_distribution"
   ]
  },
  {
   "cell_type": "code",
   "execution_count": 114,
   "id": "c6a3ecfb-fad8-4fb8-8bc6-97b37c441cb0",
   "metadata": {},
   "outputs": [
    {
     "name": "stdout",
     "output_type": "stream",
     "text": [
      "                  유저 수\n",
      "set_combo_group       \n",
      "루타비스 + 앱솔랩스      96358\n",
      "루타비스 + 아케인셰이드    69138\n",
      "세트효과 부족/혼합       24415\n",
      "에테르넬 + 아케인셰이드    11857\n",
      "에테르넬 + 앱솔랩스       6845\n",
      "에테르넬 풀셋            199\n"
     ]
    }
   ],
   "source": [
    "# 조건 기반 세트 조합 분류 함수 정의\n",
    "def classify_set_combo(row):\n",
    "    luba = row[\"set_lubatiss_count\"]\n",
    "    abs = row[\"set_absorlab_count\"]\n",
    "    arc = row[\"set_arcane_count\"]\n",
    "    eter = row[\"set_eternal_count\"]\n",
    "\n",
    "    # 에테 풀셋\n",
    "    if eter >= 7:\n",
    "        return \"에테르넬 풀셋\"\n",
    "    \n",
    "    # 에테 + 아케인 (예: 3에테 + 4아케인 이상)\n",
    "    if eter >= 3 and arc >= 4:\n",
    "        return \"에테르넬 + 아케인셰이드\"\n",
    "    \n",
    "    # 에테 + 앱솔 (예: 2에테 + 4앱 이상)\n",
    "    if eter >= 2 and abs >= 4:\n",
    "        return \"에테르넬 + 앱솔랩스\"\n",
    "    \n",
    "    # 루타 + 아케인 (예: 3루타 + 4아케인 이상)\n",
    "    if luba >= 3 and arc >= 4:\n",
    "        return \"루타비스 + 아케인셰이드\"\n",
    "    \n",
    "    # 루타 + 앱솔 (예: 2루타 + 4앱 이상)\n",
    "    if luba >= 2 and abs >= 4:\n",
    "        return \"루타비스 + 앱솔랩스\"\n",
    "    \n",
    "    # 그 외\n",
    "    return \"세트효과 부족/혼합\"\n",
    "\n",
    "# 적용\n",
    "df[\"set_combo_group\"] = df.apply(classify_set_combo, axis=1)\n",
    "\n",
    "# 결과 요약\n",
    "set_combo_summary = df[\"set_combo_group\"].value_counts().to_frame(name=\"유저 수\")\n",
    "print(set_combo_summary)"
   ]
  },
  {
   "cell_type": "code",
   "execution_count": 115,
   "id": "69672047-eb4c-4d6c-9632-d2bb75fd511b",
   "metadata": {},
   "outputs": [],
   "source": [
    "set_combo_dummies = pd.get_dummies(df[\"set_combo_group\"], prefix=\"set_combo\", drop_first=True)"
   ]
  },
  {
   "cell_type": "code",
   "execution_count": 130,
   "id": "d072590c-f72c-4e28-aac5-1f5e7b612961",
   "metadata": {},
   "outputs": [
    {
     "name": "stdout",
     "output_type": "stream",
     "text": [
      "<class 'pandas.core.frame.DataFrame'>\n",
      "Index: 208812 entries, 0 to 209315\n",
      "Data columns (total 66 columns):\n",
      " #   Column                       Non-Null Count   Dtype         \n",
      "---  ------                       --------------   -----         \n",
      " 0   ocid                         208812 non-null  object        \n",
      " 1   exp_1010                     208812 non-null  object        \n",
      " 2   ranking                      208812 non-null  object        \n",
      " 3   character_name               208812 non-null  object        \n",
      " 4   world_name                   208812 non-null  object        \n",
      " 5   character_gender             208812 non-null  object        \n",
      " 6   character_class              208812 non-null  object        \n",
      " 7   character_class_level        208812 non-null  int64         \n",
      " 8   character_level              208812 non-null  int64         \n",
      " 9   character_exp                208812 non-null  float64       \n",
      " 10  character_exp_rate           208812 non-null  object        \n",
      " 11  character_guild_name         208812 non-null  object        \n",
      " 12  character_date_create        208812 non-null  datetime64[ns]\n",
      " 13  access_flag                  208812 non-null  bool          \n",
      " 14  liberation_quest_clear_flag  208812 non-null  bool          \n",
      " 15  popularity                   208812 non-null  int64         \n",
      " 16  arcane_sum                   208812 non-null  int64         \n",
      " 17  authentic_sum                208812 non-null  int64         \n",
      " 18  set_absorlab_count           208812 non-null  int64         \n",
      " 19  set_lubatiss_count           208812 non-null  int64         \n",
      " 20  set_arcane_count             208812 non-null  int64         \n",
      " 21  set_eternal_count            208812 non-null  int64         \n",
      " 22  dojang_best_floor            163496 non-null  float64       \n",
      " 23  union_level                  208812 non-null  int64         \n",
      " 24  union_artifact_level         208812 non-null  int64         \n",
      " 25  union_artifact_exp           208812 non-null  object        \n",
      " 26  union_artifact_point         208812 non-null  int64         \n",
      " 27  exp_1017                     208812 non-null  object        \n",
      " 28  access_1017                  208812 non-null  bool          \n",
      " 29  exp_1024                     208812 non-null  object        \n",
      " 30  access_1024                  208812 non-null  bool          \n",
      " 31  exp_1031                     208812 non-null  object        \n",
      " 32  access_1031                  208812 non-null  bool          \n",
      " 33  exp_1107                     208812 non-null  object        \n",
      " 34  access_1107                  208812 non-null  bool          \n",
      " 35  exp_1114                     208812 non-null  object        \n",
      " 36  access_1114                  208812 non-null  bool          \n",
      " 37  exp_1121                     208812 non-null  object        \n",
      " 38  access_1121                  208812 non-null  bool          \n",
      " 39  exp_1128                     208812 non-null  object        \n",
      " 40  access_1128                  208812 non-null  bool          \n",
      " 41  exp_1205                     208812 non-null  object        \n",
      " 42  access_1205                  208812 non-null  bool          \n",
      " 43  exp_1212                     208812 non-null  object        \n",
      " 44  access_1212                  208812 non-null  bool          \n",
      " 45  exp_1219                     208812 non-null  object        \n",
      " 46  access_1219                  208812 non-null  bool          \n",
      " 47  event                        208812 non-null  int64         \n",
      " 48  duration                     208812 non-null  int64         \n",
      " 49  is_zero                      208812 non-null  int32         \n",
      " 50  popularity_clean             203910 non-null  float64       \n",
      " 51  popularity_log               199637 non-null  float64       \n",
      " 52  popularity_log_zscore        0 non-null       float64       \n",
      " 53  popularity_zscore            203910 non-null  float64       \n",
      " 54  level_segment                208812 non-null  category      \n",
      " 55  liberation_flag              208812 non-null  int32         \n",
      " 56  dojang_active_flag           208812 non-null  int32         \n",
      " 57  dojang_40plus_flag           208812 non-null  int32         \n",
      " 58  segment                      208812 non-null  object        \n",
      " 59  arcane_max_flag              208812 non-null  int32         \n",
      " 60  set_total                    208812 non-null  int64         \n",
      " 61  set_total_count              208812 non-null  int64         \n",
      " 62  set_combo_group              208812 non-null  object        \n",
      " 63  character_age_days           208812 non-null  int64         \n",
      " 64  new_user_flag                208812 non-null  int32         \n",
      " 65  veteran_flag                 208812 non-null  int32         \n",
      "dtypes: bool(12), category(1), datetime64[ns](1), float64(6), int32(7), int64(17), object(22)\n",
      "memory usage: 83.0+ MB\n"
     ]
    }
   ],
   "source": [
    "df.info()"
   ]
  },
  {
   "cell_type": "code",
   "execution_count": 123,
   "id": "c4f3a5df-94b6-497b-936d-b2782185fb89",
   "metadata": {},
   "outputs": [],
   "source": [
    "# 1. 날짜 문자열 → datetime 변환\n",
    "df[\"character_date_create\"] = pd.to_datetime(df[\"character_date_create\"], errors=\"coerce\")\n",
    "\n",
    "# 2. 타임존 제거 (tz-aware → tz-naive)\n",
    "df[\"character_date_create\"] = df[\"character_date_create\"].dt.tz_localize(None)\n",
    "\n",
    "# 3. 기준일도 tz-naive로 유지\n",
    "reference_date = pd.to_datetime(\"2024-10-17\")\n",
    "\n",
    "# 4. 경과일수 계산\n",
    "df[\"character_age_days\"] = (reference_date - df[\"character_date_create\"]).dt.days\n"
   ]
  },
  {
   "cell_type": "code",
   "execution_count": 126,
   "id": "eaa8af4b-c2da-4f7f-91de-227e5e6bbaff",
   "metadata": {},
   "outputs": [],
   "source": [
    "df[\"new_user_flag\"] = (df[\"character_age_days\"] < 90).astype(int)\n",
    "df[\"veteran_flag\"] = (df[\"character_age_days\"] >= 2000).astype(int)\n"
   ]
  },
  {
   "cell_type": "code",
   "execution_count": 128,
   "id": "13d69d43-3bc5-4426-b05e-999bc90c7296",
   "metadata": {},
   "outputs": [
    {
     "data": {
      "text/html": [
       "<div>\n",
       "<style scoped>\n",
       "    .dataframe tbody tr th:only-of-type {\n",
       "        vertical-align: middle;\n",
       "    }\n",
       "\n",
       "    .dataframe tbody tr th {\n",
       "        vertical-align: top;\n",
       "    }\n",
       "\n",
       "    .dataframe thead th {\n",
       "        text-align: right;\n",
       "    }\n",
       "</style>\n",
       "<table border=\"1\" class=\"dataframe\">\n",
       "  <thead>\n",
       "    <tr style=\"text-align: right;\">\n",
       "      <th></th>\n",
       "      <th>유저 수</th>\n",
       "      <th>비율 (%)</th>\n",
       "    </tr>\n",
       "  </thead>\n",
       "  <tbody>\n",
       "    <tr>\n",
       "      <th>신규 유저 (&lt;90일)</th>\n",
       "      <td>2824</td>\n",
       "      <td>1.352413</td>\n",
       "    </tr>\n",
       "    <tr>\n",
       "      <th>고인물 (&gt;=2000일)</th>\n",
       "      <td>64323</td>\n",
       "      <td>30.804264</td>\n",
       "    </tr>\n",
       "  </tbody>\n",
       "</table>\n",
       "</div>"
      ],
      "text/plain": [
       "                유저 수     비율 (%)\n",
       "신규 유저 (<90일)    2824   1.352413\n",
       "고인물 (>=2000일)  64323  30.804264"
      ]
     },
     "execution_count": 128,
     "metadata": {},
     "output_type": "execute_result"
    }
   ],
   "source": [
    "# 신규 유저 플래그 (90일 미만)\n",
    "df[\"new_user_flag\"] = (df[\"character_age_days\"] < 90).astype(int)\n",
    "\n",
    "# 고인물 플래그 (2000일 이상)\n",
    "df[\"veteran_flag\"] = (df[\"character_age_days\"] >= 2000).astype(int)\n",
    "\n",
    "# 비율 계산\n",
    "flag_distribution = pd.DataFrame({\n",
    "    \"유저 수\": {\n",
    "        \"신규 유저 (<90일)\": df[\"new_user_flag\"].sum(),\n",
    "        \"고인물 (>=2000일)\": df[\"veteran_flag\"].sum()\n",
    "    }\n",
    "})\n",
    "\n",
    "flag_distribution[\"비율 (%)\"] = (flag_distribution[\"유저 수\"] / len(df)) * 100\n",
    "flag_distribution"
   ]
  },
  {
   "cell_type": "code",
   "execution_count": 124,
   "id": "d61ed53e-4217-4d77-9a87-f1b918f60bcf",
   "metadata": {},
   "outputs": [
    {
     "name": "stdout",
     "output_type": "stream",
     "text": [
      "count    208812.000000\n",
      "mean       1607.513926\n",
      "std        1305.261658\n",
      "min          11.000000\n",
      "25%         488.000000\n",
      "50%        1400.000000\n",
      "75%        2292.000000\n",
      "max        7841.000000\n",
      "Name: character_age_days, dtype: float64\n",
      "Empty DataFrame\n",
      "Columns: [character_name, character_date_create, character_age_days]\n",
      "Index: []\n"
     ]
    }
   ],
   "source": [
    "print(df[\"character_age_days\"].describe())\n",
    "print(df[df[\"character_age_days\"] < 0][[\"character_name\", \"character_date_create\", \"character_age_days\"]])\n"
   ]
  },
  {
   "cell_type": "code",
   "execution_count": null,
   "id": "d7ad3f2f-7c68-46ea-bc22-a733ce9ba197",
   "metadata": {},
   "outputs": [],
   "source": [
    "# 2. 기존 피처 X와 병합\n",
    "X = pd.concat([X, level_dummies], axis=1)"
   ]
  },
  {
   "cell_type": "code",
   "execution_count": 135,
   "id": "a6d556e0-0ab8-4997-8fab-079af8828cda",
   "metadata": {},
   "outputs": [],
   "source": [
    "df.to_csv(\"머신러닝용고정스냅샷.csv\", index = False)"
   ]
  },
  {
   "cell_type": "code",
   "execution_count": 136,
   "id": "32d2e094-e02d-41d6-9979-19af393751f5",
   "metadata": {},
   "outputs": [],
   "source": [
    "df = pd.read_csv(\"머신러닝용고정스냅샷.csv\", low_memory=False)"
   ]
  },
  {
   "cell_type": "code",
   "execution_count": 137,
   "id": "dcbb3684-f595-4c75-af62-758237c90a0b",
   "metadata": {},
   "outputs": [
    {
     "name": "stdout",
     "output_type": "stream",
     "text": [
      "<class 'pandas.core.frame.DataFrame'>\n",
      "RangeIndex: 208812 entries, 0 to 208811\n",
      "Data columns (total 61 columns):\n",
      " #   Column                       Non-Null Count   Dtype  \n",
      "---  ------                       --------------   -----  \n",
      " 0   ocid                         208812 non-null  object \n",
      " 1   exp_1010                     208812 non-null  object \n",
      " 2   ranking                      208812 non-null  object \n",
      " 3   character_name               208812 non-null  object \n",
      " 4   world_name                   208812 non-null  object \n",
      " 5   character_gender             208812 non-null  object \n",
      " 6   character_class              208812 non-null  object \n",
      " 7   character_class_level        208812 non-null  int64  \n",
      " 8   character_level              208812 non-null  int64  \n",
      " 9   character_exp                208812 non-null  float64\n",
      " 10  character_exp_rate           208812 non-null  object \n",
      " 11  character_guild_name         208812 non-null  object \n",
      " 12  character_date_create        208812 non-null  object \n",
      " 13  access_flag                  208812 non-null  bool   \n",
      " 14  liberation_quest_clear_flag  208812 non-null  bool   \n",
      " 15  popularity                   208812 non-null  int64  \n",
      " 16  arcane_sum                   208812 non-null  int64  \n",
      " 17  authentic_sum                208812 non-null  int64  \n",
      " 18  set_absorlab_count           208812 non-null  int64  \n",
      " 19  set_lubatiss_count           208812 non-null  int64  \n",
      " 20  set_arcane_count             208812 non-null  int64  \n",
      " 21  set_eternal_count            208812 non-null  int64  \n",
      " 22  dojang_best_floor            163496 non-null  float64\n",
      " 23  union_level                  208812 non-null  int64  \n",
      " 24  union_artifact_level         208812 non-null  int64  \n",
      " 25  union_artifact_exp           208812 non-null  object \n",
      " 26  union_artifact_point         208812 non-null  int64  \n",
      " 27  exp_1017                     208812 non-null  object \n",
      " 28  access_1017                  208812 non-null  bool   \n",
      " 29  exp_1024                     208812 non-null  object \n",
      " 30  access_1024                  208812 non-null  bool   \n",
      " 31  exp_1031                     208812 non-null  object \n",
      " 32  access_1031                  208812 non-null  bool   \n",
      " 33  exp_1107                     208812 non-null  object \n",
      " 34  access_1107                  208812 non-null  bool   \n",
      " 35  exp_1114                     208812 non-null  object \n",
      " 36  access_1114                  208812 non-null  bool   \n",
      " 37  exp_1121                     208812 non-null  object \n",
      " 38  access_1121                  208812 non-null  bool   \n",
      " 39  exp_1128                     208812 non-null  object \n",
      " 40  access_1128                  208812 non-null  bool   \n",
      " 41  exp_1205                     208812 non-null  object \n",
      " 42  access_1205                  208812 non-null  bool   \n",
      " 43  exp_1212                     208812 non-null  object \n",
      " 44  access_1212                  208812 non-null  bool   \n",
      " 45  exp_1219                     208812 non-null  object \n",
      " 46  access_1219                  208812 non-null  bool   \n",
      " 47  event                        208812 non-null  int64  \n",
      " 48  duration                     208812 non-null  int64  \n",
      " 49  is_zero                      208812 non-null  int64  \n",
      " 50  popularity_zscore            203910 non-null  float64\n",
      " 51  level_segment                208812 non-null  object \n",
      " 52  liberation_flag              208812 non-null  int64  \n",
      " 53  dojang_active_flag           208812 non-null  int64  \n",
      " 54  dojang_40plus_flag           208812 non-null  int64  \n",
      " 55  segment                      208812 non-null  object \n",
      " 56  arcane_max_flag              208812 non-null  int64  \n",
      " 57  set_combo_group              208812 non-null  object \n",
      " 58  character_age_days           208812 non-null  int64  \n",
      " 59  new_user_flag                208812 non-null  int64  \n",
      " 60  veteran_flag                 208812 non-null  int64  \n",
      "dtypes: bool(12), float64(3), int64(22), object(24)\n",
      "memory usage: 80.5+ MB\n"
     ]
    }
   ],
   "source": [
    "df.info()"
   ]
  },
  {
   "cell_type": "code",
   "execution_count": 134,
   "id": "1991b705-bf05-4767-b41a-5742b705b7d6",
   "metadata": {},
   "outputs": [
    {
     "data": {
      "text/plain": [
       "['ocid',\n",
       " 'exp_1010',\n",
       " 'ranking',\n",
       " 'character_name',\n",
       " 'world_name',\n",
       " 'character_gender',\n",
       " 'character_class',\n",
       " 'character_class_level',\n",
       " 'character_level',\n",
       " 'character_exp',\n",
       " 'character_exp_rate',\n",
       " 'character_guild_name',\n",
       " 'character_date_create',\n",
       " 'access_flag',\n",
       " 'liberation_quest_clear_flag',\n",
       " 'popularity',\n",
       " 'arcane_sum',\n",
       " 'authentic_sum',\n",
       " 'set_absorlab_count',\n",
       " 'set_lubatiss_count',\n",
       " 'set_arcane_count',\n",
       " 'set_eternal_count',\n",
       " 'dojang_best_floor',\n",
       " 'union_level',\n",
       " 'union_artifact_level',\n",
       " 'union_artifact_exp',\n",
       " 'union_artifact_point',\n",
       " 'exp_1017',\n",
       " 'access_1017',\n",
       " 'exp_1024',\n",
       " 'access_1024',\n",
       " 'exp_1031',\n",
       " 'access_1031',\n",
       " 'exp_1107',\n",
       " 'access_1107',\n",
       " 'exp_1114',\n",
       " 'access_1114',\n",
       " 'exp_1121',\n",
       " 'access_1121',\n",
       " 'exp_1128',\n",
       " 'access_1128',\n",
       " 'exp_1205',\n",
       " 'access_1205',\n",
       " 'exp_1212',\n",
       " 'access_1212',\n",
       " 'exp_1219',\n",
       " 'access_1219',\n",
       " 'event',\n",
       " 'duration',\n",
       " 'is_zero',\n",
       " 'popularity_zscore',\n",
       " 'level_segment',\n",
       " 'liberation_flag',\n",
       " 'dojang_active_flag',\n",
       " 'dojang_40plus_flag',\n",
       " 'segment',\n",
       " 'arcane_max_flag',\n",
       " 'set_combo_group',\n",
       " 'character_age_days',\n",
       " 'new_user_flag',\n",
       " 'veteran_flag']"
      ]
     },
     "execution_count": 134,
     "metadata": {},
     "output_type": "execute_result"
    }
   ],
   "source": [
    "# 제거할 컬럼 목록 정의\n",
    "columns_to_drop = [\n",
    "    \"popularity_clean\", \"popularity_log\", \"popularity_log_zscore\",\n",
    "    \"set_total\", \"set_total_count\"\n",
    "]\n",
    "\n",
    "# 존재하는 컬럼만 안전하게 제거\n",
    "df = df.drop(columns=[col for col in columns_to_drop if col in df.columns])\n",
    "\n",
    "# 결과 컬럼 개수 및 이름 확인\n",
    "df.columns.tolist()"
   ]
  },
  {
   "cell_type": "code",
   "execution_count": null,
   "id": "602aa8c6-c4bd-4ce8-91b0-ff84146f0a3e",
   "metadata": {},
   "outputs": [],
   "source": [
    "import pandas as pd\n",
    "import numpy as np\n",
    "from sksurv.ensemble import RandomSurvivalForest\n",
    "from sksurv.util import Surv\n",
    "from sksurv.metrics import concordance_index_censored\n",
    "from sklearn.model_selection import train_test_split\n",
    "import matplotlib.pyplot as plt\n",
    "\n",
    "# 1. 데이터 불러오기\n",
    "df = pd.read_csv(\"머신러닝용고정스냅샷.csv\", low_memory=False)\n",
    "\n",
    "# 수치형 처리\n",
    "for col in [\"character_level\", \"character_exp\", \"popularity\", \"authentic_sum\",\n",
    "            \"set_lubatiss_count\", \"set_absorlab_count\", \"set_arcane_count\", \"set_eternal_count\"]:\n",
    "    df[col] = pd.to_numeric(df[col], errors=\"coerce\")\n",
    "\n",
    "# 날짜 처리\n",
    "df[\"character_date_create\"] = pd.to_datetime(df[\"character_date_create\"], errors=\"coerce\")\n",
    "df[\"character_date_create\"] = df[\"character_date_create\"].dt.tz_localize(None)\n",
    "reference_date = pd.to_datetime(\"2024-10-17\")\n",
    "df[\"character_age_days\"] = (reference_date - df[\"character_date_create\"]).dt.days\n",
    "\n",
    "# 신규/고인물 플래그\n",
    "df[\"new_user_flag\"] = (df[\"character_age_days\"] < 90).astype(int)\n",
    "df[\"veteran_flag\"] = (df[\"character_age_days\"] >= 2000).astype(int)\n",
    "\n",
    "# 길드 플래그\n",
    "df[\"guild_flag\"] = (df[\"character_guild_name\"] != \"미가입\").astype(int)\n",
    "\n",
    "# 해방 여부\n",
    "df[\"liberation_flag\"] = df[\"liberation_quest_clear_flag\"].astype(int)\n",
    "\n",
    "# 무릉 도전 플래그\n",
    "df[\"dojang_active_flag\"] = (df[\"dojang_best_floor\"] > 0).astype(int)\n",
    "df[\"dojang_40plus_flag\"] = (df[\"dojang_best_floor\"] >= 40).astype(int)\n",
    "df.loc[df[\"dojang_active_flag\"] == 0, \"dojang_best_floor\"] = pd.NA\n",
    "\n",
    "# 아케인 만렙 플래그\n",
    "df[\"arcane_max_flag\"] = (df[\"arcane_sum\"] == 120).astype(int)\n",
    "\n",
    "# 어센틱 성장 세그먼트\n",
    "def assign_segment(row):\n",
    "    level = row['character_level']\n",
    "    authentic_sum = row['authentic_sum']\n",
    "    if 270 <= level < 275:\n",
    "        threshold = 18\n",
    "    elif 275 <= level < 280:\n",
    "        threshold = 28\n",
    "    elif 280 <= level < 285:\n",
    "        threshold = 38\n",
    "    elif 285 <= level < 290:\n",
    "        threshold = 48\n",
    "    elif level >= 290:\n",
    "        threshold = 68\n",
    "    else:\n",
    "        return '대상 외'\n",
    "    return '일반 유저' if authentic_sum >= threshold else '레벨 대비 저성장'\n",
    "df[\"segment\"] = df.apply(assign_segment, axis=1)\n",
    "\n",
    "# 인기도 z-score\n",
    "df[\"popularity_clean\"] = df[\"popularity\"].where(df[\"popularity\"] < 1e5, pd.NA)\n",
    "df[\"popularity_log\"] = df[\"popularity_clean\"].apply(lambda x: np.log1p(x) if pd.notnull(x) else pd.NA)\n",
    "df[\"popularity_log_zscore\"] = (\n",
    "    (df[\"popularity_log\"] - df[\"popularity_log\"].mean()) / df[\"popularity_log\"].std()\n",
    ")\n",
    "\n",
    "# 세트 조합 그룹\n",
    "def classify_set_combo(row):\n",
    "    luba = row[\"set_lubatiss_count\"]\n",
    "    abs = row[\"set_absorlab_count\"]\n",
    "    arc = row[\"set_arcane_count\"]\n",
    "    eter = row[\"set_eternal_count\"]\n",
    "    if eter >= 7:\n",
    "        return \"에테르넬 풀셋\"\n",
    "    if eter >= 3 and arc >= 4:\n",
    "        return \"에테르넬 + 아케인셰이드\"\n",
    "    if eter >= 2 and abs >= 4:\n",
    "        return \"에테르넬 + 앱솔랩스\"\n",
    "    if luba >= 3 and arc >= 4:\n",
    "        return \"루타비스 + 아케인셰이드\"\n",
    "    if luba >= 2 and abs >= 4:\n",
    "        return \"루타비스 + 앱솔랩스\"\n",
    "    return \"세트효과 부족/혼합\"\n",
    "df[\"set_combo_group\"] = df.apply(classify_set_combo, axis=1)\n",
    "\n",
    "# 레벨 구간\n",
    "bins = [270, 275, 280, 285, 290, 300]\n",
    "labels = [\"270-274\", \"275-279\", \"280-284\", \"285-289\", \"290+\"]\n",
    "df[\"level_segment\"] = pd.cut(df[\"character_level\"], bins=bins, labels=labels, right=False)\n",
    "\n",
    "# 전직 6차 이상 필터링 후 샘플링\n",
    "df = df[df[\"character_class_level\"] >= 6].copy()\n",
    "df_sample = df.sample(n=20000, random_state=42)\n",
    "\n",
    "# 사용 피처\n",
    "categorical = pd.get_dummies(df_sample[[\"segment\", \"set_combo_group\", \"level_segment\"]], drop_first=True)\n",
    "features = pd.concat([\n",
    "    df_sample[[\n",
    "        \"character_level\", \"character_age_days\", \"new_user_flag\", \"veteran_flag\",\n",
    "        \"liberation_flag\", \"guild_flag\", \"arcane_max_flag\", \"authentic_sum\",\n",
    "        \"popularity_log_zscore\", \"dojang_active_flag\", \"dojang_40plus_flag\"\n",
    "    ]],\n",
    "    categorical\n",
    "], axis=1)\n",
    "\n",
    "# 타겟\n",
    "y = Surv.from_dataframe(\"event\", \"duration\", df_sample)\n",
    "\n",
    "# 학습 분할\n",
    "X_train, X_test, y_train, y_test = train_test_split(features, y, test_size=0.2, random_state=42)\n",
    "\n",
    "# 모델 학습\n",
    "rsf = RandomSurvivalForest(\n",
    "    n_estimators=50,\n",
    "    min_samples_split=20,\n",
    "    min_samples_leaf=10,\n",
    "    max_features=\"sqrt\",\n",
    "    n_jobs=-1,\n",
    "    random_state=42\n",
    ")\n",
    "rsf.fit(X_train, y_train)\n",
    "\n",
    "# 평가\n",
    "cindex = concordance_index_censored(y_test[\"event\"], y_test[\"duration\"], rsf.predict(X_test))[0]\n",
    "print(f\"✅ Concordance Index (C-index): {cindex:.4f}\")\n"
   ]
  },
  {
   "cell_type": "code",
   "execution_count": 157,
   "id": "e100e605-7c3d-4ced-a4c7-e917234516b4",
   "metadata": {},
   "outputs": [
    {
     "name": "stdout",
     "output_type": "stream",
     "text": [
      "✅ Concordance Index (C-index): 0.6898\n"
     ]
    }
   ],
   "source": [
    "# ✅ 라이브러리\n",
    "import pandas as pd\n",
    "import numpy as np\n",
    "from sksurv.ensemble import RandomSurvivalForest\n",
    "from sksurv.util import Surv\n",
    "from sksurv.metrics import concordance_index_censored\n",
    "from sklearn.model_selection import train_test_split\n",
    "import matplotlib.pyplot as plt\n",
    "\n",
    "# 데이터 불러오기\n",
    "df = pd.read_csv(\"머신러닝용고정스냅샷.csv\", low_memory=False)\n",
    "df[\"popularity_zscore\"] = df[\"popularity_zscore\"].fillna(0)\n",
    "# 일부 샘플링 (예: 20,000건)\n",
    "df_sample = df.sample(n=20000, random_state=42).copy()\n",
    "\n",
    "\n",
    "# 수치형 안정화\n",
    "numeric_cols = [\"character_level\", \"authentic_sum\", \"popularity_zscore\", \"character_age_days\"]\n",
    "for col in numeric_cols:\n",
    "    df_sample[col] = pd.to_numeric(df_sample[col], errors=\"coerce\")\n",
    "\n",
    "# 범주형 피처 원핫 인코딩\n",
    "categorical_cols = [\"segment\", \"level_segment\", \"set_combo_group\",\"character_class\", \"world_name\"]\n",
    "df_encoded = pd.get_dummies(df_sample[categorical_cols], drop_first=True)\n",
    "\n",
    "\n",
    "# 최종 피처셋\n",
    "X = pd.concat([\n",
    "    df_sample[[\n",
    "        \"character_level\", \"authentic_sum\", \"popularity_zscore\", \"character_age_days\",\n",
    "        \"new_user_flag\", \"veteran_flag\", \"liberation_flag\", \"arcane_max_flag\",\n",
    "        \"dojang_active_flag\", \"dojang_40plus_flag\"\n",
    "    ]],\n",
    "    df_encoded\n",
    "], axis=1)\n",
    "\n",
    "# 타겟 생성\n",
    "y = Surv.from_dataframe(\"event\", \"duration\", df_sample)\n",
    "\n",
    "# 학습/테스트 분할\n",
    "X_train, X_test, y_train, y_test = train_test_split(X, y, test_size=0.2, random_state=42)\n",
    "\n",
    "#  RSF 모델 학습\n",
    "rsf = RandomSurvivalForest(\n",
    "    n_estimators=200,\n",
    "    min_samples_split=10,\n",
    "    min_samples_leaf=10,\n",
    "    max_features=\"sqrt\",\n",
    "    n_jobs=-1,\n",
    "    random_state=42\n",
    ")\n",
    "rsf.fit(X_train, y_train)\n",
    "\n",
    "#  평가 - C-index\n",
    "cindex = concordance_index_censored(y_test[\"event\"], y_test[\"duration\"], rsf.predict(X_test))[0]\n",
    "print(f\"✅ Concordance Index (C-index): {cindex:.4f}\")\n"
   ]
  },
  {
   "cell_type": "code",
   "execution_count": 159,
   "id": "fe8d2fbe-70c5-49fb-a3b0-618d1236f024",
   "metadata": {},
   "outputs": [
    {
     "data": {
      "text/plain": [
       "character_level                0.032771\n",
       "authentic_sum                  0.026557\n",
       "character_age_days             0.019558\n",
       "set_combo_group_세트효과 부족/혼합     0.017553\n",
       "popularity_zscore              0.014765\n",
       "liberation_flag                0.010993\n",
       "segment_일반 유저                  0.010528\n",
       "dojang_40plus_flag             0.009697\n",
       "veteran_flag                   0.005202\n",
       "level_segment_280-284          0.005057\n",
       "set_combo_group_루타비스 + 앱솔랩스    0.004995\n",
       "arcane_max_flag                0.004960\n",
       "level_segment_275-279          0.004764\n",
       "dojang_active_flag             0.003532\n",
       "level_segment_285-289          0.002274\n",
       "dtype: float64"
      ]
     },
     "execution_count": 159,
     "metadata": {},
     "output_type": "execute_result"
    }
   ],
   "source": [
    "from sklearn.inspection import permutation_importance\n",
    "\n",
    "# permutation importance 계산\n",
    "result = permutation_importance(\n",
    "    grid_search.best_estimator_,  # 방금 찾은 최적 모델\n",
    "    X, y,\n",
    "    n_repeats=5,\n",
    "    random_state=42,\n",
    "    n_jobs=-1\n",
    ")\n",
    "\n",
    "# 결과 정리\n",
    "importances = pd.Series(result.importances_mean, index=X.columns)\n",
    "importances.sort_values(ascending=False).head(15)\n"
   ]
  },
  {
   "cell_type": "code",
   "execution_count": 18,
   "id": "1fa14ede-6985-49f7-a02b-8d9cd29e8d7b",
   "metadata": {},
   "outputs": [
    {
     "data": {
      "image/png": "[encoded data removed]",
      "text/plain": [
       "<Figure size 1000x500 with 1 Axes>"
      ]
     },
     "metadata": {},
     "output_type": "display_data"
    }
   ],
   "source": [
    "plt.figure(figsize=(10, 5))\n",
    "# 생존 곡선 예시 (3명)\n",
    "for i in range(3):\n",
    "    surv_fn = rsf.predict_survival_function(X_test.iloc[[i]])[0]\n",
    "    times = surv_fn.x  # 시간축\n",
    "    probs = surv_fn.y  # 생존확률\n",
    "    plt.step(times, probs, where=\"post\", label=f\"User {i+1}\")\n",
    "\n",
    "plt.title(\" 샘플 유저 생존 곡선\")\n",
    "plt.xlabel(\"Duration (days)\")\n",
    "plt.ylabel(\"Survival Probability\")\n",
    "plt.legend()\n",
    "plt.grid(True)\n",
    "plt.tight_layout()\n",
    "plt.show()"
   ]
  },
  {
   "cell_type": "code",
   "execution_count": 19,
   "id": "33fcfae5-4652-4333-9d97-8ea95a40b9d2",
   "metadata": {},
   "outputs": [
    {
     "data": {
      "image/png": "[encoded data removed]",
      "text/plain": [
       "<Figure size 1000x600 with 1 Axes>"
      ]
     },
     "metadata": {},
     "output_type": "display_data"
    }
   ],
   "source": [
    "# X_test, y_test에서 일부 유저 선택 (event=1 또는 전체 중)\n",
    "n = 3\n",
    "sample_idx = np.random.choice(len(X_test), size=n, replace=False)\n",
    "\n",
    "plt.figure(figsize=(10, 6))\n",
    "\n",
    "for i, idx in enumerate(sample_idx):\n",
    "    surv_fn = rsf.predict_survival_function(X_test.iloc[[idx]])[0]\n",
    "    times = surv_fn.x\n",
    "    probs = surv_fn.y\n",
    "\n",
    "    # 실제 이탈 여부 및 기간\n",
    "    actual_event = y_test[\"event\"][idx]\n",
    "    actual_duration = y_test[\"duration\"][idx]\n",
    "\n",
    "    label = f\"User {i+1} | {'이탈' if actual_event else '생존'} | T={actual_duration}\"\n",
    "    plt.step(times, probs, where=\"post\", label=label)\n",
    "\n",
    "    # 실제 이탈 시점 표시\n",
    "    if actual_event:\n",
    "        plt.axvline(actual_duration, color=f'C{i}', linestyle='--', alpha=0.6)\n",
    "\n",
    "plt.title(\"RSF 생존 곡선 vs 실제 이탈 시점\")\n",
    "plt.xlabel(\"Duration (days)\")\n",
    "plt.ylabel(\"Survival Probability\")\n",
    "plt.legend()\n",
    "plt.grid(True)\n",
    "plt.tight_layout()\n",
    "plt.show()\n"
   ]
  },
  {
   "cell_type": "code",
   "execution_count": 25,
   "id": "a6c84050-a94f-4323-9bfb-f59563c62d65",
   "metadata": {},
   "outputs": [
    {
     "name": "stdout",
     "output_type": "stream",
     "text": [
      "📉 Integrated Brier Score (IBS): 0.0591\n"
     ]
    }
   ],
   "source": [
    "from sksurv.metrics import integrated_brier_score\n",
    "from sksurv.metrics import integrated_brier_score\n",
    "#Brier Score\t시간별 예측 생존확률의 평균 제곱 오차\n",
    "# 1. 시간축 설정 (중도절단 범위 내에서만)\n",
    "time_points = np.linspace(2, y_test[\"duration\"].max() - 0.1, 100)\n",
    "\n",
    "# 2. 생존 함수 예측 (확률값 추출)\n",
    "surv_funcs = rsf.predict_survival_function(X_test)\n",
    "\n",
    "# 3. 생존 확률을 2D array로 변환: (n_samples x n_timepoints)\n",
    "pred_probs = np.asarray([[fn(t) for t in time_points] for fn in surv_funcs])\n",
    "\n",
    "# 4. Integrated Brier Score 계산\n",
    "ibs = integrated_brier_score(y_train, y_test, pred_probs, time_points)\n",
    "print(f\"📉 Integrated Brier Score (IBS): {ibs:.4f}\")\n"
   ]
  },
  {
   "cell_type": "code",
   "execution_count": 28,
   "id": "c00cd8c0-7c51-498e-9641-1ed44ea01180",
   "metadata": {},
   "outputs": [
    {
     "data": {
      "image/png": "[encoded data removed]",
      "text/plain": [
       "<Figure size 1000x500 with 1 Axes>"
      ]
     },
     "metadata": {},
     "output_type": "display_data"
    }
   ],
   "source": [
    "# 13. Brier Score over time 시각화\n",
    "from sksurv.metrics import brier_score\n",
    "\n",
    "# 시간 포인트 설정\n",
    "time_points = np.linspace(2, y_test[\"duration\"].max() - 0.1, 100)\n",
    "\n",
    "# 생존 확률 예측\n",
    "surv_funcs = rsf.predict_survival_function(X_test)\n",
    "pred_probs = np.asarray([[fn(t) for t in time_points] for fn in surv_funcs])\n",
    "\n",
    "# Brier Score 계산\n",
    "_, bs_scores = brier_score(y_train, y_test, pred_probs, time_points)\n",
    "\n",
    "# 시각화\n",
    "plt.figure(figsize=(10, 5))\n",
    "plt.plot(time_points, bs_scores, marker=\"o\")\n",
    "plt.title(\" Brier Score Over Time\")\n",
    "plt.xlabel(\"Duration (days)\")\n",
    "plt.ylabel(\"Brier Score\")\n",
    "plt.grid(True)\n",
    "plt.tight_layout()\n",
    "plt.show()\n"
   ]
  },
  {
   "cell_type": "code",
   "execution_count": 1,
   "id": "e0514c54-c4ca-4a5d-aee6-596cf06ac07b",
   "metadata": {},
   "outputs": [
    {
     "name": "stdout",
     "output_type": "stream",
     "text": [
      "✅ Concordance Index (C-index): 0.6980\n"
     ]
    }
   ],
   "source": [
    "import pandas as pd\n",
    "import numpy as np\n",
    "from sksurv.ensemble import RandomSurvivalForest\n",
    "from sksurv.util import Surv\n",
    "from sksurv.metrics import concordance_index_censored\n",
    "from sklearn.model_selection import train_test_split\n",
    "import matplotlib.pyplot as plt\n",
    "\n",
    "# 1. 데이터 불러오기\n",
    "df = pd.read_csv(\"고정스냅샷(10월17일).csv\", low_memory=False)\n",
    "\n",
    "# 2. Unnamed index 제거\n",
    "df = df.loc[:, ~df.columns.str.contains(\"^Unnamed\")]\n",
    "\n",
    "# 3. 6차 전직 이상 필터링\n",
    "df = df[df[\"character_class_level\"] >= 6].copy()\n",
    "\n",
    "# 4. 수치형 컬럼 변환\n",
    "num_cols = [\"character_level\", \"character_exp\", \"popularity\", \"authentic_sum\", \n",
    "            \"dojang_best_floor\", \"duration\"]\n",
    "for col in num_cols:\n",
    "    df[col] = pd.to_numeric(df[col], errors=\"coerce\")\n",
    "\n",
    "# 5. 결측치 제거\n",
    "df = df.dropna(subset=num_cols + [\"event\"])\n",
    "\n",
    "# 6. duration > 0 필터링\n",
    "df = df[df[\"duration\"] > 0]\n",
    "\n",
    "# 7. 캐릭터 생성일 처리\n",
    "df[\"character_date_create\"] = pd.to_datetime(df[\"character_date_create\"], errors=\"coerce\")\n",
    "df = df.dropna(subset=[\"character_date_create\"])\n",
    "\n",
    "# 7. 캐릭터 생성일 처리 (시간대 제거 포함)\n",
    "df[\"character_date_create\"] = pd.to_datetime(df[\"character_date_create\"], errors=\"coerce\").dt.tz_localize(None)\n",
    "df = df.dropna(subset=[\"character_date_create\"])\n",
    "\n",
    "# 8. 기준일 대비 캐릭터 나이 계산\n",
    "reference_date = pd.to_datetime(\"2024-10-17\")\n",
    "df[\"create_age_days\"] = (reference_date - df[\"character_date_create\"]).dt.days\n",
    "\n",
    "# 9. 길드 유무 파생 변수\n",
    "df[\"guild_flag\"] = (df[\"character_guild_name\"] != \"미가입\").astype(int)\n",
    "\n",
    "# 10. 범주형 변수 원-핫 인코딩\n",
    "df_encoded = pd.get_dummies(df[[\"character_class\", \"world_name\"]], drop_first=True)\n",
    "\n",
    "# 11. 피처 정의 (생성일 포함)\n",
    "features = [\n",
    "    \"character_level\", \"character_exp\", \"popularity\", \"authentic_sum\",\n",
    "    \"liberation_quest_clear_flag\", \"dojang_best_floor\", \"guild_flag\",\n",
    "    \"create_age_days\"\n",
    "]\n",
    "\n",
    "# 12. X, y 구성\n",
    "X = pd.concat([df[features], df_encoded], axis=1)\n",
    "y = Surv.from_dataframe(\"event\", \"duration\", df)\n",
    "\n",
    "# 13. 학습/테스트 분할\n",
    "X_train, X_test, y_train, y_test = train_test_split(\n",
    "    X, y, test_size=0.2, random_state=42\n",
    ")\n",
    "\n",
    "# 14. RSF 모델 학습\n",
    "rsf = RandomSurvivalForest(\n",
    "    n_estimators=200,\n",
    "    min_samples_split=10,\n",
    "    min_samples_leaf=5,\n",
    "    max_features=\"sqrt\",\n",
    "    n_jobs=-1,\n",
    "    random_state=42\n",
    ")\n",
    "rsf.fit(X_train, y_train)\n",
    "\n",
    "# 15. Concordance Index 출력\n",
    "cindex = concordance_index_censored(\n",
    "    y_test[\"event\"], y_test[\"duration\"], rsf.predict(X_test)\n",
    ")[0]\n",
    "print(f\"✅ Concordance Index (C-index): {cindex:.4f}\")\n"
   ]
  },
  {
   "cell_type": "code",
   "execution_count": 2,
   "id": "7b82607e-2454-4064-bbd6-c9a172354d4f",
   "metadata": {},
   "outputs": [
    {
     "name": "stdout",
     "output_type": "stream",
     "text": [
      "               feature  importance_mean  importance_std\n",
      "0      character_level         0.074733        0.002207\n",
      "3        authentic_sum         0.041898        0.001773\n",
      "6           guild_flag         0.030431        0.001273\n",
      "7      create_age_days         0.027521        0.001273\n",
      "5    dojang_best_floor         0.012014        0.001075\n",
      "..                 ...              ...             ...\n",
      "62      world_name_제니스        -0.000180        0.000083\n",
      "45  character_class_캡틴        -0.000216        0.000023\n",
      "55       world_name_베라        -0.000307        0.000203\n",
      "56     world_name_스카니아        -0.000632        0.000284\n",
      "54       world_name_루나        -0.000729        0.000149\n",
      "\n",
      "[64 rows x 3 columns]\n"
     ]
    }
   ],
   "source": [
    "from sklearn.inspection import permutation_importance\n",
    "import matplotlib.pyplot as plt\n",
    "import pandas as pd\n",
    "\n",
    "# Permutation Importance\n",
    "result = permutation_importance(\n",
    "    rsf, X_test, y_test,\n",
    "    n_repeats=5,\n",
    "    random_state=42,\n",
    "    n_jobs=-1\n",
    ")\n",
    "\n",
    "# 결과 정리\n",
    "importance_df = pd.DataFrame({\n",
    "    'feature': X_test.columns,\n",
    "    'importance_mean': result.importances_mean,\n",
    "    'importance_std': result.importances_std\n",
    "}).sort_values(by='importance_mean', ascending=False)\n",
    "\n",
    "print(importance_df)\n"
   ]
  },
  {
   "cell_type": "code",
   "execution_count": 163,
   "id": "e48b1454-dc92-4eb8-84ff-24ddf32b578d",
   "metadata": {},
   "outputs": [
    {
     "data": {
      "text/plain": [
       "<Axes: >"
      ]
     },
     "execution_count": 163,
     "metadata": {},
     "output_type": "execute_result"
    },
    {
     "data": {
      "image/png": "[encoded data removed]",
      "text/plain": [
       "<Figure size 1000x500 with 1 Axes>"
      ]
     },
     "metadata": {},
     "output_type": "display_data"
    }
   ],
   "source": [
    "from sklearn.inspection import permutation_importance\n",
    "\n",
    "result = permutation_importance(\n",
    "    rsf, X, y,\n",
    "    n_repeats=5,\n",
    "    random_state=42,\n",
    "    n_jobs=1  # ← 병렬처리 안 쓰고 안정적으로 돌림\n",
    ")\n",
    "\n",
    "importances = pd.Series(result.importances_mean, index=X.columns)\n",
    "importances.sort_values(ascending=False).head(20).plot(kind='barh')\n"
   ]
  },
  {
   "cell_type": "code",
   "execution_count": 8,
   "id": "fee5bb12-13c6-4f9a-adc4-a7e6146bb6de",
   "metadata": {},
   "outputs": [
    {
     "name": "stdout",
     "output_type": "stream",
     "text": [
      " Concordance Index (C-index): 0.7110\n"
     ]
    }
   ],
   "source": [
    "#  라이브러리\n",
    "import pandas as pd\n",
    "import numpy as np\n",
    "from sksurv.ensemble import RandomSurvivalForest\n",
    "from sksurv.util import Surv\n",
    "from sksurv.metrics import concordance_index_censored\n",
    "from sklearn.model_selection import train_test_split\n",
    "import matplotlib.pyplot as plt\n",
    "import joblib\n",
    "\n",
    "#  데이터 불러오기 (전체 사용)\n",
    "df = pd.read_csv(\"머신러닝용고정스냅샷.csv\", low_memory=False)\n",
    "df[\"popularity_zscore\"] = df[\"popularity_zscore\"].fillna(0)\n",
    "#길드 유무 파생 변수\n",
    "df[\"guild_flag\"] = (df[\"character_guild_name\"] != \"미가입\").astype(int)\n",
    "#  수치형 안정화\n",
    "numeric_cols = [\"character_level\", \"authentic_sum\", \"popularity_zscore\", \"character_age_days\"]\n",
    "for col in numeric_cols:\n",
    "    df[col] = pd.to_numeric(df[col], errors=\"coerce\")\n",
    "\n",
    "#  범주형 피처 원핫 인코딩\n",
    "categorical_cols = [\"segment\", \"level_segment\", \"set_combo_group\", \"character_class\", \"world_name\"]\n",
    "df_encoded = pd.get_dummies(df[categorical_cols], drop_first=True)\n",
    "\n",
    "\n",
    "#  최종 피처셋\n",
    "X = pd.concat([\n",
    "    df[[\n",
    "        \"character_level\",\"authentic_sum\", \"popularity_zscore\", \"character_age_days\",\n",
    "        \"new_user_flag\", \"veteran_flag\", \"liberation_flag\", \"arcane_max_flag\",\n",
    "        \"dojang_active_flag\", \"dojang_40plus_flag\",\"guild_flag\"\n",
    "    ]],\n",
    "    df_encoded\n",
    "], axis=1)\n",
    "\n",
    "#  타겟 생성\n",
    "y = Surv.from_dataframe(\"event\", \"duration\", df)\n",
    "\n",
    "#  학습/테스트 분할\n",
    "X_train, X_test, y_train, y_test = train_test_split(X, y, test_size=0.2, random_state=42)\n",
    "\n",
    "#  RSF 모델 학습\n",
    "rsf = RandomSurvivalForest(\n",
    "    n_estimators=200,\n",
    "    min_samples_split=10,\n",
    "    min_samples_leaf=10,\n",
    "    max_features=\"sqrt\",\n",
    "    n_jobs=-1,\n",
    "    random_state=42\n",
    ")\n",
    "rsf.fit(X_train, y_train)\n",
    "\n",
    "#  평가 - C-index\n",
    "cindex = concordance_index_censored(y_test[\"event\"], y_test[\"duration\"], rsf.predict(X_test))[0]\n",
    "print(f\" Concordance Index (C-index): {cindex:.4f}\")\n",
    "\n",
    "#  모델과 데이터 저장 (커널 재시작 대비)\n",
    "import pickle\n",
    "\n",
    "joblib.dump(rsf, \"rsf_model.pkl\")\n",
    "X_train.to_pickle(\"X_train.pkl\")\n",
    "X_test.to_pickle(\"X_test.pkl\")\n",
    "with open(\"y_train.pkl\", \"wb\") as f:\n",
    "    pickle.dump(y_train, f)\n",
    "with open(\"y_test.pkl\", \"wb\") as f:\n",
    "    pickle.dump(y_test, f)\n"
   ]
  },
  {
   "cell_type": "code",
   "execution_count": 210,
   "id": "4e2b5fd6-b31d-4359-bbc9-4421f3f62a5a",
   "metadata": {},
   "outputs": [
    {
     "name": "stdout",
     "output_type": "stream",
     "text": [
      "              precision    recall  f1-score   support\n",
      "\n",
      "           0       0.91      0.94      0.92     37587\n",
      "           1       0.26      0.21      0.23      4176\n",
      "\n",
      "    accuracy                           0.86     41763\n",
      "   macro avg       0.59      0.57      0.58     41763\n",
      "weighted avg       0.85      0.86      0.86     41763\n",
      "\n"
     ]
    }
   ],
   "source": [
    "from sklearn.metrics import classification_report\n",
    "import numpy as np\n",
    "\n",
    "# 예: 6주차 기준 생존확률 추출\n",
    "surv_funcs = rsf.predict_survival_function(X_test)\n",
    "s6 = np.array([fn(6) for fn in surv_funcs])\n",
    "\n",
    "# 6주차 생존확률 기준 0.85 이하 → 이탈 예측\n",
    "y_pred = (s6 < 0.85).astype(int)\n",
    "y_true = y_test[\"event\"].astype(int)\n",
    "\n",
    "from sklearn.metrics import classification_report\n",
    "print(classification_report(y_true, y_pred))\n",
    "\n"
   ]
  },
  {
   "cell_type": "code",
   "execution_count": 170,
   "id": "b8a2a11c-19d8-4367-90c7-f959a7a5e5fd",
   "metadata": {},
   "outputs": [
    {
     "data": {
      "image/png": "[encoded data removed]",
      "text/plain": [
       "<Figure size 1000x500 with 1 Axes>"
      ]
     },
     "metadata": {},
     "output_type": "display_data"
    }
   ],
   "source": [
    "import matplotlib.pyplot as plt\n",
    "plt.hist(s6, bins=20)\n",
    "plt.title(\"6주차 생존확률 분포\")\n",
    "plt.xlabel(\"S(6)\")\n",
    "plt.ylabel(\"유저 수\")\n",
    "plt.show()\n"
   ]
  },
  {
   "cell_type": "code",
   "execution_count": 175,
   "id": "bac961c3-a39b-45c0-ac2c-c808b82b9776",
   "metadata": {},
   "outputs": [
    {
     "name": "stdout",
     "output_type": "stream",
     "text": [
      "              precision    recall  f1-score   support\n",
      "\n",
      "           0       0.90      0.82      0.86     37587\n",
      "           1       0.10      0.18      0.13      4176\n",
      "\n",
      "    accuracy                           0.76     41763\n",
      "   macro avg       0.50      0.50      0.49     41763\n",
      "weighted avg       0.82      0.76      0.79     41763\n",
      "\n"
     ]
    }
   ],
   "source": [
    "# ✅ 전체 분류 모델 설계 및 저장 코드 (RandomForestClassifier 기반)\n",
    "\n",
    "import pandas as pd\n",
    "import numpy as np\n",
    "from sklearn.ensemble import RandomForestClassifier\n",
    "from sklearn.model_selection import train_test_split\n",
    "from sklearn.metrics import classification_report, confusion_matrix\n",
    "import joblib\n",
    "\n",
    "# 📌 1. 데이터 불러오기\n",
    "df = pd.read_csv(\"머신러닝용고정스냅샷.csv\", low_memory=False)\n",
    "df[\"popularity_zscore\"] = df[\"popularity_zscore\"].fillna(0)\n",
    "\n",
    "# 📌 2. 수치형 안정화\n",
    "numeric_cols = [\"character_level\", \"authentic_sum\", \"popularity_zscore\", \"character_age_days\"]\n",
    "for col in numeric_cols:\n",
    "    df[col] = pd.to_numeric(df[col], errors=\"coerce\")\n",
    "\n",
    "# 📌 3. 범주형 인코딩\n",
    "categorical_cols = [\"segment\", \"level_segment\", \"set_combo_group\", \"character_class\", \"world_name\"]\n",
    "df_encoded = pd.get_dummies(df[categorical_cols], drop_first=True)\n",
    "\n",
    "# 📌 4. 피처셋 구성 (duration, event 제거)\n",
    "X = pd.concat([\n",
    "    df[[\n",
    "        \"character_level\", \"authentic_sum\", \"popularity_zscore\", \"character_age_days\",\n",
    "        \"new_user_flag\", \"veteran_flag\", \"liberation_flag\", \"arcane_max_flag\",\n",
    "        \"dojang_active_flag\", \"dojang_40plus_flag\"\n",
    "    ]],\n",
    "    df_encoded\n",
    "], axis=1)\n",
    "\n",
    "y = df[\"event\"]  # 타겟: 이탈 여부\n",
    "\n",
    "# 📌 5. 학습/검증 분할\n",
    "X_train, X_test, y_train, y_test = train_test_split(\n",
    "    X, y, test_size=0.2, stratify=y, random_state=42\n",
    ")\n",
    "\n",
    "# 📌 6. 모델 학습\n",
    "clf = RandomForestClassifier(\n",
    "    n_estimators=200,\n",
    "    max_depth=None,\n",
    "    min_samples_leaf=5,\n",
    "    random_state=42,\n",
    "    n_jobs=-1,\n",
    "    class_weight='balanced'\n",
    ")\n",
    "clf.fit(X_train, y_train)\n",
    "\n",
    "# 📌 7. 평가\n",
    "y_pred = clf.predict(X_test)\n",
    "y_prob = clf.predict_proba(X_test)[:, 1]\n",
    "\n",
    "classification_report_text = classification_report(y_test, y_pred)\n",
    "confusion = confusion_matrix(y_test, y_pred)\n",
    "\n",
    "# 📌 8. 저장\n",
    "joblib.dump(clf, \"rf_classifier_model.pkl\")\n",
    "X_train.to_pickle(\"X_train_cls.pkl\")\n",
    "X_test.to_pickle(\"X_test_cls.pkl\")\n",
    "y_train.to_pickle(\"y_train_cls.pkl\")\n",
    "y_test.to_pickle(\"y_test_cls.pkl\")\n",
    "\n",
    "from sklearn.metrics import classification_report\n",
    "print(classification_report(y_true, y_pred))\n",
    "\n"
   ]
  },
  {
   "cell_type": "code",
   "execution_count": 176,
   "id": "e7de7d8b-052e-4a3d-bf08-28259fd43b8a",
   "metadata": {},
   "outputs": [
    {
     "data": {
      "image/png": "[encoded data removed]",
      "text/plain": [
       "<Figure size 1000x500 with 1 Axes>"
      ]
     },
     "metadata": {},
     "output_type": "display_data"
    }
   ],
   "source": [
    "import matplotlib.pyplot as plt\n",
    "\n",
    "# ocid로 유저 인덱스 찾기\n",
    "target_ocid = \"2f70c853829c5d4538e7acb25e07d6c3\"\n",
    "target_index = df[df[\"ocid\"] == target_ocid].index[0]\n",
    "\n",
    "# 해당 유저 row → X 포맷으로 추출\n",
    "X_target = X.loc[[target_index]]\n",
    "\n",
    "# 생존함수 얻기\n",
    "surv_fn = rsf.predict_survival_function(X_target)[0]\n",
    "\n",
    "# 생존곡선 그리기 (1~10주차 예시)\n",
    "weeks = list(range(1, 11))\n",
    "probs = [surv_fn(w) for w in weeks]\n",
    "\n",
    "plt.plot(weeks, probs, marker=\"o\")\n",
    "plt.title(f\"User {target_ocid} 생존곡선\")\n",
    "plt.xlabel(\"주차\")\n",
    "plt.ylabel(\"생존확률\")\n",
    "plt.grid()\n",
    "plt.show()\n"
   ]
  },
  {
   "cell_type": "code",
   "execution_count": 177,
   "id": "bb0b4053-2d62-4393-aca5-123db5b49a85",
   "metadata": {},
   "outputs": [
    {
     "data": {
      "image/png": "[encoded data removed]",
      "text/plain": [
       "<Figure size 1000x500 with 1 Axes>"
      ]
     },
     "metadata": {},
     "output_type": "display_data"
    }
   ],
   "source": [
    "# event == 1 (이탈자)인 유저만 필터\n",
    "df_event_1 = df[df[\"event\"] == 1]\n",
    "\n",
    "# 아무 유저 하나 ocid 확인\n",
    "sample_ocid = df_event_1.iloc[0][\"ocid\"]\n",
    "\n",
    "# 해당 ocid에 대해 생존곡선 그리기\n",
    "idx = df[df[\"ocid\"] == sample_ocid].index[0]\n",
    "X_target = X.loc[[idx]]\n",
    "surv_fn = rsf.predict_survival_function(X_target)[0]\n",
    "\n",
    "weeks = list(range(1, 11))\n",
    "probs = [surv_fn(w) for w in weeks]\n",
    "\n",
    "plt.plot(weeks, probs, marker=\"o\")\n",
    "plt.title(f\"User {sample_ocid} (이탈자) 생존곡선\")\n",
    "plt.xlabel(\"주차\")\n",
    "plt.ylabel(\"생존확률\")\n",
    "plt.grid()\n",
    "plt.show()\n"
   ]
  },
  {
   "cell_type": "code",
   "execution_count": 10,
   "id": "6791afec-48b3-4425-a0fd-a03391292bda",
   "metadata": {},
   "outputs": [
    {
     "ename": "ModuleNotFoundError",
     "evalue": "No module named 'sklearn.ensemble._gb_losses'",
     "output_type": "error",
     "traceback": [
      "\u001b[1;31m---------------------------------------------------------------------------\u001b[0m",
      "\u001b[1;31mModuleNotFoundError\u001b[0m                       Traceback (most recent call last)",
      "Cell \u001b[1;32mIn[10], line 5\u001b[0m\n\u001b[0;32m      3\u001b[0m \u001b[38;5;28;01mimport\u001b[39;00m \u001b[38;5;21;01mmatplotlib\u001b[39;00m\u001b[38;5;21;01m.\u001b[39;00m\u001b[38;5;21;01mpyplot\u001b[39;00m \u001b[38;5;28;01mas\u001b[39;00m \u001b[38;5;21;01mplt\u001b[39;00m\n\u001b[0;32m      4\u001b[0m \u001b[38;5;28;01mimport\u001b[39;00m \u001b[38;5;21;01mjoblib\u001b[39;00m\n\u001b[1;32m----> 5\u001b[0m \u001b[38;5;28;01mfrom\u001b[39;00m \u001b[38;5;21;01msksurv\u001b[39;00m\u001b[38;5;21;01m.\u001b[39;00m\u001b[38;5;21;01mensemble\u001b[39;00m \u001b[38;5;28;01mimport\u001b[39;00m RandomSurvivalForest\n\u001b[0;32m      7\u001b[0m \u001b[38;5;66;03m# ✅ 모델 및 데이터 로딩\u001b[39;00m\n\u001b[0;32m      8\u001b[0m rsf \u001b[38;5;241m=\u001b[39m joblib\u001b[38;5;241m.\u001b[39mload(\u001b[38;5;124m\"\u001b[39m\u001b[38;5;124mrsf_model.pkl\u001b[39m\u001b[38;5;124m\"\u001b[39m)\n",
      "File \u001b[1;32m~\\anaconda3\\Lib\\site-packages\\sksurv\\ensemble\\__init__.py:1\u001b[0m\n\u001b[1;32m----> 1\u001b[0m \u001b[38;5;28;01mfrom\u001b[39;00m \u001b[38;5;21;01m.\u001b[39;00m\u001b[38;5;21;01mboosting\u001b[39;00m \u001b[38;5;28;01mimport\u001b[39;00m ComponentwiseGradientBoostingSurvivalAnalysis, GradientBoostingSurvivalAnalysis  \u001b[38;5;66;03m# noqa: F401\u001b[39;00m\n\u001b[0;32m      2\u001b[0m \u001b[38;5;28;01mfrom\u001b[39;00m \u001b[38;5;21;01m.\u001b[39;00m\u001b[38;5;21;01mforest\u001b[39;00m \u001b[38;5;28;01mimport\u001b[39;00m ExtraSurvivalTrees, RandomSurvivalForest\n",
      "File \u001b[1;32m~\\anaconda3\\Lib\\site-packages\\sksurv\\ensemble\\boosting.py:32\u001b[0m\n\u001b[0;32m     30\u001b[0m \u001b[38;5;28;01mfrom\u001b[39;00m \u001b[38;5;21;01m.\u001b[39;00m\u001b[38;5;21;01m.\u001b[39;00m\u001b[38;5;21;01mlinear_model\u001b[39;00m\u001b[38;5;21;01m.\u001b[39;00m\u001b[38;5;21;01mcoxph\u001b[39;00m \u001b[38;5;28;01mimport\u001b[39;00m BreslowEstimator\n\u001b[0;32m     31\u001b[0m \u001b[38;5;28;01mfrom\u001b[39;00m \u001b[38;5;21;01m.\u001b[39;00m\u001b[38;5;21;01m.\u001b[39;00m\u001b[38;5;21;01mutil\u001b[39;00m \u001b[38;5;28;01mimport\u001b[39;00m check_array_survival\n\u001b[1;32m---> 32\u001b[0m \u001b[38;5;28;01mfrom\u001b[39;00m \u001b[38;5;21;01m.\u001b[39;00m\u001b[38;5;21;01msurvival_loss\u001b[39;00m \u001b[38;5;28;01mimport\u001b[39;00m LOSS_FUNCTIONS, CensoredSquaredLoss, CoxPH, IPCWLeastSquaresError\n\u001b[0;32m     34\u001b[0m __all__ \u001b[38;5;241m=\u001b[39m [\u001b[38;5;124m\"\u001b[39m\u001b[38;5;124mComponentwiseGradientBoostingSurvivalAnalysis\u001b[39m\u001b[38;5;124m\"\u001b[39m, \u001b[38;5;124m\"\u001b[39m\u001b[38;5;124mGradientBoostingSurvivalAnalysis\u001b[39m\u001b[38;5;124m\"\u001b[39m]\n\u001b[0;32m     37\u001b[0m \u001b[38;5;28;01mdef\u001b[39;00m \u001b[38;5;21m_sample_binomial_plus_one\u001b[39m(p, size, random_state):\n",
      "File \u001b[1;32m~\\anaconda3\\Lib\\site-packages\\sksurv\\ensemble\\survival_loss.py:17\u001b[0m\n\u001b[0;32m     15\u001b[0m \u001b[38;5;28;01mimport\u001b[39;00m \u001b[38;5;21;01mnumpy\u001b[39;00m \u001b[38;5;28;01mas\u001b[39;00m \u001b[38;5;21;01mnp\u001b[39;00m\n\u001b[0;32m     16\u001b[0m \u001b[38;5;28;01mfrom\u001b[39;00m \u001b[38;5;21;01msklearn\u001b[39;00m\u001b[38;5;21;01m.\u001b[39;00m\u001b[38;5;21;01mdummy\u001b[39;00m \u001b[38;5;28;01mimport\u001b[39;00m DummyRegressor\n\u001b[1;32m---> 17\u001b[0m \u001b[38;5;28;01mfrom\u001b[39;00m \u001b[38;5;21;01msklearn\u001b[39;00m\u001b[38;5;21;01m.\u001b[39;00m\u001b[38;5;21;01mensemble\u001b[39;00m\u001b[38;5;21;01m.\u001b[39;00m\u001b[38;5;21;01m_gb_losses\u001b[39;00m \u001b[38;5;28;01mimport\u001b[39;00m RegressionLossFunction\n\u001b[0;32m     18\u001b[0m \u001b[38;5;28;01mfrom\u001b[39;00m \u001b[38;5;21;01msklearn\u001b[39;00m\u001b[38;5;21;01m.\u001b[39;00m\u001b[38;5;21;01mutils\u001b[39;00m\u001b[38;5;21;01m.\u001b[39;00m\u001b[38;5;21;01mextmath\u001b[39;00m \u001b[38;5;28;01mimport\u001b[39;00m squared_norm\n\u001b[0;32m     20\u001b[0m \u001b[38;5;28;01mfrom\u001b[39;00m \u001b[38;5;21;01m.\u001b[39;00m\u001b[38;5;21;01m.\u001b[39;00m\u001b[38;5;21;01mnonparametric\u001b[39;00m \u001b[38;5;28;01mimport\u001b[39;00m ipc_weights\n",
      "\u001b[1;31mModuleNotFoundError\u001b[0m: No module named 'sklearn.ensemble._gb_losses'"
     ]
    }
   ],
   "source": [
    "import pandas as pd\n",
    "import numpy as np\n",
    "import matplotlib.pyplot as plt\n",
    "import joblib\n",
    "from sksurv.ensemble import RandomSurvivalForest\n",
    "\n",
    "# ✅ 모델 및 데이터 로딩\n",
    "rsf = joblib.load(\"rsf_model.pkl\")\n",
    "X = pd.read_pickle(\"X_train.pkl\")  # 병합된 전체 데이터프레임\n",
    "df = pd.read_csv(\"머신러닝용고정스냅샷.csv\", low_memory=False)\n",
    "\n",
    "# ✅ 생존함수 계산\n",
    "surv_fns = rsf.predict_survival_function(X)\n",
    "\n",
    "# ✅ 주차별 생존확률을 행렬로 추출 (1~10주차)\n",
    "weeks = np.arange(1, 11)\n",
    "surv_probs_matrix = np.array([[fn(w) for w in weeks] for fn in surv_fns])\n",
    "\n",
    "# ✅ event 컬럼 병합\n",
    "X[\"event\"] = df.loc[X.index, \"event\"].values\n",
    "\n",
    "# ✅ 평균 생존확률 계산\n",
    "mean_surv_0 = surv_probs_matrix[X[\"event\"] == 0].mean(axis=0)\n",
    "mean_surv_1 = surv_probs_matrix[X[\"event\"] == 1].mean(axis=0)\n",
    "\n",
    "# ✅ 시각화\n",
    "plt.figure(figsize=(8, 5))\n",
    "plt.plot(weeks, mean_surv_0, label=\"비이탈자 평균\", marker=\"o\")\n",
    "plt.plot(weeks, mean_surv_1, label=\"이탈자 평균\", marker=\"o\")\n",
    "plt.title(\"이탈자 vs 비이탈자 평균 생존곡선\")\n",
    "plt.xlabel(\"주차\")\n",
    "plt.ylabel(\"생존확률\")\n",
    "plt.legend()\n",
    "plt.grid(True)\n",
    "plt.tight_layout()\n",
    "plt.show()\n"
   ]
  },
  {
   "cell_type": "code",
   "execution_count": 188,
   "id": "a2a8a1de-6a11-4f61-b0ed-4158300e0074",
   "metadata": {},
   "outputs": [],
   "source": [
    "import pandas as pd\n",
    "\n",
    "# 1. 데이터 불러오기\n",
    "df2 = pd.read_csv(\"time_varying_with_all_changes.csv\", low_memory=False)\n",
    "# 2. 날짜형 변환 및 기준일 설정\n",
    "df2[\"start_date\"] = pd.to_datetime(df2[\"start_date\"])\n",
    "df2[\"stop_date\"] = pd.to_datetime(df2[\"stop_date\"])\n",
    "start_point = df2[\"start_date\"].min()\n",
    "df2[\"start\"] = (df2[\"start_date\"] - start_point).dt.days\n",
    "df2[\"stop\"] = (df2[\"stop_date\"] - start_point).dt.days\n",
    "\n",
    "# 3. 주차 생성 (정상 주차 흐름 파악용)\n",
    "df2[\"week\"] = ((df2[\"start_date\"] - start_point).dt.days // 7) + 1\n",
    "df2 = df2[df2[\"week\"] <= 9]\n",
    "# ocid 기준으로 유저 5명 샘플링\n",
    "sampled_ocids = df2[\"ocid\"].dropna().unique()[:5]  # 또는 .sample(n=5, random_state=42)\n",
    "\n",
    "# 샘플링한 유저 데이터만 추출\n",
    "df_sampled = df2[df2[\"ocid\"].isin(sampled_ocids)].sort_values([\"ocid\", \"week\"])\n",
    "\n",
    "# 저장해서 ChatGPT에 올리기\n",
    "df_sampled.to_csv(\"샘플_유저_time_varying.csv\", index=False)\n"
   ]
  },
  {
   "cell_type": "code",
   "execution_count": null,
   "id": "13664981-6cc7-496a-83e2-95c00125faa4",
   "metadata": {},
   "outputs": [],
   "source": [
    "# 날짜 처리\n",
    "df2[\"character_date_create\"] = pd.to_datetime(df2[\"character_date_create\"], errors=\"coerce\")\n",
    "df2[\"character_date_create\"] = df2[\"character_date_create\"].dt.tz_localize(None)\n",
    "reference_date = pd.to_datetime(\"2024-10-17\")\n",
    "df2[\"character_age_days\"] = (reference_date - df2[\"character_date_create\"]).dt.days"
   ]
  },
  {
   "cell_type": "code",
   "execution_count": 9,
   "id": "654a9e67-dab7-462c-9ab2-970a93d98131",
   "metadata": {},
   "outputs": [
    {
     "ename": "KeyboardInterrupt",
     "evalue": "",
     "output_type": "error",
     "traceback": [
      "\u001b[1;31m---------------------------------------------------------------------------\u001b[0m",
      "\u001b[1;31mKeyboardInterrupt\u001b[0m                         Traceback (most recent call last)",
      "Cell \u001b[1;32mIn[9], line 17\u001b[0m\n\u001b[0;32m     15\u001b[0m \u001b[38;5;66;03m# 3. 주차 생성 (정상 주차 흐름 파악용)\u001b[39;00m\n\u001b[0;32m     16\u001b[0m df2[\u001b[38;5;124m\"\u001b[39m\u001b[38;5;124mweek\u001b[39m\u001b[38;5;124m\"\u001b[39m] \u001b[38;5;241m=\u001b[39m ((df2[\u001b[38;5;124m\"\u001b[39m\u001b[38;5;124mstart_date\u001b[39m\u001b[38;5;124m\"\u001b[39m] \u001b[38;5;241m-\u001b[39m start_point)\u001b[38;5;241m.\u001b[39mdt\u001b[38;5;241m.\u001b[39mdays \u001b[38;5;241m/\u001b[39m\u001b[38;5;241m/\u001b[39m \u001b[38;5;241m7\u001b[39m) \u001b[38;5;241m+\u001b[39m \u001b[38;5;241m1\u001b[39m\n\u001b[1;32m---> 17\u001b[0m df2 \u001b[38;5;241m=\u001b[39m df2[df2[\u001b[38;5;124m\"\u001b[39m\u001b[38;5;124mweek\u001b[39m\u001b[38;5;124m\"\u001b[39m] \u001b[38;5;241m<\u001b[39m\u001b[38;5;241m=\u001b[39m \u001b[38;5;241m9\u001b[39m]\n\u001b[0;32m     19\u001b[0m \u001b[38;5;66;03m# 날짜 처리\u001b[39;00m\n\u001b[0;32m     20\u001b[0m df2[\u001b[38;5;124m\"\u001b[39m\u001b[38;5;124mcharacter_date_create\u001b[39m\u001b[38;5;124m\"\u001b[39m] \u001b[38;5;241m=\u001b[39m pd\u001b[38;5;241m.\u001b[39mto_datetime(df2[\u001b[38;5;124m\"\u001b[39m\u001b[38;5;124mcharacter_date_create\u001b[39m\u001b[38;5;124m\"\u001b[39m], errors\u001b[38;5;241m=\u001b[39m\u001b[38;5;124m\"\u001b[39m\u001b[38;5;124mcoerce\u001b[39m\u001b[38;5;124m\"\u001b[39m)\n",
      "File \u001b[1;32m~\\anaconda3\\Lib\\site-packages\\pandas\\core\\frame.py:4093\u001b[0m, in \u001b[0;36mDataFrame.__getitem__\u001b[1;34m(self, key)\u001b[0m\n\u001b[0;32m   4091\u001b[0m \u001b[38;5;66;03m# Do we have a (boolean) 1d indexer?\u001b[39;00m\n\u001b[0;32m   4092\u001b[0m \u001b[38;5;28;01mif\u001b[39;00m com\u001b[38;5;241m.\u001b[39mis_bool_indexer(key):\n\u001b[1;32m-> 4093\u001b[0m     \u001b[38;5;28;01mreturn\u001b[39;00m \u001b[38;5;28mself\u001b[39m\u001b[38;5;241m.\u001b[39m_getitem_bool_array(key)\n\u001b[0;32m   4095\u001b[0m \u001b[38;5;66;03m# We are left with two options: a single key, and a collection of keys,\u001b[39;00m\n\u001b[0;32m   4096\u001b[0m \u001b[38;5;66;03m# We interpret tuples as collections only for non-MultiIndex\u001b[39;00m\n\u001b[0;32m   4097\u001b[0m is_single_key \u001b[38;5;241m=\u001b[39m \u001b[38;5;28misinstance\u001b[39m(key, \u001b[38;5;28mtuple\u001b[39m) \u001b[38;5;129;01mor\u001b[39;00m \u001b[38;5;129;01mnot\u001b[39;00m is_list_like(key)\n",
      "File \u001b[1;32m~\\anaconda3\\Lib\\site-packages\\pandas\\core\\frame.py:4155\u001b[0m, in \u001b[0;36mDataFrame._getitem_bool_array\u001b[1;34m(self, key)\u001b[0m\n\u001b[0;32m   4152\u001b[0m     \u001b[38;5;28;01mreturn\u001b[39;00m \u001b[38;5;28mself\u001b[39m\u001b[38;5;241m.\u001b[39mcopy(deep\u001b[38;5;241m=\u001b[39m\u001b[38;5;28;01mNone\u001b[39;00m)\n\u001b[0;32m   4154\u001b[0m indexer \u001b[38;5;241m=\u001b[39m key\u001b[38;5;241m.\u001b[39mnonzero()[\u001b[38;5;241m0\u001b[39m]\n\u001b[1;32m-> 4155\u001b[0m \u001b[38;5;28;01mreturn\u001b[39;00m \u001b[38;5;28mself\u001b[39m\u001b[38;5;241m.\u001b[39m_take_with_is_copy(indexer, axis\u001b[38;5;241m=\u001b[39m\u001b[38;5;241m0\u001b[39m)\n",
      "File \u001b[1;32m~\\anaconda3\\Lib\\site-packages\\pandas\\core\\generic.py:4153\u001b[0m, in \u001b[0;36mNDFrame._take_with_is_copy\u001b[1;34m(self, indices, axis)\u001b[0m\n\u001b[0;32m   4142\u001b[0m \u001b[38;5;129m@final\u001b[39m\n\u001b[0;32m   4143\u001b[0m \u001b[38;5;28;01mdef\u001b[39;00m \u001b[38;5;21m_take_with_is_copy\u001b[39m(\u001b[38;5;28mself\u001b[39m, indices, axis: Axis \u001b[38;5;241m=\u001b[39m \u001b[38;5;241m0\u001b[39m) \u001b[38;5;241m-\u001b[39m\u001b[38;5;241m>\u001b[39m Self:\n\u001b[0;32m   4144\u001b[0m \u001b[38;5;250m    \u001b[39m\u001b[38;5;124;03m\"\"\"\u001b[39;00m\n\u001b[0;32m   4145\u001b[0m \u001b[38;5;124;03m    Internal version of the `take` method that sets the `_is_copy`\u001b[39;00m\n\u001b[0;32m   4146\u001b[0m \u001b[38;5;124;03m    attribute to keep track of the parent dataframe (using in indexing\u001b[39;00m\n\u001b[1;32m   (...)\u001b[0m\n\u001b[0;32m   4151\u001b[0m \u001b[38;5;124;03m    See the docstring of `take` for full explanation of the parameters.\u001b[39;00m\n\u001b[0;32m   4152\u001b[0m \u001b[38;5;124;03m    \"\"\"\u001b[39;00m\n\u001b[1;32m-> 4153\u001b[0m     result \u001b[38;5;241m=\u001b[39m \u001b[38;5;28mself\u001b[39m\u001b[38;5;241m.\u001b[39mtake(indices\u001b[38;5;241m=\u001b[39mindices, axis\u001b[38;5;241m=\u001b[39maxis)\n\u001b[0;32m   4154\u001b[0m     \u001b[38;5;66;03m# Maybe set copy if we didn't actually change the index.\u001b[39;00m\n\u001b[0;32m   4155\u001b[0m     \u001b[38;5;28;01mif\u001b[39;00m \u001b[38;5;28mself\u001b[39m\u001b[38;5;241m.\u001b[39mndim \u001b[38;5;241m==\u001b[39m \u001b[38;5;241m2\u001b[39m \u001b[38;5;129;01mand\u001b[39;00m \u001b[38;5;129;01mnot\u001b[39;00m result\u001b[38;5;241m.\u001b[39m_get_axis(axis)\u001b[38;5;241m.\u001b[39mequals(\u001b[38;5;28mself\u001b[39m\u001b[38;5;241m.\u001b[39m_get_axis(axis)):\n",
      "File \u001b[1;32m~\\anaconda3\\Lib\\site-packages\\pandas\\core\\generic.py:4133\u001b[0m, in \u001b[0;36mNDFrame.take\u001b[1;34m(self, indices, axis, **kwargs)\u001b[0m\n\u001b[0;32m   4128\u001b[0m     \u001b[38;5;66;03m# We can get here with a slice via DataFrame.__getitem__\u001b[39;00m\n\u001b[0;32m   4129\u001b[0m     indices \u001b[38;5;241m=\u001b[39m np\u001b[38;5;241m.\u001b[39marange(\n\u001b[0;32m   4130\u001b[0m         indices\u001b[38;5;241m.\u001b[39mstart, indices\u001b[38;5;241m.\u001b[39mstop, indices\u001b[38;5;241m.\u001b[39mstep, dtype\u001b[38;5;241m=\u001b[39mnp\u001b[38;5;241m.\u001b[39mintp\n\u001b[0;32m   4131\u001b[0m     )\n\u001b[1;32m-> 4133\u001b[0m new_data \u001b[38;5;241m=\u001b[39m \u001b[38;5;28mself\u001b[39m\u001b[38;5;241m.\u001b[39m_mgr\u001b[38;5;241m.\u001b[39mtake(\n\u001b[0;32m   4134\u001b[0m     indices,\n\u001b[0;32m   4135\u001b[0m     axis\u001b[38;5;241m=\u001b[39m\u001b[38;5;28mself\u001b[39m\u001b[38;5;241m.\u001b[39m_get_block_manager_axis(axis),\n\u001b[0;32m   4136\u001b[0m     verify\u001b[38;5;241m=\u001b[39m\u001b[38;5;28;01mTrue\u001b[39;00m,\n\u001b[0;32m   4137\u001b[0m )\n\u001b[0;32m   4138\u001b[0m \u001b[38;5;28;01mreturn\u001b[39;00m \u001b[38;5;28mself\u001b[39m\u001b[38;5;241m.\u001b[39m_constructor_from_mgr(new_data, axes\u001b[38;5;241m=\u001b[39mnew_data\u001b[38;5;241m.\u001b[39maxes)\u001b[38;5;241m.\u001b[39m__finalize__(\n\u001b[0;32m   4139\u001b[0m     \u001b[38;5;28mself\u001b[39m, method\u001b[38;5;241m=\u001b[39m\u001b[38;5;124m\"\u001b[39m\u001b[38;5;124mtake\u001b[39m\u001b[38;5;124m\"\u001b[39m\n\u001b[0;32m   4140\u001b[0m )\n",
      "File \u001b[1;32m~\\anaconda3\\Lib\\site-packages\\pandas\\core\\internals\\managers.py:894\u001b[0m, in \u001b[0;36mBaseBlockManager.take\u001b[1;34m(self, indexer, axis, verify)\u001b[0m\n\u001b[0;32m    891\u001b[0m indexer \u001b[38;5;241m=\u001b[39m maybe_convert_indices(indexer, n, verify\u001b[38;5;241m=\u001b[39mverify)\n\u001b[0;32m    893\u001b[0m new_labels \u001b[38;5;241m=\u001b[39m \u001b[38;5;28mself\u001b[39m\u001b[38;5;241m.\u001b[39maxes[axis]\u001b[38;5;241m.\u001b[39mtake(indexer)\n\u001b[1;32m--> 894\u001b[0m \u001b[38;5;28;01mreturn\u001b[39;00m \u001b[38;5;28mself\u001b[39m\u001b[38;5;241m.\u001b[39mreindex_indexer(\n\u001b[0;32m    895\u001b[0m     new_axis\u001b[38;5;241m=\u001b[39mnew_labels,\n\u001b[0;32m    896\u001b[0m     indexer\u001b[38;5;241m=\u001b[39mindexer,\n\u001b[0;32m    897\u001b[0m     axis\u001b[38;5;241m=\u001b[39maxis,\n\u001b[0;32m    898\u001b[0m     allow_dups\u001b[38;5;241m=\u001b[39m\u001b[38;5;28;01mTrue\u001b[39;00m,\n\u001b[0;32m    899\u001b[0m     copy\u001b[38;5;241m=\u001b[39m\u001b[38;5;28;01mNone\u001b[39;00m,\n\u001b[0;32m    900\u001b[0m )\n",
      "File \u001b[1;32m~\\anaconda3\\Lib\\site-packages\\pandas\\core\\internals\\managers.py:688\u001b[0m, in \u001b[0;36mBaseBlockManager.reindex_indexer\u001b[1;34m(self, new_axis, indexer, axis, fill_value, allow_dups, copy, only_slice, use_na_proxy)\u001b[0m\n\u001b[0;32m    680\u001b[0m     new_blocks \u001b[38;5;241m=\u001b[39m \u001b[38;5;28mself\u001b[39m\u001b[38;5;241m.\u001b[39m_slice_take_blocks_ax0(\n\u001b[0;32m    681\u001b[0m         indexer,\n\u001b[0;32m    682\u001b[0m         fill_value\u001b[38;5;241m=\u001b[39mfill_value,\n\u001b[0;32m    683\u001b[0m         only_slice\u001b[38;5;241m=\u001b[39monly_slice,\n\u001b[0;32m    684\u001b[0m         use_na_proxy\u001b[38;5;241m=\u001b[39muse_na_proxy,\n\u001b[0;32m    685\u001b[0m     )\n\u001b[0;32m    686\u001b[0m \u001b[38;5;28;01melse\u001b[39;00m:\n\u001b[0;32m    687\u001b[0m     new_blocks \u001b[38;5;241m=\u001b[39m [\n\u001b[1;32m--> 688\u001b[0m         blk\u001b[38;5;241m.\u001b[39mtake_nd(\n\u001b[0;32m    689\u001b[0m             indexer,\n\u001b[0;32m    690\u001b[0m             axis\u001b[38;5;241m=\u001b[39m\u001b[38;5;241m1\u001b[39m,\n\u001b[0;32m    691\u001b[0m             fill_value\u001b[38;5;241m=\u001b[39m(\n\u001b[0;32m    692\u001b[0m                 fill_value \u001b[38;5;28;01mif\u001b[39;00m fill_value \u001b[38;5;129;01mis\u001b[39;00m \u001b[38;5;129;01mnot\u001b[39;00m \u001b[38;5;28;01mNone\u001b[39;00m \u001b[38;5;28;01melse\u001b[39;00m blk\u001b[38;5;241m.\u001b[39mfill_value\n\u001b[0;32m    693\u001b[0m             ),\n\u001b[0;32m    694\u001b[0m         )\n\u001b[0;32m    695\u001b[0m         \u001b[38;5;28;01mfor\u001b[39;00m blk \u001b[38;5;129;01min\u001b[39;00m \u001b[38;5;28mself\u001b[39m\u001b[38;5;241m.\u001b[39mblocks\n\u001b[0;32m    696\u001b[0m     ]\n\u001b[0;32m    698\u001b[0m new_axes \u001b[38;5;241m=\u001b[39m \u001b[38;5;28mlist\u001b[39m(\u001b[38;5;28mself\u001b[39m\u001b[38;5;241m.\u001b[39maxes)\n\u001b[0;32m    699\u001b[0m new_axes[axis] \u001b[38;5;241m=\u001b[39m new_axis\n",
      "File \u001b[1;32m~\\anaconda3\\Lib\\site-packages\\pandas\\core\\internals\\blocks.py:1307\u001b[0m, in \u001b[0;36mBlock.take_nd\u001b[1;34m(self, indexer, axis, new_mgr_locs, fill_value)\u001b[0m\n\u001b[0;32m   1304\u001b[0m     allow_fill \u001b[38;5;241m=\u001b[39m \u001b[38;5;28;01mTrue\u001b[39;00m\n\u001b[0;32m   1306\u001b[0m \u001b[38;5;66;03m# Note: algos.take_nd has upcast logic similar to coerce_to_target_dtype\u001b[39;00m\n\u001b[1;32m-> 1307\u001b[0m new_values \u001b[38;5;241m=\u001b[39m algos\u001b[38;5;241m.\u001b[39mtake_nd(\n\u001b[0;32m   1308\u001b[0m     values, indexer, axis\u001b[38;5;241m=\u001b[39maxis, allow_fill\u001b[38;5;241m=\u001b[39mallow_fill, fill_value\u001b[38;5;241m=\u001b[39mfill_value\n\u001b[0;32m   1309\u001b[0m )\n\u001b[0;32m   1311\u001b[0m \u001b[38;5;66;03m# Called from three places in managers, all of which satisfy\u001b[39;00m\n\u001b[0;32m   1312\u001b[0m \u001b[38;5;66;03m#  these assertions\u001b[39;00m\n\u001b[0;32m   1313\u001b[0m \u001b[38;5;28;01mif\u001b[39;00m \u001b[38;5;28misinstance\u001b[39m(\u001b[38;5;28mself\u001b[39m, ExtensionBlock):\n\u001b[0;32m   1314\u001b[0m     \u001b[38;5;66;03m# NB: in this case, the 'axis' kwarg will be ignored in the\u001b[39;00m\n\u001b[0;32m   1315\u001b[0m     \u001b[38;5;66;03m#  algos.take_nd call above.\u001b[39;00m\n",
      "File \u001b[1;32m~\\anaconda3\\Lib\\site-packages\\pandas\\core\\array_algos\\take.py:117\u001b[0m, in \u001b[0;36mtake_nd\u001b[1;34m(arr, indexer, axis, fill_value, allow_fill)\u001b[0m\n\u001b[0;32m    114\u001b[0m     \u001b[38;5;28;01mreturn\u001b[39;00m arr\u001b[38;5;241m.\u001b[39mtake(indexer, fill_value\u001b[38;5;241m=\u001b[39mfill_value, allow_fill\u001b[38;5;241m=\u001b[39mallow_fill)\n\u001b[0;32m    116\u001b[0m arr \u001b[38;5;241m=\u001b[39m np\u001b[38;5;241m.\u001b[39masarray(arr)\n\u001b[1;32m--> 117\u001b[0m \u001b[38;5;28;01mreturn\u001b[39;00m _take_nd_ndarray(arr, indexer, axis, fill_value, allow_fill)\n",
      "File \u001b[1;32m~\\anaconda3\\Lib\\site-packages\\pandas\\core\\array_algos\\take.py:162\u001b[0m, in \u001b[0;36m_take_nd_ndarray\u001b[1;34m(arr, indexer, axis, fill_value, allow_fill)\u001b[0m\n\u001b[0;32m    157\u001b[0m     out \u001b[38;5;241m=\u001b[39m np\u001b[38;5;241m.\u001b[39mempty(out_shape, dtype\u001b[38;5;241m=\u001b[39mdtype)\n\u001b[0;32m    159\u001b[0m func \u001b[38;5;241m=\u001b[39m _get_take_nd_function(\n\u001b[0;32m    160\u001b[0m     arr\u001b[38;5;241m.\u001b[39mndim, arr\u001b[38;5;241m.\u001b[39mdtype, out\u001b[38;5;241m.\u001b[39mdtype, axis\u001b[38;5;241m=\u001b[39maxis, mask_info\u001b[38;5;241m=\u001b[39mmask_info\n\u001b[0;32m    161\u001b[0m )\n\u001b[1;32m--> 162\u001b[0m func(arr, indexer, out, fill_value)\n\u001b[0;32m    164\u001b[0m \u001b[38;5;28;01mif\u001b[39;00m flip_order:\n\u001b[0;32m    165\u001b[0m     out \u001b[38;5;241m=\u001b[39m out\u001b[38;5;241m.\u001b[39mT\n",
      "\u001b[1;31mKeyboardInterrupt\u001b[0m: "
     ]
    }
   ],
   "source": [
    "import pandas as pd\n",
    "import numpy as np\n",
    "from datetime import datetime\n",
    "from tensorflow.keras.preprocessing.sequence import pad_sequences\n",
    "\n",
    "# 샘플 데이터 로드\n",
    "df2 = pd.read_csv(\"time_varying_with_all_changes.csv\", low_memory=False)\n",
    "# 2. 날짜형 변환 및 기준일 설정\n",
    "df2[\"start_date\"] = pd.to_datetime(df2[\"start_date\"])\n",
    "df2[\"stop_date\"] = pd.to_datetime(df2[\"stop_date\"])\n",
    "start_point = df2[\"start_date\"].min()\n",
    "df2[\"start\"] = (df2[\"start_date\"] - start_point).dt.days\n",
    "df2[\"stop\"] = (df2[\"stop_date\"] - start_point).dt.days\n",
    "\n",
    "# 3. 주차 생성 (정상 주차 흐름 파악용)\n",
    "df2[\"week\"] = ((df2[\"start_date\"] - start_point).dt.days // 7) + 1\n",
    "df2 = df2[df2[\"week\"] <= 9]\n",
    "\n",
    "# 날짜 처리\n",
    "df2[\"character_date_create\"] = pd.to_datetime(df2[\"character_date_create\"], errors=\"coerce\")\n",
    "df2[\"character_date_create\"] = df2[\"character_date_create\"].dt.tz_localize(None)\n",
    "reference_date = pd.to_datetime(\"2024-10-17\")\n",
    "df2[\"character_age_days\"] = (reference_date - df2[\"character_date_create\"]).dt.days\n",
    "# 유저별 주차 정렬\n",
    "df2 = df2.sort_values(by=[\"ocid\", \"week\"])\n",
    "\n",
    "# 🔄 변화량 직접 계산\n",
    "df2[\"guild_flag_change\"] = df2.groupby(\"ocid\")[\"guild_flag\"].diff().fillna(0)\n",
    "df2[\"liberation_flag_change\"] = df2.groupby(\"ocid\")[\"liberation_flag\"].diff().fillna(0)\n",
    "\n",
    "#  시계열 피처 최종 확정\n",
    "time_cols = [\n",
    "    \"guild_flag_change\", \n",
    "    \"liberation_flag_change\", \n",
    "    \"authentic_sum_change\", \n",
    "    \"popularity_change\"\n",
    "]\n",
    "\n",
    "#  정적 피처 최종 확정\n",
    "static_cols = [\n",
    "    \"character_class\", \n",
    "    \"world_name\", \n",
    "    \"character_age_days\"\n",
    "]\n",
    "\n",
    "# 정적 피처 인코딩 (직업, 서버 → 원핫)\n",
    "df_static = df2.drop_duplicates(\"ocid\")[[\"ocid\"] + static_cols].copy()\n",
    "df_static = pd.get_dummies(df_static, columns=[\"character_class\", \"world_name\"], drop_first=True)\n",
    "\n",
    "# 타겟 구성\n",
    "df_target = df2.drop_duplicates(\"ocid\")[[\"ocid\", \"stop\", \"event\"]].copy()\n",
    "df_meta = pd.merge(df_static, df_target, on=\"ocid\")\n",
    "\n",
    "# 시계열 및 정적 피처, 타겟 분리\n",
    "X_time, X_static, y_duration, y_event = [], [], [], []\n",
    "\n",
    "for ocid, group in df2.groupby(\"ocid\"):\n",
    "    group = group.sort_values(\"week\")\n",
    "\n",
    "    sequence = group[time_cols].values\n",
    "    sequence_padded = pad_sequences([sequence], maxlen=10, padding=\"post\", dtype=\"float32\")[0]\n",
    "\n",
    "    if ocid not in df_meta[\"ocid\"].values:\n",
    "        continue\n",
    "\n",
    "    static_values = df_meta[df_meta[\"ocid\"] == ocid].drop(columns=[\"ocid\", \"stop\", \"event\"]).values[0]\n",
    "    duration = df_meta[df_meta[\"ocid\"] == ocid][\"stop\"].values[0]\n",
    "    event = df_meta[df_meta[\"ocid\"] == ocid][\"event\"].values[0]\n",
    "\n",
    "    X_time.append(sequence_padded)\n",
    "    X_static.append(static_values)\n",
    "    y_duration.append(duration)\n",
    "    y_event.append(event)\n",
    "\n",
    "# numpy 변환\n",
    "X_time = np.array(X_time)\n",
    "X_static = np.array(X_static)\n",
    "y_duration = np.array(y_duration)\n",
    "y_event = np.array(y_event)"
   ]
  },
  {
   "cell_type": "code",
   "execution_count": null,
   "id": "f8c373e2-1d44-4e90-832e-5feda520d0ed",
   "metadata": {},
   "outputs": [],
   "source": [
    "from tensorflow.keras.models import Model\n",
    "from tensorflow.keras.layers import Input, Masking, LSTM, Dense, Concatenate\n",
    "from tensorflow.keras.optimizers import Adam\n",
    "\n",
    "# 시계열 입력 (10주 × 4피처)\n",
    "input_seq = Input(shape=(10, 4), name=\"time_input\")\n",
    "x = Masking(mask_value=0.)(input_seq)\n",
    "x = LSTM(64, return_sequences=False)(x)\n",
    "\n",
    "# 정적 입력 (직업/월드/경과일 등)\n",
    "input_static = Input(shape=(X_static.shape[1],), name=\"static_input\")\n",
    "s = Dense(32, activation=\"relu\")(input_static)\n",
    "\n",
    "# 병합\n",
    "merged = Concatenate()([x, s])\n",
    "merged = Dense(32, activation=\"relu\")(merged)\n",
    "output = Dense(1, activation=\"sigmoid\", name=\"surv_prob\")(merged)  # 생존확률 (이탈 확률의 반대)\n",
    "\n",
    "# 모델 정의\n",
    "model = Model(inputs=[input_seq, input_static], outputs=output)\n",
    "\n",
    "# 컴파일 (우선 binary_crossentropy로 단순 이탈 분류 목적)\n",
    "model.compile(optimizer=Adam(0.001), loss=\"binary_crossentropy\", metrics=[\"accuracy\"])\n"
   ]
  },
  {
   "cell_type": "code",
   "execution_count": null,
   "id": "f1918916-177b-4738-bdd9-512ed39e58ab",
   "metadata": {},
   "outputs": [],
   "source": [
    "model.fit(\n",
    "    x=[X_time, X_static],\n",
    "    y=1 - y_event,  # 생존 예측을 위해 event=0이 양성\n",
    "    epochs=10,\n",
    "    batch_size=64,\n",
    "    validation_split=0.2,\n",
    "    verbose=1\n",
    ")\n"
   ]
  },
  {
   "cell_type": "code",
   "execution_count": null,
   "id": "d42ea945-e38e-44c4-a824-39f868de943f",
   "metadata": {},
   "outputs": [],
   "source": [
    "# 생존 확률 예측\n",
    "y_pred_survprob = model.predict([X_time, X_static])\n",
    "\n",
    "# 이탈 확률 = 1 - 생존확률\n",
    "y_pred_churnprob = 1 - y_pred_survprob\n"
   ]
  },
  {
   "cell_type": "code",
   "execution_count": 3,
   "id": "ba5aba4e-281a-4c24-86c7-eca72a48163d",
   "metadata": {},
   "outputs": [],
   "source": [
    "import joblib\n",
    "import pickle\n",
    "import pandas as pd\n",
    "\n",
    "# 모델 불러오기\n",
    "rsf = joblib.load(\"rsf_model.pkl\")\n",
    "\n",
    "# 데이터 불러오기\n",
    "X_train = pd.read_pickle(\"X_train.pkl\")\n",
    "X_test = pd.read_pickle(\"X_test.pkl\")\n",
    "\n",
    "with open(\"y_train.pkl\", \"rb\") as f:\n",
    "    y_train = pickle.load(f)\n",
    "with open(\"y_test.pkl\", \"rb\") as f:\n",
    "    y_test = pickle.load(f)\n"
   ]
  },
  {
   "cell_type": "code",
   "execution_count": 3,
   "id": "fa234617-d01a-41ad-bc64-163c2eb3f5a7",
   "metadata": {},
   "outputs": [
    {
     "name": "stdout",
     "output_type": "stream",
     "text": [
      "📊 Concordance Index (C-index): 0.7110\n"
     ]
    }
   ],
   "source": [
    "from sksurv.metrics import concordance_index_censored\n",
    "\n",
    "# RSF 예측 위험도 (낮을수록 생존 확률 높음)\n",
    "risk_scores = rsf.predict(X_test)\n",
    "\n",
    "# C-index 계산\n",
    "cindex = concordance_index_censored(\n",
    "    y_test[\"event\"], y_test[\"duration\"], risk_scores\n",
    ")[0]\n",
    "\n",
    "print(f\"📊 Concordance Index (C-index): {cindex:.4f}\")\n"
   ]
  },
  {
   "cell_type": "code",
   "execution_count": 4,
   "id": "6ed31f8c-dfe2-4a4e-a53a-a6eec8b3eda5",
   "metadata": {},
   "outputs": [
    {
     "data": {
      "image/png": "[encoded data removed]",
      "text/plain": [
       "<Figure size 800x500 with 1 Axes>"
      ]
     },
     "metadata": {},
     "output_type": "display_data"
    }
   ],
   "source": [
    "from sksurv.metrics import brier_score\n",
    "import numpy as np\n",
    "import matplotlib.pyplot as plt\n",
    "\n",
    "# 평가 시간 시점 (y_test duration 범위 내에서 설정)\n",
    "times = np.arange(2, 10)\n",
    "\n",
    "# 생존 함수 예측\n",
    "surv_funcs = rsf.predict_survival_function(X_test)\n",
    "surv_preds_array = np.asarray([[fn(t) for t in times] for fn in surv_funcs])\n",
    "\n",
    "# Brier Score 계산\n",
    "score_times, brier_scores = brier_score(y_train, y_test, surv_preds_array, times)\n",
    "\n",
    "# 시각화\n",
    "plt.figure(figsize=(8, 5))\n",
    "plt.plot(score_times, brier_scores, marker='o')\n",
    "plt.title(\"Brier Score over Time\")\n",
    "plt.xlabel(\"Time (주차)\")\n",
    "plt.ylabel(\"Brier Score\")\n",
    "plt.grid(True)\n",
    "plt.show()\n"
   ]
  },
  {
   "cell_type": "code",
   "execution_count": 4,
   "id": "056be374-10df-410b-a95c-f6a0f3a0a221",
   "metadata": {},
   "outputs": [
    {
     "name": "stdout",
     "output_type": "stream",
     "text": [
      "📉 Integrated Brier Score (IBS): 0.0579\n"
     ]
    }
   ],
   "source": [
    "# 테스트 데이터 내에서 가능한 시간 범위 자동 계산\n",
    "min_time = int(np.floor(np.min([y[1] for y in y_test])))\n",
    "max_time = int(np.floor(np.max([y[1] for y in y_test])))\n",
    "\n",
    "# 시간 범위 설정: 관측된 duration 내에서만 평가\n",
    "times = np.arange(min_time, max_time)\n",
    "\n",
    "# 생존 함수 예측\n",
    "surv_funcs = rsf.predict_survival_function(X_test)\n",
    "preds_array = np.asarray([[fn(t) for t in times] for fn in surv_funcs])\n",
    "\n",
    "# IBS 계산\n",
    "from sksurv.metrics import integrated_brier_score\n",
    "ibs = integrated_brier_score(y_train, y_test, preds_array, times)\n",
    "print(f\"📉 Integrated Brier Score (IBS): {ibs:.4f}\")\n"
   ]
  },
  {
   "cell_type": "code",
   "execution_count": 5,
   "id": "2f9a1ad8-246e-451f-ac0b-6c771211c27e",
   "metadata": {},
   "outputs": [
    {
     "data": {
      "image/png": "[encoded data removed]",
      "text/plain": [
       "<Figure size 800x600 with 1 Axes>"
      ]
     },
     "metadata": {},
     "output_type": "display_data"
    }
   ],
   "source": [
    "from sklearn.inspection import permutation_importance\n",
    "\n",
    "# Permutation Importance 계산\n",
    "result = permutation_importance(\n",
    "    rsf, X_test, y_test,\n",
    "    n_repeats=5,\n",
    "    random_state=42,\n",
    "    n_jobs=-1\n",
    ")\n",
    "\n",
    "# 중요도 추출 + 시각화\n",
    "importances = pd.Series(result.importances_mean, index=X_test.columns)\n",
    "importances.sort_values(ascending=True).tail(15).plot(kind='barh', figsize=(8,6))\n",
    "plt.title(\"Top 15 Permutation Importances (RSF)\")\n",
    "plt.xlabel(\"Importance (mean decrease in C-index)\")\n",
    "plt.tight_layout()\n",
    "plt.show()\n"
   ]
  },
  {
   "cell_type": "code",
   "execution_count": 9,
   "id": "f77a0512-ffc9-4570-8dcd-d0c9176f5ce4",
   "metadata": {},
   "outputs": [
    {
     "ename": "NameError",
     "evalue": "name 'result' is not defined",
     "output_type": "error",
     "traceback": [
      "\u001b[1;31m---------------------------------------------------------------------------\u001b[0m",
      "\u001b[1;31mNameError\u001b[0m                                 Traceback (most recent call last)",
      "Cell \u001b[1;32mIn[9], line 2\u001b[0m\n\u001b[0;32m      1\u001b[0m \u001b[38;5;66;03m# 중요도 추출 + 시각화\u001b[39;00m\n\u001b[1;32m----> 2\u001b[0m importances \u001b[38;5;241m=\u001b[39m pd\u001b[38;5;241m.\u001b[39mSeries(result\u001b[38;5;241m.\u001b[39mimportances_mean, index\u001b[38;5;241m=\u001b[39mX_test\u001b[38;5;241m.\u001b[39mcolumns)\n\u001b[0;32m      3\u001b[0m importances\u001b[38;5;241m.\u001b[39msort_values(ascending\u001b[38;5;241m=\u001b[39m\u001b[38;5;28;01mTrue\u001b[39;00m)\u001b[38;5;241m.\u001b[39mtail(\u001b[38;5;241m15\u001b[39m)\u001b[38;5;241m.\u001b[39mplot(kind\u001b[38;5;241m=\u001b[39m\u001b[38;5;124m'\u001b[39m\u001b[38;5;124mbarh\u001b[39m\u001b[38;5;124m'\u001b[39m, figsize\u001b[38;5;241m=\u001b[39m(\u001b[38;5;241m8\u001b[39m,\u001b[38;5;241m6\u001b[39m))\n\u001b[0;32m      4\u001b[0m plt\u001b[38;5;241m.\u001b[39mtitle(\u001b[38;5;124m\"\u001b[39m\u001b[38;5;124mTop 15 Permutation Importances (RSF)\u001b[39m\u001b[38;5;124m\"\u001b[39m)\n",
      "\u001b[1;31mNameError\u001b[0m: name 'result' is not defined"
     ]
    }
   ],
   "source": [
    "# 중요도 추출 + 시각화\n",
    "importances = pd.Series(result.importances_mean, index=X_test.columns)\n",
    "importances.sort_values(ascending=True).tail(15).plot(kind='barh', figsize=(8,6))\n",
    "plt.title(\"Top 15 Permutation Importances (RSF)\")\n",
    "plt.xlabel(\"Importance (mean decrease in C-index)\")\n",
    "plt.tight_layout()\n",
    "plt.show()"
   ]
  },
  {
   "cell_type": "code",
   "execution_count": 9,
   "id": "bff84300-6375-48b4-8093-832a42c1e12d",
   "metadata": {},
   "outputs": [
    {
     "name": "stdout",
     "output_type": "stream",
     "text": [
      "set_combo_group_세트효과 부족/혼합    29.0\n",
      "character_level               28.1\n",
      "authentic_sum                 23.4\n",
      "liberation_flag                9.8\n",
      "character_age_days             9.7\n",
      "dtype: float64\n"
     ]
    }
   ],
   "source": [
    "top5 = importances.sort_values(ascending=False).head(5)\n",
    "top5_pct = (top5 / top5.sum() * 100).round(1)\n",
    "print(top5_pct)\n"
   ]
  },
  {
   "cell_type": "code",
   "execution_count": 15,
   "id": "e4b49c27-4a36-422a-8922-fa9127aafab6",
   "metadata": {},
   "outputs": [
    {
     "data": {
      "text/html": [
       "<div>\n",
       "<style scoped>\n",
       "    .dataframe tbody tr th:only-of-type {\n",
       "        vertical-align: middle;\n",
       "    }\n",
       "\n",
       "    .dataframe tbody tr th {\n",
       "        vertical-align: top;\n",
       "    }\n",
       "\n",
       "    .dataframe thead th {\n",
       "        text-align: right;\n",
       "    }\n",
       "</style>\n",
       "<table border=\"1\" class=\"dataframe\">\n",
       "  <thead>\n",
       "    <tr style=\"text-align: right;\">\n",
       "      <th></th>\n",
       "      <th>character_level</th>\n",
       "      <th>authentic_sum</th>\n",
       "      <th>popularity_zscore</th>\n",
       "      <th>character_age_days</th>\n",
       "      <th>new_user_flag</th>\n",
       "      <th>veteran_flag</th>\n",
       "      <th>liberation_flag</th>\n",
       "      <th>arcane_max_flag</th>\n",
       "      <th>dojang_active_flag</th>\n",
       "      <th>dojang_40plus_flag</th>\n",
       "      <th>...</th>\n",
       "      <th>world_name_스카니아</th>\n",
       "      <th>world_name_아케인</th>\n",
       "      <th>world_name_엘리시움</th>\n",
       "      <th>world_name_오로라</th>\n",
       "      <th>world_name_유니온</th>\n",
       "      <th>world_name_이노시스</th>\n",
       "      <th>world_name_제니스</th>\n",
       "      <th>world_name_크로아</th>\n",
       "      <th>survival_prob_9w</th>\n",
       "      <th>risk_score</th>\n",
       "    </tr>\n",
       "  </thead>\n",
       "  <tbody>\n",
       "    <tr>\n",
       "      <th>76912</th>\n",
       "      <td>281</td>\n",
       "      <td>41</td>\n",
       "      <td>-0.284631</td>\n",
       "      <td>288</td>\n",
       "      <td>0</td>\n",
       "      <td>0</td>\n",
       "      <td>0</td>\n",
       "      <td>1</td>\n",
       "      <td>1</td>\n",
       "      <td>0</td>\n",
       "      <td>...</td>\n",
       "      <td>True</td>\n",
       "      <td>False</td>\n",
       "      <td>False</td>\n",
       "      <td>False</td>\n",
       "      <td>False</td>\n",
       "      <td>False</td>\n",
       "      <td>False</td>\n",
       "      <td>False</td>\n",
       "      <td>0.927645</td>\n",
       "      <td>0.072355</td>\n",
       "    </tr>\n",
       "    <tr>\n",
       "      <th>117772</th>\n",
       "      <td>277</td>\n",
       "      <td>41</td>\n",
       "      <td>-0.032134</td>\n",
       "      <td>2642</td>\n",
       "      <td>0</td>\n",
       "      <td>1</td>\n",
       "      <td>1</td>\n",
       "      <td>1</td>\n",
       "      <td>1</td>\n",
       "      <td>1</td>\n",
       "      <td>...</td>\n",
       "      <td>False</td>\n",
       "      <td>False</td>\n",
       "      <td>True</td>\n",
       "      <td>False</td>\n",
       "      <td>False</td>\n",
       "      <td>False</td>\n",
       "      <td>False</td>\n",
       "      <td>False</td>\n",
       "      <td>0.903249</td>\n",
       "      <td>0.096751</td>\n",
       "    </tr>\n",
       "    <tr>\n",
       "      <th>107888</th>\n",
       "      <td>278</td>\n",
       "      <td>32</td>\n",
       "      <td>-0.047745</td>\n",
       "      <td>2308</td>\n",
       "      <td>0</td>\n",
       "      <td>1</td>\n",
       "      <td>0</td>\n",
       "      <td>1</td>\n",
       "      <td>1</td>\n",
       "      <td>1</td>\n",
       "      <td>...</td>\n",
       "      <td>False</td>\n",
       "      <td>False</td>\n",
       "      <td>False</td>\n",
       "      <td>False</td>\n",
       "      <td>False</td>\n",
       "      <td>False</td>\n",
       "      <td>False</td>\n",
       "      <td>False</td>\n",
       "      <td>0.902440</td>\n",
       "      <td>0.097560</td>\n",
       "    </tr>\n",
       "    <tr>\n",
       "      <th>189888</th>\n",
       "      <td>271</td>\n",
       "      <td>17</td>\n",
       "      <td>-0.135739</td>\n",
       "      <td>395</td>\n",
       "      <td>0</td>\n",
       "      <td>0</td>\n",
       "      <td>0</td>\n",
       "      <td>1</td>\n",
       "      <td>1</td>\n",
       "      <td>0</td>\n",
       "      <td>...</td>\n",
       "      <td>False</td>\n",
       "      <td>False</td>\n",
       "      <td>False</td>\n",
       "      <td>False</td>\n",
       "      <td>False</td>\n",
       "      <td>False</td>\n",
       "      <td>False</td>\n",
       "      <td>False</td>\n",
       "      <td>0.820083</td>\n",
       "      <td>0.179917</td>\n",
       "    </tr>\n",
       "    <tr>\n",
       "      <th>7143</th>\n",
       "      <td>289</td>\n",
       "      <td>55</td>\n",
       "      <td>-0.193096</td>\n",
       "      <td>1653</td>\n",
       "      <td>0</td>\n",
       "      <td>0</td>\n",
       "      <td>1</td>\n",
       "      <td>1</td>\n",
       "      <td>1</td>\n",
       "      <td>1</td>\n",
       "      <td>...</td>\n",
       "      <td>False</td>\n",
       "      <td>False</td>\n",
       "      <td>True</td>\n",
       "      <td>False</td>\n",
       "      <td>False</td>\n",
       "      <td>False</td>\n",
       "      <td>False</td>\n",
       "      <td>False</td>\n",
       "      <td>0.988102</td>\n",
       "      <td>0.011898</td>\n",
       "    </tr>\n",
       "  </tbody>\n",
       "</table>\n",
       "<p>5 rows × 78 columns</p>\n",
       "</div>"
      ],
      "text/plain": [
       "        character_level  authentic_sum  popularity_zscore  character_age_days  \\\n",
       "76912               281             41          -0.284631                 288   \n",
       "117772              277             41          -0.032134                2642   \n",
       "107888              278             32          -0.047745                2308   \n",
       "189888              271             17          -0.135739                 395   \n",
       "7143                289             55          -0.193096                1653   \n",
       "\n",
       "        new_user_flag  veteran_flag  liberation_flag  arcane_max_flag  \\\n",
       "76912               0             0                0                1   \n",
       "117772              0             1                1                1   \n",
       "107888              0             1                0                1   \n",
       "189888              0             0                0                1   \n",
       "7143                0             0                1                1   \n",
       "\n",
       "        dojang_active_flag  dojang_40plus_flag  ...  world_name_스카니아  \\\n",
       "76912                    1                   0  ...             True   \n",
       "117772                   1                   1  ...            False   \n",
       "107888                   1                   1  ...            False   \n",
       "189888                   1                   0  ...            False   \n",
       "7143                     1                   1  ...            False   \n",
       "\n",
       "        world_name_아케인  world_name_엘리시움  world_name_오로라  world_name_유니온  \\\n",
       "76912            False            False           False           False   \n",
       "117772           False             True           False           False   \n",
       "107888           False            False           False           False   \n",
       "189888           False            False           False           False   \n",
       "7143             False             True           False           False   \n",
       "\n",
       "        world_name_이노시스  world_name_제니스  world_name_크로아  survival_prob_9w  \\\n",
       "76912             False           False           False          0.927645   \n",
       "117772            False           False           False          0.903249   \n",
       "107888            False           False           False          0.902440   \n",
       "189888            False           False           False          0.820083   \n",
       "7143              False           False           False          0.988102   \n",
       "\n",
       "        risk_score  \n",
       "76912     0.072355  \n",
       "117772    0.096751  \n",
       "107888    0.097560  \n",
       "189888    0.179917  \n",
       "7143      0.011898  \n",
       "\n",
       "[5 rows x 78 columns]"
      ]
     },
     "execution_count": 15,
     "metadata": {},
     "output_type": "execute_result"
    }
   ],
   "source": [
    "import joblib\n",
    "import pickle\n",
    "import pandas as pd\n",
    "from sksurv.functions import StepFunction\n",
    "\n",
    "# 모델 및 데이터 불러오기\n",
    "rsf = joblib.load(\"rsf_model.pkl\")\n",
    "X_test = pd.read_pickle(\"X_test.pkl\")\n",
    "\n",
    "# 생존함수 예측\n",
    "surv_funcs = rsf.predict_survival_function(X_test)\n",
    "\n",
    "# 9주차 생존확률 계산\n",
    "target_week = 9\n",
    "survival_probs_at_week = []\n",
    "for fn in surv_funcs:\n",
    "    idx = (fn.x >= target_week).argmax() if any(fn.x >= target_week) else -1\n",
    "    survival_probs_at_week.append(fn.y[idx] if idx != -1 else fn.y[-1])\n",
    "\n",
    "\n",
    "# 결과 결합\n",
    "df_result = X_test.copy()\n",
    "df_result[\"survival_prob_9w\"] = survival_probs_at_week\n",
    "df_result[\"risk_score\"] = 1 - df_result[\"survival_prob_9w\"]\n",
    "\n",
    "\n",
    "# 상위 5개 미리보기\n",
    "df_result.head()\n"
   ]
  },
  {
   "cell_type": "code",
   "execution_count": 16,
   "id": "fe79a29f-9726-41f0-abd8-cc5126beee00",
   "metadata": {},
   "outputs": [
    {
     "name": "stdout",
     "output_type": "stream",
     "text": [
      "<class 'pandas.core.frame.DataFrame'>\n",
      "Index: 41763 entries, 76912 to 14512\n",
      "Data columns (total 78 columns):\n",
      " #   Column                         Non-Null Count  Dtype  \n",
      "---  ------                         --------------  -----  \n",
      " 0   character_level                41763 non-null  int64  \n",
      " 1   authentic_sum                  41763 non-null  int64  \n",
      " 2   popularity_zscore              41763 non-null  float64\n",
      " 3   character_age_days             41763 non-null  int64  \n",
      " 4   new_user_flag                  41763 non-null  int64  \n",
      " 5   veteran_flag                   41763 non-null  int64  \n",
      " 6   liberation_flag                41763 non-null  int64  \n",
      " 7   arcane_max_flag                41763 non-null  int64  \n",
      " 8   dojang_active_flag             41763 non-null  int64  \n",
      " 9   dojang_40plus_flag             41763 non-null  int64  \n",
      " 10  segment_일반 유저                  41763 non-null  bool   \n",
      " 11  level_segment_275-279          41763 non-null  bool   \n",
      " 12  level_segment_280-284          41763 non-null  bool   \n",
      " 13  level_segment_285-289          41763 non-null  bool   \n",
      " 14  level_segment_290+             41763 non-null  bool   \n",
      " 15  set_combo_group_루타비스 + 앱솔랩스    41763 non-null  bool   \n",
      " 16  set_combo_group_세트효과 부족/혼합     41763 non-null  bool   \n",
      " 17  set_combo_group_에테르넬 + 아케인셰이드  41763 non-null  bool   \n",
      " 18  set_combo_group_에테르넬 + 앱솔랩스    41763 non-null  bool   \n",
      " 19  set_combo_group_에테르넬 풀셋        41763 non-null  bool   \n",
      " 20  character_class_나이트워커          41763 non-null  bool   \n",
      " 21  character_class_다크나이트          41763 non-null  bool   \n",
      " 22  character_class_데몬슬레이어         41763 non-null  bool   \n",
      " 23  character_class_데몬어벤져          41763 non-null  bool   \n",
      " 24  character_class_듀얼블레이더         41763 non-null  bool   \n",
      " 25  character_class_라라             41763 non-null  bool   \n",
      " 26  character_class_루미너스           41763 non-null  bool   \n",
      " 27  character_class_메르세데스          41763 non-null  bool   \n",
      " 28  character_class_메카닉            41763 non-null  bool   \n",
      " 29  character_class_미하일            41763 non-null  bool   \n",
      " 30  character_class_바이퍼            41763 non-null  bool   \n",
      " 31  character_class_배틀메이지          41763 non-null  bool   \n",
      " 32  character_class_보우마스터          41763 non-null  bool   \n",
      " 33  character_class_블래스터           41763 non-null  bool   \n",
      " 34  character_class_비숍             41763 non-null  bool   \n",
      " 35  character_class_섀도어            41763 non-null  bool   \n",
      " 36  character_class_소울마스터          41763 non-null  bool   \n",
      " 37  character_class_스트라이커          41763 non-null  bool   \n",
      " 38  character_class_신궁             41763 non-null  bool   \n",
      " 39  character_class_아델             41763 non-null  bool   \n",
      " 40  character_class_아란             41763 non-null  bool   \n",
      " 41  character_class_아크             41763 non-null  bool   \n",
      " 42  character_class_아크메이지(불,독)     41763 non-null  bool   \n",
      " 43  character_class_아크메이지(썬,콜)     41763 non-null  bool   \n",
      " 44  character_class_에반             41763 non-null  bool   \n",
      " 45  character_class_엔젤릭버스터         41763 non-null  bool   \n",
      " 46  character_class_와일드헌터          41763 non-null  bool   \n",
      " 47  character_class_윈드브레이커         41763 non-null  bool   \n",
      " 48  character_class_은월             41763 non-null  bool   \n",
      " 49  character_class_일리움            41763 non-null  bool   \n",
      " 50  character_class_제논             41763 non-null  bool   \n",
      " 51  character_class_제로             41763 non-null  bool   \n",
      " 52  character_class_카데나            41763 non-null  bool   \n",
      " 53  character_class_카이저            41763 non-null  bool   \n",
      " 54  character_class_카인             41763 non-null  bool   \n",
      " 55  character_class_칼리             41763 non-null  bool   \n",
      " 56  character_class_캐논마스터          41763 non-null  bool   \n",
      " 57  character_class_캡틴             41763 non-null  bool   \n",
      " 58  character_class_키네시스           41763 non-null  bool   \n",
      " 59  character_class_팔라딘            41763 non-null  bool   \n",
      " 60  character_class_패스파인더          41763 non-null  bool   \n",
      " 61  character_class_팬텀             41763 non-null  bool   \n",
      " 62  character_class_플레임위자드         41763 non-null  bool   \n",
      " 63  character_class_호영             41763 non-null  bool   \n",
      " 64  character_class_히어로            41763 non-null  bool   \n",
      " 65  world_name_레드                  41763 non-null  bool   \n",
      " 66  world_name_루나                  41763 non-null  bool   \n",
      " 67  world_name_베라                  41763 non-null  bool   \n",
      " 68  world_name_스카니아                41763 non-null  bool   \n",
      " 69  world_name_아케인                 41763 non-null  bool   \n",
      " 70  world_name_엘리시움                41763 non-null  bool   \n",
      " 71  world_name_오로라                 41763 non-null  bool   \n",
      " 72  world_name_유니온                 41763 non-null  bool   \n",
      " 73  world_name_이노시스                41763 non-null  bool   \n",
      " 74  world_name_제니스                 41763 non-null  bool   \n",
      " 75  world_name_크로아                 41763 non-null  bool   \n",
      " 76  survival_prob_9w               41763 non-null  float64\n",
      " 77  risk_score                     41763 non-null  float64\n",
      "dtypes: bool(66), float64(3), int64(9)\n",
      "memory usage: 6.8 MB\n"
     ]
    }
   ],
   "source": [
    "df_result.info()"
   ]
  },
  {
   "cell_type": "code",
   "execution_count": 14,
   "id": "20edaf4b-ac56-4ad6-ba06-2a270157dcd5",
   "metadata": {},
   "outputs": [
    {
     "name": "stdout",
     "output_type": "stream",
     "text": [
      "✅ 저장 완료: rsf_model.pkl, X_for_streamlit.pkl\n"
     ]
    }
   ],
   "source": [
    "# 1. 라이브러리 불러오기\n",
    "import pandas as pd\n",
    "import numpy as np\n",
    "from sksurv.ensemble import RandomSurvivalForest\n",
    "from sksurv.util import Surv\n",
    "from sksurv.functions import StepFunction\n",
    "import joblib\n",
    "\n",
    "# 2. 데이터 불러오기\n",
    "df = pd.read_csv(\"머신러닝용고정스냅샷.csv\", low_memory=False)\n",
    "df[\"popularity_zscore\"] = df[\"popularity_zscore\"].fillna(0)\n",
    "df[\"guild_flag\"] = (df[\"character_guild_name\"] != \"미가입\").astype(int)\n",
    "# 3. 수치형 안정화\n",
    "numeric_cols = [\"character_level\", \"authentic_sum\", \"popularity_zscore\", \"character_age_days\"]\n",
    "for col in numeric_cols:\n",
    "    df[col] = pd.to_numeric(df[col], errors=\"coerce\")\n",
    "\n",
    "# 4. 범주형 피처 원핫 인코딩\n",
    "categorical_cols = [\"segment\", \"level_segment\", \"set_combo_group\", \"character_class\", \"world_name\"]\n",
    "df_encoded = pd.get_dummies(df[categorical_cols], drop_first=True)\n",
    "\n",
    "# 5. 최종 피처셋\n",
    "X = pd.concat([\n",
    "    df[[\n",
    "        \"character_level\", \"authentic_sum\", \"popularity_zscore\", \"character_age_days\",\n",
    "        \"new_user_flag\", \"veteran_flag\", \"liberation_flag\", \"arcane_max_flag\",\n",
    "        \"dojang_active_flag\", \"dojang_40plus_flag\",\"guild_flag\"\n",
    "    ]],\n",
    "    df_encoded\n",
    "], axis=1)\n",
    "\n",
    "# 6. 타겟 생성\n",
    "y = Surv.from_dataframe(\"event\", \"duration\", df)\n",
    "\n",
    "# 7. RSF 모델 학습 (이미 학습된 모델 사용 가능)\n",
    "rsf = RandomSurvivalForest(\n",
    "    n_estimators=200,\n",
    "    min_samples_split=10,\n",
    "    min_samples_leaf=10,\n",
    "    max_features=\"sqrt\",\n",
    "    n_jobs=-1,\n",
    "    random_state=42\n",
    ")\n",
    "rsf.fit(X, y)\n",
    "\n",
    "# 8. 전체 유저 생존함수 예측\n",
    "surv_funcs = rsf.predict_survival_function(X)\n",
    "# 9. 모델과 입력 데이터 저장\n",
    "joblib.dump(rsf, \"rsf_model.pkl\")\n",
    "X.to_pickle(\"X_for_streamlit.pkl\")\n",
    "\n",
    "print(\"✅ 저장 완료: rsf_model.pkl, X_for_streamlit.pkl\")\n"
   ]
  },
  {
   "cell_type": "code",
   "execution_count": 1,
   "id": "e2892a13-0bd3-4ba8-ac42-18b743056891",
   "metadata": {},
   "outputs": [
    {
     "name": "stdout",
     "output_type": "stream",
     "text": [
      "✅ 전체 유저 예측 결과 저장 완료 → streamlit_full_user_prediction.csv\n"
     ]
    }
   ],
   "source": [
    "# 1. 라이브러리 불러오기\n",
    "import pandas as pd\n",
    "import numpy as np\n",
    "from sksurv.ensemble import RandomSurvivalForest\n",
    "from sksurv.util import Surv\n",
    "from sksurv.functions import StepFunction\n",
    "import joblib\n",
    "\n",
    "# 2. 데이터 불러오기\n",
    "df = pd.read_csv(\"머신러닝용고정스냅샷.csv\", low_memory=False)\n",
    "df[\"popularity_zscore\"] = df[\"popularity_zscore\"].fillna(0)\n",
    "df[\"guild_flag\"] = (df[\"character_guild_name\"] != \"미가입\").astype(int)\n",
    "# 3. 수치형 안정화\n",
    "numeric_cols = [\"character_level\", \"authentic_sum\", \"popularity_zscore\", \"character_age_days\"]\n",
    "for col in numeric_cols:\n",
    "    df[col] = pd.to_numeric(df[col], errors=\"coerce\")\n",
    "\n",
    "# 4. 범주형 피처 원핫 인코딩\n",
    "categorical_cols = [\"segment\", \"level_segment\", \"set_combo_group\", \"character_class\", \"world_name\"]\n",
    "df_encoded = pd.get_dummies(df[categorical_cols], drop_first=True)\n",
    "\n",
    "# 5. 최종 피처셋\n",
    "X = pd.concat([\n",
    "    df[[\n",
    "        \"character_level\", \"authentic_sum\", \"popularity_zscore\", \"character_age_days\",\n",
    "        \"new_user_flag\", \"veteran_flag\", \"liberation_flag\", \"arcane_max_flag\",\n",
    "        \"dojang_active_flag\", \"dojang_40plus_flag\",\"guild_flag\"\n",
    "    ]],\n",
    "    df_encoded\n",
    "], axis=1)\n",
    "\n",
    "# 6. 타겟 생성\n",
    "y = Surv.from_dataframe(\"event\", \"duration\", df)\n",
    "\n",
    "# 7. RSF 모델 학습 (이미 학습된 모델 사용 가능)\n",
    "rsf = RandomSurvivalForest(\n",
    "    n_estimators=200,\n",
    "    min_samples_split=10,\n",
    "    min_samples_leaf=10,\n",
    "    max_features=\"sqrt\",\n",
    "    n_jobs=-1,\n",
    "    random_state=42\n",
    ")\n",
    "rsf.fit(X, y)\n",
    "\n",
    "# 8. 전체 유저 생존함수 예측\n",
    "surv_funcs = rsf.predict_survival_function(X)\n",
    "\n",
    "# 9. 9주차 생존확률 계산\n",
    "target_week = 9\n",
    "survival_probs_9w = []\n",
    "for fn in surv_funcs:\n",
    "    idx = (fn.x >= target_week).argmax() if any(fn.x >= target_week) else -1\n",
    "    survival_probs_9w.append(fn.y[idx] if idx != -1 else fn.y[-1])\n",
    "\n",
    "# 10. 위험 점수 계산\n",
    "risk_scores = [1 - prob for prob in survival_probs_9w]\n",
    "\n",
    "# 11. 위험 등급 라벨링\n",
    "def label_risk(score):\n",
    "    if score >= 0.25:\n",
    "        return \"높음\"\n",
    "    elif score >= 0.15:\n",
    "        return \"중간\"\n",
    "    else:\n",
    "        return \"낮음\"\n",
    "\n",
    "risk_levels = [label_risk(score) for score in risk_scores]\n",
    "\n",
    "# 12. 전체 컬럼 포함 + 결과 결합\n",
    "df_result = df.copy()\n",
    "df_result[\"survival_prob_9w\"] = survival_probs_9w\n",
    "df_result[\"risk_score\"] = risk_scores\n",
    "df_result[\"risk_level\"] = risk_levels\n",
    "\n",
    "# 13. 저장\n",
    "df_result.to_csv(\"streamlit_full_user_prediction.csv\", index=False)\n",
    "print(\"✅ 전체 유저 예측 결과 저장 완료 → streamlit_full_user_prediction.csv\")\n"
   ]
  },
  {
   "cell_type": "code",
   "execution_count": null,
   "id": "c92f42b2-629d-4fb3-bee5-d2041f29c9bf",
   "metadata": {},
   "outputs": [],
   "source": [
    "streamlit_full_user_prediction.csv"
   ]
  },
  {
   "cell_type": "code",
   "execution_count": 2,
   "id": "7ca58d97-45d3-4fe2-935f-a6e8e3cc1151",
   "metadata": {},
   "outputs": [],
   "source": [
    "df = pd.read_csv(\"streamlit_full_user_prediction.csv\", low_memory=False)"
   ]
  },
  {
   "cell_type": "code",
   "execution_count": 3,
   "id": "ee00726d-fe93-4dce-b5e2-ceaeb4c21f91",
   "metadata": {},
   "outputs": [
    {
     "name": "stdout",
     "output_type": "stream",
     "text": [
      "<class 'pandas.core.frame.DataFrame'>\n",
      "RangeIndex: 208812 entries, 0 to 208811\n",
      "Data columns (total 65 columns):\n",
      " #   Column                       Non-Null Count   Dtype  \n",
      "---  ------                       --------------   -----  \n",
      " 0   ocid                         208812 non-null  object \n",
      " 1   exp_1010                     208812 non-null  object \n",
      " 2   ranking                      208812 non-null  object \n",
      " 3   character_name               208812 non-null  object \n",
      " 4   world_name                   208812 non-null  object \n",
      " 5   character_gender             208812 non-null  object \n",
      " 6   character_class              208812 non-null  object \n",
      " 7   character_class_level        208812 non-null  int64  \n",
      " 8   character_level              208812 non-null  int64  \n",
      " 9   character_exp                208812 non-null  float64\n",
      " 10  character_exp_rate           208812 non-null  object \n",
      " 11  character_guild_name         208812 non-null  object \n",
      " 12  character_date_create        208812 non-null  object \n",
      " 13  access_flag                  208812 non-null  bool   \n",
      " 14  liberation_quest_clear_flag  208812 non-null  bool   \n",
      " 15  popularity                   208812 non-null  int64  \n",
      " 16  arcane_sum                   208812 non-null  int64  \n",
      " 17  authentic_sum                208812 non-null  int64  \n",
      " 18  set_absorlab_count           208812 non-null  int64  \n",
      " 19  set_lubatiss_count           208812 non-null  int64  \n",
      " 20  set_arcane_count             208812 non-null  int64  \n",
      " 21  set_eternal_count            208812 non-null  int64  \n",
      " 22  dojang_best_floor            163496 non-null  float64\n",
      " 23  union_level                  208812 non-null  int64  \n",
      " 24  union_artifact_level         208812 non-null  int64  \n",
      " 25  union_artifact_exp           208812 non-null  object \n",
      " 26  union_artifact_point         208812 non-null  int64  \n",
      " 27  exp_1017                     208812 non-null  object \n",
      " 28  access_1017                  208812 non-null  bool   \n",
      " 29  exp_1024                     208812 non-null  object \n",
      " 30  access_1024                  208812 non-null  bool   \n",
      " 31  exp_1031                     208812 non-null  object \n",
      " 32  access_1031                  208812 non-null  bool   \n",
      " 33  exp_1107                     208812 non-null  object \n",
      " 34  access_1107                  208812 non-null  bool   \n",
      " 35  exp_1114                     208812 non-null  object \n",
      " 36  access_1114                  208812 non-null  bool   \n",
      " 37  exp_1121                     208812 non-null  object \n",
      " 38  access_1121                  208812 non-null  bool   \n",
      " 39  exp_1128                     208812 non-null  object \n",
      " 40  access_1128                  208812 non-null  bool   \n",
      " 41  exp_1205                     208812 non-null  object \n",
      " 42  access_1205                  208812 non-null  bool   \n",
      " 43  exp_1212                     208812 non-null  object \n",
      " 44  access_1212                  208812 non-null  bool   \n",
      " 45  exp_1219                     208812 non-null  object \n",
      " 46  access_1219                  208812 non-null  bool   \n",
      " 47  event                        208812 non-null  int64  \n",
      " 48  duration                     208812 non-null  int64  \n",
      " 49  is_zero                      208812 non-null  int64  \n",
      " 50  popularity_zscore            208812 non-null  float64\n",
      " 51  level_segment                208812 non-null  object \n",
      " 52  liberation_flag              208812 non-null  int64  \n",
      " 53  dojang_active_flag           208812 non-null  int64  \n",
      " 54  dojang_40plus_flag           208812 non-null  int64  \n",
      " 55  segment                      208812 non-null  object \n",
      " 56  arcane_max_flag              208812 non-null  int64  \n",
      " 57  set_combo_group              208812 non-null  object \n",
      " 58  character_age_days           208812 non-null  int64  \n",
      " 59  new_user_flag                208812 non-null  int64  \n",
      " 60  veteran_flag                 208812 non-null  int64  \n",
      " 61  guild_flag                   208812 non-null  int64  \n",
      " 62  survival_prob_9w             208812 non-null  float64\n",
      " 63  risk_score                   208812 non-null  float64\n",
      " 64  risk_level                   208812 non-null  object \n",
      "dtypes: bool(12), float64(5), int64(23), object(25)\n",
      "memory usage: 86.8+ MB\n"
     ]
    }
   ],
   "source": [
    "df.info()"
   ]
  },
  {
   "cell_type": "code",
   "execution_count": 4,
   "id": "ab43f011-c23c-48c6-9ce9-f066144c7226",
   "metadata": {},
   "outputs": [],
   "source": [
    "df2 = pd.read_csv(\"final_character_data_cleaned.csv\", low_memory=False)"
   ]
  },
  {
   "cell_type": "code",
   "execution_count": 5,
   "id": "627ebcce-7447-43e2-94d4-1696f9ca1f84",
   "metadata": {},
   "outputs": [],
   "source": [
    "level_dist = df.groupby(\"risk_level\")[\"character_level\"].describe()"
   ]
  },
  {
   "cell_type": "code",
   "execution_count": 6,
   "id": "335098e5-eb54-473e-a2a1-03c323dec14c",
   "metadata": {},
   "outputs": [
    {
     "data": {
      "text/html": [
       "<div>\n",
       "<style scoped>\n",
       "    .dataframe tbody tr th:only-of-type {\n",
       "        vertical-align: middle;\n",
       "    }\n",
       "\n",
       "    .dataframe tbody tr th {\n",
       "        vertical-align: top;\n",
       "    }\n",
       "\n",
       "    .dataframe thead th {\n",
       "        text-align: right;\n",
       "    }\n",
       "</style>\n",
       "<table border=\"1\" class=\"dataframe\">\n",
       "  <thead>\n",
       "    <tr style=\"text-align: right;\">\n",
       "      <th></th>\n",
       "      <th>count</th>\n",
       "      <th>mean</th>\n",
       "      <th>std</th>\n",
       "      <th>min</th>\n",
       "      <th>25%</th>\n",
       "      <th>50%</th>\n",
       "      <th>75%</th>\n",
       "      <th>max</th>\n",
       "    </tr>\n",
       "    <tr>\n",
       "      <th>risk_level</th>\n",
       "      <th></th>\n",
       "      <th></th>\n",
       "      <th></th>\n",
       "      <th></th>\n",
       "      <th></th>\n",
       "      <th></th>\n",
       "      <th></th>\n",
       "      <th></th>\n",
       "    </tr>\n",
       "  </thead>\n",
       "  <tbody>\n",
       "    <tr>\n",
       "      <th>낮음</th>\n",
       "      <td>168542.0</td>\n",
       "      <td>279.750899</td>\n",
       "      <td>5.303671</td>\n",
       "      <td>270.0</td>\n",
       "      <td>276.0</td>\n",
       "      <td>280.0</td>\n",
       "      <td>284.0</td>\n",
       "      <td>298.0</td>\n",
       "    </tr>\n",
       "    <tr>\n",
       "      <th>높음</th>\n",
       "      <td>7798.0</td>\n",
       "      <td>272.487048</td>\n",
       "      <td>3.211381</td>\n",
       "      <td>270.0</td>\n",
       "      <td>270.0</td>\n",
       "      <td>271.0</td>\n",
       "      <td>274.0</td>\n",
       "      <td>290.0</td>\n",
       "    </tr>\n",
       "    <tr>\n",
       "      <th>중간</th>\n",
       "      <td>32472.0</td>\n",
       "      <td>273.278147</td>\n",
       "      <td>3.346109</td>\n",
       "      <td>270.0</td>\n",
       "      <td>271.0</td>\n",
       "      <td>272.0</td>\n",
       "      <td>275.0</td>\n",
       "      <td>290.0</td>\n",
       "    </tr>\n",
       "  </tbody>\n",
       "</table>\n",
       "</div>"
      ],
      "text/plain": [
       "               count        mean       std    min    25%    50%    75%    max\n",
       "risk_level                                                                   \n",
       "낮음          168542.0  279.750899  5.303671  270.0  276.0  280.0  284.0  298.0\n",
       "높음            7798.0  272.487048  3.211381  270.0  270.0  271.0  274.0  290.0\n",
       "중간           32472.0  273.278147  3.346109  270.0  271.0  272.0  275.0  290.0"
      ]
     },
     "execution_count": 6,
     "metadata": {},
     "output_type": "execute_result"
    }
   ],
   "source": [
    "level_dist"
   ]
  },
  {
   "cell_type": "code",
   "execution_count": 7,
   "id": "857ca818-a039-4fe4-9dde-b2e3eb757c5b",
   "metadata": {},
   "outputs": [],
   "source": [
    "from sksurv.functions import StepFunction\n",
    "import pandas as pd\n",
    "import joblib\n",
    "\n",
    "def compute_threshold_time(fn, threshold=0.7):\n",
    "    for t, s in zip(fn.x, fn.y):\n",
    "        if s <= threshold:\n",
    "            return t\n",
    "    return max(fn.x)  # 끝까지 threshold 안 내려가면 최대값 반환\n",
    "\n",
    "# 적용\n",
    "median_times_75 = [compute_threshold_time(fn, threshold=0.75) for fn in surv_funcs]\n",
    "df[\"threshold75_time\"] = median_times_75\n"
   ]
  },
  {
   "cell_type": "code",
   "execution_count": 8,
   "id": "84fcfaed-afd8-47e2-bfdd-7ca9be63f18c",
   "metadata": {},
   "outputs": [
    {
     "name": "stdout",
     "output_type": "stream",
     "text": [
      "<class 'pandas.core.frame.DataFrame'>\n",
      "RangeIndex: 208797 entries, 0 to 208796\n",
      "Data columns (total 62 columns):\n",
      " #   Column                       Non-Null Count   Dtype  \n",
      "---  ------                       --------------   -----  \n",
      " 0   ocid                         208797 non-null  object \n",
      " 1   exp_1010                     208797 non-null  object \n",
      " 2   ranking                      208797 non-null  object \n",
      " 3   character_name               208797 non-null  object \n",
      " 4   world_name                   208797 non-null  object \n",
      " 5   character_gender             208797 non-null  object \n",
      " 6   character_class              208797 non-null  object \n",
      " 7   character_class_level        208797 non-null  int64  \n",
      " 8   character_level              208797 non-null  int64  \n",
      " 9   character_exp                208797 non-null  float64\n",
      " 10  character_exp_rate           208797 non-null  object \n",
      " 11  character_guild_name         208797 non-null  object \n",
      " 12  character_date_create        208797 non-null  object \n",
      " 13  access_flag                  208797 non-null  bool   \n",
      " 14  liberation_quest_clear_flag  208797 non-null  bool   \n",
      " 15  popularity                   208797 non-null  int64  \n",
      " 16  arcane_sum                   208797 non-null  int64  \n",
      " 17  authentic_sum                208797 non-null  int64  \n",
      " 18  set_absorlab_count           208797 non-null  int64  \n",
      " 19  set_lubatiss_count           208797 non-null  int64  \n",
      " 20  set_arcane_count             208797 non-null  int64  \n",
      " 21  set_eternal_count            208797 non-null  int64  \n",
      " 22  dojang_best_floor            163484 non-null  float64\n",
      " 23  union_level                  208797 non-null  int64  \n",
      " 24  union_artifact_level         208797 non-null  int64  \n",
      " 25  union_artifact_exp           208797 non-null  object \n",
      " 26  union_artifact_point         208797 non-null  int64  \n",
      " 27  exp_1017                     208797 non-null  object \n",
      " 28  access_1017                  208797 non-null  bool   \n",
      " 29  exp_1024                     208797 non-null  object \n",
      " 30  access_1024                  208797 non-null  bool   \n",
      " 31  exp_1031                     208797 non-null  object \n",
      " 32  access_1031                  208797 non-null  bool   \n",
      " 33  exp_1107                     208797 non-null  object \n",
      " 34  access_1107                  208797 non-null  bool   \n",
      " 35  exp_1114                     208797 non-null  object \n",
      " 36  access_1114                  208797 non-null  bool   \n",
      " 37  exp_1121                     208797 non-null  object \n",
      " 38  access_1121                  208797 non-null  bool   \n",
      " 39  exp_1128                     208797 non-null  object \n",
      " 40  access_1128                  208797 non-null  bool   \n",
      " 41  exp_1205                     208797 non-null  object \n",
      " 42  access_1205                  208797 non-null  bool   \n",
      " 43  exp_1212                     208797 non-null  object \n",
      " 44  access_1212                  208797 non-null  bool   \n",
      " 45  exp_1219                     208797 non-null  object \n",
      " 46  access_1219                  208797 non-null  bool   \n",
      " 47  event                        208797 non-null  int64  \n",
      " 48  duration                     208797 non-null  int64  \n",
      " 49  is_zero                      208797 non-null  int64  \n",
      " 50  popularity_zscore            203896 non-null  float64\n",
      " 51  level_segment                208797 non-null  object \n",
      " 52  liberation_flag              208797 non-null  int64  \n",
      " 53  dojang_active_flag           208797 non-null  int64  \n",
      " 54  dojang_40plus_flag           208797 non-null  int64  \n",
      " 55  segment                      208797 non-null  object \n",
      " 56  arcane_max_flag              208797 non-null  int64  \n",
      " 57  set_combo_group              208797 non-null  object \n",
      " 58  character_age_days           208797 non-null  int64  \n",
      " 59  new_user_flag                208797 non-null  int64  \n",
      " 60  veteran_flag                 208797 non-null  int64  \n",
      " 61  character_image              208797 non-null  object \n",
      "dtypes: bool(12), float64(3), int64(22), object(25)\n",
      "memory usage: 82.0+ MB\n"
     ]
    }
   ],
   "source": [
    "df2.info()"
   ]
  },
  {
   "cell_type": "code",
   "execution_count": 9,
   "id": "6a88bd35-8b9a-440a-8e1f-1b6c3695dca4",
   "metadata": {},
   "outputs": [],
   "source": [
    "# df: 기존 예측 결과가 담긴 마스터 테이블\n",
    "# df2: 캐릭터 이미지가 있는 보조 테이블\n",
    "\n",
    "df_merged = df.merge(df2[[\"ocid\", \"character_image\"]], on=\"ocid\", how=\"left\")\n"
   ]
  },
  {
   "cell_type": "code",
   "execution_count": 10,
   "id": "544b5c46-181f-4665-b367-f3aac52bd9a6",
   "metadata": {},
   "outputs": [
    {
     "name": "stdout",
     "output_type": "stream",
     "text": [
      "<class 'pandas.core.frame.DataFrame'>\n",
      "RangeIndex: 208818 entries, 0 to 208817\n",
      "Data columns (total 67 columns):\n",
      " #   Column                       Non-Null Count   Dtype  \n",
      "---  ------                       --------------   -----  \n",
      " 0   ocid                         208818 non-null  object \n",
      " 1   exp_1010                     208818 non-null  object \n",
      " 2   ranking                      208818 non-null  object \n",
      " 3   character_name               208818 non-null  object \n",
      " 4   world_name                   208818 non-null  object \n",
      " 5   character_gender             208818 non-null  object \n",
      " 6   character_class              208818 non-null  object \n",
      " 7   character_class_level        208818 non-null  int64  \n",
      " 8   character_level              208818 non-null  int64  \n",
      " 9   character_exp                208818 non-null  float64\n",
      " 10  character_exp_rate           208818 non-null  object \n",
      " 11  character_guild_name         208818 non-null  object \n",
      " 12  character_date_create        208818 non-null  object \n",
      " 13  access_flag                  208818 non-null  bool   \n",
      " 14  liberation_quest_clear_flag  208818 non-null  bool   \n",
      " 15  popularity                   208818 non-null  int64  \n",
      " 16  arcane_sum                   208818 non-null  int64  \n",
      " 17  authentic_sum                208818 non-null  int64  \n",
      " 18  set_absorlab_count           208818 non-null  int64  \n",
      " 19  set_lubatiss_count           208818 non-null  int64  \n",
      " 20  set_arcane_count             208818 non-null  int64  \n",
      " 21  set_eternal_count            208818 non-null  int64  \n",
      " 22  dojang_best_floor            163501 non-null  float64\n",
      " 23  union_level                  208818 non-null  int64  \n",
      " 24  union_artifact_level         208818 non-null  int64  \n",
      " 25  union_artifact_exp           208818 non-null  object \n",
      " 26  union_artifact_point         208818 non-null  int64  \n",
      " 27  exp_1017                     208818 non-null  object \n",
      " 28  access_1017                  208818 non-null  bool   \n",
      " 29  exp_1024                     208818 non-null  object \n",
      " 30  access_1024                  208818 non-null  bool   \n",
      " 31  exp_1031                     208818 non-null  object \n",
      " 32  access_1031                  208818 non-null  bool   \n",
      " 33  exp_1107                     208818 non-null  object \n",
      " 34  access_1107                  208818 non-null  bool   \n",
      " 35  exp_1114                     208818 non-null  object \n",
      " 36  access_1114                  208818 non-null  bool   \n",
      " 37  exp_1121                     208818 non-null  object \n",
      " 38  access_1121                  208818 non-null  bool   \n",
      " 39  exp_1128                     208818 non-null  object \n",
      " 40  access_1128                  208818 non-null  bool   \n",
      " 41  exp_1205                     208818 non-null  object \n",
      " 42  access_1205                  208818 non-null  bool   \n",
      " 43  exp_1212                     208818 non-null  object \n",
      " 44  access_1212                  208818 non-null  bool   \n",
      " 45  exp_1219                     208818 non-null  object \n",
      " 46  access_1219                  208818 non-null  bool   \n",
      " 47  event                        208818 non-null  int64  \n",
      " 48  duration                     208818 non-null  int64  \n",
      " 49  is_zero                      208818 non-null  int64  \n",
      " 50  popularity_zscore            208818 non-null  float64\n",
      " 51  level_segment                208818 non-null  object \n",
      " 52  liberation_flag              208818 non-null  int64  \n",
      " 53  dojang_active_flag           208818 non-null  int64  \n",
      " 54  dojang_40plus_flag           208818 non-null  int64  \n",
      " 55  segment                      208818 non-null  object \n",
      " 56  arcane_max_flag              208818 non-null  int64  \n",
      " 57  set_combo_group              208818 non-null  object \n",
      " 58  character_age_days           208818 non-null  int64  \n",
      " 59  new_user_flag                208818 non-null  int64  \n",
      " 60  veteran_flag                 208818 non-null  int64  \n",
      " 61  guild_flag                   208818 non-null  int64  \n",
      " 62  survival_prob_9w             208818 non-null  float64\n",
      " 63  risk_score                   208818 non-null  float64\n",
      " 64  risk_level                   208818 non-null  object \n",
      " 65  threshold75_time             208818 non-null  float64\n",
      " 66  character_image              208722 non-null  object \n",
      "dtypes: bool(12), float64(6), int64(23), object(26)\n",
      "memory usage: 90.0+ MB\n"
     ]
    }
   ],
   "source": [
    "df_merged.info()"
   ]
  },
  {
   "cell_type": "code",
   "execution_count": 11,
   "id": "c73275c2-9823-409f-b7b8-131c686b371f",
   "metadata": {},
   "outputs": [],
   "source": [
    "# character_image가 NaN인 행 제거\n",
    "df_cleaned = df_merged.dropna(subset=[\"character_image\"]).reset_index(drop=True)\n"
   ]
  },
  {
   "cell_type": "code",
   "execution_count": 12,
   "id": "3089d8fa-cb50-4ff7-ade8-83084a199253",
   "metadata": {},
   "outputs": [
    {
     "name": "stdout",
     "output_type": "stream",
     "text": [
      "0\n",
      "(208722, 67)\n"
     ]
    }
   ],
   "source": [
    "print(df_cleaned[\"character_image\"].isna().sum())  # → 0이어야 정상\n",
    "print(df_cleaned.shape)  # 몇 행 남았는지 확인\n"
   ]
  },
  {
   "cell_type": "code",
   "execution_count": 13,
   "id": "66fecc87-205e-4b0a-86cd-cd433d0fd2af",
   "metadata": {},
   "outputs": [],
   "source": [
    "df_cleaned.to_csv(\"streamlit_user_data_with_image.csv\", index=False)"
   ]
  },
  {
   "cell_type": "code",
   "execution_count": 14,
   "id": "ca59b408-fae3-46ee-827e-e61603f00b1f",
   "metadata": {},
   "outputs": [
    {
     "name": "stdout",
     "output_type": "stream",
     "text": [
      "<class 'pandas.core.frame.DataFrame'>\n",
      "RangeIndex: 208722 entries, 0 to 208721\n",
      "Data columns (total 67 columns):\n",
      " #   Column                       Non-Null Count   Dtype  \n",
      "---  ------                       --------------   -----  \n",
      " 0   ocid                         208722 non-null  object \n",
      " 1   exp_1010                     208722 non-null  object \n",
      " 2   ranking                      208722 non-null  object \n",
      " 3   character_name               208722 non-null  object \n",
      " 4   world_name                   208722 non-null  object \n",
      " 5   character_gender             208722 non-null  object \n",
      " 6   character_class              208722 non-null  object \n",
      " 7   character_class_level        208722 non-null  int64  \n",
      " 8   character_level              208722 non-null  int64  \n",
      " 9   character_exp                208722 non-null  float64\n",
      " 10  character_exp_rate           208722 non-null  object \n",
      " 11  character_guild_name         208722 non-null  object \n",
      " 12  character_date_create        208722 non-null  object \n",
      " 13  access_flag                  208722 non-null  bool   \n",
      " 14  liberation_quest_clear_flag  208722 non-null  bool   \n",
      " 15  popularity                   208722 non-null  int64  \n",
      " 16  arcane_sum                   208722 non-null  int64  \n",
      " 17  authentic_sum                208722 non-null  int64  \n",
      " 18  set_absorlab_count           208722 non-null  int64  \n",
      " 19  set_lubatiss_count           208722 non-null  int64  \n",
      " 20  set_arcane_count             208722 non-null  int64  \n",
      " 21  set_eternal_count            208722 non-null  int64  \n",
      " 22  dojang_best_floor            163432 non-null  float64\n",
      " 23  union_level                  208722 non-null  int64  \n",
      " 24  union_artifact_level         208722 non-null  int64  \n",
      " 25  union_artifact_exp           208722 non-null  object \n",
      " 26  union_artifact_point         208722 non-null  int64  \n",
      " 27  exp_1017                     208722 non-null  object \n",
      " 28  access_1017                  208722 non-null  bool   \n",
      " 29  exp_1024                     208722 non-null  object \n",
      " 30  access_1024                  208722 non-null  bool   \n",
      " 31  exp_1031                     208722 non-null  object \n",
      " 32  access_1031                  208722 non-null  bool   \n",
      " 33  exp_1107                     208722 non-null  object \n",
      " 34  access_1107                  208722 non-null  bool   \n",
      " 35  exp_1114                     208722 non-null  object \n",
      " 36  access_1114                  208722 non-null  bool   \n",
      " 37  exp_1121                     208722 non-null  object \n",
      " 38  access_1121                  208722 non-null  bool   \n",
      " 39  exp_1128                     208722 non-null  object \n",
      " 40  access_1128                  208722 non-null  bool   \n",
      " 41  exp_1205                     208722 non-null  object \n",
      " 42  access_1205                  208722 non-null  bool   \n",
      " 43  exp_1212                     208722 non-null  object \n",
      " 44  access_1212                  208722 non-null  bool   \n",
      " 45  exp_1219                     208722 non-null  object \n",
      " 46  access_1219                  208722 non-null  bool   \n",
      " 47  event                        208722 non-null  int64  \n",
      " 48  duration                     208722 non-null  int64  \n",
      " 49  is_zero                      208722 non-null  int64  \n",
      " 50  popularity_zscore            208722 non-null  float64\n",
      " 51  level_segment                208722 non-null  object \n",
      " 52  liberation_flag              208722 non-null  int64  \n",
      " 53  dojang_active_flag           208722 non-null  int64  \n",
      " 54  dojang_40plus_flag           208722 non-null  int64  \n",
      " 55  segment                      208722 non-null  object \n",
      " 56  arcane_max_flag              208722 non-null  int64  \n",
      " 57  set_combo_group              208722 non-null  object \n",
      " 58  character_age_days           208722 non-null  int64  \n",
      " 59  new_user_flag                208722 non-null  int64  \n",
      " 60  veteran_flag                 208722 non-null  int64  \n",
      " 61  guild_flag                   208722 non-null  int64  \n",
      " 62  survival_prob_9w             208722 non-null  float64\n",
      " 63  risk_score                   208722 non-null  float64\n",
      " 64  risk_level                   208722 non-null  object \n",
      " 65  threshold75_time             208722 non-null  float64\n",
      " 66  character_image              208722 non-null  object \n",
      "dtypes: bool(12), float64(6), int64(23), object(26)\n",
      "memory usage: 90.0+ MB\n"
     ]
    }
   ],
   "source": [
    "df_cleaned.info()"
   ]
  },
  {
   "cell_type": "code",
   "execution_count": 41,
   "id": "30ebf597-a5a9-44d1-8640-93bf2af33c30",
   "metadata": {},
   "outputs": [
    {
     "data": {
      "text/plain": [
       "0         285-289\n",
       "1            290+\n",
       "2         285-289\n",
       "3         285-289\n",
       "4            290+\n",
       "           ...   \n",
       "208807    285-289\n",
       "208808    270-274\n",
       "208809    270-274\n",
       "208810       290+\n",
       "208811    275-279\n",
       "Name: level_segment, Length: 208812, dtype: object"
      ]
     },
     "execution_count": 41,
     "metadata": {},
     "output_type": "execute_result"
    }
   ],
   "source": [
    "df['level_segment']"
   ]
  },
  {
   "cell_type": "code",
   "execution_count": 15,
   "id": "16f4b67c-1c12-4967-bd17-344ad807b81c",
   "metadata": {},
   "outputs": [
    {
     "data": {
      "text/plain": [
       "['rsf_model.pkl']"
      ]
     },
     "execution_count": 15,
     "metadata": {},
     "output_type": "execute_result"
    }
   ],
   "source": [
    "joblib.dump(rsf, \"rsf_model.pkl\")\n"
   ]
  },
  {
   "cell_type": "code",
   "execution_count": 16,
   "id": "ce49c2fe-3475-4830-9d61-bc650239d4a2",
   "metadata": {},
   "outputs": [],
   "source": [
    "X[\"ocid\"] = df[\"ocid\"]  # ocid 붙여주기 (Streamlit info 매핑용)\n",
    "X.to_pickle(\"X_for_streamlit.pkl\")"
   ]
  },
  {
   "cell_type": "code",
   "execution_count": null,
   "id": "49c44e2a-ad59-4002-bf4b-bd44098c0da2",
   "metadata": {},
   "outputs": [
    {
     "name": "stderr",
     "output_type": "stream",
     "text": [
      "C:\\Users\\qhwhr\\anaconda3\\Lib\\site-packages\\sksurv\\metrics.py:140: RuntimeWarning: overflow encountered in scalar add\n",
      "  concordant += n_con\n"
     ]
    }
   ],
   "source": [
    "import pandas as pd\n",
    "import joblib\n",
    "from sklearn.inspection import permutation_importance\n",
    "from sksurv.metrics import concordance_index_censored\n",
    "\n",
    "# 데이터 로딩\n",
    "X = pd.read_pickle(\"X_for_streamlit.pkl\")\n",
    "df = pd.read_csv(\"streamlit_full_user_prediction.csv\", low_memory=False)\n",
    "rsf = joblib.load(\"rsf_model.pkl\")\n",
    "# 💡 여기에 꼭 추가!\n",
    "df[\"event\"] = df[\"event\"].astype(bool)\n",
    "# 사용자 정의 scoring 함수\n",
    "def rsf_cindex_score(model, X, y):\n",
    "    preds = model.predict(X)\n",
    "    return concordance_index_censored(y[\"event\"], y[\"duration\"], preds)[0]\n",
    "\n",
    "# X, y 준비\n",
    "X_input = X.drop(columns=[\"ocid\"])\n",
    "y_surv = df[[\"event\", \"duration\"]].loc[X.index]  # index 맞춤!\n",
    "\n",
    "# 중요도 계산\n",
    "result = permutation_importance(\n",
    "    rsf,\n",
    "    X_input,\n",
    "    y_surv,\n",
    "    n_repeats=5,\n",
    "    random_state=42,\n",
    "    n_jobs=-1,\n",
    "    scoring=rsf_cindex_score\n",
    ")\n",
    "\n",
    "# 저장\n",
    "importance_df = pd.DataFrame({\n",
    "    \"feature\": X_input.columns,\n",
    "    \"importance\": result.importances_mean\n",
    "}).sort_values(by=\"importance\", ascending=False)\n",
    "\n",
    "importance_df.to_csv(\"feature_importance.csv\", index=False)\n",
    "print(\"🎉 저장 완료: feature_importance.csv\")\n",
    "\n",
    "\n"
   ]
  },
  {
   "cell_type": "code",
   "execution_count": 3,
   "id": "7d310bef-7d6c-44cd-b905-cb488d4322c2",
   "metadata": {},
   "outputs": [],
   "source": [
    "import pandas as pd\n",
    "import joblib\n",
    "from sklearn.inspection import permutation_importance\n",
    "from sksurv.metrics import concordance_index_censored\n",
    "rsf = joblib.load(\"rsf_model.pkl\")"
   ]
  },
  {
   "cell_type": "code",
   "execution_count": 7,
   "id": "155c807e-69f5-4830-b0a0-4cc0635c9b4a",
   "metadata": {},
   "outputs": [
    {
     "name": "stderr",
     "output_type": "stream",
     "text": [
      "C:\\Users\\qhwhr\\anaconda3\\Lib\\site-packages\\sksurv\\metrics.py:140: RuntimeWarning: overflow encountered in scalar add\n",
      "  concordant += n_con\n"
     ]
    },
    {
     "name": "stdout",
     "output_type": "stream",
     "text": [
      "🔁 진행 중: 1/77 - 변수: character_level\n"
     ]
    },
    {
     "name": "stderr",
     "output_type": "stream",
     "text": [
      "C:\\Users\\qhwhr\\anaconda3\\Lib\\site-packages\\sksurv\\metrics.py:140: RuntimeWarning: overflow encountered in scalar add\n",
      "  concordant += n_con\n",
      "C:\\Users\\qhwhr\\anaconda3\\Lib\\site-packages\\sksurv\\metrics.py:140: RuntimeWarning: overflow encountered in scalar add\n",
      "  concordant += n_con\n",
      "C:\\Users\\qhwhr\\anaconda3\\Lib\\site-packages\\sksurv\\metrics.py:140: RuntimeWarning: overflow encountered in scalar add\n",
      "  concordant += n_con\n",
      "C:\\Users\\qhwhr\\anaconda3\\Lib\\site-packages\\sksurv\\metrics.py:140: RuntimeWarning: overflow encountered in scalar add\n",
      "  concordant += n_con\n",
      "C:\\Users\\qhwhr\\anaconda3\\Lib\\site-packages\\sksurv\\metrics.py:140: RuntimeWarning: overflow encountered in scalar add\n",
      "  concordant += n_con\n"
     ]
    },
    {
     "name": "stdout",
     "output_type": "stream",
     "text": [
      "🔁 진행 중: 2/77 - 변수: authentic_sum\n"
     ]
    },
    {
     "name": "stderr",
     "output_type": "stream",
     "text": [
      "C:\\Users\\qhwhr\\anaconda3\\Lib\\site-packages\\sksurv\\metrics.py:140: RuntimeWarning: overflow encountered in scalar add\n",
      "  concordant += n_con\n",
      "C:\\Users\\qhwhr\\anaconda3\\Lib\\site-packages\\sksurv\\metrics.py:140: RuntimeWarning: overflow encountered in scalar add\n",
      "  concordant += n_con\n",
      "C:\\Users\\qhwhr\\anaconda3\\Lib\\site-packages\\sksurv\\metrics.py:140: RuntimeWarning: overflow encountered in scalar add\n",
      "  concordant += n_con\n"
     ]
    },
    {
     "ename": "KeyboardInterrupt",
     "evalue": "",
     "output_type": "error",
     "traceback": [
      "\u001b[1;31m---------------------------------------------------------------------------\u001b[0m",
      "\u001b[1;31mKeyboardInterrupt\u001b[0m                         Traceback (most recent call last)",
      "Cell \u001b[1;32mIn[7], line 46\u001b[0m\n\u001b[0;32m     44\u001b[0m     X_permuted \u001b[38;5;241m=\u001b[39m X\u001b[38;5;241m.\u001b[39mcopy()\n\u001b[0;32m     45\u001b[0m     X_permuted[feature] \u001b[38;5;241m=\u001b[39m shuffle(X_permuted[feature], random_state\u001b[38;5;241m=\u001b[39m\u001b[38;5;241m42\u001b[39m)\n\u001b[1;32m---> 46\u001b[0m     score \u001b[38;5;241m=\u001b[39m rsf_cindex_score(rsf, X_permuted, y)\n\u001b[0;32m     47\u001b[0m     scores\u001b[38;5;241m.\u001b[39mappend(base_score \u001b[38;5;241m-\u001b[39m score)\n\u001b[0;32m     49\u001b[0m importances\u001b[38;5;241m.\u001b[39mappend({\n\u001b[0;32m     50\u001b[0m     \u001b[38;5;124m\"\u001b[39m\u001b[38;5;124mfeature\u001b[39m\u001b[38;5;124m\"\u001b[39m: feature,\n\u001b[0;32m     51\u001b[0m     \u001b[38;5;124m\"\u001b[39m\u001b[38;5;124mimportance_mean\u001b[39m\u001b[38;5;124m\"\u001b[39m: np\u001b[38;5;241m.\u001b[39mmean(scores),\n\u001b[0;32m     52\u001b[0m     \u001b[38;5;124m\"\u001b[39m\u001b[38;5;124mimportance_std\u001b[39m\u001b[38;5;124m\"\u001b[39m: np\u001b[38;5;241m.\u001b[39mstd(scores)\n\u001b[0;32m     53\u001b[0m })\n",
      "Cell \u001b[1;32mIn[7], line 29\u001b[0m, in \u001b[0;36mrsf_cindex_score\u001b[1;34m(model, X, y)\u001b[0m\n\u001b[0;32m     27\u001b[0m \u001b[38;5;28;01mdef\u001b[39;00m \u001b[38;5;21mrsf_cindex_score\u001b[39m(model, X, y):\n\u001b[0;32m     28\u001b[0m     preds \u001b[38;5;241m=\u001b[39m model\u001b[38;5;241m.\u001b[39mpredict(X)\n\u001b[1;32m---> 29\u001b[0m     \u001b[38;5;28;01mreturn\u001b[39;00m concordance_index_censored(y[\u001b[38;5;124m\"\u001b[39m\u001b[38;5;124mevent\u001b[39m\u001b[38;5;124m\"\u001b[39m], y[\u001b[38;5;124m\"\u001b[39m\u001b[38;5;124mduration\u001b[39m\u001b[38;5;124m\"\u001b[39m], preds)[\u001b[38;5;241m0\u001b[39m]\n",
      "File \u001b[1;32m~\\anaconda3\\Lib\\site-packages\\sksurv\\metrics.py:219\u001b[0m, in \u001b[0;36mconcordance_index_censored\u001b[1;34m(event_indicator, event_time, estimate, tied_tol)\u001b[0m\n\u001b[0;32m    215\u001b[0m event_indicator, event_time, estimate \u001b[38;5;241m=\u001b[39m _check_inputs(event_indicator, event_time, estimate)\n\u001b[0;32m    217\u001b[0m w \u001b[38;5;241m=\u001b[39m np\u001b[38;5;241m.\u001b[39mones_like(estimate)\n\u001b[1;32m--> 219\u001b[0m \u001b[38;5;28;01mreturn\u001b[39;00m _estimate_concordance_index(event_indicator, event_time, estimate, w, tied_tol)\n",
      "File \u001b[1;32m~\\anaconda3\\Lib\\site-packages\\sksurv\\metrics.py:130\u001b[0m, in \u001b[0;36m_estimate_concordance_index\u001b[1;34m(event_indicator, event_time, estimate, weights, tied_tol)\u001b[0m\n\u001b[0;32m    126\u001b[0m est \u001b[38;5;241m=\u001b[39m estimate[order[mask]]\n\u001b[0;32m    128\u001b[0m \u001b[38;5;28;01massert\u001b[39;00m event_i, \u001b[38;5;124mf\u001b[39m\u001b[38;5;124m\"\u001b[39m\u001b[38;5;124mgot censored sample at index \u001b[39m\u001b[38;5;132;01m{\u001b[39;00morder[ind]\u001b[38;5;132;01m}\u001b[39;00m\u001b[38;5;124m, but expected uncensored\u001b[39m\u001b[38;5;124m\"\u001b[39m\n\u001b[1;32m--> 130\u001b[0m ties \u001b[38;5;241m=\u001b[39m np\u001b[38;5;241m.\u001b[39mabsolute(est \u001b[38;5;241m-\u001b[39m est_i) \u001b[38;5;241m<\u001b[39m\u001b[38;5;241m=\u001b[39m tied_tol\n\u001b[0;32m    131\u001b[0m n_ties \u001b[38;5;241m=\u001b[39m ties\u001b[38;5;241m.\u001b[39msum()\n\u001b[0;32m    132\u001b[0m \u001b[38;5;66;03m# an event should have a higher score\u001b[39;00m\n",
      "\u001b[1;31mKeyboardInterrupt\u001b[0m: "
     ]
    }
   ],
   "source": [
    "from sksurv.metrics import concordance_index_censored\n",
    "from sklearn.utils import shuffle\n",
    "import numpy as np\n",
    "import pandas as pd\n",
    "import time\n",
    "import pandas as pd\n",
    "import joblib\n",
    "from sklearn.inspection import permutation_importance\n",
    "from sksurv.metrics import concordance_index_censored\n",
    "\n",
    "# ✅ 1. 학습에 쓴 피처셋 불러오기\n",
    "X = pd.read_pickle(\"X_for_streamlit.pkl\")\n",
    "if \"ocid\" in X.columns:\n",
    "    X = X.drop(columns=[\"ocid\"])\n",
    "# ✅ 2. 예측된 생존확률/이벤트/duration 포함된 결과 불러오기\n",
    "df = pd.read_csv(\"streamlit_full_user_prediction.csv\", low_memory=False)\n",
    "\n",
    "# ✅ 3. 학습된 RSF 모델 불러오기\n",
    "rsf = joblib.load(\"rsf_model.pkl\")\n",
    "\n",
    "# ✅ 4. event 컬럼 boolean 타입으로 캐스팅 (필수)\n",
    "df[\"event\"] = df[\"event\"].astype(bool)\n",
    "\n",
    "# ✅ 5. y 생성\n",
    "y = df[[\"event\", \"duration\"]].loc[X.index]\n",
    "\n",
    "def rsf_cindex_score(model, X, y):\n",
    "    preds = model.predict(X)\n",
    "    return concordance_index_censored(y[\"event\"], y[\"duration\"], preds)[0]\n",
    "\n",
    "# 원래 스코어\n",
    "base_score = rsf_cindex_score(rsf, X, y)\n",
    "\n",
    "# 변수 리스트\n",
    "features = X.columns.tolist()\n",
    "importances = []\n",
    "n_repeats = 5\n",
    "\n",
    "for i, feature in enumerate(features):\n",
    "    print(f\"🔁 진행 중: {i+1}/{len(features)} - 변수: {feature}\")\n",
    "    scores = []\n",
    "    \n",
    "    for _ in range(n_repeats):\n",
    "        X_permuted = X.copy()\n",
    "        X_permuted[feature] = shuffle(X_permuted[feature], random_state=42)\n",
    "        score = rsf_cindex_score(rsf, X_permuted, y)\n",
    "        scores.append(base_score - score)\n",
    "\n",
    "    importances.append({\n",
    "        \"feature\": feature,\n",
    "        \"importance_mean\": np.mean(scores),\n",
    "        \"importance_std\": np.std(scores)\n",
    "    })\n",
    "\n",
    "importance_df = pd.DataFrame(importances).sort_values(by=\"importance_mean\", ascending=False)\n",
    "importance_df.to_csv(\"rsf_feature_importance_cindex.csv\", index=False)\n",
    "print(\"✅ 저장 완료: rsf_feature_importance_cindex.csv\")\n"
   ]
  },
  {
   "cell_type": "code",
   "execution_count": 9,
   "id": "c6f0af59-59ea-456b-869b-35c75bf8ab11",
   "metadata": {},
   "outputs": [
    {
     "name": "stderr",
     "output_type": "stream",
     "text": [
      "C:\\Users\\qhwhr\\anaconda3\\Lib\\site-packages\\sksurv\\metrics.py:140: RuntimeWarning: overflow encountered in scalar add\n",
      "  concordant += n_con\n"
     ]
    },
    {
     "name": "stdout",
     "output_type": "stream",
     "text": [
      "✅ 병렬 처리로 저장 완료\n"
     ]
    }
   ],
   "source": [
    "from joblib import Parallel, delayed\n",
    "from sksurv.metrics import concordance_index_censored\n",
    "from sklearn.utils import shuffle\n",
    "import numpy as np\n",
    "import pandas as pd\n",
    "import joblib\n",
    "\n",
    "# ✅ 데이터 로딩\n",
    "X = pd.read_pickle(\"X_for_streamlit.pkl\")\n",
    "if \"ocid\" in X.columns:\n",
    "    X = X.drop(columns=[\"ocid\"])\n",
    "\n",
    "df = pd.read_csv(\"streamlit_full_user_prediction.csv\", low_memory=False)\n",
    "rsf = joblib.load(\"rsf_model.pkl\")\n",
    "df[\"event\"] = df[\"event\"].astype(bool)\n",
    "y = df[[\"event\", \"duration\"]].loc[X.index]\n",
    "\n",
    "# ✅ C-index 기반 scoring 함수\n",
    "def rsf_cindex_score(model, X, y):\n",
    "    preds = model.predict(X)\n",
    "    return concordance_index_censored(y[\"event\"], y[\"duration\"], preds)[0]\n",
    "\n",
    "# ✅ base score (원래 성능)\n",
    "base_score = rsf_cindex_score(rsf, X, y)\n",
    "\n",
    "# ✅ permutation importance 계산 함수\n",
    "def compute_importance(feature):\n",
    "    scores = []\n",
    "    for _ in range(5):  # 반복 횟수 설정\n",
    "        X_permuted = X.copy()\n",
    "        X_permuted[feature] = shuffle(X_permuted[feature], random_state=None)\n",
    "        score = rsf_cindex_score(rsf, X_permuted, y)\n",
    "        scores.append(base_score - score)\n",
    "    return {\n",
    "        \"feature\": feature,\n",
    "        \"importance_mean\": np.mean(scores),\n",
    "        \"importance_std\": np.std(scores)\n",
    "    }\n",
    "\n",
    "# ✅ 사용할 변수 리스트\n",
    "selected_features = X.columns.tolist()  # 또는 [:30]처럼 제한 가능\n",
    "\n",
    "# ✅ 병렬 처리 실행\n",
    "results = Parallel(n_jobs=-1)(\n",
    "    delayed(compute_importance)(feature) for feature in selected_features\n",
    ")\n",
    "\n",
    "# ✅ 결과 저장\n",
    "importance_df = pd.DataFrame(results).sort_values(by=\"importance_mean\", ascending=False)\n",
    "importance_df.to_csv(\"rsf_feature_importance_cindex_parallel.csv\", index=False)\n",
    "print(\"✅ 병렬 처리로 저장 완료\")\n"
   ]
  },
  {
   "cell_type": "code",
   "execution_count": 9,
   "id": "3ac63a7c-f792-4451-bad7-e98f6129d6fe",
   "metadata": {},
   "outputs": [
    {
     "name": "stdout",
     "output_type": "stream",
     "text": [
      "0.0007643794958055867 6.245986273402791 0.5525310313959915 0.47689108793861185\n"
     ]
    }
   ],
   "source": [
    "preds = rsf.predict(X)\n",
    "print(np.min(preds), np.max(preds), np.mean(preds), np.std(preds))"
   ]
  },
  {
   "cell_type": "code",
   "execution_count": 2,
   "id": "f5e0336f-bc48-404d-9b5c-48f13b2b87d7",
   "metadata": {},
   "outputs": [],
   "source": [
    "from joblib import Parallel, delayed\n",
    "from sksurv.metrics import concordance_index_censored\n",
    "from sklearn.utils import shuffle\n",
    "import numpy as np\n",
    "import pandas as pd\n",
    "import joblib\n",
    "# ✅ 데이터 로딩\n",
    "X = pd.read_pickle(\"X_for_streamlit.pkl\")\n",
    "if \"ocid\" in X.columns:\n",
    "    X = X.drop(columns=[\"ocid\"])\n"
   ]
  },
  {
   "cell_type": "code",
   "execution_count": 18,
   "id": "c68bf54a-0b25-4a34-b35e-c1cfc96a78f5",
   "metadata": {},
   "outputs": [
    {
     "name": "stderr",
     "output_type": "stream",
     "text": [
      "C:\\Users\\qhwhr\\anaconda3\\Lib\\site-packages\\sksurv\\metrics.py:140: RuntimeWarning: overflow encountered in scalar add\n",
      "  concordant += n_con\n"
     ]
    },
    {
     "name": "stdout",
     "output_type": "stream",
     "text": [
      "Base C-index: 0.8184\n"
     ]
    }
   ],
   "source": [
    "from sksurv.metrics import concordance_index_censored\n",
    "from sklearn.utils import shuffle\n",
    "import numpy as np\n",
    "import pandas as pd\n",
    "import time\n",
    "import pandas as pd\n",
    "import joblib\n",
    "from sklearn.inspection import permutation_importance\n",
    "from sksurv.metrics import concordance_index_censored\n",
    "X = pd.read_pickle(\"X_for_streamlit.pkl\")\n",
    "if \"ocid\" in X.columns:\n",
    "    X = X.drop(columns=[\"ocid\"])\n",
    "\n",
    "df = pd.read_csv(\"streamlit_full_user_prediction.csv\", low_memory=False)\n",
    "rsf = joblib.load(\"rsf_model.pkl\")\n",
    "df[\"event\"] = df[\"event\"].astype(bool)\n",
    "y = df[[\"event\", \"duration\"]].loc[X.index]\n",
    "\n",
    "# ✅ C-index 기반 scoring 함수\n",
    "def rsf_cindex_score(model, X, y):\n",
    "    preds = model.predict(X)\n",
    "    return concordance_index_censored(y[\"event\"], y[\"duration\"], preds)[0]\n",
    "    # ✅ base score (원래 성능)\n",
    "base_score = rsf_cindex_score(rsf, X, y)\n",
    "print(f\"Base C-index: {base_score:.4f}\")"
   ]
  },
  {
   "cell_type": "code",
   "execution_count": 12,
   "id": "872acbff-34f7-40f0-9870-479fdb78e4fe",
   "metadata": {},
   "outputs": [
    {
     "ename": "NameError",
     "evalue": "name 'y' is not defined",
     "output_type": "error",
     "traceback": [
      "\u001b[1;31m---------------------------------------------------------------------------\u001b[0m",
      "\u001b[1;31mNameError\u001b[0m                                 Traceback (most recent call last)",
      "Cell \u001b[1;32mIn[12], line 1\u001b[0m\n\u001b[1;32m----> 1\u001b[0m \u001b[38;5;28mprint\u001b[39m((X\u001b[38;5;241m.\u001b[39mindex \u001b[38;5;241m==\u001b[39m y\u001b[38;5;241m.\u001b[39mindex)\u001b[38;5;241m.\u001b[39mall())\n",
      "\u001b[1;31mNameError\u001b[0m: name 'y' is not defined"
     ]
    }
   ],
   "source": [
    "print((X.index == y.index).all())"
   ]
  },
  {
   "cell_type": "code",
   "execution_count": 19,
   "id": "b2dc7d77-45a3-4a8c-b70b-11daaab84747",
   "metadata": {},
   "outputs": [
    {
     "name": "stdout",
     "output_type": "stream",
     "text": [
      "인덱스 일치 여부: True\n",
      "샘플 5개 비교:\n",
      "    character_level  authentic_sum  popularity_zscore  character_age_days  \\\n",
      "0              289             61           0.077832                1761   \n",
      "1              291             58           3.054288                2447   \n",
      "2              289             66           0.040511                2113   \n",
      "3              289             66           2.456531                3021   \n",
      "4              290             66           0.296891                 943   \n",
      "\n",
      "   new_user_flag  veteran_flag  liberation_flag  arcane_max_flag  \\\n",
      "0              0             0                1                1   \n",
      "1              0             1                1                1   \n",
      "2              0             1                0                1   \n",
      "3              0             1                0                1   \n",
      "4              0             0                1                1   \n",
      "\n",
      "   dojang_active_flag  dojang_40plus_flag  ...  world_name_스카니아  \\\n",
      "0                   1                   1  ...            False   \n",
      "1                   1                   1  ...            False   \n",
      "2                   1                   1  ...            False   \n",
      "3                   1                   1  ...            False   \n",
      "4                   1                   1  ...            False   \n",
      "\n",
      "   world_name_아케인  world_name_엘리시움  world_name_오로라  world_name_유니온  \\\n",
      "0           False            False           False           False   \n",
      "1           False            False           False           False   \n",
      "2           False            False            True           False   \n",
      "3           False             True           False           False   \n",
      "4           False            False           False           False   \n",
      "\n",
      "   world_name_이노시스  world_name_제니스  world_name_크로아  event  duration  \n",
      "0            False           False            True  False        10  \n",
      "1            False           False            True  False        10  \n",
      "2            False           False           False  False        10  \n",
      "3            False           False           False  False        10  \n",
      "4            False           False           False  False        10  \n",
      "\n",
      "[5 rows x 79 columns]\n"
     ]
    }
   ],
   "source": [
    "print(\"인덱스 일치 여부:\", X.index.equals(y.index))\n",
    "print(\"샘플 5개 비교:\\n\", pd.concat([X.reset_index(drop=True), y.reset_index(drop=True)], axis=1).head())\n"
   ]
  },
  {
   "cell_type": "code",
   "execution_count": 4,
   "id": "8d4daf85-97de-4665-9702-0f73c784a376",
   "metadata": {},
   "outputs": [
    {
     "name": "stdout",
     "output_type": "stream",
     "text": [
      "min: 0.0007643794958055867 max: 6.245986273402789 std: 0.4768910879386119\n"
     ]
    }
   ],
   "source": [
    "preds = rsf.predict(X)\n",
    "print(\"min:\", np.min(preds), \"max:\", np.max(preds), \"std:\", np.std(preds))\n"
   ]
  },
  {
   "cell_type": "code",
   "execution_count": 8,
   "id": "e02369ca-413f-4c11-b533-ad1519f0b28b",
   "metadata": {},
   "outputs": [
    {
     "name": "stderr",
     "output_type": "stream",
     "text": [
      "C:\\Users\\qhwhr\\anaconda3\\Lib\\site-packages\\sksurv\\metrics.py:140: RuntimeWarning: overflow encountered in scalar add\n",
      "  concordant += n_con\n",
      "C:\\Users\\qhwhr\\anaconda3\\Lib\\site-packages\\sksurv\\metrics.py:140: RuntimeWarning: overflow encountered in scalar add\n",
      "  concordant += n_con\n",
      "C:\\Users\\qhwhr\\anaconda3\\Lib\\site-packages\\sksurv\\metrics.py:140: RuntimeWarning: overflow encountered in scalar add\n",
      "  concordant += n_con\n",
      "C:\\Users\\qhwhr\\anaconda3\\Lib\\site-packages\\sksurv\\metrics.py:140: RuntimeWarning: overflow encountered in scalar add\n",
      "  concordant += n_con\n",
      "C:\\Users\\qhwhr\\anaconda3\\Lib\\site-packages\\sksurv\\metrics.py:140: RuntimeWarning: overflow encountered in scalar add\n",
      "  concordant += n_con\n",
      "C:\\Users\\qhwhr\\anaconda3\\Lib\\site-packages\\sksurv\\metrics.py:140: RuntimeWarning: overflow encountered in scalar add\n",
      "  concordant += n_con\n"
     ]
    },
    {
     "name": "stdout",
     "output_type": "stream",
     "text": [
      "✅ 단일 피처 중요도 테스트 결과:\n",
      "{'feature': 'character_level', 'importance_mean': 0.0, 'importance_std': 0.0}\n"
     ]
    }
   ],
   "source": [
    "# ✅ 데이터 로딩\n",
    "X = pd.read_pickle(\"X_for_streamlit.pkl\")\n",
    "if \"ocid\" in X.columns:\n",
    "    X = X.drop(columns=[\"ocid\"])\n",
    "\n",
    "df = pd.read_csv(\"streamlit_full_user_prediction.csv\", low_memory=False)\n",
    "rsf = joblib.load(\"rsf_model.pkl\")\n",
    "df[\"event\"] = df[\"event\"].astype(bool)\n",
    "y = df[[\"event\", \"duration\"]].loc[X.index]\n",
    "\n",
    "def rsf_cindex_score(model, X, y):\n",
    "    preds = model.predict(X)\n",
    "    preds = (preds - preds.min()) / (preds.max() - preds.min() + 1e-8)\n",
    "    return concordance_index_censored(y[\"event\"], y[\"duration\"], preds)[0]\n",
    "base_score = rsf_cindex_score(rsf, X, y)\n",
    "\n",
    "# ✅ 중요도 계산 함수 (한 피처 테스트용)\n",
    "def compute_importance(feature):\n",
    "    scores = []\n",
    "    for _ in range(5):\n",
    "        X_permuted = X.copy()\n",
    "        X_permuted[feature] = shuffle(X_permuted[feature], random_state=None)\n",
    "        score = rsf_cindex_score(rsf, X_permuted, y)\n",
    "        scores.append(base_score - score)\n",
    "    return {\n",
    "        \"feature\": feature,\n",
    "        \"importance_mean\": np.mean(scores),\n",
    "        \"importance_std\": np.std(scores)\n",
    "    }\n",
    "\n",
    "# ✅ 테스트: 첫 번째 피처만\n",
    "test_feature = X.columns[0]\n",
    "result = compute_importance(test_feature)\n",
    "\n",
    "# ✅ 결과 출력\n",
    "print(\"✅ 단일 피처 중요도 테스트 결과:\")\n",
    "print(result)\n"
   ]
  },
  {
   "cell_type": "code",
   "execution_count": 9,
   "id": "77e9add4-d003-4106-af2c-3a2cdcdf647e",
   "metadata": {},
   "outputs": [
    {
     "name": "stdout",
     "output_type": "stream",
     "text": [
      "✅ 단일 피처 중요도 저장 완료\n",
      "           feature  importance_mean  importance_std\n",
      "0  character_level              0.0             0.0\n"
     ]
    }
   ],
   "source": [
    "from lifelines.utils import concordance_index\n",
    "from sklearn.utils import shuffle\n",
    "import numpy as np\n",
    "import pandas as pd\n",
    "import joblib\n",
    "\n",
    "# ✅ 데이터 로딩\n",
    "X = pd.read_pickle(\"X_for_streamlit.pkl\")\n",
    "if \"ocid\" in X.columns:\n",
    "    X = X.drop(columns=[\"ocid\"])\n",
    "\n",
    "df = pd.read_csv(\"streamlit_full_user_prediction.csv\", low_memory=False)\n",
    "rsf = joblib.load(\"rsf_model.pkl\")\n",
    "df[\"event\"] = df[\"event\"].astype(bool)\n",
    "y = df[[\"event\", \"duration\"]].loc[X.index]\n",
    "\n",
    "# ✅ lifelines 기반 안정적 C-index 함수\n",
    "def rsf_cindex_score(model, X, y):\n",
    "    preds = model.predict(X)\n",
    "    preds = (preds - preds.min()) / (preds.max() - preds.min() + 1e-8)\n",
    "    return concordance_index(y[\"duration\"], -preds, event_observed=y[\"event\"])\n",
    "\n",
    "# ✅ base 성능\n",
    "base_score = rsf_cindex_score(rsf, X, y)\n",
    "\n",
    "# ✅ 중요도 계산 함수 (단일 피처용)\n",
    "def compute_importance(feature):\n",
    "    scores = []\n",
    "    for _ in range(5):  # 반복 횟수 조절 가능\n",
    "        X_permuted = X.copy()\n",
    "        X_permuted[feature] = shuffle(X_permuted[feature], random_state=None)\n",
    "        score = rsf_cindex_score(rsf, X_permuted, y)\n",
    "        scores.append(base_score - score)\n",
    "    return {\n",
    "        \"feature\": feature,\n",
    "        \"importance_mean\": np.mean(scores),\n",
    "        \"importance_std\": np.std(scores)\n",
    "    }\n",
    "\n",
    "# ✅ 테스트할 피처 지정 (예: 첫 번째 피처)\n",
    "test_feature = X.columns[0]\n",
    "result = compute_importance(test_feature)\n",
    "\n",
    "# ✅ 결과를 DataFrame으로 변환 후 저장\n",
    "importance_df = pd.DataFrame([result])\n",
    "importance_df.to_csv(\"test_single_feature_importance.csv\", index=False)\n",
    "print(\"✅ 단일 피처 중요도 저장 완료\")\n",
    "print(importance_df)\n"
   ]
  },
  {
   "cell_type": "code",
   "execution_count": 13,
   "id": "1d9395b8-54a0-485c-a0d8-7a826599b798",
   "metadata": {},
   "outputs": [
    {
     "name": "stdout",
     "output_type": "stream",
     "text": [
      "    permuted score: 0.818385, Δ: 0.000000\n",
      "    permuted score: 0.818385, Δ: 0.000000\n",
      "    permuted score: 0.818385, Δ: 0.000000\n",
      "    permuted score: 0.818385, Δ: 0.000000\n",
      "    permuted score: 0.818385, Δ: 0.000000\n",
      "✅ 단일 피처 중요도 테스트 결과:\n",
      "{'feature': 'authentic_sum', 'importance_mean': 0.0, 'importance_std': 0.0}\n"
     ]
    }
   ],
   "source": [
    "# ✅ 테스트할 feature 하나 지정\n",
    "test_feature = \"authentic_sum\"  # 또는 X.columns[1] 등\n",
    "\n",
    "# ✅ 중요도 계산 실행\n",
    "result = compute_importance(test_feature)\n",
    "\n",
    "# ✅ 요약 결과 출력\n",
    "print(\"✅ 단일 피처 중요도 테스트 결과:\")\n",
    "print(result)\n"
   ]
  },
  {
   "cell_type": "code",
   "execution_count": 19,
   "id": "3021b826-2695-4dae-9f1a-690e60518d01",
   "metadata": {},
   "outputs": [
    {
     "name": "stdout",
     "output_type": "stream",
     "text": [
      "총 예측 차이 합계: 13663.167102277239\n",
      "예측값 차이 표준편차: 0.0784281514252137\n",
      "모든 값이 같은가: False\n"
     ]
    }
   ],
   "source": [
    "# 1. 원본 예측\n",
    "preds_original = rsf.predict(X)\n",
    "\n",
    "# 2. 피처 셔플\n",
    "X_permuted = X.copy()\n",
    "X_permuted[\"popularity_zscore\"] = np.random.permutation(X_permuted[\"popularity_zscore\"].values)\n",
    "\n",
    "# 3. 셔플 후 예측\n",
    "preds_permuted = rsf.predict(X_permuted)\n",
    "\n",
    "# 4. 차이 확인\n",
    "diff = np.abs(preds_original - preds_permuted)\n",
    "print(\"총 예측 차이 합계:\", diff.sum())\n",
    "print(\"예측값 차이 표준편차:\", np.std(diff))\n",
    "print(\"모든 값이 같은가:\", np.allclose(preds_original, preds_permuted))\n"
   ]
  },
  {
   "cell_type": "code",
   "execution_count": 22,
   "id": "e7f51a23-be26-4eae-822d-cd8f37fe4442",
   "metadata": {},
   "outputs": [
    {
     "name": "stdout",
     "output_type": "stream",
     "text": [
      "📌 Base C-index: 0.8183849974\n"
     ]
    },
    {
     "name": "stderr",
     "output_type": "stream",
     "text": [
      "🔄 Calculating importances: 100%|██████████████████████████████████████████████████████| 77/77 [15:31<00:00, 12.09s/it]\n"
     ]
    },
    {
     "name": "stdout",
     "output_type": "stream",
     "text": [
      "✅ 병렬 중요도 계산 및 CSV 저장 완료 → rsf_feature_importance_lifelines.csv\n"
     ]
    }
   ],
   "source": [
    "from lifelines.utils import concordance_index\n",
    "from joblib import Parallel, delayed\n",
    "import numpy as np\n",
    "import pandas as pd\n",
    "import joblib\n",
    "from sklearn.utils import shuffle\n",
    "from tqdm import tqdm  # ✅ 진행률 표시용\n",
    "\n",
    "# ✅ 데이터 로딩\n",
    "X = pd.read_pickle(\"X_for_streamlit.pkl\")\n",
    "if \"ocid\" in X.columns:\n",
    "    X = X.drop(columns=[\"ocid\"])\n",
    "\n",
    "df = pd.read_csv(\"streamlit_full_user_prediction.csv\", low_memory=False)\n",
    "rsf = joblib.load(\"rsf_model.pkl\")\n",
    "df[\"event\"] = df[\"event\"].astype(bool)\n",
    "y = df[[\"event\", \"duration\"]].loc[X.index]\n",
    "\n",
    "# ✅ 안정적인 C-index scoring 함수\n",
    "def rsf_cindex_score(model, X, y):\n",
    "    preds = model.predict(X)\n",
    "    preds = (preds - preds.min()) / (preds.max() - preds.min() + 1e-8)\n",
    "    return concordance_index(y[\"duration\"], -preds, event_observed=y[\"event\"])\n",
    "\n",
    "# ✅ base C-index\n",
    "base_score = rsf_cindex_score(rsf, X, y)\n",
    "print(f\"📌 Base C-index: {base_score:.10f}\")\n",
    "\n",
    "# ✅ 중요도 계산 함수 (개별 피처용)\n",
    "def compute_importance(feature):\n",
    "    scores = []\n",
    "    for _ in range(5):\n",
    "        X_permuted = X.copy()\n",
    "        X_permuted[feature] = np.random.permutation(X_permuted[feature].values)\n",
    "        score = rsf_cindex_score(rsf, X_permuted, y)\n",
    "        delta = base_score - score\n",
    "        scores.append(delta)\n",
    "    return {\n",
    "        \"feature\": feature,\n",
    "        \"importance_mean\": np.mean(scores),\n",
    "        \"importance_std\": np.std(scores)\n",
    "    }\n",
    "\n",
    "# ✅ tqdm 병렬 wrapper\n",
    "def parallel_with_progress(func, iterable, n_jobs=-1):\n",
    "    results = Parallel(n_jobs=n_jobs)(\n",
    "        delayed(func)(item) for item in tqdm(iterable, desc=\"🔄 Calculating importances\")\n",
    "    )\n",
    "    return results\n",
    "\n",
    "# ✅ 병렬 처리 실행\n",
    "selected_features = X.columns.tolist()\n",
    "results = parallel_with_progress(compute_importance, selected_features)\n",
    "\n",
    "# ✅ 정렬 후 저장\n",
    "importance_df = pd.DataFrame(results).sort_values(by=\"importance_mean\", ascending=False)\n",
    "importance_df.to_csv(\"rsf_feature_importance_lifelines.csv\", index=False)\n",
    "\n",
    "print(\"✅ 병렬 중요도 계산 및 CSV 저장 완료 → rsf_feature_importance_lifelines.csv\")\n"
   ]
  },
  {
   "cell_type": "code",
   "execution_count": 9,
   "id": "2d7ee0b9-8cd9-47bb-ac5a-cc36c49604f7",
   "metadata": {},
   "outputs": [
    {
     "name": "stdout",
     "output_type": "stream",
     "text": [
      "📊 상관계수: 0.1691, p-value: 0.0000\n"
     ]
    }
   ],
   "source": [
    "import scipy.stats as stats\n",
    "corr, pval = stats.pearsonr(X[\"character_level\"], y[\"duration\"])\n",
    "print(f\"📊 상관계수: {corr:.4f}, p-value: {pval:.4f}\")\n"
   ]
  },
  {
   "cell_type": "code",
   "execution_count": 10,
   "id": "60e45ade-ed3f-4f3a-a29b-4c1004ff94a5",
   "metadata": {},
   "outputs": [],
   "source": [
    "df = pd.read_csv(\"streamlit_user_data_with_image.csv\", low_memory=False)"
   ]
  },
  {
   "cell_type": "code",
   "execution_count": 12,
   "id": "b64686f5-444c-4c9d-abcc-88397c38f6e3",
   "metadata": {},
   "outputs": [
    {
     "name": "stdout",
     "output_type": "stream",
     "text": [
      "<class 'pandas.core.frame.DataFrame'>\n",
      "RangeIndex: 208722 entries, 0 to 208721\n",
      "Data columns (total 67 columns):\n",
      " #   Column                       Non-Null Count   Dtype  \n",
      "---  ------                       --------------   -----  \n",
      " 0   ocid                         208722 non-null  object \n",
      " 1   exp_1010                     208722 non-null  object \n",
      " 2   ranking                      208722 non-null  object \n",
      " 3   character_name               208722 non-null  object \n",
      " 4   world_name                   208722 non-null  object \n",
      " 5   character_gender             208722 non-null  object \n",
      " 6   character_class              208722 non-null  object \n",
      " 7   character_class_level        208722 non-null  int64  \n",
      " 8   character_level              208722 non-null  int64  \n",
      " 9   character_exp                208722 non-null  float64\n",
      " 10  character_exp_rate           208722 non-null  object \n",
      " 11  character_guild_name         208722 non-null  object \n",
      " 12  character_date_create        208722 non-null  object \n",
      " 13  access_flag                  208722 non-null  bool   \n",
      " 14  liberation_quest_clear_flag  208722 non-null  bool   \n",
      " 15  popularity                   208722 non-null  int64  \n",
      " 16  arcane_sum                   208722 non-null  int64  \n",
      " 17  authentic_sum                208722 non-null  int64  \n",
      " 18  set_absorlab_count           208722 non-null  int64  \n",
      " 19  set_lubatiss_count           208722 non-null  int64  \n",
      " 20  set_arcane_count             208722 non-null  int64  \n",
      " 21  set_eternal_count            208722 non-null  int64  \n",
      " 22  dojang_best_floor            163432 non-null  float64\n",
      " 23  union_level                  208722 non-null  int64  \n",
      " 24  union_artifact_level         208722 non-null  int64  \n",
      " 25  union_artifact_exp           208722 non-null  object \n",
      " 26  union_artifact_point         208722 non-null  int64  \n",
      " 27  exp_1017                     208722 non-null  object \n",
      " 28  access_1017                  208722 non-null  bool   \n",
      " 29  exp_1024                     208722 non-null  object \n",
      " 30  access_1024                  208722 non-null  bool   \n",
      " 31  exp_1031                     208722 non-null  object \n",
      " 32  access_1031                  208722 non-null  bool   \n",
      " 33  exp_1107                     208722 non-null  object \n",
      " 34  access_1107                  208722 non-null  bool   \n",
      " 35  exp_1114                     208722 non-null  object \n",
      " 36  access_1114                  208722 non-null  bool   \n",
      " 37  exp_1121                     208722 non-null  object \n",
      " 38  access_1121                  208722 non-null  bool   \n",
      " 39  exp_1128                     208722 non-null  object \n",
      " 40  access_1128                  208722 non-null  bool   \n",
      " 41  exp_1205                     208722 non-null  object \n",
      " 42  access_1205                  208722 non-null  bool   \n",
      " 43  exp_1212                     208722 non-null  object \n",
      " 44  access_1212                  208722 non-null  bool   \n",
      " 45  exp_1219                     208722 non-null  object \n",
      " 46  access_1219                  208722 non-null  bool   \n",
      " 47  event                        208722 non-null  bool   \n",
      " 48  duration                     208722 non-null  int64  \n",
      " 49  is_zero                      208722 non-null  int64  \n",
      " 50  popularity_zscore            208722 non-null  float64\n",
      " 51  level_segment                208722 non-null  object \n",
      " 52  liberation_flag              208722 non-null  int64  \n",
      " 53  dojang_active_flag           208722 non-null  int64  \n",
      " 54  dojang_40plus_flag           208722 non-null  int64  \n",
      " 55  segment                      208722 non-null  object \n",
      " 56  arcane_max_flag              208722 non-null  int64  \n",
      " 57  set_combo_group              208722 non-null  object \n",
      " 58  character_age_days           208722 non-null  int64  \n",
      " 59  new_user_flag                208722 non-null  int64  \n",
      " 60  veteran_flag                 208722 non-null  int64  \n",
      " 61  guild_flag                   208722 non-null  int64  \n",
      " 62  survival_prob_9w             208722 non-null  float64\n",
      " 63  risk_score                   208722 non-null  float64\n",
      " 64  risk_level                   208722 non-null  object \n",
      " 65  threshold75_time             208722 non-null  float64\n",
      " 66  character_image              208722 non-null  object \n",
      "dtypes: bool(13), float64(6), int64(22), object(26)\n",
      "memory usage: 88.6+ MB\n"
     ]
    }
   ],
   "source": [
    "df.info()"
   ]
  },
  {
   "cell_type": "code",
   "execution_count": 15,
   "id": "b00181d4-bcf1-4060-bd3b-64aa86e94ff7",
   "metadata": {},
   "outputs": [
    {
     "name": "stdout",
     "output_type": "stream",
     "text": [
      "True\n",
      "['character_level', 'authentic_sum', 'popularity_zscore', 'character_age_days', 'new_user_flag', 'veteran_flag', 'liberation_flag', 'arcane_max_flag', 'dojang_active_flag', 'dojang_40plus_flag', 'guild_flag', 'segment_일반 유저', 'level_segment_275-279', 'level_segment_280-284', 'level_segment_285-289', 'level_segment_290+', 'set_combo_group_루타비스 + 앱솔랩스', 'set_combo_group_세트효과 부족/혼합', 'set_combo_group_에테르넬 + 아케인셰이드', 'set_combo_group_에테르넬 + 앱솔랩스', 'set_combo_group_에테르넬 풀셋', 'character_class_나이트워커', 'character_class_다크나이트', 'character_class_데몬슬레이어', 'character_class_데몬어벤져', 'character_class_듀얼블레이더', 'character_class_라라', 'character_class_루미너스', 'character_class_메르세데스', 'character_class_메카닉', 'character_class_미하일', 'character_class_바이퍼', 'character_class_배틀메이지', 'character_class_보우마스터', 'character_class_블래스터', 'character_class_비숍', 'character_class_섀도어', 'character_class_소울마스터', 'character_class_스트라이커', 'character_class_신궁', 'character_class_아델', 'character_class_아란', 'character_class_아크', 'character_class_아크메이지(불,독)', 'character_class_아크메이지(썬,콜)', 'character_class_에반', 'character_class_엔젤릭버스터', 'character_class_와일드헌터', 'character_class_윈드브레이커', 'character_class_은월', 'character_class_일리움', 'character_class_제논', 'character_class_제로', 'character_class_카데나', 'character_class_카이저', 'character_class_카인', 'character_class_칼리', 'character_class_캐논마스터', 'character_class_캡틴', 'character_class_키네시스', 'character_class_팔라딘', 'character_class_패스파인더', 'character_class_팬텀', 'character_class_플레임위자드', 'character_class_호영', 'character_class_히어로', 'world_name_레드', 'world_name_루나', 'world_name_베라', 'world_name_스카니아', 'world_name_아케인', 'world_name_엘리시움', 'world_name_오로라', 'world_name_유니온', 'world_name_이노시스', 'world_name_제니스', 'world_name_크로아']\n"
     ]
    }
   ],
   "source": [
    "X = pd.read_pickle(\"X_for_streamlit.pkl\")\n",
    "print(\"guild_flag\" in X.columns)\n",
    "# 또는\n",
    "print(X.columns.tolist())\n"
   ]
  },
  {
   "cell_type": "code",
   "execution_count": 16,
   "id": "0a6c2933-4991-4b51-bfdb-db1e5ab25554",
   "metadata": {},
   "outputs": [
    {
     "name": "stdout",
     "output_type": "stream",
     "text": [
      "✅ df에 guild_flag 있나? True\n",
      "✅ X에 guild_flag 있나? True\n"
     ]
    }
   ],
   "source": [
    "print(\"✅ df에 guild_flag 있나?\", \"guild_flag\" in df.columns)\n",
    "print(\"✅ X에 guild_flag 있나?\", \"guild_flag\" in X.columns)\n"
   ]
  },
  {
   "cell_type": "code",
   "execution_count": 17,
   "id": "681239aa-8b70-457a-a9b3-1f86baadec88",
   "metadata": {},
   "outputs": [],
   "source": [
    "X_with_ocid = X.copy()\n",
    "X_with_ocid[\"ocid\"] = df[\"ocid\"]  # ✅ 식별자 포함\n",
    "X_with_ocid.to_pickle(\"X_for_streamlit.pkl\")  # 덮어쓰기\n"
   ]
  },
  {
   "cell_type": "code",
   "execution_count": 18,
   "id": "d556ce32-ba27-49c2-86e9-e762a534825f",
   "metadata": {},
   "outputs": [
    {
     "name": "stdout",
     "output_type": "stream",
     "text": [
      "X 컬럼: ['character_level', 'authentic_sum', 'popularity_zscore', 'character_age_days', 'new_user_flag', 'veteran_flag', 'liberation_flag', 'arcane_max_flag', 'dojang_active_flag', 'dojang_40plus_flag', 'guild_flag', 'segment_일반 유저', 'level_segment_275-279', 'level_segment_280-284', 'level_segment_285-289', 'level_segment_290+', 'set_combo_group_루타비스 + 앱솔랩스', 'set_combo_group_세트효과 부족/혼합', 'set_combo_group_에테르넬 + 아케인셰이드', 'set_combo_group_에테르넬 + 앱솔랩스', 'set_combo_group_에테르넬 풀셋', 'character_class_나이트워커', 'character_class_다크나이트', 'character_class_데몬슬레이어', 'character_class_데몬어벤져', 'character_class_듀얼블레이더', 'character_class_라라', 'character_class_루미너스', 'character_class_메르세데스', 'character_class_메카닉', 'character_class_미하일', 'character_class_바이퍼', 'character_class_배틀메이지', 'character_class_보우마스터', 'character_class_블래스터', 'character_class_비숍', 'character_class_섀도어', 'character_class_소울마스터', 'character_class_스트라이커', 'character_class_신궁', 'character_class_아델', 'character_class_아란', 'character_class_아크', 'character_class_아크메이지(불,독)', 'character_class_아크메이지(썬,콜)', 'character_class_에반', 'character_class_엔젤릭버스터', 'character_class_와일드헌터', 'character_class_윈드브레이커', 'character_class_은월', 'character_class_일리움', 'character_class_제논', 'character_class_제로', 'character_class_카데나', 'character_class_카이저', 'character_class_카인', 'character_class_칼리', 'character_class_캐논마스터', 'character_class_캡틴', 'character_class_키네시스', 'character_class_팔라딘', 'character_class_패스파인더', 'character_class_팬텀', 'character_class_플레임위자드', 'character_class_호영', 'character_class_히어로', 'world_name_레드', 'world_name_루나', 'world_name_베라', 'world_name_스카니아', 'world_name_아케인', 'world_name_엘리시움', 'world_name_오로라', 'world_name_유니온', 'world_name_이노시스', 'world_name_제니스', 'world_name_크로아', 'ocid']\n"
     ]
    }
   ],
   "source": [
    "X = pd.read_pickle(\"X_for_streamlit.pkl\")\n",
    "print(\"X 컬럼:\", X.columns.tolist())"
   ]
  }
 ],
 "metadata": {
  "kernelspec": {
   "display_name": "Python 3 (ipykernel)",
   "language": "python",
   "name": "python3"
  },
  "language_info": {
   "codemirror_mode": {
    "name": "ipython",
    "version": 3
   },
   "file_extension": ".py",
   "mimetype": "text/x-python",
   "name": "python",
   "nbconvert_exporter": "python",
   "pygments_lexer": "ipython3",
   "version": "3.12.3"
  }
 },
 "nbformat": 4,
 "nbformat_minor": 5
}
